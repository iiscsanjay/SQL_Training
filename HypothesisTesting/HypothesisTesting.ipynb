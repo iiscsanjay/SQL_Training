{
 "cells": [
  {
   "cell_type": "code",
   "execution_count": 1,
   "id": "3eeed673-d632-4a30-9fee-71f6c9c2fcf0",
   "metadata": {},
   "outputs": [],
   "source": [
    "#!pip3 install statsmodels"
   ]
  },
  {
   "cell_type": "code",
   "execution_count": 4,
   "id": "76d24295-0372-4b48-838e-d5638310c3a3",
   "metadata": {},
   "outputs": [
    {
     "name": "stderr",
     "output_type": "stream",
     "text": [
      "/Users/sanjayk/Library/Python/3.9/lib/python/site-packages/urllib3/__init__.py:34: NotOpenSSLWarning: urllib3 v2 only supports OpenSSL 1.1.1+, currently the 'ssl' module is compiled with 'LibreSSL 2.8.3'. See: https://github.com/urllib3/urllib3/issues/3020\n",
      "  warnings.warn(\n"
     ]
    }
   ],
   "source": [
    "import numpy as np\n",
    "import pandas as pd\n",
    "import seaborn as sns\n",
    "import kaggle\n",
    "import matplotlib.pyplot as plt\n",
    "from scipy import stats\n",
    "from scipy.stats import norm"
   ]
  },
  {
   "cell_type": "markdown",
   "id": "5ffeb72c-0045-4cb1-9ef1-9591c5789261",
   "metadata": {},
   "source": [
    "https://www.analyticsvidhya.com/blog/2020/06/statistics-analytics-hypothesis-testing-z-test-t-test/"
   ]
  },
  {
   "cell_type": "code",
   "execution_count": 2,
   "id": "97800867-8543-4ce7-a8f4-d2d09dfad37c",
   "metadata": {},
   "outputs": [],
   "source": [
    "# Download the data in local directory\n",
    "kaggle.api.authenticate()\n",
    "kaggle.api.dataset_download_files(\"mathchi/diabetes-data-set\", unzip=True) "
   ]
  },
  {
   "cell_type": "code",
   "execution_count": 3,
   "id": "a2055730-7b71-4bea-b37a-a2320bf7d4bf",
   "metadata": {},
   "outputs": [
    {
     "data": {
      "text/html": [
       "<div>\n",
       "<style scoped>\n",
       "    .dataframe tbody tr th:only-of-type {\n",
       "        vertical-align: middle;\n",
       "    }\n",
       "\n",
       "    .dataframe tbody tr th {\n",
       "        vertical-align: top;\n",
       "    }\n",
       "\n",
       "    .dataframe thead th {\n",
       "        text-align: right;\n",
       "    }\n",
       "</style>\n",
       "<table border=\"1\" class=\"dataframe\">\n",
       "  <thead>\n",
       "    <tr style=\"text-align: right;\">\n",
       "      <th></th>\n",
       "      <th>Pregnancies</th>\n",
       "      <th>Glucose</th>\n",
       "      <th>BloodPressure</th>\n",
       "      <th>SkinThickness</th>\n",
       "      <th>Insulin</th>\n",
       "      <th>BMI</th>\n",
       "      <th>DiabetesPedigreeFunction</th>\n",
       "      <th>Age</th>\n",
       "      <th>Outcome</th>\n",
       "    </tr>\n",
       "  </thead>\n",
       "  <tbody>\n",
       "    <tr>\n",
       "      <th>0</th>\n",
       "      <td>6</td>\n",
       "      <td>148</td>\n",
       "      <td>72</td>\n",
       "      <td>35</td>\n",
       "      <td>0</td>\n",
       "      <td>33.6</td>\n",
       "      <td>0.627</td>\n",
       "      <td>50</td>\n",
       "      <td>1</td>\n",
       "    </tr>\n",
       "    <tr>\n",
       "      <th>1</th>\n",
       "      <td>1</td>\n",
       "      <td>85</td>\n",
       "      <td>66</td>\n",
       "      <td>29</td>\n",
       "      <td>0</td>\n",
       "      <td>26.6</td>\n",
       "      <td>0.351</td>\n",
       "      <td>31</td>\n",
       "      <td>0</td>\n",
       "    </tr>\n",
       "    <tr>\n",
       "      <th>2</th>\n",
       "      <td>8</td>\n",
       "      <td>183</td>\n",
       "      <td>64</td>\n",
       "      <td>0</td>\n",
       "      <td>0</td>\n",
       "      <td>23.3</td>\n",
       "      <td>0.672</td>\n",
       "      <td>32</td>\n",
       "      <td>1</td>\n",
       "    </tr>\n",
       "    <tr>\n",
       "      <th>3</th>\n",
       "      <td>1</td>\n",
       "      <td>89</td>\n",
       "      <td>66</td>\n",
       "      <td>23</td>\n",
       "      <td>94</td>\n",
       "      <td>28.1</td>\n",
       "      <td>0.167</td>\n",
       "      <td>21</td>\n",
       "      <td>0</td>\n",
       "    </tr>\n",
       "    <tr>\n",
       "      <th>4</th>\n",
       "      <td>0</td>\n",
       "      <td>137</td>\n",
       "      <td>40</td>\n",
       "      <td>35</td>\n",
       "      <td>168</td>\n",
       "      <td>43.1</td>\n",
       "      <td>2.288</td>\n",
       "      <td>33</td>\n",
       "      <td>1</td>\n",
       "    </tr>\n",
       "  </tbody>\n",
       "</table>\n",
       "</div>"
      ],
      "text/plain": [
       "   Pregnancies  Glucose  BloodPressure  SkinThickness  Insulin   BMI  \\\n",
       "0            6      148             72             35        0  33.6   \n",
       "1            1       85             66             29        0  26.6   \n",
       "2            8      183             64              0        0  23.3   \n",
       "3            1       89             66             23       94  28.1   \n",
       "4            0      137             40             35      168  43.1   \n",
       "\n",
       "   DiabetesPedigreeFunction  Age  Outcome  \n",
       "0                     0.627   50        1  \n",
       "1                     0.351   31        0  \n",
       "2                     0.672   32        1  \n",
       "3                     0.167   21        0  \n",
       "4                     2.288   33        1  "
      ]
     },
     "execution_count": 3,
     "metadata": {},
     "output_type": "execute_result"
    }
   ],
   "source": [
    "df = pd.read_csv('diabetes.csv')\n",
    "df.head()"
   ]
  },
  {
   "cell_type": "code",
   "execution_count": 4,
   "id": "9e009fd6-dc28-456e-93e7-5a783e8b0402",
   "metadata": {},
   "outputs": [
    {
     "name": "stdout",
     "output_type": "stream",
     "text": [
      "Population Count  : 768\n",
      "Sample1 Count  : 100 |  Mean : 122.850 |  Standard Deviation : 32.193 \n",
      "Sample2 Count  : 100 |  Mean : 117.450 |  Standard Deviation : 31.804\n",
      "Sample3 Count  : 100 |  Mean : 121.300 |  Standard Deviation : 29.957\n",
      "Sample4 Count  : 100 |  Mean : 121.850 |  Standard Deviation : 33.675\n"
     ]
    }
   ],
   "source": [
    "sample1  = np.random.randint(0,df.shape[0],100) \n",
    "ds1 =  df.iloc[sample1]\n",
    "sample2  = np.random.randint(0,df.shape[0],100)\n",
    "ds2 =  df.iloc[sample2]\n",
    "sample3  = np.random.randint(0,df.shape[0],100) \n",
    "ds3 =  df.iloc[sample3]\n",
    "sample4  = np.random.randint(0,df.shape[0],100)\n",
    "ds4 =  df.iloc[sample4]\n",
    "\n",
    "print(f'Population Count  : {df.shape[0]}')\n",
    "print(f'Sample1 Count  : {ds1.shape[0]} |  Mean : {ds1.Glucose.mean():0.3f} |  Standard Deviation : {ds1.Glucose.std():0.3f} ')\n",
    "print(f'Sample2 Count  : {ds2.shape[0]} |  Mean : {ds2.Glucose.mean():0.3f} |  Standard Deviation : {ds2.Glucose.std():0.3f}')\n",
    "print(f'Sample3 Count  : {ds3.shape[0]} |  Mean : {ds3.Glucose.mean():0.3f} |  Standard Deviation : {ds3.Glucose.std():0.3f}')\n",
    "print(f'Sample4 Count  : {ds4.shape[0]} |  Mean : {ds4.Glucose.mean():0.3f} |  Standard Deviation : {ds4.Glucose.std():0.3f}')"
   ]
  },
  {
   "cell_type": "code",
   "execution_count": 5,
   "id": "23430bbe-c393-47da-b5dc-182b1c219773",
   "metadata": {},
   "outputs": [
    {
     "data": {
      "text/plain": [
       "<Axes: xlabel='Glucose', ylabel='BloodPressure'>"
      ]
     },
     "execution_count": 5,
     "metadata": {},
     "output_type": "execute_result"
    },
    {
     "data": {
      "image/png": "[encoded data removed]",
      "text/plain": [
       "<Figure size 640x480 with 1 Axes>"
      ]
     },
     "metadata": {},
     "output_type": "display_data"
    }
   ],
   "source": [
    "sns.lineplot(data=df, x = 'Glucose' , y = 'BloodPressure')\n",
    "#sns.pairplot(data=df)"
   ]
  },
  {
   "cell_type": "markdown",
   "id": "ef00b62f-76f6-43ba-9897-46c9bf9c20bf",
   "metadata": {},
   "source": [
    "#### Significant Value : alpha\n",
    "    - 1 % level of significance : 0.01\n",
    "    - 5 % level of significance : 0.05\n",
    "    - 10 % level of significance : 0.1"
   ]
  },
  {
   "cell_type": "markdown",
   "id": "bd2cd067-88a8-4ed5-af06-ea7145faf3ff",
   "metadata": {},
   "source": [
    "Hypothesis Testing : \n",
    "    - Null Hypothesis\n",
    "    - Alternative Hypothesis\n",
    "\n",
    "\"Are the Glucose and Blood Pressure bound to each other?\" True/False \n",
    "\"Lower Education people are the among less diabetic people?\" True/False"
   ]
  },
  {
   "cell_type": "markdown",
   "id": "8774bc83-f64b-4861-bba8-efdd90ee70cd",
   "metadata": {},
   "source": [
    "#### Null hypothesis: H0\n",
    "-     Everyone with high glucose levels will also have high blood pressure\n",
    "-     There is no significance found from the population s = 0.0005 to 0.01\n",
    "\n",
    "#### Alternate hypothesis: H1\n",
    "-    \"Everyone with high glucose levels will not have high blood pressure\""
   ]
  },
  {
   "cell_type": "code",
   "execution_count": 6,
   "id": "c3ee5e14-62e3-46fe-8175-3f2451fc723e",
   "metadata": {},
   "outputs": [],
   "source": [
    "from sklearn.feature_selection import chi2\n",
    "from scipy.stats import chisquare, chi2_contingency \n",
    "\n",
    "## Stastical test\n",
    "\n",
    "# setting significance to 0.05 #threshould\n",
    "alpha = 0.05 \n",
    "\n",
    "def check_ChiSquareAnalysis(var1, var2, significance_level=alpha):\n",
    "    tab_class = pd.crosstab(df[var1], df[var2], margins=True)\n",
    "    tab_values = np.array([tab_class.iloc[0].values, tab_class.iloc[1].values])\n",
    "    \n",
    "    stat, p, dof, expected_value = chi2_contingency(tab_values)\n",
    "    \n",
    "    print(f\"p value: {p}\") \n",
    "    \n",
    "    if p > significance_level: \n",
    "        print('Accept Null Hypothesis')\n",
    "        #print('Reject Alternate Hypothesis')\n",
    "    else:\n",
    "        #print('Reject NULL HYPOTHESIS') \n",
    "        print('Accept Alternative hypothesis')\n",
    "   "
   ]
  },
  {
   "cell_type": "code",
   "execution_count": 7,
   "id": "4a832012-25f3-4244-b182-88d8708f844c",
   "metadata": {},
   "outputs": [
    {
     "data": {
      "text/plain": [
       "Chi2ContingencyResult(statistic=0.6000000000000001, pvalue=0.7408182206817179, dof=2, expected_freq=array([[3.33333333, 1.66666667, 5.        ],\n",
       "       [0.66666667, 0.33333333, 1.        ]]))"
      ]
     },
     "execution_count": 7,
     "metadata": {},
     "output_type": "execute_result"
    }
   ],
   "source": [
    "tab_class = pd.crosstab(df['Glucose'], df['Outcome'],margins=True)\n",
    "tab_values = np.array([tab_class.iloc[0].values, tab_class.iloc[1].values])\n",
    "chi2_contingency(tab_values)"
   ]
  },
  {
   "cell_type": "code",
   "execution_count": 8,
   "id": "d7ac62cc-949a-4151-a06c-bc1e2bf2d4ad",
   "metadata": {},
   "outputs": [
    {
     "name": "stdout",
     "output_type": "stream",
     "text": [
      "p value: 0.7408182206817179\n",
      "Accept Null Hypothesis\n",
      "p value: 0.6627028552221849\n",
      "Accept Null Hypothesis\n"
     ]
    }
   ],
   "source": [
    "check_ChiSquareAnalysis('Glucose', 'Outcome')\n",
    "check_ChiSquareAnalysis('BloodPressure', 'Outcome')"
   ]
  },
  {
   "cell_type": "markdown",
   "id": "a0e9781f-d864-4210-a19d-8e77209e940a",
   "metadata": {},
   "source": [
    "### When to perform one-tail test or two-tail test, Choose two-tailed or one-tailed ? \n",
    "\n",
    "#### Two-tail Test\n",
    "   * Two-tailed tests are used when the alternative hypothesis is non-directional.\n",
    "   * A non-directional hypothesis states that a population parameter (such as a mean or regression coefficient) does not equal a certain value (such as 0). Two-tailed tests are appropriate for most studies.\n",
    "   * If you’re calculating a confidence interval, choose two-tailed.\n",
    "\n",
    "https://www.jmp.com/en_in/statistics-knowledge-portal/t-test/two-sample-t-test.html\n",
    "\n",
    "#### One-tail Test\n",
    "\n",
    "   * One-tailed tests are used when the alternative hypothesis is directional.\n",
    "   * A directional hypothesis states that a population parameter is greater than or less than a certain value.\n",
    "   * Your alternative hypothesis is directional if it includes words such as “greater than,” “less than,” “increases,” “decreases,” or the “<” or “>” sign. If it doesn’t include these (or similar), it is probably non-directional.\n",
    "\n",
    "\n",
    "https://www.jmp.com/en_in/statistics-knowledge-portal/t-test/one-sample-t-test.html"
   ]
  },
  {
   "cell_type": "markdown",
   "id": "888d22ad-3c4c-4123-b3e8-e79a0b6f3f1b",
   "metadata": {},
   "source": [
    "### One-Sample Test / One-tail Test"
   ]
  },
  {
   "cell_type": "code",
   "execution_count": 9,
   "id": "54b28587-5081-419f-a008-f13e37cc713b",
   "metadata": {},
   "outputs": [],
   "source": [
    "#energy bar 20gm bar details\n",
    "barList = [20.70, 27.46, 22.15, 19.85, 21.29, 24.75, 20.75, 22.91, 25.34, 20.33, 21.54, 21.08, 22.14, 19.56, 21.10, 18.04, 24.12, 19.95, 19.72, 18.28, 16.26, 17.46, 20.53, 22.12, 25.06, 22.44, 19.08, 19.88,21.39, 22.33, 25.79]"
   ]
  },
  {
   "cell_type": "code",
   "execution_count": 10,
   "id": "1c3dd619-83d2-4033-b2b6-3be7e5a54866",
   "metadata": {},
   "outputs": [],
   "source": [
    "barArray = np.array(barList)"
   ]
  },
  {
   "cell_type": "code",
   "execution_count": 11,
   "id": "02f3fc74-fd71-40e6-a4eb-28d5e1839335",
   "metadata": {},
   "outputs": [
    {
     "data": {
      "text/plain": [
       "0    20.70\n",
       "1    27.46\n",
       "2    22.15\n",
       "3    19.85\n",
       "4    21.29\n",
       "dtype: float64"
      ]
     },
     "execution_count": 11,
     "metadata": {},
     "output_type": "execute_result"
    }
   ],
   "source": [
    "df = pd.Series(barList)\n",
    "df.head()"
   ]
  },
  {
   "cell_type": "code",
   "execution_count": 12,
   "id": "004c84b5-c842-4c4c-89c2-962b8fd1e723",
   "metadata": {
    "scrolled": true
   },
   "outputs": [
    {
     "name": "stdout",
     "output_type": "stream",
     "text": [
      "Mean           : 21.4000\n",
      "Standard Dev.  : 2.5417\n",
      "Upper 95% Mean : 22.2947\n",
      "Lower 95% Mean : 20.5053\n",
      "N              : 31\n"
     ]
    }
   ],
   "source": [
    "U95 = df.mean() + 1.96 * df.std()  / np.sqrt(df.count())\n",
    "L95 = df.mean() - 1.96 * df.std()  / np.sqrt(df.count())\n",
    "print(f'Mean           : {df.mean():0.4f}')\n",
    "print(f'Standard Dev.  : {df.std():0.4f}')\n",
    "print(f'Upper 95% Mean : {U95:0.4f}')\n",
    "print(f'Lower 95% Mean : {L95:0.4f}')\n",
    "print(f'N              : {df.count()}')"
   ]
  },
  {
   "cell_type": "code",
   "execution_count": 13,
   "id": "957b9e66-7037-464e-aeec-b2b10cda5292",
   "metadata": {},
   "outputs": [
    {
     "name": "stdout",
     "output_type": "stream",
     "text": [
      "One-Sample Test Value : 3.0668\n",
      "Degree of Freedom     : 30\n"
     ]
    }
   ],
   "source": [
    "# Computation for One-Sample test\n",
    "alpha = 0.05\n",
    "mu = 20 # Comparing with constant value\n",
    "xbar = df.mean()\n",
    "std = df.std()\n",
    "n = df.count()\n",
    "dof = n -1 \n",
    "one_t_test = (xbar - mu ) / (std / np.sqrt(n))\n",
    "print(f'One-Sample Test Value : {one_t_test:0.4f}')\n",
    "print(f'Degree of Freedom     : {dof}')"
   ]
  },
  {
   "cell_type": "markdown",
   "id": "1d106ab4-0a2d-4d1c-85b5-6052e3f2593d",
   "metadata": {},
   "source": [
    "In Statistics hypothesis testing, we need to judge whether it is a one-tailed or a two-tailed test so that we can find the critical values in tables such as Standard Normal z Distribution Table and\n",
    "t Distribution Table. And then, by comparing the test statistic value with the critical value or\n",
    "whether statistic value falls in the critical region, we conclude either to reject the null\n",
    "hypothesis or to fail to reject the null hypothesis."
   ]
  },
  {
   "cell_type": "code",
   "execution_count": 14,
   "id": "84fea9de-3940-4186-830f-db2003dc0468",
   "metadata": {},
   "outputs": [
    {
     "name": "stdout",
     "output_type": "stream",
     "text": [
      "Critical value is  : 2.0423\n",
      "Reject Null Hypothesis\n"
     ]
    }
   ],
   "source": [
    "# T- tests : left-tail: alpha\n",
    "# T- tests : right-tail: 1-alpha\n",
    "# T- tests : two-tail: 1-alpha/2; we are using two tail test because we are checking the bar value to constant value 20.\n",
    "critical_value = stats.t.ppf(q=1-alpha/2,df=dof)\n",
    "print(f'Critical value is  : {critical_value:0.04f}')\n",
    "if one_t_test > critical_value: \n",
    "    print('Reject Null Hypothesis')\n",
    "else:\n",
    "    print('Accept Null Hypothesis')"
   ]
  },
  {
   "cell_type": "code",
   "execution_count": 15,
   "id": "a43959d7-b5a4-4e90-aaf7-825d5463ae4b",
   "metadata": {},
   "outputs": [],
   "source": [
    "### Two-Sample Test / Two-tails Test"
   ]
  },
  {
   "cell_type": "code",
   "execution_count": 16,
   "id": "7ed7edc6-9ca7-4820-b099-f1feddc37720",
   "metadata": {},
   "outputs": [],
   "source": [
    "mList = [13.3, 6.0, 20.0, 8.0, 14.0, 19.0,\t18.0,\t25.0,\t16.0,\t24.0, 15.0,\t1.0, 15.0]\n",
    "fList = [22.0,\t16.0,\t21.7,\t21.0,\t30.0,26.0,\t12.0,\t23.2,\t28.0,\t23.0]"
   ]
  },
  {
   "cell_type": "code",
   "execution_count": 17,
   "id": "626a5e86-c442-44d5-92c6-7e5d7f0d6bdd",
   "metadata": {},
   "outputs": [],
   "source": [
    "mArray = pd.Series(mList)\n",
    "fArray = pd.Series(fList)"
   ]
  },
  {
   "cell_type": "code",
   "execution_count": 18,
   "id": "4396f33d-4a0b-4a39-9ebf-45547a7902f9",
   "metadata": {},
   "outputs": [
    {
     "data": {
      "text/plain": [
       "0     13.3\n",
       "1      6.0\n",
       "2     20.0\n",
       "3      8.0\n",
       "4     14.0\n",
       "5     19.0\n",
       "6     18.0\n",
       "7     25.0\n",
       "8     16.0\n",
       "9     24.0\n",
       "10    15.0\n",
       "11     1.0\n",
       "12    15.0\n",
       "dtype: float64"
      ]
     },
     "execution_count": 18,
     "metadata": {},
     "output_type": "execute_result"
    }
   ],
   "source": [
    "mArray"
   ]
  },
  {
   "cell_type": "code",
   "execution_count": 19,
   "id": "eec44371-c8c0-4977-8cea-552f26d8f303",
   "metadata": {},
   "outputs": [
    {
     "data": {
      "text/html": [
       "<div>\n",
       "<style scoped>\n",
       "    .dataframe tbody tr th:only-of-type {\n",
       "        vertical-align: middle;\n",
       "    }\n",
       "\n",
       "    .dataframe tbody tr th {\n",
       "        vertical-align: top;\n",
       "    }\n",
       "\n",
       "    .dataframe thead th {\n",
       "        text-align: right;\n",
       "    }\n",
       "</style>\n",
       "<table border=\"1\" class=\"dataframe\">\n",
       "  <thead>\n",
       "    <tr style=\"text-align: right;\">\n",
       "      <th></th>\n",
       "      <th>0</th>\n",
       "      <th>1</th>\n",
       "    </tr>\n",
       "  </thead>\n",
       "  <tbody>\n",
       "    <tr>\n",
       "      <th>0</th>\n",
       "      <td>13.3</td>\n",
       "      <td>22.0</td>\n",
       "    </tr>\n",
       "    <tr>\n",
       "      <th>1</th>\n",
       "      <td>6.0</td>\n",
       "      <td>16.0</td>\n",
       "    </tr>\n",
       "    <tr>\n",
       "      <th>2</th>\n",
       "      <td>20.0</td>\n",
       "      <td>21.7</td>\n",
       "    </tr>\n",
       "    <tr>\n",
       "      <th>3</th>\n",
       "      <td>8.0</td>\n",
       "      <td>21.0</td>\n",
       "    </tr>\n",
       "    <tr>\n",
       "      <th>4</th>\n",
       "      <td>14.0</td>\n",
       "      <td>30.0</td>\n",
       "    </tr>\n",
       "  </tbody>\n",
       "</table>\n",
       "</div>"
      ],
      "text/plain": [
       "      0     1\n",
       "0  13.3  22.0\n",
       "1   6.0  16.0\n",
       "2  20.0  21.7\n",
       "3   8.0  21.0\n",
       "4  14.0  30.0"
      ]
     },
     "execution_count": 19,
     "metadata": {},
     "output_type": "execute_result"
    }
   ],
   "source": [
    "df3 = pd.concat([mArray, fArray],axis=1)\n",
    "df3.head()"
   ]
  },
  {
   "cell_type": "code",
   "execution_count": 20,
   "id": "b1d86981-b1c2-47d4-987d-b278299b8bbd",
   "metadata": {},
   "outputs": [
    {
     "data": {
      "text/html": [
       "<div>\n",
       "<style scoped>\n",
       "    .dataframe tbody tr th:only-of-type {\n",
       "        vertical-align: middle;\n",
       "    }\n",
       "\n",
       "    .dataframe tbody tr th {\n",
       "        vertical-align: top;\n",
       "    }\n",
       "\n",
       "    .dataframe thead th {\n",
       "        text-align: right;\n",
       "    }\n",
       "</style>\n",
       "<table border=\"1\" class=\"dataframe\">\n",
       "  <thead>\n",
       "    <tr style=\"text-align: right;\">\n",
       "      <th></th>\n",
       "      <th>Men</th>\n",
       "      <th>Women</th>\n",
       "    </tr>\n",
       "  </thead>\n",
       "  <tbody>\n",
       "    <tr>\n",
       "      <th>0</th>\n",
       "      <td>13.3</td>\n",
       "      <td>22.0</td>\n",
       "    </tr>\n",
       "    <tr>\n",
       "      <th>1</th>\n",
       "      <td>6.0</td>\n",
       "      <td>16.0</td>\n",
       "    </tr>\n",
       "    <tr>\n",
       "      <th>2</th>\n",
       "      <td>20.0</td>\n",
       "      <td>21.7</td>\n",
       "    </tr>\n",
       "    <tr>\n",
       "      <th>3</th>\n",
       "      <td>8.0</td>\n",
       "      <td>21.0</td>\n",
       "    </tr>\n",
       "    <tr>\n",
       "      <th>4</th>\n",
       "      <td>14.0</td>\n",
       "      <td>30.0</td>\n",
       "    </tr>\n",
       "    <tr>\n",
       "      <th>5</th>\n",
       "      <td>19.0</td>\n",
       "      <td>26.0</td>\n",
       "    </tr>\n",
       "    <tr>\n",
       "      <th>6</th>\n",
       "      <td>18.0</td>\n",
       "      <td>12.0</td>\n",
       "    </tr>\n",
       "    <tr>\n",
       "      <th>7</th>\n",
       "      <td>25.0</td>\n",
       "      <td>23.2</td>\n",
       "    </tr>\n",
       "    <tr>\n",
       "      <th>8</th>\n",
       "      <td>16.0</td>\n",
       "      <td>28.0</td>\n",
       "    </tr>\n",
       "    <tr>\n",
       "      <th>9</th>\n",
       "      <td>24.0</td>\n",
       "      <td>23.0</td>\n",
       "    </tr>\n",
       "    <tr>\n",
       "      <th>10</th>\n",
       "      <td>15.0</td>\n",
       "      <td>NaN</td>\n",
       "    </tr>\n",
       "    <tr>\n",
       "      <th>11</th>\n",
       "      <td>1.0</td>\n",
       "      <td>NaN</td>\n",
       "    </tr>\n",
       "    <tr>\n",
       "      <th>12</th>\n",
       "      <td>15.0</td>\n",
       "      <td>NaN</td>\n",
       "    </tr>\n",
       "  </tbody>\n",
       "</table>\n",
       "</div>"
      ],
      "text/plain": [
       "     Men  Women\n",
       "0   13.3   22.0\n",
       "1    6.0   16.0\n",
       "2   20.0   21.7\n",
       "3    8.0   21.0\n",
       "4   14.0   30.0\n",
       "5   19.0   26.0\n",
       "6   18.0   12.0\n",
       "7   25.0   23.2\n",
       "8   16.0   28.0\n",
       "9   24.0   23.0\n",
       "10  15.0    NaN\n",
       "11   1.0    NaN\n",
       "12  15.0    NaN"
      ]
     },
     "execution_count": 20,
     "metadata": {},
     "output_type": "execute_result"
    }
   ],
   "source": [
    "df3.columns = [ 'Men', 'Women']\n",
    "df3"
   ]
  },
  {
   "cell_type": "code",
   "execution_count": 21,
   "id": "23a222f0-80a2-49df-ad36-46f4999586d3",
   "metadata": {},
   "outputs": [
    {
     "data": {
      "text/plain": [
       "<seaborn.axisgrid.FacetGrid at 0x1663c6250>"
      ]
     },
     "execution_count": 21,
     "metadata": {},
     "output_type": "execute_result"
    },
    {
     "data": {
      "image/png": "[encoded data removed]",
      "text/plain": [
       "<Figure size 500x500 with 1 Axes>"
      ]
     },
     "metadata": {},
     "output_type": "display_data"
    }
   ],
   "source": [
    "sns.displot(data=df3,x='Men')"
   ]
  },
  {
   "cell_type": "code",
   "execution_count": 22,
   "id": "53406a60-4345-47e9-ac82-50e8c16c691d",
   "metadata": {},
   "outputs": [
    {
     "data": {
      "text/plain": [
       "<seaborn.axisgrid.FacetGrid at 0x1677f6400>"
      ]
     },
     "execution_count": 22,
     "metadata": {},
     "output_type": "execute_result"
    },
    {
     "data": {
      "image/png": "[encoded data removed]",
      "text/plain": [
       "<Figure size 500x500 with 1 Axes>"
      ]
     },
     "metadata": {},
     "output_type": "display_data"
    }
   ],
   "source": [
    "sns.displot(data=df3,x='Women')"
   ]
  },
  {
   "cell_type": "code",
   "execution_count": 23,
   "id": "179a8c50-f47b-4744-b175-c01a0164e4a0",
   "metadata": {},
   "outputs": [
    {
     "name": "stdout",
     "output_type": "stream",
     "text": [
      "Mean           : 14.9462\n",
      "Standard Dev.  : 6.8426\n",
      "Upper 95% Mean : 18.6658\n",
      "Lower 95% Mean : 11.2265\n",
      "N              : 13\n"
     ]
    }
   ],
   "source": [
    "U95 = df3.Men.mean() + 1.96 * df3.Men.std()  / np.sqrt(df3.Men.count())\n",
    "L95 = df3.Men.mean() - 1.96 * df3.Men.std()  / np.sqrt(df3.Men.count())\n",
    "print(f'Mean           : {df3.Men.mean():0.4f}')\n",
    "print(f'Standard Dev.  : {df3.Men.std():0.4f}')\n",
    "print(f'Upper 95% Mean : {U95:0.4f}')\n",
    "print(f'Lower 95% Mean : {L95:0.4f}')\n",
    "print(f'N              : {df3.Men.count()}')"
   ]
  },
  {
   "cell_type": "code",
   "execution_count": 24,
   "id": "0b417aad-4e6a-47c4-b627-8761f214abeb",
   "metadata": {},
   "outputs": [
    {
     "name": "stdout",
     "output_type": "stream",
     "text": [
      "Mean           : 22.2900\n",
      "Standard Dev.  : 5.3197\n",
      "Upper 95% Mean : 25.5872\n",
      "Lower 95% Mean : 18.9928\n",
      "N              : 10\n"
     ]
    }
   ],
   "source": [
    "U95 = df3.Women.mean() + 1.96 * df3.Women.std()  / np.sqrt(df3.Women.count())\n",
    "L95 = df3.Women.mean() - 1.96 * df3.Women.std()  / np.sqrt(df3.Women.count())\n",
    "print(f'Mean           : {df3.Women.mean():0.4f}')\n",
    "print(f'Standard Dev.  : {df3.Women.std():0.4f}')\n",
    "print(f'Upper 95% Mean : {U95:0.4f}')\n",
    "print(f'Lower 95% Mean : {L95:0.4f}')\n",
    "print(f'N              : {df3.Women.count()}')"
   ]
  },
  {
   "cell_type": "markdown",
   "id": "383ca50f-1b1f-4877-bb75-943a69a25500",
   "metadata": {},
   "source": [
    "#### Null Hypothesis\n",
    "Ho : μ1 = μ2   => Body fat mean is same for both men and woman\n",
    "\n",
    "#### Alternate Hypothesis\n",
    "The alternative hypothesis is that the means are not equal. This is written as:\n",
    "\n",
    "H1 : μ1 ≠ μ2"
   ]
  },
  {
   "cell_type": "code",
   "execution_count": 25,
   "id": "dd0a3ec2-360c-4b47-8a52-e6a9742df778",
   "metadata": {},
   "outputs": [
    {
     "data": {
      "text/plain": [
       "7.343846153846153"
      ]
     },
     "execution_count": 25,
     "metadata": {},
     "output_type": "execute_result"
    }
   ],
   "source": [
    "#We calculate the average for each group, and then calculate the difference between the two averages. This is written as:\n",
    "m1 = df3.Women.mean()\n",
    "m2 = df3.Men.mean()\n",
    "n1 = df3.Women.count()\n",
    "n2 = df3.Men.count()\n",
    "s1 = df3.Women.std()\n",
    "s2 = df3.Men.std()\n",
    "difference = m1 - m2 \n",
    "difference"
   ]
  },
  {
   "cell_type": "code",
   "execution_count": 26,
   "id": "c6364ae5-4bd1-4df0-9975-ccbcb6e4a457",
   "metadata": {},
   "outputs": [
    {
     "data": {
      "text/plain": [
       "5.319659554687478"
      ]
     },
     "execution_count": 26,
     "metadata": {},
     "output_type": "execute_result"
    }
   ],
   "source": [
    "s1"
   ]
  },
  {
   "cell_type": "code",
   "execution_count": 27,
   "id": "42285503-7174-47ae-8a4d-561fb510681b",
   "metadata": {},
   "outputs": [
    {
     "data": {
      "text/plain": [
       "6.842589103623397"
      ]
     },
     "execution_count": 27,
     "metadata": {},
     "output_type": "execute_result"
    }
   ],
   "source": [
    "s2"
   ]
  },
  {
   "cell_type": "code",
   "execution_count": 28,
   "id": "db70e1e6-e452-4d1b-829a-b2bd9138f52b",
   "metadata": {},
   "outputs": [
    {
     "name": "stdout",
     "output_type": "stream",
     "text": [
      "Sp  : 6.235617003466411\n",
      "Dof : 21\n"
     ]
    }
   ],
   "source": [
    "sp = np.sqrt((((n1-1)*s1**2) + ((n2-1)*s2**2)) / (n1+n2-2))\n",
    "dof = n1 + n2 - 2\n",
    "print(f'Sp  : {sp}')\n",
    "print(f'Dof : {dof}')"
   ]
  },
  {
   "cell_type": "code",
   "execution_count": 29,
   "id": "74c6f3fb-7bcd-4740-b21b-fbd716d1529a",
   "metadata": {},
   "outputs": [
    {
     "data": {
      "text/plain": [
       "2.7999604428329192"
      ]
     },
     "execution_count": 29,
     "metadata": {},
     "output_type": "execute_result"
    }
   ],
   "source": [
    "two_tail_t_test = (m1-m2) / (sp * np.sqrt(1/n1 + 1/n2))\n",
    "two_tail_t_test"
   ]
  },
  {
   "cell_type": "code",
   "execution_count": 30,
   "id": "8ece44b5-1113-4e04-b129-dcdd71bdac54",
   "metadata": {},
   "outputs": [
    {
     "name": "stdout",
     "output_type": "stream",
     "text": [
      "Critical value is  : 2.0796\n",
      "Reject Null Hypothesis\n"
     ]
    }
   ],
   "source": [
    "# T- tests : left-tail: alpha\n",
    "# T- tests : right-tail: 1-alpha\n",
    "# T- tests : two-tail: 1-alpha/2; we are using two tail test because we are checking the bar value to constant value 20.\n",
    "critical_value = stats.t.ppf(q=1-alpha/2,df=dof)\n",
    "print(f'Critical value is  : {critical_value:0.04f}')\n",
    "if two_tail_t_test > critical_value: \n",
    "    print('Reject Null Hypothesis')\n",
    "else:\n",
    "    print('Accept Null Hypothesis')"
   ]
  },
  {
   "cell_type": "markdown",
   "id": "ca103b78-5a39-47c5-80e0-645601bf6660",
   "metadata": {},
   "source": [
    "#### Z-Test\n",
    "\n",
    "##### One Sample Z-Test\n",
    "\n",
    "         z-test = meanSample - meanPopu  / (PopulationStd / np.sqrt(n))\n",
    "\n",
    "\n",
    "##### Two Sample Z-test\n",
    "\n",
    "         z-test = (difference in mean of samples ) -  (difference in Population Mean)  /  np.sqrt((s1**2 / n1) + (s2**2/n2))\n",
    "        "
   ]
  },
  {
   "cell_type": "code",
   "execution_count": 31,
   "id": "a1b6774e-db7b-4de3-a50b-3244251901ab",
   "metadata": {},
   "outputs": [],
   "source": [
    "#help(norm)"
   ]
  },
  {
   "cell_type": "code",
   "execution_count": 32,
   "id": "97a3cf1c-371e-4c51-b192-fec2a04e2d66",
   "metadata": {},
   "outputs": [],
   "source": [
    "#critical_value = stats.t.ppf(q=1-alpha/2,df=dof)\n",
    "#print(f'Critical value is  : {critical_value:0.04f}')"
   ]
  },
  {
   "cell_type": "code",
   "execution_count": 33,
   "id": "09e2b3b8-5bf2-4410-9d14-8c9fb0063dcf",
   "metadata": {},
   "outputs": [
    {
     "data": {
      "text/plain": [
       "0.03335669611796731"
      ]
     },
     "execution_count": 33,
     "metadata": {},
     "output_type": "execute_result"
    }
   ],
   "source": [
    "# Calculate the p-value for a z-score by computing norm with Survival function\n",
    "p_value = norm.sf(abs(1.8336))\n",
    "p_value"
   ]
  },
  {
   "cell_type": "markdown",
   "id": "30a02af8-7c94-4f2b-a10c-3bd8b4669f99",
   "metadata": {},
   "source": [
    "In Z-test, Critical Values are fixed.\n",
    "\n",
    "    \n",
    "-    Significance Level\tType of Test\tCritical Value(s)\n",
    "- 0.01\tTwo-Tailed\t±2.576\n",
    "- 0.01\tLeft Tail\t–2.326\n",
    "- 0.01\tRight Tail\t+2.326\n",
    "- 0.05\tTwo-Tailed\t±1.960\n",
    "- 0.05\tLeft Tail\t+1.650\n",
    "- 0.05\tRight Tail\t–1.650\n",
    "\n",
    "https://statisticsbyjim.com/hypothesis-testing/z-test/"
   ]
  },
  {
   "cell_type": "markdown",
   "id": "fb87b03c-95ba-4d90-94a0-2151b5cb8d0d",
   "metadata": {},
   "source": [
    "### Annova Test"
   ]
  },
  {
   "cell_type": "code",
   "execution_count": 34,
   "id": "f93d780e-5383-40b2-93dc-71cd18a83a94",
   "metadata": {},
   "outputs": [],
   "source": [
    "#### One way Annova Test"
   ]
  },
  {
   "cell_type": "markdown",
   "id": "03c72b2d-acd3-4f15-829a-614c01eeded9",
   "metadata": {},
   "source": [
    "https://www.geeksforgeeks.org/how-to-perform-a-one-way-anova-in-python/"
   ]
  },
  {
   "cell_type": "code",
   "execution_count": 35,
   "id": "ce386b7c-3aa1-4c24-9da9-0902a8a398af",
   "metadata": {},
   "outputs": [],
   "source": [
    "alpha = 0.05"
   ]
  },
  {
   "cell_type": "code",
   "execution_count": 36,
   "id": "45359917-a090-4f7f-a707-cc021250c0ec",
   "metadata": {},
   "outputs": [],
   "source": [
    "# Performance when each of the engine \n",
    "# oil is applied\n",
    "performance1 = [89, 89, 88, 78, 79]\n",
    "performance2 = [93, 92, 94, 89, 88]\n",
    "performance3 = [89, 88, 89, 93, 90]\n",
    "performance4 = [81, 78, 81, 92, 82]"
   ]
  },
  {
   "cell_type": "code",
   "execution_count": 37,
   "id": "a6074af9-4513-4bf0-8507-78ef1ebab696",
   "metadata": {},
   "outputs": [
    {
     "name": "stdout",
     "output_type": "stream",
     "text": [
      "F-Statistic : 4.6250\n",
      "P-Value     : 0.0163\n"
     ]
    }
   ],
   "source": [
    "# Conduct the one-way ANOVA\n",
    "values = stats.f_oneway(performance1, performance2, performance3, performance4)\n",
    "print(f'F-Statistic : {values.statistic:0.4f}')\n",
    "print(f'P-Value     : {values.pvalue:0.4f}')"
   ]
  },
  {
   "cell_type": "markdown",
   "id": "3b2295cd-4521-47ae-9c8c-79ef590490b7",
   "metadata": {},
   "source": [
    "The F statistic and p-value turn out to be equal to 4.625 and 0.016336498 respectively. \n",
    "Since the p-value is less than 0.05 hence we would reject the null hypothesis.\n",
    "This implies that we have sufficient proof to say that there exists a difference \n",
    "in the performance among four different engine oils. "
   ]
  },
  {
   "cell_type": "code",
   "execution_count": 38,
   "id": "0e0b88a5-bff1-4af4-a69e-905da5e63c0e",
   "metadata": {},
   "outputs": [],
   "source": [
    "#### Two way Annova Test"
   ]
  },
  {
   "cell_type": "code",
   "execution_count": 39,
   "id": "2ddd1bac-2ee6-46a9-b9e2-83394310226a",
   "metadata": {},
   "outputs": [],
   "source": [
    "# Create a dataframe \n",
    "df = pd.DataFrame({'Fertilizer': np.repeat(['daily', 'weekly'], 15), \n",
    "                          'Watering': np.repeat(['daily', 'weekly'], 15), \n",
    "                          'height': [14, 16, 15, 15, 16, 13, 12, 11, 14,  \n",
    "                                     15, 16, 16, 17, 18, 14, 13, 14, 14,  \n",
    "                                     14, 15, 16, 16, 17, 18, 14, 13, 14,  \n",
    "                                     14, 14, 15]})"
   ]
  },
  {
   "cell_type": "code",
   "execution_count": 40,
   "id": "88435155-ad25-4093-b6ad-aa29252e58db",
   "metadata": {},
   "outputs": [
    {
     "data": {
      "text/html": [
       "<div>\n",
       "<style scoped>\n",
       "    .dataframe tbody tr th:only-of-type {\n",
       "        vertical-align: middle;\n",
       "    }\n",
       "\n",
       "    .dataframe tbody tr th {\n",
       "        vertical-align: top;\n",
       "    }\n",
       "\n",
       "    .dataframe thead th {\n",
       "        text-align: right;\n",
       "    }\n",
       "</style>\n",
       "<table border=\"1\" class=\"dataframe\">\n",
       "  <thead>\n",
       "    <tr style=\"text-align: right;\">\n",
       "      <th></th>\n",
       "      <th>Fertilizer</th>\n",
       "      <th>Watering</th>\n",
       "      <th>height</th>\n",
       "    </tr>\n",
       "  </thead>\n",
       "  <tbody>\n",
       "    <tr>\n",
       "      <th>0</th>\n",
       "      <td>daily</td>\n",
       "      <td>daily</td>\n",
       "      <td>14</td>\n",
       "    </tr>\n",
       "    <tr>\n",
       "      <th>1</th>\n",
       "      <td>daily</td>\n",
       "      <td>daily</td>\n",
       "      <td>16</td>\n",
       "    </tr>\n",
       "    <tr>\n",
       "      <th>2</th>\n",
       "      <td>daily</td>\n",
       "      <td>daily</td>\n",
       "      <td>15</td>\n",
       "    </tr>\n",
       "    <tr>\n",
       "      <th>3</th>\n",
       "      <td>daily</td>\n",
       "      <td>daily</td>\n",
       "      <td>15</td>\n",
       "    </tr>\n",
       "    <tr>\n",
       "      <th>4</th>\n",
       "      <td>daily</td>\n",
       "      <td>daily</td>\n",
       "      <td>16</td>\n",
       "    </tr>\n",
       "  </tbody>\n",
       "</table>\n",
       "</div>"
      ],
      "text/plain": [
       "  Fertilizer Watering  height\n",
       "0      daily    daily      14\n",
       "1      daily    daily      16\n",
       "2      daily    daily      15\n",
       "3      daily    daily      15\n",
       "4      daily    daily      16"
      ]
     },
     "execution_count": 40,
     "metadata": {},
     "output_type": "execute_result"
    }
   ],
   "source": [
    "df.head()"
   ]
  },
  {
   "cell_type": "code",
   "execution_count": 41,
   "id": "ceb0ea78-991a-44d9-989e-4aa701044125",
   "metadata": {},
   "outputs": [
    {
     "name": "stdout",
     "output_type": "stream",
     "text": [
      "   Fertilizer Watering  height\n",
      "0       daily    daily      14\n",
      "1       daily    daily      16\n",
      "2       daily    daily      15\n",
      "3       daily    daily      15\n",
      "4       daily    daily      16\n",
      "5       daily    daily      13\n",
      "6       daily    daily      12\n",
      "7       daily    daily      11\n",
      "8       daily    daily      14\n",
      "9       daily    daily      15\n",
      "10      daily    daily      16\n",
      "11      daily    daily      16\n",
      "12      daily    daily      17\n",
      "13      daily    daily      18\n",
      "14      daily    daily      14\n",
      "15     weekly   weekly      13\n",
      "16     weekly   weekly      14\n",
      "17     weekly   weekly      14\n",
      "18     weekly   weekly      14\n",
      "19     weekly   weekly      15\n",
      "20     weekly   weekly      16\n",
      "21     weekly   weekly      16\n",
      "22     weekly   weekly      17\n",
      "23     weekly   weekly      18\n",
      "24     weekly   weekly      14\n",
      "25     weekly   weekly      13\n",
      "26     weekly   weekly      14\n",
      "27     weekly   weekly      14\n",
      "28     weekly   weekly      14\n",
      "29     weekly   weekly      15\n"
     ]
    }
   ],
   "source": [
    "print(df.to_string())"
   ]
  },
  {
   "cell_type": "code",
   "execution_count": 42,
   "id": "9cc4184b-c5fa-4002-99f6-c7cc175af834",
   "metadata": {},
   "outputs": [
    {
     "name": "stdout",
     "output_type": "stream",
     "text": [
      "                             df     sum_sq   mean_sq         F    PR(>F)\n",
      "C(Fertilizer)               1.0   0.033333  0.033333  0.012069  0.913305\n",
      "C(Watering)                 1.0   1.421614  1.421614  0.514722  0.479045\n",
      "C(Fertilizer):C(Watering)   1.0   0.223698  0.223698  0.080994  0.778049\n",
      "Residual                   28.0  77.333333  2.761905       NaN       NaN\n"
     ]
    }
   ],
   "source": [
    "# Importing libraries \n",
    "import statsmodels.api as sm \n",
    "from statsmodels.formula.api import ols \n",
    "  \n",
    "# Performing two-way ANOVA \n",
    "model = ols('height ~ C(Fertilizer) + C(Watering) + C(Fertilizer):C(Watering)', data=df).fit() \n",
    "result = sm.stats.anova_lm(model, type=2) \n",
    "  \n",
    "# Print the result \n",
    "print(result) "
   ]
  },
  {
   "cell_type": "markdown",
   "id": "8a9729ee-cb8b-4d19-817d-edca5e87a913",
   "metadata": {},
   "source": [
    "Interpreting the result:\n",
    "\n",
    "Following are the p-values for each of the factors in the output:\n",
    "\n",
    "The fertilizer p-value is equal to 0.913305\n",
    "The Watering p-value is equal to 0.479045\n",
    "The Fertilizer * Watering: p-value is equal to 0.778049\n",
    "\n",
    "The p-value for the interaction effect (0.778049) is greater than 0.05 which depicts \n",
    "that there is no significant interaction effect between fertilizer frequency and watering frequency.\n",
    "\n",
    "if p_value > alpha :\n",
    "    print(\"Accept Null Hypothesis\")  "
   ]
  },
  {
   "cell_type": "markdown",
   "id": "61fd492d-5176-4220-91d4-ab993653387a",
   "metadata": {},
   "source": [
    "inear Model\n",
    "Y = MX + C\n",
    "Y = M1X1 + C\n",
    "\n",
    "2,3,4,5.....Variable f_oneway (studying of independent variables )\n",
    "\n",
    "Y = M1X1 + M2x2 + M3X3 + ....... MnXn + C  : annova_lm (type=2,3,4,5,...)"
   ]
  },
  {
   "cell_type": "code",
   "execution_count": 46,
   "id": "f364faf9-30b6-4d0f-bf6c-727b85afa6a7",
   "metadata": {},
   "outputs": [],
   "source": [
    "#### Chi-Square Test:"
   ]
  },
  {
   "cell_type": "markdown",
   "id": "4affd56f-73be-48c3-9623-5c6f3933cb6d",
   "metadata": {},
   "source": [
    "https://www.simplilearn.com/tutorials/statistics-tutorial/chi-square-test"
   ]
  },
  {
   "cell_type": "markdown",
   "id": "bc07b866-abb4-4616-b8b7-12d5782fa458",
   "metadata": {},
   "source": [
    "Mean = Summation of all values / number of samples\n",
    "Standard Deviation = Summation (( X - Xbar)^2 / Sqrt(n))\n",
    "Variance = Square of Standard Deviation (Comparing one variables changes)\n",
    "\n",
    "Co-variance = Two Variables Changes / Covariance factor\n",
    "\n",
    "- Covariance indicates the direction of the linear relationship between variables. \n",
    "- Correlation measures both the strength and direction of the linear relationship between two variables."
   ]
  },
  {
   "cell_type": "markdown",
   "id": "a0bff6ff-46cd-4362-8be9-af5ce560a072",
   "metadata": {},
   "source": [
    "## Correlation Coefficient : "
   ]
  },
  {
   "cell_type": "markdown",
   "id": "77aa3559-d6d3-4ac3-85e1-26a9306e56f7",
   "metadata": {},
   "source": [
    "### Pearson Correlation Coefficient\n",
    "          Covariance of (X,Y) \n",
    "    p  =  -------------------\n",
    "           STD(X) * STD(Y)\n",
    "\n",
    "https://www.scribbr.com/statistics/pearson-correlation-coefficient/"
   ]
  },
  {
   "cell_type": "code",
   "execution_count": 20,
   "id": "0bbf0db1-016a-4725-84a6-70bbddaff30b",
   "metadata": {},
   "outputs": [],
   "source": [
    "# Student's Weight\n",
    "X = np.array([3.63,3.02,3.82,3.42,3.59,2.87,3.03,3.46,3.36,3.3])\n",
    "\n",
    "# Student's Length\n",
    "Y = np.array([53.1,49.7,48.4,54.2,54.9,43.7,47.2,45.2,54.4,50.4])"
   ]
  },
  {
   "cell_type": "code",
   "execution_count": 21,
   "id": "07453fbd-ea23-436c-910f-a52dcfb10292",
   "metadata": {},
   "outputs": [],
   "source": [
    "xmean = X.mean()\n",
    "ymean = Y.mean()\n",
    "N = np.size(X)\n",
    "covariance = np.sum((X-xmean) * (Y-ymean))/ N"
   ]
  },
  {
   "cell_type": "code",
   "execution_count": 22,
   "id": "802c503d-78c5-49f9-9135-81dc6ddae07a",
   "metadata": {},
   "outputs": [
    {
     "data": {
      "text/plain": [
       "0.4701772329684028"
      ]
     },
     "execution_count": 22,
     "metadata": {},
     "output_type": "execute_result"
    }
   ],
   "source": [
    "p =  covariance / (X.std() * Y.std())\n",
    "p"
   ]
  },
  {
   "cell_type": "markdown",
   "id": "6fa60665-fc33-4f58-b7d9-1026b2628779",
   "metadata": {},
   "source": [
    "### Spearman's Rank Correlation Coefficient\n",
    "                6 * Summation (d^2) \n",
    "    p  =  1 -  -------------------\n",
    "                 n ( n^2 -1 ) \n",
    "\n",
    "https://www.statisticshowto.com/probability-and-statistics/correlation-coefficient-formula/spearman-rank-correlation-definition-calculate/"
   ]
  },
  {
   "cell_type": "code",
   "execution_count": 37,
   "id": "f66cf798-137b-4d98-9fa0-1c1a18b1a1d9",
   "metadata": {},
   "outputs": [
    {
     "data": {
      "text/html": [
       "<div>\n",
       "<style scoped>\n",
       "    .dataframe tbody tr th:only-of-type {\n",
       "        vertical-align: middle;\n",
       "    }\n",
       "\n",
       "    .dataframe tbody tr th {\n",
       "        vertical-align: top;\n",
       "    }\n",
       "\n",
       "    .dataframe thead th {\n",
       "        text-align: right;\n",
       "    }\n",
       "</style>\n",
       "<table border=\"1\" class=\"dataframe\">\n",
       "  <thead>\n",
       "    <tr style=\"text-align: right;\">\n",
       "      <th></th>\n",
       "      <th>Physics</th>\n",
       "      <th>Chemistry</th>\n",
       "      <th>rank1</th>\n",
       "      <th>rank2</th>\n",
       "      <th>d</th>\n",
       "      <th>d2</th>\n",
       "    </tr>\n",
       "  </thead>\n",
       "  <tbody>\n",
       "    <tr>\n",
       "      <th>0</th>\n",
       "      <td>35</td>\n",
       "      <td>30</td>\n",
       "      <td>7.0</td>\n",
       "      <td>5.0</td>\n",
       "      <td>2.0</td>\n",
       "      <td>4.0</td>\n",
       "    </tr>\n",
       "    <tr>\n",
       "      <th>1</th>\n",
       "      <td>23</td>\n",
       "      <td>33</td>\n",
       "      <td>5.0</td>\n",
       "      <td>7.0</td>\n",
       "      <td>2.0</td>\n",
       "      <td>4.0</td>\n",
       "    </tr>\n",
       "    <tr>\n",
       "      <th>2</th>\n",
       "      <td>47</td>\n",
       "      <td>45</td>\n",
       "      <td>9.0</td>\n",
       "      <td>8.0</td>\n",
       "      <td>1.0</td>\n",
       "      <td>1.0</td>\n",
       "    </tr>\n",
       "    <tr>\n",
       "      <th>3</th>\n",
       "      <td>17</td>\n",
       "      <td>23</td>\n",
       "      <td>4.0</td>\n",
       "      <td>4.0</td>\n",
       "      <td>0.0</td>\n",
       "      <td>0.0</td>\n",
       "    </tr>\n",
       "    <tr>\n",
       "      <th>4</th>\n",
       "      <td>10</td>\n",
       "      <td>8</td>\n",
       "      <td>3.0</td>\n",
       "      <td>2.0</td>\n",
       "      <td>1.0</td>\n",
       "      <td>1.0</td>\n",
       "    </tr>\n",
       "  </tbody>\n",
       "</table>\n",
       "</div>"
      ],
      "text/plain": [
       "   Physics  Chemistry  rank1  rank2    d   d2\n",
       "0       35         30    7.0    5.0  2.0  4.0\n",
       "1       23         33    5.0    7.0  2.0  4.0\n",
       "2       47         45    9.0    8.0  1.0  1.0\n",
       "3       17         23    4.0    4.0  0.0  0.0\n",
       "4       10          8    3.0    2.0  1.0  1.0"
      ]
     },
     "execution_count": 37,
     "metadata": {},
     "output_type": "execute_result"
    }
   ],
   "source": [
    "s1 = np.array([ 35, 23, 47, 17, 10, 43, 9, 6, 28])\n",
    "s2 = np.array([ 30, 33, 45, 23, 8, 49, 12, 4, 31])\n",
    "df =  pd.DataFrame({'Physics': s1, 'Chemistry': s2})\n",
    "n = df.shape[0]\n",
    "df['rank1'] = df.Physics.rank()\n",
    "df['rank2'] = df.Chemistry.rank()\n",
    "df['d'] =  np.abs(df.rank1 - df.rank2)\n",
    "df['d2'] =  df.d ** 2\n",
    "df.head()"
   ]
  },
  {
   "cell_type": "code",
   "execution_count": 39,
   "id": "ca6d5ceb-39d7-4f8d-bb3e-8aaeec87af51",
   "metadata": {},
   "outputs": [
    {
     "data": {
      "text/plain": [
       "0.9"
      ]
     },
     "execution_count": 39,
     "metadata": {},
     "output_type": "execute_result"
    }
   ],
   "source": [
    "p = 1 - 6 * np.sum(df.d2) / (n * (n**2 -1))\n",
    "p"
   ]
  },
  {
   "cell_type": "markdown",
   "id": "9b2d81ec-7e32-4818-bd5d-e083d9b0097c",
   "metadata": {},
   "source": [
    "### Kendall Tau Correlation Coefficient\n",
    "\n",
    "                       (C – D)\n",
    "      Kendall’s Tau =  ------\n",
    "                       (C + D)\n",
    "\n",
    "    Where C is concordant Pair and D is discordant Pair\n",
    "\n",
    "https://www.statisticshowto.com/kendalls-tau/#:~:text=into%20the%20formula%3A-,Kendall's%20Tau%20%3D%20(C%20%E2%80%93%20D%20%2F%20C%20%2B%20D),85.\n",
    "    \n"
   ]
  },
  {
   "cell_type": "code",
   "execution_count": 57,
   "id": "6d81ec05-2205-4ef2-b8a8-5d2632e2dcce",
   "metadata": {},
   "outputs": [
    {
     "data": {
      "text/html": [
       "<div>\n",
       "<style scoped>\n",
       "    .dataframe tbody tr th:only-of-type {\n",
       "        vertical-align: middle;\n",
       "    }\n",
       "\n",
       "    .dataframe tbody tr th {\n",
       "        vertical-align: top;\n",
       "    }\n",
       "\n",
       "    .dataframe thead th {\n",
       "        text-align: right;\n",
       "    }\n",
       "</style>\n",
       "<table border=\"1\" class=\"dataframe\">\n",
       "  <thead>\n",
       "    <tr style=\"text-align: right;\">\n",
       "      <th></th>\n",
       "      <th>Student</th>\n",
       "      <th>Interviewer1</th>\n",
       "      <th>Interviewer2</th>\n",
       "      <th>Concordant</th>\n",
       "      <th>Discordant</th>\n",
       "    </tr>\n",
       "  </thead>\n",
       "  <tbody>\n",
       "    <tr>\n",
       "      <th>0</th>\n",
       "      <td>A</td>\n",
       "      <td>1</td>\n",
       "      <td>1</td>\n",
       "      <td>11</td>\n",
       "      <td>0</td>\n",
       "    </tr>\n",
       "    <tr>\n",
       "      <th>1</th>\n",
       "      <td>B</td>\n",
       "      <td>2</td>\n",
       "      <td>2</td>\n",
       "      <td>10</td>\n",
       "      <td>0</td>\n",
       "    </tr>\n",
       "    <tr>\n",
       "      <th>2</th>\n",
       "      <td>C</td>\n",
       "      <td>3</td>\n",
       "      <td>3</td>\n",
       "      <td>9</td>\n",
       "      <td>0</td>\n",
       "    </tr>\n",
       "    <tr>\n",
       "      <th>3</th>\n",
       "      <td>D</td>\n",
       "      <td>4</td>\n",
       "      <td>5</td>\n",
       "      <td>7</td>\n",
       "      <td>1</td>\n",
       "    </tr>\n",
       "    <tr>\n",
       "      <th>4</th>\n",
       "      <td>E</td>\n",
       "      <td>5</td>\n",
       "      <td>4</td>\n",
       "      <td>7</td>\n",
       "      <td>0</td>\n",
       "    </tr>\n",
       "    <tr>\n",
       "      <th>5</th>\n",
       "      <td>F</td>\n",
       "      <td>6</td>\n",
       "      <td>7</td>\n",
       "      <td>5</td>\n",
       "      <td>1</td>\n",
       "    </tr>\n",
       "    <tr>\n",
       "      <th>6</th>\n",
       "      <td>G</td>\n",
       "      <td>7</td>\n",
       "      <td>6</td>\n",
       "      <td>5</td>\n",
       "      <td>0</td>\n",
       "    </tr>\n",
       "    <tr>\n",
       "      <th>7</th>\n",
       "      <td>H</td>\n",
       "      <td>8</td>\n",
       "      <td>8</td>\n",
       "      <td>4</td>\n",
       "      <td>0</td>\n",
       "    </tr>\n",
       "    <tr>\n",
       "      <th>8</th>\n",
       "      <td>I</td>\n",
       "      <td>9</td>\n",
       "      <td>10</td>\n",
       "      <td>2</td>\n",
       "      <td>1</td>\n",
       "    </tr>\n",
       "    <tr>\n",
       "      <th>9</th>\n",
       "      <td>J</td>\n",
       "      <td>10</td>\n",
       "      <td>9</td>\n",
       "      <td>2</td>\n",
       "      <td>0</td>\n",
       "    </tr>\n",
       "    <tr>\n",
       "      <th>10</th>\n",
       "      <td>K</td>\n",
       "      <td>11</td>\n",
       "      <td>11</td>\n",
       "      <td>1</td>\n",
       "      <td>0</td>\n",
       "    </tr>\n",
       "    <tr>\n",
       "      <th>11</th>\n",
       "      <td>L</td>\n",
       "      <td>12</td>\n",
       "      <td>12</td>\n",
       "      <td>0</td>\n",
       "      <td>0</td>\n",
       "    </tr>\n",
       "  </tbody>\n",
       "</table>\n",
       "</div>"
      ],
      "text/plain": [
       "   Student  Interviewer1  Interviewer2  Concordant  Discordant\n",
       "0        A             1             1          11           0\n",
       "1        B             2             2          10           0\n",
       "2        C             3             3           9           0\n",
       "3        D             4             5           7           1\n",
       "4        E             5             4           7           0\n",
       "5        F             6             7           5           1\n",
       "6        G             7             6           5           0\n",
       "7        H             8             8           4           0\n",
       "8        I             9            10           2           1\n",
       "9        J            10             9           2           0\n",
       "10       K            11            11           1           0\n",
       "11       L            12            12           0           0"
      ]
     },
     "execution_count": 57,
     "metadata": {},
     "output_type": "execute_result"
    }
   ],
   "source": [
    "s1 = np.array([i for i in range(1,13,1,) ] )\n",
    "s2 =  np.array([1,2,3,5,4,7,6,8,10,9,11,12])\n",
    "c =  np.array([0 for i in range(12)])\n",
    "d =  np.array([0 for i in range(12)])\n",
    "s =  np.array([ chr(65+i) for i in range(12)])\n",
    "df =  pd.DataFrame({'Student' : s, 'Interviewer1': s1, 'Interviewer2': s2, 'Concordant' : c, 'Discordant' : d})\n",
    "for i in df.index:\n",
    "    df.loc[i, 'Concordant'] = np.sum(df.Interviewer2.iloc[i] < df.Interviewer2.iloc[i:])\n",
    "    df.loc[i, 'Discordant'] = np.sum(df.Interviewer2.iloc[i] > df.Interviewer2.iloc[i:])  \n",
    "df.head(12)"
   ]
  },
  {
   "cell_type": "code",
   "execution_count": 60,
   "id": "cccd66d5-328c-46b5-b5dd-feefa6fa1583",
   "metadata": {},
   "outputs": [
    {
     "data": {
      "text/plain": [
       "0.9090909090909091"
      ]
     },
     "execution_count": 60,
     "metadata": {},
     "output_type": "execute_result"
    }
   ],
   "source": [
    "Tau  = (np.sum(df.Concordant) - np.sum(df.Discordant) ) / (np.sum(df.Concordant) + np.sum(df.Discordant))\n",
    "Tau"
   ]
  }
 ],
 "metadata": {
  "kernelspec": {
   "display_name": "Python 3 (ipykernel)",
   "language": "python",
   "name": "python3"
  },
  "language_info": {
   "codemirror_mode": {
    "name": "ipython",
    "version": 3
   },
   "file_extension": ".py",
   "mimetype": "text/x-python",
   "name": "python",
   "nbconvert_exporter": "python",
   "pygments_lexer": "ipython3",
   "version": "3.9.6"
  }
 },
 "nbformat": 4,
 "nbformat_minor": 5
}
