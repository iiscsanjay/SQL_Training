{
 "cells": [
  {
   "cell_type": "markdown",
   "id": "5dad6ab3-b333-4786-9bdd-14ba8d1d88dc",
   "metadata": {},
   "source": [
    "#### **Builtin Function** : input, print, ord, chr, len, range, enumerate, id"
   ]
  },
  {
   "cell_type": "code",
   "execution_count": 1,
   "id": "1e5f19a8-c609-4f90-9a35-05525001b563",
   "metadata": {},
   "outputs": [],
   "source": [
    "#ord function returns the integer value of any character( ascii or unicode character)"
   ]
  },
  {
   "cell_type": "code",
   "execution_count": 2,
   "id": "c4bbc647-5eb9-4e21-af06-ef2eb0ce6b7c",
   "metadata": {},
   "outputs": [
    {
     "data": {
      "text/plain": [
       "352"
      ]
     },
     "execution_count": 2,
     "metadata": {},
     "output_type": "execute_result"
    }
   ],
   "source": [
    "ord('Š')"
   ]
  },
  {
   "cell_type": "code",
   "execution_count": 3,
   "id": "94c6bc95-5c71-450f-9912-afbec02793fd",
   "metadata": {},
   "outputs": [],
   "source": [
    "# chr function it returns the symbol about the integer value"
   ]
  },
  {
   "cell_type": "code",
   "execution_count": 4,
   "id": "f2df2185-cedf-477a-89a6-e11ce5eb2098",
   "metadata": {},
   "outputs": [
    {
     "data": {
      "text/plain": [
       "'Š'"
      ]
     },
     "execution_count": 4,
     "metadata": {},
     "output_type": "execute_result"
    }
   ],
   "source": [
    "chr(352)"
   ]
  },
  {
   "cell_type": "code",
   "execution_count": 5,
   "id": "3b7883d2-9a22-45b0-b59e-bf924f793679",
   "metadata": {},
   "outputs": [
    {
     "data": {
      "text/plain": [
       "'ȼ'"
      ]
     },
     "execution_count": 5,
     "metadata": {},
     "output_type": "execute_result"
    }
   ],
   "source": [
    "chr(572)"
   ]
  },
  {
   "cell_type": "markdown",
   "id": "53d3649d-32c1-4a7f-94f8-b96c27d8476d",
   "metadata": {},
   "source": [
    "#### **Indexing**"
   ]
  },
  {
   "cell_type": "code",
   "execution_count": 6,
   "id": "6920d437-c7c6-4b2e-9d6b-9e3a8ee33293",
   "metadata": {},
   "outputs": [],
   "source": [
    "l = [ 23, 4, 5, 6, 7, 2, 6, 12]\n",
    "#p     0, 1, 2, 3, 4, 5, 6, 7\n",
    "#n    -8,-7,-6,-5,-4,-3,-2,-1\n",
    "#n    -len(l)"
   ]
  },
  {
   "cell_type": "code",
   "execution_count": null,
   "id": "e542ccf3-3d14-4065-9f1f-155d70f818f5",
   "metadata": {},
   "outputs": [],
   "source": [
    "# Positive Indexing  : 0,1,2,3.....len(list)"
   ]
  },
  {
   "cell_type": "code",
   "execution_count": 7,
   "id": "cb82f7be-8918-4c57-b622-a33419592195",
   "metadata": {},
   "outputs": [
    {
     "data": {
      "text/plain": [
       "23"
      ]
     },
     "execution_count": 7,
     "metadata": {},
     "output_type": "execute_result"
    }
   ],
   "source": [
    "l[0]"
   ]
  },
  {
   "cell_type": "code",
   "execution_count": 8,
   "id": "d0d384a7-f377-463d-a589-2e682bf94705",
   "metadata": {},
   "outputs": [
    {
     "data": {
      "text/plain": [
       "12"
      ]
     },
     "execution_count": 8,
     "metadata": {},
     "output_type": "execute_result"
    }
   ],
   "source": [
    "l[7]"
   ]
  },
  {
   "cell_type": "code",
   "execution_count": null,
   "id": "439c6336-2ddf-4c99-be0d-d3a792ec150a",
   "metadata": {},
   "outputs": [],
   "source": [
    "# Negative Indexing  : -1,-2,.....-len(list)"
   ]
  },
  {
   "cell_type": "code",
   "execution_count": 9,
   "id": "a4e50b13-80f6-48e2-8232-b5c809d223ec",
   "metadata": {},
   "outputs": [
    {
     "data": {
      "text/plain": [
       "12"
      ]
     },
     "execution_count": 9,
     "metadata": {},
     "output_type": "execute_result"
    }
   ],
   "source": [
    "l[-1]"
   ]
  },
  {
   "cell_type": "code",
   "execution_count": 10,
   "id": "00638a95-f9f5-4670-8b03-c4d540e84275",
   "metadata": {},
   "outputs": [
    {
     "data": {
      "text/plain": [
       "23"
      ]
     },
     "execution_count": 10,
     "metadata": {},
     "output_type": "execute_result"
    }
   ],
   "source": [
    "l[-8]"
   ]
  },
  {
   "cell_type": "code",
   "execution_count": 14,
   "id": "647644b9-61fa-4b8a-ab54-409e1afc79b8",
   "metadata": {},
   "outputs": [
    {
     "name": "stdout",
     "output_type": "stream",
     "text": [
      "Index[0] : Value is 23\n",
      "Index[1] : Value is 4\n",
      "Index[2] : Value is 5\n",
      "Index[3] : Value is 6\n",
      "Index[4] : Value is 7\n",
      "Index[5] : Value is 2\n",
      "Index[6] : Value is 6\n",
      "Index[7] : Value is 12\n"
     ]
    }
   ],
   "source": [
    "for index in range(len(l)):\n",
    "    print(f\"Index[{index}] : Value is {l[index]}\")"
   ]
  },
  {
   "cell_type": "code",
   "execution_count": 15,
   "id": "b55aa546-a218-4e0e-adb1-1304c379a53c",
   "metadata": {},
   "outputs": [
    {
     "name": "stdout",
     "output_type": "stream",
     "text": [
      "Index[-1] : Value is 12\n",
      "Index[-2] : Value is 6\n",
      "Index[-3] : Value is 2\n",
      "Index[-4] : Value is 7\n",
      "Index[-5] : Value is 6\n",
      "Index[-6] : Value is 5\n",
      "Index[-7] : Value is 4\n",
      "Index[-8] : Value is 23\n"
     ]
    }
   ],
   "source": [
    "# accessing a list from end to start with negative Indexing\n",
    "for index in range(-1, -len(l)-1,-1 ):\n",
    "    print(f\"Index[{index}] : Value is {l[index]}\")"
   ]
  },
  {
   "cell_type": "code",
   "execution_count": 20,
   "id": "94b016be-eed5-4ed8-b09a-0bd355f65fbe",
   "metadata": {},
   "outputs": [
    {
     "name": "stdout",
     "output_type": "stream",
     "text": [
      "Index[-8] : Value is 23\n",
      "Index[-7] : Value is 4\n",
      "Index[-6] : Value is 5\n",
      "Index[-5] : Value is 6\n",
      "Index[-4] : Value is 7\n",
      "Index[-3] : Value is 2\n",
      "Index[-2] : Value is 6\n",
      "Index[-1] : Value is 12\n"
     ]
    }
   ],
   "source": [
    "# accessing a list from start to end with negative Indexing\n",
    "for index in range(-len(l), 0, 1 ):\n",
    "    print(f\"Index[{index}] : Value is {l[index]}\")"
   ]
  },
  {
   "cell_type": "code",
   "execution_count": 19,
   "id": "7ecf2067-cd8f-4613-bd2c-d170e1765345",
   "metadata": {},
   "outputs": [
    {
     "name": "stdout",
     "output_type": "stream",
     "text": [
      "-8\n",
      "-7\n",
      "-6\n",
      "-5\n",
      "-4\n",
      "-3\n",
      "-2\n",
      "-1\n"
     ]
    }
   ],
   "source": [
    "for index in range(-len(l), 0, 1 ):\n",
    "    print(index)"
   ]
  },
  {
   "cell_type": "code",
   "execution_count": 21,
   "id": "6f2225b3-f3eb-43df-a488-d4ee40fe655d",
   "metadata": {},
   "outputs": [
    {
     "name": "stdout",
     "output_type": "stream",
     "text": [
      "Index[-24] : Value is T\n",
      "Index[-23] : Value is h\n",
      "Index[-22] : Value is i\n",
      "Index[-21] : Value is s\n",
      "Index[-20] : Value is  \n",
      "Index[-19] : Value is i\n",
      "Index[-18] : Value is s\n",
      "Index[-17] : Value is  \n",
      "Index[-16] : Value is m\n",
      "Index[-15] : Value is y\n",
      "Index[-14] : Value is  \n",
      "Index[-13] : Value is f\n",
      "Index[-12] : Value is i\n",
      "Index[-11] : Value is r\n",
      "Index[-10] : Value is s\n",
      "Index[-9] : Value is t\n",
      "Index[-8] : Value is  \n",
      "Index[-7] : Value is p\n",
      "Index[-6] : Value is r\n",
      "Index[-5] : Value is o\n",
      "Index[-4] : Value is g\n",
      "Index[-3] : Value is r\n",
      "Index[-2] : Value is a\n",
      "Index[-1] : Value is m\n"
     ]
    }
   ],
   "source": [
    "name = \"This is my first program\" \n",
    "for index in range(-len(name), 0, 1 ):\n",
    "    print(f\"Index[{index}] : Value is {name[index]}\")"
   ]
  },
  {
   "cell_type": "markdown",
   "id": "f4fd92a8-1b7b-488f-a68d-3cd9c76199a8",
   "metadata": {},
   "source": [
    "#### **Slicing**"
   ]
  },
  {
   "cell_type": "code",
   "execution_count": 4,
   "id": "9fab9fa1-3dc4-4439-8d3f-75c9ecc94b53",
   "metadata": {},
   "outputs": [],
   "source": [
    "l = [ 23, 4, 5, 6, 7, 2, 6, 12]\n",
    "     #  0  1  2  3  4  5  6  7\n",
    "     #  -8   -7   -6   -5   -4   -3    -2  -1 "
   ]
  },
  {
   "cell_type": "code",
   "execution_count": 5,
   "id": "767cdda6-a6b7-4adc-8c71-0c920766fdb0",
   "metadata": {},
   "outputs": [],
   "source": [
    "#default STArT = 0\n",
    "# end = last index"
   ]
  },
  {
   "cell_type": "code",
   "execution_count": 6,
   "id": "77f3aa8e-c91d-4027-9433-e9bbdb4a8096",
   "metadata": {},
   "outputs": [
    {
     "data": {
      "text/plain": [
       "[23, 4, 5]"
      ]
     },
     "execution_count": 6,
     "metadata": {},
     "output_type": "execute_result"
    }
   ],
   "source": [
    "# First 3 elements with positive indexing [start:end]\n",
    "l[0:3]"
   ]
  },
  {
   "cell_type": "code",
   "execution_count": 10,
   "id": "2f0550e9-86d9-43aa-9b1c-e02d19081edf",
   "metadata": {},
   "outputs": [
    {
     "data": {
      "text/plain": [
       "[23, 4, 5]"
      ]
     },
     "execution_count": 10,
     "metadata": {},
     "output_type": "execute_result"
    }
   ],
   "source": [
    "# first 3 element with negative indexing\n",
    "# if you don't assign start, it means start of the list\n",
    "# start = -(len(l))\n",
    "# end = -(len) +3 = -8 +3 = -5\n",
    "# end  > start\n",
    "l[:-5]"
   ]
  },
  {
   "cell_type": "code",
   "execution_count": 30,
   "id": "f30d5c24-3314-4e2d-8e12-fba5d003174b",
   "metadata": {},
   "outputs": [
    {
     "data": {
      "text/plain": [
       "[2, 6, 12]"
      ]
     },
     "execution_count": 30,
     "metadata": {},
     "output_type": "execute_result"
    }
   ],
   "source": [
    "# last 3 elements with positive indexing: start = 5, \n",
    "l[len(l)-3:len(l)]"
   ]
  },
  {
   "cell_type": "code",
   "execution_count": 32,
   "id": "b6228c13-33b5-4a38-b2d1-9f917734ce9a",
   "metadata": {},
   "outputs": [
    {
     "data": {
      "text/plain": [
       "[2, 6, 12]"
      ]
     },
     "execution_count": 32,
     "metadata": {},
     "output_type": "execute_result"
    }
   ],
   "source": [
    "l[len(l)-3:]"
   ]
  },
  {
   "cell_type": "code",
   "execution_count": 31,
   "id": "7637a0c3-32ee-44bb-9dd0-d2352a73fe31",
   "metadata": {},
   "outputs": [
    {
     "data": {
      "text/plain": [
       "[2, 6]"
      ]
     },
     "execution_count": 31,
     "metadata": {},
     "output_type": "execute_result"
    }
   ],
   "source": [
    "# last 3 elements  negative indexing\n",
    "l[-3:-1]"
   ]
  },
  {
   "cell_type": "code",
   "execution_count": 27,
   "id": "fc47da2e-009d-4b8e-9109-b65cae0c2e1c",
   "metadata": {},
   "outputs": [
    {
     "data": {
      "text/plain": [
       "[2, 6, 12]"
      ]
     },
     "execution_count": 27,
     "metadata": {},
     "output_type": "execute_result"
    }
   ],
   "source": [
    "# last 3 elements  negative indexing\n",
    "# if you specify the start of the slicing but not the end, then it means the end of the list\n",
    "l[-3:]"
   ]
  },
  {
   "cell_type": "code",
   "execution_count": null,
   "id": "24542424-0364-429c-9262-57d5db04e874",
   "metadata": {},
   "outputs": [],
   "source": [
    "l = [ 23, 4, 5, 6, 7, 2, 6, 12]"
   ]
  },
  {
   "cell_type": "code",
   "execution_count": null,
   "id": "77f719a6-647d-40bc-8da2-acd208d725c6",
   "metadata": {},
   "outputs": [],
   "source": [
    "# I want to grab it from 5,6,7,2 with positive indexing"
   ]
  },
  {
   "cell_type": "code",
   "execution_count": 34,
   "id": "8aa14ebe-6af1-40d7-abef-32e3d5454609",
   "metadata": {},
   "outputs": [
    {
     "data": {
      "text/plain": [
       "[5, 6, 7, 2]"
      ]
     },
     "execution_count": 34,
     "metadata": {},
     "output_type": "execute_result"
    }
   ],
   "source": [
    "start = 2\n",
    "end = 6\n",
    "l[start:end]"
   ]
  },
  {
   "cell_type": "code",
   "execution_count": null,
   "id": "44946189-b7e2-429a-8666-eb88ca2872dd",
   "metadata": {},
   "outputs": [],
   "source": [
    "# I want to grab it from 5,6,7,2 with negative indexing"
   ]
  },
  {
   "cell_type": "code",
   "execution_count": 38,
   "id": "e3cf9b7f-7d6a-42f0-b82b-a884501204db",
   "metadata": {},
   "outputs": [
    {
     "data": {
      "text/plain": [
       "[5, 6, 7, 2]"
      ]
     },
     "execution_count": 38,
     "metadata": {},
     "output_type": "execute_result"
    }
   ],
   "source": [
    "start = -6\n",
    "end = -2\n",
    "l[start:end]"
   ]
  },
  {
   "cell_type": "code",
   "execution_count": 39,
   "id": "c7a897a6-4734-4a12-b1fd-5765ee2e1695",
   "metadata": {},
   "outputs": [
    {
     "data": {
      "text/plain": [
       "[]"
      ]
     },
     "execution_count": 39,
     "metadata": {},
     "output_type": "execute_result"
    }
   ],
   "source": [
    "l[-2:2]"
   ]
  },
  {
   "cell_type": "code",
   "execution_count": 44,
   "id": "b8dd473c-148a-4edc-8e6e-11e315bd2c66",
   "metadata": {},
   "outputs": [],
   "source": [
    "# Concept : you specify in indexing  Start:end:step\n",
    "#l[start:end:step]\n",
    "#l[start:end]"
   ]
  },
  {
   "cell_type": "code",
   "execution_count": null,
   "id": "1ab085e5-b796-4e98-82d6-5c5f500accca",
   "metadata": {},
   "outputs": [],
   "source": [
    "l = [ 23, 4, 5, 6, 7, 2, 6, 12]"
   ]
  },
  {
   "cell_type": "code",
   "execution_count": 19,
   "id": "cef65ca2-905a-44c3-9ec5-28a440a38447",
   "metadata": {},
   "outputs": [
    {
     "data": {
      "text/plain": [
       "[23, 4, 5, 6, 7, 2, 6, 12]"
      ]
     },
     "execution_count": 19,
     "metadata": {},
     "output_type": "execute_result"
    }
   ],
   "source": [
    "# print the forward list\n",
    "l[  :    :1]"
   ]
  },
  {
   "cell_type": "code",
   "execution_count": 18,
   "id": "817fb422-35bc-4f27-897f-cf51d4645ad3",
   "metadata": {},
   "outputs": [
    {
     "data": {
      "text/plain": [
       "[12, 6, 2, 7, 6, 5, 4, 23]"
      ]
     },
     "execution_count": 18,
     "metadata": {},
     "output_type": "execute_result"
    }
   ],
   "source": [
    "# printing the backward list\n",
    "l[::-1]"
   ]
  },
  {
   "cell_type": "code",
   "execution_count": 14,
   "id": "24a39c9e-b818-4612-bcef-f22bfa746ea5",
   "metadata": {},
   "outputs": [],
   "source": [
    "a = [12, 6, 2, 7, 6, 5, 4, 23]"
   ]
  },
  {
   "cell_type": "code",
   "execution_count": 15,
   "id": "93493bc6-9c4a-4969-a4b5-78f77d435d78",
   "metadata": {},
   "outputs": [
    {
     "data": {
      "text/plain": [
       "[5, 4, 23]"
      ]
     },
     "execution_count": 15,
     "metadata": {},
     "output_type": "execute_result"
    }
   ],
   "source": [
    "a[: ]"
   ]
  },
  {
   "cell_type": "code",
   "execution_count": null,
   "id": "a5eb797f-1a65-469d-8582-5928b3e3fcd7",
   "metadata": {},
   "outputs": [],
   "source": [
    "madam\n",
    "01234\n",
    "    -1"
   ]
  },
  {
   "cell_type": "code",
   "execution_count": 16,
   "id": "40d9d820-a7f1-4c5d-889e-344683b636ad",
   "metadata": {},
   "outputs": [
    {
     "data": {
      "text/plain": [
       "[5, 4, 23]"
      ]
     },
     "execution_count": 16,
     "metadata": {},
     "output_type": "execute_result"
    }
   ],
   "source": [
    "# len = 8\n",
    "# start = 5\n",
    "# end = 8\n",
    "a[len(a)-3 : len(a)]"
   ]
  },
  {
   "cell_type": "code",
   "execution_count": 22,
   "id": "dd00799e-5b6b-48e0-9257-1bde75b12889",
   "metadata": {},
   "outputs": [
    {
     "name": "stdin",
     "output_type": "stream",
     "text": [
      "Enter text:  madam\n"
     ]
    },
    {
     "name": "stdout",
     "output_type": "stream",
     "text": [
      "Yes, it is a palindrome\n"
     ]
    }
   ],
   "source": [
    "# Palindrome  Example : m a d a m\n",
    "def reverse(text):\n",
    "    return text[::-1]\n",
    "\n",
    "def is_palindrome(text):\n",
    "    return text == reverse(text)\n",
    "\n",
    "something = input(\"Enter text: \")\n",
    "if is_palindrome(something):\n",
    "    print(\"Yes, it is a palindrome\")\n",
    "else:\n",
    "    print(\"No, it is not a palindrome\")"
   ]
  },
  {
   "cell_type": "code",
   "execution_count": null,
   "id": "b5f13ca2-7094-4253-aa72-17da3fbee2be",
   "metadata": {},
   "outputs": [],
   "source": [
    "\n",
    "# Step 1 : You need to open a file either for reading or for writing or reading-writing\n",
    "\n",
    "# Step 2 : If reading : you will reading the file line by line\n",
    "# Step 2 : If writing : you will writing the content in to a file (line by line)\n",
    "# Step 2:  If reading-writing :  you will reading, seeking, and writing\n",
    "# Step 2 : Appending : adding the content into the existing file\n",
    "\n",
    "# step 3 : You need to close a file either for reading or for writing or reading-writi"
   ]
  },
  {
   "cell_type": "code",
   "execution_count": null,
   "id": "2e19c88a-2f2a-486c-8e21-a514a2d68050",
   "metadata": {},
   "outputs": [],
   "source": [
    "# EXample 1 : File Reading : File should be present in the current working directory"
   ]
  },
  {
   "cell_type": "code",
   "execution_count": 55,
   "id": "a656c9ba-9e07-458e-9bea-519af5eb1988",
   "metadata": {},
   "outputs": [],
   "source": [
    "filename = \"Todo1.txt\""
   ]
  },
  {
   "cell_type": "code",
   "execution_count": 56,
   "id": "07d54b51-8e41-4853-b9dc-d1466cc1b633",
   "metadata": {},
   "outputs": [
    {
     "ename": "FileNotFoundError",
     "evalue": "[Errno 2] No such file or directory: 'Todo1.txt'",
     "output_type": "error",
     "traceback": [
      "\u001b[0;31m---------------------------------------------------------------------------\u001b[0m",
      "\u001b[0;31mFileNotFoundError\u001b[0m                         Traceback (most recent call last)",
      "Cell \u001b[0;32mIn[56], line 2\u001b[0m\n\u001b[1;32m      1\u001b[0m \u001b[38;5;66;03m# if file is not present in the current working directory, you will get FileNotFoundError\u001b[39;00m\n\u001b[0;32m----> 2\u001b[0m f \u001b[38;5;241m=\u001b[39m \u001b[38;5;28;43mopen\u001b[39;49m\u001b[43m(\u001b[49m\u001b[43mfilename\u001b[49m\u001b[43m,\u001b[49m\u001b[38;5;124;43m\"\u001b[39;49m\u001b[38;5;124;43mr\u001b[39;49m\u001b[38;5;124;43m\"\u001b[39;49m\u001b[43m)\u001b[49m\n",
      "File \u001b[0;32m/opt/miniforge3/lib/python3.10/site-packages/IPython/core/interactiveshell.py:284\u001b[0m, in \u001b[0;36m_modified_open\u001b[0;34m(file, *args, **kwargs)\u001b[0m\n\u001b[1;32m    277\u001b[0m \u001b[38;5;28;01mif\u001b[39;00m file \u001b[38;5;129;01min\u001b[39;00m {\u001b[38;5;241m0\u001b[39m, \u001b[38;5;241m1\u001b[39m, \u001b[38;5;241m2\u001b[39m}:\n\u001b[1;32m    278\u001b[0m     \u001b[38;5;28;01mraise\u001b[39;00m \u001b[38;5;167;01mValueError\u001b[39;00m(\n\u001b[1;32m    279\u001b[0m         \u001b[38;5;124mf\u001b[39m\u001b[38;5;124m\"\u001b[39m\u001b[38;5;124mIPython won\u001b[39m\u001b[38;5;124m'\u001b[39m\u001b[38;5;124mt let you open fd=\u001b[39m\u001b[38;5;132;01m{\u001b[39;00mfile\u001b[38;5;132;01m}\u001b[39;00m\u001b[38;5;124m by default \u001b[39m\u001b[38;5;124m\"\u001b[39m\n\u001b[1;32m    280\u001b[0m         \u001b[38;5;124m\"\u001b[39m\u001b[38;5;124mas it is likely to crash IPython. If you know what you are doing, \u001b[39m\u001b[38;5;124m\"\u001b[39m\n\u001b[1;32m    281\u001b[0m         \u001b[38;5;124m\"\u001b[39m\u001b[38;5;124myou can use builtins\u001b[39m\u001b[38;5;124m'\u001b[39m\u001b[38;5;124m open.\u001b[39m\u001b[38;5;124m\"\u001b[39m\n\u001b[1;32m    282\u001b[0m     )\n\u001b[0;32m--> 284\u001b[0m \u001b[38;5;28;01mreturn\u001b[39;00m \u001b[43mio_open\u001b[49m\u001b[43m(\u001b[49m\u001b[43mfile\u001b[49m\u001b[43m,\u001b[49m\u001b[43m \u001b[49m\u001b[38;5;241;43m*\u001b[39;49m\u001b[43margs\u001b[49m\u001b[43m,\u001b[49m\u001b[43m \u001b[49m\u001b[38;5;241;43m*\u001b[39;49m\u001b[38;5;241;43m*\u001b[39;49m\u001b[43mkwargs\u001b[49m\u001b[43m)\u001b[49m\n",
      "\u001b[0;31mFileNotFoundError\u001b[0m: [Errno 2] No such file or directory: 'Todo1.txt'"
     ]
    }
   ],
   "source": [
    "# if file is not present in the current working directory, you will get FileNotFoundError\n",
    "f = open(filename,\"r\")"
   ]
  },
  {
   "cell_type": "code",
   "execution_count": 57,
   "id": "5f5dcaca-bf80-4cf4-8bd7-0bae10c0bde0",
   "metadata": {},
   "outputs": [],
   "source": [
    "# You can check the file in the directory before opening it.\n",
    "import os\n",
    "import sys"
   ]
  },
  {
   "cell_type": "code",
   "execution_count": 59,
   "id": "3b27cae7-3466-4398-8591-f1c19cfc16d8",
   "metadata": {},
   "outputs": [
    {
     "name": "stdout",
     "output_type": "stream",
     "text": [
      "Help on function exists in module genericpath:\n",
      "\n",
      "exists(path)\n",
      "    Test whether a path exists.  Returns False for broken symbolic links\n",
      "\n"
     ]
    }
   ],
   "source": [
    "help(os.path.exists)"
   ]
  },
  {
   "cell_type": "code",
   "execution_count": 58,
   "id": "c08b0596-71a4-4925-959e-99b7b115e950",
   "metadata": {},
   "outputs": [
    {
     "name": "stdout",
     "output_type": "stream",
     "text": [
      "Todo1.txt doesn't exist\n"
     ]
    },
    {
     "ename": "SystemExit",
     "evalue": "-1",
     "output_type": "error",
     "traceback": [
      "An exception has occurred, use %tb to see the full traceback.\n",
      "\u001b[0;31mSystemExit\u001b[0m\u001b[0;31m:\u001b[0m -1\n"
     ]
    },
    {
     "name": "stderr",
     "output_type": "stream",
     "text": [
      "/opt/miniforge3/lib/python3.10/site-packages/IPython/core/interactiveshell.py:3516: UserWarning: To exit: use 'exit', 'quit', or Ctrl-D.\n",
      "  warn(\"To exit: use 'exit', 'quit', or Ctrl-D.\", stacklevel=1)\n"
     ]
    }
   ],
   "source": [
    "# os.path.exists returns True if file found in the directory else False\n",
    "if not os.path.exists(filename):\n",
    "    print(f\"{filename} doesn't exist\")\n",
    "    sys.exit(-1)"
   ]
  },
  {
   "cell_type": "code",
   "execution_count": 60,
   "id": "7c7320e3-c5c2-47e0-b4da-d2679edd1d65",
   "metadata": {},
   "outputs": [],
   "source": [
    "filename = \"Todo.txt\""
   ]
  },
  {
   "cell_type": "code",
   "execution_count": 75,
   "id": "a55d4d53-dd93-4006-8d19-391090359f24",
   "metadata": {},
   "outputs": [
    {
     "name": "stdout",
     "output_type": "stream",
     "text": [
      "Annova Testing Example :\n",
      "Chi Square Testing Example :\n",
      "A/B Testing Example :\n",
      "Chebyshev's InEquility : \n",
      "\n",
      "Chi Square Testing Example :\n"
     ]
    }
   ],
   "source": [
    "# Step 1 : opening a file\n",
    "f = open(filename,\"r\")\n",
    "\n",
    "# Step 2: read the file line by line f.readlines(), f.readline(), f\n",
    "\n",
    "# f.readlines() reads full file at a time : It is not advisable function to read in case your file size is big 8GB\n",
    "# f.readline() read a single line a time from text readder : It is not advisable function to read in case your file size is big 8GB\n",
    "# f : text wrapper to read the file line by line \n",
    "\n",
    "\"\"\"\n",
    "# small files : iterating a list\n",
    "for line in f.readlines():\n",
    "    print(line,end='')\n",
    "\"\"\"\n",
    "\n",
    "\"\"\"\n",
    "line = f.readline()\n",
    "# you keep reading the file until you reach End of file\n",
    "while line != \"\":\n",
    "    print(line,end='')\n",
    "    line = f.readline()  \n",
    "\"\"\"\n",
    "\n",
    "# BigSize files : TextWrapper, reads the file line by lines\n",
    "for line in f:\n",
    "    print(line,end='')\n",
    "\n",
    "# step 3: close the file after reading\n",
    "f.close()"
   ]
  },
  {
   "cell_type": "code",
   "execution_count": 70,
   "id": "bdd94f9a-ad1b-4adb-9d6a-585c5bb0a7d2",
   "metadata": {},
   "outputs": [
    {
     "name": "stdout",
     "output_type": "stream",
     "text": [
      "Help on built-in function readline:\n",
      "\n",
      "readline(size=-1, /) method of _io.TextIOWrapper instance\n",
      "    Read until newline or EOF.\n",
      "    \n",
      "    Returns an empty string if EOF is hit immediately.\n",
      "\n"
     ]
    }
   ],
   "source": [
    "f = open(filename,\"r\")\n",
    "help(f.readline)"
   ]
  },
  {
   "cell_type": "code",
   "execution_count": 84,
   "id": "930c10e1-eadf-4d7c-9778-faf7c76b680b",
   "metadata": {},
   "outputs": [
    {
     "name": "stdout",
     "output_type": "stream",
     "text": [
      "This is my first program.\n",
      "This is my second program.\n"
     ]
    }
   ],
   "source": [
    "# Example 2 : File Reading : File should be present in the current working directory\n",
    "\n",
    "# Step 1 : opening a file with with keyword, it will be default close if you write this syntax\n",
    "with open(filename,\"r\") as f:\n",
    "    for line in f:\n",
    "        print(line,end='')"
   ]
  },
  {
   "cell_type": "code",
   "execution_count": 79,
   "id": "72efd52a-eacc-4834-8bd3-e99a400a516d",
   "metadata": {},
   "outputs": [
    {
     "ename": "OSError",
     "evalue": "[Errno 30] Read-only file system: '/NewFile.txt'",
     "output_type": "error",
     "traceback": [
      "\u001b[0;31m---------------------------------------------------------------------------\u001b[0m",
      "\u001b[0;31mOSError\u001b[0m                                   Traceback (most recent call last)",
      "Cell \u001b[0;32mIn[79], line 4\u001b[0m\n\u001b[1;32m      1\u001b[0m \u001b[38;5;66;03m# Example 3 : File writing : File writing requires the permission to write into the current working directory\u001b[39;00m\n\u001b[1;32m      2\u001b[0m \n\u001b[1;32m      3\u001b[0m \u001b[38;5;66;03m# step 1 : open a file for writing , if you don't have a permission, you get error\u001b[39;00m\n\u001b[0;32m----> 4\u001b[0m f \u001b[38;5;241m=\u001b[39m \u001b[38;5;28;43mopen\u001b[39;49m\u001b[43m(\u001b[49m\u001b[38;5;124;43m\"\u001b[39;49m\u001b[38;5;124;43m/NewFile.txt\u001b[39;49m\u001b[38;5;124;43m\"\u001b[39;49m\u001b[43m,\u001b[49m\u001b[43m \u001b[49m\u001b[38;5;124;43m\"\u001b[39;49m\u001b[38;5;124;43mw\u001b[39;49m\u001b[38;5;124;43m\"\u001b[39;49m\u001b[43m)\u001b[49m\n",
      "File \u001b[0;32m/opt/miniforge3/lib/python3.10/site-packages/IPython/core/interactiveshell.py:284\u001b[0m, in \u001b[0;36m_modified_open\u001b[0;34m(file, *args, **kwargs)\u001b[0m\n\u001b[1;32m    277\u001b[0m \u001b[38;5;28;01mif\u001b[39;00m file \u001b[38;5;129;01min\u001b[39;00m {\u001b[38;5;241m0\u001b[39m, \u001b[38;5;241m1\u001b[39m, \u001b[38;5;241m2\u001b[39m}:\n\u001b[1;32m    278\u001b[0m     \u001b[38;5;28;01mraise\u001b[39;00m \u001b[38;5;167;01mValueError\u001b[39;00m(\n\u001b[1;32m    279\u001b[0m         \u001b[38;5;124mf\u001b[39m\u001b[38;5;124m\"\u001b[39m\u001b[38;5;124mIPython won\u001b[39m\u001b[38;5;124m'\u001b[39m\u001b[38;5;124mt let you open fd=\u001b[39m\u001b[38;5;132;01m{\u001b[39;00mfile\u001b[38;5;132;01m}\u001b[39;00m\u001b[38;5;124m by default \u001b[39m\u001b[38;5;124m\"\u001b[39m\n\u001b[1;32m    280\u001b[0m         \u001b[38;5;124m\"\u001b[39m\u001b[38;5;124mas it is likely to crash IPython. If you know what you are doing, \u001b[39m\u001b[38;5;124m\"\u001b[39m\n\u001b[1;32m    281\u001b[0m         \u001b[38;5;124m\"\u001b[39m\u001b[38;5;124myou can use builtins\u001b[39m\u001b[38;5;124m'\u001b[39m\u001b[38;5;124m open.\u001b[39m\u001b[38;5;124m\"\u001b[39m\n\u001b[1;32m    282\u001b[0m     )\n\u001b[0;32m--> 284\u001b[0m \u001b[38;5;28;01mreturn\u001b[39;00m \u001b[43mio_open\u001b[49m\u001b[43m(\u001b[49m\u001b[43mfile\u001b[49m\u001b[43m,\u001b[49m\u001b[43m \u001b[49m\u001b[38;5;241;43m*\u001b[39;49m\u001b[43margs\u001b[49m\u001b[43m,\u001b[49m\u001b[43m \u001b[49m\u001b[38;5;241;43m*\u001b[39;49m\u001b[38;5;241;43m*\u001b[39;49m\u001b[43mkwargs\u001b[49m\u001b[43m)\u001b[49m\n",
      "\u001b[0;31mOSError\u001b[0m: [Errno 30] Read-only file system: '/NewFile.txt'"
     ]
    }
   ],
   "source": [
    "# Example 3 : File writing : File writing requires the permission to write into the current working directory\n",
    "\n",
    "# step 1 : open a file for writing , if you don't have a permission, you get OSError\n",
    "f = open(\"/NewFile.txt\", \"w\")"
   ]
  },
  {
   "cell_type": "code",
   "execution_count": 83,
   "id": "18d7d014-ae0c-46f6-a144-193969deeb58",
   "metadata": {},
   "outputs": [
    {
     "name": "stdin",
     "output_type": "stream",
     "text": [
      "Write Text which you want to write into a file :\n",
      " This is my first program.\n",
      "Write Text which you want to write into a file :\n",
      " This is my second program.\n",
      "Write Text which you want to write into a file :\n",
      " quit\n"
     ]
    }
   ],
   "source": [
    "# step 1 : open a file for writing , if you don't have a permission, you get OSError\n",
    "f = open(\"NewFile.txt\", \"w\")\n",
    "\n",
    "# step 2: what content do you write\n",
    "while True:\n",
    "    \n",
    "    # prompting the user for input\n",
    "    line = input(\"Write Text which you want to write into a file :\\n\")\n",
    "   \n",
    "    # if user enters quit, then close the file\n",
    "    if line == \"quit\":\n",
    "        \n",
    "        f.close()\n",
    "        \n",
    "        # breaking the infinite loop\n",
    "        break\n",
    "    \n",
    "    else:\n",
    "        # write the input line \n",
    "        f.write(line)\n",
    "        # writing the new line characgter\n",
    "        f.write(\"\\n\")        "
   ]
  },
  {
   "cell_type": "code",
   "execution_count": null,
   "id": "db13d780-bb09-4b82-9334-0add0dea1271",
   "metadata": {},
   "outputs": [],
   "source": [
    "# testing my file written file\n",
    "filename = \"NewFile.txt\"\n",
    "# Step 1 : opening a file with with keyword, it will be default close if you write this syntax\n",
    "with open(filename,\"r\") as f:\n",
    "    for line in f:\n",
    "        print(line,end='')"
   ]
  },
  {
   "cell_type": "code",
   "execution_count": 85,
   "id": "5bf524c7-afc5-4ef0-b5e2-19784c2bf0b5",
   "metadata": {},
   "outputs": [
    {
     "name": "stdin",
     "output_type": "stream",
     "text": [
      "Write Text which you want to write into a file :\n",
      " this is first line.\n",
      "Write Text which you want to write into a file :\n",
      " quit\n"
     ]
    }
   ],
   "source": [
    "with open(\"NewFile.txt\", \"w\") as f:\n",
    "    # step 2: what content do you write\n",
    "    while True:\n",
    "    \n",
    "        # prompting the user for input\n",
    "        line = input(\"Write Text which you want to write into a file :\\n\")\n",
    "   \n",
    "        # if user enters quit, then close the file\n",
    "        if line == \"quit\":\n",
    "        \n",
    "            f.close()\n",
    "        \n",
    "            # breaking the infinite loop\n",
    "            break\n",
    "    \n",
    "        else:\n",
    "            # write the input line \n",
    "            f.write(line)\n",
    "            # writing the new line characgter\n",
    "            f.write(\"\\n\")        "
   ]
  },
  {
   "cell_type": "code",
   "execution_count": 86,
   "id": "60f60721-90c2-4483-a8e2-e81a2cc04fc1",
   "metadata": {},
   "outputs": [
    {
     "name": "stdout",
     "output_type": "stream",
     "text": [
      "this is first line.\n"
     ]
    }
   ],
   "source": [
    "# testing my file written file\n",
    "filename = \"NewFile.txt\"\n",
    "# Step 1 : opening a file with with keyword, it will be default close if you write this syntax\n",
    "with open(filename,\"r\") as f:\n",
    "    for line in f:\n",
    "        print(line,end='')"
   ]
  },
  {
   "cell_type": "code",
   "execution_count": null,
   "id": "b10391d4-f8b4-48a7-9c3f-2ba04ab0a06e",
   "metadata": {},
   "outputs": [],
   "source": []
  }
 ],
 "metadata": {
  "kernelspec": {
   "display_name": "Python 3 (ipykernel)",
   "language": "python",
   "name": "python3"
  },
  "language_info": {
   "codemirror_mode": {
    "name": "ipython",
    "version": 3
   },
   "file_extension": ".py",
   "mimetype": "text/x-python",
   "name": "python",
   "nbconvert_exporter": "python",
   "pygments_lexer": "ipython3",
   "version": "3.10.12"
  }
 },
 "nbformat": 4,
 "nbformat_minor": 5
}
