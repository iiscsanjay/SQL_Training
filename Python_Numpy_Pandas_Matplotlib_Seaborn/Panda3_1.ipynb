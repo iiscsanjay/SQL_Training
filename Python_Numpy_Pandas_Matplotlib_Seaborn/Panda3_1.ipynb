{
 "cells": [
  {
   "cell_type": "markdown",
   "id": "cf779ad2-ba6f-4edf-a09a-e28a071a2b01",
   "metadata": {},
   "source": [
    "#### Overview of Pandas\n",
    "- Dataframe: How to create (List, Dictionary)\n",
    "- Series: How to create(List, Dictionary)\n",
    "- Locate: .loc/.iloc: We can access (Label) or rows of data frame/series\n",
    "- Column Data: DataFrameObject.ColumnName or DataFrameObject['ColumnName']\n",
    "- CSV File Reading: How to open and read the CSV file as data frame object\n",
    "#### Learning about data from data frame\n",
    "- Custom File: Separated by | , -, \\, No header , and you also assigned custom column name\n",
    "- head function: It displays first five rows (default) or top n(integer) lines from the data frame\n",
    "- tail function: It displays last five rows (default) or bottom n(integer) lines from the data frame\n",
    "- info function: it displays each column and its non null values, data type\n",
    "- describe function: it displays stats value of numerical columns (count,min,max,mean,std,25%,50%,75%)\n",
    "#### Converting the data type of a column data in a data frame\n",
    "- astype function : convert the data type of the data frame column\n",
    "- to_datetime function : Convert the date data from data frame to the Date Time object \n",
    "#### Cleaning of the data frame in terms of missing values (NULL),\n",
    "-  dropna function : It removes the null and value and returns the new data frame or inplace=True (it removes the null values and return None) or you can only remove null value\n",
    "-  fillna function: It can be applied on the full data frame or column of the data frame. It will replace the missing values with mean or median or mode function or fixed value\n",
    "#### Removing unnecessary Column from data frame\n",
    "- df.drop([column names],axis=1)\n",
    "#### Replacing the incorrect data in a smaller dataset\n",
    "- .loc function : updating the new value into datagram i.e. df.loc[row,columnname] = new value\n",
    "#### Replacing the incorrect data in a bigger dataset\n",
    "- .loc function : iterate throw rows, and check for the condition and replace with value or NULL value\n",
    "- drop function : to remove the rows which you want to accordinf to index value of Label value\n",
    "#### Removing Duplicate Entries\n",
    "- duplicated function: returns boolean value for each row either False or True\n",
    "- drop_duplicates function : Remove the duplicate entries and return new data frame or inplace=True to work on iteself\n",
    "- "
   ]
  },
  {
   "cell_type": "code",
   "execution_count": 52,
   "id": "8505d359-28eb-4c19-b3f7-189b5dcdf9fb",
   "metadata": {},
   "outputs": [],
   "source": [
    "import pandas as pd\n",
    "import numpy as np"
   ]
  },
  {
   "cell_type": "code",
   "execution_count": 97,
   "id": "aa1992fc-3ac2-4e8b-b607-2e6c9c2a210a",
   "metadata": {},
   "outputs": [
    {
     "data": {
      "text/html": [
       "<div>\n",
       "<style scoped>\n",
       "    .dataframe tbody tr th:only-of-type {\n",
       "        vertical-align: middle;\n",
       "    }\n",
       "\n",
       "    .dataframe tbody tr th {\n",
       "        vertical-align: top;\n",
       "    }\n",
       "\n",
       "    .dataframe thead th {\n",
       "        text-align: right;\n",
       "    }\n",
       "</style>\n",
       "<table border=\"1\" class=\"dataframe\">\n",
       "  <thead>\n",
       "    <tr style=\"text-align: right;\">\n",
       "      <th></th>\n",
       "      <th>Row ID</th>\n",
       "      <th>Order ID</th>\n",
       "      <th>Order Date</th>\n",
       "      <th>Ship Date</th>\n",
       "      <th>Ship Mode</th>\n",
       "      <th>Customer ID</th>\n",
       "      <th>Customer Name</th>\n",
       "      <th>Segment</th>\n",
       "      <th>Country</th>\n",
       "      <th>City</th>\n",
       "      <th>State</th>\n",
       "      <th>Postal Code</th>\n",
       "      <th>Region</th>\n",
       "      <th>Product ID</th>\n",
       "      <th>Category</th>\n",
       "      <th>Sub-Category</th>\n",
       "      <th>Product Name</th>\n",
       "      <th>Sales</th>\n",
       "    </tr>\n",
       "  </thead>\n",
       "  <tbody>\n",
       "    <tr>\n",
       "      <th>0</th>\n",
       "      <td>1</td>\n",
       "      <td>CA-2017-152156</td>\n",
       "      <td>08/11/2017</td>\n",
       "      <td>11/11/2017</td>\n",
       "      <td>Second Class</td>\n",
       "      <td>CG-12520</td>\n",
       "      <td>Claire Gute</td>\n",
       "      <td>Consumer</td>\n",
       "      <td>United States</td>\n",
       "      <td>Henderson</td>\n",
       "      <td>Kentucky</td>\n",
       "      <td>42420.0</td>\n",
       "      <td>South</td>\n",
       "      <td>FUR-BO-10001798</td>\n",
       "      <td>Furniture</td>\n",
       "      <td>Bookcases</td>\n",
       "      <td>Bush Somerset Collection Bookcase</td>\n",
       "      <td>261.9600</td>\n",
       "    </tr>\n",
       "    <tr>\n",
       "      <th>1</th>\n",
       "      <td>2</td>\n",
       "      <td>CA-2017-152156</td>\n",
       "      <td>08/11/2017</td>\n",
       "      <td>11/11/2017</td>\n",
       "      <td>Second Class</td>\n",
       "      <td>CG-12520</td>\n",
       "      <td>Claire Gute</td>\n",
       "      <td>Consumer</td>\n",
       "      <td>United States</td>\n",
       "      <td>Henderson</td>\n",
       "      <td>Kentucky</td>\n",
       "      <td>42420.0</td>\n",
       "      <td>South</td>\n",
       "      <td>FUR-CH-10000454</td>\n",
       "      <td>Furniture</td>\n",
       "      <td>Chairs</td>\n",
       "      <td>Hon Deluxe Fabric Upholstered Stacking Chairs,...</td>\n",
       "      <td>731.9400</td>\n",
       "    </tr>\n",
       "    <tr>\n",
       "      <th>2</th>\n",
       "      <td>3</td>\n",
       "      <td>CA-2017-138688</td>\n",
       "      <td>12/06/2017</td>\n",
       "      <td>16/06/2017</td>\n",
       "      <td>Second Class</td>\n",
       "      <td>DV-13045</td>\n",
       "      <td>Darrin Van Huff</td>\n",
       "      <td>Corporate</td>\n",
       "      <td>United States</td>\n",
       "      <td>Los Angeles</td>\n",
       "      <td>California</td>\n",
       "      <td>90036.0</td>\n",
       "      <td>West</td>\n",
       "      <td>OFF-LA-10000240</td>\n",
       "      <td>Office Supplies</td>\n",
       "      <td>Labels</td>\n",
       "      <td>Self-Adhesive Address Labels for Typewriters b...</td>\n",
       "      <td>14.6200</td>\n",
       "    </tr>\n",
       "    <tr>\n",
       "      <th>3</th>\n",
       "      <td>4</td>\n",
       "      <td>US-2016-108966</td>\n",
       "      <td>11/10/2016</td>\n",
       "      <td>18/10/2016</td>\n",
       "      <td>Standard Class</td>\n",
       "      <td>SO-20335</td>\n",
       "      <td>Sean O'Donnell</td>\n",
       "      <td>Consumer</td>\n",
       "      <td>United States</td>\n",
       "      <td>Fort Lauderdale</td>\n",
       "      <td>Florida</td>\n",
       "      <td>33311.0</td>\n",
       "      <td>South</td>\n",
       "      <td>FUR-TA-10000577</td>\n",
       "      <td>Furniture</td>\n",
       "      <td>Tables</td>\n",
       "      <td>Bretford CR4500 Series Slim Rectangular Table</td>\n",
       "      <td>957.5775</td>\n",
       "    </tr>\n",
       "    <tr>\n",
       "      <th>4</th>\n",
       "      <td>5</td>\n",
       "      <td>US-2016-108966</td>\n",
       "      <td>11/10/2016</td>\n",
       "      <td>18/10/2016</td>\n",
       "      <td>Standard Class</td>\n",
       "      <td>SO-20335</td>\n",
       "      <td>Sean O'Donnell</td>\n",
       "      <td>Consumer</td>\n",
       "      <td>United States</td>\n",
       "      <td>Fort Lauderdale</td>\n",
       "      <td>Florida</td>\n",
       "      <td>33311.0</td>\n",
       "      <td>South</td>\n",
       "      <td>OFF-ST-10000760</td>\n",
       "      <td>Office Supplies</td>\n",
       "      <td>Storage</td>\n",
       "      <td>Eldon Fold 'N Roll Cart System</td>\n",
       "      <td>22.3680</td>\n",
       "    </tr>\n",
       "  </tbody>\n",
       "</table>\n",
       "</div>"
      ],
      "text/plain": [
       "   Row ID        Order ID  Order Date   Ship Date       Ship Mode Customer ID  \\\n",
       "0       1  CA-2017-152156  08/11/2017  11/11/2017    Second Class    CG-12520   \n",
       "1       2  CA-2017-152156  08/11/2017  11/11/2017    Second Class    CG-12520   \n",
       "2       3  CA-2017-138688  12/06/2017  16/06/2017    Second Class    DV-13045   \n",
       "3       4  US-2016-108966  11/10/2016  18/10/2016  Standard Class    SO-20335   \n",
       "4       5  US-2016-108966  11/10/2016  18/10/2016  Standard Class    SO-20335   \n",
       "\n",
       "     Customer Name    Segment        Country             City       State  \\\n",
       "0      Claire Gute   Consumer  United States        Henderson    Kentucky   \n",
       "1      Claire Gute   Consumer  United States        Henderson    Kentucky   \n",
       "2  Darrin Van Huff  Corporate  United States      Los Angeles  California   \n",
       "3   Sean O'Donnell   Consumer  United States  Fort Lauderdale     Florida   \n",
       "4   Sean O'Donnell   Consumer  United States  Fort Lauderdale     Florida   \n",
       "\n",
       "   Postal Code Region       Product ID         Category Sub-Category  \\\n",
       "0      42420.0  South  FUR-BO-10001798        Furniture    Bookcases   \n",
       "1      42420.0  South  FUR-CH-10000454        Furniture       Chairs   \n",
       "2      90036.0   West  OFF-LA-10000240  Office Supplies       Labels   \n",
       "3      33311.0  South  FUR-TA-10000577        Furniture       Tables   \n",
       "4      33311.0  South  OFF-ST-10000760  Office Supplies      Storage   \n",
       "\n",
       "                                        Product Name     Sales  \n",
       "0                  Bush Somerset Collection Bookcase  261.9600  \n",
       "1  Hon Deluxe Fabric Upholstered Stacking Chairs,...  731.9400  \n",
       "2  Self-Adhesive Address Labels for Typewriters b...   14.6200  \n",
       "3      Bretford CR4500 Series Slim Rectangular Table  957.5775  \n",
       "4                     Eldon Fold 'N Roll Cart System   22.3680  "
      ]
     },
     "execution_count": 97,
     "metadata": {},
     "output_type": "execute_result"
    }
   ],
   "source": [
    "df = pd.read_csv('train.csv')\n",
    "df.head()"
   ]
  },
  {
   "cell_type": "code",
   "execution_count": 98,
   "id": "eb0cbc15-cf50-41ae-b703-3cc64e0cc750",
   "metadata": {},
   "outputs": [],
   "source": [
    "# Removing the NULL value from data frame\n",
    "df.dropna(inplace=True)"
   ]
  },
  {
   "cell_type": "code",
   "execution_count": 99,
   "id": "9ef8a345-8526-438a-bdcb-66e8d247f248",
   "metadata": {},
   "outputs": [
    {
     "name": "stdout",
     "output_type": "stream",
     "text": [
      "Shape of the data : (9789, 18)\n"
     ]
    }
   ],
   "source": [
    "print(f'Shape of the data : {df.shape}')"
   ]
  },
  {
   "cell_type": "code",
   "execution_count": 100,
   "id": "7d9f7fee-b7cc-407b-b1ec-2a72e74c4dd1",
   "metadata": {},
   "outputs": [
    {
     "name": "stdout",
     "output_type": "stream",
     "text": [
      "<class 'pandas.core.frame.DataFrame'>\n",
      "Index: 9789 entries, 0 to 9799\n",
      "Data columns (total 18 columns):\n",
      " #   Column         Non-Null Count  Dtype  \n",
      "---  ------         --------------  -----  \n",
      " 0   Row ID         9789 non-null   int64  \n",
      " 1   Order ID       9789 non-null   object \n",
      " 2   Order Date     9789 non-null   object \n",
      " 3   Ship Date      9789 non-null   object \n",
      " 4   Ship Mode      9789 non-null   object \n",
      " 5   Customer ID    9789 non-null   object \n",
      " 6   Customer Name  9789 non-null   object \n",
      " 7   Segment        9789 non-null   object \n",
      " 8   Country        9789 non-null   object \n",
      " 9   City           9789 non-null   object \n",
      " 10  State          9789 non-null   object \n",
      " 11  Postal Code    9789 non-null   float64\n",
      " 12  Region         9789 non-null   object \n",
      " 13  Product ID     9789 non-null   object \n",
      " 14  Category       9789 non-null   object \n",
      " 15  Sub-Category   9789 non-null   object \n",
      " 16  Product Name   9789 non-null   object \n",
      " 17  Sales          9789 non-null   float64\n",
      "dtypes: float64(2), int64(1), object(15)\n",
      "memory usage: 1.4+ MB\n"
     ]
    }
   ],
   "source": [
    "df.info()"
   ]
  },
  {
   "cell_type": "code",
   "execution_count": 101,
   "id": "9eee1439-f734-4e5f-ad57-e1bad1a3c161",
   "metadata": {},
   "outputs": [],
   "source": [
    "df.drop(['Row ID'],axis=1,inplace=True)"
   ]
  },
  {
   "cell_type": "code",
   "execution_count": 57,
   "id": "48224fbf-d0f2-49c0-abfa-fc71f3b1a258",
   "metadata": {},
   "outputs": [],
   "source": [
    "df['Postal Code'] = df['Postal Code'].astype(int)"
   ]
  },
  {
   "cell_type": "code",
   "execution_count": 102,
   "id": "228b4363-95d5-4116-977b-41e367654b85",
   "metadata": {},
   "outputs": [
    {
     "name": "stdout",
     "output_type": "stream",
     "text": [
      "<class 'pandas.core.frame.DataFrame'>\n",
      "Index: 9789 entries, 0 to 9799\n",
      "Data columns (total 17 columns):\n",
      " #   Column         Non-Null Count  Dtype         \n",
      "---  ------         --------------  -----         \n",
      " 0   Order ID       9789 non-null   object        \n",
      " 1   Order Date     9789 non-null   datetime64[ns]\n",
      " 2   Ship Date      9789 non-null   datetime64[ns]\n",
      " 3   Ship Mode      9789 non-null   object        \n",
      " 4   Customer ID    9789 non-null   object        \n",
      " 5   Customer Name  9789 non-null   object        \n",
      " 6   Segment        9789 non-null   object        \n",
      " 7   Country        9789 non-null   object        \n",
      " 8   City           9789 non-null   object        \n",
      " 9   State          9789 non-null   object        \n",
      " 10  Postal Code    9789 non-null   float64       \n",
      " 11  Region         9789 non-null   object        \n",
      " 12  Product ID     9789 non-null   object        \n",
      " 13  Category       9789 non-null   object        \n",
      " 14  Sub-Category   9789 non-null   object        \n",
      " 15  Product Name   9789 non-null   object        \n",
      " 16  Sales          9789 non-null   float64       \n",
      "dtypes: datetime64[ns](2), float64(2), object(13)\n",
      "memory usage: 1.3+ MB\n"
     ]
    }
   ],
   "source": [
    "# String time : https://docs.python.org/3/library/datetime.html#strftime-and-strptime-behavior\n",
    "df['Order Date'] = pd.to_datetime(df['Order Date'],format=\"%d/%m/%Y\")\n",
    "df['Ship Date'] = pd.to_datetime(df['Ship Date'],format='%d/%m/%Y') \n",
    "df.info()"
   ]
  },
  {
   "cell_type": "code",
   "execution_count": 27,
   "id": "027e97d1-c0b1-4624-b9e7-27d25f79ad30",
   "metadata": {},
   "outputs": [],
   "source": [
    "# This will work on full data frame (Full TABLE)\n",
    "#df.dropna(inplace = True)\n",
    "\n",
    "# this will work on multiple Column to remove null entries\n",
    "df.dropna(subset=['Row ID','Postal Code'],inplace=True)\n",
    "\n",
    "# this is only work for single column to remove null entries\n",
    "df['Postal Code'].dropna(inplace=True)"
   ]
  },
  {
   "cell_type": "code",
   "execution_count": 103,
   "id": "e2d9e846-12cf-4281-a5b0-50467273a276",
   "metadata": {},
   "outputs": [],
   "source": [
    "# Outlier Detection :\n",
    "#....LT....25%.....50%.....75%....UT...100%\n",
    "Q1 = df.Sales.describe()['25%']\n",
    "Q3 = df.Sales.describe()['75%']\n",
    "# Inter Quartile Range (IQR)\n",
    "IQR  = Q3 - Q1\n",
    "LT = Q1 - 1.5 * IQR\n",
    "UT = Q3 + 1.5 * IQR"
   ]
  },
  {
   "cell_type": "code",
   "execution_count": 104,
   "id": "1e290d2c-b319-41b7-894f-aaf11126d725",
   "metadata": {},
   "outputs": [
    {
     "name": "stdout",
     "output_type": "stream",
     "text": [
      "Number of Outliers in Sales Data : 1141/9789\n"
     ]
    }
   ],
   "source": [
    "# iterating the index for row\n",
    "count = 0\n",
    "for index in df.index:\n",
    "    if df.loc[index,'Sales'] < LT or df.loc[index,'Sales'] > UT:\n",
    "        #print(index,end=',')\n",
    "        count += 1\n",
    "print(f'Number of Outliers in Sales Data : {count}/{df.shape[0]}')"
   ]
  },
  {
   "cell_type": "code",
   "execution_count": 105,
   "id": "8e0b82a8-98fe-4de2-8ac5-16db66827efd",
   "metadata": {},
   "outputs": [
    {
     "data": {
      "text/plain": [
       "(8648, 17)"
      ]
     },
     "execution_count": 105,
     "metadata": {},
     "output_type": "execute_result"
    }
   ],
   "source": [
    "# Method 1: Remove the outlier Data from the data frame\n",
    "for index in df.index:\n",
    "    if df.loc[index,'Sales'] < LT or df.loc[index,'Sales'] > UT:\n",
    "        # for outlier data, putting null values\n",
    "        df.loc[index,'Sales'] = np.NaN\n",
    "df.dropna(inplace=True)\n",
    "df.shape"
   ]
  },
  {
   "cell_type": "code",
   "execution_count": 106,
   "id": "8bba3828-5c9b-4ecb-ad7b-dd885768ccf1",
   "metadata": {},
   "outputs": [
    {
     "data": {
      "text/plain": [
       "count    8648.000000\n",
       "mean       93.183839\n",
       "std       114.638609\n",
       "min         0.444000\n",
       "25%        15.059000\n",
       "50%        40.832000\n",
       "75%       124.371000\n",
       "max       499.990000\n",
       "Name: Sales, dtype: float64"
      ]
     },
     "execution_count": 106,
     "metadata": {},
     "output_type": "execute_result"
    }
   ],
   "source": [
    "df.Sales.describe()"
   ]
  },
  {
   "cell_type": "code",
   "execution_count": 107,
   "id": "a2f819ca-dc89-4ca0-93c3-ba931a4fa410",
   "metadata": {},
   "outputs": [
    {
     "data": {
      "text/plain": [
       "(9789, 18)"
      ]
     },
     "execution_count": 107,
     "metadata": {},
     "output_type": "execute_result"
    }
   ],
   "source": [
    "# Method 2: Replace the outlier data with mean / median / mode \n",
    "df = pd.read_csv('train.csv')\n",
    "df.dropna(inplace=True)\n",
    "\n",
    "# Computing mean sale value\n",
    "meanValue = df.Sales.mean()\n",
    "# Computing mediabn sale value\n",
    "medianValue = df.Sales.median()\n",
    "# Computing mode sale value\n",
    "modeValue = df.Sales.mode()[0]\n",
    "\n",
    "for index in df.index:\n",
    "    if df.loc[index,'Sales'] < LT or df.loc[index,'Sales'] > UT:\n",
    "        # for outlier data, putting mean value for the column\n",
    "        df.loc[index,'Sales'] = meanValue\n",
    "\n",
    "df.shape"
   ]
  },
  {
   "cell_type": "code",
   "execution_count": 108,
   "id": "764f69e6-72f5-41d1-b83b-62fb8667600e",
   "metadata": {},
   "outputs": [
    {
     "data": {
      "text/plain": [
       "(8648, 18)"
      ]
     },
     "execution_count": 108,
     "metadata": {},
     "output_type": "execute_result"
    }
   ],
   "source": [
    "# Method 3:  Removing the rows by drop method\n",
    "df = pd.read_csv('train.csv')\n",
    "df.dropna(inplace=True)\n",
    "for index in df.index:\n",
    "    if df.loc[index,'Sales'] < LT or df.loc[index,'Sales'] > UT:\n",
    "        df.drop(index, inplace=True)        \n",
    "df.shape"
   ]
  },
  {
   "cell_type": "code",
   "execution_count": 109,
   "id": "f1e96ff6-2928-4564-947c-6fa22afe4918",
   "metadata": {},
   "outputs": [
    {
     "data": {
      "text/plain": [
       "count    8648.000000\n",
       "mean       93.183839\n",
       "std       114.638609\n",
       "min         0.444000\n",
       "25%        15.059000\n",
       "50%        40.832000\n",
       "75%       124.371000\n",
       "max       499.990000\n",
       "Name: Sales, dtype: float64"
      ]
     },
     "execution_count": 109,
     "metadata": {},
     "output_type": "execute_result"
    }
   ],
   "source": [
    "df.Sales.describe()"
   ]
  },
  {
   "cell_type": "markdown",
   "id": "f292d229-3c0c-4a21-890d-ecbe34654114",
   "metadata": {},
   "source": [
    "### Dupliate Entries Removal "
   ]
  },
  {
   "cell_type": "code",
   "execution_count": 110,
   "id": "7d9e746b-0ee6-4f12-bfa4-d574a0677232",
   "metadata": {},
   "outputs": [
    {
     "data": {
      "text/plain": [
       "(778, 9)"
      ]
     },
     "execution_count": 110,
     "metadata": {},
     "output_type": "execute_result"
    }
   ],
   "source": [
    "df = pd.read_csv('diabetes.csv')\n",
    "df.shape"
   ]
  },
  {
   "cell_type": "code",
   "execution_count": null,
   "id": "2e1dfa21-905d-467a-87ba-9d5eeecb6d4f",
   "metadata": {},
   "outputs": [],
   "source": []
  },
  {
   "cell_type": "code",
   "execution_count": 111,
   "id": "05ffe26c-dcd6-4d7a-b73d-13a48b8fbe66",
   "metadata": {},
   "outputs": [
    {
     "data": {
      "text/plain": [
       "10"
      ]
     },
     "execution_count": 111,
     "metadata": {},
     "output_type": "execute_result"
    }
   ],
   "source": [
    "np.sum(df.duplicated())"
   ]
  },
  {
   "cell_type": "code",
   "execution_count": 112,
   "id": "024cf238-9bf3-45b1-9c01-c8cb016912f8",
   "metadata": {},
   "outputs": [],
   "source": [
    "df.drop_duplicates(inplace=True)"
   ]
  },
  {
   "cell_type": "code",
   "execution_count": 113,
   "id": "27c2b3db-f61f-486b-b98b-9a14b25397e9",
   "metadata": {},
   "outputs": [
    {
     "data": {
      "text/plain": [
       "(768, 9)"
      ]
     },
     "execution_count": 113,
     "metadata": {},
     "output_type": "execute_result"
    }
   ],
   "source": [
    "df.shape"
   ]
  },
  {
   "cell_type": "code",
   "execution_count": 114,
   "id": "b9b5c456-8ffb-43ec-b602-1db3d86f0db1",
   "metadata": {},
   "outputs": [
    {
     "data": {
      "text/html": [
       "<div>\n",
       "<style scoped>\n",
       "    .dataframe tbody tr th:only-of-type {\n",
       "        vertical-align: middle;\n",
       "    }\n",
       "\n",
       "    .dataframe tbody tr th {\n",
       "        vertical-align: top;\n",
       "    }\n",
       "\n",
       "    .dataframe thead th {\n",
       "        text-align: right;\n",
       "    }\n",
       "</style>\n",
       "<table border=\"1\" class=\"dataframe\">\n",
       "  <thead>\n",
       "    <tr style=\"text-align: right;\">\n",
       "      <th></th>\n",
       "      <th>A</th>\n",
       "      <th>B</th>\n",
       "      <th>C</th>\n",
       "    </tr>\n",
       "  </thead>\n",
       "  <tbody>\n",
       "    <tr>\n",
       "      <th>A</th>\n",
       "      <td>BMW</td>\n",
       "      <td>4.0</td>\n",
       "      <td>False</td>\n",
       "    </tr>\n",
       "    <tr>\n",
       "      <th>B</th>\n",
       "      <td>Porce</td>\n",
       "      <td>NaN</td>\n",
       "      <td>True</td>\n",
       "    </tr>\n",
       "  </tbody>\n",
       "</table>\n",
       "</div>"
      ],
      "text/plain": [
       "       A    B      C\n",
       "A    BMW  4.0  False\n",
       "B  Porce  NaN   True"
      ]
     },
     "execution_count": 114,
     "metadata": {},
     "output_type": "execute_result"
    }
   ],
   "source": [
    "# Assigning the Label name by using index in DataFrame\n",
    "mydata = { \"A\" : [\"BMW\",\"Porce\"], \"B\" : [4,np.nan] , \"C\" : [False,True]}\n",
    "df = pd.DataFrame(mydata,index = [\"A\",\"B\",])\n",
    "df"
   ]
  },
  {
   "cell_type": "code",
   "execution_count": 115,
   "id": "116cd57d-f219-4359-a2fe-c33a7babe085",
   "metadata": {},
   "outputs": [
    {
     "data": {
      "text/html": [
       "<div>\n",
       "<style scoped>\n",
       "    .dataframe tbody tr th:only-of-type {\n",
       "        vertical-align: middle;\n",
       "    }\n",
       "\n",
       "    .dataframe tbody tr th {\n",
       "        vertical-align: top;\n",
       "    }\n",
       "\n",
       "    .dataframe thead th {\n",
       "        text-align: right;\n",
       "    }\n",
       "</style>\n",
       "<table border=\"1\" class=\"dataframe\">\n",
       "  <thead>\n",
       "    <tr style=\"text-align: right;\">\n",
       "      <th></th>\n",
       "      <th>A</th>\n",
       "      <th>C</th>\n",
       "    </tr>\n",
       "  </thead>\n",
       "  <tbody>\n",
       "    <tr>\n",
       "      <th>A</th>\n",
       "      <td>BMW</td>\n",
       "      <td>False</td>\n",
       "    </tr>\n",
       "    <tr>\n",
       "      <th>B</th>\n",
       "      <td>Porce</td>\n",
       "      <td>True</td>\n",
       "    </tr>\n",
       "  </tbody>\n",
       "</table>\n",
       "</div>"
      ],
      "text/plain": [
       "       A      C\n",
       "A    BMW  False\n",
       "B  Porce   True"
      ]
     },
     "execution_count": 115,
     "metadata": {},
     "output_type": "execute_result"
    }
   ],
   "source": [
    "# Remove the column B from the data frame\n",
    "df.drop(['B'],axis=1,inplace=True)\n",
    "df"
   ]
  },
  {
   "cell_type": "code",
   "execution_count": 116,
   "id": "8aed9e1d-4efd-4abf-9421-73c1e2ead1e1",
   "metadata": {},
   "outputs": [
    {
     "name": "stdout",
     "output_type": "stream",
     "text": [
      "A\n",
      "B\n"
     ]
    }
   ],
   "source": [
    "for index in df.index:\n",
    "    print(index)"
   ]
  },
  {
   "cell_type": "code",
   "execution_count": 117,
   "id": "cb00ef38-35be-487c-86e6-e706064226d5",
   "metadata": {},
   "outputs": [
    {
     "data": {
      "text/html": [
       "<div>\n",
       "<style scoped>\n",
       "    .dataframe tbody tr th:only-of-type {\n",
       "        vertical-align: middle;\n",
       "    }\n",
       "\n",
       "    .dataframe tbody tr th {\n",
       "        vertical-align: top;\n",
       "    }\n",
       "\n",
       "    .dataframe thead th {\n",
       "        text-align: right;\n",
       "    }\n",
       "</style>\n",
       "<table border=\"1\" class=\"dataframe\">\n",
       "  <thead>\n",
       "    <tr style=\"text-align: right;\">\n",
       "      <th></th>\n",
       "      <th>A</th>\n",
       "      <th>C</th>\n",
       "    </tr>\n",
       "  </thead>\n",
       "  <tbody>\n",
       "    <tr>\n",
       "      <th>A</th>\n",
       "      <td>BMW</td>\n",
       "      <td>False</td>\n",
       "    </tr>\n",
       "  </tbody>\n",
       "</table>\n",
       "</div>"
      ],
      "text/plain": [
       "     A      C\n",
       "A  BMW  False"
      ]
     },
     "execution_count": 117,
     "metadata": {},
     "output_type": "execute_result"
    }
   ],
   "source": [
    "# Removing the rows from the data\n",
    "df.drop(['B'],axis=0,inplace=True)\n",
    "df"
   ]
  },
  {
   "cell_type": "code",
   "execution_count": 118,
   "id": "7f32f680-71ff-4470-a4dc-0069ea99a9e0",
   "metadata": {},
   "outputs": [
    {
     "data": {
      "text/plain": [
       "(778, 9)"
      ]
     },
     "execution_count": 118,
     "metadata": {},
     "output_type": "execute_result"
    }
   ],
   "source": [
    "df = pd.read_csv('diabetes.csv')\n",
    "df.shape"
   ]
  },
  {
   "cell_type": "code",
   "execution_count": 119,
   "id": "43c0b64e-4809-4d94-9aab-5df036310b00",
   "metadata": {},
   "outputs": [
    {
     "name": "stdout",
     "output_type": "stream",
     "text": [
      "<class 'pandas.core.frame.DataFrame'>\n",
      "RangeIndex: 778 entries, 0 to 777\n",
      "Data columns (total 9 columns):\n",
      " #   Column                    Non-Null Count  Dtype  \n",
      "---  ------                    --------------  -----  \n",
      " 0   Pregnancies               778 non-null    int64  \n",
      " 1   Glucose                   778 non-null    int64  \n",
      " 2   BloodPressure             778 non-null    int64  \n",
      " 3   SkinThickness             778 non-null    int64  \n",
      " 4   Insulin                   778 non-null    int64  \n",
      " 5   BMI                       778 non-null    float64\n",
      " 6   DiabetesPedigreeFunction  778 non-null    float64\n",
      " 7   Age                       778 non-null    int64  \n",
      " 8   Outcome                   778 non-null    int64  \n",
      "dtypes: float64(2), int64(7)\n",
      "memory usage: 54.8 KB\n"
     ]
    }
   ],
   "source": [
    "df.info()"
   ]
  },
  {
   "cell_type": "code",
   "execution_count": 121,
   "id": "52048f8f-dd6d-4bea-98b6-8371d2ab252a",
   "metadata": {},
   "outputs": [
    {
     "data": {
      "text/html": [
       "<div>\n",
       "<style scoped>\n",
       "    .dataframe tbody tr th:only-of-type {\n",
       "        vertical-align: middle;\n",
       "    }\n",
       "\n",
       "    .dataframe tbody tr th {\n",
       "        vertical-align: top;\n",
       "    }\n",
       "\n",
       "    .dataframe thead th {\n",
       "        text-align: right;\n",
       "    }\n",
       "</style>\n",
       "<table border=\"1\" class=\"dataframe\">\n",
       "  <thead>\n",
       "    <tr style=\"text-align: right;\">\n",
       "      <th></th>\n",
       "      <th>Pregnancies</th>\n",
       "      <th>Glucose</th>\n",
       "      <th>BloodPressure</th>\n",
       "      <th>SkinThickness</th>\n",
       "      <th>Insulin</th>\n",
       "      <th>BMI</th>\n",
       "      <th>DiabetesPedigreeFunction</th>\n",
       "      <th>Age</th>\n",
       "    </tr>\n",
       "  </thead>\n",
       "  <tbody>\n",
       "    <tr>\n",
       "      <th>Pregnancies</th>\n",
       "      <td>1.000000</td>\n",
       "      <td>0.126413</td>\n",
       "      <td>0.103212</td>\n",
       "      <td>-0.092583</td>\n",
       "      <td>-0.079327</td>\n",
       "      <td>0.021237</td>\n",
       "      <td>-0.042482</td>\n",
       "      <td>0.535992</td>\n",
       "    </tr>\n",
       "    <tr>\n",
       "      <th>Glucose</th>\n",
       "      <td>0.126413</td>\n",
       "      <td>1.000000</td>\n",
       "      <td>0.152593</td>\n",
       "      <td>0.052517</td>\n",
       "      <td>0.327243</td>\n",
       "      <td>0.220553</td>\n",
       "      <td>0.141821</td>\n",
       "      <td>0.261926</td>\n",
       "    </tr>\n",
       "    <tr>\n",
       "      <th>BloodPressure</th>\n",
       "      <td>0.103212</td>\n",
       "      <td>0.152593</td>\n",
       "      <td>1.000000</td>\n",
       "      <td>0.219434</td>\n",
       "      <td>0.097097</td>\n",
       "      <td>0.263753</td>\n",
       "      <td>0.059749</td>\n",
       "      <td>0.238055</td>\n",
       "    </tr>\n",
       "    <tr>\n",
       "      <th>SkinThickness</th>\n",
       "      <td>-0.092583</td>\n",
       "      <td>0.052517</td>\n",
       "      <td>0.219434</td>\n",
       "      <td>1.000000</td>\n",
       "      <td>0.440219</td>\n",
       "      <td>0.387288</td>\n",
       "      <td>0.183450</td>\n",
       "      <td>-0.110328</td>\n",
       "    </tr>\n",
       "    <tr>\n",
       "      <th>Insulin</th>\n",
       "      <td>-0.079327</td>\n",
       "      <td>0.327243</td>\n",
       "      <td>0.097097</td>\n",
       "      <td>0.440219</td>\n",
       "      <td>1.000000</td>\n",
       "      <td>0.194596</td>\n",
       "      <td>0.184767</td>\n",
       "      <td>-0.040163</td>\n",
       "    </tr>\n",
       "    <tr>\n",
       "      <th>BMI</th>\n",
       "      <td>0.021237</td>\n",
       "      <td>0.220553</td>\n",
       "      <td>0.263753</td>\n",
       "      <td>0.387288</td>\n",
       "      <td>0.194596</td>\n",
       "      <td>1.000000</td>\n",
       "      <td>0.137860</td>\n",
       "      <td>0.033655</td>\n",
       "    </tr>\n",
       "    <tr>\n",
       "      <th>DiabetesPedigreeFunction</th>\n",
       "      <td>-0.042482</td>\n",
       "      <td>0.141821</td>\n",
       "      <td>0.059749</td>\n",
       "      <td>0.183450</td>\n",
       "      <td>0.184767</td>\n",
       "      <td>0.137860</td>\n",
       "      <td>1.000000</td>\n",
       "      <td>0.034517</td>\n",
       "    </tr>\n",
       "    <tr>\n",
       "      <th>Age</th>\n",
       "      <td>0.535992</td>\n",
       "      <td>0.261926</td>\n",
       "      <td>0.238055</td>\n",
       "      <td>-0.110328</td>\n",
       "      <td>-0.040163</td>\n",
       "      <td>0.033655</td>\n",
       "      <td>0.034517</td>\n",
       "      <td>1.000000</td>\n",
       "    </tr>\n",
       "  </tbody>\n",
       "</table>\n",
       "</div>"
      ],
      "text/plain": [
       "                          Pregnancies   Glucose  BloodPressure  SkinThickness  \\\n",
       "Pregnancies                  1.000000  0.126413       0.103212      -0.092583   \n",
       "Glucose                      0.126413  1.000000       0.152593       0.052517   \n",
       "BloodPressure                0.103212  0.152593       1.000000       0.219434   \n",
       "SkinThickness               -0.092583  0.052517       0.219434       1.000000   \n",
       "Insulin                     -0.079327  0.327243       0.097097       0.440219   \n",
       "BMI                          0.021237  0.220553       0.263753       0.387288   \n",
       "DiabetesPedigreeFunction    -0.042482  0.141821       0.059749       0.183450   \n",
       "Age                          0.535992  0.261926       0.238055      -0.110328   \n",
       "\n",
       "                           Insulin       BMI  DiabetesPedigreeFunction  \\\n",
       "Pregnancies              -0.079327  0.021237                 -0.042482   \n",
       "Glucose                   0.327243  0.220553                  0.141821   \n",
       "BloodPressure             0.097097  0.263753                  0.059749   \n",
       "SkinThickness             0.440219  0.387288                  0.183450   \n",
       "Insulin                   1.000000  0.194596                  0.184767   \n",
       "BMI                       0.194596  1.000000                  0.137860   \n",
       "DiabetesPedigreeFunction  0.184767  0.137860                  1.000000   \n",
       "Age                      -0.040163  0.033655                  0.034517   \n",
       "\n",
       "                               Age  \n",
       "Pregnancies               0.535992  \n",
       "Glucose                   0.261926  \n",
       "BloodPressure             0.238055  \n",
       "SkinThickness            -0.110328  \n",
       "Insulin                  -0.040163  \n",
       "BMI                       0.033655  \n",
       "DiabetesPedigreeFunction  0.034517  \n",
       "Age                       1.000000  "
      ]
     },
     "execution_count": 121,
     "metadata": {},
     "output_type": "execute_result"
    }
   ],
   "source": [
    "X = df.drop('Outcome',axis=1)\n",
    "# corr function: \n",
    "\"\"\"It can work on all numerical data, but usually we compute the correlation matrix between all independent columns of the data.\n",
    "If you vary one column, the behaviour other columns feature varie.\"\"\"\n",
    "\n",
    "\n",
    "# Machine Learning Algorithms =>\n",
    "# 1. Outcome/Result/Class/Predicted Value ( Dependent Column/ Feature)\n",
    "# 2. Many Features or Columns are given which plays a role to compute, predict or outcome is depened on those features or colun\n",
    "X.corr() "
   ]
  },
  {
   "cell_type": "code",
   "execution_count": 123,
   "id": "ff507d48-508c-4110-b3e5-dbd4b5113725",
   "metadata": {},
   "outputs": [
    {
     "data": {
      "text/html": [
       "<div>\n",
       "<style scoped>\n",
       "    .dataframe tbody tr th:only-of-type {\n",
       "        vertical-align: middle;\n",
       "    }\n",
       "\n",
       "    .dataframe tbody tr th {\n",
       "        vertical-align: top;\n",
       "    }\n",
       "\n",
       "    .dataframe thead th {\n",
       "        text-align: right;\n",
       "    }\n",
       "</style>\n",
       "<table border=\"1\" class=\"dataframe\">\n",
       "  <thead>\n",
       "    <tr style=\"text-align: right;\">\n",
       "      <th></th>\n",
       "      <th>Pregnancies</th>\n",
       "      <th>Insulin</th>\n",
       "      <th>Age</th>\n",
       "    </tr>\n",
       "  </thead>\n",
       "  <tbody>\n",
       "    <tr>\n",
       "      <th>Pregnancies</th>\n",
       "      <td>1.000000</td>\n",
       "      <td>-0.079327</td>\n",
       "      <td>0.535992</td>\n",
       "    </tr>\n",
       "    <tr>\n",
       "      <th>Insulin</th>\n",
       "      <td>-0.079327</td>\n",
       "      <td>1.000000</td>\n",
       "      <td>-0.040163</td>\n",
       "    </tr>\n",
       "    <tr>\n",
       "      <th>Age</th>\n",
       "      <td>0.535992</td>\n",
       "      <td>-0.040163</td>\n",
       "      <td>1.000000</td>\n",
       "    </tr>\n",
       "  </tbody>\n",
       "</table>\n",
       "</div>"
      ],
      "text/plain": [
       "             Pregnancies   Insulin       Age\n",
       "Pregnancies     1.000000 -0.079327  0.535992\n",
       "Insulin        -0.079327  1.000000 -0.040163\n",
       "Age             0.535992 -0.040163  1.000000"
      ]
     },
     "execution_count": 123,
     "metadata": {},
     "output_type": "execute_result"
    }
   ],
   "source": [
    "X[['Pregnancies','Insulin','Age']].corr()"
   ]
  },
  {
   "cell_type": "code",
   "execution_count": null,
   "id": "890577e1-df49-4732-9a6b-5c1a880879eb",
   "metadata": {},
   "outputs": [],
   "source": [
    "Correlation  > 0.6 or more : variables are much correlated\n",
    "             < -0.6 or more : much diverse in nature..."
   ]
  }
 ],
 "metadata": {
  "kernelspec": {
   "display_name": "Python 3 (ipykernel)",
   "language": "python",
   "name": "python3"
  },
  "language_info": {
   "codemirror_mode": {
    "name": "ipython",
    "version": 3
   },
   "file_extension": ".py",
   "mimetype": "text/x-python",
   "name": "python",
   "nbconvert_exporter": "python",
   "pygments_lexer": "ipython3",
   "version": "3.9.6"
  }
 },
 "nbformat": 4,
 "nbformat_minor": 5
}
