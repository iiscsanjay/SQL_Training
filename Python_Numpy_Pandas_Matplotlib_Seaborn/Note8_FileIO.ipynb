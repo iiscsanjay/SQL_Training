{
 "cells": [
  {
   "cell_type": "markdown",
   "id": "13fe5bad-e338-483e-b8e9-223e7005ebad",
   "metadata": {},
   "source": [
    "#### Reading"
   ]
  },
  {
   "cell_type": "markdown",
   "id": "628a1a15-a10f-42a6-9a17-4977c1889c87",
   "metadata": {},
   "source": [
    "- readline function\n",
    "- readlines function\n",
    "- read  function \n",
    "- f : Text Wrapper\n",
    "- seek function\n",
    "- tell function"
   ]
  },
  {
   "cell_type": "raw",
   "id": "204218df-d237-4fae-87f7-c4932554586e",
   "metadata": {},
   "source": [
    "Standard Steps to perform File Reading operations :\n",
    "\n",
    "# Step 1 : You need to open a file for reading \n",
    "\n",
    "# Step 2 : you will reading the file line by line\n",
    "\n",
    "# step 3 : You need to close a file either for reading or for writing or reading-writi"
   ]
  },
  {
   "cell_type": "code",
   "execution_count": 1,
   "id": "98309e1e-4384-41f1-acc5-b53b64c935f4",
   "metadata": {},
   "outputs": [],
   "source": [
    "newFile = \"Todo.txt\""
   ]
  },
  {
   "cell_type": "markdown",
   "id": "4d945cb4-c112-445f-b973-c80bb620db29",
   "metadata": {},
   "source": [
    "### readlines function : returns the list in which each line is the element of the list"
   ]
  },
  {
   "cell_type": "code",
   "execution_count": 2,
   "id": "8d386d0b-7330-4cae-b81a-2eb6f9a8fbb7",
   "metadata": {},
   "outputs": [
    {
     "ename": "FileNotFoundError",
     "evalue": "[Errno 2] No such file or directory: 'Todo.txt'",
     "output_type": "error",
     "traceback": [
      "\u001b[0;31m---------------------------------------------------------------------------\u001b[0m",
      "\u001b[0;31mFileNotFoundError\u001b[0m                         Traceback (most recent call last)",
      "Cell \u001b[0;32mIn[2], line 3\u001b[0m\n\u001b[1;32m      1\u001b[0m \u001b[38;5;66;03m# Step 1 : You need to open a file for reading \u001b[39;00m\n\u001b[1;32m      2\u001b[0m \u001b[38;5;66;03m# file descriptor\u001b[39;00m\n\u001b[0;32m----> 3\u001b[0m f \u001b[38;5;241m=\u001b[39m \u001b[38;5;28;43mopen\u001b[39;49m\u001b[43m(\u001b[49m\u001b[43mnewFile\u001b[49m\u001b[43m,\u001b[49m\u001b[38;5;124;43m'\u001b[39;49m\u001b[38;5;124;43mr\u001b[39;49m\u001b[38;5;124;43m'\u001b[39;49m\u001b[43m)\u001b[49m\n\u001b[1;32m      4\u001b[0m \u001b[38;5;66;03m# Step 2 : you will reading the file line by line\u001b[39;00m\n\u001b[1;32m      5\u001b[0m \n\u001b[1;32m      6\u001b[0m \u001b[38;5;66;03m# readlines reads full file and returns the list in which each line is the element of the list\u001b[39;00m\n\u001b[1;32m      7\u001b[0m \u001b[38;5;66;03m#print(f.readlines())\u001b[39;00m\n\u001b[1;32m      8\u001b[0m \n\u001b[1;32m      9\u001b[0m \u001b[38;5;66;03m# iterate a list\u001b[39;00m\n\u001b[1;32m     10\u001b[0m \u001b[38;5;28;01mfor\u001b[39;00m line \u001b[38;5;129;01min\u001b[39;00m f\u001b[38;5;241m.\u001b[39mreadlines():\n",
      "File \u001b[0;32m/opt/miniforge3/lib/python3.10/site-packages/IPython/core/interactiveshell.py:284\u001b[0m, in \u001b[0;36m_modified_open\u001b[0;34m(file, *args, **kwargs)\u001b[0m\n\u001b[1;32m    277\u001b[0m \u001b[38;5;28;01mif\u001b[39;00m file \u001b[38;5;129;01min\u001b[39;00m {\u001b[38;5;241m0\u001b[39m, \u001b[38;5;241m1\u001b[39m, \u001b[38;5;241m2\u001b[39m}:\n\u001b[1;32m    278\u001b[0m     \u001b[38;5;28;01mraise\u001b[39;00m \u001b[38;5;167;01mValueError\u001b[39;00m(\n\u001b[1;32m    279\u001b[0m         \u001b[38;5;124mf\u001b[39m\u001b[38;5;124m\"\u001b[39m\u001b[38;5;124mIPython won\u001b[39m\u001b[38;5;124m'\u001b[39m\u001b[38;5;124mt let you open fd=\u001b[39m\u001b[38;5;132;01m{\u001b[39;00mfile\u001b[38;5;132;01m}\u001b[39;00m\u001b[38;5;124m by default \u001b[39m\u001b[38;5;124m\"\u001b[39m\n\u001b[1;32m    280\u001b[0m         \u001b[38;5;124m\"\u001b[39m\u001b[38;5;124mas it is likely to crash IPython. If you know what you are doing, \u001b[39m\u001b[38;5;124m\"\u001b[39m\n\u001b[1;32m    281\u001b[0m         \u001b[38;5;124m\"\u001b[39m\u001b[38;5;124myou can use builtins\u001b[39m\u001b[38;5;124m'\u001b[39m\u001b[38;5;124m open.\u001b[39m\u001b[38;5;124m\"\u001b[39m\n\u001b[1;32m    282\u001b[0m     )\n\u001b[0;32m--> 284\u001b[0m \u001b[38;5;28;01mreturn\u001b[39;00m \u001b[43mio_open\u001b[49m\u001b[43m(\u001b[49m\u001b[43mfile\u001b[49m\u001b[43m,\u001b[49m\u001b[43m \u001b[49m\u001b[38;5;241;43m*\u001b[39;49m\u001b[43margs\u001b[49m\u001b[43m,\u001b[49m\u001b[43m \u001b[49m\u001b[38;5;241;43m*\u001b[39;49m\u001b[38;5;241;43m*\u001b[39;49m\u001b[43mkwargs\u001b[49m\u001b[43m)\u001b[49m\n",
      "\u001b[0;31mFileNotFoundError\u001b[0m: [Errno 2] No such file or directory: 'Todo.txt'"
     ]
    }
   ],
   "source": [
    "# Step 1 : You need to open a file for reading \n",
    "# file descriptor\n",
    "f = open(newFile,'r')\n",
    "# Step 2 : you will reading the file line by line\n",
    "\n",
    "# readlines reads full file and returns the list in which each line is the element of the list\n",
    "#print(f.readlines())\n",
    "\n",
    "# iterate a list\n",
    "for line in f.readlines():\n",
    "    print(line,end='')\n",
    "\n",
    "# step 3 : You need to close a file \n",
    "f.close()"
   ]
  },
  {
   "cell_type": "markdown",
   "id": "907a277d-946b-40bb-a32d-e59af55e5c29",
   "metadata": {},
   "source": [
    "### readline function: readline function returns a single line"
   ]
  },
  {
   "cell_type": "code",
   "execution_count": 3,
   "id": "f6a16561-8a44-4ee9-983e-6d5aa49444be",
   "metadata": {},
   "outputs": [
    {
     "ename": "FileNotFoundError",
     "evalue": "[Errno 2] No such file or directory: 'Todo.txt'",
     "output_type": "error",
     "traceback": [
      "\u001b[0;31m---------------------------------------------------------------------------\u001b[0m",
      "\u001b[0;31mFileNotFoundError\u001b[0m                         Traceback (most recent call last)",
      "Cell \u001b[0;32mIn[3], line 2\u001b[0m\n\u001b[1;32m      1\u001b[0m \u001b[38;5;66;03m# Step 1 : with open syntax, it will close the file automatically    \u001b[39;00m\n\u001b[0;32m----> 2\u001b[0m \u001b[38;5;28;01mwith\u001b[39;00m \u001b[38;5;28;43mopen\u001b[39;49m\u001b[43m(\u001b[49m\u001b[43mnewFile\u001b[49m\u001b[43m,\u001b[49m\u001b[38;5;124;43m'\u001b[39;49m\u001b[38;5;124;43mr\u001b[39;49m\u001b[38;5;124;43m'\u001b[39;49m\u001b[43m)\u001b[49m \u001b[38;5;28;01mas\u001b[39;00m f:\n\u001b[1;32m      3\u001b[0m \n\u001b[1;32m      4\u001b[0m     \u001b[38;5;66;03m# readline function returns a single line\u001b[39;00m\n\u001b[1;32m      5\u001b[0m     \u001b[38;5;66;03m#print(f.readline())\u001b[39;00m\n\u001b[1;32m      6\u001b[0m     line \u001b[38;5;241m=\u001b[39m f\u001b[38;5;241m.\u001b[39mreadline()\n\u001b[1;32m      7\u001b[0m     \u001b[38;5;66;03m# iterate until reaching of End of File  \"\"\u001b[39;00m\n",
      "File \u001b[0;32m/opt/miniforge3/lib/python3.10/site-packages/IPython/core/interactiveshell.py:284\u001b[0m, in \u001b[0;36m_modified_open\u001b[0;34m(file, *args, **kwargs)\u001b[0m\n\u001b[1;32m    277\u001b[0m \u001b[38;5;28;01mif\u001b[39;00m file \u001b[38;5;129;01min\u001b[39;00m {\u001b[38;5;241m0\u001b[39m, \u001b[38;5;241m1\u001b[39m, \u001b[38;5;241m2\u001b[39m}:\n\u001b[1;32m    278\u001b[0m     \u001b[38;5;28;01mraise\u001b[39;00m \u001b[38;5;167;01mValueError\u001b[39;00m(\n\u001b[1;32m    279\u001b[0m         \u001b[38;5;124mf\u001b[39m\u001b[38;5;124m\"\u001b[39m\u001b[38;5;124mIPython won\u001b[39m\u001b[38;5;124m'\u001b[39m\u001b[38;5;124mt let you open fd=\u001b[39m\u001b[38;5;132;01m{\u001b[39;00mfile\u001b[38;5;132;01m}\u001b[39;00m\u001b[38;5;124m by default \u001b[39m\u001b[38;5;124m\"\u001b[39m\n\u001b[1;32m    280\u001b[0m         \u001b[38;5;124m\"\u001b[39m\u001b[38;5;124mas it is likely to crash IPython. If you know what you are doing, \u001b[39m\u001b[38;5;124m\"\u001b[39m\n\u001b[1;32m    281\u001b[0m         \u001b[38;5;124m\"\u001b[39m\u001b[38;5;124myou can use builtins\u001b[39m\u001b[38;5;124m'\u001b[39m\u001b[38;5;124m open.\u001b[39m\u001b[38;5;124m\"\u001b[39m\n\u001b[1;32m    282\u001b[0m     )\n\u001b[0;32m--> 284\u001b[0m \u001b[38;5;28;01mreturn\u001b[39;00m \u001b[43mio_open\u001b[49m\u001b[43m(\u001b[49m\u001b[43mfile\u001b[49m\u001b[43m,\u001b[49m\u001b[43m \u001b[49m\u001b[38;5;241;43m*\u001b[39;49m\u001b[43margs\u001b[49m\u001b[43m,\u001b[49m\u001b[43m \u001b[49m\u001b[38;5;241;43m*\u001b[39;49m\u001b[38;5;241;43m*\u001b[39;49m\u001b[43mkwargs\u001b[49m\u001b[43m)\u001b[49m\n",
      "\u001b[0;31mFileNotFoundError\u001b[0m: [Errno 2] No such file or directory: 'Todo.txt'"
     ]
    }
   ],
   "source": [
    "# Step 1 : with open syntax, it will close the file automatically    \n",
    "with open(newFile,'r') as f:\n",
    "\n",
    "    # readline function returns a single line\n",
    "    #print(f.readline())\n",
    "    line = f.readline()\n",
    "    # iterate until reaching of End of File  \"\"\n",
    "    while line != \"\":\n",
    "        print(line,end='')\n",
    "        line = f.readline()    "
   ]
  },
  {
   "cell_type": "markdown",
   "id": "dc27400f-96e2-4f42-bbae-9a0e8ef813e0",
   "metadata": {},
   "source": [
    "### read function: It will reads contents given by size or reads full file and returns the contents as string"
   ]
  },
  {
   "cell_type": "code",
   "execution_count": 4,
   "id": "46a3c21b-c817-4dd8-84a1-48f4e5d13eac",
   "metadata": {},
   "outputs": [
    {
     "ename": "FileNotFoundError",
     "evalue": "[Errno 2] No such file or directory: 'Todo.txt'",
     "output_type": "error",
     "traceback": [
      "\u001b[0;31m---------------------------------------------------------------------------\u001b[0m",
      "\u001b[0;31mFileNotFoundError\u001b[0m                         Traceback (most recent call last)",
      "Cell \u001b[0;32mIn[4], line 3\u001b[0m\n\u001b[1;32m      1\u001b[0m \u001b[38;5;66;03m# Example : where size is not given, EOF\u001b[39;00m\n\u001b[1;32m      2\u001b[0m \u001b[38;5;66;03m# Step 1 : with open syntax, it will close the file automatically    \u001b[39;00m\n\u001b[0;32m----> 3\u001b[0m \u001b[38;5;28;01mwith\u001b[39;00m \u001b[38;5;28;43mopen\u001b[39;49m\u001b[43m(\u001b[49m\u001b[43mnewFile\u001b[49m\u001b[43m,\u001b[49m\u001b[38;5;124;43m'\u001b[39;49m\u001b[38;5;124;43mr\u001b[39;49m\u001b[38;5;124;43m'\u001b[39;49m\u001b[43m)\u001b[49m \u001b[38;5;28;01mas\u001b[39;00m f:     \n\u001b[1;32m      4\u001b[0m     line \u001b[38;5;241m=\u001b[39m f\u001b[38;5;241m.\u001b[39mread()\n\u001b[1;32m      5\u001b[0m     \u001b[38;5;28mprint\u001b[39m(line,end\u001b[38;5;241m=\u001b[39m\u001b[38;5;124m'\u001b[39m\u001b[38;5;124m'\u001b[39m)\n",
      "File \u001b[0;32m/opt/miniforge3/lib/python3.10/site-packages/IPython/core/interactiveshell.py:284\u001b[0m, in \u001b[0;36m_modified_open\u001b[0;34m(file, *args, **kwargs)\u001b[0m\n\u001b[1;32m    277\u001b[0m \u001b[38;5;28;01mif\u001b[39;00m file \u001b[38;5;129;01min\u001b[39;00m {\u001b[38;5;241m0\u001b[39m, \u001b[38;5;241m1\u001b[39m, \u001b[38;5;241m2\u001b[39m}:\n\u001b[1;32m    278\u001b[0m     \u001b[38;5;28;01mraise\u001b[39;00m \u001b[38;5;167;01mValueError\u001b[39;00m(\n\u001b[1;32m    279\u001b[0m         \u001b[38;5;124mf\u001b[39m\u001b[38;5;124m\"\u001b[39m\u001b[38;5;124mIPython won\u001b[39m\u001b[38;5;124m'\u001b[39m\u001b[38;5;124mt let you open fd=\u001b[39m\u001b[38;5;132;01m{\u001b[39;00mfile\u001b[38;5;132;01m}\u001b[39;00m\u001b[38;5;124m by default \u001b[39m\u001b[38;5;124m\"\u001b[39m\n\u001b[1;32m    280\u001b[0m         \u001b[38;5;124m\"\u001b[39m\u001b[38;5;124mas it is likely to crash IPython. If you know what you are doing, \u001b[39m\u001b[38;5;124m\"\u001b[39m\n\u001b[1;32m    281\u001b[0m         \u001b[38;5;124m\"\u001b[39m\u001b[38;5;124myou can use builtins\u001b[39m\u001b[38;5;124m'\u001b[39m\u001b[38;5;124m open.\u001b[39m\u001b[38;5;124m\"\u001b[39m\n\u001b[1;32m    282\u001b[0m     )\n\u001b[0;32m--> 284\u001b[0m \u001b[38;5;28;01mreturn\u001b[39;00m \u001b[43mio_open\u001b[49m\u001b[43m(\u001b[49m\u001b[43mfile\u001b[49m\u001b[43m,\u001b[49m\u001b[43m \u001b[49m\u001b[38;5;241;43m*\u001b[39;49m\u001b[43margs\u001b[49m\u001b[43m,\u001b[49m\u001b[43m \u001b[49m\u001b[38;5;241;43m*\u001b[39;49m\u001b[38;5;241;43m*\u001b[39;49m\u001b[43mkwargs\u001b[49m\u001b[43m)\u001b[49m\n",
      "\u001b[0;31mFileNotFoundError\u001b[0m: [Errno 2] No such file or directory: 'Todo.txt'"
     ]
    }
   ],
   "source": [
    "# Example : where size is not given, EOF\n",
    "# Step 1 : with open syntax, it will close the file automatically    \n",
    "with open(newFile,'r') as f:     \n",
    "    line = f.read()\n",
    "    print(line,end='')"
   ]
  },
  {
   "cell_type": "code",
   "execution_count": 40,
   "id": "aa5e0da4-d46b-4364-b8af-7ecef4be1f64",
   "metadata": {},
   "outputs": [
    {
     "name": "stdout",
     "output_type": "stream",
     "text": [
      "Annova Testing "
     ]
    }
   ],
   "source": [
    "# example : where size is given\n",
    "# Step 1 : with open syntax, it will close the file automatically    \n",
    "with open(newFile,'r') as f:\n",
    "    line = f.read(15)\n",
    "    print(line,end='')"
   ]
  },
  {
   "cell_type": "code",
   "execution_count": 41,
   "id": "645bd83b-4122-4bdd-acf6-f2baf4dcd6ac",
   "metadata": {},
   "outputs": [
    {
     "name": "stdout",
     "output_type": "stream",
     "text": [
      "Help on built-in function read:\n",
      "\n",
      "read(size=-1, /) method of _io.TextIOWrapper instance\n",
      "    Read at most n characters from stream.\n",
      "    \n",
      "    Read from underlying buffer until we have n characters or we hit EOF.\n",
      "    If n is negative or omitted, read until EOF.\n",
      "\n"
     ]
    }
   ],
   "source": [
    "f = open(newFile,'r')\n",
    "help(f.read)"
   ]
  },
  {
   "cell_type": "markdown",
   "id": "81054f1d-3182-4002-b2ad-bb1d0894b351",
   "metadata": {},
   "source": [
    "### seek function  : text mode 'r','w','a'\n",
    "                   : binary mode 'rb','wb','ab'"
   ]
  },
  {
   "cell_type": "code",
   "execution_count": 42,
   "id": "dc53d4ac-eb9c-449a-9164-b79870de9ba3",
   "metadata": {},
   "outputs": [
    {
     "name": "stdout",
     "output_type": "stream",
     "text": [
      "Example :\n",
      "Chi Square Testing Example :\n",
      "A/B Testing Example :\n",
      "Chebyshev's InEquility : \n",
      "\n",
      "Chi Square Testing Example :\n"
     ]
    }
   ],
   "source": [
    "# example : where size is given\n",
    "# Step 1 : with open syntax, it will close the file automatically    \n",
    "with open(newFile,'r') as f:\n",
    "    # I skipped first 15 character from the file and reading whole file\n",
    "    # seek moves the file descriptor postion from start to the given size of the seek\n",
    "    # seek(size, offset)\n",
    "    # offset is 0: which is default means reading from begining of the file\n",
    "    f.seek(15)\n",
    "    line = f.read()\n",
    "    print(line,end='')"
   ]
  },
  {
   "cell_type": "code",
   "execution_count": 43,
   "id": "ababc61b-8c40-4f34-a025-5ee6bdb724f6",
   "metadata": {},
   "outputs": [
    {
     "name": "stdout",
     "output_type": "stream",
     "text": [
      "b'Testing Example :\\n'"
     ]
    }
   ],
   "source": [
    "# example : where size is given\n",
    "# Step 1 : with open syntax, it will close the file automatically    \n",
    "with open(newFile,'rb') as f:\n",
    "    # I skipped first 15 character from the file and reading whole file\n",
    "    # seek moves the file descriptor postion from start to the given size of the seek\n",
    "    # seek(size, offset)\n",
    "    # offset is 2: you should open file in binary mode it is seeking from the last of the file\n",
    "    f.seek(-18,2)\n",
    "    line = f.read()\n",
    "    print(line,end='')"
   ]
  },
  {
   "cell_type": "markdown",
   "id": "b7750e25-1e06-4e47-9ef0-088f4651e6ba",
   "metadata": {},
   "source": [
    "### tell function : it will soecify the current positon in the text file"
   ]
  },
  {
   "cell_type": "code",
   "execution_count": 44,
   "id": "266a9c9a-48c8-413b-bd99-0770433468dd",
   "metadata": {},
   "outputs": [
    {
     "name": "stdout",
     "output_type": "stream",
     "text": [
      "Current Position : 15\n",
      "b'Examp'b\"quare Testing Example :\\nA/B Testing Example :\\nChebyshev's InEquility : \\n\\nChi Square Testing Example :\\n\""
     ]
    }
   ],
   "source": [
    "with open(newFile,'rb') as f:\n",
    "    f.seek(15)\n",
    "    print(f\"Current Position : {f.tell()}\")\n",
    "    line = f.read(5)\n",
    "    print(line,end='')\n",
    "    # seeking or skipping the next 10 character from the current positon\n",
    "    f.seek(10,1)\n",
    "    line = f.read()\n",
    "    print(line,end='')"
   ]
  },
  {
   "cell_type": "code",
   "execution_count": 50,
   "id": "69d6f9d5-cb73-43dc-8d02-85806eaa30bb",
   "metadata": {},
   "outputs": [
    {
     "name": "stdout",
     "output_type": "stream",
     "text": [
      "Annova Testing Example :\n",
      "Chi Square Testing Example :\n",
      "A/B Testing Example :\n",
      "Chebyshev's InEquility : \n",
      "\n",
      "Chi Square Testing Example :\n"
     ]
    }
   ],
   "source": [
    "with open(newFile,'r') as f:\n",
    "    for line in f :\n",
    "        print(line,end='')"
   ]
  },
  {
   "cell_type": "markdown",
   "id": "a5950629-7722-44cb-a1c7-433d8903d127",
   "metadata": {},
   "source": [
    "### Writing "
   ]
  },
  {
   "cell_type": "markdown",
   "id": "537fb5ae-1168-487e-85f7-3679d765a7a7",
   "metadata": {},
   "source": [
    "- write"
   ]
  },
  {
   "cell_type": "code",
   "execution_count": 5,
   "id": "9a21cee9-2e00-446b-a00a-48b9e3db7fe4",
   "metadata": {},
   "outputs": [
    {
     "name": "stdin",
     "output_type": "stream",
     "text": [
      "Enter the text:  This is first program.\n",
      "Enter the text:  thank you\n",
      "Enter the text:  quit\n"
     ]
    }
   ],
   "source": [
    "newFile = \"Expected.txt\"\n",
    "\n",
    "# mode should be 'w' or 'wb'\n",
    "with open(newFile,'w') as f:\n",
    "\n",
    "    while True:\n",
    "        inputString = input(\"Enter the text: \")\n",
    "        if inputString == \"quit\":\n",
    "            break\n",
    "        else:\n",
    "            f.write(inputString)\n",
    "            f.write(\"\\n\")"
   ]
  },
  {
   "cell_type": "code",
   "execution_count": 6,
   "id": "3285408c-9e98-4586-80f1-18f2011b13df",
   "metadata": {},
   "outputs": [
    {
     "name": "stdout",
     "output_type": "stream",
     "text": [
      "This is first program.\n",
      "thank you\n"
     ]
    }
   ],
   "source": [
    "# Verification\n",
    "with open(newFile,'r') as f:\n",
    "    for line in f :\n",
    "        print(line,end='')"
   ]
  },
  {
   "cell_type": "markdown",
   "id": "88d41fc2-4ba2-4d94-a64b-c28cc43fa2da",
   "metadata": {},
   "source": [
    "### Append mode : 'a'"
   ]
  },
  {
   "cell_type": "code",
   "execution_count": 7,
   "id": "eda1e91b-94ca-43de-8f81-51c5d892208b",
   "metadata": {},
   "outputs": [
    {
     "name": "stdin",
     "output_type": "stream",
     "text": [
      "Enter the text:  This si the second program.\n",
      "Enter the text:  welcome\n",
      "Enter the text:  quit\n"
     ]
    }
   ],
   "source": [
    "# mode should be 'a' or 'ab'\n",
    "with open(newFile,'a') as f:\n",
    "\n",
    "    while True:\n",
    "        inputString = input(\"Enter the text: \")\n",
    "        if inputString == \"quit\":\n",
    "            break\n",
    "        else:\n",
    "            f.write(inputString)\n",
    "            f.write(\"\\n\")\n",
    "    "
   ]
  },
  {
   "cell_type": "code",
   "execution_count": 8,
   "id": "fccb2233-a141-4906-9021-5ad4a9aec189",
   "metadata": {},
   "outputs": [
    {
     "name": "stdout",
     "output_type": "stream",
     "text": [
      "This is first program.\n",
      "thank you\n",
      "This si the second program.\n",
      "welcome\n"
     ]
    }
   ],
   "source": [
    "# Verification\n",
    "with open(newFile,'r') as f:\n",
    "    for line in f :\n",
    "        print(line,end='')"
   ]
  },
  {
   "cell_type": "code",
   "execution_count": 14,
   "id": "f09bdbb1-8f53-42ea-8c9d-26f54a551c63",
   "metadata": {},
   "outputs": [
    {
     "name": "stdout",
     "output_type": "stream",
     "text": [
      "Current position: 69\n",
      "Current position: 0\n",
      "b'This is first program.\\nthank you\\nThis si the second program.\\nwelcome\\n'\n"
     ]
    },
    {
     "name": "stdin",
     "output_type": "stream",
     "text": [
      "b'Enter the text: ' quit\n"
     ]
    }
   ],
   "source": [
    "# mode should be 'a' or 'ab' or ab+ or a+\n",
    "with open(newFile,'ab+') as f:\n",
    "\n",
    "    size = f.tell()\n",
    "\n",
    "    print(f\"Current position: {f.tell()}\")\n",
    "    \n",
    "    # content will overwritten by calling the size in negative direction from current posito\n",
    "    f.seek(-size,1)\n",
    "    print(f\"Current position: {f.tell()}\")\n",
    "    line = f.read()\n",
    "    print(line)\n",
    "    \n",
    "    while True:\n",
    "        inputString = input(b\"Enter the text: \")\n",
    "        if inputString == \"quit\":\n",
    "            break\n",
    "        else:\n",
    "            f.write(bytes(inputString,'ascii'))\n",
    "            f.write(bytes(\"\\n\",'ascii'))"
   ]
  },
  {
   "cell_type": "code",
   "execution_count": 78,
   "id": "d1531ca7-621d-463c-82a8-70506d6f7267",
   "metadata": {},
   "outputs": [
    {
     "name": "stdout",
     "output_type": "stream",
     "text": [
      "1 2 3 4 5\n",
      "512234\n",
      "23432\n",
      "This is the last program.\n",
      "Bbye\n",
      "lalst value\n",
      "bbye\n",
      "This is the firet programThis is the first program.\n",
      "This is the secondprogram.\n",
      "this is the last\n",
      "hello\n"
     ]
    }
   ],
   "source": [
    "# Verification\n",
    "with open(newFile,'r') as f:\n",
    "    for line in f :\n",
    "        print(line,end='')"
   ]
  },
  {
   "cell_type": "markdown",
   "id": "daaf5ca5-05d4-4e2c-997e-4b3b5ad0ad42",
   "metadata": {},
   "source": [
    "### How to save the data structure in file : List, Dictionary, Tuple"
   ]
  },
  {
   "cell_type": "code",
   "execution_count": 80,
   "id": "1602df39-d32f-446f-8ba6-9e786fb40550",
   "metadata": {},
   "outputs": [],
   "source": [
    "marks = [1,2,4,5,65,76,7,45,99,34,3,98]\n",
    "batches = { 'ABC' : 12435, 'BCD' : 234234 }\n",
    "with open('marks.txt','w') as f:\n",
    "    for mark in marks:\n",
    "        f.write(str(mark))\n",
    "        f.write('\\n')\n",
    "\n",
    "with open('batches.txt','w') as f:\n",
    "    for name, rollnumber in batches.items():\n",
    "        f.write(name)\n",
    "        f.write(':')\n",
    "        f.write(str(rollnumber))\n",
    "        f.write('\\n')"
   ]
  },
  {
   "cell_type": "code",
   "execution_count": 86,
   "id": "1b29ed73-5918-4393-b86a-4fd0a42d5e48",
   "metadata": {},
   "outputs": [
    {
     "name": "stdout",
     "output_type": "stream",
     "text": [
      "[1, 2, 4, 5, 65, 76, 7, 45, 99, 34, 3, 98]\n"
     ]
    }
   ],
   "source": [
    "# Verification\n",
    "with open('marks.txt','r') as f:\n",
    "    marks = []\n",
    "    for line in f :\n",
    "        # strip function removes the newline or unwanted space in front and back\n",
    "        line = line.strip()\n",
    "        marks.append(int(line))\n",
    "        #print(line,end='')\n",
    "\n",
    "print(marks)\n"
   ]
  },
  {
   "cell_type": "code",
   "execution_count": null,
   "id": "f824ac2a-d797-4c55-9178-b02d1c6662d5",
   "metadata": {},
   "outputs": [],
   "source": [
    "# Pickle : is the module in python which allows us to save the list, dictionary any variable in the file as such as it is....\n",
    "# YAML : similiar module like pickle "
   ]
  },
  {
   "cell_type": "code",
   "execution_count": 87,
   "id": "d9b11b0b-a4dc-4f61-990d-d7506f76ad5b",
   "metadata": {},
   "outputs": [],
   "source": [
    "# Writing the object into a file by using pickle module : dump function which save the object into a file\n",
    "import pickle\n",
    "\n",
    "marks = [1,2,4,5,65,76,7,45,99,34,3,98]\n",
    "batches = { 'ABC' : 12435, 'BCD' : 234234 }\n",
    "\n",
    "with open('marks.data','wb') as f:\n",
    "    pickle.dump(marks,f)\n",
    "    \n",
    "with open('batches.data','wb') as f:\n",
    "    pickle.dump(batches,f)"
   ]
  },
  {
   "cell_type": "code",
   "execution_count": 90,
   "id": "aa13b315-5cd8-4061-aee5-231de2801c8f",
   "metadata": {},
   "outputs": [
    {
     "name": "stdout",
     "output_type": "stream",
     "text": [
      "['In', 'Out', '_', '__', '___', '__builtin__', '__builtins__', '__doc__', '__loader__', '__name__', '__package__', '__session__', '__spec__', '_dh', '_i', '_i1', '_i10', '_i11', '_i12', '_i13', '_i14', '_i15', '_i16', '_i17', '_i18', '_i19', '_i2', '_i20', '_i21', '_i22', '_i23', '_i24', '_i25', '_i26', '_i27', '_i28', '_i29', '_i3', '_i30', '_i31', '_i32', '_i33', '_i34', '_i35', '_i36', '_i37', '_i38', '_i39', '_i4', '_i40', '_i41', '_i42', '_i43', '_i44', '_i45', '_i46', '_i47', '_i48', '_i49', '_i5', '_i50', '_i51', '_i52', '_i53', '_i54', '_i55', '_i56', '_i57', '_i58', '_i59', '_i6', '_i60', '_i61', '_i62', '_i63', '_i64', '_i65', '_i66', '_i67', '_i68', '_i69', '_i7', '_i70', '_i71', '_i72', '_i73', '_i74', '_i75', '_i76', '_i77', '_i78', '_i79', '_i8', '_i80', '_i81', '_i82', '_i83', '_i84', '_i85', '_i86', '_i87', '_i88', '_i89', '_i9', '_i90', '_ih', '_ii', '_iii', '_oh', 'exit', 'f', 'get_ipython', 'inputString', 'line', 'mark', 'newFile', 'open', 'pickle', 'quit', 's', 'size']\n"
     ]
    }
   ],
   "source": [
    "print(dir())"
   ]
  },
  {
   "cell_type": "code",
   "execution_count": 89,
   "id": "77d911d6-25aa-4ae7-b593-d3cc72d69577",
   "metadata": {},
   "outputs": [],
   "source": [
    "del batches\n",
    "del marks"
   ]
  },
  {
   "cell_type": "code",
   "execution_count": 91,
   "id": "dae23791-1d2c-4eb9-bd74-e4ef324ce95b",
   "metadata": {},
   "outputs": [
    {
     "name": "stdout",
     "output_type": "stream",
     "text": [
      "[1, 2, 4, 5, 65, 76, 7, 45, 99, 34, 3, 98]\n",
      "{'ABC': 12435, 'BCD': 234234}\n"
     ]
    }
   ],
   "source": [
    "import pickle\n",
    "\n",
    "with open('marks.data','rb') as f:\n",
    "    marks = pickle.load(f)\n",
    "\n",
    "print(marks)\n",
    "    \n",
    "with open('batches.data','rb') as f:\n",
    "    batches = pickle.load(f)\n",
    "\n",
    "print(batches)\n"
   ]
  },
  {
   "cell_type": "code",
   "execution_count": 95,
   "id": "3df9b856-8a6a-4517-a31f-7a972003a176",
   "metadata": {},
   "outputs": [],
   "source": [
    "# encoding=utf-8\n",
    "import io\n",
    "\n",
    "f = io.open(\"abc.txt\", \"wt\", encoding=\"utf-8\")\n",
    "str = u\"Imagine non-English language here\" +  chr(352) + chr(823) + \".\"\n",
    "f.write(str)\n",
    "f.close()\n"
   ]
  },
  {
   "cell_type": "code",
   "execution_count": 97,
   "id": "82659882-c9b4-4225-be9f-d964490cbb0f",
   "metadata": {},
   "outputs": [
    {
     "name": "stdout",
     "output_type": "stream",
     "text": [
      "Imagine non-English language hereŠ̷.\n"
     ]
    }
   ],
   "source": [
    "text = io.open(\"abc.txt\", encoding=\"utf-8\").read()\n",
    "print(text)"
   ]
  }
 ],
 "metadata": {
  "kernelspec": {
   "display_name": "Python 3 (ipykernel)",
   "language": "python",
   "name": "python3"
  },
  "language_info": {
   "codemirror_mode": {
    "name": "ipython",
    "version": 3
   },
   "file_extension": ".py",
   "mimetype": "text/x-python",
   "name": "python",
   "nbconvert_exporter": "python",
   "pygments_lexer": "ipython3",
   "version": "3.10.12"
  }
 },
 "nbformat": 4,
 "nbformat_minor": 5
}
