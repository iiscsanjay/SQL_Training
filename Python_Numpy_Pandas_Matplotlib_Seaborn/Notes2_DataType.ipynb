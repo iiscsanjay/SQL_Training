{
 "cells": [
  {
   "cell_type": "code",
   "execution_count": 2,
   "id": "1ae25b63-dcbd-4ecc-a1cc-ae3c2ab1938c",
   "metadata": {},
   "outputs": [],
   "source": [
    "# Numbers \n",
    "\n",
    "a = 345 # Integer value \n",
    "b = 23.3434  #Floating point values\n",
    "c = True      # Boolean Data \n",
    "d = False     # boolean data "
   ]
  },
  {
   "cell_type": "code",
   "execution_count": 3,
   "id": "1a43fd9f-3a2d-4c17-a161-4b3e590376d3",
   "metadata": {},
   "outputs": [
    {
     "name": "stdout",
     "output_type": "stream",
     "text": [
      "True\n"
     ]
    }
   ],
   "source": [
    "print(c)"
   ]
  },
  {
   "cell_type": "code",
   "execution_count": 4,
   "id": "838cb643-1a8f-4ac7-baba-8ad04179e6d5",
   "metadata": {},
   "outputs": [
    {
     "name": "stdout",
     "output_type": "stream",
     "text": [
      "False\n"
     ]
    }
   ],
   "source": [
    "print(d)"
   ]
  },
  {
   "cell_type": "code",
   "execution_count": 10,
   "id": "680e4f2e-fb14-4fc8-8022-4bf835ffc470",
   "metadata": {},
   "outputs": [
    {
     "data": {
      "text/plain": [
       "False"
      ]
     },
     "execution_count": 10,
     "metadata": {},
     "output_type": "execute_result"
    }
   ],
   "source": [
    "bool(0)"
   ]
  },
  {
   "cell_type": "code",
   "execution_count": 12,
   "id": "fa31fb1d-a77a-48ab-8403-4903e7c3a900",
   "metadata": {},
   "outputs": [
    {
     "name": "stdout",
     "output_type": "stream",
     "text": [
      "What is your name?\n",
      "My name is ABCD. I work as Data Scientist.\n"
     ]
    }
   ],
   "source": [
    "name = \"ABCD\"\n",
    "Question = \"What is your name?\"\n",
    "Answer = \"My name is \" + name + \". I work as Data Scientist.\"\n",
    "print(Question)\n",
    "print(Answer)"
   ]
  },
  {
   "cell_type": "code",
   "execution_count": 14,
   "id": "80c97fe6-c48a-48be-9af0-92ee0ab2e420",
   "metadata": {},
   "outputs": [
    {
     "name": "stdout",
     "output_type": "stream",
     "text": [
      "Name : Sanjay  Age : 34\n"
     ]
    }
   ],
   "source": [
    "string1 = \"Name : Sanjay \"\n",
    "string2 = \" Age : 34\"\n",
    "result = string1 + string2 # STring concatenation \n",
    "print(result)"
   ]
  }
 ],
 "metadata": {
  "kernelspec": {
   "display_name": "Python 3 (ipykernel)",
   "language": "python",
   "name": "python3"
  },
  "language_info": {
   "codemirror_mode": {
    "name": "ipython",
    "version": 3
   },
   "file_extension": ".py",
   "mimetype": "text/x-python",
   "name": "python",
   "nbconvert_exporter": "python",
   "pygments_lexer": "ipython3",
   "version": "3.10.12"
  }
 },
 "nbformat": 4,
 "nbformat_minor": 5
}
