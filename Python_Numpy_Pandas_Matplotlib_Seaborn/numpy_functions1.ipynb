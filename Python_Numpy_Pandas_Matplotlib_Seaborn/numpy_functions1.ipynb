{
 "cells": [
  {
   "cell_type": "code",
   "execution_count": 1,
   "id": "0366699e-3c4d-4706-92af-2efd5a8f9682",
   "metadata": {},
   "outputs": [],
   "source": [
    "import numpy as np"
   ]
  },
  {
   "cell_type": "markdown",
   "id": "22bd0a58-9f04-4663-8e98-fa499df0b7d6",
   "metadata": {},
   "source": [
    "- np.array()         : create an array in NumPy.\n",
    "- np.arange()        : create an array with a range of values.\n",
    "- np.zeros()         : create an array filled with zeros.\n",
    "- np.ones()          : create an array filled with ones.\n",
    "- np.linspace()      : create an array with a specified number of evenly spaced values.\n",
    "- np.random.rand()   : create an array with random values between 0 and 1.\n",
    "- np.random.randint(): create an array with random integer values between a specified range.\n",
    "- np.max()           : return the maximum value in numpy array\n",
    "- np.min()           : return the minimum value in numpy array\n",
    "- np.mean()          : return the mean/average of in numpy array values\n",
    "- np.delete()        : return the new array after deleting the value at given index\n",
    "- np.dot()           : return the dot product of two arrays.\n",
    "- np.sum()           : return the sum of all element of the array\n",
    "- np.prod()          : return the product of all elments of the array two arrays.\n",
    "- np.nansum()        : return the sum of all element of the array considering nan value as zero \n",
    "- np.nanprod()       : return the product of all element of the array considering nan value as one    \n",
    "- numpy.reshape()    : returns the array in the given shape\n",
    "- numpy.concatenate(): return the array after join"
   ]
  },
  {
   "cell_type": "markdown",
   "id": "75a1d0dd-6a50-4820-bcef-90f60641e491",
   "metadata": {},
   "source": [
    "#### SUM/ NANSUM"
   ]
  },
  {
   "cell_type": "code",
   "execution_count": 60,
   "id": "901a050a-b6f1-4b9f-bbc6-a404d9aeaf6a",
   "metadata": {},
   "outputs": [
    {
     "name": "stdout",
     "output_type": "stream",
     "text": [
      "SUM : 55\n"
     ]
    }
   ],
   "source": [
    "a = np.arange(11);\n",
    "print(f'SUM : {np.sum(a)}')"
   ]
  },
  {
   "cell_type": "code",
   "execution_count": 61,
   "id": "9efb084b-7dcc-47fb-8d18-4ec92f67c279",
   "metadata": {},
   "outputs": [
    {
     "name": "stdout",
     "output_type": "stream",
     "text": [
      "SUM : nan\n",
      "NaNSUM : 15.0\n"
     ]
    }
   ],
   "source": [
    "a = np.array([1,2,3,4,5,np.nan])\n",
    "print(f'SUM : {np.sum(a)}')\n",
    "print(f'NaNSUM : {np.nansum(a)}')"
   ]
  },
  {
   "cell_type": "markdown",
   "id": "5b687de8-85df-4512-9bca-e94df2e9e086",
   "metadata": {},
   "source": [
    "#### Prod/ NANProd"
   ]
  },
  {
   "cell_type": "code",
   "execution_count": 62,
   "id": "35e125f8-d7c6-4c6f-9b96-6e2631bea40e",
   "metadata": {},
   "outputs": [
    {
     "name": "stdout",
     "output_type": "stream",
     "text": [
      "[3 4 5 6]\n",
      "Product : 360\n"
     ]
    }
   ],
   "source": [
    "a = np.arange(3,7);\n",
    "print(a)\n",
    "print(f'Product : {np.prod(a)}')"
   ]
  },
  {
   "cell_type": "code",
   "execution_count": 63,
   "id": "a2d3077b-ab04-4ddf-a848-1256f869e250",
   "metadata": {},
   "outputs": [
    {
     "name": "stdout",
     "output_type": "stream",
     "text": [
      "Product : nan\n",
      "NaNProduct : 120.0\n"
     ]
    }
   ],
   "source": [
    "a = np.array([1,2,3,4,5,np.nan])\n",
    "print(f'Product : {np.prod(a)}')\n",
    "print(f'NaNProduct : {np.nanprod(a)}')"
   ]
  },
  {
   "cell_type": "markdown",
   "id": "d82d5146-67ba-46ef-b2dd-51bb40a1e149",
   "metadata": {},
   "source": [
    "#### Array Function:"
   ]
  },
  {
   "cell_type": "code",
   "execution_count": 7,
   "id": "2ea7c72a-cc39-4fb4-b80b-e835845eacea",
   "metadata": {},
   "outputs": [
    {
     "name": "stdout",
     "output_type": "stream",
     "text": [
      "Dimention of the Array : 1 D Array\n",
      "Shape of the Array     : (5,)\n",
      "Element of the Array   : [1 2 3 4 5]\n"
     ]
    }
   ],
   "source": [
    "#Array Function:\n",
    "a = np.array([1,2,3,4,5], dtype=np.int64)\n",
    "print(f'Dimention of the Array : {a.ndim} D Array')\n",
    "print(f'Shape of the Array     : {a.shape}')\n",
    "print(f'Element of the Array   : {a}')"
   ]
  },
  {
   "cell_type": "markdown",
   "id": "b7501737-2f15-4d53-a3e4-6a8f7242b1c2",
   "metadata": {},
   "source": [
    "#### Arange Function"
   ]
  },
  {
   "cell_type": "code",
   "execution_count": 8,
   "id": "3040c409-cfff-4593-ae7e-589e9b4aa671",
   "metadata": {},
   "outputs": [
    {
     "name": "stdout",
     "output_type": "stream",
     "text": [
      "10,15,20,25,30,35,40,45,50,55,60,65,70,75,80,85,90,95,"
     ]
    }
   ],
   "source": [
    "#range(start=0,end,step=1)\n",
    "for index in range(10,100,5):\n",
    "    print(index,end=',')"
   ]
  },
  {
   "cell_type": "code",
   "execution_count": 11,
   "id": "d8f4ed7e-f16a-469f-b159-6e4f42109b1e",
   "metadata": {},
   "outputs": [],
   "source": [
    "#help(np.arange)"
   ]
  },
  {
   "cell_type": "code",
   "execution_count": 9,
   "id": "125f71d1-cc86-4813-a39d-38a24115c776",
   "metadata": {},
   "outputs": [
    {
     "name": "stdout",
     "output_type": "stream",
     "text": [
      "Dimention of the Array : 1 D Array\n",
      "Shape of the Array     : (10,)\n",
      "Element of the Array   : [0 1 2 3 4 5 6 7 8 9]\n"
     ]
    }
   ],
   "source": [
    "a = np.arange(10)\n",
    "print(f'Dimention of the Array : {a.ndim} D Array')\n",
    "print(f'Shape of the Array     : {a.shape}')\n",
    "print(f'Element of the Array   : {a}')"
   ]
  },
  {
   "cell_type": "code",
   "execution_count": 15,
   "id": "c50007dd-a76a-432b-95e4-3a54035c1fb5",
   "metadata": {},
   "outputs": [
    {
     "name": "stdout",
     "output_type": "stream",
     "text": [
      "Dimention of the Array : 1 D Array\n",
      "Shape of the Array     : (19,)\n",
      "Element of the Array   : [ 5 10 15 20 25 30 35 40 45 50 55 60 65 70 75 80 85 90 95]\n"
     ]
    }
   ],
   "source": [
    "# np.arange(start,stop,step)\n",
    "a = np.arange(5,100,5)\n",
    "print(f'Dimention of the Array : {a.ndim} D Array')\n",
    "print(f'Shape of the Array     : {a.shape}')\n",
    "print(f'Element of the Array   : {a}')"
   ]
  },
  {
   "cell_type": "markdown",
   "id": "e0b81c76-bca6-4a45-a194-a3aba2ee8f5b",
   "metadata": {},
   "source": [
    "#### Zeros Functions"
   ]
  },
  {
   "cell_type": "code",
   "execution_count": 17,
   "id": "b89f0802-2e47-421b-9e31-d856033303a5",
   "metadata": {},
   "outputs": [],
   "source": [
    "#help(np.zeros)"
   ]
  },
  {
   "cell_type": "code",
   "execution_count": 18,
   "id": "ee68dfa5-1201-4600-8ae0-88c399cb4891",
   "metadata": {},
   "outputs": [
    {
     "name": "stdout",
     "output_type": "stream",
     "text": [
      "Dimention of the Array : 1 D Array\n",
      "Shape of the Array     : (10,)\n",
      "Element of the Array   : [0. 0. 0. 0. 0. 0. 0. 0. 0. 0.]\n"
     ]
    }
   ],
   "source": [
    "# One Dimension array creation with 0 as all elements\n",
    "a = np.zeros(10)\n",
    "print(f'Dimension of the Array : {a.ndim} D Array')\n",
    "print(f'Shape of the Array     : {a.shape}')\n",
    "print(f'Element of the Array   : {a}')"
   ]
  },
  {
   "cell_type": "code",
   "execution_count": 23,
   "id": "f3658398-5496-444f-b3bc-9f62d5780151",
   "metadata": {},
   "outputs": [
    {
     "name": "stdout",
     "output_type": "stream",
     "text": [
      "Dimention of the Array : 2 D Array\n",
      "Shape of the Array     : (4, 5)\n",
      "Element of the Array   : [[0 0 0 0 0]\n",
      " [0 0 0 0 0]\n",
      " [0 0 0 0 0]\n",
      " [0 0 0 0 0]]\n"
     ]
    }
   ],
   "source": [
    "# Two Dimension array creation with 0 as all elements (4,5) => 4 one D array, each array has 5 element\n",
    "a = np.zeros((4,5),dtype=np.int64)\n",
    "print(f'Dimention of the Array : {a.ndim} D Array')\n",
    "print(f'Shape of the Array     : {a.shape}')\n",
    "print(f'Element of the Array   : {a}')"
   ]
  },
  {
   "cell_type": "markdown",
   "id": "4d4297e0-f7cc-4330-997d-c1801e21be9d",
   "metadata": {},
   "source": [
    "#### Ones Functions"
   ]
  },
  {
   "cell_type": "code",
   "execution_count": 25,
   "id": "647154a0-9cfd-4e3c-955c-a638a38ed27b",
   "metadata": {},
   "outputs": [],
   "source": [
    "#help(np.ones)"
   ]
  },
  {
   "cell_type": "code",
   "execution_count": 26,
   "id": "785e904a-eb54-4c5d-9222-d3f36fe3880a",
   "metadata": {},
   "outputs": [
    {
     "name": "stdout",
     "output_type": "stream",
     "text": [
      "Dimension of the Array : 1 D Array\n",
      "Shape of the Array     : (10,)\n",
      "Element of the Array   : [1. 1. 1. 1. 1. 1. 1. 1. 1. 1.]\n"
     ]
    }
   ],
   "source": [
    "# One Dimension array creation with 1 as all elements\n",
    "a = np.ones(10)\n",
    "print(f'Dimension of the Array : {a.ndim} D Array')\n",
    "print(f'Shape of the Array     : {a.shape}')\n",
    "print(f'Element of the Array   : {a}')"
   ]
  },
  {
   "cell_type": "code",
   "execution_count": 27,
   "id": "72b88f49-fbcd-4a7c-ad43-9ec40e73eefe",
   "metadata": {},
   "outputs": [
    {
     "name": "stdout",
     "output_type": "stream",
     "text": [
      "Dimention of the Array : 2 D Array\n",
      "Shape of the Array     : (4, 5)\n",
      "Element of the Array   : [[1 1 1 1 1]\n",
      " [1 1 1 1 1]\n",
      " [1 1 1 1 1]\n",
      " [1 1 1 1 1]]\n"
     ]
    }
   ],
   "source": [
    "# Two Dimension array creation with 1 as all elements (4,5) => 4 one D array, each array has 5 element\n",
    "a = np.ones((4,5),dtype=np.int64)\n",
    "print(f'Dimention of the Array : {a.ndim} D Array')\n",
    "print(f'Shape of the Array     : {a.shape}')\n",
    "print(f'Element of the Array   : {a}')"
   ]
  },
  {
   "cell_type": "markdown",
   "id": "9923dd02-cd81-4f1c-a94b-f83137f6cca1",
   "metadata": {},
   "source": [
    "#### Linspace"
   ]
  },
  {
   "cell_type": "raw",
   "id": "8a8de43b-5b9f-455b-a51a-8208fcf6af86",
   "metadata": {},
   "source": [
    "range(start,stop,step) \n",
    "\n",
    "100 points to generate, between value 5 to 100\n",
    "\n",
    "# Equally Spaced data points between 5 to 100 whihc 100 data points\n",
    "step = (end-start)/(number of points) 95/100 = 0.95\n",
    "5, 5.95 , 6.9, "
   ]
  },
  {
   "cell_type": "code",
   "execution_count": 29,
   "id": "0b245c10-1fa5-498b-9b6e-770d3b0fe221",
   "metadata": {},
   "outputs": [],
   "source": [
    "#help(np.linspace)\n",
    "0 to 99 : 101 data points"
   ]
  },
  {
   "cell_type": "code",
   "execution_count": 39,
   "id": "77e89999-bd12-4980-9e33-2bfdb15e3cf0",
   "metadata": {},
   "outputs": [
    {
     "name": "stdout",
     "output_type": "stream",
     "text": [
      "Dimension of the Array : 1 D Array\n",
      "Shape of the Array     : (100,)\n",
      "Element of the Array   : [  0.           1.01010101   2.02020202   3.03030303   4.04040404\n",
      "   5.05050505   6.06060606   7.07070707   8.08080808   9.09090909\n",
      "  10.1010101   11.11111111  12.12121212  13.13131313  14.14141414\n",
      "  15.15151515  16.16161616  17.17171717  18.18181818  19.19191919\n",
      "  20.2020202   21.21212121  22.22222222  23.23232323  24.24242424\n",
      "  25.25252525  26.26262626  27.27272727  28.28282828  29.29292929\n",
      "  30.3030303   31.31313131  32.32323232  33.33333333  34.34343434\n",
      "  35.35353535  36.36363636  37.37373737  38.38383838  39.39393939\n",
      "  40.4040404   41.41414141  42.42424242  43.43434343  44.44444444\n",
      "  45.45454545  46.46464646  47.47474747  48.48484848  49.49494949\n",
      "  50.50505051  51.51515152  52.52525253  53.53535354  54.54545455\n",
      "  55.55555556  56.56565657  57.57575758  58.58585859  59.5959596\n",
      "  60.60606061  61.61616162  62.62626263  63.63636364  64.64646465\n",
      "  65.65656566  66.66666667  67.67676768  68.68686869  69.6969697\n",
      "  70.70707071  71.71717172  72.72727273  73.73737374  74.74747475\n",
      "  75.75757576  76.76767677  77.77777778  78.78787879  79.7979798\n",
      "  80.80808081  81.81818182  82.82828283  83.83838384  84.84848485\n",
      "  85.85858586  86.86868687  87.87878788  88.88888889  89.8989899\n",
      "  90.90909091  91.91919192  92.92929293  93.93939394  94.94949495\n",
      "  95.95959596  96.96969697  97.97979798  98.98989899 100.        ]\n"
     ]
    }
   ],
   "source": [
    "a = np.linspace(0,100,100)\n",
    "print(f'Dimension of the Array : {a.ndim} D Array')\n",
    "print(f'Shape of the Array     : {a.shape}')\n",
    "print(f'Element of the Array   : {a}')"
   ]
  },
  {
   "cell_type": "code",
   "execution_count": 41,
   "id": "56738e6b-624c-4815-b04d-9ce7941438ca",
   "metadata": {},
   "outputs": [
    {
     "name": "stdout",
     "output_type": "stream",
     "text": [
      "Step Size: from 0 to 100 : 1.0101010101010102\n",
      "Step Size: from 0 to 99 : 1.0\n"
     ]
    }
   ],
   "source": [
    "a = np.linspace(0,100,100,endpoint=True,retstep=True)\n",
    "print(f'Step Size: from 0 to 100 : {a[1]}')\n",
    "a = np.linspace(0,100,100,endpoint=False,retstep=True)\n",
    "print(f'Step Size: from 0 to 99 : {a[1]}')"
   ]
  },
  {
   "cell_type": "markdown",
   "id": "b2afa593-07a3-4bce-a5f6-3da5f90f2fb6",
   "metadata": {},
   "source": [
    "#### Random.rand"
   ]
  },
  {
   "cell_type": "code",
   "execution_count": 53,
   "id": "d8c7f2b2-a8ec-453c-a656-d635b4c3b1fa",
   "metadata": {},
   "outputs": [],
   "source": [
    "#help(np.random.rand)"
   ]
  },
  {
   "cell_type": "code",
   "execution_count": 54,
   "id": "8497c756-cd91-4fee-8dc5-3f48e9e27aec",
   "metadata": {},
   "outputs": [
    {
     "name": "stdout",
     "output_type": "stream",
     "text": [
      "0.25583123760786863\n"
     ]
    }
   ],
   "source": [
    "# if we don't paas shape, then it generates the random value between 0 to 1\n",
    "a = np.random.rand()\n",
    "print(a)"
   ]
  },
  {
   "cell_type": "code",
   "execution_count": 55,
   "id": "b5acd0f7-8f36-489e-8744-6ee501faed8f",
   "metadata": {},
   "outputs": [
    {
     "name": "stdout",
     "output_type": "stream",
     "text": [
      "[[0.64884607 0.4437386 ]\n",
      " [0.38037357 0.37494847]\n",
      " [0.61404426 0.65055418]\n",
      " [0.88764074 0.40544633]]\n"
     ]
    }
   ],
   "source": [
    "# If will generate numpy array with random value according to shape passed\n",
    "a = np.random.rand(4,2)\n",
    "print(a)"
   ]
  },
  {
   "cell_type": "markdown",
   "id": "043e13d8-e8bb-4db9-8791-9d46ffccc6bd",
   "metadata": {},
   "source": [
    "#### Random.randint"
   ]
  },
  {
   "cell_type": "code",
   "execution_count": 57,
   "id": "21659e97-178a-4983-8c07-3573f5837393",
   "metadata": {},
   "outputs": [],
   "source": [
    "#help(np.random.randint)\n",
    "#np.linspace(low,high=None,size=None,dtype=int)"
   ]
  },
  {
   "cell_type": "code",
   "execution_count": 63,
   "id": "2afe0d3a-2921-4429-9b4b-18f8ad96fd70",
   "metadata": {},
   "outputs": [
    {
     "name": "stdout",
     "output_type": "stream",
     "text": [
      "4,4,4,0,2,0,1,3,4,3,4,2,2,2,4,3,3,3,0,1,1,0,0,3,4,0,0,2,0,0,4,0,0,1,4,1,2,3,3,0,3,3,0,2,4,1,3,3,0,1,2,0,4,3,1,0,1,3,1,0,1,4,3,4,4,3,3,3,4,2,0,3,3,1,0,4,4,1,0,0,1,3,2,1,4,1,3,4,2,3,1,0,1,3,0,1,4,4,1,4,"
     ]
    }
   ],
   "source": [
    "# if we don't paas shape, then it generates the random value between low=5,high=None, [low,high]\n",
    "for i in range(100):\n",
    "    a = np.random.randint(5)\n",
    "    print(a,end=',')"
   ]
  },
  {
   "cell_type": "code",
   "execution_count": 66,
   "id": "b55a13ad-b1a7-4d29-a6d9-34b3f668c70f",
   "metadata": {},
   "outputs": [
    {
     "name": "stdout",
     "output_type": "stream",
     "text": [
      "68,81,82,26,55,70,94,63,90,72,54,32,87,57,53,83,52,22,43,64,36,90,20,49,9,68,5,50,12,76,42,90,11,21,81,29,67,85,65,81,32,81,81,78,94,38,8,22,88,73,22,87,28,45,79,16,42,37,78,89,17,39,69,46,64,56,46,10,16,29,29,67,11,88,43,39,38,37,27,85,41,88,15,81,8,68,86,53,56,22,47,87,97,77,65,25,97,42,35,22,"
     ]
    }
   ],
   "source": [
    "for i in range(100):\n",
    "    # [low,high) = inclusive of low, and exculsive of high\n",
    "    a = np.random.randint(5,100)\n",
    "    print(a,end=',')"
   ]
  },
  {
   "cell_type": "code",
   "execution_count": 69,
   "id": "e97074b9-9c11-4ee2-a9a4-05b3ef8595b9",
   "metadata": {},
   "outputs": [
    {
     "name": "stdout",
     "output_type": "stream",
     "text": [
      "[[66 71 80 38]\n",
      " [93 93 97 93]\n",
      " [16 53 92 62]]\n"
     ]
    }
   ],
   "source": [
    "# if size is defined as tuple shape, it will return the matrix with that size with random integer value between [low,high)\n",
    "a = np.random.randint(5,100,size=(3,4))\n",
    "print(a)"
   ]
  },
  {
   "cell_type": "code",
   "execution_count": 74,
   "id": "434d4538-238e-4760-b206-9f16ab958e49",
   "metadata": {},
   "outputs": [],
   "source": [
    "a = np.random.randint(10,1000,size=(10,10))"
   ]
  },
  {
   "cell_type": "markdown",
   "id": "1eb2fabc-50c4-4219-b11c-e73658657896",
   "metadata": {},
   "source": [
    "#### Max Function"
   ]
  },
  {
   "cell_type": "code",
   "execution_count": 75,
   "id": "581263fb-176e-489a-a2a9-50af0cea5caf",
   "metadata": {},
   "outputs": [
    {
     "name": "stdout",
     "output_type": "stream",
     "text": [
      "Max Value in Array : 990\n"
     ]
    }
   ],
   "source": [
    "print(f'Max Value in Array : {np.max(a)}')"
   ]
  },
  {
   "cell_type": "markdown",
   "id": "002de351-79c1-45a7-b1aa-bc29a249c578",
   "metadata": {},
   "source": [
    "#### Min Function"
   ]
  },
  {
   "cell_type": "code",
   "execution_count": 76,
   "id": "d94277ac-c1cd-4c43-95b9-713952124467",
   "metadata": {},
   "outputs": [
    {
     "name": "stdout",
     "output_type": "stream",
     "text": [
      "Min Value in Array : 42\n"
     ]
    }
   ],
   "source": [
    "print(f'Min Value in Array : {np.min(a)}')"
   ]
  },
  {
   "cell_type": "markdown",
   "id": "3b3924ad-b280-410e-bf11-c2a41ee07b89",
   "metadata": {},
   "source": [
    "#### Mean Function"
   ]
  },
  {
   "cell_type": "code",
   "execution_count": 77,
   "id": "89d4c8dc-45d8-466d-908b-320c45f9c8cd",
   "metadata": {},
   "outputs": [
    {
     "name": "stdout",
     "output_type": "stream",
     "text": [
      "Mean Value in Array : 528.06\n"
     ]
    }
   ],
   "source": [
    "print(f'Mean Value in Array : {np.mean(a)}')"
   ]
  },
  {
   "cell_type": "markdown",
   "id": "1d8b379b-2e21-484a-a00b-9f12eca2ca6f",
   "metadata": {},
   "source": [
    "#### Median Function"
   ]
  },
  {
   "cell_type": "code",
   "execution_count": 104,
   "id": "8da96ca9-3c55-48db-a283-d0985fe96aa5",
   "metadata": {},
   "outputs": [
    {
     "name": "stdout",
     "output_type": "stream",
     "text": [
      "[888 432 123 822 207 817 716 735 505 537 694 296]\n"
     ]
    }
   ],
   "source": [
    "a = np.random.randint(10,1000,size=(12))\n",
    "print(a)"
   ]
  },
  {
   "cell_type": "code",
   "execution_count": 108,
   "id": "68beb819-6fbc-497c-b95d-bdcb79563a42",
   "metadata": {},
   "outputs": [
    {
     "name": "stdout",
     "output_type": "stream",
     "text": [
      "[123, 207, 296, 432, 505, 537, 694, 716, 735, 817, 822, 888]\n",
      "Median is 6 term and 7 term : 615.5\n"
     ]
    }
   ],
   "source": [
    "l = [888, 432, 123, 822, 207, 817, 716, 735,505, 537, 694, 296]\n",
    "l.sort()\n",
    "print(l)\n",
    "if len(l)%2 == 1:\n",
    "    print(f'Median is {int((len(l)+1)/2)} term : {l[int((len(l)+1)/2)-1]}')\n",
    "else:\n",
    "    print(f'Median is {int(len(l)/2)} term and {int(len(l)/2)+1} term : {(l[int(len(l)/2)-1] + l[int(len(l)/2)])/2}')\n",
    "    "
   ]
  },
  {
   "cell_type": "code",
   "execution_count": 107,
   "id": "3c2eb15d-d65e-4e68-a32b-2ead234771e0",
   "metadata": {},
   "outputs": [
    {
     "name": "stdout",
     "output_type": "stream",
     "text": [
      "Mean/Average Value in Array  : 564.3333333333334\n",
      "Median Value in Array        : 615.5\n"
     ]
    }
   ],
   "source": [
    "\"\"\"\n",
    "Odd: Median = [(n + 1)/2]th term\n",
    "Even: Median = [(n/2)th term + (n/2 + 1)th term]/2\n",
    "\"\"\"\n",
    "print(f'Mean/Average Value in Array  : {np.mean(a)}')\n",
    "print(f'Median Value in Array        : {np.median(a)}')"
   ]
  },
  {
   "cell_type": "markdown",
   "id": "aadc7c94-c506-40a9-9e3f-be912865c3bb",
   "metadata": {},
   "source": [
    "### Delete Function"
   ]
  },
  {
   "cell_type": "code",
   "execution_count": 2,
   "id": "be24ed12-fa8a-49cc-8436-48067f26c939",
   "metadata": {},
   "outputs": [
    {
     "name": "stdout",
     "output_type": "stream",
     "text": [
      "Help on function delete in module numpy:\n",
      "\n",
      "delete(arr, obj, axis=None)\n",
      "    Return a new array with sub-arrays along an axis deleted. For a one\n",
      "    dimensional array, this returns those entries not returned by\n",
      "    `arr[obj]`.\n",
      "    \n",
      "    Parameters\n",
      "    ----------\n",
      "    arr : array_like\n",
      "        Input array.\n",
      "    obj : slice, int or array of ints\n",
      "        Indicate indices of sub-arrays to remove along the specified axis.\n",
      "    \n",
      "        .. versionchanged:: 1.19.0\n",
      "            Boolean indices are now treated as a mask of elements to remove,\n",
      "            rather than being cast to the integers 0 and 1.\n",
      "    \n",
      "    axis : int, optional\n",
      "        The axis along which to delete the subarray defined by `obj`.\n",
      "        If `axis` is None, `obj` is applied to the flattened array.\n",
      "    \n",
      "    Returns\n",
      "    -------\n",
      "    out : ndarray\n",
      "        A copy of `arr` with the elements specified by `obj` removed. Note\n",
      "        that `delete` does not occur in-place. If `axis` is None, `out` is\n",
      "        a flattened array.\n",
      "    \n",
      "    See Also\n",
      "    --------\n",
      "    insert : Insert elements into an array.\n",
      "    append : Append elements at the end of an array.\n",
      "    \n",
      "    Notes\n",
      "    -----\n",
      "    Often it is preferable to use a boolean mask. For example:\n",
      "    \n",
      "    >>> arr = np.arange(12) + 1\n",
      "    >>> mask = np.ones(len(arr), dtype=bool)\n",
      "    >>> mask[[0,2,4]] = False\n",
      "    >>> result = arr[mask,...]\n",
      "    \n",
      "    Is equivalent to ``np.delete(arr, [0,2,4], axis=0)``, but allows further\n",
      "    use of `mask`.\n",
      "    \n",
      "    Examples\n",
      "    --------\n",
      "    >>> arr = np.array([[1,2,3,4], [5,6,7,8], [9,10,11,12]])\n",
      "    >>> arr\n",
      "    array([[ 1,  2,  3,  4],\n",
      "           [ 5,  6,  7,  8],\n",
      "           [ 9, 10, 11, 12]])\n",
      "    >>> np.delete(arr, 1, 0)\n",
      "    array([[ 1,  2,  3,  4],\n",
      "           [ 9, 10, 11, 12]])\n",
      "    \n",
      "    >>> np.delete(arr, np.s_[::2], 1)\n",
      "    array([[ 2,  4],\n",
      "           [ 6,  8],\n",
      "           [10, 12]])\n",
      "    >>> np.delete(arr, [1,3,5], None)\n",
      "    array([ 1,  3,  5,  7,  8,  9, 10, 11, 12])\n",
      "\n"
     ]
    }
   ],
   "source": [
    "import numpy as np\n",
    "help(np.delete)"
   ]
  },
  {
   "cell_type": "code",
   "execution_count": 9,
   "id": "e081a2a5-f781-445c-b638-244a3e7f0dd8",
   "metadata": {},
   "outputs": [
    {
     "name": "stdout",
     "output_type": "stream",
     "text": [
      "Array a1 [4393226896] : [ 1 23  4 56  7 89 34] \n"
     ]
    }
   ],
   "source": [
    "a1 = np.array([1,23,4,56,7,89,34])\n",
    "print(f'Array a1 [{id(a1)}] : {a1} ')"
   ]
  },
  {
   "cell_type": "code",
   "execution_count": 10,
   "id": "dec6e991-7332-4ccf-be24-e1d58508511e",
   "metadata": {},
   "outputs": [
    {
     "name": "stdout",
     "output_type": "stream",
     "text": [
      "Array a2 [4395588784] : [23  4 56  7 89 34] \n",
      "Array a1 [4393226896] : [ 1 23  4 56  7 89 34] \n"
     ]
    }
   ],
   "source": [
    "a2 = np.delete(a1, 0)\n",
    "print(f'Array a2 [{id(a2)}] : {a2} ')\n",
    "print(f'Array a1 [{id(a1)}] : {a1} ')"
   ]
  },
  {
   "cell_type": "code",
   "execution_count": 13,
   "id": "9bbfa79a-0d23-46d0-b06b-8dc06fafa74c",
   "metadata": {},
   "outputs": [
    {
     "name": "stdout",
     "output_type": "stream",
     "text": [
      "Array arr [4390657296] :\n",
      "[[ 1  2  3  4]\n",
      " [ 5  6  7  8]\n",
      " [ 9 10 11 12]]\n"
     ]
    }
   ],
   "source": [
    "arr = np.array([[1,2,3,4], [5,6,7,8], [9,10,11,12]])\n",
    "print(f'Array arr [{id(arr)}] :\\n{arr}')"
   ]
  },
  {
   "cell_type": "code",
   "execution_count": 17,
   "id": "038de924-53bf-490b-b9ab-ec57a915da34",
   "metadata": {},
   "outputs": [
    {
     "data": {
      "text/plain": [
       "array([[ 1,  2,  3,  4],\n",
       "       [ 9, 10, 11, 12]])"
      ]
     },
     "execution_count": 17,
     "metadata": {},
     "output_type": "execute_result"
    }
   ],
   "source": [
    "# axis = 0 : row wise\n",
    "# axis = 1 : column wise\n",
    "np.delete(arr, 1, 0)"
   ]
  },
  {
   "cell_type": "code",
   "execution_count": 18,
   "id": "8cd6a735-8025-47f5-84eb-2d860b973b95",
   "metadata": {},
   "outputs": [
    {
     "data": {
      "text/plain": [
       "array([[ 1,  3,  4],\n",
       "       [ 5,  7,  8],\n",
       "       [ 9, 11, 12]])"
      ]
     },
     "execution_count": 18,
     "metadata": {},
     "output_type": "execute_result"
    }
   ],
   "source": [
    "np.delete(arr, 1, 1)"
   ]
  },
  {
   "cell_type": "code",
   "execution_count": 24,
   "id": "cf8b8a77-5d9f-4aaa-a4a5-631bb21534e5",
   "metadata": {},
   "outputs": [
    {
     "data": {
      "text/plain": [
       "array([ 1,  3,  5,  7,  9, 11, 12])"
      ]
     },
     "execution_count": 24,
     "metadata": {},
     "output_type": "execute_result"
    }
   ],
   "source": [
    "np.delete(arr, [1,3,5,7,9], None)\n",
    "# reshape the array into one-D and delete index value as 1, 3, 5\n",
    "#[ 1  2  3  4 5  6  7  8 9 10 11 12]"
   ]
  },
  {
   "cell_type": "code",
   "execution_count": 29,
   "id": "1190c267-9db5-46fa-8473-22465d62ff3c",
   "metadata": {},
   "outputs": [
    {
     "data": {
      "text/plain": [
       "array([[ 1,  2,  3,  4],\n",
       "       [ 5,  6,  7,  8],\n",
       "       [ 9, 10, 11, 12]])"
      ]
     },
     "execution_count": 29,
     "metadata": {},
     "output_type": "execute_result"
    }
   ],
   "source": [
    "arr"
   ]
  },
  {
   "cell_type": "code",
   "execution_count": 30,
   "id": "b9b3d32c-94d6-468f-b0a3-51d718419042",
   "metadata": {},
   "outputs": [
    {
     "data": {
      "text/plain": [
       "array([[5, 6, 7, 8]])"
      ]
     },
     "execution_count": 30,
     "metadata": {},
     "output_type": "execute_result"
    }
   ],
   "source": [
    "# numpy nicer way of slicing\n",
    "np.delete(arr, np.s_[::2], axis=0)"
   ]
  },
  {
   "cell_type": "code",
   "execution_count": 28,
   "id": "dccc9bce-ca70-4c78-bf90-9c5d5790b273",
   "metadata": {},
   "outputs": [
    {
     "data": {
      "text/plain": [
       "array([[ 2,  4],\n",
       "       [ 6,  8],\n",
       "       [10, 12]])"
      ]
     },
     "execution_count": 28,
     "metadata": {},
     "output_type": "execute_result"
    }
   ],
   "source": [
    "# numpy nicer way of slicing\n",
    "np.delete(arr, np.s_[::2], axis=1)"
   ]
  },
  {
   "cell_type": "code",
   "execution_count": 31,
   "id": "881f17c4-048f-4fac-8745-b3c445a5455e",
   "metadata": {},
   "outputs": [
    {
     "data": {
      "text/plain": [
       "array([ 2,  4,  6,  8, 10, 12])"
      ]
     },
     "execution_count": 31,
     "metadata": {},
     "output_type": "execute_result"
    }
   ],
   "source": [
    "# numpy nicer way of slicing\n",
    "# axis = None, it will convert array into 1-D and perform the deletion\n",
    "# [ 1,  2,  3,  4, 5,  6,  7,  8, 9, 10, 11, 12]])\n",
    "np.delete(arr, np.s_[::2], None)"
   ]
  },
  {
   "cell_type": "code",
   "execution_count": null,
   "id": "b982324c-7c36-4230-bd55-8c8ada01b399",
   "metadata": {},
   "outputs": [],
   "source": [
    "#1 arr[start:end:step]\n",
    "#2 arr, np.s_[start=0:end=length of array:step=1]\n",
    "l[::-1]"
   ]
  },
  {
   "cell_type": "code",
   "execution_count": 25,
   "id": "f2648339-270a-487f-a7e1-48cb8bfd7214",
   "metadata": {},
   "outputs": [
    {
     "data": {
      "text/plain": [
       "slice(None, None, 2)"
      ]
     },
     "execution_count": 25,
     "metadata": {},
     "output_type": "execute_result"
    }
   ],
   "source": [
    "np.s_[start=0:end=length of the array :2]"
   ]
  },
  {
   "cell_type": "markdown",
   "id": "edc56029-2356-42c3-9815-9160f4926a09",
   "metadata": {},
   "source": [
    "#### Dot Product : Compute dot product of Two Matrix"
   ]
  },
  {
   "cell_type": "code",
   "execution_count": 114,
   "id": "ce6d5289-5b85-4911-8950-171b52b05a38",
   "metadata": {},
   "outputs": [
    {
     "name": "stdout",
     "output_type": "stream",
     "text": [
      "Help on function dot in module numpy:\n",
      "\n",
      "dot(...)\n",
      "    dot(a, b, out=None)\n",
      "    \n",
      "    Dot product of two arrays. Specifically,\n",
      "    \n",
      "    - If both `a` and `b` are 1-D arrays, it is inner product of vectors\n",
      "      (without complex conjugation).\n",
      "    \n",
      "    - If both `a` and `b` are 2-D arrays, it is matrix multiplication,\n",
      "      but using :func:`matmul` or ``a @ b`` is preferred.\n",
      "    \n",
      "    - If either `a` or `b` is 0-D (scalar), it is equivalent to :func:`multiply`\n",
      "      and using ``numpy.multiply(a, b)`` or ``a * b`` is preferred.\n",
      "    \n",
      "    - If `a` is an N-D array and `b` is a 1-D array, it is a sum product over\n",
      "      the last axis of `a` and `b`.\n",
      "    \n",
      "    - If `a` is an N-D array and `b` is an M-D array (where ``M>=2``), it is a\n",
      "      sum product over the last axis of `a` and the second-to-last axis of `b`::\n",
      "    \n",
      "        dot(a, b)[i,j,k,m] = sum(a[i,j,:] * b[k,:,m])\n",
      "    \n",
      "    Parameters\n",
      "    ----------\n",
      "    a : array_like\n",
      "        First argument.\n",
      "    b : array_like\n",
      "        Second argument.\n",
      "    out : ndarray, optional\n",
      "        Output argument. This must have the exact kind that would be returned\n",
      "        if it was not used. In particular, it must have the right type, must be\n",
      "        C-contiguous, and its dtype must be the dtype that would be returned\n",
      "        for `dot(a,b)`. This is a performance feature. Therefore, if these\n",
      "        conditions are not met, an exception is raised, instead of attempting\n",
      "        to be flexible.\n",
      "    \n",
      "    Returns\n",
      "    -------\n",
      "    output : ndarray\n",
      "        Returns the dot product of `a` and `b`.  If `a` and `b` are both\n",
      "        scalars or both 1-D arrays then a scalar is returned; otherwise\n",
      "        an array is returned.\n",
      "        If `out` is given, then it is returned.\n",
      "    \n",
      "    Raises\n",
      "    ------\n",
      "    ValueError\n",
      "        If the last dimension of `a` is not the same size as\n",
      "        the second-to-last dimension of `b`.\n",
      "    \n",
      "    See Also\n",
      "    --------\n",
      "    vdot : Complex-conjugating dot product.\n",
      "    tensordot : Sum products over arbitrary axes.\n",
      "    einsum : Einstein summation convention.\n",
      "    matmul : '@' operator as method with out parameter.\n",
      "    linalg.multi_dot : Chained dot product.\n",
      "    \n",
      "    Examples\n",
      "    --------\n",
      "    >>> np.dot(3, 4)\n",
      "    12\n",
      "    \n",
      "    Neither argument is complex-conjugated:\n",
      "    \n",
      "    >>> np.dot([2j, 3j], [2j, 3j])\n",
      "    (-13+0j)\n",
      "    \n",
      "    For 2-D arrays it is the matrix product:\n",
      "    \n",
      "    >>> a = [[1, 0], [0, 1]]\n",
      "    >>> b = [[4, 1], [2, 2]]\n",
      "    >>> np.dot(a, b)\n",
      "    array([[4, 1],\n",
      "           [2, 2]])\n",
      "    \n",
      "    >>> a = np.arange(3*4*5*6).reshape((3,4,5,6))\n",
      "    >>> b = np.arange(3*4*5*6)[::-1].reshape((5,4,6,3))\n",
      "    >>> np.dot(a, b)[2,3,2,1,2,2]\n",
      "    499128\n",
      "    >>> sum(a[2,3,2,:] * b[1,2,:,2])\n",
      "    499128\n",
      "\n"
     ]
    }
   ],
   "source": [
    "help(np.dot)"
   ]
  },
  {
   "cell_type": "code",
   "execution_count": 115,
   "id": "5a0af4e0-b817-4fa6-83e2-e80c3bd64279",
   "metadata": {},
   "outputs": [
    {
     "name": "stdout",
     "output_type": "stream",
     "text": [
      "6\n"
     ]
    }
   ],
   "source": [
    "c = np.dot(2,3)\n",
    "print(c)"
   ]
  },
  {
   "cell_type": "code",
   "execution_count": 32,
   "id": "1b7c3c9e-42e2-471c-8287-e49fc1d9d4a5",
   "metadata": {
    "scrolled": true
   },
   "outputs": [
    {
     "name": "stdout",
     "output_type": "stream",
     "text": [
      "[1 2 3 4 5]\n",
      "[20 21 22 23 24]\n",
      "340\n"
     ]
    }
   ],
   "source": [
    "# Dot product of Single Dimension Array\n",
    "# Result = 20*1 + 21*2 + 22*3 + 23*4 + 24*5 = 340\n",
    "a = np.arange(1,6)\n",
    "print(a)\n",
    "\n",
    "b = np.arange(20,25)\n",
    "print(b)\n",
    "\n",
    "c =  np.dot(a,b)\n",
    "print(c)"
   ]
  },
  {
   "cell_type": "code",
   "execution_count": 33,
   "id": "b005005a-4e06-43b8-bf41-a7e239990336",
   "metadata": {},
   "outputs": [
    {
     "name": "stdout",
     "output_type": "stream",
     "text": [
      "\n",
      "Matrix A :\n",
      "[[7 6]\n",
      " [4 9]]\n",
      "\n",
      "Matrix B :\n",
      "[[4 8]\n",
      " [6 6]]\n",
      "\n",
      "Matrix C :\n",
      "[[64 92]\n",
      " [70 86]]\n"
     ]
    }
   ],
   "source": [
    "# Dot product of Two Dimension Array\n",
    "\n",
    "# Matrix multipication works : \n",
    "# A(m,n) and B (m,n) shape : we can't multiply these matrix \n",
    "# column in A matrix is not equal to rows in B Matrix\n",
    "\"\"\"\n",
    "Codition for matrix multipcation is First matrix column should be \n",
    "same number as number of rows in second matrix\n",
    "\n",
    "Take Row from First MAtrix and Muliply in column in second matrix = sing value\n",
    "A(3,2) x B(2,3)    = Result matrix dimension C(3,3)\n",
    "A(4,4)  x B(4,4)   = Result matrix dimension C(4,4)\n",
    "A(1,5)  x B(5,1)   = Result matrix dimension C(1,1)\n",
    "\n",
    "[3 1]  x    [5 5]       =     [3*5+1*7   3*5+1*9]      = [22 24]\n",
    "[1 3]       [7 9]             [1*5+3*7   1*5+3*9]        [26 32]\n",
    "\"\"\"\n",
    "\n",
    "#First Matrix Row is taken and multiply by second matrix column wise\n",
    "# Result = Matrix \n",
    "a = np.random.randint(1,10,size=(2,2))\n",
    "print(f'\\nMatrix A :\\n{a}')\n",
    "\n",
    "b = np.random.randint(4,10,size=(2,2))\n",
    "print(f'\\nMatrix B :\\n{b}')\n",
    "\n",
    "c =  np.dot(a,b)\n",
    "print(f'\\nMatrix C :\\n{c}')"
   ]
  },
  {
   "cell_type": "code",
   "execution_count": 35,
   "id": "6c99f9d4-e27d-4be8-9fff-4cadeab19342",
   "metadata": {},
   "outputs": [
    {
     "name": "stdout",
     "output_type": "stream",
     "text": [
      "Matrix of A :\n",
      "[[[[  0   1   2   3   4   5]\n",
      "   [  6   7   8   9  10  11]\n",
      "   [ 12  13  14  15  16  17]\n",
      "   [ 18  19  20  21  22  23]\n",
      "   [ 24  25  26  27  28  29]]\n",
      "\n",
      "  [[ 30  31  32  33  34  35]\n",
      "   [ 36  37  38  39  40  41]\n",
      "   [ 42  43  44  45  46  47]\n",
      "   [ 48  49  50  51  52  53]\n",
      "   [ 54  55  56  57  58  59]]\n",
      "\n",
      "  [[ 60  61  62  63  64  65]\n",
      "   [ 66  67  68  69  70  71]\n",
      "   [ 72  73  74  75  76  77]\n",
      "   [ 78  79  80  81  82  83]\n",
      "   [ 84  85  86  87  88  89]]\n",
      "\n",
      "  [[ 90  91  92  93  94  95]\n",
      "   [ 96  97  98  99 100 101]\n",
      "   [102 103 104 105 106 107]\n",
      "   [108 109 110 111 112 113]\n",
      "   [114 115 116 117 118 119]]]\n",
      "\n",
      "\n",
      " [[[120 121 122 123 124 125]\n",
      "   [126 127 128 129 130 131]\n",
      "   [132 133 134 135 136 137]\n",
      "   [138 139 140 141 142 143]\n",
      "   [144 145 146 147 148 149]]\n",
      "\n",
      "  [[150 151 152 153 154 155]\n",
      "   [156 157 158 159 160 161]\n",
      "   [162 163 164 165 166 167]\n",
      "   [168 169 170 171 172 173]\n",
      "   [174 175 176 177 178 179]]\n",
      "\n",
      "  [[180 181 182 183 184 185]\n",
      "   [186 187 188 189 190 191]\n",
      "   [192 193 194 195 196 197]\n",
      "   [198 199 200 201 202 203]\n",
      "   [204 205 206 207 208 209]]\n",
      "\n",
      "  [[210 211 212 213 214 215]\n",
      "   [216 217 218 219 220 221]\n",
      "   [222 223 224 225 226 227]\n",
      "   [228 229 230 231 232 233]\n",
      "   [234 235 236 237 238 239]]]\n",
      "\n",
      "\n",
      " [[[240 241 242 243 244 245]\n",
      "   [246 247 248 249 250 251]\n",
      "   [252 253 254 255 256 257]\n",
      "   [258 259 260 261 262 263]\n",
      "   [264 265 266 267 268 269]]\n",
      "\n",
      "  [[270 271 272 273 274 275]\n",
      "   [276 277 278 279 280 281]\n",
      "   [282 283 284 285 286 287]\n",
      "   [288 289 290 291 292 293]\n",
      "   [294 295 296 297 298 299]]\n",
      "\n",
      "  [[300 301 302 303 304 305]\n",
      "   [306 307 308 309 310 311]\n",
      "   [312 313 314 315 316 317]\n",
      "   [318 319 320 321 322 323]\n",
      "   [324 325 326 327 328 329]]\n",
      "\n",
      "  [[330 331 332 333 334 335]\n",
      "   [336 337 338 339 340 341]\n",
      "   [342 343 344 345 346 347]\n",
      "   [348 349 350 351 352 353]\n",
      "   [354 355 356 357 358 359]]]]\n"
     ]
    }
   ],
   "source": [
    "a = np.arange(3*4*5*6).reshape((3,4,5,6))\n",
    "print(f'Matrix of A :\\n{a}')"
   ]
  },
  {
   "cell_type": "code",
   "execution_count": 6,
   "id": "6cebc484-05e6-4930-a04e-3852b16b0944",
   "metadata": {},
   "outputs": [
    {
     "data": {
      "text/plain": [
       "array([[[[  0,   1,   2,   3,   4,   5],\n",
       "         [  6,   7,   8,   9,  10,  11],\n",
       "         [ 12,  13,  14,  15,  16,  17],\n",
       "         [ 18,  19,  20,  21,  22,  23],\n",
       "         [ 24,  25,  26,  27,  28,  29]],\n",
       "\n",
       "        [[ 30,  31,  32,  33,  34,  35],\n",
       "         [ 36,  37,  38,  39,  40,  41],\n",
       "         [ 42,  43,  44,  45,  46,  47],\n",
       "         [ 48,  49,  50,  51,  52,  53],\n",
       "         [ 54,  55,  56,  57,  58,  59]],\n",
       "\n",
       "        [[ 60,  61,  62,  63,  64,  65],\n",
       "         [ 66,  67,  68,  69,  70,  71],\n",
       "         [ 72,  73,  74,  75,  76,  77],\n",
       "         [ 78,  79,  80,  81,  82,  83],\n",
       "         [ 84,  85,  86,  87,  88,  89]],\n",
       "\n",
       "        [[ 90,  91,  92,  93,  94,  95],\n",
       "         [ 96,  97,  98,  99, 100, 101],\n",
       "         [102, 103, 104, 105, 106, 107],\n",
       "         [108, 109, 110, 111, 112, 113],\n",
       "         [114, 115, 116, 117, 118, 119]]],\n",
       "\n",
       "\n",
       "       [[[120, 121, 122, 123, 124, 125],\n",
       "         [126, 127, 128, 129, 130, 131],\n",
       "         [132, 133, 134, 135, 136, 137],\n",
       "         [138, 139, 140, 141, 142, 143],\n",
       "         [144, 145, 146, 147, 148, 149]],\n",
       "\n",
       "        [[150, 151, 152, 153, 154, 155],\n",
       "         [156, 157, 158, 159, 160, 161],\n",
       "         [162, 163, 164, 165, 166, 167],\n",
       "         [168, 169, 170, 171, 172, 173],\n",
       "         [174, 175, 176, 177, 178, 179]],\n",
       "\n",
       "        [[180, 181, 182, 183, 184, 185],\n",
       "         [186, 187, 188, 189, 190, 191],\n",
       "         [192, 193, 194, 195, 196, 197],\n",
       "         [198, 199, 200, 201, 202, 203],\n",
       "         [204, 205, 206, 207, 208, 209]],\n",
       "\n",
       "        [[210, 211, 212, 213, 214, 215],\n",
       "         [216, 217, 218, 219, 220, 221],\n",
       "         [222, 223, 224, 225, 226, 227],\n",
       "         [228, 229, 230, 231, 232, 233],\n",
       "         [234, 235, 236, 237, 238, 239]]],\n",
       "\n",
       "\n",
       "       [[[240, 241, 242, 243, 244, 245],\n",
       "         [246, 247, 248, 249, 250, 251],\n",
       "         [252, 253, 254, 255, 256, 257],\n",
       "         [258, 259, 260, 261, 262, 263],\n",
       "         [264, 265, 266, 267, 268, 269]],\n",
       "\n",
       "        [[270, 271, 272, 273, 274, 275],\n",
       "         [276, 277, 278, 279, 280, 281],\n",
       "         [282, 283, 284, 285, 286, 287],\n",
       "         [288, 289, 290, 291, 292, 293],\n",
       "         [294, 295, 296, 297, 298, 299]],\n",
       "\n",
       "        [[300, 301, 302, 303, 304, 305],\n",
       "         [306, 307, 308, 309, 310, 311],\n",
       "         [312, 313, 314, 315, 316, 317],\n",
       "         [318, 319, 320, 321, 322, 323],\n",
       "         [324, 325, 326, 327, 328, 329]],\n",
       "\n",
       "        [[330, 331, 332, 333, 334, 335],\n",
       "         [336, 337, 338, 339, 340, 341],\n",
       "         [342, 343, 344, 345, 346, 347],\n",
       "         [348, 349, 350, 351, 352, 353],\n",
       "         [354, 355, 356, 357, 358, 359]]]])"
      ]
     },
     "execution_count": 6,
     "metadata": {},
     "output_type": "execute_result"
    }
   ],
   "source": [
    "np.arange(3*4*5*6).reshape(3,4,5,6) \n",
    "# 3 * 3 D Array, 4 * 2D array, 5 * 1D Array, 6 number of element in 1 D Array"
   ]
  },
  {
   "cell_type": "code",
   "execution_count": 17,
   "id": "4321bdb4-93ef-4c2a-a939-9b1a025ccc78",
   "metadata": {},
   "outputs": [
    {
     "name": "stdout",
     "output_type": "stream",
     "text": [
      "[[[[  0   1   2   3   4   5]\n",
      "   [  6   7   8   9  10  11]\n",
      "   [ 12  13  14  15  16  17]\n",
      "   [ 18  19  20  21  22  23]\n",
      "   [ 24  25  26  27  28  29]]\n",
      "\n",
      "  [[ 30  31  32  33  34  35]\n",
      "   [ 36  37  38  39  40  41]\n",
      "   [ 42  43  44  45  46  47]\n",
      "   [ 48  49  50  51  52  53]\n",
      "   [ 54  55  56  57  58  59]]\n",
      "\n",
      "  [[ 60  61  62  63  64  65]\n",
      "   [ 66  67  68  69  70  71]\n",
      "   [ 72  73  74  75  76  77]\n",
      "   [ 78  79  80  81  82  83]\n",
      "   [ 84  85  86  87  88  89]]\n",
      "\n",
      "  [[ 90  91  92  93  94  95]\n",
      "   [ 96  97  98  99 100 101]\n",
      "   [102 103 104 105 106 107]\n",
      "   [108 109 110 111 112 113]\n",
      "   [114 115 116 117 118 119]]]\n",
      "\n",
      "\n",
      " [[[120 121 122 123 124 125]\n",
      "   [126 127 128 129 130 131]\n",
      "   [132 133 134 135 136 137]\n",
      "   [138 139 140 141 142 143]\n",
      "   [144 145 146 147 148 149]]\n",
      "\n",
      "  [[150 151 152 153 154 155]\n",
      "   [156 157 158 159 160 161]\n",
      "   [162 163 164 165 166 167]\n",
      "   [168 169 170 171 172 173]\n",
      "   [174 175 176 177 178 179]]\n",
      "\n",
      "  [[180 181 182 183 184 185]\n",
      "   [186 187 188 189 190 191]\n",
      "   [192 193 194 195 196 197]\n",
      "   [198 199 200 201 202 203]\n",
      "   [204 205 206 207 208 209]]\n",
      "\n",
      "  [[210 211 212 213 214 215]\n",
      "   [216 217 218 219 220 221]\n",
      "   [222 223 224 225 226 227]\n",
      "   [228 229 230 231 232 233]\n",
      "   [234 235 236 237 238 239]]]\n",
      "\n",
      "\n",
      " [[[240 241 242 243 244 245]\n",
      "   [246 247 248 249 250 251]\n",
      "   [252 253 254 255 256 257]\n",
      "   [258 259 260 261 262 263]\n",
      "   [264 265 266 267 268 269]]\n",
      "\n",
      "  [[270 271 272 273 274 275]\n",
      "   [276 277 278 279 280 281]\n",
      "   [282 283 284 285 286 287]\n",
      "   [288 289 290 291 292 293]\n",
      "   [294 295 296 297 298 299]]\n",
      "\n",
      "  [[300 301 302 303 304 305]\n",
      "   [306 307 308 309 310 311]\n",
      "   [312 313 314 315 316 317]\n",
      "   [318 319 320 321 322 323]\n",
      "   [324 325 326 327 328 329]]\n",
      "\n",
      "  [[330 331 332 333 334 335]\n",
      "   [336 337 338 339 340 341]\n",
      "   [342 343 344 345 346 347]\n",
      "   [348 349 350 351 352 353]\n",
      "   [354 355 356 357 358 359]]]]\n"
     ]
    }
   ],
   "source": [
    "a = np.arange(3*4*5*6).reshape((3,4,5,6))\n",
    "print(a)"
   ]
  },
  {
   "cell_type": "code",
   "execution_count": 38,
   "id": "84b849a5-b326-46ac-bdfd-ac8c6d41af1d",
   "metadata": {},
   "outputs": [
    {
     "name": "stdout",
     "output_type": "stream",
     "text": [
      "[[[[359 358 357]\n",
      "   [356 355 354]\n",
      "   [353 352 351]\n",
      "   [350 349 348]\n",
      "   [347 346 345]\n",
      "   [344 343 342]]\n",
      "\n",
      "  [[341 340 339]\n",
      "   [338 337 336]\n",
      "   [335 334 333]\n",
      "   [332 331 330]\n",
      "   [329 328 327]\n",
      "   [326 325 324]]\n",
      "\n",
      "  [[323 322 321]\n",
      "   [320 319 318]\n",
      "   [317 316 315]\n",
      "   [314 313 312]\n",
      "   [311 310 309]\n",
      "   [308 307 306]]\n",
      "\n",
      "  [[305 304 303]\n",
      "   [302 301 300]\n",
      "   [299 298 297]\n",
      "   [296 295 294]\n",
      "   [293 292 291]\n",
      "   [290 289 288]]]\n",
      "\n",
      "\n",
      " [[[287 286 285]\n",
      "   [284 283 282]\n",
      "   [281 280 279]\n",
      "   [278 277 276]\n",
      "   [275 274 273]\n",
      "   [272 271 270]]\n",
      "\n",
      "  [[269 268 267]\n",
      "   [266 265 264]\n",
      "   [263 262 261]\n",
      "   [260 259 258]\n",
      "   [257 256 255]\n",
      "   [254 253 252]]\n",
      "\n",
      "  [[251 250 249]\n",
      "   [248 247 246]\n",
      "   [245 244 243]\n",
      "   [242 241 240]\n",
      "   [239 238 237]\n",
      "   [236 235 234]]\n",
      "\n",
      "  [[233 232 231]\n",
      "   [230 229 228]\n",
      "   [227 226 225]\n",
      "   [224 223 222]\n",
      "   [221 220 219]\n",
      "   [218 217 216]]]\n",
      "\n",
      "\n",
      " [[[215 214 213]\n",
      "   [212 211 210]\n",
      "   [209 208 207]\n",
      "   [206 205 204]\n",
      "   [203 202 201]\n",
      "   [200 199 198]]\n",
      "\n",
      "  [[197 196 195]\n",
      "   [194 193 192]\n",
      "   [191 190 189]\n",
      "   [188 187 186]\n",
      "   [185 184 183]\n",
      "   [182 181 180]]\n",
      "\n",
      "  [[179 178 177]\n",
      "   [176 175 174]\n",
      "   [173 172 171]\n",
      "   [170 169 168]\n",
      "   [167 166 165]\n",
      "   [164 163 162]]\n",
      "\n",
      "  [[161 160 159]\n",
      "   [158 157 156]\n",
      "   [155 154 153]\n",
      "   [152 151 150]\n",
      "   [149 148 147]\n",
      "   [146 145 144]]]\n",
      "\n",
      "\n",
      " [[[143 142 141]\n",
      "   [140 139 138]\n",
      "   [137 136 135]\n",
      "   [134 133 132]\n",
      "   [131 130 129]\n",
      "   [128 127 126]]\n",
      "\n",
      "  [[125 124 123]\n",
      "   [122 121 120]\n",
      "   [119 118 117]\n",
      "   [116 115 114]\n",
      "   [113 112 111]\n",
      "   [110 109 108]]\n",
      "\n",
      "  [[107 106 105]\n",
      "   [104 103 102]\n",
      "   [101 100  99]\n",
      "   [ 98  97  96]\n",
      "   [ 95  94  93]\n",
      "   [ 92  91  90]]\n",
      "\n",
      "  [[ 89  88  87]\n",
      "   [ 86  85  84]\n",
      "   [ 83  82  81]\n",
      "   [ 80  79  78]\n",
      "   [ 77  76  75]\n",
      "   [ 74  73  72]]]\n",
      "\n",
      "\n",
      " [[[ 71  70  69]\n",
      "   [ 68  67  66]\n",
      "   [ 65  64  63]\n",
      "   [ 62  61  60]\n",
      "   [ 59  58  57]\n",
      "   [ 56  55  54]]\n",
      "\n",
      "  [[ 53  52  51]\n",
      "   [ 50  49  48]\n",
      "   [ 47  46  45]\n",
      "   [ 44  43  42]\n",
      "   [ 41  40  39]\n",
      "   [ 38  37  36]]\n",
      "\n",
      "  [[ 35  34  33]\n",
      "   [ 32  31  30]\n",
      "   [ 29  28  27]\n",
      "   [ 26  25  24]\n",
      "   [ 23  22  21]\n",
      "   [ 20  19  18]]\n",
      "\n",
      "  [[ 17  16  15]\n",
      "   [ 14  13  12]\n",
      "   [ 11  10   9]\n",
      "   [  8   7   6]\n",
      "   [  5   4   3]\n",
      "   [  2   1   0]]]]\n"
     ]
    }
   ],
   "source": [
    "b = np.arange(3*4*5*6)[::-1].reshape(5,4,6,3)\n",
    "print(b)"
   ]
  },
  {
   "cell_type": "code",
   "execution_count": 39,
   "id": "0ec5da07-31b6-4fca-a1da-d53abab50355",
   "metadata": {
    "scrolled": true
   },
   "outputs": [
    {
     "name": "stdout",
     "output_type": "stream",
     "text": [
      "(3, 4, 5, 6)\n"
     ]
    }
   ],
   "source": [
    "print(a.shape)"
   ]
  },
  {
   "cell_type": "code",
   "execution_count": 40,
   "id": "3579d97b-2a68-44a8-86c5-1096cf318963",
   "metadata": {},
   "outputs": [
    {
     "name": "stdout",
     "output_type": "stream",
     "text": [
      "(5, 4, 6, 3)\n"
     ]
    }
   ],
   "source": [
    "print(b.shape)"
   ]
  },
  {
   "cell_type": "code",
   "execution_count": 42,
   "id": "0ac4b2ac-b0d8-4a92-9700-74ecc8179f31",
   "metadata": {},
   "outputs": [
    {
     "data": {
      "text/plain": [
       "(3, 4, 5, 5, 4, 3)"
      ]
     },
     "execution_count": 42,
     "metadata": {},
     "output_type": "execute_result"
    }
   ],
   "source": [
    "# Dot product\n",
    "c = np.dot(a,b)\n",
    "c.shape"
   ]
  },
  {
   "cell_type": "markdown",
   "id": "75b8eb26-2acd-4307-a430-de4cbfdd53fc",
   "metadata": {},
   "source": [
    "#### Reshape Function"
   ]
  },
  {
   "cell_type": "code",
   "execution_count": 78,
   "id": "2e15174a-8cff-488b-82e7-b1c87933bf76",
   "metadata": {},
   "outputs": [
    {
     "data": {
      "text/plain": [
       "array([ 0,  1,  2,  3,  4,  5,  6,  7,  8,  9, 10, 11, 12, 13, 14, 15, 16,\n",
       "       17, 18, 19, 20, 21, 22, 23])"
      ]
     },
     "execution_count": 78,
     "metadata": {},
     "output_type": "execute_result"
    }
   ],
   "source": [
    "a = np.arange(24)\n",
    "a"
   ]
  },
  {
   "cell_type": "code",
   "execution_count": 79,
   "id": "0080c97e-d43d-40f3-8eaa-349d2bb93929",
   "metadata": {},
   "outputs": [
    {
     "data": {
      "text/plain": [
       "array([[ 0,  1,  2],\n",
       "       [ 3,  4,  5],\n",
       "       [ 6,  7,  8],\n",
       "       [ 9, 10, 11],\n",
       "       [12, 13, 14],\n",
       "       [15, 16, 17],\n",
       "       [18, 19, 20],\n",
       "       [21, 22, 23]])"
      ]
     },
     "execution_count": 79,
     "metadata": {},
     "output_type": "execute_result"
    }
   ],
   "source": [
    "a.reshape((8,3))"
   ]
  },
  {
   "cell_type": "code",
   "execution_count": 80,
   "id": "ed19e538-2af4-42a1-ba4e-3b78d8973d81",
   "metadata": {},
   "outputs": [
    {
     "data": {
      "text/plain": [
       "array([[[ 0,  1,  2],\n",
       "        [ 3,  4,  5]],\n",
       "\n",
       "       [[ 6,  7,  8],\n",
       "        [ 9, 10, 11]],\n",
       "\n",
       "       [[12, 13, 14],\n",
       "        [15, 16, 17]],\n",
       "\n",
       "       [[18, 19, 20],\n",
       "        [21, 22, 23]]])"
      ]
     },
     "execution_count": 80,
     "metadata": {},
     "output_type": "execute_result"
    }
   ],
   "source": [
    "a.reshape((4,2,3))"
   ]
  },
  {
   "cell_type": "code",
   "execution_count": 81,
   "id": "c66b036c-eb79-4691-b9e1-6da4e6821c24",
   "metadata": {},
   "outputs": [
    {
     "data": {
      "text/plain": [
       "array([[[[ 0,  1,  2],\n",
       "         [ 3,  4,  5]],\n",
       "\n",
       "        [[ 6,  7,  8],\n",
       "         [ 9, 10, 11]]],\n",
       "\n",
       "\n",
       "       [[[12, 13, 14],\n",
       "         [15, 16, 17]],\n",
       "\n",
       "        [[18, 19, 20],\n",
       "         [21, 22, 23]]]])"
      ]
     },
     "execution_count": 81,
     "metadata": {},
     "output_type": "execute_result"
    }
   ],
   "source": [
    "a.reshape((2,2,2,3))"
   ]
  },
  {
   "cell_type": "code",
   "execution_count": 82,
   "id": "43326129-4e42-4fbc-9abd-3ac16c3632aa",
   "metadata": {
    "scrolled": true
   },
   "outputs": [
    {
     "data": {
      "text/plain": [
       "array([[[[[[[ 0,  1,  2],\n",
       "            [ 3,  4,  5]],\n",
       "\n",
       "           [[ 6,  7,  8],\n",
       "            [ 9, 10, 11]]],\n",
       "\n",
       "\n",
       "          [[[12, 13, 14],\n",
       "            [15, 16, 17]],\n",
       "\n",
       "           [[18, 19, 20],\n",
       "            [21, 22, 23]]]]]]])"
      ]
     },
     "execution_count": 82,
     "metadata": {},
     "output_type": "execute_result"
    }
   ],
   "source": [
    "a.reshape((1,1,1,2,2,2,3))"
   ]
  },
  {
   "cell_type": "markdown",
   "id": "9f3159c9-d8f8-497a-9402-d272d999c016",
   "metadata": {},
   "source": [
    "#### Concatenate"
   ]
  },
  {
   "cell_type": "code",
   "execution_count": 97,
   "id": "26ebc96a-9970-4062-a96a-b934352996b8",
   "metadata": {},
   "outputs": [
    {
     "name": "stdout",
     "output_type": "stream",
     "text": [
      "[[ 4  5  6]\n",
      " [ 7  8  9]\n",
      " [10 11 12]\n",
      " [13 14 15]]\n",
      "[[24 25 26]\n",
      " [27 28 29]]\n",
      "[[ 4  5  6]\n",
      " [ 7  8  9]\n",
      " [10 11 12]\n",
      " [13 14 15]\n",
      " [24 25 26]\n",
      " [27 28 29]]\n"
     ]
    }
   ],
   "source": [
    "a = np.arange(4,16).reshape(4,3)\n",
    "b = np.arange(24,30).reshape(2,3)\n",
    "print(a)\n",
    "print(b)\n",
    "c = np.concatenate((a,b),axis=0)\n",
    "print(c)"
   ]
  },
  {
   "cell_type": "code",
   "execution_count": 98,
   "id": "cbf9ba27-0584-42fc-b5c0-90c857d32bf4",
   "metadata": {},
   "outputs": [
    {
     "name": "stdout",
     "output_type": "stream",
     "text": [
      "[[ 4  5  6]\n",
      " [ 7  8  9]\n",
      " [10 11 12]\n",
      " [13 14 15]]\n",
      "[[24]\n",
      " [25]\n",
      " [26]\n",
      " [27]]\n",
      "[[ 4  5  6 24]\n",
      " [ 7  8  9 25]\n",
      " [10 11 12 26]\n",
      " [13 14 15 27]]\n"
     ]
    }
   ],
   "source": [
    "a = np.arange(4,16).reshape(4,3)\n",
    "b = np.arange(24,28).reshape(4,1)\n",
    "print(a)\n",
    "print(b)\n",
    "c = np.concatenate((a,b),axis=1)\n",
    "print(c)"
   ]
  },
  {
   "cell_type": "code",
   "execution_count": 99,
   "id": "3f2d016e-82a4-4d8e-9e29-6f451981a90b",
   "metadata": {},
   "outputs": [],
   "source": [
    "#help(np.concatenate)"
   ]
  },
  {
   "cell_type": "code",
   "execution_count": 102,
   "id": "3e2e436f-db37-4842-ba48-c2403d545b45",
   "metadata": {},
   "outputs": [
    {
     "data": {
      "text/plain": [
       "array([[32, 89, 17, 73],\n",
       "       [44, 94,  2, 11],\n",
       "       [ 7, 59, 52, 37],\n",
       "       [42, 77, 80, 20]])"
      ]
     },
     "execution_count": 102,
     "metadata": {},
     "output_type": "execute_result"
    }
   ],
   "source": [
    "a = np.random.randint(100,size=(4,4))\n",
    "a"
   ]
  },
  {
   "cell_type": "code",
   "execution_count": 106,
   "id": "e264a12b-b4f6-4eba-95b9-d5c72dd6c5d7",
   "metadata": {},
   "outputs": [],
   "source": [
    "#### Broadcasting"
   ]
  },
  {
   "cell_type": "code",
   "execution_count": 107,
   "id": "273aa593-82af-42d7-aef1-77f1eab99f91",
   "metadata": {},
   "outputs": [
    {
     "data": {
      "text/plain": [
       "array([[32, 90, 19, 76],\n",
       "       [44, 95,  4, 14],\n",
       "       [ 7, 60, 54, 40],\n",
       "       [42, 78, 82, 23]])"
      ]
     },
     "execution_count": 107,
     "metadata": {},
     "output_type": "execute_result"
    }
   ],
   "source": [
    "c= a + np.arange(4)"
   ]
  },
  {
   "cell_type": "markdown",
   "id": "609c1465-da8f-45cf-8f63-59fab96dc451",
   "metadata": {},
   "source": [
    "#### Masking"
   ]
  },
  {
   "cell_type": "code",
   "execution_count": 105,
   "id": "ab3e9f8f-378d-44bd-9652-2af470ccce79",
   "metadata": {},
   "outputs": [
    {
     "data": {
      "text/plain": [
       "array([32, 17, 44,  2, 11,  7, 37, 42, 20])"
      ]
     },
     "execution_count": 105,
     "metadata": {},
     "output_type": "execute_result"
    }
   ],
   "source": [
    "a[a<50]"
   ]
  },
  {
   "cell_type": "code",
   "execution_count": 111,
   "id": "2d917860-75af-4f26-93e8-ef961ccee997",
   "metadata": {},
   "outputs": [
    {
     "data": {
      "text/plain": [
       "array([37, 80, 74, 50, 72, 88, 31, 52, 90, 30, 18, 83, 15, 63, 20, 29, 86,\n",
       "       65,  7, 56, 80, 94, 90, 23,  1, 25, 99, 44, 15, 93, 69, 65, 98, 71,\n",
       "       29, 44, 23, 10, 99, 46, 63,  6, 90, 20, 17, 40, 44, 93,  6, 72, 54,\n",
       "       65, 38, 62, 62, 12, 86,  8, 85, 51, 69, 44, 24, 33, 77, 20, 27, 11,\n",
       "       41,  5, 55, 11, 16, 15, 44, 68, 43, 31, 17, 19, 70,  3, 39, 23, 21,\n",
       "       71, 11, 41, 84, 97, 47, 87, 88, 90, 52, 43, 26, 65, 38, 10])"
      ]
     },
     "execution_count": 111,
     "metadata": {},
     "output_type": "execute_result"
    }
   ],
   "source": [
    "a = np.random.randint(100,size=100)\n",
    "a"
   ]
  },
  {
   "cell_type": "code",
   "execution_count": null,
   "id": "4548fdac-a844-406b-8f71-386cd98f8d2b",
   "metadata": {},
   "outputs": [],
   "source": [
    "# Fancy way of accesingf the 1-D List"
   ]
  },
  {
   "cell_type": "code",
   "execution_count": 113,
   "id": "d6558633-f51d-4f9a-9448-5ea9d38bdba1",
   "metadata": {},
   "outputs": [
    {
     "data": {
      "text/plain": [
       "array([80, 88, 18, 83, 56, 98])"
      ]
     },
     "execution_count": 113,
     "metadata": {},
     "output_type": "execute_result"
    }
   ],
   "source": [
    "a[[1,5,10,11,19,32]]"
   ]
  },
  {
   "cell_type": "code",
   "execution_count": null,
   "id": "477b9031-da9c-4c25-826a-c209fb628cd8",
   "metadata": {},
   "outputs": [],
   "source": []
  }
 ],
 "metadata": {
  "kernelspec": {
   "display_name": "Python 3 (ipykernel)",
   "language": "python",
   "name": "python3"
  },
  "language_info": {
   "codemirror_mode": {
    "name": "ipython",
    "version": 3
   },
   "file_extension": ".py",
   "mimetype": "text/x-python",
   "name": "python",
   "nbconvert_exporter": "python",
   "pygments_lexer": "ipython3",
   "version": "3.10.12"
  }
 },
 "nbformat": 4,
 "nbformat_minor": 5
}
