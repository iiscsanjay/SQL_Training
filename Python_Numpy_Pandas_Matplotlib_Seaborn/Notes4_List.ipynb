{
 "cells": [
  {
   "cell_type": "markdown",
   "id": "a52f5591-7e30-49f7-aed4-224458a891b2",
   "metadata": {},
   "source": [
    "### **Data Structures** :\n",
    "    - List => [] \n",
    "    - Tuple\n",
    "    - Dictionary\n",
    "    - Sets"
   ]
  },
  {
   "cell_type": "markdown",
   "id": "2764e8d5-5a1d-4750-b6d2-b2ff466aea81",
   "metadata": {},
   "source": [
    "### **List Data Structres** :\n",
    "\n",
    "- Variables Can be multiples Type : Integer, Float, Boolean, String\n",
    "- List, Tuple, Dictionary and Sets can accomadate any kind of Variables"
   ]
  },
  {
   "cell_type": "markdown",
   "id": "b339d95a-e325-41f2-84ea-7be612733807",
   "metadata": {},
   "source": [
    "### Functions in the List: \n",
    "- Create A Emtpy List -  2 methods\n",
    "- Create a list with some values (numbers, strings)-\n",
    "- Iterate a list (Iteration by element, Iteration by Index, Iteration by enumerate)\n",
    "- How to add element into a list (append function)\n",
    "- How to delete an element from a list (del function/ remove if found, else ValueError)\n",
    "- How to sort the list by using sort function\n",
    "- How to add two list  (extend function)\n",
    "- How to clear or remove all element from a list (clear function)\n",
    "- How to use copy (Shallow Copy ) of the list\n",
    "- how to count the occurance of a variable\n",
    "- how to get the index of a element if it exists : (index function, ValueError)\n",
    "- How to insert a value at given index in the list (insert function)\n",
    "- How to remove value calling : pop function (index=-1)\n",
    "- How to reverse the list : Inplace"
   ]
  },
  {
   "cell_type": "code",
   "execution_count": 60,
   "id": "70dca2ee-49d5-4de7-bb7d-4bd2e2464506",
   "metadata": {},
   "outputs": [],
   "source": [
    "#help(list)"
   ]
  },
  {
   "cell_type": "code",
   "execution_count": 3,
   "id": "d5d93398-cf85-4bb0-8faf-1ba57615bf5d",
   "metadata": {},
   "outputs": [],
   "source": [
    "# For loop : Range Variable (SEQUENCE) , list iteration by item, list iteration by index, and even enumerate"
   ]
  },
  {
   "cell_type": "markdown",
   "id": "20982f8c-70db-48f2-bdf7-8e5f56c63b64",
   "metadata": {},
   "source": [
    "- Create A Emtpy List -  2 methods"
   ]
  },
  {
   "cell_type": "code",
   "execution_count": 4,
   "id": "412c8a1f-41c6-4a85-879f-37f0d3b5f2ef",
   "metadata": {},
   "outputs": [],
   "source": [
    "#help(list)"
   ]
  },
  {
   "cell_type": "code",
   "execution_count": 5,
   "id": "b1e511e8-a8b7-4b24-ac42-4eeb39fd5393",
   "metadata": {},
   "outputs": [],
   "source": [
    "# First method\n",
    "nameList = [ ] # creating a empty list with [] \n",
    "\n",
    "#Second method : # create a object of list class\n",
    "numberList = list() # calling the list class by () \n"
   ]
  },
  {
   "cell_type": "code",
   "execution_count": 6,
   "id": "08f72d31-a803-441a-a1d7-134809341d57",
   "metadata": {},
   "outputs": [
    {
     "data": {
      "text/plain": [
       "list"
      ]
     },
     "execution_count": 6,
     "metadata": {},
     "output_type": "execute_result"
    }
   ],
   "source": [
    "type(nameList)"
   ]
  },
  {
   "cell_type": "code",
   "execution_count": 7,
   "id": "c2deebd1-9431-4e47-afe9-5e0543f998e5",
   "metadata": {},
   "outputs": [
    {
     "name": "stdout",
     "output_type": "stream",
     "text": [
      "[]\n"
     ]
    }
   ],
   "source": [
    "print(nameList)"
   ]
  },
  {
   "cell_type": "markdown",
   "id": "2d3cff5d-0bdb-4852-bc33-05b60c8fc4c0",
   "metadata": {},
   "source": [
    "- Create a list with  values"
   ]
  },
  {
   "cell_type": "code",
   "execution_count": 8,
   "id": "de6f51ac-2dc7-4036-b446-2891c4811dec",
   "metadata": {},
   "outputs": [
    {
     "name": "stdout",
     "output_type": "stream",
     "text": [
      "<class 'list'>\n",
      "['ABC', 12, 10000, 234.34, False, 32434, 34, 343, 34, 343]\n"
     ]
    }
   ],
   "source": [
    "# List : Take different type of data type all together (Integer, Float, String, Bool )\n",
    "person = [ \"ABC\", 12, 10000, 234.34, False, 32434,34, 343,34,343 ]\n",
    "print(type(person))\n",
    "print(person)"
   ]
  },
  {
   "cell_type": "code",
   "execution_count": null,
   "id": "e1577623-2f4a-4de4-81ea-07e19dfee6c5",
   "metadata": {},
   "outputs": [],
   "source": [
    "#Similarity in String, list and tuple : len function and access by index"
   ]
  },
  {
   "cell_type": "code",
   "execution_count": 9,
   "id": "503414da-e718-4880-acf6-5b27bf7c2d53",
   "metadata": {},
   "outputs": [
    {
     "name": "stdout",
     "output_type": "stream",
     "text": [
      "['ABC', 12, 10000, 234.34, False, 32434, 34, 343, 34, 343]\n"
     ]
    }
   ],
   "source": [
    "print(person)"
   ]
  },
  {
   "cell_type": "code",
   "execution_count": 31,
   "id": "95ef90d2-e461-4b2a-92b5-a4ab0d07ca6d",
   "metadata": {},
   "outputs": [],
   "source": [
    "# Python : Infinite Length (Manage itself the capacity )"
   ]
  },
  {
   "cell_type": "markdown",
   "id": "4704e691-e6e9-46a8-8395-824cdad55254",
   "metadata": {},
   "source": [
    "- Iterate a list (Iteration by element, Iteration by Index, Iteration by enumerate)"
   ]
  },
  {
   "cell_type": "code",
   "execution_count": 13,
   "id": "b06f011c-3345-440a-a6d5-91932368fea9",
   "metadata": {},
   "outputs": [
    {
     "name": "stdout",
     "output_type": "stream",
     "text": [
      "ABC\n",
      "12\n",
      "10000\n",
      "234.34\n",
      "False\n",
      "32434\n",
      "34\n",
      "343\n",
      "34\n",
      "343\n"
     ]
    }
   ],
   "source": [
    "#Iteration by item\n",
    "for item in person :\n",
    "    print(item)"
   ]
  },
  {
   "cell_type": "code",
   "execution_count": 10,
   "id": "18251b29-9591-4717-9345-72ed26a345e2",
   "metadata": {},
   "outputs": [
    {
     "name": "stdout",
     "output_type": "stream",
     "text": [
      "Number of elements in the Person list : 10\n"
     ]
    }
   ],
   "source": [
    "# inbuilt len - returns the length of the string or list or tuple or dictionary or set\n",
    "print(f'Number of elements in the Person list : {len(person)}')"
   ]
  },
  {
   "cell_type": "markdown",
   "id": "8c9d14f6-0078-4076-b2e6-a93224b0cc82",
   "metadata": {},
   "source": [
    "#### Indexing"
   ]
  },
  {
   "cell_type": "code",
   "execution_count": 17,
   "id": "ded559f3-83d7-42d3-a725-005cb304b46f",
   "metadata": {},
   "outputs": [
    {
     "data": {
      "text/plain": [
       "'ABC'"
      ]
     },
     "execution_count": 17,
     "metadata": {},
     "output_type": "execute_result"
    }
   ],
   "source": [
    "person[0]"
   ]
  },
  {
   "cell_type": "code",
   "execution_count": 18,
   "id": "f68627d2-f5a0-457d-800c-280c3eda0db6",
   "metadata": {},
   "outputs": [
    {
     "data": {
      "text/plain": [
       "12"
      ]
     },
     "execution_count": 18,
     "metadata": {},
     "output_type": "execute_result"
    }
   ],
   "source": [
    "person[1]"
   ]
  },
  {
   "cell_type": "code",
   "execution_count": 19,
   "id": "e687a1d1-1500-42ac-a8a8-36fa07c50320",
   "metadata": {},
   "outputs": [
    {
     "data": {
      "text/plain": [
       "343"
      ]
     },
     "execution_count": 19,
     "metadata": {},
     "output_type": "execute_result"
    }
   ],
   "source": [
    "person[9]"
   ]
  },
  {
   "cell_type": "code",
   "execution_count": 11,
   "id": "5096c7e2-43fe-49ce-a66c-30e81a7702b8",
   "metadata": {},
   "outputs": [
    {
     "ename": "IndexError",
     "evalue": "list index out of range",
     "output_type": "error",
     "traceback": [
      "\u001b[0;31m---------------------------------------------------------------------------\u001b[0m",
      "\u001b[0;31mIndexError\u001b[0m                                Traceback (most recent call last)",
      "Cell \u001b[0;32mIn[11], line 1\u001b[0m\n\u001b[0;32m----> 1\u001b[0m \u001b[43mperson\u001b[49m\u001b[43m[\u001b[49m\u001b[38;5;241;43m10\u001b[39;49m\u001b[43m]\u001b[49m\n",
      "\u001b[0;31mIndexError\u001b[0m: list index out of range"
     ]
    }
   ],
   "source": [
    "person[10]"
   ]
  },
  {
   "cell_type": "code",
   "execution_count": 13,
   "id": "8336377b-b9ff-4128-acfb-f307d8a37255",
   "metadata": {},
   "outputs": [
    {
     "name": "stdout",
     "output_type": "stream",
     "text": [
      "Value at index[0] is ABC  \n",
      "Value at index[1] is 12  \n",
      "Value at index[2] is 10000  \n",
      "Value at index[3] is 234.34  \n",
      "Value at index[4] is False  \n",
      "Value at index[5] is 32434  \n",
      "Value at index[6] is 34  \n",
      "Value at index[7] is 343  \n",
      "Value at index[8] is 34  \n",
      "Value at index[9] is 343  \n"
     ]
    }
   ],
   "source": [
    "# iterate the List  by index\n",
    "for index in range(len(person)):\n",
    "    print(f\"Value at index[{index}] is {person[index]}  \")"
   ]
  },
  {
   "cell_type": "code",
   "execution_count": 15,
   "id": "adf14bfc-db62-4f33-b5d0-1ce3d64a5086",
   "metadata": {},
   "outputs": [],
   "source": [
    "#help(enumerate)"
   ]
  },
  {
   "cell_type": "code",
   "execution_count": 16,
   "id": "add4280b-488b-49a6-b500-7bac62547be6",
   "metadata": {},
   "outputs": [
    {
     "name": "stdout",
     "output_type": "stream",
     "text": [
      "Tuple    :  (0, 'ABC')\n",
      "Indexing :  0 ABC\n",
      "String Formating value at Index[0] : ABC  \n",
      "Tuple    :  (1, 12)\n",
      "Indexing :  1 12\n",
      "String Formating value at Index[1] : 12  \n",
      "Tuple    :  (2, 10000)\n",
      "Indexing :  2 10000\n",
      "String Formating value at Index[2] : 10000  \n",
      "Tuple    :  (3, 234.34)\n",
      "Indexing :  3 234.34\n",
      "String Formating value at Index[3] : 234.34  \n",
      "Tuple    :  (4, False)\n",
      "Indexing :  4 False\n",
      "String Formating value at Index[4] : False  \n",
      "Tuple    :  (5, 32434)\n",
      "Indexing :  5 32434\n",
      "String Formating value at Index[5] : 32434  \n",
      "Tuple    :  (6, 34)\n",
      "Indexing :  6 34\n",
      "String Formating value at Index[6] : 34  \n",
      "Tuple    :  (7, 343)\n",
      "Indexing :  7 343\n",
      "String Formating value at Index[7] : 343  \n",
      "Tuple    :  (8, 34)\n",
      "Indexing :  8 34\n",
      "String Formating value at Index[8] : 34  \n",
      "Tuple    :  (9, 343)\n",
      "Indexing :  9 343\n",
      "String Formating value at Index[9] : 343  \n"
     ]
    }
   ],
   "source": [
    "# iteration list with enumerate\n",
    "for item in enumerate(person):\n",
    "    print(\"Tuple    : \",item)\n",
    "    print(\"Indexing : \",item[0],item[1])\n",
    "    print(f\"String Formating value at Index[{item[0]}] : {item[1]}  \")"
   ]
  },
  {
   "cell_type": "markdown",
   "id": "de4fa6f6-8581-4862-b4ec-0d13d95656d5",
   "metadata": {},
   "source": [
    "- **How to add element into a list**"
   ]
  },
  {
   "cell_type": "code",
   "execution_count": 18,
   "id": "1f5b8ff9-b59a-41d9-b497-01f8ef82c902",
   "metadata": {},
   "outputs": [
    {
     "name": "stdout",
     "output_type": "stream",
     "text": [
      "['ABC', 12, 10000, 234.34, False, 32434, 34, 343, 34, 343, 'Elephant']\n",
      "['ABC', 12, 10000, 234.34, False, 32434, 34, 343, 34, 343, 'Elephant', 'Elephant', 54]\n"
     ]
    }
   ],
   "source": [
    "# append function \n",
    "print(person)\n",
    "\n",
    "# adding an element into the list by using append function\n",
    "person.append(\"Elephant\")\n",
    "person.append(54)\n",
    "\n",
    "print(person)"
   ]
  },
  {
   "cell_type": "code",
   "execution_count": 19,
   "id": "2f957694-5fe2-4273-979d-6d18eab7bc5a",
   "metadata": {},
   "outputs": [
    {
     "name": "stdout",
     "output_type": "stream",
     "text": [
      "[5, 'wew', 54.2323]\n"
     ]
    }
   ],
   "source": [
    "l = []\n",
    "l.append(5)\n",
    "l.append(\"wew\")\n",
    "l.append(54.2323)\n",
    "print(l)"
   ]
  },
  {
   "cell_type": "code",
   "execution_count": 25,
   "id": "c33954b7-fb9e-44b5-b8fc-3f8576fe809e",
   "metadata": {},
   "outputs": [
    {
     "name": "stdout",
     "output_type": "stream",
     "text": [
      "['In', 'Out', '_', '_22', '_6', '__', '___', '__builtin__', '__builtins__', '__doc__', '__loader__', '__name__', '__package__', '__session__', '__spec__', '_dh', '_i', '_i1', '_i10', '_i11', '_i12', '_i13', '_i14', '_i15', '_i16', '_i17', '_i18', '_i19', '_i2', '_i20', '_i21', '_i22', '_i23', '_i24', '_i25', '_i3', '_i4', '_i5', '_i6', '_i7', '_i8', '_i9', '_ih', '_ii', '_iii', '_oh', 'exit', 'get_ipython', 'index', 'item', 'nameList', 'numberList', 'open', 'person', 'quit']\n"
     ]
    }
   ],
   "source": [
    "print(dir())"
   ]
  },
  {
   "cell_type": "code",
   "execution_count": 24,
   "id": "baa2aa9f-b66f-48c9-a7ac-0e31551125f5",
   "metadata": {},
   "outputs": [],
   "source": [
    "# del is the keyword used to delete a object from enviornment \n",
    "del l"
   ]
  },
  {
   "cell_type": "code",
   "execution_count": 42,
   "id": "9a985715-eee0-4f97-bd98-05a82d80d5fd",
   "metadata": {},
   "outputs": [
    {
     "name": "stdout",
     "output_type": "stream",
     "text": [
      "[5, 'wew', 54.2323]\n"
     ]
    }
   ],
   "source": [
    "l = [5, \"wew\", 54.2323]\n",
    "print(l)"
   ]
  },
  {
   "cell_type": "code",
   "execution_count": 31,
   "id": "f6ef931b-6c6d-47b8-b90f-0144ea72517e",
   "metadata": {},
   "outputs": [
    {
     "name": "stdout",
     "output_type": "stream",
     "text": [
      "[12, 10000, 234.34, False, 32434, 34, 343, 34, 343, 'Elephant', 'Elephant', 54]\n"
     ]
    }
   ],
   "source": [
    "print(person)"
   ]
  },
  {
   "cell_type": "code",
   "execution_count": 30,
   "id": "9a53379d-501d-4f02-a1ea-c18af8a8724f",
   "metadata": {},
   "outputs": [],
   "source": [
    "#help(list)"
   ]
  },
  {
   "cell_type": "markdown",
   "id": "1fd58a6d-aa21-45d0-acd9-405c36b6fb7d",
   "metadata": {},
   "source": [
    "- Deleting the value from the List"
   ]
  },
  {
   "cell_type": "code",
   "execution_count": 28,
   "id": "f0b3e4a9-5b5a-45e6-9b22-fcf7892b8ef6",
   "metadata": {},
   "outputs": [
    {
     "name": "stdout",
     "output_type": "stream",
     "text": [
      "[12, 10000, 234.34, False, 32434, 34, 343, 34, 343, 'Elephant', 'Elephant', 54]\n"
     ]
    }
   ],
   "source": [
    "# del keyword is used to delete the first element of the list \n",
    "del person[0]\n",
    "print(person)"
   ]
  },
  {
   "cell_type": "code",
   "execution_count": 33,
   "id": "3b4f23a3-3c28-4474-a714-2121c1139722",
   "metadata": {},
   "outputs": [
    {
     "name": "stdout",
     "output_type": "stream",
     "text": [
      "[12, 10000, 234.34, False, 32434, 343, 34, 343, 'Elephant', 'Elephant', 54]\n"
     ]
    },
    {
     "ename": "ValueError",
     "evalue": "list.remove(x): x not in list",
     "output_type": "error",
     "traceback": [
      "\u001b[0;31m---------------------------------------------------------------------------\u001b[0m",
      "\u001b[0;31mValueError\u001b[0m                                Traceback (most recent call last)",
      "Cell \u001b[0;32mIn[33], line 4\u001b[0m\n\u001b[1;32m      2\u001b[0m \u001b[38;5;28mprint\u001b[39m(person)\n\u001b[1;32m      3\u001b[0m \u001b[38;5;66;03m# otherwise it will raise the Value Error\u001b[39;00m\n\u001b[0;32m----> 4\u001b[0m \u001b[43mperson\u001b[49m\u001b[38;5;241;43m.\u001b[39;49m\u001b[43mremove\u001b[49m\u001b[43m(\u001b[49m\u001b[38;5;241;43m1\u001b[39;49m\u001b[43m)\u001b[49m\n\u001b[1;32m      5\u001b[0m \u001b[38;5;28mprint\u001b[39m(person)\n",
      "\u001b[0;31mValueError\u001b[0m: list.remove(x): x not in list"
     ]
    }
   ],
   "source": [
    "# Remove the value in the list with given value if found\n",
    "print(person)\n",
    "# otherwise it will raise the Value Error\n",
    "person.remove(1)\n",
    "print(person)"
   ]
  },
  {
   "cell_type": "code",
   "execution_count": 35,
   "id": "549e3d33-1709-4351-a473-76711481b101",
   "metadata": {},
   "outputs": [],
   "source": [
    "#help(list)"
   ]
  },
  {
   "cell_type": "code",
   "execution_count": 39,
   "id": "8d0526cf-f5fb-49bd-83cf-b1c577b65b70",
   "metadata": {},
   "outputs": [],
   "source": [
    "person.remove(False)\n",
    "person.remove('Elephant')\n",
    "person.remove('Elephant')\n",
    "person.remove(234.34)"
   ]
  },
  {
   "cell_type": "code",
   "execution_count": 42,
   "id": "58b99a0e-4f2c-4b63-8f85-6f4e66550103",
   "metadata": {},
   "outputs": [
    {
     "name": "stdout",
     "output_type": "stream",
     "text": [
      "[12, 34, 54, 343, 343, 10000, 32434]\n",
      "[32434, 10000, 343, 343, 54, 34, 12]\n"
     ]
    }
   ],
   "source": [
    "# sort function : is inbuilt function in list data structure which you can use to sort the data in the list\n",
    "print(person)\n",
    "person.sort(reverse=True)\n",
    "print(person)"
   ]
  },
  {
   "cell_type": "markdown",
   "id": "ba2e5aa8-be51-48d5-a36f-b4cd48e51c3e",
   "metadata": {},
   "source": [
    "- Add two list with each other"
   ]
  },
  {
   "cell_type": "code",
   "execution_count": 75,
   "id": "3f2c9b34-9d9e-47d5-bf79-062c5ad3ace8",
   "metadata": {},
   "outputs": [
    {
     "name": "stdout",
     "output_type": "stream",
     "text": [
      "Memory location where l1 list is saved : 4434276672\n",
      "Memory location where l2 list is saved : 4434270464\n",
      "Memory location where l1 list is saved : 4434115264\n",
      "[32, 43, 54, 66, 1, 2, 4, 5]\n",
      "[32, 43, 54, 66]\n"
     ]
    }
   ],
   "source": [
    "# example of assignig a new list to same variable\n",
    "l1 =  [1,2,4,5]\n",
    "l2 = [32,43,54,66]\n",
    "print(f'Memory location where l1 list is saved : {id(l1)}')\n",
    "print(f'Memory location where l2 list is saved : {id(l2)}')\n",
    "# not be doing this kind of operaiton\n",
    "l1 = l2 + l1   # reassign the result (new Memory was allocated here)\n",
    "print(f'Memory location where l1 list is saved : {id(l1)}')\n",
    "print(l1)\n",
    "print(l2)"
   ]
  },
  {
   "cell_type": "code",
   "execution_count": 44,
   "id": "b71b2225-d4a3-4c38-ab46-87c39c9d1c19",
   "metadata": {},
   "outputs": [
    {
     "name": "stdout",
     "output_type": "stream",
     "text": [
      "Memory location where l1 list is saved : 4372535680\n",
      "Memory location where l2 list is saved : 4372541888\n",
      "Memory location where l1 list is saved : 4372535680\n",
      "[1, 2, 4, 5, 32, 43, 54, 66]\n",
      "[32, 43, 54, 66]\n"
     ]
    }
   ],
   "source": [
    "# example of adding a list to previous declared list\n",
    "l1 =  [1,2,4,5]\n",
    "l2 = [32,43,54,66]\n",
    "print(f'Memory location where l1 list is saved : {id(l1)}')\n",
    "print(f'Memory location where l2 list is saved : {id(l2)}')\n",
    "l1.extend(l2)\n",
    "print(f'Memory location where l1 list is saved : {id(l1)}')\n",
    "print(l1)\n",
    "print(l2)"
   ]
  },
  {
   "cell_type": "code",
   "execution_count": 45,
   "id": "65081627-a11d-4d22-9033-93b67f8c7033",
   "metadata": {},
   "outputs": [
    {
     "name": "stdout",
     "output_type": "stream",
     "text": [
      "[]\n",
      "Memory location where l1 list is saved : 4372535680\n"
     ]
    }
   ],
   "source": [
    "l1.clear()\n",
    "print(l1)\n",
    "print(f'Memory location where l1 list is saved : {id(l1)}')"
   ]
  },
  {
   "cell_type": "code",
   "execution_count": 47,
   "id": "7de4bfb7-2f66-4561-bc45-4bfea13ebf97",
   "metadata": {},
   "outputs": [
    {
     "name": "stdout",
     "output_type": "stream",
     "text": [
      "Before: [1, 2, 4, 5]\n",
      "Before: [1, 2, 4, 5]\n",
      "After: [1, 5]\n",
      "After: [1, 5]\n"
     ]
    }
   ],
   "source": [
    "l1 =  [1,2,3,4,5]\n",
    "# assign the variable it is keep the memory location with l3,\n",
    "# l1 = 0x8086\n",
    "# l3 = 0x8086\n",
    "l3 = l1\n",
    "print(\"Before:\",l1)\n",
    "print(\"Before:\",l3)\n",
    "l3.remove(4)\n",
    "l1.remove(2)\n",
    "print(\"After:\",l1)\n",
    "print(\"After:\",l3)"
   ]
  },
  {
   "cell_type": "code",
   "execution_count": 49,
   "id": "26e3f6f4-8f41-4b90-9344-46fe7d131fbe",
   "metadata": {},
   "outputs": [
    {
     "name": "stdout",
     "output_type": "stream",
     "text": [
      "Before: [1, 2, 4, 5]\n",
      "Before: [1, 2, 4, 5]\n",
      "After: [1, 4, 5]\n",
      "After: [1, 2, 5]\n"
     ]
    }
   ],
   "source": [
    "l1 =  [1,2,4,5]\n",
    "# shallow copy : new memory was assigned to l3 and coping each element of l1 list to l3 list\n",
    "# l1 = 0x8086 :  [1,4,5]\n",
    "# l3 = 0x9023 (copy each element of l1 to l3) = [1,2,5]\n",
    "l3 = l1.copy()\n",
    "print(\"Before:\",l1)\n",
    "print(\"Before:\",l3)\n",
    "l3.remove(4)\n",
    "l1.remove(2)\n",
    "print(\"After:\",l1)\n",
    "print(\"After:\",l3)"
   ]
  },
  {
   "cell_type": "markdown",
   "id": "7690d64c-38d4-4eaf-bb5a-7020eb5a8e2c",
   "metadata": {},
   "source": [
    "- Count the occurance of the variable"
   ]
  },
  {
   "cell_type": "code",
   "execution_count": 58,
   "id": "b77a2732-01be-4531-82cb-38d35ea291ce",
   "metadata": {},
   "outputs": [
    {
     "data": {
      "text/plain": [
       "1"
      ]
     },
     "execution_count": 58,
     "metadata": {},
     "output_type": "execute_result"
    }
   ],
   "source": [
    "person = [ \"ABC\", 12, 10000, 12, 234.34, False, 32434, 12, 34,34,343, 12 ]\n",
    "person.count(343)"
   ]
  },
  {
   "cell_type": "markdown",
   "id": "31279927-d16c-4ec3-b364-14c46eb33488",
   "metadata": {},
   "source": [
    "- how to get the index of a element if it exists : (index function, ValueError)"
   ]
  },
  {
   "cell_type": "code",
   "execution_count": 64,
   "id": "4e148b30-8f7f-474a-82d6-87255cc5c76b",
   "metadata": {},
   "outputs": [
    {
     "name": "stdout",
     "output_type": "stream",
     "text": [
      "['ABC', 12, 10000, 12, 234.34, False, 32434, 12, 34, 34, 343, 12]\n",
      "1\n",
      "8\n"
     ]
    },
    {
     "ename": "ValueError",
     "evalue": "50 is not in list",
     "output_type": "error",
     "traceback": [
      "\u001b[0;31m---------------------------------------------------------------------------\u001b[0m",
      "\u001b[0;31mValueError\u001b[0m                                Traceback (most recent call last)",
      "Cell \u001b[0;32mIn[64], line 4\u001b[0m\n\u001b[1;32m      2\u001b[0m \u001b[38;5;28mprint\u001b[39m(person\u001b[38;5;241m.\u001b[39mindex(\u001b[38;5;241m12\u001b[39m))\n\u001b[1;32m      3\u001b[0m \u001b[38;5;28mprint\u001b[39m(person\u001b[38;5;241m.\u001b[39mindex(\u001b[38;5;241m34\u001b[39m))\n\u001b[0;32m----> 4\u001b[0m \u001b[38;5;28mprint\u001b[39m(\u001b[43mperson\u001b[49m\u001b[38;5;241;43m.\u001b[39;49m\u001b[43mindex\u001b[49m\u001b[43m(\u001b[49m\u001b[38;5;241;43m50\u001b[39;49m\u001b[43m)\u001b[49m)\n",
      "\u001b[0;31mValueError\u001b[0m: 50 is not in list"
     ]
    }
   ],
   "source": [
    "print(person)\n",
    "print(person.index(12))\n",
    "print(person.index(34))\n",
    "print(person.index(50))"
   ]
  },
  {
   "cell_type": "code",
   "execution_count": 69,
   "id": "730636c5-542a-48a8-8574-7512603ad646",
   "metadata": {},
   "outputs": [
    {
     "name": "stdout",
     "output_type": "stream",
     "text": [
      "The value 34 found at index : 8\n"
     ]
    }
   ],
   "source": [
    "if person.count(34) > 0 :\n",
    "    print(f'The value 34 found at index : {person.index(34)}')"
   ]
  },
  {
   "cell_type": "markdown",
   "id": "c444af3d-dd29-42ca-8aad-76a3168c2b52",
   "metadata": {},
   "source": [
    "- How to insert a value at given index in the list (insert function)"
   ]
  },
  {
   "cell_type": "code",
   "execution_count": 85,
   "id": "b80aaa9f-0a55-4d37-8ad3-7cfe7c27f943",
   "metadata": {},
   "outputs": [
    {
     "name": "stdout",
     "output_type": "stream",
     "text": [
      "['ABC', 12, 25, 25, 10000, 12, 50, 50, 234.34, False, 32434, 12]\n",
      "['ABC', 12, 25, 25, 25, 10000, 12, 50, 50, 234.34, False, 32434, 12]\n"
     ]
    }
   ],
   "source": [
    "print(person)\n",
    "person.insert(2,25)\n",
    "print(person)"
   ]
  },
  {
   "cell_type": "markdown",
   "id": "e29de88b-58de-4fe6-8448-da3341b62f99",
   "metadata": {},
   "source": [
    "- How to remove value calling : pop function (index=-1)"
   ]
  },
  {
   "cell_type": "code",
   "execution_count": 91,
   "id": "382a3332-093a-406e-99ed-27733100901d",
   "metadata": {},
   "outputs": [
    {
     "name": "stdout",
     "output_type": "stream",
     "text": [
      "['ABC', 25, 25, 12, 50, 50, 234.34, False, 32434, 12]\n",
      "['ABC', 25, 25, 50, 50, 234.34, False, 32434, 12]\n"
     ]
    }
   ],
   "source": [
    "print(person)\n",
    "person.pop(3)\n",
    "print(person)"
   ]
  },
  {
   "cell_type": "code",
   "execution_count": 92,
   "id": "580d01ce-28e3-46aa-bc67-0fdb53e6eae6",
   "metadata": {},
   "outputs": [],
   "source": [
    "#help(list)"
   ]
  },
  {
   "cell_type": "markdown",
   "id": "484380f3-7e77-4e1e-9108-cc2fbf402cde",
   "metadata": {},
   "source": [
    "- How to reverse the list : Inplace"
   ]
  },
  {
   "cell_type": "code",
   "execution_count": 93,
   "id": "5e6d9a70-b678-4b21-899f-65b5fc0fd938",
   "metadata": {},
   "outputs": [
    {
     "name": "stdout",
     "output_type": "stream",
     "text": [
      "['ABC', 25, 25, 50, 50, 234.34, False, 32434, 12]\n",
      "[12, 32434, False, 234.34, 50, 50, 25, 25, 'ABC']\n"
     ]
    }
   ],
   "source": [
    "print(person)\n",
    "person.reverse()\n",
    "print(person)"
   ]
  }
 ],
 "metadata": {
  "kernelspec": {
   "display_name": "Python 3 (ipykernel)",
   "language": "python",
   "name": "python3"
  },
  "language_info": {
   "codemirror_mode": {
    "name": "ipython",
    "version": 3
   },
   "file_extension": ".py",
   "mimetype": "text/x-python",
   "name": "python",
   "nbconvert_exporter": "python",
   "pygments_lexer": "ipython3",
   "version": "3.10.12"
  }
 },
 "nbformat": 4,
 "nbformat_minor": 5
}
