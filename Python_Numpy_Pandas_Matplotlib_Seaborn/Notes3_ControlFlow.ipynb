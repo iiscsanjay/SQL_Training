{
 "cells": [
  {
   "cell_type": "markdown",
   "id": "08a71c0b-3c1c-4e73-bc3c-54711333d2b0",
   "metadata": {},
   "source": [
    "## 1. Conditional Statement : if, if-else, if-elif-else"
   ]
  },
  {
   "cell_type": "code",
   "execution_count": 36,
   "id": "61219854-9a47-4955-8128-f4751b95d152",
   "metadata": {},
   "outputs": [],
   "source": [
    "# Conditional Statement : if condition checking (alone)"
   ]
  },
  {
   "cell_type": "raw",
   "id": "0eb421c2-1d0c-478a-9b56-88f9d9d84605",
   "metadata": {},
   "source": [
    "=> whenever we use if, if-else or if-elif-else then u need to put : (colon) after the condition"
   ]
  },
  {
   "cell_type": "code",
   "execution_count": 37,
   "id": "47324ca7-984d-4d75-b8b8-0d420698969a",
   "metadata": {},
   "outputs": [
    {
     "name": "stdin",
     "output_type": "stream",
     "text": [
      "Enter an integer :  35\n"
     ]
    }
   ],
   "source": [
    "\"\"\" Guess a number by entering the number multiple times \"\"\"\n",
    "number = 23\n",
    "guess = int(input('Enter an integer : '))\n",
    "if number == guess: # checking for True condition only\n",
    "    print(\"Guess is correct!\")"
   ]
  },
  {
   "cell_type": "code",
   "execution_count": null,
   "id": "fced0c1a-040c-428e-b81d-e957e7698a9e",
   "metadata": {},
   "outputs": [],
   "source": [
    "# Conditional Statement : if - else statement for checking the condition"
   ]
  },
  {
   "cell_type": "code",
   "execution_count": 3,
   "id": "7f58b586-9491-488d-a18b-42b0cf775af4",
   "metadata": {},
   "outputs": [
    {
     "name": "stdin",
     "output_type": "stream",
     "text": [
      "Enter an integer :  23\n"
     ]
    },
    {
     "name": "stdout",
     "output_type": "stream",
     "text": [
      "Guess is correct!\n"
     ]
    }
   ],
   "source": [
    "\"\"\" Guess a number by entering the number multiple times \"\"\"\n",
    "number = 23\n",
    "guess = int(input('Enter an integer : '))\n",
    "\n",
    "if number == guess : # checking for the true condition\n",
    "    print(\"Guess is correct!\")\n",
    "else : # checking the false condition\n",
    "    print(\"Guess is incorrect!\")"
   ]
  },
  {
   "cell_type": "code",
   "execution_count": 6,
   "id": "e55f75a2-1b1f-42d5-8196-767b6fbaa71b",
   "metadata": {},
   "outputs": [
    {
     "name": "stdin",
     "output_type": "stream",
     "text": [
      "Enter an integer value:  -3\n"
     ]
    }
   ],
   "source": [
    "\"\"\" prompt from an input from user and validate it that it should be positive number.\"\"\"\n",
    "\n",
    "number = int(input(\"Enter an integer value: \"))\n",
    "if number > 0:\n",
    "    print(\"Yes, number is positive!\")"
   ]
  },
  {
   "cell_type": "code",
   "execution_count": null,
   "id": "5778a4f8-27c1-42f8-8a3b-54af45bf8d4d",
   "metadata": {},
   "outputs": [],
   "source": [
    "\"\"\" prompt from an input from user and validate it that it should be positive number.\"\"\"\n",
    "\n",
    "number = int(input(\"Enter an integer value: \"))\n",
    "if number < 0:\n",
    "    print(\"Bbye!\")"
   ]
  },
  {
   "cell_type": "code",
   "execution_count": 10,
   "id": "735da24d-2759-4b87-867b-94c2e7aa026d",
   "metadata": {},
   "outputs": [
    {
     "name": "stdin",
     "output_type": "stream",
     "text": [
      "Enter an integer :  23\n"
     ]
    },
    {
     "name": "stdout",
     "output_type": "stream",
     "text": [
      "Congratulations, you guessed it.\n",
      "(but you do not win any prizes!)\n",
      "Done\n"
     ]
    }
   ],
   "source": [
    "number = 23\n",
    "guess = int(input('Enter an integer : '))\n",
    "\n",
    "if guess == number:\n",
    "    # New block starts here\n",
    "    print('Congratulations, you guessed it.')\n",
    "    print('(but you do not win any prizes!)')\n",
    "    # New block ends here\n",
    "elif guess < number:\n",
    "    # Another block\n",
    "    print('No, it is a little higher than that')\n",
    "    # You can do whatever you want in a block ...\n",
    "else:\n",
    "    print('No, it is a little lower than that')\n",
    "    # you must have guessed > number to reach here\n",
    "\n",
    "print('Done')\n",
    "# This last statement is always executed,\n",
    "# after the if statement is executed."
   ]
  },
  {
   "cell_type": "code",
   "execution_count": null,
   "id": "00d70581-24b1-4ea8-9f12-60a1d64dd49e",
   "metadata": {},
   "outputs": [],
   "source": [
    "# Conditional statement : if, elif and else"
   ]
  },
  {
   "cell_type": "code",
   "execution_count": 13,
   "id": "529dd562-ab1e-4905-9d8f-39f43897d0a2",
   "metadata": {},
   "outputs": [
    {
     "name": "stdin",
     "output_type": "stream",
     "text": [
      "Enter an integer value:  12\n"
     ]
    },
    {
     "name": "stdout",
     "output_type": "stream",
     "text": [
      "Yes, 12 is between 10 to 40\n"
     ]
    }
   ],
   "source": [
    "\"\"\"you want to prompt a number from user and validate it that number should be between 10 to 40\"\"\"\n",
    "\n",
    "number = int(input(\"Enter an integer value: \"))\n",
    "if number < 10 :\n",
    "    print(\"Sorry, the number is less than 10.\")\n",
    "elif number > 40:\n",
    "    print(\"Sorry, the number is greater than 40.\")\n",
    "else:\n",
    "    print(\"Yes, {} is between 10 to 40\" .format(number))"
   ]
  },
  {
   "cell_type": "markdown",
   "id": "735b28c9-3571-4866-b998-b27481792d3c",
   "metadata": {},
   "source": [
    "## 2. Looping in the Control Flow"
   ]
  },
  {
   "cell_type": "markdown",
   "id": "db518247-1f3b-4978-b08f-a2349606562d",
   "metadata": {},
   "source": [
    "### While looping"
   ]
  },
  {
   "cell_type": "code",
   "execution_count": null,
   "id": "11187a6d-8b14-48ce-acbe-bdda9f57d62a",
   "metadata": {},
   "outputs": [],
   "source": [
    "while Condition : # loop will be  executed until the condition is True\n"
   ]
  },
  {
   "cell_type": "code",
   "execution_count": 18,
   "id": "0b39da1c-5f35-46ad-8297-a45a2bb202a0",
   "metadata": {},
   "outputs": [
    {
     "name": "stdin",
     "output_type": "stream",
     "text": [
      "Enter an integer :  12\n"
     ]
    },
    {
     "name": "stdout",
     "output_type": "stream",
     "text": [
      "No, it is a little higher than that.\n"
     ]
    },
    {
     "name": "stdin",
     "output_type": "stream",
     "text": [
      "Enter an integer :  20\n"
     ]
    },
    {
     "name": "stdout",
     "output_type": "stream",
     "text": [
      "No, it is a little higher than that.\n"
     ]
    },
    {
     "name": "stdin",
     "output_type": "stream",
     "text": [
      "Enter an integer :  35\n"
     ]
    },
    {
     "name": "stdout",
     "output_type": "stream",
     "text": [
      "No, it is a little lower than that.\n"
     ]
    },
    {
     "name": "stdin",
     "output_type": "stream",
     "text": [
      "Enter an integer :  30\n"
     ]
    },
    {
     "name": "stdout",
     "output_type": "stream",
     "text": [
      "No, it is a little lower than that.\n"
     ]
    },
    {
     "name": "stdin",
     "output_type": "stream",
     "text": [
      "Enter an integer :  25\n"
     ]
    },
    {
     "name": "stdout",
     "output_type": "stream",
     "text": [
      "No, it is a little lower than that.\n"
     ]
    },
    {
     "name": "stdin",
     "output_type": "stream",
     "text": [
      "Enter an integer :  22\n"
     ]
    },
    {
     "name": "stdout",
     "output_type": "stream",
     "text": [
      "No, it is a little higher than that.\n"
     ]
    },
    {
     "name": "stdin",
     "output_type": "stream",
     "text": [
      "Enter an integer :  23\n"
     ]
    },
    {
     "name": "stdout",
     "output_type": "stream",
     "text": [
      "Congratulations, you guessed it.\n",
      "The while loop is over.\n",
      "Done\n"
     ]
    }
   ],
   "source": [
    "number = 23\n",
    "running = True\n",
    "\n",
    "while running:\n",
    "    guess = int(input('Enter an integer : '))\n",
    "\n",
    "    if guess == number:\n",
    "        \n",
    "        print('Congratulations, you guessed it.')\n",
    "        \n",
    "        # this causes the while loop to stop condition to False, this will make while loop terminate\n",
    "        running = False\n",
    "        \n",
    "    elif guess < number:\n",
    "        print('No, it is a little higher than that.')\n",
    "    else:\n",
    "        print('No, it is a little lower than that.')\n",
    "else:\n",
    "    print('The while loop is over.')\n",
    "    # Do anything else you want to do here\n",
    "\n",
    "print('Done')"
   ]
  },
  {
   "cell_type": "code",
   "execution_count": null,
   "id": "3c00718a-1c3a-40c7-bd82-9974d4cbbf61",
   "metadata": {},
   "outputs": [],
   "source": [
    "#range : in-built function"
   ]
  },
  {
   "cell_type": "code",
   "execution_count": 22,
   "id": "e45e3b93-322b-44e5-91c6-33b1bff05248",
   "metadata": {},
   "outputs": [],
   "source": [
    "#help(range)"
   ]
  },
  {
   "cell_type": "raw",
   "id": "aef744f2-78fc-4cd4-95d2-19f676e89443",
   "metadata": {},
   "source": [
    "# with 2 parameter\n",
    "range function generates the sequence in python code\n",
    "DEFAULT START is 0, DEFAULT Step is 1\n",
    "range(start,stop,step=1)\n",
    "\n",
    "=> range(start,stop) => range(1,10) : 1,2,3,4,5,6,7,8,9\n",
    "=> range(stop) => range(10) : 0,1,2,3,4,5,6,7,8,9\n",
    "=> range(start,stop,step) => range(1,10,3) : 1,4,7 "
   ]
  },
  {
   "cell_type": "markdown",
   "id": "73df3961-b49d-4479-9e57-bce8f5371279",
   "metadata": {},
   "source": [
    "### for looping"
   ]
  },
  {
   "cell_type": "code",
   "execution_count": null,
   "id": "c9f5a51e-9680-4dca-904f-c561073caa84",
   "metadata": {},
   "outputs": [],
   "source": [
    "# syntax for for loop\n",
    "for var in range(start,stop,step):\n",
    "    print(var)"
   ]
  },
  {
   "cell_type": "code",
   "execution_count": 39,
   "id": "f0af330a-dea7-41af-aa84-bb763d7970c6",
   "metadata": {},
   "outputs": [
    {
     "name": "stdout",
     "output_type": "stream",
     "text": [
      "0\n",
      "1\n",
      "2\n",
      "3\n",
      "4\n",
      "5\n",
      "6\n",
      "7\n",
      "8\n",
      "9\n",
      "10\n"
     ]
    }
   ],
   "source": [
    "for i in range(11):\n",
    "    print(i)"
   ]
  },
  {
   "cell_type": "markdown",
   "id": "3347ad1d-1fa9-4d91-a768-d6781fa6ce35",
   "metadata": {},
   "source": [
    "### Break Statement \n",
    "Break statement is used to terminate the looping"
   ]
  },
  {
   "cell_type": "code",
   "execution_count": 27,
   "id": "5eef5c0e-a2a5-4e58-8606-8f0dd37b80e8",
   "metadata": {},
   "outputs": [
    {
     "name": "stdin",
     "output_type": "stream",
     "text": [
      "Enter an integer :  34\n"
     ]
    },
    {
     "name": "stdout",
     "output_type": "stream",
     "text": [
      "No, it is a little lower than that.\n"
     ]
    },
    {
     "name": "stdin",
     "output_type": "stream",
     "text": [
      "Enter an integer :  20\n"
     ]
    },
    {
     "name": "stdout",
     "output_type": "stream",
     "text": [
      "No, it is a little higher than that.\n"
     ]
    },
    {
     "name": "stdin",
     "output_type": "stream",
     "text": [
      "Enter an integer :  25\n"
     ]
    },
    {
     "name": "stdout",
     "output_type": "stream",
     "text": [
      "No, it is a little lower than that.\n"
     ]
    },
    {
     "name": "stdin",
     "output_type": "stream",
     "text": [
      "Enter an integer :  23\n"
     ]
    },
    {
     "name": "stdout",
     "output_type": "stream",
     "text": [
      "Congratulations, you guessed it.\n",
      "Done\n"
     ]
    }
   ],
   "source": [
    "number = 23\n",
    "running = True\n",
    "\n",
    "while running:\n",
    "    guess = int(input('Enter an integer : '))\n",
    "\n",
    "    if guess == number:\n",
    "        \n",
    "        print('Congratulations, you guessed it.')\n",
    "        \n",
    "        # this causes the while loop to stop condition to False, this will make while loop terminate\n",
    "        break   # break statement  tell interpreter to end the looping     \n",
    "    elif guess < number:\n",
    "        print('No, it is a little higher than that.')\n",
    "    else:\n",
    "        print('No, it is a little lower than that.')\n",
    "else:\n",
    "    print('The while loop is over.')\n",
    "    # Do anything else you want to do here\n",
    "\n",
    "print('Done')"
   ]
  },
  {
   "cell_type": "code",
   "execution_count": 28,
   "id": "54ac91e1-2df1-42fd-a7e7-11280ddfbc5d",
   "metadata": {},
   "outputs": [
    {
     "name": "stdin",
     "output_type": "stream",
     "text": [
      "Enter something :  This is my program\n"
     ]
    },
    {
     "name": "stdout",
     "output_type": "stream",
     "text": [
      "Length of the string is 18\n"
     ]
    },
    {
     "name": "stdin",
     "output_type": "stream",
     "text": [
      "Enter something :  My is XYS\n"
     ]
    },
    {
     "name": "stdout",
     "output_type": "stream",
     "text": [
      "Length of the string is 9\n"
     ]
    },
    {
     "name": "stdin",
     "output_type": "stream",
     "text": [
      "Enter something :  ASDSAdas\n"
     ]
    },
    {
     "name": "stdout",
     "output_type": "stream",
     "text": [
      "Length of the string is 8\n"
     ]
    },
    {
     "name": "stdin",
     "output_type": "stream",
     "text": [
      "Enter something :  sad\n"
     ]
    },
    {
     "name": "stdout",
     "output_type": "stream",
     "text": [
      "Length of the string is 3\n"
     ]
    },
    {
     "name": "stdin",
     "output_type": "stream",
     "text": [
      "Enter something :  sad\n"
     ]
    },
    {
     "name": "stdout",
     "output_type": "stream",
     "text": [
      "Length of the string is 3\n"
     ]
    },
    {
     "name": "stdin",
     "output_type": "stream",
     "text": [
      "Enter something :  asd\n"
     ]
    },
    {
     "name": "stdout",
     "output_type": "stream",
     "text": [
      "Length of the string is 3\n"
     ]
    },
    {
     "name": "stdin",
     "output_type": "stream",
     "text": [
      "Enter something :  sads\n"
     ]
    },
    {
     "name": "stdout",
     "output_type": "stream",
     "text": [
      "Length of the string is 4\n"
     ]
    },
    {
     "name": "stdin",
     "output_type": "stream",
     "text": [
      "Enter something :  quit\n"
     ]
    },
    {
     "name": "stdout",
     "output_type": "stream",
     "text": [
      "Done\n"
     ]
    }
   ],
   "source": [
    "while True:\n",
    "    s = input('Enter something : ')\n",
    "    if s == 'quit':\n",
    "        break\n",
    "    print('Length of the string is', len(s))\n",
    "print('Done')"
   ]
  },
  {
   "cell_type": "markdown",
   "id": "fe05239d-b420-4152-8db6-87f92ebb55bf",
   "metadata": {},
   "source": [
    "### Continue Statement:\n",
    "continue statement is to skip that condition in the looping, jump to loop condition statement"
   ]
  },
  {
   "cell_type": "code",
   "execution_count": 32,
   "id": "f8801c83-cf0d-4f08-8185-8bcdc3620fc4",
   "metadata": {},
   "outputs": [
    {
     "name": "stdin",
     "output_type": "stream",
     "text": [
      "Enter something :  quit\n"
     ]
    }
   ],
   "source": [
    "while True:\n",
    "    s = input('Enter something : ') #is\n",
    "    if s == 'quit':\n",
    "        break\n",
    "    if len(s) < 3:\n",
    "        print('Too small')\n",
    "        continue\n",
    "    print('Input is of sufficient length')\n",
    "    print(\"Asdasd\")\n",
    "    a = 56\n",
    "    result = a * 45\n",
    "    print(f'my result is {result}')\n",
    "    # Do other kinds of processing here..."
   ]
  },
  {
   "cell_type": "code",
   "execution_count": null,
   "id": "3c8df15c-606e-4eae-8550-bff8061b35c9",
   "metadata": {},
   "outputs": [],
   "source": [
    "\"\"\" Write a program to prompt user to enter 10 numbers and print it later.\"\"\"\"\n"
   ]
  },
  {
   "cell_type": "code",
   "execution_count": null,
   "id": "f5205fc3-38cb-4829-8227-e2cd62204cfa",
   "metadata": {},
   "outputs": [],
   "source": [
    "=> Example for While loop"
   ]
  },
  {
   "cell_type": "code",
   "execution_count": 34,
   "id": "574a59d1-0b4e-44c9-befb-fdb334a41ca0",
   "metadata": {},
   "outputs": [
    {
     "name": "stdin",
     "output_type": "stream",
     "text": [
      "Enter an integer value:  23\n"
     ]
    },
    {
     "name": "stdout",
     "output_type": "stream",
     "text": [
      "Counter : 1 : Value 23\n"
     ]
    },
    {
     "name": "stdin",
     "output_type": "stream",
     "text": [
      "Enter an integer value:  32\n"
     ]
    },
    {
     "name": "stdout",
     "output_type": "stream",
     "text": [
      "Counter : 2 : Value 32\n"
     ]
    },
    {
     "name": "stdin",
     "output_type": "stream",
     "text": [
      "Enter an integer value:  54\n"
     ]
    },
    {
     "name": "stdout",
     "output_type": "stream",
     "text": [
      "Counter : 3 : Value 54\n"
     ]
    },
    {
     "name": "stdin",
     "output_type": "stream",
     "text": [
      "Enter an integer value:  6\n"
     ]
    },
    {
     "name": "stdout",
     "output_type": "stream",
     "text": [
      "Counter : 4 : Value 6\n"
     ]
    },
    {
     "name": "stdin",
     "output_type": "stream",
     "text": [
      "Enter an integer value:  5\n"
     ]
    },
    {
     "name": "stdout",
     "output_type": "stream",
     "text": [
      "Counter : 5 : Value 5\n"
     ]
    },
    {
     "name": "stdin",
     "output_type": "stream",
     "text": [
      "Enter an integer value:  7\n"
     ]
    },
    {
     "name": "stdout",
     "output_type": "stream",
     "text": [
      "Counter : 6 : Value 7\n"
     ]
    },
    {
     "name": "stdin",
     "output_type": "stream",
     "text": [
      "Enter an integer value:  19\n"
     ]
    },
    {
     "name": "stdout",
     "output_type": "stream",
     "text": [
      "Counter : 7 : Value 19\n"
     ]
    },
    {
     "name": "stdin",
     "output_type": "stream",
     "text": [
      "Enter an integer value:  23\n"
     ]
    },
    {
     "name": "stdout",
     "output_type": "stream",
     "text": [
      "Counter : 8 : Value 23\n"
     ]
    },
    {
     "name": "stdin",
     "output_type": "stream",
     "text": [
      "Enter an integer value:  94\n"
     ]
    },
    {
     "name": "stdout",
     "output_type": "stream",
     "text": [
      "Counter : 9 : Value 94\n"
     ]
    },
    {
     "name": "stdin",
     "output_type": "stream",
     "text": [
      "Enter an integer value:  100\n"
     ]
    },
    {
     "name": "stdout",
     "output_type": "stream",
     "text": [
      "Counter : 10 : Value 100\n"
     ]
    }
   ],
   "source": [
    "totalNumbers = 10\n",
    "counter = 1\n",
    "while counter <= totalNumbers :\n",
    "    number = int(input(\"Enter an integer value: \"))\n",
    "    counter = counter + 1\n",
    "\n",
    "# Memory to save these numbers in any program langauages is called Data STructure. "
   ]
  },
  {
   "cell_type": "code",
   "execution_count": null,
   "id": "03c59fed-c2ec-4143-b02e-e78d0764bf6b",
   "metadata": {},
   "outputs": [],
   "source": [
    "# Python : List, Array, Tuple, Set, Dictionary"
   ]
  },
  {
   "cell_type": "code",
   "execution_count": null,
   "id": "d8d69acb-1cf1-42a1-8bc5-701999590088",
   "metadata": {},
   "outputs": [],
   "source": [
    "# Array is the data structure which saves same type data variable with multiple enteries togeters.\n",
    "marks of students (100) (integer) \n",
    "# List : is the data structure which saves many entries from all kind of data (integer, float, boolean,string)"
   ]
  },
  {
   "cell_type": "code",
   "execution_count": 36,
   "id": "923ecad6-d330-43db-99e1-a8cea904b4ac",
   "metadata": {},
   "outputs": [
    {
     "name": "stdout",
     "output_type": "stream",
     "text": [
      "<class 'list'>\n",
      "[]\n",
      "<class 'list'>\n",
      "[]\n",
      "[34, 34, 232, 25, 634, True, 34.232, 'ABCD']\n"
     ]
    }
   ],
   "source": [
    "# To create a list data structure with []\n",
    "numberList  = [] # one way create empty list []\n",
    "print(type(numberList))\n",
    "print(numberList)\n",
    "\n",
    "aList = list() # another way list() empty list\n",
    "print(type(aList))\n",
    "print(aList)\n",
    "\n",
    "# creating a list with multiple values together\n",
    "marksList = [ 34, 34, 232, 25, 634, True, 34.232, 'ABCD' ]\n",
    "print(marksList)"
   ]
  },
  {
   "cell_type": "code",
   "execution_count": null,
   "id": "de475046-e1f6-4cfc-8729-24f263a5fdcf",
   "metadata": {},
   "outputs": [],
   "source": [
    "# Add the data into the list"
   ]
  },
  {
   "cell_type": "code",
   "execution_count": null,
   "id": "52ac3d32-b7a1-4126-87d4-78a358ab478e",
   "metadata": {},
   "outputs": [],
   "source": [
    "#Variable Naming Case :\n",
    "https://www.freecodecamp.org/news/programming-naming-conventions-explained/"
   ]
  },
  {
   "cell_type": "markdown",
   "id": "2e9166ef-01da-4073-ba87-875707f02c19",
   "metadata": {},
   "source": [
    "# Slicing  string[start:end+1]    => end-start-1= length \n",
    "In python, we can access any portion of the  string   name = \"asdasfa\" , \n",
    "I want to access or assign to another string \"das\""
   ]
  },
  {
   "cell_type": "code",
   "execution_count": 26,
   "id": "506467b3-608d-4d02-872d-8db487f9b108",
   "metadata": {},
   "outputs": [],
   "source": [
    "sentence = \"This is my program.\""
   ]
  },
  {
   "cell_type": "code",
   "execution_count": 27,
   "id": "1877494c-eb62-4940-b295-8ec34825007f",
   "metadata": {},
   "outputs": [],
   "source": [
    "start = 0\n",
    "end = 4"
   ]
  },
  {
   "cell_type": "code",
   "execution_count": 28,
   "id": "a44e4bd5-f972-4d56-b9db-5384502f45a4",
   "metadata": {},
   "outputs": [
    {
     "data": {
      "text/plain": [
       "'This'"
      ]
     },
     "execution_count": 28,
     "metadata": {},
     "output_type": "execute_result"
    }
   ],
   "source": [
    "sentence[start:end]"
   ]
  },
  {
   "cell_type": "code",
   "execution_count": 30,
   "id": "7f155a56-758c-472e-bb32-594a0ca9d548",
   "metadata": {},
   "outputs": [
    {
     "data": {
      "text/plain": [
       "11"
      ]
     },
     "execution_count": 30,
     "metadata": {},
     "output_type": "execute_result"
    }
   ],
   "source": [
    "# find function will return the index of the first time search character found in the string.\n",
    "start = sentence.find('p')\n",
    "start"
   ]
  },
  {
   "cell_type": "code",
   "execution_count": 34,
   "id": "79e7632f-1c05-4b5f-a253-593a8dba952a",
   "metadata": {},
   "outputs": [
    {
     "data": {
      "text/plain": [
       "'prog'"
      ]
     },
     "execution_count": 34,
     "metadata": {},
     "output_type": "execute_result"
    }
   ],
   "source": [
    "#Slicing in the string\n",
    "sentence[start:start+4]"
   ]
  },
  {
   "cell_type": "code",
   "execution_count": 13,
   "id": "5646c614-fc68-461d-8491-e1c51d72c913",
   "metadata": {},
   "outputs": [
    {
     "name": "stdout",
     "output_type": "stream",
     "text": [
      "Help on built-in function find:\n",
      "\n",
      "find(...) method of builtins.str instance\n",
      "    S.find(sub[, start[, end]]) -> int\n",
      "    \n",
      "    Return the lowest index in S where substring sub is found,\n",
      "    such that sub is contained within S[start:end].  Optional\n",
      "    arguments start and end are interpreted as in slice notation.\n",
      "    \n",
      "    Return -1 on failure.\n",
      "\n"
     ]
    }
   ],
   "source": [
    "help(sentence.find)"
   ]
  },
  {
   "cell_type": "code",
   "execution_count": 10,
   "id": "f7b69b66-5955-4254-9673-9df68d4561d6",
   "metadata": {},
   "outputs": [
    {
     "data": {
      "text/plain": [
       "'prog'"
      ]
     },
     "execution_count": 10,
     "metadata": {},
     "output_type": "execute_result"
    }
   ],
   "source": [
    "sentence[sentence.find('p'): sentence.find('p')+4 ]"
   ]
  },
  {
   "cell_type": "code",
   "execution_count": 35,
   "id": "2741a4b0-8075-4658-854c-2d2784b80e2c",
   "metadata": {},
   "outputs": [],
   "source": [
    "paragraph = \"\"\" The strategy, as implemented here, does a few things differently from the one described in the post above. For one, it's intended to be used to augment a typical index-fund based portfolio with specific asset allocations. For example, you might want to use a 60/40 portfolio with SPY (S&P500 fund) and TLT (20 year treasury fund). This strategy reduces risk, but may also limit gains from big market swings. By reducing risk, one can increase leverage.\n",
    "\n",
    "The main difference between ThetaGang and simply buying and holding index funds is that this script will attempt to harvest volatility by selling options, rather than buying shares directly. This works because implied volatility is typically higher than realized volatility on average. Instead of buying shares, you write puts. This has pros and cons, which are outside the scope of this README.\n",
    "\n",
    "You could use this tool on individual stocks, but I personally don't recommend it because I am not smart enough to understand which stocks to buy. That's why I just buy index funds.\n",
    "\n",
    "ThetaGang will try to acquire your desired allocation of each stock or ETF according to the weights you specify in the config. To acquire the positions, the script will write puts when conditions are met (config parameters, adequate buying power, acceptable contracts are available, enough shares needed, etc).\n",
    "\n",
    "ThetaGang will continue to roll any open option positions indefinitely, with the only exception being ITM puts (although this is configurable). Once puts are in the money, they will be ignored until they expire and are exercised (after which you will own the underlying). When rolling puts, the strike of the new contracts are capped at the old strike plus the premium received (to prevent your account from blowing due to over-ratcheting up the buying power usage).\"\"\"\n"
   ]
  },
  {
   "cell_type": "code",
   "execution_count": 16,
   "id": "ad5955b4-9be5-4236-a2e2-5ed2119a6992",
   "metadata": {},
   "outputs": [
    {
     "data": {
      "text/plain": [
       "\"The strategy, as implemented here, does a few things differently from the one described in the post above. For one, it's intended to be used to augment a typical index-fund based portfolio with specific asset allocations. For example, you might want to use a 60/40 portfolio with SPY (S&P500 fund) and TLT (20 year treasury fund). This strategy reduces risk, but may also limit gains from big market swings. By reducing risk, one can increase leverage.\\n\\nThe main difference between ThetaGang and simply buying and holding index funds is that this script will attempt to harvest volatility by selling options, rather than buying shares directly. This works because implied volatility is typically higher than realized volatility on average. Instead of buying shares, you write puts. This has pros and cons, which are outside the scope of this README.\\n\\nYou could use this tool on individual stocks, but I personally don't recommend it because I am not smart enough to understand which stocks to buy. That's why I just buy index funds.\\n\\nThetaGang will try to acquire your desired allocation of each stock or ETF according to the weights you specify in the config. To acquire the positions, the script will write puts when conditions are met (config parameters, adequate buying power, acceptable contracts are available, enough shares needed, etc).\\n\\nThetaGang will continue to roll any open option positions indefinitely, with the only exception being ITM puts (although this is configurable). Once puts are in the money, they will be ignored until they expire and are exercised (after which you will own the underlying). When rolling puts, the strike of the new contracts are capped at the old strike plus the premium received (to prevent your account from blowing due to over-ratcheting up the buying power usage).\""
      ]
     },
     "execution_count": 16,
     "metadata": {},
     "output_type": "execute_result"
    }
   ],
   "source": [
    "paragraph"
   ]
  },
  {
   "cell_type": "code",
   "execution_count": 18,
   "id": "a8b1235a-aa07-4102-85f5-82f1067df2e2",
   "metadata": {},
   "outputs": [
    {
     "data": {
      "text/plain": [
       "331"
      ]
     },
     "execution_count": 18,
     "metadata": {},
     "output_type": "execute_result"
    }
   ],
   "source": [
    "paragraph.find('This')"
   ]
  },
  {
   "cell_type": "code",
   "execution_count": null,
   "id": "02ff718b-76e7-454a-9daf-96f7096eb972",
   "metadata": {},
   "outputs": [],
   "source": []
  }
 ],
 "metadata": {
  "kernelspec": {
   "display_name": "Python 3 (ipykernel)",
   "language": "python",
   "name": "python3"
  },
  "language_info": {
   "codemirror_mode": {
    "name": "ipython",
    "version": 3
   },
   "file_extension": ".py",
   "mimetype": "text/x-python",
   "name": "python",
   "nbconvert_exporter": "python",
   "pygments_lexer": "ipython3",
   "version": "3.10.12"
  }
 },
 "nbformat": 4,
 "nbformat_minor": 5
}
