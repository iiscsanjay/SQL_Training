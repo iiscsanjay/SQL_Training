{
 "cells": [
  {
   "cell_type": "markdown",
   "id": "081ecace-6e16-4e94-9382-c70207dc98ab",
   "metadata": {},
   "source": [
    "### List Comprehension"
   ]
  },
  {
   "cell_type": "code",
   "execution_count": 1,
   "id": "40245223-34e5-4687-8951-33a6d33c6e5a",
   "metadata": {},
   "outputs": [
    {
     "name": "stdout",
     "output_type": "stream",
     "text": [
      "[1, 2, 3, 4, 5, 6, 7, 8, 9, 10, 11, 12, 13, 14, 15, 16, 17, 18, 19, 20, 21, 22, 23, 24, 25, 26, 27, 28, 29, 30, 31, 32, 33, 34, 35, 36, 37, 38, 39, 40, 41, 42, 43, 44, 45, 46, 47, 48, 49, 50, 51, 52, 53, 54, 55, 56, 57, 58, 59, 60, 61, 62, 63, 64, 65, 66, 67, 68, 69, 70, 71, 72, 73, 74, 75, 76, 77, 78, 79, 80, 81, 82, 83, 84, 85, 86, 87, 88, 89, 90, 91, 92, 93, 94, 95, 96, 97, 98, 99, 100]\n"
     ]
    }
   ],
   "source": [
    "nlist = []\n",
    "for i in range(1,101):\n",
    "    nlist.append(i)\n",
    "print(nlist)"
   ]
  },
  {
   "cell_type": "code",
   "execution_count": 2,
   "id": "1ca9f954-d124-4c07-8b43-b1b679b29c69",
   "metadata": {},
   "outputs": [
    {
     "name": "stdout",
     "output_type": "stream",
     "text": [
      "[1, 2, 3, 4, 5, 6, 7, 8, 9, 10, 11, 12, 13, 14, 15, 16, 17, 18, 19, 20, 21, 22, 23, 24, 25, 26, 27, 28, 29, 30, 31, 32, 33, 34, 35, 36, 37, 38, 39, 40, 41, 42, 43, 44, 45, 46, 47, 48, 49, 50, 51, 52, 53, 54, 55, 56, 57, 58, 59, 60, 61, 62, 63, 64, 65, 66, 67, 68, 69, 70, 71, 72, 73, 74, 75, 76, 77, 78, 79, 80, 81, 82, 83, 84, 85, 86, 87, 88, 89, 90, 91, 92, 93, 94, 95, 96, 97, 98, 99, 100]\n"
     ]
    }
   ],
   "source": [
    "i = 1\n",
    "newList = []\n",
    "while i != 101:\n",
    "    newList.append(i)\n",
    "    i += 1\n",
    "print(newList)"
   ]
  },
  {
   "cell_type": "code",
   "execution_count": 3,
   "id": "b47f2da1-003b-45f4-a941-a563ce970d70",
   "metadata": {},
   "outputs": [
    {
     "name": "stdout",
     "output_type": "stream",
     "text": [
      "[1, 2, 3, 4, 5, 6, 7, 8, 9, 10, 11, 12, 13, 14, 15, 16, 17, 18, 19, 20, 21, 22, 23, 24, 25, 26, 27, 28, 29, 30, 31, 32, 33, 34, 35, 36, 37, 38, 39, 40, 41, 42, 43, 44, 45, 46, 47, 48, 49, 50, 51, 52, 53, 54, 55, 56, 57, 58, 59, 60, 61, 62, 63, 64, 65, 66, 67, 68, 69, 70, 71, 72, 73, 74, 75, 76, 77, 78, 79, 80, 81, 82, 83, 84, 85, 86, 87, 88, 89, 90, 91, 92, 93, 94, 95, 96, 97, 98, 99, 100]\n"
     ]
    }
   ],
   "source": [
    "# Printing all numbers from 1 to 1001 : Simple For loop\n",
    "L = [ i for i in range(1,101) ]\n",
    "print(L)"
   ]
  },
  {
   "cell_type": "code",
   "execution_count": 4,
   "id": "83977e76-f121-40b0-8160-1441e4d81ea3",
   "metadata": {},
   "outputs": [
    {
     "name": "stdout",
     "output_type": "stream",
     "text": [
      "[2, 4, 6, 8, 10, 12, 14, 16, 18, 20, 22, 24, 26, 28, 30, 32, 34, 36, 38, 40, 42, 44, 46, 48, 50, 52, 54, 56, 58, 60, 62, 64, 66, 68, 70, 72, 74, 76, 78, 80, 82, 84, 86, 88, 90, 92, 94, 96, 98, 100, 102, 104, 106, 108, 110, 112, 114, 116, 118, 120, 122, 124, 126, 128, 130, 132, 134, 136, 138, 140, 142, 144, 146, 148, 150, 152, 154, 156, 158, 160, 162, 164, 166, 168, 170, 172, 174, 176, 178, 180, 182, 184, 186, 188, 190, 192, 194, 196, 198]\n"
     ]
    }
   ],
   "source": [
    "# Printing even number from 1 to 200 : For loop with if clause\n",
    "L = [ i for i in range(1,200) if i % 2 == 0]\n",
    "print(L)"
   ]
  },
  {
   "cell_type": "code",
   "execution_count": 5,
   "id": "7a8292c2-434b-43f6-bd2f-1366ee2b3adf",
   "metadata": {},
   "outputs": [
    {
     "name": "stdout",
     "output_type": "stream",
     "text": [
      "[2, 2, 6, 4, 10, 6, 14, 8, 18, 10, 22, 12, 26, 14, 30, 16, 34, 18, 38, 20, 42, 22, 46, 24, 50, 26, 54, 28, 58, 30, 62, 32, 66, 34, 70, 36, 74, 38, 78, 40, 82, 42, 86, 44, 90, 46, 94, 48, 98, 50, 102, 52, 106, 54, 110, 56, 114, 58, 118, 60, 122, 62, 126, 64, 130, 66, 134, 68, 138, 70, 142, 72, 146, 74, 150, 76, 154, 78, 158, 80, 162, 82, 166, 84, 170, 86, 174, 88, 178, 90, 182, 92, 186, 94, 190, 96, 194, 98, 198, 100]\n"
     ]
    }
   ],
   "source": [
    "# Printing even number from 1 to 200 : For loop with if clause and else clause\n",
    "L = [ i  if i%2 == 0  else i*2 for i in range(1,101)]\n",
    "print(L)"
   ]
  },
  {
   "cell_type": "code",
   "execution_count": 6,
   "id": "257a1969-bd2d-46e2-9ff4-20a3e2333da4",
   "metadata": {},
   "outputs": [
    {
     "name": "stdout",
     "output_type": "stream",
     "text": [
      "[(1, 0), (1, 2), (3, 0), (3, 2)]\n"
     ]
    }
   ],
   "source": [
    "# Generating a tuple even number from 1 to 200 # two for loop\n",
    "values = [(x,y) for x in range(5) for y in range(3)  if x%2 != 0 and y%2 != 1 ]\n",
    "print(values)"
   ]
  },
  {
   "cell_type": "code",
   "execution_count": 7,
   "id": "f02df73e-8040-486a-bfd8-8c3f0540a14d",
   "metadata": {},
   "outputs": [
    {
     "name": "stdout",
     "output_type": "stream",
     "text": [
      "[[], [0], [0, 3], [0, 3, 6], [0, 3, 6, 9], [0, 3, 6, 9, 12], [0, 3, 6, 9, 12, 15], [0, 3, 6, 9, 12, 15, 18], [0, 3, 6, 9, 12, 15, 18, 21], [0, 3, 6, 9, 12, 15, 18, 21, 24]]\n"
     ]
    }
   ],
   "source": [
    "# Nested List Comprehension\n",
    "values = [[y*3 for y in range(x)] for x in range(10)]\n",
    "print(values)"
   ]
  },
  {
   "cell_type": "markdown",
   "id": "57a73fdc-7262-4b6e-b85a-c8c4fe57406f",
   "metadata": {},
   "source": [
    "### Extended Keywords : *args, **kwargs"
   ]
  },
  {
   "cell_type": "code",
   "execution_count": 8,
   "id": "babb3a97-379f-4328-86eb-29765c4ecccd",
   "metadata": {},
   "outputs": [],
   "source": [
    "def f1(*args, **kwargs):\n",
    "    \n",
    "    # tuple entry for all the arguments in the functions\n",
    "    for arg in args:\n",
    "        print(arg)\n",
    "    \n",
    "    # dictionary entry for all the key=value pairs in the arguments key should be string (limitation)\n",
    "    for key,value in kwargs.items():\n",
    "        print(key,value)"
   ]
  },
  {
   "cell_type": "code",
   "execution_count": 9,
   "id": "cf185612-8c8b-4b62-9665-10f018837398",
   "metadata": {},
   "outputs": [
    {
     "name": "stdout",
     "output_type": "stream",
     "text": [
      "1\n",
      "4\n",
      "7\n",
      "2\n",
      "45\n",
      "45\n",
      "45\n",
      "4\n",
      "54\n",
      "54\n",
      "545\n",
      "ABC 45\n",
      "TWS 23\n",
      "WEWE 45\n"
     ]
    }
   ],
   "source": [
    "f1(1,4,7,2,45,45,45,4,54,54,545,ABC=45,TWS=23,WEWE=45)"
   ]
  },
  {
   "cell_type": "markdown",
   "id": "0a73e13b-3c84-4864-9835-acd83a298f33",
   "metadata": {},
   "source": [
    "### Map\n",
    "    - Map function apply iteratable object on to the function in which it is passed and return map reference object.\n",
    "    - two arguments : Function Name, Tuple of Iteratable\n",
    "    - map(function,iteratable)\n",
    "    - iteratable object are in pythons : List(order), Tuple(order), String(order), sets (unorderd)\n",
    "    "
   ]
  },
  {
   "cell_type": "code",
   "execution_count": 10,
   "id": "bc1b8887-8c2c-41d9-a764-bc97c7344183",
   "metadata": {},
   "outputs": [],
   "source": [
    "def compute(n): \n",
    "    return 4*n + 20 "
   ]
  },
  {
   "cell_type": "code",
   "execution_count": 11,
   "id": "b3b91957-9359-4dc3-98df-931d05ddee30",
   "metadata": {},
   "outputs": [
    {
     "name": "stdout",
     "output_type": "stream",
     "text": [
      "[24, 28, 32, 36, 40, 44, 48, 52]\n"
     ]
    }
   ],
   "source": [
    "l = [1,2,3,4,5,6,7,8]\n",
    "result = map(compute,l)\n",
    "\n",
    "    \n",
    "# First way access Map object\n",
    "print(list(result))\n",
    "\n",
    "# second methods to access Map object values\n",
    "#for value in result:\n",
    "#    print(\"s\",value)"
   ]
  },
  {
   "cell_type": "code",
   "execution_count": 12,
   "id": "d14aa3e7-19fa-4dbe-9ab2-9836d9813839",
   "metadata": {},
   "outputs": [
    {
     "name": "stdout",
     "output_type": "stream",
     "text": [
      "[2, 4, 6, 8]\n"
     ]
    }
   ],
   "source": [
    "# Double all numbers using map and lambda   \n",
    "numbers = (1, 2, 3, 4) \n",
    "result = map(lambda x: x + x, numbers) \n",
    "print(list(result)) "
   ]
  },
  {
   "cell_type": "code",
   "execution_count": 13,
   "id": "882c7a3b-4eab-41dd-ae91-6c5ff426553c",
   "metadata": {},
   "outputs": [
    {
     "name": "stdout",
     "output_type": "stream",
     "text": [
      "[5, 7, 9]\n"
     ]
    }
   ],
   "source": [
    "# Add two lists using map and lambda \n",
    "  \n",
    "numbers1 = [1, 2, 3] \n",
    "numbers2 = [4, 5, 6] \n",
    "  \n",
    "result = map(lambda x, y: x + y, numbers1, numbers2) \n",
    "print(list(result)) "
   ]
  },
  {
   "cell_type": "code",
   "execution_count": 14,
   "id": "0736979a-e5e0-41ad-9542-348d0fe7a606",
   "metadata": {},
   "outputs": [
    {
     "name": "stdout",
     "output_type": "stream",
     "text": [
      "[['s', 'a', 't'], ['b', 'a', 't'], ['c', 'a', 't'], ['m', 'a', 't']]\n"
     ]
    }
   ],
   "source": [
    "# List of strings \n",
    "l = ['sat', 'bat', 'cat', 'mat'] \n",
    "  \n",
    "# map() can listify the list of strings individually \n",
    "test = list(map(list, l)) \n",
    "print(test) "
   ]
  },
  {
   "cell_type": "code",
   "execution_count": 15,
   "id": "dbfb96b2-63e5-42de-925d-850ea54e1594",
   "metadata": {},
   "outputs": [
    {
     "data": {
      "text/plain": [
       "['s', 'a', 't']"
      ]
     },
     "execution_count": 15,
     "metadata": {},
     "output_type": "execute_result"
    }
   ],
   "source": [
    "list('sat')"
   ]
  },
  {
   "cell_type": "code",
   "execution_count": 16,
   "id": "7b94e88d-3ee5-40b7-936c-2501a55b28fa",
   "metadata": {},
   "outputs": [],
   "source": [
    "#help(map)"
   ]
  },
  {
   "cell_type": "markdown",
   "id": "f1534935-c1cf-451e-96d5-3c765c8c6794",
   "metadata": {},
   "source": [
    "### Filter function"
   ]
  },
  {
   "cell_type": "code",
   "execution_count": 17,
   "id": "50545219-7993-4962-a5e4-fb3d2c08f8e9",
   "metadata": {},
   "outputs": [
    {
     "ename": "SyntaxError",
     "evalue": "invalid syntax (2884163082.py, line 2)",
     "output_type": "error",
     "traceback": [
      "\u001b[0;36m  Cell \u001b[0;32mIn[17], line 2\u001b[0;36m\u001b[0m\n\u001b[0;31m    Filter function take two arguments :\u001b[0m\n\u001b[0m           ^\u001b[0m\n\u001b[0;31mSyntaxError\u001b[0m\u001b[0;31m:\u001b[0m invalid syntax\n"
     ]
    }
   ],
   "source": [
    "#help(filter)\n",
    "Filter function take two arguments :\n",
    "    - Function : This function should be boolean function (should return True or False).\n",
    "    - Iteratable :"
   ]
  },
  {
   "cell_type": "code",
   "execution_count": null,
   "id": "8fc3940b-9e1b-4e7d-adfe-7d109d9a8b7d",
   "metadata": {},
   "outputs": [],
   "source": [
    "# function that filters vowels\n",
    "def fun(variable):\n",
    "    letters = ['a', 'e', 'i', 'o', 'u']\n",
    "    if (variable in letters):\n",
    "        return True\n",
    "    else:\n",
    "        return False\n",
    " \n",
    " \n",
    "# sequence\n",
    "sequence = ['g', 'e', 'e', 'j', 'k', 's', 'p', 'r']\n",
    " \n",
    "# using filter function\n",
    "filtered = filter(fun, sequence)\n",
    "print(list(filtered))"
   ]
  },
  {
   "cell_type": "code",
   "execution_count": null,
   "id": "2188ae02-b639-4c87-a8b2-6fa3e0a427ee",
   "metadata": {},
   "outputs": [],
   "source": [
    "# a list contains both even and odd numbers. \n",
    "seq = [0, 1, 2, 3, 5, 8, 13]\n",
    " \n",
    "# result contains odd numbers of the list\n",
    "result = filter(lambda x: x % 2 != 0, seq)\n",
    "print(list(result))\n",
    " \n",
    "# result contains even numbers of the list\n",
    "result = filter(lambda x: x % 2 == 0, seq)\n",
    "print(list(result))"
   ]
  },
  {
   "cell_type": "code",
   "execution_count": null,
   "id": "86621fd9-0725-4ce7-b49e-39a9d4a6f585",
   "metadata": {},
   "outputs": [],
   "source": [
    "# Define a function to check \n",
    "# if a number is a multiple of 3\n",
    "def is_multiple_of_3(num):\n",
    "    return num % 3 == 0\n",
    " \n",
    " \n",
    "# Create a list of numbers to filter\n",
    "numbers = [1, 2, 3, 4, 5, 6, 7, 8, 9, 10]\n",
    " \n",
    "# Use filter and a lambda function to\n",
    "# filter the list of numbers and only\n",
    "# keep the ones that are multiples of 3\n",
    "result = list(filter(lambda x: is_multiple_of_3(x), numbers))\n",
    " \n",
    "# Print the result\n",
    "print(result)"
   ]
  },
  {
   "cell_type": "code",
   "execution_count": null,
   "id": "4ce80ef1-4446-41b6-b2d2-659abc08cb7d",
   "metadata": {},
   "outputs": [],
   "source": [
    "# Define a function to check \n",
    "# if a number is a multiple of 3\n",
    "def is_multiple_of_3(num):\n",
    "    return num % 3 == 0\n",
    " \n",
    " \n",
    "# Create a list of numbers to filter\n",
    "numbers = [1, 2, 3, 4, 5, 6, 7, 8, 9, 10]\n",
    " \n",
    "# Use filter and a lambda function to\n",
    "# filter the list of numbers and only\n",
    "# keep the ones that are multiples of 3\n",
    "result = list(filter(is_multiple_of_3, numbers))\n",
    " \n",
    "# Print the result\n",
    "print(result)"
   ]
  },
  {
   "cell_type": "markdown",
   "id": "bb335d38-f39f-4bb4-9ca7-5b143a1addc7",
   "metadata": {},
   "source": [
    "### Reduce function"
   ]
  },
  {
   "cell_type": "code",
   "execution_count": null,
   "id": "bc3d901a-ed14-41a0-bfc6-24bb0c94fbf6",
   "metadata": {},
   "outputs": [],
   "source": [
    "# importing functools for reduce() \n",
    "from functools  import reduce\n",
    "help(reduce)"
   ]
  },
  {
   "cell_type": "code",
   "execution_count": null,
   "id": "645dfd8b-945d-447a-8553-4aebe6d5e658",
   "metadata": {},
   "outputs": [],
   "source": [
    "# initializing list \n",
    "lis = [1, 3, 5, 6, 2] \n",
    "  \n",
    "# using reduce to compute sum of list \n",
    "print(\"The sum of the list elements is : \", end=\"\") \n",
    "print(reduce(lambda a, b: a+b, lis)) \n",
    "  \n",
    "# using reduce to compute maximum element from list \n",
    "print(\"The maximum element of the list is : \", end=\"\") \n",
    "print(functools.reduce(lambda a, b: a if a > b else b, lis)) "
   ]
  },
  {
   "cell_type": "code",
   "execution_count": null,
   "id": "fe1bf437-0694-4c20-8019-43d69ba2c16b",
   "metadata": {},
   "outputs": [],
   "source": [
    "#import operator\n",
    "#help(operator)"
   ]
  },
  {
   "cell_type": "code",
   "execution_count": null,
   "id": "ae1d682c-30c3-4a13-b25e-a525d97379f5",
   "metadata": {},
   "outputs": [],
   "source": [
    "# python code to demonstrate summation \n",
    "# using reduce() and accumulate() \n",
    "  \n",
    "# importing itertools for accumulate() \n",
    "import itertools \n",
    "  \n",
    "# importing functools for reduce() \n",
    "import functools \n",
    "  \n",
    "# initializing list \n",
    "lis = [1, 3, 4, 10, 4] \n",
    "  \n",
    "# printing summation using accumulate() \n",
    "print(\"The summation of list using accumulate is :\", end=\"\") \n",
    "print(list(itertools.accumulate(lis, lambda x, y: x+y))) \n",
    "  \n",
    "# printing summation using reduce() \n",
    "print(\"The summation of list using reduce is :\", end=\"\") \n",
    "print(functools.reduce(lambda x, y: x+y, lis)) "
   ]
  },
  {
   "cell_type": "markdown",
   "id": "b7409432-9f3f-4746-bc1b-7b9ea80e760e",
   "metadata": {},
   "source": [
    "### Closure and Decorators"
   ]
  },
  {
   "cell_type": "code",
   "execution_count": null,
   "id": "1b3bd723-2c63-433e-a491-ebad29326419",
   "metadata": {},
   "outputs": [],
   "source": [
    "# Local Function\n",
    "def func():  \n",
    "    # helper local function\n",
    "    def multiplyby10(v): \n",
    "        return v * 10\n",
    "    x = 1  \n",
    "    y = 2  \n",
    "    return multiplyby10(x+y)"
   ]
  },
  {
   "cell_type": "code",
   "execution_count": null,
   "id": "cdaf4ca6-8ee4-4eea-90b3-70f4fc9ebf6f",
   "metadata": {},
   "outputs": [],
   "source": [
    "# Write a function which can return a function\n",
    "def outer():  \n",
    "    def inner():  \n",
    "        print('inner')  \n",
    "    return inner  "
   ]
  },
  {
   "cell_type": "code",
   "execution_count": null,
   "id": "e462f91f-62b7-4642-b23d-c76aa86d9e33",
   "metadata": {},
   "outputs": [],
   "source": [
    "# assinging the function into a variable fun1\n",
    "fun1 = outer()\n",
    "\n",
    "#calling the function\n",
    "fun1()"
   ]
  },
  {
   "cell_type": "code",
   "execution_count": null,
   "id": "b29704b2-08c6-48ef-8e20-47d5e6793308",
   "metadata": {},
   "outputs": [],
   "source": [
    "# Clousure : keeps the reference of outer function variable and using it\n",
    "def outer_function(x):  \n",
    "    def inner_function(y):  \n",
    "        return x+y  \n",
    "    return inner_function  "
   ]
  },
  {
   "cell_type": "code",
   "execution_count": null,
   "id": "05f6c971-6132-4a9b-8cfe-2e32579bc96a",
   "metadata": {},
   "outputs": [],
   "source": [
    "add_plus= outer_function(30)  \n",
    "add_plus(20)  "
   ]
  },
  {
   "cell_type": "markdown",
   "id": "0c1f3a6b-0d21-443e-a32a-cc42e196e67f",
   "metadata": {},
   "source": [
    "### Decorators"
   ]
  },
  {
   "cell_type": "markdown",
   "id": "427bc31e-d78d-4878-8a61-fc234cd2bb9f",
   "metadata": {},
   "source": [
    "### Generators"
   ]
  },
  {
   "cell_type": "code",
   "execution_count": null,
   "id": "db0b949c-e113-4d0f-bcb1-c84118aec521",
   "metadata": {},
   "outputs": [],
   "source": [
    "def f1(iteratable1):\n",
    "    print(iteratable1)"
   ]
  },
  {
   "cell_type": "code",
   "execution_count": null,
   "id": "018d9f9b-ada7-439d-a42c-1d1491681eb9",
   "metadata": {},
   "outputs": [],
   "source": [
    "l = [1,2,3,4,5,6]\n",
    "f1(l)"
   ]
  },
  {
   "cell_type": "code",
   "execution_count": null,
   "id": "9b227290-3980-4e26-83b3-819d2abc3c96",
   "metadata": {},
   "outputs": [],
   "source": [
    "# Generator : Iterate the object and return one element at a time\n",
    "def f2(iteratable2):\n",
    "    for element in iteratable2:\n",
    "        yield element"
   ]
  },
  {
   "cell_type": "code",
   "execution_count": null,
   "id": "a0897ed5-ab38-4d80-a59e-96d419544660",
   "metadata": {},
   "outputs": [],
   "source": [
    "value = f2(l)"
   ]
  },
  {
   "cell_type": "code",
   "execution_count": null,
   "id": "813c7da2-6946-43dc-8985-58d09116b81d",
   "metadata": {},
   "outputs": [],
   "source": [
    "next(value)"
   ]
  },
  {
   "cell_type": "code",
   "execution_count": null,
   "id": "4d3e6dbb-8a83-40e6-9ab9-e9315962ce5b",
   "metadata": {},
   "outputs": [],
   "source": [
    "# Example of Generator\n",
    "def countdown(n):\n",
    "    while n > 0:\n",
    "        yield n\n",
    "        n -= 1\n",
    "\n",
    "for number in countdown(5):\n",
    "    print(number)"
   ]
  },
  {
   "cell_type": "code",
   "execution_count": null,
   "id": "ea82d896-b33b-4ce5-8410-d803900d45dd",
   "metadata": {},
   "outputs": [],
   "source": [
    "from collections import defaultdict  \n",
    "     \n",
    "     \n",
    "# Defining the dict  \n",
    "d = defaultdict(int)  \n",
    "     \n",
    "L = [1, 2, 3, 4, 2, 4, 1, 2]  \n",
    "     \n",
    "# Iterate through the list  \n",
    "# for keeping the count  \n",
    "for i in L:  \n",
    "         \n",
    "    # The default value is 0  \n",
    "    # so there is no need to   \n",
    "    # enter the key first  \n",
    "    d[i] += 1\n",
    "         \n",
    "print(d)"
   ]
  },
  {
   "cell_type": "code",
   "execution_count": null,
   "id": "b91cf08c-5b27-40c2-898c-257388267725",
   "metadata": {},
   "outputs": [],
   "source": [
    "a = 34\n",
    "b = 54\n",
    "a + b"
   ]
  },
  {
   "cell_type": "code",
   "execution_count": null,
   "id": "00d2f0cd-8b04-47ea-b73b-97037c97a4d1",
   "metadata": {},
   "outputs": [],
   "source": [
    "a = \"ASDSA\"\n",
    "b = \"ASDASD\"\n",
    "a + b"
   ]
  },
  {
   "cell_type": "code",
   "execution_count": 28,
   "id": "0f24f5e3-1efe-4b4b-adec-07792650ac88",
   "metadata": {},
   "outputs": [],
   "source": [
    "# Example for Operator Overloading\n",
    "class Complex:\n",
    "    def __init__(self,real,imagenary):\n",
    "        self.real = real\n",
    "        self.imagenary = imagenary      \n",
    "\n",
    "    # We can write only one functionality with + operator (C3 = C1 + C2 ) or C1 + C2\n",
    "    def __add__(self, obj2):\n",
    "        x = self.real + obj2.real\n",
    "        y = self.imagenary + obj2.imagenary\n",
    "        return Complex(x,y)\n",
    "\n",
    "    def __mul__(self,obj2):\n",
    "        #Compute Real * real\n",
    "        x = self.real * obj2.real - self.imagenary * obj2.imagenary\n",
    "        y = self.real * obj2.imagenary + self.imagenary * obj2.real\n",
    "        return Complex(x,y)\n",
    "        \n",
    "    def print(self):\n",
    "        print(f'Complex : {self.real} + i * {self.imagenary}')   "
   ]
  },
  {
   "cell_type": "code",
   "execution_count": 29,
   "id": "3e07ffd0-f417-4f7c-b050-8b5796d5b109",
   "metadata": {},
   "outputs": [],
   "source": [
    "c1 = Complex(5,4)\n",
    "c2 = Complex(6,10)"
   ]
  },
  {
   "cell_type": "code",
   "execution_count": 31,
   "id": "20ccf5ed-b810-4905-aaad-9814959cf267",
   "metadata": {},
   "outputs": [
    {
     "name": "stdout",
     "output_type": "stream",
     "text": [
      "Before Addition\n",
      "Complex : 5 + i * 4\n",
      "Complex : 6 + i * 10\n",
      "After Addition\n",
      "Complex : 5 + i * 4\n",
      "Complex : 6 + i * 10\n",
      "Result\n",
      "Complex : 11 + i * 14\n",
      "Complex : -10 + i * 74\n"
     ]
    }
   ],
   "source": [
    "print(\"Before Addition\")\n",
    "c1.print()\n",
    "c2.print()\n",
    "c3 = c1 + c2\n",
    "c4 = c1 * c2\n",
    "print(\"After Addition\")\n",
    "c1.print()\n",
    "c2.print()\n",
    "print(\"Result\")\n",
    "c3.print()\n",
    "c4.print()"
   ]
  },
  {
   "cell_type": "code",
   "execution_count": null,
   "id": "105eba2c-fc43-45be-a03f-6694868c1e37",
   "metadata": {},
   "outputs": [],
   "source": []
  }
 ],
 "metadata": {
  "kernelspec": {
   "display_name": "Python 3 (ipykernel)",
   "language": "python",
   "name": "python3"
  },
  "language_info": {
   "codemirror_mode": {
    "name": "ipython",
    "version": 3
   },
   "file_extension": ".py",
   "mimetype": "text/x-python",
   "name": "python",
   "nbconvert_exporter": "python",
   "pygments_lexer": "ipython3",
   "version": "3.10.12"
  }
 },
 "nbformat": 4,
 "nbformat_minor": 5
}
