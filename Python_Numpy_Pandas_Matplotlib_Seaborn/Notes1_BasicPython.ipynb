{
 "cells": [
  {
   "cell_type": "markdown",
   "id": "8d2310ac-e1d9-46c5-b320-61da45752e36",
   "metadata": {},
   "source": [
    "### 1. Commenting : Single or Multiple Lines Commenets"
   ]
  },
  {
   "cell_type": "code",
   "execution_count": 2,
   "id": "dc16efd0-9647-4821-a27d-8acc42c31b58",
   "metadata": {},
   "outputs": [],
   "source": [
    "# Declare a variable for future processing\n",
    "weight = 85"
   ]
  },
  {
   "cell_type": "code",
   "execution_count": null,
   "id": "2dc2abbe-8232-4962-9d2f-ae1acdc34f8a",
   "metadata": {},
   "outputs": [],
   "source": [
    "In python, string can be defined with single quotes or dobule quotes."
   ]
  },
  {
   "cell_type": "code",
   "execution_count": 2,
   "id": "098e775d-4992-4495-8be3-bcd91bbad37d",
   "metadata": {},
   "outputs": [
    {
     "data": {
      "text/plain": [
       "'\\nThis is my first python code in which,\\nI will to display table of number 2.\\n    Input : None\\n    Ouput : None\\n'"
      ]
     },
     "execution_count": 2,
     "metadata": {},
     "output_type": "execute_result"
    }
   ],
   "source": [
    "\"\"\"\n",
    "This is my first python code in which,\n",
    "I will to display table of number 2.\n",
    "    Input : None\n",
    "    Ouput : None\n",
    "\"\"\""
   ]
  },
  {
   "cell_type": "code",
   "execution_count": 3,
   "id": "240d01c3-0ffd-4613-a727-1c21a17a63f4",
   "metadata": {},
   "outputs": [
    {
     "data": {
      "text/plain": [
       "'\\nThis is my first python code in which,\\nI will to display table of number 2.\\n    Input : None\\n    Ouput : None\\n'"
      ]
     },
     "execution_count": 3,
     "metadata": {},
     "output_type": "execute_result"
    }
   ],
   "source": [
    "'''\n",
    "This is my first python code in which,\n",
    "I will to display table of number 2.\n",
    "    Input : None\n",
    "    Ouput : None\n",
    "'''"
   ]
  },
  {
   "cell_type": "code",
   "execution_count": null,
   "id": "d2ac1966-74ea-45dd-ac40-8e10781fe0b6",
   "metadata": {},
   "outputs": [],
   "source": [
    "question = \"What's your name ?\""
   ]
  },
  {
   "cell_type": "markdown",
   "id": "55ede3a6-20b8-4f1a-be9b-2d1570eac142",
   "metadata": {},
   "source": [
    "### 2. Declare a Variable in languages : (numbers or strings are immutatables)"
   ]
  },
  {
   "cell_type": "code",
   "execution_count": 19,
   "id": "40e24d21-8452-47c0-bdf0-8d740f2bc8c8",
   "metadata": {},
   "outputs": [
    {
     "name": "stdout",
     "output_type": "stream",
     "text": [
      "<class 'int'>\n"
     ]
    }
   ],
   "source": [
    "# Declare a integer variable (whole numbers -inf to +inf)\n",
    "# In python : integer C, C++ (integer, long, long long) \n",
    "# Integer range: 32 bit and 64 bit: \n",
    "income = 265\n",
    "print(type(income))"
   ]
  },
  {
   "cell_type": "code",
   "execution_count": 20,
   "id": "6be61b87-4a21-454f-b689-2a0f16951bfc",
   "metadata": {},
   "outputs": [
    {
     "name": "stdout",
     "output_type": "stream",
     "text": [
      "True\n",
      "<class 'bool'>\n"
     ]
    }
   ],
   "source": [
    "# Declare a Boolean variable\n",
    "condition = True\n",
    "flag = False\n",
    "print(condition)\n",
    "print(type(flag))"
   ]
  },
  {
   "cell_type": "code",
   "execution_count": 129,
   "id": "d110273c-d2f8-481f-aef6-28cf449fe356",
   "metadata": {},
   "outputs": [
    {
     "name": "stdout",
     "output_type": "stream",
     "text": [
      "False\n",
      "True\n",
      "True\n"
     ]
    }
   ],
   "source": [
    "# Python bool function is there to define the value as True or False : bool function\n",
    "\"\"\" ANY INTEGER VALUE IS KNOWN AS TRUE EXCEPT 0 False \"\"\"\n",
    "print(bool(0))\n",
    "print(bool(123213))\n",
    "print(bool(-23232))"
   ]
  },
  {
   "cell_type": "code",
   "execution_count": 18,
   "id": "89af3c7b-36ea-459f-a530-4283478e29e7",
   "metadata": {},
   "outputs": [
    {
     "name": "stdout",
     "output_type": "stream",
     "text": [
      "<class 'float'>\n"
     ]
    }
   ],
   "source": [
    "# Declaring price of butter Decimal numbers (Float/Double ...high level)\n",
    "price = 2.56 \n",
    "print(type(price))\n",
    "# when we save the decimal values we need the precision the accuracy in the decimal point\n",
    "# higher the accuracy, require more memory in the computer\n",
    "# float : less precision kind of variable\n",
    "# double : high precision kind of variable\n",
    "# In Python, we have only one variable to save decimal point values (float)"
   ]
  },
  {
   "cell_type": "code",
   "execution_count": null,
   "id": "a9541643-3575-4188-9963-17359cc8ea00",
   "metadata": {},
   "outputs": [],
   "source": [
    "#Escape Sequence character \\ is used for multiple line string declaration or single quotes strings"
   ]
  },
  {
   "cell_type": "code",
   "execution_count": 21,
   "id": "2d1b0606-bbd9-45cf-bda7-b877c83e98ea",
   "metadata": {},
   "outputs": [],
   "source": [
    "#Declaring a string with double quotes or single quotes\n",
    "name = \"ABCDEX\"\n",
    "fname = 'XYZ'\n",
    "age = 122"
   ]
  },
  {
   "cell_type": "code",
   "execution_count": 35,
   "id": "b3fc1f73-65fe-495a-a48e-ba15e34db20e",
   "metadata": {},
   "outputs": [
    {
     "data": {
      "text/plain": [
       "11"
      ]
     },
     "execution_count": 35,
     "metadata": {},
     "output_type": "execute_result"
    }
   ],
   "source": [
    "# Function : len : it will measure the length of string\n",
    "len(\"hello world\")"
   ]
  },
  {
   "cell_type": "code",
   "execution_count": 37,
   "id": "73739c01-6d4b-4606-8c67-a6b180ef25d9",
   "metadata": {},
   "outputs": [
    {
     "data": {
      "text/plain": [
       "str"
      ]
     },
     "execution_count": 37,
     "metadata": {},
     "output_type": "execute_result"
    }
   ],
   "source": [
    "# RAW string are used while doing REGEX (Regular Expression coding ) =>r\n",
    "s1 = r\"This is my program.\"\n",
    "type(s1)"
   ]
  },
  {
   "cell_type": "code",
   "execution_count": 38,
   "id": "877e005f-0931-4c11-a25d-f5936dc221db",
   "metadata": {},
   "outputs": [
    {
     "data": {
      "text/plain": [
       "str"
      ]
     },
     "execution_count": 38,
     "metadata": {},
     "output_type": "execute_result"
    }
   ],
   "source": [
    "# RAW string are used while doing REGEX (Regular Expression coding ) => R\n",
    "s1 = R\"This is my program.\"\n",
    "type(s1)"
   ]
  },
  {
   "cell_type": "code",
   "execution_count": 1,
   "id": "15586961-63a9-404d-9017-4eed79d3f2ac",
   "metadata": {},
   "outputs": [],
   "source": [
    "name = \"asdasfa\"\n",
    "age = 45"
   ]
  },
  {
   "cell_type": "raw",
   "id": "e7b73cd5-ed96-4fb0-a6dc-1e979b459df3",
   "metadata": {},
   "source": [
    "#Explanation : indexing we can access the string\n",
    "asdasfa\n",
    "0123456 "
   ]
  },
  {
   "cell_type": "code",
   "execution_count": 9,
   "id": "9a3b88b0-bd49-471a-af16-656771fe8738",
   "metadata": {},
   "outputs": [
    {
     "data": {
      "text/plain": [
       "'asdasfa'"
      ]
     },
     "execution_count": 9,
     "metadata": {},
     "output_type": "execute_result"
    }
   ],
   "source": [
    "name"
   ]
  },
  {
   "cell_type": "code",
   "execution_count": 3,
   "id": "7f33d280-3128-4f6c-8033-783c70022865",
   "metadata": {},
   "outputs": [
    {
     "data": {
      "text/plain": [
       "'a'"
      ]
     },
     "execution_count": 3,
     "metadata": {},
     "output_type": "execute_result"
    }
   ],
   "source": [
    "name[0]  # C, C++, Java (Immutable)"
   ]
  },
  {
   "cell_type": "code",
   "execution_count": 10,
   "id": "4f7d11ed-c9de-45e8-9d4b-a10b9fbecf8d",
   "metadata": {},
   "outputs": [],
   "source": [
    "#name[start:end]\n",
    "#start and end is the index in the string"
   ]
  },
  {
   "cell_type": "code",
   "execution_count": 5,
   "id": "548a1f3d-273b-4c81-9010-f52380e51872",
   "metadata": {},
   "outputs": [
    {
     "data": {
      "text/plain": [
       "'d'"
      ]
     },
     "execution_count": 5,
     "metadata": {},
     "output_type": "execute_result"
    }
   ],
   "source": [
    "name[2]"
   ]
  },
  {
   "cell_type": "code",
   "execution_count": 6,
   "id": "c2e90612-08ed-4b64-a6c2-e7ed7cf68175",
   "metadata": {},
   "outputs": [
    {
     "data": {
      "text/plain": [
       "'a'"
      ]
     },
     "execution_count": 6,
     "metadata": {},
     "output_type": "execute_result"
    }
   ],
   "source": [
    "name[3]"
   ]
  },
  {
   "cell_type": "code",
   "execution_count": 7,
   "id": "84614466-cbce-454f-b7d1-bb08082a7af1",
   "metadata": {},
   "outputs": [
    {
     "data": {
      "text/plain": [
       "'s'"
      ]
     },
     "execution_count": 7,
     "metadata": {},
     "output_type": "execute_result"
    }
   ],
   "source": [
    "name[4]"
   ]
  },
  {
   "cell_type": "code",
   "execution_count": 31,
   "id": "ee21601a-4cf3-44db-94cb-7c5b2b70b055",
   "metadata": {},
   "outputs": [
    {
     "data": {
      "text/plain": [
       "'f'"
      ]
     },
     "execution_count": 31,
     "metadata": {},
     "output_type": "execute_result"
    }
   ],
   "source": [
    "name[5]"
   ]
  },
  {
   "cell_type": "code",
   "execution_count": 32,
   "id": "e0fbef91-6ece-431a-8aa3-f18ee33735bb",
   "metadata": {},
   "outputs": [
    {
     "data": {
      "text/plain": [
       "'a'"
      ]
     },
     "execution_count": 32,
     "metadata": {},
     "output_type": "execute_result"
    }
   ],
   "source": [
    "name[6]"
   ]
  },
  {
   "cell_type": "code",
   "execution_count": 33,
   "id": "d1f23e2f-8c4f-4d5b-b541-6b323bcdc552",
   "metadata": {},
   "outputs": [
    {
     "ename": "IndexError",
     "evalue": "string index out of range",
     "output_type": "error",
     "traceback": [
      "\u001b[0;31m---------------------------------------------------------------------------\u001b[0m",
      "\u001b[0;31mIndexError\u001b[0m                                Traceback (most recent call last)",
      "Cell \u001b[0;32mIn[33], line 1\u001b[0m\n\u001b[0;32m----> 1\u001b[0m \u001b[43mname\u001b[49m\u001b[43m[\u001b[49m\u001b[38;5;241;43m7\u001b[39;49m\u001b[43m]\u001b[49m\n",
      "\u001b[0;31mIndexError\u001b[0m: string index out of range"
     ]
    }
   ],
   "source": [
    "name[7]"
   ]
  },
  {
   "cell_type": "code",
   "execution_count": 12,
   "id": "b6a57904-e3a4-436f-b121-9cb0f712f114",
   "metadata": {},
   "outputs": [
    {
     "name": "stdout",
     "output_type": "stream",
     "text": [
      "This is my code in python. python is very \n",
      " simple language. Anbyone can learn python \n",
      " in two days\n"
     ]
    }
   ],
   "source": [
    "# Declaring a variable which store multiple line statements  \n",
    "summary = 'This is my code in python. python is very \\n \\\n",
    "simple language. Anbyone can learn python \\n \\\n",
    "in two days'\n",
    "print(summary)"
   ]
  },
  {
   "cell_type": "code",
   "execution_count": 11,
   "id": "27dbb355-2bd4-4f45-91a5-3e07b22cb557",
   "metadata": {},
   "outputs": [
    {
     "name": "stdout",
     "output_type": "stream",
     "text": [
      "This is my code in python. python is very \n",
      " simple language. Anbyone can learn python \n",
      " in two days\n"
     ]
    }
   ],
   "source": [
    "# Declaring a variable which store multiple line statements  \n",
    "summary = \"This is my code in python. python is very \\n \\\n",
    "simple language. Anbyone can learn python \\n \\\n",
    "in two days\"\n",
    "print(summary)"
   ]
  },
  {
   "cell_type": "markdown",
   "id": "9669e44c-71c6-4e97-a756-b120002e003a",
   "metadata": {},
   "source": [
    "# Declaring a variable which store multiple line statements  \n",
    "summary = \"This is my code in python. python is very \\n \\\n",
    "simple language. Anbyone can learn python \\n \\\n",
    "in two days\"\n",
    "print(summary)"
   ]
  },
  {
   "cell_type": "code",
   "execution_count": 40,
   "id": "fed5a582-7bd5-46b4-81d9-07f66b586f56",
   "metadata": {},
   "outputs": [
    {
     "name": "stdout",
     "output_type": "stream",
     "text": [
      "This is my code in python. \n",
      "python is very simple language. \n",
      "Anyone can learn python in two days\n"
     ]
    }
   ],
   "source": [
    "paragraph = '''This is my code in python. \n",
    "python is very simple language. \n",
    "Anyone can learn python in two days'''\n",
    "print(paragraph)"
   ]
  },
  {
   "cell_type": "code",
   "execution_count": 13,
   "id": "2a08c989-2569-428e-a079-28010ec97c1b",
   "metadata": {},
   "outputs": [
    {
     "name": "stdout",
     "output_type": "stream",
     "text": [
      "This is my code in python. \n",
      "python is very simple language. \n",
      "Anyone can learn python in two days\n"
     ]
    }
   ],
   "source": [
    "paragraph = \"\"\"This is my code in python. \n",
    "python is very simple language. \n",
    "Anyone can learn python in two days\"\"\"\n",
    "print(paragraph)"
   ]
  },
  {
   "cell_type": "code",
   "execution_count": 15,
   "id": "04f1746b-03b8-43b5-b65f-41bb20acd739",
   "metadata": {},
   "outputs": [],
   "source": [
    "question = 'What\\'s your name?'"
   ]
  },
  {
   "cell_type": "code",
   "execution_count": 16,
   "id": "183a5741-35ef-48fc-9606-e5cde3ffbda8",
   "metadata": {},
   "outputs": [],
   "source": [
    "question = \"What's your name?\""
   ]
  },
  {
   "cell_type": "markdown",
   "id": "4eea2b5d-2e0e-4683-a9e1-7d01778aee37",
   "metadata": {},
   "source": [
    "### Concatenation in String"
   ]
  },
  {
   "cell_type": "code",
   "execution_count": 18,
   "id": "165d1a82-e05b-4720-87c6-530a1a150ba9",
   "metadata": {},
   "outputs": [
    {
     "name": "stdout",
     "output_type": "stream",
     "text": [
      "My name is Sanjay Kumar.\n"
     ]
    }
   ],
   "source": [
    "fName = \"Sanjay\"\n",
    "lName = \"Kumar\"\n",
    "\n",
    "# Plus is the symbol to use for string concatenation\n",
    "name = fName + \" \" + lName\n",
    "print(f\"My name is {name}.\")"
   ]
  },
  {
   "cell_type": "markdown",
   "id": "1eed4de7-b728-4e93-b6a5-d20882d4a892",
   "metadata": {},
   "source": [
    "### 3. Print String in python"
   ]
  },
  {
   "cell_type": "code",
   "execution_count": 26,
   "id": "fd1a4934-475a-4e9e-a932-7be6b41b6ef0",
   "metadata": {},
   "outputs": [
    {
     "data": {
      "text/plain": [
       "'\\nPython has multiple kinds of printing statement for string\\n\\nPython 2 :      \\nname = \"ABCDEF\" \\nprint \"My name is %s\"     % \"\\n\\n'"
      ]
     },
     "execution_count": 26,
     "metadata": {},
     "output_type": "execute_result"
    }
   ],
   "source": [
    "\"\"\"\n",
    "Python has multiple kinds of printing statement for string\n",
    "\n",
    "Python 2 :      \n",
    "name = \"ABCDEF\" \n",
    "print \"My name is %s\"     % name\n",
    "\"\"\""
   ]
  },
  {
   "cell_type": "code",
   "execution_count": 19,
   "id": "d84fdb3d-7cc5-4803-be25-ee398cc9c4cf",
   "metadata": {},
   "outputs": [
    {
     "name": "stdout",
     "output_type": "stream",
     "text": [
      "My name is ABCDEF and my age is 45.\n"
     ]
    }
   ],
   "source": [
    "\"\"\"\n",
    "Python 3 :\n",
    "\"\"\"\n",
    "name = \"ABCDEF\" \n",
    "age = 45\n",
    "print(\"My name is {} and my age is {}.\" .format(name,age))"
   ]
  },
  {
   "cell_type": "code",
   "execution_count": 20,
   "id": "aeb9092b-3e97-4b9b-a07d-16b441119b29",
   "metadata": {},
   "outputs": [
    {
     "name": "stdout",
     "output_type": "stream",
     "text": [
      "My name is ABCDEF and my age is 45.\n"
     ]
    }
   ],
   "source": [
    "name = \"ABCDEF\" \n",
    "age = 45\n",
    "print(\"My name is {0} and my age is {1}.\" .format(name,age))"
   ]
  },
  {
   "cell_type": "code",
   "execution_count": 22,
   "id": "b11afb12-20f3-400d-84a7-8497cd70b784",
   "metadata": {},
   "outputs": [
    {
     "name": "stdout",
     "output_type": "stream",
     "text": [
      "My name is 45 and my age is ABCDEF.\n"
     ]
    }
   ],
   "source": [
    "name = \"ABCDEF\" \n",
    "age = 45\n",
    "print(\"My name is {} and my age is {}.\" .format(age,name))"
   ]
  },
  {
   "cell_type": "code",
   "execution_count": 29,
   "id": "67c0c35b-3bd7-4336-a295-8144a388dace",
   "metadata": {},
   "outputs": [
    {
     "name": "stdout",
     "output_type": "stream",
     "text": [
      "My name is ABCDEF and my age is 45. My father name is CYZ and my mobile number is 9999234343\n"
     ]
    }
   ],
   "source": [
    "name = \"ABCDEF\" \n",
    "age = 45\n",
    "fname = \"CYZ\"\n",
    "phone = \"9999234343\"\n",
    "print(\"My name is {1} and my age is {0}. My father name is {2} and my mobile number is {3}\" .format(age,name,fname,phone))"
   ]
  },
  {
   "cell_type": "code",
   "execution_count": 28,
   "id": "68026216-d763-42fd-96fe-41c1abd3fd07",
   "metadata": {},
   "outputs": [
    {
     "name": "stdout",
     "output_type": "stream",
     "text": [
      "The cost of mango is 1.2e+01\n",
      "The cost of mango is 12.34\n"
     ]
    }
   ],
   "source": [
    "item = \"mango\"\n",
    "price = 12.34342343243432345343453454\n",
    "print(\"The cost of {} is {:0.2}\" .format(item,price))\n",
    "print(\"The cost of {} is {:0.2f}\" .format(item,price)) # Expected result for my floating point"
   ]
  },
  {
   "cell_type": "markdown",
   "id": "7016b545-c984-4289-8462-44825333cc69",
   "metadata": {},
   "source": [
    "### Python 3.6 or higher Python print changeed to f-strings"
   ]
  },
  {
   "cell_type": "code",
   "execution_count": 99,
   "id": "37492628-5db5-4dec-bd35-551ae3705510",
   "metadata": {},
   "outputs": [
    {
     "name": "stdout",
     "output_type": "stream",
     "text": [
      "My name is ABCDEF and my age is 45\n",
      "My name is ABCDEF and my age is 45\n"
     ]
    }
   ],
   "source": [
    "name = \"ABCDEF\"\n",
    "age = 45\n",
    "print(f\"My name is {name} and my age is {age}\")\n",
    "print(f'My name is {name} and my age is {age}')"
   ]
  },
  {
   "cell_type": "code",
   "execution_count": 31,
   "id": "0fd71537-f589-4bab-a92a-2fc9f9caa45a",
   "metadata": {},
   "outputs": [
    {
     "name": "stdout",
     "output_type": "stream",
     "text": [
      "My name is ABCDEF and my age is 45. My father name is CYZ and my mobile number is 9999234343\n"
     ]
    }
   ],
   "source": [
    "name = \"ABCDEF\" \n",
    "age = 45\n",
    "fname = \"CYZ\"\n",
    "phone = \"9999234343\"\n",
    "print(f\"My name is {name} and my age is {age}. My father name is {fname} and my mobile number is {phone}\")"
   ]
  },
  {
   "cell_type": "code",
   "execution_count": null,
   "id": "5ba24ef3-88c4-469d-b729-fe1d7c71acd0",
   "metadata": {},
   "outputs": [],
   "source": [
    "# Other High Level languages : C,C++ or Java they seperates the loop or condition { }\n",
    "# but in python everything is managed by the spaces."
   ]
  },
  {
   "cell_type": "markdown",
   "id": "e71091eb-00e9-4c36-9455-b117e9d4b6b8",
   "metadata": {},
   "source": [
    "### 4. Naming Convention of variable :\n",
    "Variable name : Identifier Naming\n",
    "* The first character of the identifier must be a letter of the alphabet (uppercase ASCII or lowercase ASCII or Unicode character) or an underscore (_).\n",
    "* The rest of the identifier name can consist of letters (uppercase ASCII or lowercase ASCII or Unicode character), underscores (_) or digits (0-9).\n",
    "* Identifier names are case-sensitive."
   ]
  },
  {
   "cell_type": "code",
   "execution_count": 55,
   "id": "71d22496-ce38-416b-af01-12a168dc93c7",
   "metadata": {},
   "outputs": [],
   "source": [
    "myName = \"sanjay\"\n",
    "myname = \"ABC\"\n",
    "MyName = \"ASDAS\"\n",
    "Myname = \"SADAS\"\n",
    "Name =  \"SADASDASD\"\n",
    "_name = \"ASDASASD\"\n",
    "myName9_ = \"sadSA\"\n",
    "asdasdasdasdasdasdasdasdasdsadasdasdasdasdasdasdasdasdasdasdsadas = \"234324\""
   ]
  },
  {
   "cell_type": "markdown",
   "id": "976aebe0-02a0-453c-ae3c-d1c390bc20fe",
   "metadata": {},
   "source": [
    "### 5. Numbers Systems :"
   ]
  },
  {
   "cell_type": "markdown",
   "id": "ccae2cdb-e150-49ab-a559-bd0089c58f93",
   "metadata": {},
   "source": [
    "* Decimal Number Systems :(10 digits)  0,1,2,3,4,5,6,7,8,9 (ex. 10000000000, 999999999999, -99999999999)\n",
    "* Binary Number System : (2 digits) : 0,1 (ex. 11111111, 000001)\n",
    "* Octal Number System : (8 digits) : 0,1,2,3,4,5,6,7 (75,344,343)\n",
    "* Hexa-decimal Number System : (16 digits) : 0,1,2,3,4,5,6,7,8,9,A(10),B(11),C(12), D(13), E(14), F(15) (0xAAB,0x102) "
   ]
  },
  {
   "cell_type": "code",
   "execution_count": null,
   "id": "d7782eed-72ff-460f-af25-ae3823165ca1",
   "metadata": {},
   "outputs": [],
   "source": [
    "#in build function hex (decimal value) and return the converted hex value"
   ]
  },
  {
   "cell_type": "code",
   "execution_count": 20,
   "id": "899efb79-88b2-472e-8072-32d0edd6a0fb",
   "metadata": {},
   "outputs": [
    {
     "name": "stdout",
     "output_type": "stream",
     "text": [
      "Help on built-in function format in module builtins:\n",
      "\n",
      "format(value, format_spec='', /)\n",
      "    Return value.__format__(format_spec)\n",
      "    \n",
      "    format_spec defaults to the empty string.\n",
      "    See the Format Specification Mini-Language section of help('FORMATTING') for\n",
      "    details.\n",
      "\n"
     ]
    }
   ],
   "source": [
    "help(format)"
   ]
  },
  {
   "cell_type": "code",
   "execution_count": 33,
   "id": "081f52a0-0ec5-4c54-a4fe-793d1528d141",
   "metadata": {},
   "outputs": [
    {
     "name": "stdout",
     "output_type": "stream",
     "text": [
      "Binary Value of number 128      : 10000000\n",
      "Octal Value of number 128       : 200\n",
      "Hexadecimal Value of number 128 : 80\n",
      "Hexadecimal Value of number 128 : 80\n"
     ]
    }
   ],
   "source": [
    "number = 128\n",
    "print(f\"Binary Value of number {number}      : {number:b}\")\n",
    "print(f\"Octal Value of number {number}       : {number:o}\")\n",
    "print(f\"Hexadecimal Value of number {number} : {number:x}\")\n",
    "print(f\"Hexadecimal Value of number {number} : {number:X}\")"
   ]
  },
  {
   "attachments": {},
   "cell_type": "markdown",
   "id": "08334202-cc98-4f3c-9004-2b2f13af3589",
   "metadata": {},
   "source": [
    "### Operators\n"
   ]
  },
  {
   "cell_type": "markdown",
   "id": "2abc1e8d-92f4-4954-90ee-12a9f85cc1a5",
   "metadata": {},
   "source": [
    "* **Arithmatical Operators**  : +, -, *, /, %, **, //\n",
    "* **Assignment Operators**: =\n",
    "* **Logicial Operators** : and, or, not\n",
    "* **Shift Operators** : << (left Shift Operator) , >> (right Shift Operator)\n",
    "* **Bit-Wise Operators**: | (or), & (and) , ^(logical Ex-or), ~(Bit wise negate)\n",
    "* **Comparison Operator** : >(greater than), < (less than), >= (greater than equal), <= (less than equal) == (equal), != (not equal), "
   ]
  },
  {
   "cell_type": "markdown",
   "id": "bd29c317-3077-408c-80fd-df48ea63adfd",
   "metadata": {},
   "source": [
    "## Arithematical Operators"
   ]
  },
  {
   "cell_type": "code",
   "execution_count": 65,
   "id": "9147347b-8440-47a6-84a5-9d54420cd90e",
   "metadata": {},
   "outputs": [],
   "source": [
    "a = 5\n",
    "b = 29 \n",
    "name = \"Ted\""
   ]
  },
  {
   "cell_type": "code",
   "execution_count": 66,
   "id": "fefa1d54-8d39-42a8-becc-5bb08fc96b8f",
   "metadata": {},
   "outputs": [
    {
     "name": "stdout",
     "output_type": "stream",
     "text": [
      "The sum of 5 and 29 is 34\n"
     ]
    }
   ],
   "source": [
    "# Addition the two number plus symbol (+)\n",
    "result = a + b\n",
    "print(f\"The sum of {a} and {b} is {result}\")"
   ]
  },
  {
   "cell_type": "code",
   "execution_count": 67,
   "id": "91f6d555-9160-483b-b39a-68cc0710fe7c",
   "metadata": {},
   "outputs": [
    {
     "name": "stdout",
     "output_type": "stream",
     "text": [
      "The subtract of 29 and 5 is 24\n"
     ]
    }
   ],
   "source": [
    "# Subtraction the two number minus symbol (-)\n",
    "result =  b - a\n",
    "print(f\"The subtract of {b} and {a} is {result}\")"
   ]
  },
  {
   "cell_type": "code",
   "execution_count": 68,
   "id": "6cc44071-33c9-4aac-9bc9-e1d78e29ebcf",
   "metadata": {},
   "outputs": [
    {
     "name": "stdout",
     "output_type": "stream",
     "text": [
      "The Multipication of 5 and 29 is 145\n"
     ]
    }
   ],
   "source": [
    "# Multipication the two number mult symbol (*)\n",
    "result =  a * b\n",
    "print(f\"The Multipication of {a} and {b} is {result}\")"
   ]
  },
  {
   "cell_type": "code",
   "execution_count": 69,
   "id": "f5a8e733-b70b-4a9d-9964-7214604ec805",
   "metadata": {},
   "outputs": [
    {
     "name": "stdout",
     "output_type": "stream",
     "text": [
      "The division of 29  by 5 is 5.800\n"
     ]
    }
   ],
   "source": [
    "# Division the two number divide symbol (/)\n",
    "result =  b / a\n",
    "print(f\"The division of {b}  by {a} is {result:0.3f}\")"
   ]
  },
  {
   "cell_type": "code",
   "execution_count": 70,
   "id": "7ee815b8-9122-4b52-81fd-d869351b39c8",
   "metadata": {},
   "outputs": [
    {
     "name": "stdout",
     "output_type": "stream",
     "text": [
      "The remainder of 29 / 5 is 4\n"
     ]
    }
   ],
   "source": [
    "# Modulus operator to give remainder of two number remainder symbol (%)\n",
    "result =  b % a\n",
    "print(f\"The remainder of {b} / {a} is {result}\")"
   ]
  },
  {
   "cell_type": "code",
   "execution_count": 71,
   "id": "28dc43b1-9bfb-486c-97df-7c71fd6b2219",
   "metadata": {},
   "outputs": [
    {
     "name": "stdout",
     "output_type": "stream",
     "text": [
      "The exponential of 29 ^ 5 is 20511149\n"
     ]
    }
   ],
   "source": [
    "# Exponential operator to b^a  : expoential (**)\n",
    "result =  b ** a\n",
    "print(f\"The exponential of {b} ^ {a} is {result}\")"
   ]
  },
  {
   "cell_type": "code",
   "execution_count": 72,
   "id": "5f4b30f4-d3b7-4f03-926b-09b8ef514950",
   "metadata": {},
   "outputs": [
    {
     "name": "stdout",
     "output_type": "stream",
     "text": [
      "The Quotient value of 29 / 5 is 5\n"
     ]
    }
   ],
   "source": [
    "# Floor Division : Quotient value operator to b // a  : quotient (//)\n",
    "result =  b // a\n",
    "print(f\"The Quotient value of {b} / {a} is {result}\")"
   ]
  },
  {
   "cell_type": "markdown",
   "id": "a0f1c2c8-76e5-4e46-b9ac-b593becaae88",
   "metadata": {},
   "source": [
    "### Assigment Operators** : =\n"
   ]
  },
  {
   "cell_type": "code",
   "execution_count": 90,
   "id": "601247cd-9c9d-453b-b467-8da458818c19",
   "metadata": {},
   "outputs": [],
   "source": [
    "### Logical Operators : and, or not"
   ]
  },
  {
   "cell_type": "code",
   "execution_count": 75,
   "id": "e6ff71b3-f4c8-4aad-94ca-65d93f261473",
   "metadata": {},
   "outputs": [],
   "source": [
    "x = 6"
   ]
  },
  {
   "cell_type": "code",
   "execution_count": 76,
   "id": "b6068a75-94f5-4b69-b174-7d30b05ed0c2",
   "metadata": {},
   "outputs": [],
   "source": [
    "# and Statement :  Both statement should be true, only then result would be true"
   ]
  },
  {
   "cell_type": "code",
   "execution_count": 77,
   "id": "ae1a104a-abf6-446d-83db-2390429df1e1",
   "metadata": {},
   "outputs": [
    {
     "name": "stdout",
     "output_type": "stream",
     "text": [
      "True\n",
      "False\n",
      "False\n",
      "False\n"
     ]
    }
   ],
   "source": [
    "print(x > 3 and x < 10 )\n",
    "print(x > 7 and x < 10 )\n",
    "print(x > 7 and x > 10 )\n",
    "print(x > 3 and x < 5)"
   ]
  },
  {
   "cell_type": "code",
   "execution_count": 103,
   "id": "18182208-23db-4838-ad59-6a31a77ec2b5",
   "metadata": {},
   "outputs": [],
   "source": [
    "# or Statement :  Either of one statement should be true, only then result would be true"
   ]
  },
  {
   "cell_type": "code",
   "execution_count": 105,
   "id": "eb35ed35-e699-4b06-95e2-8e8feedb228e",
   "metadata": {},
   "outputs": [
    {
     "name": "stdout",
     "output_type": "stream",
     "text": [
      "True\n",
      "True\n",
      "False\n",
      "True\n"
     ]
    }
   ],
   "source": [
    "print(x > 3 or x < 10 )\n",
    "print(x > 7 or x < 10 )\n",
    "print(x > 7 or x > 10 )\n",
    "print(x > 3 or x < 5)"
   ]
  },
  {
   "cell_type": "code",
   "execution_count": 107,
   "id": "f5f19fa4-12db-4461-9e80-86e55df4d03a",
   "metadata": {},
   "outputs": [
    {
     "name": "stdout",
     "output_type": "stream",
     "text": [
      "False\n"
     ]
    }
   ],
   "source": [
    "# not statement : negate (opposite)\n",
    "print(not(x > 3))"
   ]
  },
  {
   "cell_type": "code",
   "execution_count": 109,
   "id": "10ed596d-65d2-4d10-b9a0-825b0b824368",
   "metadata": {},
   "outputs": [
    {
     "name": "stdout",
     "output_type": "stream",
     "text": [
      "True\n"
     ]
    }
   ],
   "source": [
    "print(not(x >10))"
   ]
  },
  {
   "cell_type": "code",
   "execution_count": 78,
   "id": "c2e3b89a-eb54-4c0b-a271-ea09a5bd3d06",
   "metadata": {},
   "outputs": [],
   "source": [
    "# It will be used in Conditional Statement : if..else, if ..elif..else"
   ]
  },
  {
   "cell_type": "markdown",
   "id": "fe05f996-db2f-4ce9-b4d7-e23b04b89be5",
   "metadata": {},
   "source": [
    "## Shift Operators"
   ]
  },
  {
   "cell_type": "code",
   "execution_count": 25,
   "id": "48d42263-2d48-47e1-b659-89b012f02192",
   "metadata": {},
   "outputs": [
    {
     "name": "stdout",
     "output_type": "stream",
     "text": [
      "Before Left shift operation, Number is  1111 : 15\n",
      "After Left shift operation, Number is  11110000 : 240\n"
     ]
    }
   ],
   "source": [
    "# Left Shift Operators :\n",
    "number = 15 \n",
    "#from the right you will be pushing 0 into the number\n",
    "#      0000 1000    in Decimal of 8  in 8 bit\n",
    "#      00010000    in Decimal of 16 \n",
    "# Conclusion: whenever we do left shift on any binary number, it is multiplied by 2\n",
    "print(f\"Before Left shift operation, Number is  {number:b} : {number}\")\n",
    "result = number << 4\n",
    "print(f\"After Left shift operation, Number is  {result:b} : {result}\")\n"
   ]
  },
  {
   "cell_type": "code",
   "execution_count": 41,
   "id": "ec05e840-5e1b-471c-9331-921de589e48e",
   "metadata": {},
   "outputs": [
    {
     "name": "stdout",
     "output_type": "stream",
     "text": [
      "Binary Value of number 16      : 10000\n",
      "Binary Value of number 2      : 10\n"
     ]
    }
   ],
   "source": [
    "number = 16\n",
    "result = number >> 3\n",
    "print(f\"Binary Value of number {number}      : {number:b}\")\n",
    "print(f\"Binary Value of number {result}      : {result:b}\")"
   ]
  },
  {
   "cell_type": "code",
   "execution_count": 109,
   "id": "cd017b8d-c6c3-4cdf-9a25-e7af2a0c17c4",
   "metadata": {},
   "outputs": [
    {
     "name": "stdout",
     "output_type": "stream",
     "text": [
      "Before Right shift operation, Number is  1000 : 8\n",
      "After right shift operation, Number is  10 : 2\n"
     ]
    }
   ],
   "source": [
    "# Right Shift Operators :\n",
    "number = 128\n",
    "#from the left you will be pushing 0 into the number\n",
    "#      00001000    in Decimal of 8   \n",
    "#      00000100    in Decimal of 4 \n",
    "# Conclusion: whenever we do right shift on any binary number, it is dividing by 2\n",
    "print(f\"Before Right shift operation, Number is  {number:b} : {number}\")\n",
    "result = number >> 2\n",
    "print(f\"After right shift operation, Number is  {result:b} : {result}\")"
   ]
  },
  {
   "cell_type": "markdown",
   "id": "1fa276a5-4abd-4500-9302-d56a85e06026",
   "metadata": {},
   "source": [
    "## Bit-Wise Operators"
   ]
  },
  {
   "cell_type": "code",
   "execution_count": 111,
   "id": "d4ade361-ee6c-48f0-82c8-426deb80ef23",
   "metadata": {},
   "outputs": [
    {
     "name": "stdout",
     "output_type": "stream",
     "text": [
      "Number 32 is in Binary : 100000\n",
      "Number 56 is in Binary : 111000\n"
     ]
    }
   ],
   "source": [
    "a = 32\n",
    "b = 56\n",
    "print(f\"Number {a:2} is in Binary : {a:b}\")\n",
    "print(f\"Number {b:2} is in Binary : {b:b}\")\n"
   ]
  },
  {
   "cell_type": "code",
   "execution_count": 116,
   "id": "64602500-003c-4293-8846-1cf72aa7c91f",
   "metadata": {},
   "outputs": [
    {
     "data": {
      "text/plain": [
       "'Learning of bit wise operation :\\nNumber 32 is in Binary : 100000\\nNumber 56 is in Binary : 111000\\nOperation :\\n'"
      ]
     },
     "execution_count": 116,
     "metadata": {},
     "output_type": "execute_result"
    }
   ],
   "source": [
    "\"\"\"Learning of bit wise operation :\n",
    "Number 32 is in Binary : 100000\n",
    "Negate Operation       : 111000\n",
    "\"\"\""
   ]
  },
  {
   "cell_type": "code",
   "execution_count": 113,
   "id": "980a9239-e2f7-493e-9fc4-4cfff37a2079",
   "metadata": {},
   "outputs": [
    {
     "name": "stdout",
     "output_type": "stream",
     "text": [
      "Result value of bit-wise or operation of 32 and 56 is 56 : 111000\n"
     ]
    }
   ],
   "source": [
    "# bit-wise or Operations : symbol (|)\n",
    "# or means : either of one bit is 1, resulting bit will be 1 else 0\n",
    "result = a | b\n",
    "print(f\"Result value of bit-wise or operation of {a} and {b} is {result} : {result:b}\")"
   ]
  },
  {
   "cell_type": "code",
   "execution_count": 114,
   "id": "35400ce1-4a24-4fca-95f6-647daae0d660",
   "metadata": {},
   "outputs": [
    {
     "name": "stdout",
     "output_type": "stream",
     "text": [
      "Result value of bit-wise and operation of 32 and 56 is 32 : 100000\n"
     ]
    }
   ],
   "source": [
    "# bit-wise and Operations : symbol (&)\n",
    "# and means : if both the bit are 1, only then result bit is 1, else 0\n",
    "result = a & b\n",
    "print(f\"Result value of bit-wise and operation of {a} and {b} is {result} : {result:b}\")"
   ]
  },
  {
   "cell_type": "code",
   "execution_count": 115,
   "id": "84a6f3a8-2812-4e19-ac97-956818e468c0",
   "metadata": {},
   "outputs": [
    {
     "name": "stdout",
     "output_type": "stream",
     "text": [
      "Result value of bit-wise exor operation of 32 and 56 is 24 : 11000\n"
     ]
    }
   ],
   "source": [
    "# bit-wise ex-or Operations : symbol (^)\n",
    "# ex-or means : if both bit are opposite, then result is 1 else 0\n",
    "result = a ^ b\n",
    "print(f\"Result value of bit-wise exor operation of {a} and {b} is {result} : {result:b}\")"
   ]
  },
  {
   "cell_type": "code",
   "execution_count": 117,
   "id": "9e87f7d3-ad06-42f2-bbf6-d9c511743695",
   "metadata": {},
   "outputs": [
    {
     "name": "stdout",
     "output_type": "stream",
     "text": [
      "Result value of bit-wise negate operation of 32 is -33 : -100001\n"
     ]
    }
   ],
   "source": [
    "# bit-wise negate Operations : symbol (~) tilda\n",
    "# negate means : if change the bit if 1 to 0 and 0 to 1, -(x+1)\n",
    "result = ~a \n",
    "print(f\"Result value of bit-wise negate operation of {a} is {result} : {result:b}\")"
   ]
  },
  {
   "cell_type": "markdown",
   "id": "f007c268-8e98-48a4-8cfc-56e4b94d6f95",
   "metadata": {},
   "source": [
    "## Comparison Based Operators"
   ]
  },
  {
   "cell_type": "code",
   "execution_count": 43,
   "id": "3df9b312-2a50-4d2b-9b91-7630a9bfe773",
   "metadata": {},
   "outputs": [],
   "source": [
    "a = 32\n",
    "b = 56"
   ]
  },
  {
   "cell_type": "code",
   "execution_count": 44,
   "id": "956d7ed4-03b6-43af-b912-b6ab1bb6520e",
   "metadata": {},
   "outputs": [
    {
     "name": "stdout",
     "output_type": "stream",
     "text": [
      "False\n",
      "False\n",
      "True\n",
      "True\n",
      "False\n",
      "True\n"
     ]
    }
   ],
   "source": [
    "print(a > b)\n",
    "print(a >= b)\n",
    "print(a < b)\n",
    "print(a <= b)\n",
    "print(a == b)\n",
    "print(a != b)"
   ]
  },
  {
   "cell_type": "markdown",
   "id": "dd8dd833-72e5-4485-8e0b-2ed0228e5bd9",
   "metadata": {},
   "source": [
    "### In-built Function:\n",
    "* **len function**  : it works on string data"
   ]
  },
  {
   "cell_type": "code",
   "execution_count": null,
   "id": "d04f6932-14bb-45f8-b80d-77272687f3d8",
   "metadata": {},
   "outputs": [],
   "source": [
    "# C, C++, Java: Character 'a' 'z' and String : \"AVCSS\"\n",
    "# Python : String  'a' \"a\" \"ASDA\""
   ]
  },
  {
   "cell_type": "code",
   "execution_count": 45,
   "id": "14b05767-d324-4935-81d8-a2a49d2dfcae",
   "metadata": {},
   "outputs": [
    {
     "name": "stdout",
     "output_type": "stream",
     "text": [
      "The length of string UVWXYZ is 6.\n",
      "U\n",
      "V\n",
      "W\n",
      "X\n",
      "Y\n",
      "Z\n"
     ]
    }
   ],
   "source": [
    "name = \"UVWXYZ\"\n",
    "print(f\"The length of string {name} is {len(name)}.\")\n",
    "print(name[0])\n",
    "print(name[1])\n",
    "print(name[2])\n",
    "print(name[3])\n",
    "print(name[4])\n",
    "print(name[5])"
   ]
  },
  {
   "cell_type": "code",
   "execution_count": 79,
   "id": "c8098e82-942f-4a19-8b4e-250049504699",
   "metadata": {},
   "outputs": [
    {
     "name": "stdout",
     "output_type": "stream",
     "text": [
      "3.33e+04\n",
      "33333.333\n",
      "___hello___\n",
      "Swaroop wrote A Byte of Python\n"
     ]
    }
   ],
   "source": [
    "# decimal (.) precision of 3 for float '0.333'\n",
    "print('{0:.3}'.format(100000.0/3))\n",
    "print('{0:.3f}'.format(100000.0/3))\n",
    "# fill with underscores (_) with the text centered\n",
    "# (^) to 11 width '___hello___'\n",
    "print('{0:_^11}'.format('hello'))\n",
    "# keyword-based 'Swaroop wrote A Byte of Python'\n",
    "print('{name} wrote {book}'.format(name='Swaroop', book='A Byte of Python'))"
   ]
  },
  {
   "cell_type": "markdown",
   "id": "581c3c5b-cf67-4f53-887c-42b46d4632c9",
   "metadata": {},
   "source": [
    "# Python3 String Formating :  READING\n",
    "https://pyformat.info/ "
   ]
  },
  {
   "cell_type": "code",
   "execution_count": 49,
   "id": "f1dfe81b-1e42-4ae5-b5e9-c80bc00ecc36",
   "metadata": {},
   "outputs": [
    {
     "data": {
      "text/plain": [
       "8"
      ]
     },
     "execution_count": 49,
     "metadata": {},
     "output_type": "execute_result"
    }
   ],
   "source": [
    "name = \"Courtney\"\n",
    "len(name)"
   ]
  },
  {
   "cell_type": "code",
   "execution_count": 51,
   "id": "23d15cb5-fec7-404a-a3e6-d582df08dc9b",
   "metadata": {},
   "outputs": [
    {
     "data": {
      "text/plain": [
       "'CourtneyCourtneyCourtneyCourtneyCourtneyCourtneyCourtneyCourtneyCourtneyCourtney'"
      ]
     },
     "execution_count": 51,
     "metadata": {},
     "output_type": "execute_result"
    }
   ],
   "source": [
    "name * 10"
   ]
  },
  {
   "cell_type": "code",
   "execution_count": 7,
   "id": "7e769e5c-e0c4-4af3-b41d-e12f3c8d5dcd",
   "metadata": {},
   "outputs": [
    {
     "name": "stdout",
     "output_type": "stream",
     "text": [
      "****************************************\n"
     ]
    }
   ],
   "source": [
    "string = \"*\"\n",
    "line = string * 40\n",
    "print(line)"
   ]
  },
  {
   "cell_type": "code",
   "execution_count": 58,
   "id": "580e7320-df61-4d69-9478-5a1aaf0940a9",
   "metadata": {},
   "outputs": [
    {
     "name": "stdout",
     "output_type": "stream",
     "text": [
      "--------------------------------------------------------\n",
      "|Courtney            |raghuveer           |    34|    74|\n",
      "|Courtney            |raghuveer           |    34|    74|\n",
      "|            Courtney|           raghuveer|    34|    74|\n",
      "|Courtney            |raghuveer           |34    |74    |\n",
      "|      Courtney      |     raghuveer      |  34  |  74  |\n",
      "|******Courtney******|*****raghuveer******|**34**|**74**|\n",
      "--------------------------------------------------------\n"
     ]
    }
   ],
   "source": [
    "name = \"Courtney\"\n",
    "fname = \"raghuveer\"\n",
    "age = 34\n",
    "dage = 74\n",
    "print(\"-\"*56)\n",
    "print(f\"|{name:20}|{fname:20}|{age:6}|{dage:6}|\") # Default : string left hand formating, number are right hand\n",
    "print(f\"|{name:>20}|{fname:>20}|{age:>6}|{dage:>6}|\") # right hand align formating\n",
    "print(f\"|{name:<20}|{fname:<20}|{age:<6}|{dage:<6}|\") # Left hand align formating \n",
    "print(f\"|{name:^20}|{fname:^20}|{age:^6}|{dage:^6}|\") # Center align  formating \n",
    "print(f\"|{name:*^20}|{fname:*^20}|{age:*^6}|{dage:*^6}|\") # Center align  formating \n",
    "print(\"-\"*56)"
   ]
  },
  {
   "cell_type": "code",
   "execution_count": null,
   "id": "2dfc4fc5-2718-4b0e-986d-4d69fb2b05f9",
   "metadata": {},
   "outputs": [],
   "source": [
    "# In python langauge, there are certain functionality, \n",
    "# which is already implemented and given it to you to use as modules"
   ]
  },
  {
   "cell_type": "code",
   "execution_count": null,
   "id": "c858a0f3-0a24-46e9-8cfa-477c74ddbae6",
   "metadata": {},
   "outputs": [],
   "source": [
    "# General Learning :\n",
    "\n",
    "Python language (Intepreter ) is written in C or C++. Many modules (in-built i.e. sys or os)\n",
    "module are written in high level langauge like C (because of perfomance). otherwise \n",
    "other module in python langauge. \n",
    "\n"
   ]
  },
  {
   "cell_type": "code",
   "execution_count": null,
   "id": "6c4b407d-fc01-40e8-a27c-1b2305dd9521",
   "metadata": {},
   "outputs": [],
   "source": [
    "# How to use the module sys, import the module\n",
    "# import MoudleName\n",
    "# Standard Modules : sys, os, math (Square root )"
   ]
  },
  {
   "cell_type": "code",
   "execution_count": 6,
   "id": "143acaac-b223-46aa-b250-81024ffbfdf8",
   "metadata": {},
   "outputs": [],
   "source": [
    "import sys\n",
    "import math\n",
    "import os"
   ]
  },
  {
   "cell_type": "code",
   "execution_count": 7,
   "id": "d9010c83-89cc-4739-be79-cc20e816a320",
   "metadata": {},
   "outputs": [],
   "source": [
    "# Checking the functions available in the module\n",
    "# help function to see the functionality available in the module "
   ]
  },
  {
   "cell_type": "code",
   "execution_count": 12,
   "id": "1592e135-a024-4dcb-abef-1ec480d43651",
   "metadata": {},
   "outputs": [
    {
     "name": "stdout",
     "output_type": "stream",
     "text": [
      "Help on built-in function sqrt in module math:\n",
      "\n",
      "sqrt(x, /)\n",
      "    Return the square root of x.\n",
      "\n"
     ]
    }
   ],
   "source": [
    "# print or display the information or documenation of math modules\n",
    "# help(ModuleName)\n",
    "help(math)"
   ]
  },
  {
   "cell_type": "code",
   "execution_count": null,
   "id": "30fab751-a937-4ea6-adaa-a0f45b5a5946",
   "metadata": {},
   "outputs": [],
   "source": [
    "\"\"\"\n",
    "I have written function in C, I want to use that function in python ? (Blackbox)\n",
    "\"\"\""
   ]
  },
  {
   "cell_type": "markdown",
   "id": "21b90262-3a83-462f-ac60-94b931d7b6f4",
   "metadata": {},
   "source": [
    "In computer, Number +8 and -8, I am using in system (8 bit memory to save the number)\n",
    "\n",
    "Decimal in 8 : Binary 1000\n",
    "      Sign bit\n",
    "+8 :  0 000 1000 (Binary )\n",
    "-8 :  1 000 1000 (2's Complement)\n",
    "\n",
    "for positive number sign bit (0)\n",
    "for negative number sign bit (1)\n",
    "\n",
    "Negative number in computer are save in 2's Compliment.  1's complement + 1 => 2's Complement\n",
    "\n",
    "1's Complement : 0111\n",
    "2's Complement : 1000 "
   ]
  }
 ],
 "metadata": {
  "kernelspec": {
   "display_name": "Python 3 (ipykernel)",
   "language": "python",
   "name": "python3"
  },
  "language_info": {
   "codemirror_mode": {
    "name": "ipython",
    "version": 3
   },
   "file_extension": ".py",
   "mimetype": "text/x-python",
   "name": "python",
   "nbconvert_exporter": "python",
   "pygments_lexer": "ipython3",
   "version": "3.10.12"
  }
 },
 "nbformat": 4,
 "nbformat_minor": 5
}
