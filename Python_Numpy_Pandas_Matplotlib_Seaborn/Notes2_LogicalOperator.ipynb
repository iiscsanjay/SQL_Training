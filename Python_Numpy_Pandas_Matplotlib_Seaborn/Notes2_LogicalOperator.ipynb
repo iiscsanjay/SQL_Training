{
 "cells": [
  {
   "cell_type": "code",
   "execution_count": 1,
   "id": "41bc78a8-ca70-474f-ae42-8b8df57378a6",
   "metadata": {},
   "outputs": [],
   "source": [
    "x = 6"
   ]
  },
  {
   "cell_type": "code",
   "execution_count": 2,
   "id": "99128f06-a203-4128-88a7-8eb77facf0fa",
   "metadata": {},
   "outputs": [
    {
     "data": {
      "text/plain": [
       "True"
      ]
     },
     "execution_count": 2,
     "metadata": {},
     "output_type": "execute_result"
    }
   ],
   "source": [
    "x < 7"
   ]
  },
  {
   "cell_type": "code",
   "execution_count": 3,
   "id": "4525cc77-dfd6-492d-bee1-65238e622481",
   "metadata": {},
   "outputs": [
    {
     "data": {
      "text/plain": [
       "False"
      ]
     },
     "execution_count": 3,
     "metadata": {},
     "output_type": "execute_result"
    }
   ],
   "source": [
    "x > 10"
   ]
  },
  {
   "cell_type": "code",
   "execution_count": 4,
   "id": "61188ce4-7e37-493d-bcad-491970e4dd07",
   "metadata": {},
   "outputs": [
    {
     "data": {
      "text/plain": [
       "False"
      ]
     },
     "execution_count": 4,
     "metadata": {},
     "output_type": "execute_result"
    }
   ],
   "source": [
    "# Logical Operator : And (If both statement are true, only then result can be True)\n",
    "( x < 7 and x > 10 )\n"
   ]
  },
  {
   "cell_type": "markdown",
   "id": "eb663317-ced0-4dee-86b6-d9c1ae234f79",
   "metadata": {},
   "source": [
    "### And Logical Operator \n",
    "\n",
    "True and False  | False\n",
    "\n",
    "False and True  | False \n",
    "\n",
    "False and False | False\n",
    "\n",
    "True and True   | True"
   ]
  },
  {
   "cell_type": "code",
   "execution_count": 5,
   "id": "1c0c72c8-dad3-4036-bd16-1343f2b0f15b",
   "metadata": {},
   "outputs": [
    {
     "data": {
      "text/plain": [
       "True"
      ]
     },
     "execution_count": 5,
     "metadata": {},
     "output_type": "execute_result"
    }
   ],
   "source": [
    "( x < 7 and x < 10 )"
   ]
  },
  {
   "cell_type": "code",
   "execution_count": 6,
   "id": "b26b704b-0bf5-485e-9d3d-91a9ca7c9969",
   "metadata": {},
   "outputs": [
    {
     "data": {
      "text/plain": [
       "True"
      ]
     },
     "execution_count": 6,
     "metadata": {},
     "output_type": "execute_result"
    }
   ],
   "source": [
    "# Logical Operator : Or (Any one of the statement is true, then result is True\n",
    "( x < 7 or x > 10 )"
   ]
  },
  {
   "cell_type": "code",
   "execution_count": null,
   "id": "530c910a-a8e2-472a-8733-a35b015bc211",
   "metadata": {},
   "outputs": [],
   "source": [
    "### Or Logical Operator \n",
    "\n",
    "True or False  | True\n",
    "\n",
    "False or True  | True \n",
    "\n",
    "False or False | False\n",
    "\n",
    "True or True   | True"
   ]
  },
  {
   "cell_type": "code",
   "execution_count": 7,
   "id": "0d23793a-b209-4619-ae6e-cfab3dc620b0",
   "metadata": {},
   "outputs": [
    {
     "data": {
      "text/plain": [
       "False"
      ]
     },
     "execution_count": 7,
     "metadata": {},
     "output_type": "execute_result"
    }
   ],
   "source": [
    "# Logical Operator : Not ( reverse the condition (not of True would be False ) / (not of False would be True)\n",
    "not(x < 7)"
   ]
  },
  {
   "cell_type": "code",
   "execution_count": 8,
   "id": "86ef36a8-7fcc-4c39-b081-209fe9a3ae70",
   "metadata": {},
   "outputs": [
    {
     "data": {
      "text/plain": [
       "True"
      ]
     },
     "execution_count": 8,
     "metadata": {},
     "output_type": "execute_result"
    }
   ],
   "source": [
    "x = 6\n",
    "not (x > 7)"
   ]
  },
  {
   "cell_type": "code",
   "execution_count": null,
   "id": "6d1d558b-7e77-4c2a-be72-b0a30b4920f0",
   "metadata": {},
   "outputs": [],
   "source": [
    "\"\"\"Write a program to take input from the user and print True if value is greater than 50 else print False \"\"\""
   ]
  },
  {
   "cell_type": "code",
   "execution_count": 13,
   "id": "70089aa1-6274-47ac-a0a0-ecf165f0d088",
   "metadata": {},
   "outputs": [
    {
     "data": {
      "text/plain": [
       "'python has input function which interacts with user to prompts the input. \\nWhatever number value or string, you get input from users, it will alwaus be as string'"
      ]
     },
     "execution_count": 13,
     "metadata": {},
     "output_type": "execute_result"
    }
   ],
   "source": [
    "\"\"\"python has input function which interacts with user to prompts the input. \n",
    "Whatever number value or string, you get input from users, it will alwaus be as string\"\"\""
   ]
  },
  {
   "cell_type": "code",
   "execution_count": null,
   "id": "d297be16-ba2d-4603-aaf1-e450148735d9",
   "metadata": {},
   "outputs": [],
   "source": [
    ": would tell python interepreter that next statements are inside the condition (if/else/elif) or loop(for/while) or class (declaring of the class ) "
   ]
  },
  {
   "cell_type": "code",
   "execution_count": 17,
   "id": "acaefe3d-1e5f-4271-94ca-1978dcd606ef",
   "metadata": {},
   "outputs": [
    {
     "name": "stdin",
     "output_type": "stream",
     "text": [
      "Enter the integer value: 65\n"
     ]
    },
    {
     "name": "stdout",
     "output_type": "stream",
     "text": [
      "True\n"
     ]
    }
   ],
   "source": [
    "# Program 1 : Data Science class \n",
    "\"\"\"Objective :\n",
    "    Write a program to take input from the user and print True\n",
    "    if value is greater than 50 else print False \n",
    "\"\"\"\n",
    "number = input('Enter the integer value:')\n",
    "number = int(number)\n",
    "if number > 50 :\n",
    "    print(True)\n",
    "else:\n",
    "    print(False)"
   ]
  },
  {
   "cell_type": "code",
   "execution_count": 15,
   "id": "7f752e54-5fb8-4ba0-a5a8-e85e2be948c3",
   "metadata": {},
   "outputs": [
    {
     "data": {
      "text/plain": [
       "int"
      ]
     },
     "execution_count": 15,
     "metadata": {},
     "output_type": "execute_result"
    }
   ],
   "source": [
    "number = int(number)\n"
   ]
  },
  {
   "cell_type": "code",
   "execution_count": 20,
   "id": "687cef41-87f0-4a8d-b9e1-9307ef952736",
   "metadata": {},
   "outputs": [
    {
     "name": "stdin",
     "output_type": "stream",
     "text": [
      "Enter the integer value: 80\n"
     ]
    },
    {
     "name": "stdout",
     "output_type": "stream",
     "text": [
      "False\n"
     ]
    }
   ],
   "source": [
    "# Program 2 : Data Science class \n",
    "\"\"\"Objective :\n",
    "    Write a program to take input from the user and print True\n",
    "    if value is greater than 50  and less than 70 else print False \n",
    "\"\"\"\n",
    "number = input('Enter the integer value:')\n",
    "number = int(number)\n",
    "if (number > 50 and number < 70) :\n",
    "    print(True)\n",
    "else:\n",
    "    print(False)"
   ]
  },
  {
   "cell_type": "code",
   "execution_count": 23,
   "id": "4645b351-ae31-4bb1-a359-9a644d8b0d9e",
   "metadata": {},
   "outputs": [
    {
     "name": "stdin",
     "output_type": "stream",
     "text": [
      "Enter the integer value: 35\n"
     ]
    },
    {
     "name": "stdout",
     "output_type": "stream",
     "text": [
      "False\n"
     ]
    }
   ],
   "source": [
    "# Program 3 : Data Science class \n",
    "\"\"\"Objective :\n",
    "    Write a program to take input from the user and print True\n",
    "    if value is greater than 40 or less than 30 else print False \n",
    "\"\"\"\n",
    "number = input('Enter the integer value:')\n",
    "number = int(number)\n",
    "if (number > 40 or number < 30) :\n",
    "    print(True)\n",
    "else:\n",
    "    print(False)"
   ]
  },
  {
   "cell_type": "code",
   "execution_count": 25,
   "id": "f5848aa9-aea0-4d29-985e-1309df5a6bc6",
   "metadata": {},
   "outputs": [
    {
     "name": "stdin",
     "output_type": "stream",
     "text": [
      "Enter the integer value: 40\n"
     ]
    },
    {
     "name": "stdout",
     "output_type": "stream",
     "text": [
      "False\n"
     ]
    }
   ],
   "source": [
    "# Program 4 : Data Science class \n",
    "\"\"\"Objective :\n",
    "    Write a program to take input from the user and print True\n",
    "    if value is greater than 50 else print False \n",
    "\"\"\"\n",
    "number = input('Enter the integer value:')\n",
    "number = int(number)\n",
    "if not(number < 50) :\n",
    "    print(True)\n",
    "else:\n",
    "    print(False)"
   ]
  },
  {
   "cell_type": "code",
   "execution_count": null,
   "id": "5e63ca43-70de-4572-8450-576422fb654d",
   "metadata": {},
   "outputs": [],
   "source": []
  }
 ],
 "metadata": {
  "kernelspec": {
   "display_name": "Python 3 (ipykernel)",
   "language": "python",
   "name": "python3"
  },
  "language_info": {
   "codemirror_mode": {
    "name": "ipython",
    "version": 3
   },
   "file_extension": ".py",
   "mimetype": "text/x-python",
   "name": "python",
   "nbconvert_exporter": "python",
   "pygments_lexer": "ipython3",
   "version": "3.10.12"
  }
 },
 "nbformat": 4,
 "nbformat_minor": 5
}
