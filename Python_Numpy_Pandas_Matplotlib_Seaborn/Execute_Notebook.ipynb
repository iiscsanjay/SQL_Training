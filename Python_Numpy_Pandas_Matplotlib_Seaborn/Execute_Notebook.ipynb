{
 "cells": [
  {
   "cell_type": "markdown",
   "id": "60287db0-4419-4a95-ba15-cb112e30330b",
   "metadata": {},
   "source": [
    "## Methods of Executing Python Notebook Files :\n",
    "- Local_System(\"Running\")\n",
    "- Google_Colab(\"Running\")\n",
    "- Kaggle_Server(\"Running\")"
   ]
  },
  {
   "cell_type": "code",
   "execution_count": null,
   "id": "1fb103d4-4c2b-4a6f-bafb-a99243457d4d",
   "metadata": {},
   "outputs": [],
   "source": []
  }
 ],
 "metadata": {
  "kernelspec": {
   "display_name": "Python 3 (ipykernel)",
   "language": "python",
   "name": "python3"
  },
  "language_info": {
   "codemirror_mode": {
    "name": "ipython",
    "version": 3
   },
   "file_extension": ".py",
   "mimetype": "text/x-python",
   "name": "python",
   "nbconvert_exporter": "python",
   "pygments_lexer": "ipython3",
   "version": "3.9.6"
  }
 },
 "nbformat": 4,
 "nbformat_minor": 5
}
