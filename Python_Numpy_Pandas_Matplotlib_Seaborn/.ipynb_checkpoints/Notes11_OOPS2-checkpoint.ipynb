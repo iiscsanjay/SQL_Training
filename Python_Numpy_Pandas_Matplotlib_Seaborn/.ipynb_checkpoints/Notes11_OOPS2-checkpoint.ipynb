{
 "cells": [
  {
   "cell_type": "markdown",
   "id": "9884be36-f1e8-440d-9a11-c91157687c65",
   "metadata": {},
   "source": [
    "### OOPS :  (Object Oriented Programming)\n",
    "    - Class: Creating a class : data members (attributes), member functions/methods (Functions)\n",
    "    - Object: an Instance of a class \n",
    "    - self :  memory container which keeps all the variable in it which is declared, to pass across functions\n",
    "    - Inheritance: Single Inhertiance, Multi-Level Ineritance, Hierarical Inheritance,\n",
    "    - Abstraction : Hiding some properties from outside world : Variable /Methods  : as private\n",
    "    - Encapsulation :  Combination (Data + Methods)\n",
    "    - Polymorphism : Same function for different purpose or in different class (Parent/Child)"
   ]
  },
  {
   "cell_type": "code",
   "execution_count": null,
   "id": "4c546d8e-9f55-4258-964c-e28c59949aad",
   "metadata": {},
   "outputs": [],
   "source": [
    "Class : Custom Data Structure  which you can have data members and it's function (Data + function)"
   ]
  },
  {
   "cell_type": "markdown",
   "id": "5022ae73-328a-4cd8-af48-4ef1c401b3b2",
   "metadata": {},
   "source": [
    "### Access Modifires  : private, protected, and public\n",
    "        __functionName : private function\n",
    "        _functionName : Protected function:\n",
    "        functionName : Public Function\n",
    "\n",
    "        Data Variables :\n",
    "        __Variable : Private\n",
    "        _Variable : Protected\n",
    "        Variable : Public\n"
   ]
  },
  {
   "cell_type": "code",
   "execution_count": 106,
   "id": "2d8fce07-ad52-4d55-9593-5542723d4b67",
   "metadata": {},
   "outputs": [],
   "source": [
    "class Person:\n",
    "    \n",
    "    # Special Function / Constructor\n",
    "    def __init__(self,name=\"ABCD\",age=20): # Default keyword argument \n",
    "        self.name  = name\n",
    "        self.age = age\n",
    "\n",
    "    # Getters functions of the class attributes \n",
    "    def getName(self):\n",
    "        return self.name\n",
    "\n",
    "    def getAge(self):\n",
    "        return self.age\n",
    "\n",
    "    # Setters functions of the class attributes \n",
    "    def setName(self,newName):\n",
    "        self.name = newName\n",
    " \n",
    "    def setAge(self,newAge):\n",
    "        self.age = newAge\n",
    "        \n",
    "    def printInfo(self):\n",
    "        print(f'Name : {self.name}')\n",
    "        print(f'Age  : {self.age}')"
   ]
  },
  {
   "cell_type": "code",
   "execution_count": 24,
   "id": "a0957e79-0b82-4798-bce6-ed2789af62f3",
   "metadata": {},
   "outputs": [],
   "source": [
    "p1 = Person() # default constructor\n",
    "p2 = Person(\"ZYS\") #\n",
    "p3 = Person(\"FTCE\",34)"
   ]
  },
  {
   "cell_type": "code",
   "execution_count": null,
   "id": "4a1a6ae9-6256-4004-b5f5-c179ebfb71af",
   "metadata": {},
   "outputs": [],
   "source": [
    "p1.computeArea(3)\n",
    "p1.computeArea(3,4)\n",
    "p1.compuateArea(3,4,5)"
   ]
  },
  {
   "cell_type": "code",
   "execution_count": 25,
   "id": "7d411cac-b8e0-4136-82d5-4458d438a61d",
   "metadata": {},
   "outputs": [
    {
     "name": "stdout",
     "output_type": "stream",
     "text": [
      "Name : ABCD\n",
      "Age  : 20\n"
     ]
    }
   ],
   "source": [
    "p1.printInfo()"
   ]
  },
  {
   "cell_type": "code",
   "execution_count": 26,
   "id": "dae413f2-a15d-4442-a843-667d3f05f443",
   "metadata": {},
   "outputs": [
    {
     "name": "stdout",
     "output_type": "stream",
     "text": [
      "Name : ZYS\n",
      "Age  : 20\n"
     ]
    }
   ],
   "source": [
    "p2.printInfo()"
   ]
  },
  {
   "cell_type": "code",
   "execution_count": 27,
   "id": "63aeed2b-4c91-41b3-89dd-875f7e53224c",
   "metadata": {},
   "outputs": [
    {
     "name": "stdout",
     "output_type": "stream",
     "text": [
      "Name : FTCE\n",
      "Age  : 34\n"
     ]
    }
   ],
   "source": [
    "p3.printInfo()"
   ]
  },
  {
   "cell_type": "code",
   "execution_count": 28,
   "id": "c64aa279-ea74-4e84-b9ec-cdac8a3d3dde",
   "metadata": {},
   "outputs": [],
   "source": [
    "#help(dict)"
   ]
  },
  {
   "cell_type": "code",
   "execution_count": 29,
   "id": "9811f94a-b3f9-455a-abc8-1952f6d21110",
   "metadata": {},
   "outputs": [],
   "source": [
    "### Inheritance Examples"
   ]
  },
  {
   "cell_type": "code",
   "execution_count": 107,
   "id": "c02cf752-9a22-4bac-ae32-af68b674a018",
   "metadata": {},
   "outputs": [],
   "source": [
    "class Vehicle:  # Parent Class \n",
    "    def __init__(self, distance, maxSpeed, mileage):    \n",
    "        # Private Data Attribute\n",
    "        self.__Version =  0.10\n",
    "        # attributes : distance,maxspee and mileage\n",
    "        self.maxSpeed = maxSpeed\n",
    "        self.mileage = mileage\n",
    "        self.distance = distance\n",
    "\n",
    "    def __compute(self):\n",
    "        pass\n",
    "        \n",
    "    def getMaxSpeed(self):\n",
    "        return self.maxSpeed\n",
    "\n",
    "    def getMilege(self):\n",
    "        return self.mileage\n",
    "        \n",
    "    def getEfficienty(self):\n",
    "        return self.__compute()\n",
    "\n",
    "    def getDistance(self):\n",
    "        return self.distance\n",
    "\n",
    "    def getVersion(self):\n",
    "        return self.__Version\n",
    "        \n",
    "    def printInfo(self):\n",
    "        print(f'Milege                        : {self.mileage}')\n",
    "        print(f'Max speed                     : {self.maxSpeed}')\n",
    "        print(f'Number of KM driven           : {self.distance}')"
   ]
  },
  {
   "cell_type": "code",
   "execution_count": 111,
   "id": "b6220368-0114-4fa7-aef2-d69a63c5baeb",
   "metadata": {},
   "outputs": [],
   "source": [
    "# For inheritance any previous or parent class, we need to pass the Class name in the \n",
    "# class ChildClass(ParentClass)\n",
    "class Car(Vehicle):\n",
    "    \n",
    "    # inside child class constructor, you declare your new variable and also initialize the parent's class variable\n",
    "    #by calling parent class constructore\n",
    "    def __init__(self,menufacture,  persons, distance, maxSpeed, mileage):\n",
    "        self.menufacture = menufacture\n",
    "        self.numberPassengers = persons\n",
    "\n",
    "        # calling or initialize the parent class constructor\n",
    "        # super is the keyword used to refer parent class\n",
    "        super().__init__(distance, maxSpeed, mileage)\n",
    "\n",
    "    def compute(self):\n",
    "        self.printInfo()\n",
    "        \n",
    "    def printInfo(self):\n",
    "        print(f'Car Brand                     : {self.menufacture}')\n",
    "        print(f'Number of Person can Travel   : {self.numberPassengers}')\n",
    "        print(f'Maximum Speed                 : {self.maxSpeed}')\n",
    "        #print(f'{self.__Version}')\n",
    "        self.__compute()\n",
    "\n",
    "        # Parent class, printInfo function\n",
    "        .printInfo()"
   ]
  },
  {
   "cell_type": "code",
   "execution_count": 112,
   "id": "40e19be3-ade8-468b-aba4-3a5dd56aa30f",
   "metadata": {},
   "outputs": [],
   "source": [
    "# Creating a child of Vechicle Class\n",
    "class Truck(Vehicle):\n",
    "    def __init__(self, menufacture, persons, distance, maxSpeed, mileage, maxLoadCapacity):\n",
    "        \n",
    "        self.menufacture = menufacture\n",
    "        self.numberPassengers = persons\n",
    "        self.maxLoadCapacity = maxLoadCapacity\n",
    "        \n",
    "        # Parent's class constructor\n",
    "        super().__init__(distance, maxSpeed, mileage)\n",
    "\n",
    "    def printInfo(self):\n",
    "        print(f'Truck Menufacture                : {self.menufacture}')\n",
    "        print(f'Number of Person can Travel      : {self.numberPassengers}')\n",
    "        print(f'Maximum Load  Capacity           : {self.maxLoadCapacity} Kg.')\n",
    "        super().printInfo()"
   ]
  },
  {
   "cell_type": "code",
   "execution_count": 113,
   "id": "4bece76c-eacb-4a0d-8661-988b2c410ea3",
   "metadata": {},
   "outputs": [
    {
     "name": "stdout",
     "output_type": "stream",
     "text": [
      "Car Brand                     : Tata\n",
      "Number of Person can Travel   : 4\n",
      "Maximum Speed                 : 100\n"
     ]
    },
    {
     "ename": "AttributeError",
     "evalue": "'Car' object has no attribute '_Car__compute'",
     "output_type": "error",
     "traceback": [
      "\u001b[0;31m---------------------------------------------------------------------------\u001b[0m",
      "\u001b[0;31mAttributeError\u001b[0m                            Traceback (most recent call last)",
      "Cell \u001b[0;32mIn[113], line 2\u001b[0m\n\u001b[1;32m      1\u001b[0m c \u001b[38;5;241m=\u001b[39m Car(\u001b[38;5;124m\"\u001b[39m\u001b[38;5;124mTata\u001b[39m\u001b[38;5;124m\"\u001b[39m, \u001b[38;5;241m4\u001b[39m, \u001b[38;5;241m2000\u001b[39m, \u001b[38;5;241m100\u001b[39m, \u001b[38;5;241m12\u001b[39m)\n\u001b[0;32m----> 2\u001b[0m \u001b[43mc\u001b[49m\u001b[38;5;241;43m.\u001b[39;49m\u001b[43mprintInfo\u001b[49m\u001b[43m(\u001b[49m\u001b[43m)\u001b[49m\n",
      "Cell \u001b[0;32mIn[111], line 20\u001b[0m, in \u001b[0;36mCar.printInfo\u001b[0;34m(self)\u001b[0m\n\u001b[1;32m     18\u001b[0m \u001b[38;5;28mprint\u001b[39m(\u001b[38;5;124mf\u001b[39m\u001b[38;5;124m'\u001b[39m\u001b[38;5;124mMaximum Speed                 : \u001b[39m\u001b[38;5;132;01m{\u001b[39;00m\u001b[38;5;28mself\u001b[39m\u001b[38;5;241m.\u001b[39mmaxSpeed\u001b[38;5;132;01m}\u001b[39;00m\u001b[38;5;124m'\u001b[39m)\n\u001b[1;32m     19\u001b[0m \u001b[38;5;66;03m#print(f'{self.__Version}')\u001b[39;00m\n\u001b[0;32m---> 20\u001b[0m \u001b[38;5;28;43mself\u001b[39;49m\u001b[38;5;241;43m.\u001b[39;49m\u001b[43m__compute\u001b[49m()\n\u001b[1;32m     22\u001b[0m \u001b[38;5;66;03m# Parent class, printInfo function\u001b[39;00m\n\u001b[1;32m     23\u001b[0m \u001b[38;5;28msuper\u001b[39m()\u001b[38;5;241m.\u001b[39mprintInfo()\n",
      "\u001b[0;31mAttributeError\u001b[0m: 'Car' object has no attribute '_Car__compute'"
     ]
    }
   ],
   "source": [
    "c = Car(\"Tata\", 4, 2000, 100, 12)\n",
    "c.printInfo()"
   ]
  },
  {
   "cell_type": "code",
   "execution_count": 84,
   "id": "1a9fcfb9-c650-4182-a09e-5b42b7b6298d",
   "metadata": {},
   "outputs": [
    {
     "name": "stdout",
     "output_type": "stream",
     "text": [
      "Truck Menufacture                : Mercedes\n",
      "Number of Person can Travel      : 2\n",
      "Maximum Load  Capacity           : 800 Kg.\n",
      "Milege                        : 7\n",
      "Max speed                     : 60\n",
      "Number of KM driven           : 5000\n"
     ]
    }
   ],
   "source": [
    "t = Truck(\"Mercedes\",2, 5000, 60, 7, 800)\n",
    "t.printInfo()"
   ]
  },
  {
   "cell_type": "code",
   "execution_count": 75,
   "id": "505aeb25-9dc4-473c-8265-12883c9ceb88",
   "metadata": {},
   "outputs": [],
   "source": [
    "# Inheritane : Multi-Level Inheritance (Vehicle -> Car -> RaceCar\n",
    "class RaceCar(Car):\n",
    "    # inside child class constructor, you declare your new variable and also initialize the parent's class variable\n",
    "    #by calling parent class constructore\n",
    "    def __init__(self,menufacture,  persons, Cylinder, distance, maxSpeed, mileage):\n",
    "        self.menufacture = menufacture\n",
    "        self.numberPassengers = persons\n",
    "        self.cylineder = cylinder\n",
    "\n",
    "        # calling or initialize the parent class constructor\n",
    "        # super is the keyword used to refer parent class\n",
    "        super().__init__(distance, maxSpeed, mileage)\n",
    "\n",
    "    def printInfo(self):\n",
    "        print(f'Car Brand                     : {self.menufacture}')\n",
    "        print(f'Number of Person can Travel   : {self.numberPassengers}')\n",
    "        # Parent class, printInfo function\n",
    "        super().printInfo()"
   ]
  },
  {
   "cell_type": "code",
   "execution_count": 68,
   "id": "cd4abc6d-b120-4812-82b5-9b3d14ce131b",
   "metadata": {},
   "outputs": [],
   "source": [
    "class Boat:\n",
    "    pass"
   ]
  },
  {
   "cell_type": "code",
   "execution_count": 69,
   "id": "4124cb9a-6e14-42f5-bff1-e097215d361c",
   "metadata": {},
   "outputs": [],
   "source": [
    "class CovnertiableCar(Car, Boat):\n",
    "    pass"
   ]
  },
  {
   "cell_type": "code",
   "execution_count": 8,
   "id": "663f12b1-4626-4019-a15a-b81746bd579b",
   "metadata": {},
   "outputs": [
    {
     "data": {
      "text/plain": [
       "()"
      ]
     },
     "execution_count": 8,
     "metadata": {},
     "output_type": "execute_result"
    }
   ],
   "source": [
    "ml = MyList(\"sanjay\")\n",
    "ml.makeTuple()"
   ]
  },
  {
   "cell_type": "code",
   "execution_count": null,
   "id": "6b7c3b96-9797-4f71-8717-8ee829e3549e",
   "metadata": {},
   "outputs": [],
   "source": [
    "Vehicle -> Car\n",
    "Vehicle -> Truck"
   ]
  },
  {
   "cell_type": "code",
   "execution_count": null,
   "id": "9b58b053-0d5a-4ba8-b29d-bdd27831ba97",
   "metadata": {},
   "outputs": [],
   "source": [
    "Vehicle -> Car    -> ConvertiableCar(Car,Truck)\n",
    "Vehicle -> Truck  -> ConvertiableCar(Car,Truck)"
   ]
  }
 ],
 "metadata": {
  "kernelspec": {
   "display_name": "Python 3 (ipykernel)",
   "language": "python",
   "name": "python3"
  },
  "language_info": {
   "codemirror_mode": {
    "name": "ipython",
    "version": 3
   },
   "file_extension": ".py",
   "mimetype": "text/x-python",
   "name": "python",
   "nbconvert_exporter": "python",
   "pygments_lexer": "ipython3",
   "version": "3.10.12"
  }
 },
 "nbformat": 4,
 "nbformat_minor": 5
}
