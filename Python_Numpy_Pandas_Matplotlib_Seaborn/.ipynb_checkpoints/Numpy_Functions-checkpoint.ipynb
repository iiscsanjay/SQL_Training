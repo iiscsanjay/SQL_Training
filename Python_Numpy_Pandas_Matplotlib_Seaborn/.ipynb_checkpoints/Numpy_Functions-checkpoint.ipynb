{
 "cells": [
  {
   "cell_type": "code",
   "execution_count": 2,
   "id": "51a4b7c8-6b21-4bad-9030-8e6cfbf5a463",
   "metadata": {},
   "outputs": [],
   "source": [
    "import numpy as np"
   ]
  },
  {
   "cell_type": "markdown",
   "id": "a286c938-e159-454a-9b01-05f4a17b1822",
   "metadata": {},
   "source": [
    "### Functions in Numpy"
   ]
  },
  {
   "cell_type": "markdown",
   "id": "11cce7f0-8463-4c4d-9199-d84cbad9bb74",
   "metadata": {},
   "source": [
    "    - np.array()    : This function is used to create an array in NumPy.\n",
    "    - np.arange()   : This function is used to create an array with a range of values.\n",
    "    - np.zeros()    : This function is used to create an array filled with zeros.\n",
    "    - np.ones()     : This function is used to create an array filled with ones.\n",
    "    - np.linspace() : This function is used to create an array with a specified number of evenly spaced values.\n",
    "    - np.random.rand(): This function is used to create an array with random values between 0 and 1.\n",
    "    - np.random.randint(): This function is used to create an array with random integer values between a specified range.\n",
    "\n",
    "\n",
    "\n"
   ]
  },
  {
   "cell_type": "code",
   "execution_count": null,
   "id": "8ee9df48-9837-446f-a8b1-bcaa1160c968",
   "metadata": {},
   "outputs": [],
   "source": [
    "import random"
   ]
  },
  {
   "cell_type": "code",
   "execution_count": 11,
   "id": "10c024f6-0df2-4419-9b53-8dd8cf24ac63",
   "metadata": {},
   "outputs": [
    {
     "name": "stdout",
     "output_type": "stream",
     "text": [
      "Type of array     : <class 'numpy.ndarray'>\n",
      "Base of array     : [1 2 3 4 5]\n",
      "Type of Dimension :\" 4 d array\n",
      "Shape of the Array: (1, 1, 1, 5)\n",
      "Array :\n",
      "[[[[1 2 3 4 5]]]]\n"
     ]
    }
   ],
   "source": [
    "### Array\n",
    "a = np.array([1,2,3,4,5],dtype=np.int64,ndmin=4)\n",
    "print(f'Type of array     : {type(a)}')\n",
    "print(f'Base of array     : {a.base}')\n",
    "print(f'Type of Dimension :\" {a.ndim} d array')\n",
    "print(f'Shape of the Array: {a.shape}')\n",
    "print(f'Array :\\n{a}')"
   ]
  },
  {
   "cell_type": "code",
   "execution_count": 12,
   "id": "a9065605-dc32-4eea-98b8-5dc2717d1866",
   "metadata": {},
   "outputs": [
    {
     "name": "stdout",
     "output_type": "stream",
     "text": [
      "Type of array     : <class 'numpy.ndarray'>\n",
      "Base of array     : None\n",
      "Type of Dimension :\" 1 d array\n",
      "Shape of the Array: (10,)\n",
      "Array :\n",
      "[0 1 2 3 4 5 6 7 8 9]\n"
     ]
    }
   ],
   "source": [
    "### ARANGE\n",
    "a = np.arange(10)\n",
    "print(f'Type of array     : {type(a)}')\n",
    "print(f'Base of array     : {a.base}')\n",
    "print(f'Type of Dimension :\" {a.ndim} d array')\n",
    "print(f'Shape of the Array: {a.shape}')\n",
    "print(f'Array :\\n{a}')"
   ]
  },
  {
   "cell_type": "code",
   "execution_count": 16,
   "id": "f4491a26-e4e4-46f9-9035-0fd21d9ca148",
   "metadata": {},
   "outputs": [
    {
     "name": "stdout",
     "output_type": "stream",
     "text": [
      "Type of array     : <class 'numpy.ndarray'>\n",
      "Base of array     : None\n",
      "Type of Dimension :\" 2 d array\n",
      "Shape of the Array: (3, 5)\n",
      "Array :\n",
      "[[0. 0. 0. 0. 0.]\n",
      " [0. 0. 0. 0. 0.]\n",
      " [0. 0. 0. 0. 0.]]\n"
     ]
    }
   ],
   "source": [
    "### Zeros\n",
    "#help(np.zeros)\n",
    "a = np.zeros((3,5))\n",
    "print(f'Type of array     : {type(a)}')\n",
    "print(f'Base of array     : {a.base}')\n",
    "print(f'Type of Dimension :\" {a.ndim} d array')\n",
    "print(f'Shape of the Array: {a.shape}')\n",
    "print(f'Array :\\n{a}')"
   ]
  },
  {
   "cell_type": "code",
   "execution_count": 17,
   "id": "81ad5200-3346-4d5e-960f-afb619c1a75e",
   "metadata": {},
   "outputs": [
    {
     "name": "stdout",
     "output_type": "stream",
     "text": [
      "Type of array     : <class 'numpy.ndarray'>\n",
      "Base of array     : None\n",
      "Type of Dimension :\" 1 d array\n",
      "Shape of the Array: (5,)\n",
      "Array :\n",
      "[0. 0. 0. 0. 0.]\n"
     ]
    }
   ],
   "source": [
    "a = np.zeros(5)\n",
    "print(f'Type of array     : {type(a)}')\n",
    "print(f'Base of array     : {a.base}')\n",
    "print(f'Type of Dimension :\" {a.ndim} d array')\n",
    "print(f'Shape of the Array: {a.shape}')\n",
    "print(f'Array :\\n{a}')"
   ]
  },
  {
   "cell_type": "code",
   "execution_count": 18,
   "id": "fb12d59d-9a9b-4eab-867e-20a3b27f5d34",
   "metadata": {},
   "outputs": [
    {
     "name": "stdout",
     "output_type": "stream",
     "text": [
      "Type of array     : <class 'numpy.ndarray'>\n",
      "Base of array     : None\n",
      "Type of Dimension :\" 2 d array\n",
      "Shape of the Array: (3, 5)\n",
      "Array :\n",
      "[[1. 1. 1. 1. 1.]\n",
      " [1. 1. 1. 1. 1.]\n",
      " [1. 1. 1. 1. 1.]]\n"
     ]
    }
   ],
   "source": [
    "### Ones\n",
    "#help(np.ones)\n",
    "a = np.ones((3,5))\n",
    "print(f'Type of array     : {type(a)}')\n",
    "print(f'Base of array     : {a.base}')\n",
    "print(f'Type of Dimension :\" {a.ndim} d array')\n",
    "print(f'Shape of the Array: {a.shape}')\n",
    "print(f'Array :\\n{a}')"
   ]
  },
  {
   "cell_type": "code",
   "execution_count": 22,
   "id": "d20166a7-ba95-4c81-a168-0d0296e289aa",
   "metadata": {},
   "outputs": [
    {
     "name": "stdout",
     "output_type": "stream",
     "text": [
      "Type of array     : <class 'numpy.ndarray'>\n",
      "Type of Dimension :\" 1 d array\n",
      "Shape of the Array: (5,)\n",
      "Array :\n",
      "[1. 1. 1. 1. 1.]\n"
     ]
    }
   ],
   "source": [
    "a = np.ones(5)\n",
    "print(f'Type of array     : {type(a)}')\n",
    "print(f'Type of Dimension :\" {a.ndim} d array')\n",
    "print(f'Shape of the Array: {a.shape}')\n",
    "print(f'Array :\\n{a}')"
   ]
  },
  {
   "cell_type": "code",
   "execution_count": 25,
   "id": "04e4deb9-86d3-4b4a-a8f1-2fed7302602c",
   "metadata": {},
   "outputs": [
    {
     "name": "stdout",
     "output_type": "stream",
     "text": [
      "Help on function linspace in module numpy:\n",
      "\n",
      "linspace(start, stop, num=50, endpoint=True, retstep=False, dtype=None, axis=0)\n",
      "    Return evenly spaced numbers over a specified interval.\n",
      "    \n",
      "    Returns `num` evenly spaced samples, calculated over the\n",
      "    interval [`start`, `stop`].\n",
      "    \n",
      "    The endpoint of the interval can optionally be excluded.\n",
      "    \n",
      "    .. versionchanged:: 1.16.0\n",
      "        Non-scalar `start` and `stop` are now supported.\n",
      "    \n",
      "    .. versionchanged:: 1.20.0\n",
      "        Values are rounded towards ``-inf`` instead of ``0`` when an\n",
      "        integer ``dtype`` is specified. The old behavior can\n",
      "        still be obtained with ``np.linspace(start, stop, num).astype(int)``\n",
      "    \n",
      "    Parameters\n",
      "    ----------\n",
      "    start : array_like\n",
      "        The starting value of the sequence.\n",
      "    stop : array_like\n",
      "        The end value of the sequence, unless `endpoint` is set to False.\n",
      "        In that case, the sequence consists of all but the last of ``num + 1``\n",
      "        evenly spaced samples, so that `stop` is excluded.  Note that the step\n",
      "        size changes when `endpoint` is False.\n",
      "    num : int, optional\n",
      "        Number of samples to generate. Default is 50. Must be non-negative.\n",
      "    endpoint : bool, optional\n",
      "        If True, `stop` is the last sample. Otherwise, it is not included.\n",
      "        Default is True.\n",
      "    retstep : bool, optional\n",
      "        If True, return (`samples`, `step`), where `step` is the spacing\n",
      "        between samples.\n",
      "    dtype : dtype, optional\n",
      "        The type of the output array.  If `dtype` is not given, the data type\n",
      "        is inferred from `start` and `stop`. The inferred dtype will never be\n",
      "        an integer; `float` is chosen even if the arguments would produce an\n",
      "        array of integers.\n",
      "    \n",
      "        .. versionadded:: 1.9.0\n",
      "    \n",
      "    axis : int, optional\n",
      "        The axis in the result to store the samples.  Relevant only if start\n",
      "        or stop are array-like.  By default (0), the samples will be along a\n",
      "        new axis inserted at the beginning. Use -1 to get an axis at the end.\n",
      "    \n",
      "        .. versionadded:: 1.16.0\n",
      "    \n",
      "    Returns\n",
      "    -------\n",
      "    samples : ndarray\n",
      "        There are `num` equally spaced samples in the closed interval\n",
      "        ``[start, stop]`` or the half-open interval ``[start, stop)``\n",
      "        (depending on whether `endpoint` is True or False).\n",
      "    step : float, optional\n",
      "        Only returned if `retstep` is True\n",
      "    \n",
      "        Size of spacing between samples.\n",
      "    \n",
      "    \n",
      "    See Also\n",
      "    --------\n",
      "    arange : Similar to `linspace`, but uses a step size (instead of the\n",
      "             number of samples).\n",
      "    geomspace : Similar to `linspace`, but with numbers spaced evenly on a log\n",
      "                scale (a geometric progression).\n",
      "    logspace : Similar to `geomspace`, but with the end points specified as\n",
      "               logarithms.\n",
      "    \n",
      "    Examples\n",
      "    --------\n",
      "    >>> np.linspace(2.0, 3.0, num=5)\n",
      "    array([2.  , 2.25, 2.5 , 2.75, 3.  ])\n",
      "    >>> np.linspace(2.0, 3.0, num=5, endpoint=False)\n",
      "    array([2. ,  2.2,  2.4,  2.6,  2.8])\n",
      "    >>> np.linspace(2.0, 3.0, num=5, retstep=True)\n",
      "    (array([2.  ,  2.25,  2.5 ,  2.75,  3.  ]), 0.25)\n",
      "    \n",
      "    Graphical illustration:\n",
      "    \n",
      "    >>> import matplotlib.pyplot as plt\n",
      "    >>> N = 8\n",
      "    >>> y = np.zeros(N)\n",
      "    >>> x1 = np.linspace(0, 10, N, endpoint=True)\n",
      "    >>> x2 = np.linspace(0, 10, N, endpoint=False)\n",
      "    >>> plt.plot(x1, y, 'o')\n",
      "    [<matplotlib.lines.Line2D object at 0x...>]\n",
      "    >>> plt.plot(x2, y + 0.5, 'o')\n",
      "    [<matplotlib.lines.Line2D object at 0x...>]\n",
      "    >>> plt.ylim([-0.5, 1])\n",
      "    (-0.5, 1)\n",
      "    >>> plt.show()\n",
      "\n",
      "Type of array     : <class 'numpy.ndarray'>\n",
      "Type of Dimension :\" 1 d array\n",
      "Shape of the Array: (500,)\n",
      "Array :\n",
      "[  1.           1.19839679   1.39679359   1.59519038   1.79358717\n",
      "   1.99198397   2.19038076   2.38877756   2.58717435   2.78557114\n",
      "   2.98396794   3.18236473   3.38076152   3.57915832   3.77755511\n",
      "   3.9759519    4.1743487    4.37274549   4.57114228   4.76953908\n",
      "   4.96793587   5.16633267   5.36472946   5.56312625   5.76152305\n",
      "   5.95991984   6.15831663   6.35671343   6.55511022   6.75350701\n",
      "   6.95190381   7.1503006    7.34869739   7.54709419   7.74549098\n",
      "   7.94388778   8.14228457   8.34068136   8.53907816   8.73747495\n",
      "   8.93587174   9.13426854   9.33266533   9.53106212   9.72945892\n",
      "   9.92785571  10.12625251  10.3246493   10.52304609  10.72144289\n",
      "  10.91983968  11.11823647  11.31663327  11.51503006  11.71342685\n",
      "  11.91182365  12.11022044  12.30861723  12.50701403  12.70541082\n",
      "  12.90380762  13.10220441  13.3006012   13.498998    13.69739479\n",
      "  13.89579158  14.09418838  14.29258517  14.49098196  14.68937876\n",
      "  14.88777555  15.08617234  15.28456914  15.48296593  15.68136273\n",
      "  15.87975952  16.07815631  16.27655311  16.4749499   16.67334669\n",
      "  16.87174349  17.07014028  17.26853707  17.46693387  17.66533066\n",
      "  17.86372745  18.06212425  18.26052104  18.45891784  18.65731463\n",
      "  18.85571142  19.05410822  19.25250501  19.4509018   19.6492986\n",
      "  19.84769539  20.04609218  20.24448898  20.44288577  20.64128257\n",
      "  20.83967936  21.03807615  21.23647295  21.43486974  21.63326653\n",
      "  21.83166333  22.03006012  22.22845691  22.42685371  22.6252505\n",
      "  22.82364729  23.02204409  23.22044088  23.41883768  23.61723447\n",
      "  23.81563126  24.01402806  24.21242485  24.41082164  24.60921844\n",
      "  24.80761523  25.00601202  25.20440882  25.40280561  25.6012024\n",
      "  25.7995992   25.99799599  26.19639279  26.39478958  26.59318637\n",
      "  26.79158317  26.98997996  27.18837675  27.38677355  27.58517034\n",
      "  27.78356713  27.98196393  28.18036072  28.37875752  28.57715431\n",
      "  28.7755511   28.9739479   29.17234469  29.37074148  29.56913828\n",
      "  29.76753507  29.96593186  30.16432866  30.36272545  30.56112224\n",
      "  30.75951904  30.95791583  31.15631263  31.35470942  31.55310621\n",
      "  31.75150301  31.9498998   32.14829659  32.34669339  32.54509018\n",
      "  32.74348697  32.94188377  33.14028056  33.33867735  33.53707415\n",
      "  33.73547094  33.93386774  34.13226453  34.33066132  34.52905812\n",
      "  34.72745491  34.9258517   35.1242485   35.32264529  35.52104208\n",
      "  35.71943888  35.91783567  36.11623246  36.31462926  36.51302605\n",
      "  36.71142285  36.90981964  37.10821643  37.30661323  37.50501002\n",
      "  37.70340681  37.90180361  38.1002004   38.29859719  38.49699399\n",
      "  38.69539078  38.89378758  39.09218437  39.29058116  39.48897796\n",
      "  39.68737475  39.88577154  40.08416834  40.28256513  40.48096192\n",
      "  40.67935872  40.87775551  41.0761523   41.2745491   41.47294589\n",
      "  41.67134269  41.86973948  42.06813627  42.26653307  42.46492986\n",
      "  42.66332665  42.86172345  43.06012024  43.25851703  43.45691383\n",
      "  43.65531062  43.85370741  44.05210421  44.250501    44.4488978\n",
      "  44.64729459  44.84569138  45.04408818  45.24248497  45.44088176\n",
      "  45.63927856  45.83767535  46.03607214  46.23446894  46.43286573\n",
      "  46.63126253  46.82965932  47.02805611  47.22645291  47.4248497\n",
      "  47.62324649  47.82164329  48.02004008  48.21843687  48.41683367\n",
      "  48.61523046  48.81362725  49.01202405  49.21042084  49.40881764\n",
      "  49.60721443  49.80561122  50.00400802  50.20240481  50.4008016\n",
      "  50.5991984   50.79759519  50.99599198  51.19438878  51.39278557\n",
      "  51.59118236  51.78957916  51.98797595  52.18637275  52.38476954\n",
      "  52.58316633  52.78156313  52.97995992  53.17835671  53.37675351\n",
      "  53.5751503   53.77354709  53.97194389  54.17034068  54.36873747\n",
      "  54.56713427  54.76553106  54.96392786  55.16232465  55.36072144\n",
      "  55.55911824  55.75751503  55.95591182  56.15430862  56.35270541\n",
      "  56.5511022   56.749499    56.94789579  57.14629259  57.34468938\n",
      "  57.54308617  57.74148297  57.93987976  58.13827655  58.33667335\n",
      "  58.53507014  58.73346693  58.93186373  59.13026052  59.32865731\n",
      "  59.52705411  59.7254509   59.9238477   60.12224449  60.32064128\n",
      "  60.51903808  60.71743487  60.91583166  61.11422846  61.31262525\n",
      "  61.51102204  61.70941884  61.90781563  62.10621242  62.30460922\n",
      "  62.50300601  62.70140281  62.8997996   63.09819639  63.29659319\n",
      "  63.49498998  63.69338677  63.89178357  64.09018036  64.28857715\n",
      "  64.48697395  64.68537074  64.88376754  65.08216433  65.28056112\n",
      "  65.47895792  65.67735471  65.8757515   66.0741483   66.27254509\n",
      "  66.47094188  66.66933868  66.86773547  67.06613226  67.26452906\n",
      "  67.46292585  67.66132265  67.85971944  68.05811623  68.25651303\n",
      "  68.45490982  68.65330661  68.85170341  69.0501002   69.24849699\n",
      "  69.44689379  69.64529058  69.84368737  70.04208417  70.24048096\n",
      "  70.43887776  70.63727455  70.83567134  71.03406814  71.23246493\n",
      "  71.43086172  71.62925852  71.82765531  72.0260521   72.2244489\n",
      "  72.42284569  72.62124248  72.81963928  73.01803607  73.21643287\n",
      "  73.41482966  73.61322645  73.81162325  74.01002004  74.20841683\n",
      "  74.40681363  74.60521042  74.80360721  75.00200401  75.2004008\n",
      "  75.3987976   75.59719439  75.79559118  75.99398798  76.19238477\n",
      "  76.39078156  76.58917836  76.78757515  76.98597194  77.18436874\n",
      "  77.38276553  77.58116232  77.77955912  77.97795591  78.17635271\n",
      "  78.3747495   78.57314629  78.77154309  78.96993988  79.16833667\n",
      "  79.36673347  79.56513026  79.76352705  79.96192385  80.16032064\n",
      "  80.35871743  80.55711423  80.75551102  80.95390782  81.15230461\n",
      "  81.3507014   81.5490982   81.74749499  81.94589178  82.14428858\n",
      "  82.34268537  82.54108216  82.73947896  82.93787575  83.13627255\n",
      "  83.33466934  83.53306613  83.73146293  83.92985972  84.12825651\n",
      "  84.32665331  84.5250501   84.72344689  84.92184369  85.12024048\n",
      "  85.31863727  85.51703407  85.71543086  85.91382766  86.11222445\n",
      "  86.31062124  86.50901804  86.70741483  86.90581162  87.10420842\n",
      "  87.30260521  87.501002    87.6993988   87.89779559  88.09619238\n",
      "  88.29458918  88.49298597  88.69138277  88.88977956  89.08817635\n",
      "  89.28657315  89.48496994  89.68336673  89.88176353  90.08016032\n",
      "  90.27855711  90.47695391  90.6753507   90.87374749  91.07214429\n",
      "  91.27054108  91.46893788  91.66733467  91.86573146  92.06412826\n",
      "  92.26252505  92.46092184  92.65931864  92.85771543  93.05611222\n",
      "  93.25450902  93.45290581  93.65130261  93.8496994   94.04809619\n",
      "  94.24649299  94.44488978  94.64328657  94.84168337  95.04008016\n",
      "  95.23847695  95.43687375  95.63527054  95.83366733  96.03206413\n",
      "  96.23046092  96.42885772  96.62725451  96.8256513   97.0240481\n",
      "  97.22244489  97.42084168  97.61923848  97.81763527  98.01603206\n",
      "  98.21442886  98.41282565  98.61122244  98.80961924  99.00801603\n",
      "  99.20641283  99.40480962  99.60320641  99.80160321 100.        ]\n"
     ]
    }
   ],
   "source": [
    "#Linspace function\n",
    "help(np.linspace)\n",
    "a  = np.linspace(1,100,num=500)\n",
    "print(f'Type of array     : {type(a)}')\n",
    "print(f'Type of Dimension :\" {a.ndim} d array')\n",
    "print(f'Shape of the Array: {a.shape}')\n",
    "print(f'Array :\\n{a}')"
   ]
  },
  {
   "cell_type": "code",
   "execution_count": 27,
   "id": "8c272bde-b8e1-4729-87de-5a2c6a0c735c",
   "metadata": {},
   "outputs": [
    {
     "name": "stdout",
     "output_type": "stream",
     "text": [
      "0.9803489673739137\n"
     ]
    }
   ],
   "source": [
    "#### Random number generation : Double\n",
    "#help(np.random.rand)\n",
    "# Single random value between 0 and 1 : float \n",
    "a =  np.random.rand()\n",
    "print(a)"
   ]
  },
  {
   "cell_type": "code",
   "execution_count": 28,
   "id": "43faad64-0842-412e-85ef-0aaaf7f48631",
   "metadata": {},
   "outputs": [
    {
     "name": "stdout",
     "output_type": "stream",
     "text": [
      "[[[0.95541847 0.52953169 0.80364707]\n",
      "  [0.068152   0.22254059 0.31787913]\n",
      "  [0.7786965  0.39582022 0.22449912]]\n",
      "\n",
      " [[0.05654058 0.04703923 0.4735887 ]\n",
      "  [0.19194291 0.25647667 0.15796277]\n",
      "  [0.86524509 0.43523868 0.43840896]]\n",
      "\n",
      " [[0.26027072 0.1905856  0.63395803]\n",
      "  [0.93217379 0.86559552 0.00857843]\n",
      "  [0.19916786 0.40368827 0.31769744]]]\n"
     ]
    }
   ],
   "source": [
    "a =  np.random.rand(3,3,3)\n",
    "print(a)"
   ]
  },
  {
   "cell_type": "code",
   "execution_count": 35,
   "id": "b546e9de-04c6-4733-82c7-cbe79d9e1646",
   "metadata": {},
   "outputs": [
    {
     "name": "stdout",
     "output_type": "stream",
     "text": [
      "30\n"
     ]
    }
   ],
   "source": [
    "### Random integer generation\n",
    "#help(np.random.randint)\n",
    "#randint(low, high=None, size=None, dtype=int)\n",
    "a = np.random.randint(50)   \n",
    "print(a)"
   ]
  },
  {
   "cell_type": "code",
   "execution_count": 36,
   "id": "63ee04df-f978-4789-b8fe-346405f3c980",
   "metadata": {},
   "outputs": [
    {
     "name": "stdout",
     "output_type": "stream",
     "text": [
      "[41 30 20 46 11 32 48 45 28 20]\n"
     ]
    }
   ],
   "source": [
    "a = np.random.randint(50,size=10)   \n",
    "print(a)"
   ]
  },
  {
   "cell_type": "code",
   "execution_count": 37,
   "id": "6b69189a-cbb2-4109-b881-a6333b069ee0",
   "metadata": {},
   "outputs": [
    {
     "name": "stdout",
     "output_type": "stream",
     "text": [
      "[42 47 27 44 45 36 21 36 37 48]\n"
     ]
    }
   ],
   "source": [
    "a = np.random.randint(20,50,size=10)   \n",
    "print(a)"
   ]
  }
 ],
 "metadata": {
  "kernelspec": {
   "display_name": "Python 3 (ipykernel)",
   "language": "python",
   "name": "python3"
  },
  "language_info": {
   "codemirror_mode": {
    "name": "ipython",
    "version": 3
   },
   "file_extension": ".py",
   "mimetype": "text/x-python",
   "name": "python",
   "nbconvert_exporter": "python",
   "pygments_lexer": "ipython3",
   "version": "3.10.12"
  }
 },
 "nbformat": 4,
 "nbformat_minor": 5
}
