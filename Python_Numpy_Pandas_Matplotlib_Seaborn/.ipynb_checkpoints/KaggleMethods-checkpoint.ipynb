{
 "cells": [
  {
   "cell_type": "code",
   "execution_count": null,
   "id": "fcd193d7-77ce-48c2-9bda-9716509ee946",
   "metadata": {},
   "outputs": [],
   "source": [
    "!pip3 install opendatasets\n",
    "!pip3 install kaggle"
   ]
  },
  {
   "cell_type": "markdown",
   "id": "36b4df6d-5162-4a51-a899-78e2cf9ff112",
   "metadata": {},
   "source": [
    "## Method 1 : \n",
    "    - It downloads the data into zip file and extract it as a folder.\n",
    "    - It also deleted the zip file.\n",
    "    - It requires the full url path"
   ]
  },
  {
   "cell_type": "code",
   "execution_count": 1,
   "id": "9d0629c8-4bdb-4fde-9ebd-4adede32ab75",
   "metadata": {},
   "outputs": [],
   "source": [
    "import opendatasets as od"
   ]
  },
  {
   "cell_type": "code",
   "execution_count": 2,
   "id": "4428f675-a2ff-450c-8343-3eb1d1a4193b",
   "metadata": {},
   "outputs": [],
   "source": [
    "url1 = 'https://www.kaggle.com/datasets/alexteboul/diabetes-health-indicators-dataset'\n",
    "url2 = 'https://www.kaggle.com/datasets/mlg-ulb/creditcardfraud'"
   ]
  },
  {
   "cell_type": "code",
   "execution_count": null,
   "id": "99f24925-c858-4d1c-8839-9c046c2a9be7",
   "metadata": {},
   "outputs": [],
   "source": [
    "od.download(url2)"
   ]
  },
  {
   "cell_type": "markdown",
   "id": "560b8ae5-2d7c-471c-a2e9-ae10411539a8",
   "metadata": {},
   "source": [
    "### Method 2: \n",
    "    - installation kaggle module\n",
    "    - It allows us to use binary named kaggle to download the data\n",
    "    - It requires only the author and dataset name with argument to the binary file\n",
    "    - it keeps the data into zip"
   ]
  },
  {
   "cell_type": "code",
   "execution_count": null,
   "id": "745c4481-a253-475f-acf7-f9e9ac6fb375",
   "metadata": {},
   "outputs": [],
   "source": [
    "!kaggle datasets download mlg-ulb/creditcardfraud"
   ]
  },
  {
   "cell_type": "markdown",
   "id": "6e38d8b4-fbea-4620-80ad-87a9f116d620",
   "metadata": {},
   "source": [
    "### Method3 :\n",
    "      - It downloads the data into zip file. \n",
    "      - which u can unzip or not unzip it.\n",
    "      - If you unzip it , then itt will  delete the zip file.\n",
    "      - it requires author/datasetname \n",
    "      "
   ]
  },
  {
   "cell_type": "code",
   "execution_count": null,
   "id": "e8c39811-1078-4934-b721-3b6b0b34b196",
   "metadata": {},
   "outputs": [],
   "source": [
    "import kaggle \n",
    "\n",
    "# Download the data in local director\n",
    "kaggle.api.authenticate()\n",
    "kaggle.api.dataset_download_files(\"mlg-ulb/creditcardfraud\", unzip=True, path='data') "
   ]
  },
  {
   "cell_type": "markdown",
   "id": "c1b09007-c1e2-4056-805f-95e80391505d",
   "metadata": {},
   "source": [
    "### Method4\n",
    "    - if you share this file with anyone, they have your credentials\n",
    "    - It will also download the dataset into zip file"
   ]
  },
  {
   "cell_type": "code",
   "execution_count": null,
   "id": "5a36f70f-f440-4511-a51d-df840dc449a4",
   "metadata": {},
   "outputs": [],
   "source": [
    "import os"
   ]
  },
  {
   "cell_type": "code",
   "execution_count": null,
   "id": "52c7d7f1-d1a0-424e-9478-33f7726cb66a",
   "metadata": {},
   "outputs": [],
   "source": [
    "os.environ['KAGGLE_USERNAME'] = \"XXXX\" # username from the json file\n",
    "os.environ['KAGGLE_KEY'] = \"XXXXXXXXXXXX\" # key from the json file"
   ]
  },
  {
   "cell_type": "code",
   "execution_count": null,
   "id": "9be63107-915d-4247-8ae7-1dbcc687a588",
   "metadata": {},
   "outputs": [],
   "source": [
    "!kaggle datasets download mlg-ulb/creditcardfraud"
   ]
  }
 ],
 "metadata": {
  "kernelspec": {
   "display_name": "Python 3 (ipykernel)",
   "language": "python",
   "name": "python3"
  },
  "language_info": {
   "codemirror_mode": {
    "name": "ipython",
    "version": 3
   },
   "file_extension": ".py",
   "mimetype": "text/x-python",
   "name": "python",
   "nbconvert_exporter": "python",
   "pygments_lexer": "ipython3",
   "version": "3.9.6"
  }
 },
 "nbformat": 4,
 "nbformat_minor": 5
}
