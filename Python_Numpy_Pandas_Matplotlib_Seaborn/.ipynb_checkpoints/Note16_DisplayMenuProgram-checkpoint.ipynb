{
 "cells": [
  {
   "cell_type": "code",
   "execution_count": 5,
   "id": "e514399f-1b82-4606-8880-ae134d671858",
   "metadata": {},
   "outputs": [],
   "source": [
    "import sys"
   ]
  },
  {
   "cell_type": "code",
   "execution_count": 6,
   "id": "f7ac25ef-2b3f-4917-8514-c7c4784d7655",
   "metadata": {},
   "outputs": [
    {
     "data": {
      "text/plain": [
       "['/Users/sanjayk/Library/CloudStorage/Dropbox/Work/Careerera',\n",
       " '/opt/miniforge3/lib/python310.zip',\n",
       " '/opt/miniforge3/lib/python3.10',\n",
       " '/opt/miniforge3/lib/python3.10/lib-dynload',\n",
       " '',\n",
       " '/Users/sanjayk/.local/lib/python3.10/site-packages',\n",
       " '/opt/miniforge3/lib/python3.10/site-packages']"
      ]
     },
     "execution_count": 6,
     "metadata": {},
     "output_type": "execute_result"
    }
   ],
   "source": [
    "sys.path"
   ]
  },
  {
   "cell_type": "code",
   "execution_count": 7,
   "id": "804e27d9-e52d-4256-94f9-0d549d3e1df2",
   "metadata": {},
   "outputs": [],
   "source": [
    "from Utility import square\n",
    "from Utility import cube\n",
    "from Utility import squareRoot"
   ]
  },
  {
   "cell_type": "code",
   "execution_count": 8,
   "id": "72396cec-5f93-4051-beed-409440bb82b1",
   "metadata": {},
   "outputs": [],
   "source": [
    "def displayMenu():\n",
    "    print(\"*\"*40)\n",
    "    print(\"Please enter the choice:\")\n",
    "    print(\"1. To display the Square of the number.\")\n",
    "    print(\"2. To display the Cube of the number.\")\n",
    "    print(\"3. To display the Square Root of the number.\")\n",
    "    print(\"4. Enter different number for computation.\")\n",
    "    print(\"5. Exit from the program\")\n",
    "    print(\"*\"*40)"
   ]
  },
  {
   "cell_type": "code",
   "execution_count": 13,
   "id": "bd9ed07d-a9ed-42a5-83bf-fc0e98a06971",
   "metadata": {},
   "outputs": [],
   "source": [
    "def main():\n",
    "\n",
    "    # taking input integer value for operation\n",
    "    number = int(input(\"Enter an integer value: \"))\n",
    "\n",
    "    # while loop will execute until u break the looop\n",
    "    while True:\n",
    "\n",
    "        # displaying the menu to the user\n",
    "        displayMenu()\n",
    "\n",
    "        # taking the input for operation 1-4\n",
    "        choice = int(input(\"Enter a integer value between [1-4] for operation: \"))\n",
    "\n",
    "        if choice == 1 :\n",
    "            print(f\"\\nSquare of a {number} is {square(number)}\")\n",
    "        elif choice == 2 :\n",
    "            print(f\"\\nCube of a {number} is {cube(number)}\")\n",
    "        elif choice == 3:\n",
    "            print(f\"\\nSquare Root of a {number} is {squareRoot(number):0.3f}\")\n",
    "        elif choice == 4:\n",
    "            number = int(input(\"\\nEnter an integer value: \"))\n",
    "        elif choice == 5:\n",
    "            print(\"\\nGood Bye!\")\n",
    "            break\n",
    "        else:\n",
    "            print(\"\\nInvalid Choice!\")\n",
    "\n",
    "        print(\"\")"
   ]
  },
  {
   "cell_type": "code",
   "execution_count": 14,
   "id": "8531da75-eccf-42a4-8f40-8424085dbae2",
   "metadata": {},
   "outputs": [
    {
     "name": "stdin",
     "output_type": "stream",
     "text": [
      "Enter an integer value:  64\n"
     ]
    },
    {
     "name": "stdout",
     "output_type": "stream",
     "text": [
      "****************************************\n",
      "Please enter the choice:\n",
      "1. To display the Square of the number.\n",
      "2. To display the Cube of the number.\n",
      "3. To display the Square Root of the number.\n",
      "4. Enter different number for computation.\n",
      "5. Exit from the program\n",
      "****************************************\n"
     ]
    },
    {
     "name": "stdin",
     "output_type": "stream",
     "text": [
      "Enter a integer value between [1-4] for operation:  1\n"
     ]
    },
    {
     "name": "stdout",
     "output_type": "stream",
     "text": [
      "\n",
      "Square of a 64 is 4096\n",
      "\n",
      "****************************************\n",
      "Please enter the choice:\n",
      "1. To display the Square of the number.\n",
      "2. To display the Cube of the number.\n",
      "3. To display the Square Root of the number.\n",
      "4. Enter different number for computation.\n",
      "5. Exit from the program\n",
      "****************************************\n"
     ]
    },
    {
     "name": "stdin",
     "output_type": "stream",
     "text": [
      "Enter a integer value between [1-4] for operation:  2\n"
     ]
    },
    {
     "name": "stdout",
     "output_type": "stream",
     "text": [
      "\n",
      "Cube of a 64 is 262144\n",
      "\n",
      "****************************************\n",
      "Please enter the choice:\n",
      "1. To display the Square of the number.\n",
      "2. To display the Cube of the number.\n",
      "3. To display the Square Root of the number.\n",
      "4. Enter different number for computation.\n",
      "5. Exit from the program\n",
      "****************************************\n"
     ]
    },
    {
     "name": "stdin",
     "output_type": "stream",
     "text": [
      "Enter a integer value between [1-4] for operation:  3\n"
     ]
    },
    {
     "name": "stdout",
     "output_type": "stream",
     "text": [
      "\n",
      "Square Root of a 64 is 8.000\n",
      "\n",
      "****************************************\n",
      "Please enter the choice:\n",
      "1. To display the Square of the number.\n",
      "2. To display the Cube of the number.\n",
      "3. To display the Square Root of the number.\n",
      "4. Enter different number for computation.\n",
      "5. Exit from the program\n",
      "****************************************\n"
     ]
    },
    {
     "name": "stdin",
     "output_type": "stream",
     "text": [
      "Enter a integer value between [1-4] for operation:  4\n",
      "\n",
      "Enter an integer value:  65\n"
     ]
    },
    {
     "name": "stdout",
     "output_type": "stream",
     "text": [
      "\n",
      "****************************************\n",
      "Please enter the choice:\n",
      "1. To display the Square of the number.\n",
      "2. To display the Cube of the number.\n",
      "3. To display the Square Root of the number.\n",
      "4. Enter different number for computation.\n",
      "5. Exit from the program\n",
      "****************************************\n"
     ]
    },
    {
     "name": "stdin",
     "output_type": "stream",
     "text": [
      "Enter a integer value between [1-4] for operation:  3\n"
     ]
    },
    {
     "name": "stdout",
     "output_type": "stream",
     "text": [
      "\n",
      "Square Root of a 65 is 8.062\n",
      "\n",
      "****************************************\n",
      "Please enter the choice:\n",
      "1. To display the Square of the number.\n",
      "2. To display the Cube of the number.\n",
      "3. To display the Square Root of the number.\n",
      "4. Enter different number for computation.\n",
      "5. Exit from the program\n",
      "****************************************\n"
     ]
    },
    {
     "name": "stdin",
     "output_type": "stream",
     "text": [
      "Enter a integer value between [1-4] for operation:  5\n"
     ]
    },
    {
     "name": "stdout",
     "output_type": "stream",
     "text": [
      "\n",
      "Good Bye!\n"
     ]
    }
   ],
   "source": [
    "if __name__ == \"__main__\":\n",
    "    main()"
   ]
  },
  {
   "cell_type": "code",
   "execution_count": null,
   "id": "6c7869bf-49cf-4bb1-9ca8-45cf9ba7aaff",
   "metadata": {},
   "outputs": [],
   "source": []
  }
 ],
 "metadata": {
  "kernelspec": {
   "display_name": "Python 3 (ipykernel)",
   "language": "python",
   "name": "python3"
  },
  "language_info": {
   "codemirror_mode": {
    "name": "ipython",
    "version": 3
   },
   "file_extension": ".py",
   "mimetype": "text/x-python",
   "name": "python",
   "nbconvert_exporter": "python",
   "pygments_lexer": "ipython3",
   "version": "3.10.12"
  }
 },
 "nbformat": 4,
 "nbformat_minor": 5
}
