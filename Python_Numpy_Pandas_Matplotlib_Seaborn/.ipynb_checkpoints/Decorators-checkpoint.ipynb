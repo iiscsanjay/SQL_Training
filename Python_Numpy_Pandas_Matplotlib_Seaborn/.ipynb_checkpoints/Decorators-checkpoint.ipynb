{
 "cells": [
  {
   "cell_type": "markdown",
   "id": "a27ea1a8-08f4-41bc-bec6-9344faab97d9",
   "metadata": {},
   "source": [
    "#### In Python, functions are first class objects which means that functions in Python can be used or passed as arguments.\n",
    "##### Properties of first class functions:\n",
    "    A function is an instance of the Object type.\n",
    "    You can store the function in a variable.\n",
    "    You can pass the function as a parameter to another function.\n",
    "    You can return the function from a function.\n",
    "    You can store them in data structures such as hash tables, lists\n"
   ]
  },
  {
   "cell_type": "code",
   "execution_count": 5,
   "id": "60083f63-a960-42c7-a205-57918119aefc",
   "metadata": {},
   "outputs": [
    {
     "name": "stdout",
     "output_type": "stream",
     "text": [
      "HELLO\n"
     ]
    }
   ],
   "source": [
    "## Treating function as object can be treated as objects \n",
    "\"\"\"we have assigned the function shout to a variable. This will not call the function \n",
    "instead it takes the function object referenced by a shout and \n",
    "creates a second name pointing to it,\"\"\"\n",
    "\n",
    "def shout(text): \n",
    "    return text.upper() \n",
    "\n",
    "# example here \n",
    "yell = shout \n",
    "print(yell('Hello')) "
   ]
  },
  {
   "cell_type": "code",
   "execution_count": 6,
   "id": "46ceada8-f834-4613-bfae-501544e92d75",
   "metadata": {},
   "outputs": [
    {
     "name": "stdout",
     "output_type": "stream",
     "text": [
      "HI, I AM CREATED BY A FUNCTION PASSED AS AN ARGUMENT.\n",
      "hi, i am created by a function passed as an argument.\n"
     ]
    }
   ],
   "source": [
    "# Passing function as arguments to other functions \n",
    "def shout(text): \n",
    "    return text.upper() \n",
    " \n",
    "def whisper(text): \n",
    "    return text.lower() \n",
    " \n",
    "def greet(func): \n",
    "    # storing the function in a variable \n",
    "    greeting = func(\"\"\"Hi, I am created by a function passed as an argument.\"\"\") \n",
    "    print (greeting) \n",
    " \n",
    "greet(shout) \n",
    "greet(whisper) "
   ]
  },
  {
   "cell_type": "code",
   "execution_count": 8,
   "id": "b33b271a-3f24-4abd-ba0f-b6675f1ea67b",
   "metadata": {},
   "outputs": [
    {
     "name": "stdout",
     "output_type": "stream",
     "text": [
      "25\n"
     ]
    }
   ],
   "source": [
    "#Returning functions from another function.\n",
    "\"\"\"we have created a function inside of another function and then have returned the function \n",
    "created inside. The above three examples depict the important concepts that are needed to \n",
    "understand decorators. After going through them let us now dive deep into decorators.\"\"\"\n",
    " \n",
    "def create_adder(x): \n",
    "    def adder(y): \n",
    "        return x+y \n",
    " \n",
    "    return adder \n",
    " \n",
    "add_15 = create_adder(15) \n",
    " \n",
    "print(add_15(10))"
   ]
  },
  {
   "cell_type": "code",
   "execution_count": 13,
   "id": "173b339b-af2c-429c-a7f7-9abb2b16f880",
   "metadata": {},
   "outputs": [
    {
     "name": "stdout",
     "output_type": "stream",
     "text": [
      "3628800\n",
      "Total time taken in :  factorial 0.000293731689453125\n"
     ]
    }
   ],
   "source": [
    "# importing libraries\n",
    "import time\n",
    "import math\n",
    "\n",
    "# decorator to calculate duration taken by any function.\n",
    "def calculate_time(func):\n",
    "\t\n",
    "\t# added arguments inside the inner1,\n",
    "\t# if function takes any arguments,\n",
    "\t# can be added like this.\n",
    "\tdef inner1(*args, **kwargs):\n",
    "\n",
    "\t\t# storing time before function execution\n",
    "\t\tbegin = time.time()\n",
    "\t\t\n",
    "\t\tfunc(*args, **kwargs)\n",
    "\n",
    "\t\t# storing time after function execution\n",
    "\t\tend = time.time()\n",
    "\t\tprint(\"Total time taken in : \", func.__name__, end - begin)\n",
    "\n",
    "\treturn inner1\n",
    "\n",
    "\n",
    "\n",
    "# this can be added to any function present,in this case to calculate a factorial\n",
    "@calculate_time\n",
    "def factorial(num):\n",
    "\n",
    "\t# sleep 2 seconds because it takes very less time\n",
    "\t# so that you can see the actual difference\n",
    "\t#time.sleep(2)\n",
    "\tprint(math.factorial(num))\n",
    "\n",
    "# calling the function.\n",
    "factorial(10)\n"
   ]
  },
  {
   "cell_type": "code",
   "execution_count": 14,
   "id": "22ab08f6-2f2a-45ca-aa2a-abdbc8ea2569",
   "metadata": {},
   "outputs": [
    {
     "name": "stdout",
     "output_type": "stream",
     "text": [
      "before Execution\n",
      "Inside the function\n",
      "after Execution\n",
      "Sum = 3\n"
     ]
    }
   ],
   "source": [
    "def hello_decorator(func):\n",
    "    def inner1(*args, **kwargs):\n",
    "         \n",
    "        print(\"before Execution\")\n",
    "         \n",
    "        # getting the returned value\n",
    "        returned_value = func(*args, **kwargs)\n",
    "        print(\"after Execution\")\n",
    "         \n",
    "        # returning the value to the original frame\n",
    "        return returned_value\n",
    "         \n",
    "    return inner1\n",
    " \n",
    " \n",
    "# adding decorator to the function\n",
    "@hello_decorator\n",
    "def sum_two_numbers(a, b):\n",
    "    print(\"Inside the function\")\n",
    "    return a + b\n",
    " \n",
    "a, b = 1, 2\n",
    " \n",
    "# getting the value through return of the function\n",
    "print(\"Sum =\", sum_two_numbers(a, b))"
   ]
  },
  {
   "cell_type": "code",
   "execution_count": 16,
   "id": "78d58ae9-f871-410b-b198-cf7c5980fcc6",
   "metadata": {},
   "outputs": [
    {
     "name": "stdout",
     "output_type": "stream",
     "text": [
      "10\n",
      "200\n"
     ]
    }
   ],
   "source": [
    "# code for testing decorator chaining \n",
    "def decor1(func): \n",
    "    def inner(): \n",
    "        x = func() \n",
    "        return x * x \n",
    "    return inner \n",
    " \n",
    "def decor(func): \n",
    "    def inner(): \n",
    "        x = func() \n",
    "        return 2 * x \n",
    "    return inner \n",
    "\n",
    "def num(): \n",
    "    return 10\n",
    " \n",
    "@decor\n",
    "@decor1\n",
    "def num2():\n",
    "    return 10\n",
    "   \n",
    "print(num()) \n",
    "print(num2())"
   ]
  },
  {
   "cell_type": "markdown",
   "id": "5aca770b-d663-40eb-a370-f1716b149cc7",
   "metadata": {},
   "source": [
    "#### Class method and Static Methods"
   ]
  },
  {
   "cell_type": "markdown",
   "id": "0ad60ad1-aae5-42fc-ba0a-b86bed7f71b6",
   "metadata": {},
   "source": [
    "#### Class method vs Static Method\n",
    "\n",
    "The difference between the Class method and the static method is:\n",
    "\n",
    "    - A class method takes cls as the first parameter while a static method needs no specific parameters.\n",
    "    - A class method can access or modify the class state while a static method can’t access or modify it.\n",
    "    - Static methods know nothing about the class state. They are utility-type methods that take some parameters and work upon those parameters. On the other hand class methods must have class as a parameter.\n",
    "    - We use @classmethod decorator in python to create a class method and we use @staticmethod decorator to create a static method in python."
   ]
  },
  {
   "cell_type": "code",
   "execution_count": 21,
   "id": "9987c3d8-fdad-4019-af13-aa4dc008c071",
   "metadata": {},
   "outputs": [
    {
     "name": "stdout",
     "output_type": "stream",
     "text": [
      "10\n"
     ]
    }
   ],
   "source": [
    "class MyClass:\n",
    "    def __init__(self, value):\n",
    "        self.value = value\n",
    " \n",
    "    def get_value(self):\n",
    "        return self.value\n",
    " \n",
    "# Create an instance of MyClass\n",
    "obj = MyClass(10)\n",
    " \n",
    "# Call the get_value method on the instance\n",
    "print(obj.get_value())  # Output: 10"
   ]
  },
  {
   "cell_type": "code",
   "execution_count": 22,
   "id": "2ee9d354-4d22-423b-98a8-eb486dbb29ea",
   "metadata": {},
   "outputs": [
    {
     "name": "stdout",
     "output_type": "stream",
     "text": [
      "30\n",
      "30\n"
     ]
    }
   ],
   "source": [
    "class MyClass:\n",
    "    def __init__(self, value):\n",
    "        self.value = value\n",
    " \n",
    "    @staticmethod\n",
    "    def get_max_value(x, y):\n",
    "        return max(x, y)\n",
    " \n",
    "# Create an instance of MyClass\n",
    "obj = MyClass(10)\n",
    " \n",
    "print(MyClass.get_max_value(20, 30))  \n",
    " \n",
    "print(obj.get_max_value(20, 30)) "
   ]
  },
  {
   "cell_type": "code",
   "execution_count": 23,
   "id": "51e6e8b3-d6a9-4f41-98c0-225f353af5f6",
   "metadata": {},
   "outputs": [
    {
     "name": "stdout",
     "output_type": "stream",
     "text": [
      "Employee Name: Dhiman and Age: 25\n",
      "Employee Name: Subhas and Age: 36\n",
      "True\n",
      "False\n"
     ]
    }
   ],
   "source": [
    "from datetime import date as dt\n",
    "class Employee:\n",
    "   def __init__(self, name, age):\n",
    "      self.name = name\n",
    "      self.age = age\n",
    "   \n",
    "   @staticmethod\n",
    "   def isAdult(age):\n",
    "      if age > 18:\n",
    "         return True\n",
    "      else:\n",
    "         return False\n",
    "   \n",
    "   @classmethod\n",
    "   def emp_from_year(emp_class, name, year):\n",
    "      return emp_class(name, dt.today().year - year)\n",
    "   \n",
    "   def __str__(self):\n",
    "      return 'Employee Name: {} and Age: {}'.format(self.name, self.age)\n",
    "\n",
    "def main():\n",
    "    e1 = Employee('Dhiman', 25)\n",
    "    print(e1)\n",
    "    e2 = Employee.emp_from_year('Subhas', 1987)\n",
    "    print(e2)\n",
    "    print(Employee.isAdult(25))\n",
    "    print(Employee.isAdult(16))\n",
    "\n",
    "if __name__ == \"__main__\":\n",
    "    main()"
   ]
  },
  {
   "cell_type": "code",
   "execution_count": null,
   "id": "9941279c-9617-4ed7-84f2-b6ac7807f73f",
   "metadata": {},
   "outputs": [],
   "source": []
  }
 ],
 "metadata": {
  "kernelspec": {
   "display_name": "Python 3 (ipykernel)",
   "language": "python",
   "name": "python3"
  },
  "language_info": {
   "codemirror_mode": {
    "name": "ipython",
    "version": 3
   },
   "file_extension": ".py",
   "mimetype": "text/x-python",
   "name": "python",
   "nbconvert_exporter": "python",
   "pygments_lexer": "ipython3",
   "version": "3.10.12"
  }
 },
 "nbformat": 4,
 "nbformat_minor": 5
}
