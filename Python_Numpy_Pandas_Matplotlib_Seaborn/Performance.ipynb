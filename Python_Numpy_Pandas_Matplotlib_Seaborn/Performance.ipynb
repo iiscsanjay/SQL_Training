{
 "cells": [
  {
   "cell_type": "markdown",
   "id": "8fd28ea6-51b7-42a8-9933-76f56dbc3db2",
   "metadata": {},
   "source": [
    "#### Numpy\n",
    "    - In Numpy Array, we save only one kind of data at a time\n",
    "    - It save the data in contiguous memory.\n",
    "    - Numpy array creation take little longer than creating a list"
   ]
  },
  {
   "cell_type": "markdown",
   "id": "64c1e850-1ed2-431d-98e8-000fa883363d",
   "metadata": {},
   "source": [
    "#### List :\n",
    "    - In List, we can save any kind of data (Hetrogenous data type) i.e. int, float, boolean, sting\n",
    "    - In List data is not saved in the contiguous memory (Scatter) L[0] , L[1]    "
   ]
  },
  {
   "cell_type": "code",
   "execution_count": 1,
   "id": "f5dd811d-8f1a-4f6e-bf9b-50abc4f3a3ae",
   "metadata": {},
   "outputs": [
    {
     "name": "stdout",
     "output_type": "stream",
     "text": [
      "Size of each element of list in bytes:  48\n",
      "Size of the whole list in bytes:  48000\n",
      "Size of each element of the Numpy array in bytes:  8\n",
      "Size of the whole Numpy array in bytes:  8000\n"
     ]
    }
   ],
   "source": [
    "# importing numpy package\n",
    "import numpy as np\n",
    " \n",
    "# importing system module\n",
    "import sys\n",
    " \n",
    "# declaring a list of 1000 elements\n",
    "S= range(1000)\n",
    " \n",
    "# printing size of each element of the list\n",
    "print(\"Size of each element of list in bytes: \",sys.getsizeof(S))\n",
    " \n",
    "# printing size of the whole list\n",
    "print(\"Size of the whole list in bytes: \",sys.getsizeof(S)*len(S))\n",
    " \n",
    "# declaring a Numpy array of 1000 elements\n",
    "D = np.arange(1000)\n",
    " \n",
    "# printing size of each element of the Numpy array\n",
    "print(\"Size of each element of the Numpy array in bytes: \",D.itemsize)\n",
    " \n",
    "# printing size of the whole Numpy array\n",
    "print(\"Size of the whole Numpy array in bytes: \",D.size * D.itemsize)"
   ]
  },
  {
   "cell_type": "code",
   "execution_count": 1,
   "id": "18e49e59-48d7-4f33-9088-6a400a587fcb",
   "metadata": {},
   "outputs": [
    {
     "name": "stdout",
     "output_type": "stream",
     "text": [
      "Time taken by Lists to perform multiplication: 0.061939239501953125 seconds\n",
      "Time taken by NumPy Arrays to perform multiplication: 0.0018389225006103516 seconds\n"
     ]
    }
   ],
   "source": [
    "# importing required packages\n",
    "import numpy\n",
    "import time\n",
    " \n",
    "# size of arrays and lists\n",
    "size = 1000000\n",
    " \n",
    "# declaring lists\n",
    "list1 = range(size)\n",
    "list2 = range(size)\n",
    " \n",
    "# declaring arrays\n",
    "array1 = numpy.arange(size)\n",
    "array2 = numpy.arange(size)\n",
    " \n",
    "# capturing time before the multiplication of Python lists\n",
    "initialTime = time.time()\n",
    " \n",
    "# multiplying elements of both the lists and stored in another list\n",
    "resultantList = [(a * b) for a, b in zip(list1, list2)]\n",
    " \n",
    "# calculating execution time\n",
    "print(\"Time taken by Lists to perform multiplication:\",\n",
    "    (time.time() - initialTime),\n",
    "    \"seconds\")\n",
    " \n",
    "# capturing time before the multiplication of Numpy arrays\n",
    "initialTime = time.time()\n",
    " \n",
    "# multiplying elements of both the Numpy arrays and stored in another Numpy array\n",
    "resultantArray = array1 * array2\n",
    "#np.dot(array1,array2)\n",
    "#np.multiply(array1,array2)\n",
    " \n",
    "# calculating execution time\n",
    "print(\"Time taken by NumPy Arrays to perform multiplication:\",\n",
    "    (time.time() - initialTime),\n",
    "    \"seconds\")"
   ]
  },
  {
   "cell_type": "code",
   "execution_count": 3,
   "id": "2754eecb-c15f-454c-8ea1-d8bb4f5f8474",
   "metadata": {},
   "outputs": [
    {
     "name": "stdout",
     "output_type": "stream",
     "text": [
      "Lists don't support list + int\n",
      "Modified Numpy array:  [5 6 7]\n"
     ]
    }
   ],
   "source": [
    "# importing Numpy package\n",
    "import numpy as np\n",
    " \n",
    "# declaring a list\n",
    "ls =[1, 2, 3]\n",
    " \n",
    "# converting the list into a Numpy array\n",
    "arr = np.array(ls)\n",
    " \n",
    "try:\n",
    "    # adding 4 to each element of list\n",
    "    ls = ls + 4\n",
    "     \n",
    "except(TypeError):\n",
    "    print(\"Lists don't support list + int\")\n",
    " \n",
    "# now on array\n",
    "try:\n",
    "    # adding 4 to each element of Numpy array\n",
    "    arr = arr + 4\n",
    " \n",
    "    # printing the Numpy array\n",
    "    print(\"Modified Numpy array: \",arr)\n",
    "     \n",
    "except(TypeError):\n",
    "    print(\"Numpy arrays don't support list + int\")\n"
   ]
  },
  {
   "cell_type": "markdown",
   "id": "8fe3cb6c-d103-437e-a2be-65d5d3a38cde",
   "metadata": {},
   "source": [
    "#### Advantages of using Numpy Arrays Over Python Lists:\n",
    "\n",
    "    - Consumes less memory.\n",
    "    - Fast as compared to the python List.\n",
    "    - Convenient to use."
   ]
  },
  {
   "cell_type": "code",
   "execution_count": null,
   "id": "2971d9ea-1323-46f1-9aaf-8628a45a363c",
   "metadata": {},
   "outputs": [],
   "source": []
  }
 ],
 "metadata": {
  "kernelspec": {
   "display_name": "Python 3 (ipykernel)",
   "language": "python",
   "name": "python3"
  },
  "language_info": {
   "codemirror_mode": {
    "name": "ipython",
    "version": 3
   },
   "file_extension": ".py",
   "mimetype": "text/x-python",
   "name": "python",
   "nbconvert_exporter": "python",
   "pygments_lexer": "ipython3",
   "version": "3.9.6"
  }
 },
 "nbformat": 4,
 "nbformat_minor": 5
}
