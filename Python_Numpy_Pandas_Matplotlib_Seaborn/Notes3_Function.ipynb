{
 "cells": [
  {
   "cell_type": "code",
   "execution_count": null,
   "id": "50f7a8cb-ed86-4954-89ca-efd7e290b07a",
   "metadata": {},
   "outputs": [],
   "source": [
    "# Function : Reusable code"
   ]
  },
  {
   "cell_type": "code",
   "execution_count": 1,
   "id": "0e583d74-f317-4e48-95a3-7c5eb2c3d549",
   "metadata": {},
   "outputs": [
    {
     "name": "stdin",
     "output_type": "stream",
     "text": [
      "Enter a integer number:  5\n"
     ]
    },
    {
     "name": "stdout",
     "output_type": "stream",
     "text": [
      "  5 *  1 =     5 \n",
      "  5 *  2 =    10 \n",
      "  5 *  3 =    15 \n",
      "  5 *  4 =    20 \n",
      "  5 *  5 =    25 \n",
      "  5 *  6 =    30 \n",
      "  5 *  7 =    35 \n",
      "  5 *  8 =    40 \n",
      "  5 *  9 =    45 \n",
      "  5 * 10 =    50 \n"
     ]
    }
   ],
   "source": [
    "number = int(input(\"Enter a integer number: \"))\n",
    "for i in range(1,11):\n",
    "    print(f\"{number:>3} * {i:>2} = {number*i:>5} \")"
   ]
  },
  {
   "cell_type": "code",
   "execution_count": 5,
   "id": "7013abc8-9ccd-4255-afb9-180ff2ce82f2",
   "metadata": {},
   "outputs": [],
   "source": [
    "# Python language are developed with basic features, Language\n",
    "# many things are kept as seperate, in different files (modules) \n",
    "#to use when it requireed by the programmer\n",
    "#python3\n",
    "#import ModuleName\n",
    "\n",
    "# examples\n",
    "import sys\n",
    "import os\n",
    "import math"
   ]
  },
  {
   "cell_type": "code",
   "execution_count": null,
   "id": "4b496002-5414-4ce0-89a8-148a35448d87",
   "metadata": {},
   "outputs": [],
   "source": [
    "\"\"\"\n",
    "Write a program which takes input from user as length and width of rectangle\n",
    "and print the Area and Perimeter of rectangle\n",
    "\"\"\""
   ]
  },
  {
   "cell_type": "code",
   "execution_count": null,
   "id": "ec1cff59-b929-4606-90fd-5d8a865f1bf8",
   "metadata": {},
   "outputs": [],
   "source": [
    "length = int(input(\"Enter a integer number: \"))\n",
    "width = int(input(\"Enter a integer number: \"))\n",
    "\n",
    "print(\"*\" * 30)\n",
    "print(f\"Area of Rectangle      : {length*width:5}\") \n",
    "print(f\"Perimeter of Rectangle : {2*(length+width):5}\") \n",
    "print(\"*\" * 30)"
   ]
  },
  {
   "cell_type": "code",
   "execution_count": null,
   "id": "6cd78b1c-7d6e-48b8-be0b-51a59123f865",
   "metadata": {},
   "outputs": [],
   "source": [
    "#Take 30 rectangle length and width and display the Area and it's Perimeter\n",
    "for i in range(30):\n",
    "    length = int(input(\"Enter a integer number: \"))\n",
    "    width = int(input(\"Enter a integer number: \"))\n",
    "\n",
    "    print(\"*\" * 30)\n",
    "    print(f\"Area of Rectangle      : {length*width:5}\") \n",
    "    print(f\"Perimeter of Rectangle : {2*(length+width):5}\") \n",
    "    print(\"*\" * 30)"
   ]
  },
  {
   "cell_type": "code",
   "execution_count": null,
   "id": "e83cd063-db70-431e-a8ef-28a927367041",
   "metadata": {},
   "outputs": [],
   "source": [
    "# Any Programming language: Function are used to declare a reusable code in it, \n",
    "#so we can call the function and get the work done."
   ]
  },
  {
   "cell_type": "code",
   "execution_count": null,
   "id": "a5dd9c88-dc4d-4174-9b27-d6cf67a265d2",
   "metadata": {},
   "outputs": [],
   "source": [
    "# Back Bone : Statement Format of Declaration :Function\n",
    "# def keyword will be used before function_name ( ) :(colon)\n",
    "# (arg1,arg2,arg3........)\n",
    "# statement which u want to display, compute or etc\n",
    "def function_name(arg1,arg2,arg3,...... ):\n",
    "    STATEMENT"
   ]
  },
  {
   "cell_type": "code",
   "execution_count": 1,
   "id": "ad887272-7e4c-4276-88b9-904d1070c847",
   "metadata": {},
   "outputs": [],
   "source": [
    "\"\"\"computeAreaAndPerimeter function takes length and width as input parameter \n",
    "and display Area and Perimeter of the rectnangle\"\"\"\n",
    "# Function Declaration  : def functionname(arg1,arg2....): statments\n",
    "def computeAreaAndPerimeter( length, width ):\n",
    "    print(\"*\" * 30)\n",
    "    print(f\"Area of Rectangle      : {length*width:5}\") \n",
    "    print(f\"Perimeter of Rectangle : {2*(length+width):5}\") \n",
    "    print(\"*\" * 30)"
   ]
  },
  {
   "cell_type": "code",
   "execution_count": 3,
   "id": "6dbc058f-64e3-4467-9107-6d9a10fb9f7a",
   "metadata": {},
   "outputs": [
    {
     "name": "stdout",
     "output_type": "stream",
     "text": [
      "******************************\n",
      "Area of Rectangle      :    50\n",
      "Perimeter of Rectangle :    30\n",
      "******************************\n",
      "******************************\n",
      "Area of Rectangle      :   150\n",
      "Perimeter of Rectangle :    50\n",
      "******************************\n",
      "******************************\n",
      "Area of Rectangle      :   100\n",
      "Perimeter of Rectangle :    50\n",
      "******************************\n",
      "******************************\n",
      "Area of Rectangle      :  1650\n",
      "Perimeter of Rectangle :   670\n",
      "******************************\n"
     ]
    }
   ],
   "source": [
    "# Function Calling :function_name(arg1,arg2)\n",
    "computeAreaAndPerimeter(5,10)\n",
    "computeAreaAndPerimeter(15,10)\n",
    "computeAreaAndPerimeter(5,20)\n",
    "computeAreaAndPerimeter(5,330)"
   ]
  },
  {
   "cell_type": "code",
   "execution_count": null,
   "id": "d8ce6993-8906-4079-9cb6-76f37c044b31",
   "metadata": {},
   "outputs": [],
   "source": [
    "# In-Built Python Function:\n",
    "# len : It is used to compute the length of different data strucutre or data type (string)\n",
    "# range : range is the sequence generator\n",
    "# math module : sqrt function which computers the square root"
   ]
  },
  {
   "cell_type": "code",
   "execution_count": 4,
   "id": "25bf53a3-e0e4-4b04-b5cf-397136a0bf6b",
   "metadata": {},
   "outputs": [
    {
     "data": {
      "text/plain": [
       "11"
      ]
     },
     "execution_count": 4,
     "metadata": {},
     "output_type": "execute_result"
    }
   ],
   "source": [
    "len(\"Hello World\")"
   ]
  },
  {
   "cell_type": "code",
   "execution_count": 5,
   "id": "8245c58e-ac31-4ed2-b63a-e9f8a888c91d",
   "metadata": {},
   "outputs": [],
   "source": [
    "# function declaration :\n",
    "def say_hello():\n",
    "    # block belonging to the function\n",
    "    print('hello world')"
   ]
  },
  {
   "cell_type": "code",
   "execution_count": 7,
   "id": "ad6caa86-955e-4fe5-af7f-d5a20a157294",
   "metadata": {},
   "outputs": [
    {
     "name": "stdout",
     "output_type": "stream",
     "text": [
      "hello world\n",
      "hello world\n",
      "hello world\n"
     ]
    }
   ],
   "source": [
    "# call the function\n",
    "say_hello()\n",
    "say_hello()\n",
    "say_hello()"
   ]
  },
  {
   "cell_type": "code",
   "execution_count": 8,
   "id": "138a61cb-a993-43ce-ab57-e15c603303f6",
   "metadata": {},
   "outputs": [],
   "source": [
    "# print_max function declaration which takes two arguments : a and b\n",
    "def print_max(a, b):\n",
    "    if a > b:\n",
    "        print(a, 'is maximum')\n",
    "    elif a == b:\n",
    "        print(a, 'is equal to', b)\n",
    "    else:\n",
    "        print(b, 'is maximum')"
   ]
  },
  {
   "cell_type": "code",
   "execution_count": 5,
   "id": "fd38f07a-4fd7-4142-b1f5-70911bcf5261",
   "metadata": {},
   "outputs": [],
   "source": [
    "def print_max1(a, b=9):\n",
    "    if a > b:\n",
    "        print(a, 'is maximum')\n",
    "    elif a == b:\n",
    "        print(a, 'is equal to', b)\n",
    "    else:\n",
    "        print(b, 'is maximum')"
   ]
  },
  {
   "cell_type": "code",
   "execution_count": 11,
   "id": "6c5efd0f-e607-40b6-8a10-e740a80b10ce",
   "metadata": {},
   "outputs": [
    {
     "name": "stdout",
     "output_type": "stream",
     "text": [
      "9 is maximum\n",
      "5 is maximum\n",
      "4 is maximum\n",
      "23 is maximum\n"
     ]
    }
   ],
   "source": [
    "print_max1(5) # Position argument\n",
    "print_max1(5,2) #Position argument, first arugment a, and second argument to b\n",
    "print_max1(a=3,b=4)   # Keyword argument, not position argument\n",
    "print_max1(b=4,a=23)"
   ]
  },
  {
   "cell_type": "code",
   "execution_count": 10,
   "id": "fcd6b967-8f57-429f-b1c6-4beee5897fb2",
   "metadata": {},
   "outputs": [
    {
     "name": "stdout",
     "output_type": "stream",
     "text": [
      "34 is maximum\n",
      "11 is maximum\n",
      "34 is equal to 34\n"
     ]
    }
   ],
   "source": [
    "print_max(34, 12)\n",
    "print_max(3, 11)\n",
    "print_max(34, 34)"
   ]
  },
  {
   "cell_type": "code",
   "execution_count": 13,
   "id": "c9016844-1de6-440c-a644-925735d37547",
   "metadata": {},
   "outputs": [
    {
     "name": "stdout",
     "output_type": "stream",
     "text": [
      "5\n",
      "34\n",
      "5\n"
     ]
    }
   ],
   "source": [
    "# global variable \n",
    "x = 5\n",
    "\n",
    "def hello(x):\n",
    "    print(x)\n",
    "    x = 34\n",
    "    print(x)\n",
    "\n",
    "hello(x)\n",
    "print(x)"
   ]
  },
  {
   "cell_type": "code",
   "execution_count": 1,
   "id": "255f3b0d-d1d6-48f5-9154-fb4a2bb3ee73",
   "metadata": {},
   "outputs": [
    {
     "ename": "UnboundLocalError",
     "evalue": "local variable 'x' referenced before assignment",
     "output_type": "error",
     "traceback": [
      "\u001b[0;31m---------------------------------------------------------------------------\u001b[0m",
      "\u001b[0;31mUnboundLocalError\u001b[0m                         Traceback (most recent call last)",
      "Cell \u001b[0;32mIn[1], line 12\u001b[0m\n\u001b[1;32m      9\u001b[0m     x \u001b[38;5;241m=\u001b[39m \u001b[38;5;241m54\u001b[39m\n\u001b[1;32m     10\u001b[0m     \u001b[38;5;28mprint\u001b[39m(x)\n\u001b[0;32m---> 12\u001b[0m \u001b[43mhello\u001b[49m\u001b[43m(\u001b[49m\u001b[43m)\u001b[49m\n\u001b[1;32m     13\u001b[0m \u001b[38;5;28mprint\u001b[39m(x)\n",
      "Cell \u001b[0;32mIn[1], line 8\u001b[0m, in \u001b[0;36mhello\u001b[0;34m()\u001b[0m\n\u001b[1;32m      6\u001b[0m \u001b[38;5;28;01mdef\u001b[39;00m \u001b[38;5;21mhello\u001b[39m():\n\u001b[1;32m      7\u001b[0m     \u001b[38;5;66;03m#global x\u001b[39;00m\n\u001b[0;32m----> 8\u001b[0m     \u001b[38;5;28mprint\u001b[39m(\u001b[43mx\u001b[49m)\n\u001b[1;32m      9\u001b[0m     x \u001b[38;5;241m=\u001b[39m \u001b[38;5;241m54\u001b[39m\n\u001b[1;32m     10\u001b[0m     \u001b[38;5;28mprint\u001b[39m(x)\n",
      "\u001b[0;31mUnboundLocalError\u001b[0m: local variable 'x' referenced before assignment"
     ]
    }
   ],
   "source": [
    "# Keyword : global keyword\n",
    "\n",
    "# global variable \n",
    "x = 5\n",
    "\n",
    "\n",
    "Pointer is the variable which can store the memory address. \n",
    "\n",
    "def hello():\n",
    "    global x\n",
    "    ptr\n",
    "    print(x)\n",
    "    x = 54\n",
    "    print(x)\n",
    "\n",
    "hello()\n",
    "print(x)"
   ]
  },
  {
   "cell_type": "markdown",
   "id": "89cf5afb-ff39-4107-8332-f083cc5bfdc5",
   "metadata": {},
   "source": [
    "### Local Variables : Scope of the Variable"
   ]
  },
  {
   "cell_type": "code",
   "execution_count": 40,
   "id": "1bcea17d-3de6-42b2-b570-8b01675875ae",
   "metadata": {},
   "outputs": [
    {
     "name": "stdout",
     "output_type": "stream",
     "text": [
      "Before Function Calling : ABCDEFG\n",
      "ABCDEFG\n",
      "XYZ\n",
      "45\n",
      "34\n",
      "After Function Calling : ABCDEFG\n"
     ]
    },
    {
     "ename": "NameError",
     "evalue": "name 'a' is not defined",
     "output_type": "error",
     "traceback": [
      "\u001b[0;31m---------------------------------------------------------------------------\u001b[0m",
      "\u001b[0;31mNameError\u001b[0m                                 Traceback (most recent call last)",
      "Cell \u001b[0;32mIn[40], line 16\u001b[0m\n\u001b[1;32m     14\u001b[0m name(str1)\n\u001b[1;32m     15\u001b[0m \u001b[38;5;28mprint\u001b[39m(\u001b[38;5;124mf\u001b[39m\u001b[38;5;124m\"\u001b[39m\u001b[38;5;124mAfter Function Calling : \u001b[39m\u001b[38;5;132;01m{\u001b[39;00mstr1\u001b[38;5;132;01m}\u001b[39;00m\u001b[38;5;124m\"\u001b[39m)\n\u001b[0;32m---> 16\u001b[0m \u001b[38;5;28mprint\u001b[39m(\u001b[43ma\u001b[49m)\n",
      "\u001b[0;31mNameError\u001b[0m: name 'a' is not defined"
     ]
    }
   ],
   "source": [
    "def name(str1):\n",
    "    a=45\n",
    "    b=34\n",
    "    print(str1)\n",
    "    # create or reassign a value inside function, it is declare variable as local \n",
    "    str1 = \"XYZ\"\n",
    "    print(str1)\n",
    "    print(a)\n",
    "    print(b)\n",
    "\n",
    "str1 = \"ABCDEFG\"\n",
    "print(f\"Before Function Calling : {str1}\")\n",
    "\n",
    "name(str1)\n",
    "print(f\"After Function Calling : {str1}\")\n",
    "print(a)"
   ]
  },
  {
   "cell_type": "code",
   "execution_count": 45,
   "id": "c762f33a-eaa8-4bb0-a3d8-42317230e196",
   "metadata": {},
   "outputs": [
    {
     "name": "stdout",
     "output_type": "stream",
     "text": [
      "Before Function Calling : ABCDEFG\n",
      "ABCDEFG\n",
      "XYZ\n",
      "After Function Calling : XYZ\n"
     ]
    }
   ],
   "source": [
    "# If we want to update a global variable inside function, \n",
    "# we need to use global keyword with variable name inside function\n",
    "\n",
    "\n",
    "def name():   \n",
    "    global str1\n",
    "    print(str1)\n",
    "    # create or reassign a value inside function, it is declare variable as local \n",
    "    str1 = \"XYZ\"\n",
    "    print(str1)\n",
    "\n",
    "str1 = \"ABCDEFG\"\n",
    "print(f\"Before Function Calling : {str1}\")\n",
    "\n",
    "name()\n",
    "\n",
    "print(f\"After Function Calling : {str1}\")"
   ]
  },
  {
   "cell_type": "code",
   "execution_count": 11,
   "id": "133a9315-2266-4f02-9685-f5e6bb04b4e3",
   "metadata": {},
   "outputs": [
    {
     "name": "stdout",
     "output_type": "stream",
     "text": [
      "x is 50\n",
      "Changed local x to 2\n",
      "x is still 50\n"
     ]
    }
   ],
   "source": [
    "# Global Variable (If some variable is declared outside the function, you can call them global)\n",
    "x = 50\n",
    "\n",
    "def func(x):\n",
    "    \n",
    "    print('x is', x)\n",
    "    \n",
    "    # local variable which exists with in function\n",
    "    x = 2\n",
    "    \n",
    "    print('Changed local x to', x)\n",
    "\n",
    "# calling the function\n",
    "func(x)\n",
    "\n",
    "# printing the x value\n",
    "print('x is still', x)"
   ]
  },
  {
   "cell_type": "markdown",
   "id": "dec5d89d-38a0-4853-a682-196ecea8d0ea",
   "metadata": {},
   "source": [
    "### Update the Global Variable (global statement)"
   ]
  },
  {
   "cell_type": "code",
   "execution_count": 17,
   "id": "5f8c6562-412f-41e8-98b6-7b5ed692076f",
   "metadata": {},
   "outputs": [
    {
     "name": "stdout",
     "output_type": "stream",
     "text": [
      "x is 50\n",
      "Changed global x to 2\n",
      "x is changed 2\n"
     ]
    }
   ],
   "source": [
    "# Global Variable (If some variable is declared outside the function, you can call them global)\n",
    "x = 50\n",
    "\n",
    "def func():\n",
    "\n",
    "    global x \n",
    "    \n",
    "    print('x is', x)\n",
    "\n",
    "    # x variable will be treated as global variable\n",
    "    x = 2\n",
    "    \n",
    "    print('Changed global x to', x)\n",
    "\n",
    "# calling the function\n",
    "func()\n",
    "\n",
    "# printing the x value\n",
    "print('x is changed', x)"
   ]
  },
  {
   "cell_type": "markdown",
   "id": "98b0f58f-5a39-46a8-af94-e86c3f371a88",
   "metadata": {},
   "source": [
    "### **Default Argument Values**\n",
    "if you want to assign any default value to function arguments, u can write it this\n",
    "def function_name(arg1=value1,arg2=value2,arg3=value3,name=\"XYZ\",...... ):\n",
    "    pass"
   ]
  },
  {
   "cell_type": "code",
   "execution_count": 29,
   "id": "3f279ed7-dd6d-4552-af7b-c317acc0f301",
   "metadata": {},
   "outputs": [],
   "source": [
    "def computeAreaAndPerimeter(length, width = 30):\n",
    "    print(\"*\" * 30)\n",
    "    print(f\"Area of Rectangle      : {length*width:5}\") \n",
    "    print(f\"Perimeter of Rectangle : {2*(length+width):5}\") \n",
    "    print(\"*\" * 30)"
   ]
  },
  {
   "cell_type": "code",
   "execution_count": 31,
   "id": "c7bd478b-2cbe-4e5b-8cf6-b85110f09432",
   "metadata": {},
   "outputs": [
    {
     "name": "stdout",
     "output_type": "stream",
     "text": [
      "******************************\n",
      "Area of Rectangle      :  1020\n",
      "Perimeter of Rectangle :   128\n",
      "******************************\n"
     ]
    }
   ],
   "source": [
    "computeAreaAndPerimeter(34)"
   ]
  },
  {
   "cell_type": "code",
   "execution_count": 32,
   "id": "cfe8930b-159a-4f2b-98fd-ed88b1114388",
   "metadata": {},
   "outputs": [
    {
     "ename": "SyntaxError",
     "evalue": "non-default argument follows default argument (2310644163.py, line 1)",
     "output_type": "error",
     "traceback": [
      "\u001b[0;36m  Cell \u001b[0;32mIn[32], line 1\u001b[0;36m\u001b[0m\n\u001b[0;31m    def say(message='hello', times):\u001b[0m\n\u001b[0m                             ^\u001b[0m\n\u001b[0;31mSyntaxError\u001b[0m\u001b[0;31m:\u001b[0m non-default argument follows default argument\n"
     ]
    }
   ],
   "source": [
    "def say(message='hello', times):\n",
    "    print(message * times)\n",
    "\n",
    "say('Hello')\n",
    "say('World', 5)"
   ]
  },
  {
   "cell_type": "code",
   "execution_count": 33,
   "id": "57c2d631-1e44-4ed6-a577-603012538c41",
   "metadata": {},
   "outputs": [
    {
     "name": "stdout",
     "output_type": "stream",
     "text": [
      "Hello\n",
      "WorldWorldWorldWorldWorld\n"
     ]
    }
   ],
   "source": [
    "def say(message='hello', times=1):\n",
    "    print(message * times)\n",
    "\n",
    "say('Hello')\n",
    "say('World', 5)"
   ]
  },
  {
   "cell_type": "code",
   "execution_count": null,
   "id": "ff0f3c0e-299b-4197-9c47-c6381b8cf35f",
   "metadata": {},
   "outputs": [],
   "source": [
    "def say(message, times=34):\n",
    "    print(message * times)\n",
    "\n",
    "say('Hello')\n",
    "say('World', 5)"
   ]
  },
  {
   "cell_type": "markdown",
   "id": "00a7c382-2456-442a-89a7-655371eec9a1",
   "metadata": {},
   "source": [
    "### **Keyword Arguments**"
   ]
  },
  {
   "cell_type": "code",
   "execution_count": 35,
   "id": "14fcc5d3-eacd-40b7-8b7b-136926cfcbfb",
   "metadata": {},
   "outputs": [],
   "source": [
    "def func(a, b=5, c=10):\n",
    "    print('a is', a, 'and b is', b, 'and c is', c)"
   ]
  },
  {
   "cell_type": "code",
   "execution_count": 36,
   "id": "f993c6c1-58ba-4d61-b40b-e4e898f2e55a",
   "metadata": {},
   "outputs": [
    {
     "name": "stdout",
     "output_type": "stream",
     "text": [
      "a is 3 and b is 7 and c is 10\n"
     ]
    }
   ],
   "source": [
    "func(3, 7)"
   ]
  },
  {
   "cell_type": "code",
   "execution_count": 37,
   "id": "f547d3ae-2427-48e0-a08e-f74cc7bd7f4a",
   "metadata": {},
   "outputs": [
    {
     "name": "stdout",
     "output_type": "stream",
     "text": [
      "a is 25 and b is 5 and c is 24\n"
     ]
    }
   ],
   "source": [
    "# Keyword Arguments :\n",
    "func(25, c=24)"
   ]
  },
  {
   "cell_type": "code",
   "execution_count": 38,
   "id": "8b36c53f-deb1-4ce0-8b0e-73be8c5d6392",
   "metadata": {},
   "outputs": [
    {
     "name": "stdout",
     "output_type": "stream",
     "text": [
      "a is 100 and b is 5 and c is 50\n"
     ]
    }
   ],
   "source": [
    "# Keyword Arguments :\n",
    "func(c=50, a=100)"
   ]
  },
  {
   "cell_type": "code",
   "execution_count": 39,
   "id": "1f45677a-78b9-493d-80d7-7ea4581cad41",
   "metadata": {},
   "outputs": [
    {
     "name": "stdout",
     "output_type": "stream",
     "text": [
      "a is 10 and b is 100 and c is 5\n"
     ]
    }
   ],
   "source": [
    "func(c=5, b=100, a= 10)"
   ]
  },
  {
   "cell_type": "code",
   "execution_count": 44,
   "id": "fbd013d1-0ccb-492d-bd13-d5b7b0a87fd3",
   "metadata": {},
   "outputs": [],
   "source": [
    "#help(range)"
   ]
  },
  {
   "cell_type": "code",
   "execution_count": 45,
   "id": "13fb24cd-f73a-4cff-9063-c7a90f33aec8",
   "metadata": {},
   "outputs": [
    {
     "ename": "SyntaxError",
     "evalue": "invalid syntax (648868493.py, line 2)",
     "output_type": "error",
     "traceback": [
      "\u001b[0;36m  Cell \u001b[0;32mIn[45], line 2\u001b[0;36m\u001b[0m\n\u001b[0;31m    def function(Any number of arugment):\u001b[0m\n\u001b[0m                     ^\u001b[0m\n\u001b[0;31mSyntaxError\u001b[0m\u001b[0;31m:\u001b[0m invalid syntax\n"
     ]
    }
   ],
   "source": [
    "# VarArgs parameters  \n",
    "def function(Any number of arugment):\n",
    "    print(10)"
   ]
  },
  {
   "cell_type": "code",
   "execution_count": null,
   "id": "4f3d1f33-26b6-4746-95a9-cffff2b2e134",
   "metadata": {},
   "outputs": [],
   "source": [
    "## Future Class : "
   ]
  },
  {
   "cell_type": "code",
   "execution_count": null,
   "id": "1e744670-d152-4be8-82c5-d8fd04511ed6",
   "metadata": {},
   "outputs": [],
   "source": [
    "## Teach you the Data Structure :  List, Tuple, Dictionary and Sets\n",
    "def total(a=5, *numbers, **phonebook):\n",
    "    print('a', a)\n",
    "\n",
    "    #iterate through all the items in tuple\n",
    "    for single_item in numbers:\n",
    "        print('single_item', single_item)\n",
    "\n",
    "    #iterate through all the items in dictionary    \n",
    "    for first_part, second_part in phonebook.items():\n",
    "        print(first_part,second_part)"
   ]
  },
  {
   "cell_type": "code",
   "execution_count": null,
   "id": "dbfbb16a-2617-43b4-9c04-f0a43f2a5e32",
   "metadata": {},
   "outputs": [],
   "source": [
    "#total(10,1,2,3,Jack=1123,John=2231,Inge=1560)"
   ]
  },
  {
   "cell_type": "code",
   "execution_count": 31,
   "id": "17f9416e-f06e-4fc6-9376-df437a5a92c1",
   "metadata": {},
   "outputs": [],
   "source": [
    "import math\n",
    "\n",
    "def printInfo(number,result=5):\n",
    "\n",
    "\n",
    "    \"\"\"printInfo is delcared here\"\"\"\n",
    "    # f-string\n",
    "    print(f\"Square root of the number : {math.sqrt(number):0.3f}\")\n",
    "    print(f\"Square of the number      : {number ** 2 }\")\n",
    "    print(f\"Cube of the number        : {number ** 3 }\")\n",
    "    print(f\"Result                    : {result}\")"
   ]
  },
  {
   "cell_type": "code",
   "execution_count": 32,
   "id": "30c06051-4ed4-4446-80f1-cbed92af8c5d",
   "metadata": {},
   "outputs": [
    {
     "name": "stdout",
     "output_type": "stream",
     "text": [
      "Square root of the number : 6.633\n",
      "Square of the number      : 1936\n",
      "Cube of the number        : 85184\n",
      "Result                    : 5\n"
     ]
    }
   ],
   "source": [
    "#Calling the function\n",
    "printInfo(44)"
   ]
  },
  {
   "cell_type": "code",
   "execution_count": 33,
   "id": "47e6d6be-7d27-4b59-a05d-1eed0bce9267",
   "metadata": {},
   "outputs": [
    {
     "name": "stdout",
     "output_type": "stream",
     "text": [
      "Square root of the number : 6.633\n",
      "Square of the number      : 1936\n",
      "Cube of the number        : 85184\n",
      "Result                    : 65\n"
     ]
    }
   ],
   "source": [
    "printInfo(44,65)"
   ]
  },
  {
   "cell_type": "code",
   "execution_count": 35,
   "id": "2d1a44bd-fa37-4099-bb23-fca751b1119b",
   "metadata": {},
   "outputs": [
    {
     "name": "stdout",
     "output_type": "stream",
     "text": [
      "Square root of the number : 2.000\n",
      "Square of the number      : 16\n",
      "Cube of the number        : 64\n",
      "Result                    : 85\n"
     ]
    }
   ],
   "source": [
    "printInfo(number=4,result=85)"
   ]
  },
  {
   "cell_type": "code",
   "execution_count": 50,
   "id": "aff08fa7-4eb5-4616-898d-2c7a6dcac435",
   "metadata": {},
   "outputs": [],
   "source": [
    "def add(a,b):\n",
    "    return a + b"
   ]
  },
  {
   "cell_type": "code",
   "execution_count": 51,
   "id": "9d37b162-4119-43ed-9b73-f0e88f411e75",
   "metadata": {},
   "outputs": [
    {
     "data": {
      "text/plain": [
       "180"
      ]
     },
     "execution_count": 51,
     "metadata": {},
     "output_type": "execute_result"
    }
   ],
   "source": [
    "add(56,124)"
   ]
  },
  {
   "cell_type": "code",
   "execution_count": 52,
   "id": "92ba1410-1b1a-4d08-a5a0-c90edbdbaca4",
   "metadata": {},
   "outputs": [],
   "source": [
    "# Lambda function  is like doing complex things by single like statement \n",
    "# using lambda keyword to build the functionally"
   ]
  },
  {
   "cell_type": "code",
   "execution_count": null,
   "id": "04958388-41e8-4beb-9734-e555b3d687c7",
   "metadata": {},
   "outputs": [],
   "source": [
    "https://www.w3schools.com/python/python_lambda.asp"
   ]
  },
  {
   "cell_type": "code",
   "execution_count": 53,
   "id": "78b7965b-aa9e-475c-b123-08cb8977a92b",
   "metadata": {},
   "outputs": [],
   "source": [
    "add1 = lambda x, y : x+y"
   ]
  },
  {
   "cell_type": "code",
   "execution_count": 54,
   "id": "ed6fb616-de97-41c1-983e-8de03dc348e5",
   "metadata": {},
   "outputs": [
    {
     "data": {
      "text/plain": [
       "180"
      ]
     },
     "execution_count": 54,
     "metadata": {},
     "output_type": "execute_result"
    }
   ],
   "source": [
    "add1(56,124)"
   ]
  },
  {
   "cell_type": "code",
   "execution_count": 55,
   "id": "f1930c04-ae7b-4992-b00f-60bec943b7f1",
   "metadata": {},
   "outputs": [],
   "source": [
    "mult = lambda w,x,y,z : w *x + y / z"
   ]
  },
  {
   "cell_type": "code",
   "execution_count": 56,
   "id": "f4afb8d6-23f6-4c68-9b3b-57b1c8e200f8",
   "metadata": {},
   "outputs": [
    {
     "data": {
      "text/plain": [
       "16.0"
      ]
     },
     "execution_count": 56,
     "metadata": {},
     "output_type": "execute_result"
    }
   ],
   "source": [
    "mult(3,4,8,2)"
   ]
  },
  {
   "cell_type": "markdown",
   "id": "df16c93e-9833-4549-b82b-b45a6e32a955",
   "metadata": {},
   "source": [
    "#### VarArgs parameters\n",
    "Function where number are arguments are dynamic\n"
   ]
  },
  {
   "cell_type": "code",
   "execution_count": 10,
   "id": "34eb1192-8ea7-4820-9033-645a8071792b",
   "metadata": {},
   "outputs": [],
   "source": [
    "def myPrint(name=\"ABCD\", *numbers, **phonebook):\n",
    "    # *numbers : is the tuple\n",
    "    # **phonebook : is the dictionary\n",
    "    print(f'Name : {name}')\n",
    "\n",
    "    print(type(numbers))\n",
    "    \n",
    "    #iterate through all the items in tuple\n",
    "    for element in numbers:\n",
    "        print(f'Tuple Values : {element}')\n",
    "\n",
    "    #iterate through all the items in dictionary    \n",
    "    for key, value in phonebook.items():\n",
    "        print(f'{key} : {value}')"
   ]
  },
  {
   "cell_type": "code",
   "execution_count": 14,
   "id": "45ef0d4a-6da3-4c4f-8655-46a25f8c3944",
   "metadata": {},
   "outputs": [
    {
     "name": "stdout",
     "output_type": "stream",
     "text": [
      "Name : 10\n",
      "<class 'tuple'>\n",
      "Tuple Values : 1\n",
      "Tuple Values : 2\n",
      "Tuple Values : 3\n",
      "Tuple Values : 345\n",
      "Tuple Values : 435\n",
      "Tuple Values : 4\n",
      "Tuple Values : 45\n",
      "Tuple Values : 45\n",
      "Tuple Values : 45\n",
      "Tuple Values : 45\n",
      "Tuple Values : 454\n",
      "Tuple Values : 54\n",
      "Tuple Values : 54\n",
      "Tuple Values : 4\n",
      "Tuple Values : 6345\n",
      "Tuple Values : 54\n",
      "Tuple Values : 5\n",
      "Tuple Values : 4\n",
      "Tuple Values : 5435\n",
      "Tuple Values : 35435454545\n",
      "Tuple Values : 45\n",
      "Tuple Values : 4545\n",
      "ABCD : 53\n",
      "John : 23\n"
     ]
    }
   ],
   "source": [
    "myPrint(10,1,2,3,345,435,4,45,45,45,45,454,54,54,4,6345,54,5,4,5435,35435454545,45,4545,ABCD=53,John=23)"
   ]
  },
  {
   "cell_type": "code",
   "execution_count": 15,
   "id": "6b30936b-50af-4973-ad7d-b820a0526206",
   "metadata": {},
   "outputs": [],
   "source": [
    "def myPrint(name=\"ABCD\", *numbers):\n",
    "    # *numbers : is the tuple\n",
    "    # **phonebook : is the dictionary\n",
    "    print(f'Name : {name}')\n",
    "\n",
    "    print(type(numbers))\n",
    "    \n",
    "    #iterate through all the items in tuple\n",
    "    for element in numbers:\n",
    "        print(f'Tuple Values : {element}')"
   ]
  },
  {
   "cell_type": "code",
   "execution_count": 17,
   "id": "964c7df8-f77a-4a02-bd8e-b0b4c6fc08d9",
   "metadata": {},
   "outputs": [
    {
     "name": "stdout",
     "output_type": "stream",
     "text": [
      "Name : 10\n",
      "<class 'tuple'>\n",
      "Tuple Values : 1\n",
      "Tuple Values : 2\n",
      "Tuple Values : 3\n",
      "Tuple Values : 345\n",
      "Tuple Values : 435\n",
      "Tuple Values : 4\n",
      "Tuple Values : 45\n",
      "Tuple Values : 45\n",
      "Tuple Values : 45\n",
      "Tuple Values : 45\n",
      "Tuple Values : 454\n",
      "Tuple Values : 54\n",
      "Tuple Values : 54\n",
      "Tuple Values : 4\n",
      "Tuple Values : 6345\n",
      "Tuple Values : 54\n",
      "Tuple Values : 5\n",
      "Tuple Values : 4\n",
      "Tuple Values : 5435\n",
      "Tuple Values : 35435454545\n",
      "Tuple Values : 45\n",
      "Tuple Values : 4545\n",
      "Tuple Values : 334\n",
      "Tuple Values : 34\n",
      "Tuple Values : 34\n"
     ]
    }
   ],
   "source": [
    "myPrint(10,1,2,3,345,435,4,45,45,45,45,454,54,54,4,6345,54,5,4,5435,35435454545,45,4545,334,34,34)"
   ]
  },
  {
   "cell_type": "code",
   "execution_count": 28,
   "id": "2c17c1b4-e95f-4884-92f8-c8c694da8bc1",
   "metadata": {},
   "outputs": [],
   "source": [
    "# Declaration of summation fucntion in one line whihc takes 4  argument\n",
    "#FunctionName =  lambda var1,var2,var3 : var1 + var2 * var3\n",
    "summation = lambda a,b,c,d : a + b + c +d"
   ]
  },
  {
   "cell_type": "code",
   "execution_count": 29,
   "id": "d7cf02dd-fffa-4934-80c2-000bcc75cc83",
   "metadata": {},
   "outputs": [
    {
     "data": {
      "text/plain": [
       "17"
      ]
     },
     "execution_count": 29,
     "metadata": {},
     "output_type": "execute_result"
    }
   ],
   "source": [
    "summation(2,5,7,3)"
   ]
  },
  {
   "cell_type": "code",
   "execution_count": 34,
   "id": "63160af8-ce84-4412-b695-eb35a53dae94",
   "metadata": {},
   "outputs": [],
   "source": [
    "d = { \"Yaasar\" : 23, \"Anjali\" : 34, \"Sanjay\" : 64  }"
   ]
  },
  {
   "cell_type": "code",
   "execution_count": 36,
   "id": "99e0d65d-8cae-4c1f-a2c8-f37b23880338",
   "metadata": {},
   "outputs": [
    {
     "name": "stdout",
     "output_type": "stream",
     "text": [
      "Help on built-in function sorted in module builtins:\n",
      "\n",
      "sorted(iterable, /, *, key=None, reverse=False)\n",
      "    Return a new list containing all items from the iterable in ascending order.\n",
      "    \n",
      "    A custom key function can be supplied to customize the sort order, and the\n",
      "    reverse flag can be set to request the result in descending order.\n",
      "\n"
     ]
    }
   ],
   "source": [
    "help(sorted)"
   ]
  },
  {
   "cell_type": "code",
   "execution_count": 51,
   "id": "407cd76d-1e27-40d2-9d3c-ed0fe81b0268",
   "metadata": {},
   "outputs": [
    {
     "name": "stdout",
     "output_type": "stream",
     "text": [
      "Sanjay : 64\n",
      "Anjali : 34\n",
      "Yaasar : 23\n"
     ]
    }
   ],
   "source": [
    "for name, age in sorted(d.items(), key = lambda x : x[1],reverse=True):\n",
    "    print(f'{name} : {age}')"
   ]
  },
  {
   "cell_type": "code",
   "execution_count": 48,
   "id": "93bb1d71-4b29-425b-9ded-7ada9df7fb99",
   "metadata": {},
   "outputs": [
    {
     "data": {
      "text/plain": [
       "dict_items([('Yaasar', 23), ('Anjali', 34), ('Sanjay', 64)])"
      ]
     },
     "execution_count": 48,
     "metadata": {},
     "output_type": "execute_result"
    }
   ],
   "source": [
    "d.items()"
   ]
  },
  {
   "cell_type": "code",
   "execution_count": 41,
   "id": "0572e566-da31-48b1-8e67-735f327bedfc",
   "metadata": {},
   "outputs": [],
   "source": [
    "#help(d)"
   ]
  },
  {
   "cell_type": "code",
   "execution_count": 42,
   "id": "07ecf66e-5dd4-48d7-9505-4965c84433b8",
   "metadata": {},
   "outputs": [],
   "source": [
    "# Sort the dictionary by the age (Value Wise)"
   ]
  },
  {
   "cell_type": "code",
   "execution_count": 43,
   "id": "f9698540-f39a-4686-8d31-5bf86a8c0ead",
   "metadata": {},
   "outputs": [
    {
     "name": "stdout",
     "output_type": "stream",
     "text": [
      "Anjali : 34\n",
      "Sanjay : 64\n",
      "Yaasar : 23\n"
     ]
    }
   ],
   "source": [
    "# Sort the dictionary by the Name (Key Wise) : Alphabetically\n",
    "for name, age in sorted(d.items()):\n",
    "    print(f'{name} : {age}')"
   ]
  },
  {
   "cell_type": "code",
   "execution_count": 44,
   "id": "806a697e-68d3-4691-bc86-c41fb945ba39",
   "metadata": {},
   "outputs": [
    {
     "name": "stdout",
     "output_type": "stream",
     "text": [
      "Yaasar : 23\n",
      "Sanjay : 64\n",
      "Anjali : 34\n"
     ]
    }
   ],
   "source": [
    "# Sort the dictionary by the Name (Key Wise) : Alphabetically Opposite (Z - A)\n",
    "for name, age in sorted(d.items(),reverse=True):\n",
    "    print(f'{name} : {age}')"
   ]
  },
  {
   "cell_type": "code",
   "execution_count": null,
   "id": "9c01d1e0-d9d5-4c9f-9366-988d6cfa7497",
   "metadata": {},
   "outputs": [],
   "source": []
  }
 ],
 "metadata": {
  "kernelspec": {
   "display_name": "Python 3 (ipykernel)",
   "language": "python",
   "name": "python3"
  },
  "language_info": {
   "codemirror_mode": {
    "name": "ipython",
    "version": 3
   },
   "file_extension": ".py",
   "mimetype": "text/x-python",
   "name": "python",
   "nbconvert_exporter": "python",
   "pygments_lexer": "ipython3",
   "version": "3.10.12"
  }
 },
 "nbformat": 4,
 "nbformat_minor": 5
}
