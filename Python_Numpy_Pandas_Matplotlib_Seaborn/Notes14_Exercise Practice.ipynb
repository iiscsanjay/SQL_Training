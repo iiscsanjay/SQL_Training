{
 "cells": [
  {
   "cell_type": "code",
   "execution_count": 1,
   "id": "eb4f8613-94aa-4803-88f4-ffe44ee7ca98",
   "metadata": {},
   "outputs": [],
   "source": [
    "# Python : we taking the input from users \n",
    "# inbuilt function : input function"
   ]
  },
  {
   "cell_type": "code",
   "execution_count": 2,
   "id": "12f33e74-fb9c-4e73-9666-3b117176dc27",
   "metadata": {},
   "outputs": [
    {
     "name": "stdin",
     "output_type": "stream",
     "text": [
      "Enter the integer value : 45\n"
     ]
    },
    {
     "name": "stdout",
     "output_type": "stream",
     "text": [
      "Input number is 45\n",
      "<class 'str'>\n"
     ]
    }
   ],
   "source": [
    "num1 = input('Enter the integer value :')\n",
    "print(f\"Input number is {num1}\")\n",
    "print(type(num1))\n",
    "\n",
    "# problem with input function, whatever input user enter, it will be always return by\n",
    "#input function as string"
   ]
  },
  {
   "cell_type": "code",
   "execution_count": 3,
   "id": "6237a9f4-8214-4b9e-be5b-5514253efd6e",
   "metadata": {},
   "outputs": [
    {
     "name": "stdin",
     "output_type": "stream",
     "text": [
      "Enter the integer value : 45\n"
     ]
    },
    {
     "name": "stdout",
     "output_type": "stream",
     "text": [
      "Input number is 45\n",
      "<class 'int'>\n"
     ]
    }
   ],
   "source": [
    "# int function is used to convert str class variable to int class variable\n",
    "num1 = int( input('Enter the integer value :') )\n",
    "print(f\"Input number is {num1}\")\n",
    "print(type(num1))\n",
    "# problem with input function, whatever input user enter, it will be always return by\n",
    "#input function as string"
   ]
  },
  {
   "cell_type": "code",
   "execution_count": null,
   "id": "fc73e71d-4a74-4d93-bb65-458fbefa0c95",
   "metadata": {},
   "outputs": [],
   "source": [
    "\"\"\"\n",
    "Prgram : Take input from a user and multiply it by value of 5 and print the result.\n",
    "\"\"\""
   ]
  },
  {
   "cell_type": "code",
   "execution_count": 5,
   "id": "827ded8b-7f67-414a-907f-1f718adfbafd",
   "metadata": {},
   "outputs": [
    {
     "name": "stdin",
     "output_type": "stream",
     "text": [
      "Enter an integer value:  45\n"
     ]
    },
    {
     "name": "stdout",
     "output_type": "stream",
     "text": [
      "Multipication of 45 with 5 is 4545454545\n"
     ]
    }
   ],
   "source": [
    "number = input(\"Enter an integer value: \")\n",
    "result = number * 5\n",
    "print(f\"Multipication of {number} with 5 is {result}\")"
   ]
  },
  {
   "cell_type": "code",
   "execution_count": 6,
   "id": "39d7e761-039e-46c9-903e-70b7305e4b4e",
   "metadata": {},
   "outputs": [
    {
     "data": {
      "text/plain": [
       "str"
      ]
     },
     "execution_count": 6,
     "metadata": {},
     "output_type": "execute_result"
    }
   ],
   "source": [
    "type(number)"
   ]
  },
  {
   "cell_type": "code",
   "execution_count": 7,
   "id": "d1518e47-e0e2-41a9-bb32-fd156d033e7e",
   "metadata": {},
   "outputs": [
    {
     "name": "stdin",
     "output_type": "stream",
     "text": [
      "Enter an integer value:  54\n"
     ]
    },
    {
     "name": "stdout",
     "output_type": "stream",
     "text": [
      "Multipication of 54 with 5 is 270\n"
     ]
    }
   ],
   "source": [
    "number = int(input(\"Enter an integer value: \"))\n",
    "result = number * 5\n",
    "print(f\"Multipication of {number} with 5 is {result}\")"
   ]
  },
  {
   "cell_type": "code",
   "execution_count": 4,
   "id": "e3e6da3b-a24c-483b-b996-b66324e7a735",
   "metadata": {},
   "outputs": [
    {
     "data": {
      "text/plain": [
       "25"
      ]
     },
     "execution_count": 4,
     "metadata": {},
     "output_type": "execute_result"
    }
   ],
   "source": [
    "5 * 5"
   ]
  },
  {
   "cell_type": "code",
   "execution_count": 8,
   "id": "57bd4ff3-6b77-4a86-9083-3b8e33cce3eb",
   "metadata": {},
   "outputs": [
    {
     "name": "stdout",
     "output_type": "stream",
     "text": [
      "125\n"
     ]
    }
   ],
   "source": [
    "a = 25\n",
    "a = a * 5\n",
    "print(a)"
   ]
  },
  {
   "cell_type": "code",
   "execution_count": 9,
   "id": "3c188e0d-e34d-40f0-a74d-933b72a40947",
   "metadata": {},
   "outputs": [
    {
     "name": "stdout",
     "output_type": "stream",
     "text": [
      "125\n"
     ]
    }
   ],
   "source": [
    "a = 25\n",
    "a *= 5  # a = a * 5\n",
    "print(a)"
   ]
  },
  {
   "cell_type": "code",
   "execution_count": 10,
   "id": "4e8dfd53-9ac0-41d5-bd68-2c9f0a31a7ad",
   "metadata": {},
   "outputs": [
    {
     "data": {
      "text/plain": [
       "14"
      ]
     },
     "execution_count": 10,
     "metadata": {},
     "output_type": "execute_result"
    }
   ],
   "source": [
    "#BODMAS \n",
    "2 + 3 * 4"
   ]
  },
  {
   "cell_type": "code",
   "execution_count": null,
   "id": "4353e502-a830-4fbb-96c9-060ef897f827",
   "metadata": {},
   "outputs": [],
   "source": [
    "Solve Mathematical Formula  : BODMAS()"
   ]
  },
  {
   "cell_type": "markdown",
   "id": "63d08c39-59a6-4e4a-9674-6cd4daf14813",
   "metadata": {},
   "source": [
    "## Operator Precedence Table :"
   ]
  },
  {
   "cell_type": "raw",
   "id": "a773f7e4-b175-42b5-9fa8-d7e17474a129",
   "metadata": {},
   "source": [
    "lambda : Lambda Expression\n",
    "if - else : Conditional expression\n",
    "or : Boolean OR\n",
    "and : Boolean AND\n",
    "not x : Boolean NOT\n",
    "in, not in, is, is not, <, <=, >, >=, !=, == : Comparisons, including membership tests and identity tests\n",
    "| : Bitwise OR\n",
    "^ : Bitwise XOR\n",
    "& : Bitwise AND\n",
    "<<, >> : Shifts\n",
    "+, - : Addition and subtraction\n",
    "*, /, //, % : Multiplication, Division, Floor Division and Remainder\n",
    "+x, -x, ~x : Positive, Negative, bitwise NOT\n",
    "** : Exponentiation\n",
    "x[index], x[index:index], x(arguments...), x.attribute : Subscription, slicing, call, attribute reference\n",
    "(expressions...), [expressions...], {key: value...}, {expressions...} : Binding or tuple display, list display, dictionary display, set display"
   ]
  },
  {
   "cell_type": "code",
   "execution_count": null,
   "id": "ea255d8b-c963-453e-b795-550d056c0074",
   "metadata": {},
   "outputs": [],
   "source": [
    "# Mathematics  solving the expression (BODMAS) "
   ]
  },
  {
   "cell_type": "code",
   "execution_count": 11,
   "id": "d1c48674-12d4-4f88-be18-a399726b2f46",
   "metadata": {},
   "outputs": [
    {
     "name": "stdout",
     "output_type": "stream",
     "text": [
      "13\n"
     ]
    }
   ],
   "source": [
    "x = 7 + 3 * 2;\n",
    "print(x)"
   ]
  },
  {
   "cell_type": "code",
   "execution_count": 13,
   "id": "4a80ef84-8573-4b33-befa-6dda1be85fdf",
   "metadata": {},
   "outputs": [],
   "source": [
    "y = 2 ** 5 * 6 /2 + 24 - 2"
   ]
  },
  {
   "cell_type": "code",
   "execution_count": 14,
   "id": "4d275d2e-5eb9-40d8-b60f-e44a3ce4c464",
   "metadata": {},
   "outputs": [
    {
     "name": "stdout",
     "output_type": "stream",
     "text": [
      "118.0\n"
     ]
    }
   ],
   "source": [
    "print(y)"
   ]
  },
  {
   "cell_type": "code",
   "execution_count": null,
   "id": "e0e40bdd-d3f9-4152-a013-0e2085b08ebb",
   "metadata": {},
   "outputs": [],
   "source": [
    "2 ** 5 * 6 /2 + 24 - 2"
   ]
  }
 ],
 "metadata": {
  "kernelspec": {
   "display_name": "Python 3 (ipykernel)",
   "language": "python",
   "name": "python3"
  },
  "language_info": {
   "codemirror_mode": {
    "name": "ipython",
    "version": 3
   },
   "file_extension": ".py",
   "mimetype": "text/x-python",
   "name": "python",
   "nbconvert_exporter": "python",
   "pygments_lexer": "ipython3",
   "version": "3.10.12"
  }
 },
 "nbformat": 4,
 "nbformat_minor": 5
}
