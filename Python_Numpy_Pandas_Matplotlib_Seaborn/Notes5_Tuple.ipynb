{
 "cells": [
  {
   "cell_type": "markdown",
   "id": "47132979-0f93-4492-8d32-e84ed66eeab9",
   "metadata": {},
   "source": [
    "### **Data Structures** :\n",
    "    - List => [] \n",
    "    - Tuple => ()   num1,num2\n",
    "    - Dictionary\n",
    "    - Sets"
   ]
  },
  {
   "cell_type": "markdown",
   "id": "bc63bf71-b00d-4846-92c1-dd85b94a3c79",
   "metadata": {},
   "source": [
    "- How to create a tuple (assign multiple variable with comma seperated and round bracket is optional\n",
    "- Tuple can also be accessable like List and String by Index (Tuple Index out of range)\n",
    "- Iterate a tuple : Iterate by the item, Iterate by Index , Iterate by Enumerate\n",
    "- Count the occurance of a value in tuple (count function)\n",
    "- Index function returns the index of a value else ValueError if the value is not present."
   ]
  },
  {
   "cell_type": "code",
   "execution_count": 13,
   "id": "16ada3f1-f91c-4c7c-b4e1-af73c43c82f4",
   "metadata": {},
   "outputs": [
    {
     "name": "stdout",
     "output_type": "stream",
     "text": [
      "<class 'tuple'>\n",
      "(1, 2, 3, 4, 5)\n",
      "Memory location : 4357217376\n",
      "Accesing by index 0 : 1\n",
      "Accesing by index 1 : 2\n"
     ]
    }
   ],
   "source": [
    "# you can put multiple values together with round bracket (not must)\n",
    "var1 = (1,2,3,4,5)\n",
    "print(type(var1))\n",
    "print(var1)\n",
    "print(f'Memory location : {id(var1)}')\n",
    "print(f\"Accesing by index 0 : {var1[0]}\")\n",
    "print(f\"Accesing by index 1 : {var1[1]}\")"
   ]
  },
  {
   "cell_type": "code",
   "execution_count": 21,
   "id": "435bd60e-397e-41a2-9938-614e61760da9",
   "metadata": {},
   "outputs": [
    {
     "name": "stdout",
     "output_type": "stream",
     "text": [
      "<class 'tuple'>\n",
      "length of the tuple : 1\n",
      "(1,)\n",
      "Accesing by index 0 : 1\n"
     ]
    },
    {
     "ename": "IndexError",
     "evalue": "tuple index out of range",
     "output_type": "error",
     "traceback": [
      "\u001b[0;31m---------------------------------------------------------------------------\u001b[0m",
      "\u001b[0;31mIndexError\u001b[0m                                Traceback (most recent call last)",
      "Cell \u001b[0;32mIn[21], line 7\u001b[0m\n\u001b[1;32m      5\u001b[0m \u001b[38;5;28mprint\u001b[39m(var1)\n\u001b[1;32m      6\u001b[0m \u001b[38;5;28mprint\u001b[39m(\u001b[38;5;124mf\u001b[39m\u001b[38;5;124m\"\u001b[39m\u001b[38;5;124mAccesing by index 0 : \u001b[39m\u001b[38;5;132;01m{\u001b[39;00mvar1[\u001b[38;5;241m0\u001b[39m]\u001b[38;5;132;01m}\u001b[39;00m\u001b[38;5;124m\"\u001b[39m)\n\u001b[0;32m----> 7\u001b[0m \u001b[38;5;28mprint\u001b[39m(\u001b[38;5;124mf\u001b[39m\u001b[38;5;124m\"\u001b[39m\u001b[38;5;124mAccesing by index 1 : \u001b[39m\u001b[38;5;132;01m{\u001b[39;00m\u001b[43mvar1\u001b[49m\u001b[43m[\u001b[49m\u001b[38;5;241;43m1\u001b[39;49m\u001b[43m]\u001b[49m\u001b[38;5;132;01m}\u001b[39;00m\u001b[38;5;124m\"\u001b[39m)\n",
      "\u001b[0;31mIndexError\u001b[0m: tuple index out of range"
     ]
    }
   ],
   "source": [
    "# you can put multiple values together with round bracket (not must)\n",
    "var1 = (1,)\n",
    "print(type(var1))\n",
    "print(f'length of the tuple : {len(var1)}')\n",
    "print(var1)\n",
    "print(f\"Accesing by index 0 : {var1[0]}\")\n",
    "print(f\"Accesing by index 1 : {var1[1]}\")"
   ]
  },
  {
   "cell_type": "code",
   "execution_count": 8,
   "id": "38d0ee3c-a5f2-4c70-9822-73da57c1db40",
   "metadata": {},
   "outputs": [
    {
     "name": "stdout",
     "output_type": "stream",
     "text": [
      "<class 'tuple'>\n",
      "(1, 2, 3, 4, 5)\n"
     ]
    }
   ],
   "source": [
    "# you can put the multiple values without round brackets also\n",
    "var2 = 1, 2, 3, 4, 5\n",
    "print(type(var2))\n",
    "print(var2)"
   ]
  },
  {
   "cell_type": "code",
   "execution_count": null,
   "id": "5c29e6af-e6d3-4ff3-96af-8341f7937fa6",
   "metadata": {},
   "outputs": [],
   "source": [
    "# Immutable ( Once a tuple created, you can't add or remove element from a tuple ), create it once"
   ]
  },
  {
   "cell_type": "markdown",
   "id": "8b156945-2149-4a57-926d-7e3a68bbb077",
   "metadata": {},
   "source": [
    "- Iterate a tuple : Iterate by the item, Iterate by Index , Iterate by Enumerate"
   ]
  },
  {
   "cell_type": "code",
   "execution_count": 24,
   "id": "61123656-babf-4b28-9db1-8a06d562dc39",
   "metadata": {},
   "outputs": [
    {
     "name": "stdout",
     "output_type": "stream",
     "text": [
      "1\n",
      "2\n",
      "3\n",
      "4\n",
      "5\n"
     ]
    }
   ],
   "source": [
    "for value in var2:\n",
    "    print(value)"
   ]
  },
  {
   "cell_type": "code",
   "execution_count": 25,
   "id": "82bc1731-6b3d-42fa-92fd-ab8b98715ea4",
   "metadata": {},
   "outputs": [
    {
     "name": "stdout",
     "output_type": "stream",
     "text": [
      "Value at index[0] : 1\n",
      "Value at index[1] : 2\n",
      "Value at index[2] : 3\n",
      "Value at index[3] : 4\n",
      "Value at index[4] : 5\n"
     ]
    }
   ],
   "source": [
    "for index in range(len(var2)):\n",
    "    print(f'Value at index[{index}] : {var2[index]}')"
   ]
  },
  {
   "cell_type": "code",
   "execution_count": 31,
   "id": "55a5223f-5cbe-47b8-91bb-7acc78d0896e",
   "metadata": {},
   "outputs": [
    {
     "name": "stdout",
     "output_type": "stream",
     "text": [
      "(0, 1)\n",
      "Value at index[0] : 1\n",
      "(1, 2)\n",
      "Value at index[1] : 2\n",
      "(2, 3)\n",
      "Value at index[2] : 3\n",
      "(3, 4)\n",
      "Value at index[3] : 4\n",
      "(4, 5)\n",
      "Value at index[4] : 5\n"
     ]
    }
   ],
   "source": [
    "for item in enumerate(var2):\n",
    "    print(item)\n",
    "    #print(type(item))\n",
    "    print(f'Value at index[{item[0]}] : {item[1]}')"
   ]
  },
  {
   "cell_type": "code",
   "execution_count": 33,
   "id": "a9aece78-3b21-4d98-902d-50b7d5e2e600",
   "metadata": {},
   "outputs": [],
   "source": [
    "#help(tuple)"
   ]
  },
  {
   "cell_type": "markdown",
   "id": "a145cbfa-1a57-4ce5-b4b2-f5cd0c08aff9",
   "metadata": {},
   "source": [
    "- Count the occurance of a value in tuple (count function)\n"
   ]
  },
  {
   "cell_type": "code",
   "execution_count": 39,
   "id": "3290b0ed-48f4-4cd4-a218-9111d27d781b",
   "metadata": {},
   "outputs": [
    {
     "data": {
      "text/plain": [
       "0"
      ]
     },
     "execution_count": 39,
     "metadata": {},
     "output_type": "execute_result"
    }
   ],
   "source": [
    "numberTuple = 1,3,6,2,3,4,7,2,4,5,6,2,3,4,23\n",
    "numberTuple.count(3)"
   ]
  },
  {
   "cell_type": "markdown",
   "id": "58984262-5fb2-4f8f-9093-0d1452cfbbb6",
   "metadata": {},
   "source": [
    "- Index function returns the index of a value else ValueError if the value is not pres"
   ]
  },
  {
   "cell_type": "code",
   "execution_count": 41,
   "id": "122c5f56-172c-45b8-822f-6f0a11b61b21",
   "metadata": {},
   "outputs": [],
   "source": [
    "numberTuple = 1,3,6,2,3,4,7,2,4,5,6,2,3,4,23"
   ]
  },
  {
   "cell_type": "code",
   "execution_count": 42,
   "id": "8d71d455-94e5-4fd7-b128-118261a95038",
   "metadata": {},
   "outputs": [
    {
     "ename": "ValueError",
     "evalue": "tuple.index(x): x not in tuple",
     "output_type": "error",
     "traceback": [
      "\u001b[0;31m---------------------------------------------------------------------------\u001b[0m",
      "\u001b[0;31mValueError\u001b[0m                                Traceback (most recent call last)",
      "Cell \u001b[0;32mIn[42], line 1\u001b[0m\n\u001b[0;32m----> 1\u001b[0m \u001b[43mnumberTuple\u001b[49m\u001b[38;5;241;43m.\u001b[39;49m\u001b[43mindex\u001b[49m\u001b[43m(\u001b[49m\u001b[38;5;241;43m12\u001b[39;49m\u001b[43m)\u001b[49m\n",
      "\u001b[0;31mValueError\u001b[0m: tuple.index(x): x not in tuple"
     ]
    }
   ],
   "source": [
    "numberTuple.index(12)"
   ]
  },
  {
   "cell_type": "code",
   "execution_count": 43,
   "id": "46bfc6e7-7476-4a60-b262-b0bc780cadef",
   "metadata": {},
   "outputs": [
    {
     "data": {
      "text/plain": [
       "14"
      ]
     },
     "execution_count": 43,
     "metadata": {},
     "output_type": "execute_result"
    }
   ],
   "source": [
    "numberTuple.index(23)"
   ]
  }
 ],
 "metadata": {
  "kernelspec": {
   "display_name": "Python 3 (ipykernel)",
   "language": "python",
   "name": "python3"
  },
  "language_info": {
   "codemirror_mode": {
    "name": "ipython",
    "version": 3
   },
   "file_extension": ".py",
   "mimetype": "text/x-python",
   "name": "python",
   "nbconvert_exporter": "python",
   "pygments_lexer": "ipython3",
   "version": "3.10.12"
  }
 },
 "nbformat": 4,
 "nbformat_minor": 5
}
