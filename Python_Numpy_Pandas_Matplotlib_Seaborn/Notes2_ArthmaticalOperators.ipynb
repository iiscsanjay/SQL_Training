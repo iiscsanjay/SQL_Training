{
 "cells": [
  {
   "cell_type": "code",
   "execution_count": 2,
   "id": "3ca96c18-092e-498e-97f7-e70fd34c00e6",
   "metadata": {},
   "outputs": [],
   "source": [
    "a = 15\n",
    "b = 20"
   ]
  },
  {
   "cell_type": "code",
   "execution_count": 3,
   "id": "6bf5c7d8-75df-4068-ac29-aed6bba295a5",
   "metadata": {},
   "outputs": [
    {
     "name": "stdout",
     "output_type": "stream",
     "text": [
      "35\n"
     ]
    }
   ],
   "source": [
    "#Addition\n",
    "result = a + b\n",
    "print(result)"
   ]
  },
  {
   "cell_type": "code",
   "execution_count": 8,
   "id": "8a79e3dd-b6bd-4c3d-af0b-f36f28f92438",
   "metadata": {},
   "outputs": [
    {
     "name": "stdout",
     "output_type": "stream",
     "text": [
      "-5\n"
     ]
    }
   ],
   "source": [
    "# Subtraction\n",
    "result = a - b\n",
    "print(result)"
   ]
  },
  {
   "cell_type": "code",
   "execution_count": 5,
   "id": "462149cd-bfec-4381-a5cc-44fd55722e8b",
   "metadata": {},
   "outputs": [
    {
     "name": "stdout",
     "output_type": "stream",
     "text": [
      "300\n"
     ]
    }
   ],
   "source": [
    "#Multiplication\n",
    "result = a * b # Operands and Symbol as operator\n",
    "print(result)"
   ]
  },
  {
   "cell_type": "code",
   "execution_count": 6,
   "id": "3377f797-7ef3-40f2-9e9f-c5725a1b76d1",
   "metadata": {},
   "outputs": [
    {
     "name": "stdout",
     "output_type": "stream",
     "text": [
      "0.75\n"
     ]
    }
   ],
   "source": [
    " #Division\n",
    "result = a / b\n",
    "print(result)"
   ]
  },
  {
   "cell_type": "code",
   "execution_count": 9,
   "id": "0262c6c0-c3cb-43c2-847c-48d84990b589",
   "metadata": {},
   "outputs": [
    {
     "name": "stdout",
     "output_type": "stream",
     "text": [
      "5\n"
     ]
    }
   ],
   "source": [
    "#Modulus (Remainder after division)\n",
    "result = b % a\n",
    "print(result)"
   ]
  },
  {
   "cell_type": "code",
   "execution_count": 14,
   "id": "fb74c903-5416-461c-a196-843d54335e84",
   "metadata": {},
   "outputs": [],
   "source": [
    "#Exponentiation\n",
    "result = b ** 2\n",
    "print(result)"
   ]
  },
  {
   "cell_type": "code",
   "execution_count": 11,
   "id": "3b8623c8-8733-4aed-b786-6d3128a5bc88",
   "metadata": {},
   "outputs": [
    {
     "data": {
      "text/plain": [
       "4"
      ]
     },
     "execution_count": 11,
     "metadata": {},
     "output_type": "execute_result"
    }
   ],
   "source": [
    "2 ** 2"
   ]
  },
  {
   "cell_type": "code",
   "execution_count": 12,
   "id": "ba400bc8-c0c5-47a5-8c39-1a0b9d6758ce",
   "metadata": {},
   "outputs": [
    {
     "data": {
      "text/plain": [
       "8"
      ]
     },
     "execution_count": 12,
     "metadata": {},
     "output_type": "execute_result"
    }
   ],
   "source": [
    "2 ** 3"
   ]
  },
  {
   "cell_type": "code",
   "execution_count": 16,
   "id": "1ee8b94e-e5da-4bc4-a76a-d92f018e94df",
   "metadata": {},
   "outputs": [
    {
     "name": "stdout",
     "output_type": "stream",
     "text": [
      "2\n"
     ]
    }
   ],
   "source": [
    "# Floor division ( Quotient) \n",
    "a = 3\n",
    "b = 7\n",
    "result = b // a\n",
    "print(result)"
   ]
  },
  {
   "cell_type": "code",
   "execution_count": null,
   "id": "1fcb1eb4-23a1-49de-b1d0-11eba10e8921",
   "metadata": {},
   "outputs": [],
   "source": [
    "#Assignment Operator \n",
    "a = 3423"
   ]
  },
  {
   "cell_type": "code",
   "execution_count": null,
   "id": "9b96d2ee-25e9-49aa-8250-522e40365c45",
   "metadata": {},
   "outputs": [],
   "source": [
    "% for remainder  : Modulus operators"
   ]
  },
  {
   "cell_type": "code",
   "execution_count": null,
   "id": "1ccbda29-3893-45bd-955b-7aebeaf39cf0",
   "metadata": {},
   "outputs": [],
   "source": [
    "3  | 7  |  2\n",
    "     6\n",
    "    -----\n",
    "     1"
   ]
  }
 ],
 "metadata": {
  "kernelspec": {
   "display_name": "Python 3 (ipykernel)",
   "language": "python",
   "name": "python3"
  },
  "language_info": {
   "codemirror_mode": {
    "name": "ipython",
    "version": 3
   },
   "file_extension": ".py",
   "mimetype": "text/x-python",
   "name": "python",
   "nbconvert_exporter": "python",
   "pygments_lexer": "ipython3",
   "version": "3.10.12"
  }
 },
 "nbformat": 4,
 "nbformat_minor": 5
}
