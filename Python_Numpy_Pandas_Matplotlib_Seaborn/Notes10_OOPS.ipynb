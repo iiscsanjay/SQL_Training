{
 "cells": [
  {
   "cell_type": "markdown",
   "id": "133162f3-5c58-4b4b-9145-913f80cab280",
   "metadata": {},
   "source": [
    "#### How to create a class name : Person\n",
    "\n",
    "**class CLASSNAME:**\n",
    "- can declare or store variable (int,float,boolean,string,list, dict,sets,tuple)\n",
    "- can have multiple functions/methods"
   ]
  },
  {
   "cell_type": "code",
   "execution_count": 43,
   "id": "7f15024a-3c95-4465-8292-46d18ef34fa2",
   "metadata": {},
   "outputs": [],
   "source": [
    "del name"
   ]
  },
  {
   "cell_type": "code",
   "execution_count": 17,
   "id": "8e10f08f-ead1-453f-8728-a43a281fc2ad",
   "metadata": {},
   "outputs": [],
   "source": [
    "class Person : (name,age,salary) : functions printInfo , getAge(), getSalary(), getName(), setName(newName), setAge(newAge), setSalary(newSalary)\n",
    "            "
   ]
  },
  {
   "cell_type": "code",
   "execution_count": 47,
   "id": "df0b95a6-a8f2-4a34-9bb8-d0604a534aa3",
   "metadata": {},
   "outputs": [],
   "source": [
    "class Person:\n",
    "    \n",
    "    # Constructor of the class : member function  __init__\n",
    "    # it will initiate the variable of the class\n",
    "    # the term “self” refers to the instance of the class that is currently being used.\n",
    "    def __init__(self,pName=\"ABCD\", pAge=30, pSalary=5000):\n",
    "        self.name = pName\n",
    "        self.age = pAge\n",
    "        self.salary = pSalary\n",
    "        \n",
    "    def printInfo(self):\n",
    "        print(f'Person Name is {self.name}')\n",
    "        print(f'Person Age is {self.age}')\n",
    "        print(f'Person Salary is {self.salary}')\n",
    "\n",
    "    def incrementSalary(self):\n",
    "        \"\"\"incrementSalary function increase the salary by 1000$.\"\"\"\n",
    "        self.salary += 1000\n",
    "        \n"
   ]
  },
  {
   "cell_type": "markdown",
   "id": "7d2dba02-4a51-4adf-a2d2-f97905af31fc",
   "metadata": {},
   "source": [
    "#### How to create an object of class: (Objects are the instance of a class )"
   ]
  },
  {
   "cell_type": "code",
   "execution_count": 52,
   "id": "2aa41971-8a77-47ad-ae15-1e20868fedfe",
   "metadata": {},
   "outputs": [],
   "source": [
    "# variableNAme =  CLASSNAME(arg1,arg2,arg3)\n",
    "p3 = Person()\n",
    "p1 = Person('ABC',34,10000) # instance 1 : default call the inbuilt function (constructor), default call destructor \n",
    "p2 = Person('BCD', 23, 5000) # instance 2"
   ]
  },
  {
   "cell_type": "code",
   "execution_count": 54,
   "id": "82584db2-835a-40ea-b53a-991476883a20",
   "metadata": {},
   "outputs": [
    {
     "name": "stdout",
     "output_type": "stream",
     "text": [
      "<__main__.Person object at 0x10644c580>\n",
      "<__main__.Person object at 0x10644fc40>\n",
      "<__main__.Person object at 0x10644e260>\n"
     ]
    }
   ],
   "source": [
    "print(p1)\n",
    "print(p2)\n",
    "print(p3)"
   ]
  },
  {
   "cell_type": "code",
   "execution_count": 55,
   "id": "dbbd95b4-705d-4db2-bc31-721f9e61dacf",
   "metadata": {},
   "outputs": [
    {
     "name": "stdout",
     "output_type": "stream",
     "text": [
      "Person Name is ABC\n",
      "Person Age is 34\n",
      "Person Salary is 10000\n",
      "Person Name is BCD\n",
      "Person Age is 23\n",
      "Person Salary is 5000\n",
      "Person Name is ABCD\n",
      "Person Age is 30\n",
      "Person Salary is 5000\n"
     ]
    }
   ],
   "source": [
    "p1.printInfo()\n",
    "p2.printInfo()\n",
    "p3.printInfo()"
   ]
  },
  {
   "cell_type": "code",
   "execution_count": 51,
   "id": "5bf392a5-45a3-4ea5-bc85-d82505140f52",
   "metadata": {},
   "outputs": [
    {
     "name": "stdout",
     "output_type": "stream",
     "text": [
      "Person Name is ABC\n",
      "Person Age is 34\n",
      "Person Salary is 10000\n"
     ]
    }
   ],
   "source": [
    "# if a function can be called from the outside of class, then it should be declared as Public .\n",
    "def functionName(self):\n",
    "    \n",
    "p1.printInfo()"
   ]
  },
  {
   "cell_type": "code",
   "execution_count": null,
   "id": "9b776cc3-e079-4959-8eb0-54e703fc7bdf",
   "metadata": {},
   "outputs": [],
   "source": [
    "# General  Programming  : declare variable, store value, call functions and perform computation and display result\n",
    "# Object Oriented Programming: when we declare an instance of class , Create an object : allocate the memory for these variable, data structure,\n",
    "# deallocate the memory to the class object"
   ]
  },
  {
   "cell_type": "markdown",
   "id": "8ab4161f-aa2f-413d-bac5-89d19b2fa817",
   "metadata": {},
   "source": [
    "- Constructor is a special type of member function that is used to initialize the data members for an object of a class automatically, when an object of the same class is created\n",
    "-  destructor is a member function that is invoked automatically when the object goes out of scope or is explicitly destroyed by a call to delete . A destructor has the same name as the class, preceded by a tilde ( ~ ). For example, the destructor for class String is declared: ~String() .\n",
    "-  Pointer is the variable which can store the memory address. \n"
   ]
  },
  {
   "cell_type": "code",
   "execution_count": null,
   "id": "f052499f-0bfe-49a8-bc60-bc0895665dcf",
   "metadata": {},
   "outputs": [],
   "source": []
  }
 ],
 "metadata": {
  "kernelspec": {
   "display_name": "Python 3 (ipykernel)",
   "language": "python",
   "name": "python3"
  },
  "language_info": {
   "codemirror_mode": {
    "name": "ipython",
    "version": 3
   },
   "file_extension": ".py",
   "mimetype": "text/x-python",
   "name": "python",
   "nbconvert_exporter": "python",
   "pygments_lexer": "ipython3",
   "version": "3.10.12"
  }
 },
 "nbformat": 4,
 "nbformat_minor": 5
}
