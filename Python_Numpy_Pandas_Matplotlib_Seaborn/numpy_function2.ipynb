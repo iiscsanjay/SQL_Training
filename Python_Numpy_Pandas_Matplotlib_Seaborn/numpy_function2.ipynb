{
 "cells": [
  {
   "cell_type": "code",
   "execution_count": 1,
   "id": "9b4e6b3e-0e36-4908-997d-51152386891a",
   "metadata": {},
   "outputs": [],
   "source": [
    "import numpy as np"
   ]
  },
  {
   "cell_type": "markdown",
   "id": "f7d14ab8-8715-439f-90e2-e1e4ff01ac41",
   "metadata": {},
   "source": [
    "    - np.logspace()       : return the equally space value in log scale via base^start\n",
    "                            and base^stop generates number points = 50 on the base = 10.0\n",
    "    - np.broadcast()      : return the broadcasts arrays of different shapes and sizes in a common shape.\n",
    "    - np.meshgrid()       : return the grid of points from two or more coordinate vectors\n",
    "    - np.unique()         : returns the sorted array with unique elements with indicies  \n",
    "    - np.pad              : return the new array with padding value\n",
    "    -np.histogram         : return the histogram plot according to array value"
   ]
  },
  {
   "cell_type": "markdown",
   "id": "a08331b6-6194-4160-8ddc-07682f646bfe",
   "metadata": {},
   "source": [
    "#### Logspace Function"
   ]
  },
  {
   "cell_type": "code",
   "execution_count": 8,
   "id": "a4fd4f5b-4af7-443f-ad34-cbf8c02c656b",
   "metadata": {},
   "outputs": [],
   "source": [
    "#help(np.logspace)"
   ]
  },
  {
   "cell_type": "code",
   "execution_count": 9,
   "id": "40368049-1681-4d55-8e7b-d11a195e1a95",
   "metadata": {},
   "outputs": [
    {
     "name": "stdout",
     "output_type": "stream",
     "text": [
      "Dimention of the Array : 1 D Array\n",
      "Shape of the Array     : (50,)\n",
      "Element of the Array   : [ 10.          10.48113134  10.98541142  11.51395399  12.06792641\n",
      "  12.64855217  13.25711366  13.89495494  14.56348478  15.26417967\n",
      "  15.9985872   16.76832937  17.57510625  18.42069969  19.30697729\n",
      "  20.23589648  21.20950888  22.22996483  23.29951811  24.42053095\n",
      "  25.59547923  26.82695795  28.11768698  29.47051703  30.88843596\n",
      "  32.37457543  33.93221772  35.56480306  37.2759372   39.06939937\n",
      "  40.94915062  42.9193426   44.98432669  47.14866363  49.41713361\n",
      "  51.79474679  54.28675439  56.89866029  59.63623317  62.50551925\n",
      "  65.51285569  68.6648845   71.9685673   75.43120063  79.06043211\n",
      "  82.86427729  86.85113738  91.0298178   95.40954763 100.        ]\n"
     ]
    }
   ],
   "source": [
    "#logspace Function:\n",
    "a = np.logspace(start=1,stop=2,base=10.0)\n",
    "print(f'Dimention of the Array : {a.ndim} D Array')\n",
    "print(f'Shape of the Array     : {a.shape}')\n",
    "print(f'Element of the Array   : {a}')"
   ]
  },
  {
   "cell_type": "markdown",
   "id": "bde85b77-1ce4-4dc3-a223-006dcc62a869",
   "metadata": {},
   "source": [
    "#### Broadcast function"
   ]
  },
  {
   "cell_type": "code",
   "execution_count": 19,
   "id": "0a9afb20-bfcc-4e3e-b037-544341d7960c",
   "metadata": {},
   "outputs": [
    {
     "name": "stdout",
     "output_type": "stream",
     "text": [
      "Help on class broadcast in module numpy:\n",
      "\n",
      "class broadcast(builtins.object)\n",
      " |  Produce an object that mimics broadcasting.\n",
      " |  \n",
      " |  Parameters\n",
      " |  ----------\n",
      " |  in1, in2, ... : array_like\n",
      " |      Input parameters.\n",
      " |  \n",
      " |  Returns\n",
      " |  -------\n",
      " |  b : broadcast object\n",
      " |      Broadcast the input parameters against one another, and\n",
      " |      return an object that encapsulates the result.\n",
      " |      Amongst others, it has ``shape`` and ``nd`` properties, and\n",
      " |      may be used as an iterator.\n",
      " |  \n",
      " |  See Also\n",
      " |  --------\n",
      " |  broadcast_arrays\n",
      " |  broadcast_to\n",
      " |  broadcast_shapes\n",
      " |  \n",
      " |  Examples\n",
      " |  --------\n",
      " |  \n",
      " |  Manually adding two vectors, using broadcasting:\n",
      " |  \n",
      " |  >>> x = np.array([[1], [2], [3]])\n",
      " |  >>> y = np.array([4, 5, 6])\n",
      " |  >>> b = np.broadcast(x, y)\n",
      " |  \n",
      " |  >>> out = np.empty(b.shape)\n",
      " |  >>> out.flat = [u+v for (u,v) in b]\n",
      " |  >>> out\n",
      " |  array([[5.,  6.,  7.],\n",
      " |         [6.,  7.,  8.],\n",
      " |         [7.,  8.,  9.]])\n",
      " |  \n",
      " |  Compare against built-in broadcasting:\n",
      " |  \n",
      " |  >>> x + y\n",
      " |  array([[5, 6, 7],\n",
      " |         [6, 7, 8],\n",
      " |         [7, 8, 9]])\n",
      " |  \n",
      " |  Methods defined here:\n",
      " |  \n",
      " |  __iter__(self, /)\n",
      " |      Implement iter(self).\n",
      " |  \n",
      " |  __next__(self, /)\n",
      " |      Implement next(self).\n",
      " |  \n",
      " |  reset(...)\n",
      " |      reset()\n",
      " |      \n",
      " |      Reset the broadcasted result's iterator(s).\n",
      " |      \n",
      " |      Parameters\n",
      " |      ----------\n",
      " |      None\n",
      " |      \n",
      " |      Returns\n",
      " |      -------\n",
      " |      None\n",
      " |      \n",
      " |      Examples\n",
      " |      --------\n",
      " |      >>> x = np.array([1, 2, 3])\n",
      " |      >>> y = np.array([[4], [5], [6]])\n",
      " |      >>> b = np.broadcast(x, y)\n",
      " |      >>> b.index\n",
      " |      0\n",
      " |      >>> next(b), next(b), next(b)\n",
      " |      ((1, 4), (2, 4), (3, 4))\n",
      " |      >>> b.index\n",
      " |      3\n",
      " |      >>> b.reset()\n",
      " |      >>> b.index\n",
      " |      0\n",
      " |  \n",
      " |  ----------------------------------------------------------------------\n",
      " |  Static methods defined here:\n",
      " |  \n",
      " |  __new__(*args, **kwargs) from builtins.type\n",
      " |      Create and return a new object.  See help(type) for accurate signature.\n",
      " |  \n",
      " |  ----------------------------------------------------------------------\n",
      " |  Data descriptors defined here:\n",
      " |  \n",
      " |  index\n",
      " |      current index in broadcasted result\n",
      " |      \n",
      " |      Examples\n",
      " |      --------\n",
      " |      >>> x = np.array([[1], [2], [3]])\n",
      " |      >>> y = np.array([4, 5, 6])\n",
      " |      >>> b = np.broadcast(x, y)\n",
      " |      >>> b.index\n",
      " |      0\n",
      " |      >>> next(b), next(b), next(b)\n",
      " |      ((1, 4), (1, 5), (1, 6))\n",
      " |      >>> b.index\n",
      " |      3\n",
      " |  \n",
      " |  iters\n",
      " |      tuple of iterators along ``self``'s \"components.\"\n",
      " |      \n",
      " |      Returns a tuple of `numpy.flatiter` objects, one for each \"component\"\n",
      " |      of ``self``.\n",
      " |      \n",
      " |      See Also\n",
      " |      --------\n",
      " |      numpy.flatiter\n",
      " |      \n",
      " |      Examples\n",
      " |      --------\n",
      " |      >>> x = np.array([1, 2, 3])\n",
      " |      >>> y = np.array([[4], [5], [6]])\n",
      " |      >>> b = np.broadcast(x, y)\n",
      " |      >>> row, col = b.iters\n",
      " |      >>> next(row), next(col)\n",
      " |      (1, 4)\n",
      " |  \n",
      " |  nd\n",
      " |      Number of dimensions of broadcasted result. For code intended for NumPy\n",
      " |      1.12.0 and later the more consistent `ndim` is preferred.\n",
      " |      \n",
      " |      Examples\n",
      " |      --------\n",
      " |      >>> x = np.array([1, 2, 3])\n",
      " |      >>> y = np.array([[4], [5], [6]])\n",
      " |      >>> b = np.broadcast(x, y)\n",
      " |      >>> b.nd\n",
      " |      2\n",
      " |  \n",
      " |  ndim\n",
      " |      Number of dimensions of broadcasted result. Alias for `nd`.\n",
      " |      \n",
      " |      .. versionadded:: 1.12.0\n",
      " |      \n",
      " |      Examples\n",
      " |      --------\n",
      " |      >>> x = np.array([1, 2, 3])\n",
      " |      >>> y = np.array([[4], [5], [6]])\n",
      " |      >>> b = np.broadcast(x, y)\n",
      " |      >>> b.ndim\n",
      " |      2\n",
      " |  \n",
      " |  numiter\n",
      " |      Number of iterators possessed by the broadcasted result.\n",
      " |      \n",
      " |      Examples\n",
      " |      --------\n",
      " |      >>> x = np.array([1, 2, 3])\n",
      " |      >>> y = np.array([[4], [5], [6]])\n",
      " |      >>> b = np.broadcast(x, y)\n",
      " |      >>> b.numiter\n",
      " |      2\n",
      " |  \n",
      " |  shape\n",
      " |      Shape of broadcasted result.\n",
      " |      \n",
      " |      Examples\n",
      " |      --------\n",
      " |      >>> x = np.array([1, 2, 3])\n",
      " |      >>> y = np.array([[4], [5], [6]])\n",
      " |      >>> b = np.broadcast(x, y)\n",
      " |      >>> b.shape\n",
      " |      (3, 3)\n",
      " |  \n",
      " |  size\n",
      " |      Total size of broadcasted result.\n",
      " |      \n",
      " |      Examples\n",
      " |      --------\n",
      " |      >>> x = np.array([1, 2, 3])\n",
      " |      >>> y = np.array([[4], [5], [6]])\n",
      " |      >>> b = np.broadcast(x, y)\n",
      " |      >>> b.size\n",
      " |      9\n",
      "\n",
      "[(1, 4), (2, 4), (3, 4), (4, 4), (5, 4), (1, 6), (2, 6), (3, 6), (4, 6), (5, 6), (1, 7), (2, 7), (3, 7), (4, 7), (5, 7), (1, 8), (2, 8), (3, 8), (4, 8), (5, 8), (1, 3), (2, 3), (3, 3), (4, 3), (5, 3)]\n"
     ]
    }
   ],
   "source": [
    "x = np.array ([1,2,3,4,5])\n",
    "y = np.array([[4],[6],[7],[8],[3]])\n",
    "help(np.broadcast)\n",
    "c = np.broadcast(x,y)\n",
    "print(list(c))"
   ]
  },
  {
   "cell_type": "code",
   "execution_count": 21,
   "id": "ab494bdc-3a45-4a06-9eeb-a7c55458fd88",
   "metadata": {},
   "outputs": [
    {
     "name": "stdout",
     "output_type": "stream",
     "text": [
      "[[ 5  6  7  8  9]\n",
      " [ 7  8  9 10 11]\n",
      " [ 8  9 10 11 12]\n",
      " [ 9 10 11 12 13]\n",
      " [ 4  5  6  7  8]]\n"
     ]
    }
   ],
   "source": [
    "x = np.array ([1,2,3,4,5])\n",
    "y = np.array([[4],[6],[7],[8],[3]])\n",
    "c = x + y\n",
    "print(c)"
   ]
  },
  {
   "cell_type": "markdown",
   "id": "3d392594-5f4c-44d8-83f3-5196b0606537",
   "metadata": {},
   "source": [
    "#### Meshgrid"
   ]
  },
  {
   "cell_type": "code",
   "execution_count": 40,
   "id": "60ddf002-1428-4921-8bb6-b8e61a10cd76",
   "metadata": {},
   "outputs": [],
   "source": [
    "import matplotlib.pyplot as plt\n",
    "x = np.arange(-5,5,0.1)\n",
    "y = np.arange(-5,5,0.1)\n",
    "X,Y = np.meshgrid(x,y)\n",
    "Z = np.sin(np.sqrt(X**2 + Y**2))"
   ]
  },
  {
   "cell_type": "code",
   "execution_count": 42,
   "id": "53f371f0-ed95-4b49-9b5c-9a260a4c1af5",
   "metadata": {},
   "outputs": [
    {
     "data": {
      "image/png": "[encoded data removed]",
      "text/plain": [
       "<Figure size 640x480 with 1 Axes>"
      ]
     },
     "metadata": {},
     "output_type": "display_data"
    }
   ],
   "source": [
    "plt.scatter(x,y)\n",
    "plt.contourf(X,Y,Z)\n",
    "plt.show()"
   ]
  },
  {
   "cell_type": "markdown",
   "id": "4e916bf6-3fcb-4a09-902e-c9f9e4181ed7",
   "metadata": {},
   "source": [
    "#### Unique"
   ]
  },
  {
   "cell_type": "code",
   "execution_count": 43,
   "id": "a15cb360-fd4c-4e4b-9400-af190725bb47",
   "metadata": {},
   "outputs": [
    {
     "name": "stdout",
     "output_type": "stream",
     "text": [
      "[44 26 14 29 49 31 24 15 28 41 21  0  6  9 16 15 43 36 28 26 44 38  9 47\n",
      "  7 40 32 28 42 34 40 46 18 47  2 48 46 28 30 31]\n"
     ]
    }
   ],
   "source": [
    "a = np.random.randint(0,50,40)\n",
    "print(a)"
   ]
  },
  {
   "cell_type": "code",
   "execution_count": 50,
   "id": "1e380f86-4d39-4915-8e05-d3bcc656f689",
   "metadata": {},
   "outputs": [
    {
     "name": "stdout",
     "output_type": "stream",
     "text": [
      "Array b : [ 0  2  6  7  9 14 15 16 18 21 24 26 28 29 30 31 32 34 36 38 40 41 42 43\n",
      " 44 46 47 48 49]\n",
      "Indexes : [11 34 12 24 13  2  7 14 32 10  6  1  8  3 38  5 26 29 17 21 25  9 28 16\n",
      "  0 31 23 35  4]\n",
      "Counts  : [1 1 1 1 2 1 2 1 1 1 1 2 4 1 1 2 1 1 1 1 2 1 1 1 2 2 2 1 1]\n"
     ]
    }
   ],
   "source": [
    "b, indexes, counts = np.unique(a,return_index=True,return_counts=True)\n",
    "print(f'Array b : {b}')\n",
    "print(f'Indexes : {indexes}')\n",
    "print(f'Counts  : {counts}')"
   ]
  },
  {
   "cell_type": "code",
   "execution_count": 52,
   "id": "8136528c-a870-421b-9230-87721e1684ed",
   "metadata": {},
   "outputs": [
    {
     "name": "stdout",
     "output_type": "stream",
     "text": [
      "Array b : [ 0  2  6  7  9 14 15 16 18 21 24 26 28 29 30 31 32 34 36 38 40 41 42 43\n",
      " 44 46 47 48 49]\n",
      "Indexes : [24 11  5 13 28 15 10  6 12 21  9  0  2  4  7  6 23 18 12 11 24 19  4 26\n",
      "  3 20 16 12 22 17 20 25  8 26  1 27 25 12 14 15]\n",
      "Counts  : [1 1 1 1 2 1 2 1 1 1 1 2 4 1 1 2 1 1 1 1 2 1 1 1 2 2 2 1 1]\n"
     ]
    }
   ],
   "source": [
    "#b, indexes, counts = np.unique(a,return_inverse=True,return_counts=True,axis=0)\n",
    "#print(f'Array b : {b}')\n",
    "#print(f'Indexes : {indexes}')\n",
    "#print(f'Counts  : {counts}')"
   ]
  },
  {
   "cell_type": "code",
   "execution_count": 45,
   "id": "d219a7de-5687-498e-9dc7-10b9d6c59017",
   "metadata": {},
   "outputs": [
    {
     "name": "stdout",
     "output_type": "stream",
     "text": [
      "Help on function unique in module numpy:\n",
      "\n",
      "unique(ar, return_index=False, return_inverse=False, return_counts=False, axis=None, *, equal_nan=True)\n",
      "    Find the unique elements of an array.\n",
      "    \n",
      "    Returns the sorted unique elements of an array. There are three optional\n",
      "    outputs in addition to the unique elements:\n",
      "    \n",
      "    * the indices of the input array that give the unique values\n",
      "    * the indices of the unique array that reconstruct the input array\n",
      "    * the number of times each unique value comes up in the input array\n",
      "    \n",
      "    Parameters\n",
      "    ----------\n",
      "    ar : array_like\n",
      "        Input array. Unless `axis` is specified, this will be flattened if it\n",
      "        is not already 1-D.\n",
      "    return_index : bool, optional\n",
      "        If True, also return the indices of `ar` (along the specified axis,\n",
      "        if provided, or in the flattened array) that result in the unique array.\n",
      "    return_inverse : bool, optional\n",
      "        If True, also return the indices of the unique array (for the specified\n",
      "        axis, if provided) that can be used to reconstruct `ar`.\n",
      "    return_counts : bool, optional\n",
      "        If True, also return the number of times each unique item appears\n",
      "        in `ar`.\n",
      "    axis : int or None, optional\n",
      "        The axis to operate on. If None, `ar` will be flattened. If an integer,\n",
      "        the subarrays indexed by the given axis will be flattened and treated\n",
      "        as the elements of a 1-D array with the dimension of the given axis,\n",
      "        see the notes for more details.  Object arrays or structured arrays\n",
      "        that contain objects are not supported if the `axis` kwarg is used. The\n",
      "        default is None.\n",
      "    \n",
      "        .. versionadded:: 1.13.0\n",
      "    \n",
      "    equal_nan : bool, optional\n",
      "        If True, collapses multiple NaN values in the return array into one.\n",
      "    \n",
      "        .. versionadded:: 1.24\n",
      "    \n",
      "    Returns\n",
      "    -------\n",
      "    unique : ndarray\n",
      "        The sorted unique values.\n",
      "    unique_indices : ndarray, optional\n",
      "        The indices of the first occurrences of the unique values in the\n",
      "        original array. Only provided if `return_index` is True.\n",
      "    unique_inverse : ndarray, optional\n",
      "        The indices to reconstruct the original array from the\n",
      "        unique array. Only provided if `return_inverse` is True.\n",
      "    unique_counts : ndarray, optional\n",
      "        The number of times each of the unique values comes up in the\n",
      "        original array. Only provided if `return_counts` is True.\n",
      "    \n",
      "        .. versionadded:: 1.9.0\n",
      "    \n",
      "    See Also\n",
      "    --------\n",
      "    numpy.lib.arraysetops : Module with a number of other functions for\n",
      "                            performing set operations on arrays.\n",
      "    repeat : Repeat elements of an array.\n",
      "    \n",
      "    Notes\n",
      "    -----\n",
      "    When an axis is specified the subarrays indexed by the axis are sorted.\n",
      "    This is done by making the specified axis the first dimension of the array\n",
      "    (move the axis to the first dimension to keep the order of the other axes)\n",
      "    and then flattening the subarrays in C order. The flattened subarrays are\n",
      "    then viewed as a structured type with each element given a label, with the\n",
      "    effect that we end up with a 1-D array of structured types that can be\n",
      "    treated in the same way as any other 1-D array. The result is that the\n",
      "    flattened subarrays are sorted in lexicographic order starting with the\n",
      "    first element.\n",
      "    \n",
      "    .. versionchanged: NumPy 1.21\n",
      "        If nan values are in the input array, a single nan is put\n",
      "        to the end of the sorted unique values.\n",
      "    \n",
      "        Also for complex arrays all NaN values are considered equivalent\n",
      "        (no matter whether the NaN is in the real or imaginary part).\n",
      "        As the representant for the returned array the smallest one in the\n",
      "        lexicographical order is chosen - see np.sort for how the lexicographical\n",
      "        order is defined for complex arrays.\n",
      "    \n",
      "    Examples\n",
      "    --------\n",
      "    >>> np.unique([1, 1, 2, 2, 3, 3])\n",
      "    array([1, 2, 3])\n",
      "    >>> a = np.array([[1, 1], [2, 3]])\n",
      "    >>> np.unique(a)\n",
      "    array([1, 2, 3])\n",
      "    \n",
      "    Return the unique rows of a 2D array\n",
      "    \n",
      "    >>> a = np.array([[1, 0, 0], [1, 0, 0], [2, 3, 4]])\n",
      "    >>> np.unique(a, axis=0)\n",
      "    array([[1, 0, 0], [2, 3, 4]])\n",
      "    \n",
      "    Return the indices of the original array that give the unique values:\n",
      "    \n",
      "    >>> a = np.array(['a', 'b', 'b', 'c', 'a'])\n",
      "    >>> u, indices = np.unique(a, return_index=True)\n",
      "    >>> u\n",
      "    array(['a', 'b', 'c'], dtype='<U1')\n",
      "    >>> indices\n",
      "    array([0, 1, 3])\n",
      "    >>> a[indices]\n",
      "    array(['a', 'b', 'c'], dtype='<U1')\n",
      "    \n",
      "    Reconstruct the input array from the unique values and inverse:\n",
      "    \n",
      "    >>> a = np.array([1, 2, 6, 4, 2, 3, 2])\n",
      "    >>> u, indices = np.unique(a, return_inverse=True)\n",
      "    >>> u\n",
      "    array([1, 2, 3, 4, 6])\n",
      "    >>> indices\n",
      "    array([0, 1, 4, 3, 1, 2, 1])\n",
      "    >>> u[indices]\n",
      "    array([1, 2, 6, 4, 2, 3, 2])\n",
      "    \n",
      "    Reconstruct the input values from the unique values and counts:\n",
      "    \n",
      "    >>> a = np.array([1, 2, 6, 4, 2, 3, 2])\n",
      "    >>> values, counts = np.unique(a, return_counts=True)\n",
      "    >>> values\n",
      "    array([1, 2, 3, 4, 6])\n",
      "    >>> counts\n",
      "    array([1, 3, 1, 1, 1])\n",
      "    >>> np.repeat(values, counts)\n",
      "    array([1, 2, 2, 2, 3, 4, 6])    # original order not preserved\n",
      "\n"
     ]
    }
   ],
   "source": [
    "#help(np.unique)"
   ]
  },
  {
   "cell_type": "markdown",
   "id": "2e96429f-4936-49c8-bf90-3820812332e8",
   "metadata": {},
   "source": [
    "#### Pad function"
   ]
  },
  {
   "cell_type": "code",
   "execution_count": 53,
   "id": "bc2517d4-6ada-4872-87c3-b215013e2092",
   "metadata": {},
   "outputs": [
    {
     "name": "stdout",
     "output_type": "stream",
     "text": [
      "Help on function pad in module numpy:\n",
      "\n",
      "pad(array, pad_width, mode='constant', **kwargs)\n",
      "    Pad an array.\n",
      "    \n",
      "    Parameters\n",
      "    ----------\n",
      "    array : array_like of rank N\n",
      "        The array to pad.\n",
      "    pad_width : {sequence, array_like, int}\n",
      "        Number of values padded to the edges of each axis.\n",
      "        ((before_1, after_1), ... (before_N, after_N)) unique pad widths\n",
      "        for each axis.\n",
      "        ((before, after),) yields same before and after pad for each axis.\n",
      "        (pad,) or int is a shortcut for before = after = pad width for all\n",
      "        axes.\n",
      "    mode : str or function, optional\n",
      "        One of the following string values or a user supplied function.\n",
      "    \n",
      "        'constant' (default)\n",
      "            Pads with a constant value.\n",
      "        'edge'\n",
      "            Pads with the edge values of array.\n",
      "        'linear_ramp'\n",
      "            Pads with the linear ramp between end_value and the\n",
      "            array edge value.\n",
      "        'maximum'\n",
      "            Pads with the maximum value of all or part of the\n",
      "            vector along each axis.\n",
      "        'mean'\n",
      "            Pads with the mean value of all or part of the\n",
      "            vector along each axis.\n",
      "        'median'\n",
      "            Pads with the median value of all or part of the\n",
      "            vector along each axis.\n",
      "        'minimum'\n",
      "            Pads with the minimum value of all or part of the\n",
      "            vector along each axis.\n",
      "        'reflect'\n",
      "            Pads with the reflection of the vector mirrored on\n",
      "            the first and last values of the vector along each\n",
      "            axis.\n",
      "        'symmetric'\n",
      "            Pads with the reflection of the vector mirrored\n",
      "            along the edge of the array.\n",
      "        'wrap'\n",
      "            Pads with the wrap of the vector along the axis.\n",
      "            The first values are used to pad the end and the\n",
      "            end values are used to pad the beginning.\n",
      "        'empty'\n",
      "            Pads with undefined values.\n",
      "    \n",
      "            .. versionadded:: 1.17\n",
      "    \n",
      "        <function>\n",
      "            Padding function, see Notes.\n",
      "    stat_length : sequence or int, optional\n",
      "        Used in 'maximum', 'mean', 'median', and 'minimum'.  Number of\n",
      "        values at edge of each axis used to calculate the statistic value.\n",
      "    \n",
      "        ((before_1, after_1), ... (before_N, after_N)) unique statistic\n",
      "        lengths for each axis.\n",
      "    \n",
      "        ((before, after),) yields same before and after statistic lengths\n",
      "        for each axis.\n",
      "    \n",
      "        (stat_length,) or int is a shortcut for before = after = statistic\n",
      "        length for all axes.\n",
      "    \n",
      "        Default is ``None``, to use the entire axis.\n",
      "    constant_values : sequence or scalar, optional\n",
      "        Used in 'constant'.  The values to set the padded values for each\n",
      "        axis.\n",
      "    \n",
      "        ``((before_1, after_1), ... (before_N, after_N))`` unique pad constants\n",
      "        for each axis.\n",
      "    \n",
      "        ``((before, after),)`` yields same before and after constants for each\n",
      "        axis.\n",
      "    \n",
      "        ``(constant,)`` or ``constant`` is a shortcut for ``before = after = constant`` for\n",
      "        all axes.\n",
      "    \n",
      "        Default is 0.\n",
      "    end_values : sequence or scalar, optional\n",
      "        Used in 'linear_ramp'.  The values used for the ending value of the\n",
      "        linear_ramp and that will form the edge of the padded array.\n",
      "    \n",
      "        ``((before_1, after_1), ... (before_N, after_N))`` unique end values\n",
      "        for each axis.\n",
      "    \n",
      "        ``((before, after),)`` yields same before and after end values for each\n",
      "        axis.\n",
      "    \n",
      "        ``(constant,)`` or ``constant`` is a shortcut for ``before = after = constant`` for\n",
      "        all axes.\n",
      "    \n",
      "        Default is 0.\n",
      "    reflect_type : {'even', 'odd'}, optional\n",
      "        Used in 'reflect', and 'symmetric'.  The 'even' style is the\n",
      "        default with an unaltered reflection around the edge value.  For\n",
      "        the 'odd' style, the extended part of the array is created by\n",
      "        subtracting the reflected values from two times the edge value.\n",
      "    \n",
      "    Returns\n",
      "    -------\n",
      "    pad : ndarray\n",
      "        Padded array of rank equal to `array` with shape increased\n",
      "        according to `pad_width`.\n",
      "    \n",
      "    Notes\n",
      "    -----\n",
      "    .. versionadded:: 1.7.0\n",
      "    \n",
      "    For an array with rank greater than 1, some of the padding of later\n",
      "    axes is calculated from padding of previous axes.  This is easiest to\n",
      "    think about with a rank 2 array where the corners of the padded array\n",
      "    are calculated by using padded values from the first axis.\n",
      "    \n",
      "    The padding function, if used, should modify a rank 1 array in-place. It\n",
      "    has the following signature::\n",
      "    \n",
      "        padding_func(vector, iaxis_pad_width, iaxis, kwargs)\n",
      "    \n",
      "    where\n",
      "    \n",
      "        vector : ndarray\n",
      "            A rank 1 array already padded with zeros.  Padded values are\n",
      "            vector[:iaxis_pad_width[0]] and vector[-iaxis_pad_width[1]:].\n",
      "        iaxis_pad_width : tuple\n",
      "            A 2-tuple of ints, iaxis_pad_width[0] represents the number of\n",
      "            values padded at the beginning of vector where\n",
      "            iaxis_pad_width[1] represents the number of values padded at\n",
      "            the end of vector.\n",
      "        iaxis : int\n",
      "            The axis currently being calculated.\n",
      "        kwargs : dict\n",
      "            Any keyword arguments the function requires.\n",
      "    \n",
      "    Examples\n",
      "    --------\n",
      "    >>> a = [1, 2, 3, 4, 5]\n",
      "    >>> np.pad(a, (2, 3), 'constant', constant_values=(4, 6))\n",
      "    array([4, 4, 1, ..., 6, 6, 6])\n",
      "    \n",
      "    >>> np.pad(a, (2, 3), 'edge')\n",
      "    array([1, 1, 1, ..., 5, 5, 5])\n",
      "    \n",
      "    >>> np.pad(a, (2, 3), 'linear_ramp', end_values=(5, -4))\n",
      "    array([ 5,  3,  1,  2,  3,  4,  5,  2, -1, -4])\n",
      "    \n",
      "    >>> np.pad(a, (2,), 'maximum')\n",
      "    array([5, 5, 1, 2, 3, 4, 5, 5, 5])\n",
      "    \n",
      "    >>> np.pad(a, (2,), 'mean')\n",
      "    array([3, 3, 1, 2, 3, 4, 5, 3, 3])\n",
      "    \n",
      "    >>> np.pad(a, (2,), 'median')\n",
      "    array([3, 3, 1, 2, 3, 4, 5, 3, 3])\n",
      "    \n",
      "    >>> a = [[1, 2], [3, 4]]\n",
      "    >>> np.pad(a, ((3, 2), (2, 3)), 'minimum')\n",
      "    array([[1, 1, 1, 2, 1, 1, 1],\n",
      "           [1, 1, 1, 2, 1, 1, 1],\n",
      "           [1, 1, 1, 2, 1, 1, 1],\n",
      "           [1, 1, 1, 2, 1, 1, 1],\n",
      "           [3, 3, 3, 4, 3, 3, 3],\n",
      "           [1, 1, 1, 2, 1, 1, 1],\n",
      "           [1, 1, 1, 2, 1, 1, 1]])\n",
      "    \n",
      "    >>> a = [1, 2, 3, 4, 5]\n",
      "    >>> np.pad(a, (2, 3), 'reflect')\n",
      "    array([3, 2, 1, 2, 3, 4, 5, 4, 3, 2])\n",
      "    \n",
      "    >>> np.pad(a, (2, 3), 'reflect', reflect_type='odd')\n",
      "    array([-1,  0,  1,  2,  3,  4,  5,  6,  7,  8])\n",
      "    \n",
      "    >>> np.pad(a, (2, 3), 'symmetric')\n",
      "    array([2, 1, 1, 2, 3, 4, 5, 5, 4, 3])\n",
      "    \n",
      "    >>> np.pad(a, (2, 3), 'symmetric', reflect_type='odd')\n",
      "    array([0, 1, 1, 2, 3, 4, 5, 5, 6, 7])\n",
      "    \n",
      "    >>> np.pad(a, (2, 3), 'wrap')\n",
      "    array([4, 5, 1, 2, 3, 4, 5, 1, 2, 3])\n",
      "    \n",
      "    >>> def pad_with(vector, pad_width, iaxis, kwargs):\n",
      "    ...     pad_value = kwargs.get('padder', 10)\n",
      "    ...     vector[:pad_width[0]] = pad_value\n",
      "    ...     vector[-pad_width[1]:] = pad_value\n",
      "    >>> a = np.arange(6)\n",
      "    >>> a = a.reshape((2, 3))\n",
      "    >>> np.pad(a, 2, pad_with)\n",
      "    array([[10, 10, 10, 10, 10, 10, 10],\n",
      "           [10, 10, 10, 10, 10, 10, 10],\n",
      "           [10, 10,  0,  1,  2, 10, 10],\n",
      "           [10, 10,  3,  4,  5, 10, 10],\n",
      "           [10, 10, 10, 10, 10, 10, 10],\n",
      "           [10, 10, 10, 10, 10, 10, 10]])\n",
      "    >>> np.pad(a, 2, pad_with, padder=100)\n",
      "    array([[100, 100, 100, 100, 100, 100, 100],\n",
      "           [100, 100, 100, 100, 100, 100, 100],\n",
      "           [100, 100,   0,   1,   2, 100, 100],\n",
      "           [100, 100,   3,   4,   5, 100, 100],\n",
      "           [100, 100, 100, 100, 100, 100, 100],\n",
      "           [100, 100, 100, 100, 100, 100, 100]])\n",
      "\n"
     ]
    }
   ],
   "source": [
    "help(np.pad)"
   ]
  },
  {
   "cell_type": "code",
   "execution_count": 54,
   "id": "56e40f85-d428-495b-bd1b-b95c3393c3dd",
   "metadata": {},
   "outputs": [],
   "source": [
    "a = [1, 2, 3, 4, 5]\n",
    "4 4 1 2 3 4 5 6 6 6 6"
   ]
  },
  {
   "cell_type": "code",
   "execution_count": 64,
   "id": "c0c50f89-244d-4aba-a345-76af6609aca7",
   "metadata": {},
   "outputs": [
    {
     "data": {
      "text/plain": [
       "array([4, 1, 2, 3, 4, 5, 6])"
      ]
     },
     "execution_count": 64,
     "metadata": {},
     "output_type": "execute_result"
    }
   ],
   "source": [
    "np.pad(a, (1, 1), 'constant', constant_values=(4, 6))"
   ]
  },
  {
   "cell_type": "code",
   "execution_count": 65,
   "id": "e63035c8-59f3-44fc-a0a0-05da4c39ac10",
   "metadata": {},
   "outputs": [
    {
     "data": {
      "text/plain": [
       "array([4, 4, 4, 4, 4, 1, 2, 3, 4, 5, 6, 6, 6, 6, 6])"
      ]
     },
     "execution_count": 65,
     "metadata": {},
     "output_type": "execute_result"
    }
   ],
   "source": [
    "np.pad(a, 5, 'constant', constant_values=(4, 6))"
   ]
  },
  {
   "cell_type": "code",
   "execution_count": 66,
   "id": "2d8b85eb-5ebe-4239-a767-b203339de5a8",
   "metadata": {},
   "outputs": [
    {
     "data": {
      "text/plain": [
       "array([1, 1, 1, 2, 3, 4, 5, 5, 5, 5])"
      ]
     },
     "execution_count": 66,
     "metadata": {},
     "output_type": "execute_result"
    }
   ],
   "source": [
    "np.pad(a, (2, 3), 'edge')"
   ]
  },
  {
   "cell_type": "code",
   "execution_count": 67,
   "id": "827ac277-35bf-4de6-915d-58e72fa35a7a",
   "metadata": {},
   "outputs": [
    {
     "data": {
      "text/plain": [
       "array([  5,   3,   1,   2,   3,   4,   5,   0,  -5, -10])"
      ]
     },
     "execution_count": 67,
     "metadata": {},
     "output_type": "execute_result"
    }
   ],
   "source": [
    "np.pad(a, (2, 3), 'linear_ramp', end_values=(5, -10))"
   ]
  },
  {
   "cell_type": "markdown",
   "id": "e9fa75b8-8726-4cd7-9ead-c24b33b76d11",
   "metadata": {},
   "source": [
    "#### Histogram"
   ]
  },
  {
   "cell_type": "code",
   "execution_count": 68,
   "id": "b0d634ce-3aab-4fc5-b63c-d1c5d5999db9",
   "metadata": {},
   "outputs": [],
   "source": [
    "a = np.random.randint(10,100,1000)"
   ]
  },
  {
   "cell_type": "code",
   "execution_count": 76,
   "id": "7afb6843-350b-48ea-bd48-96ce365439e1",
   "metadata": {},
   "outputs": [
    {
     "data": {
      "text/plain": [
       "(array([51., 40., 58., 45., 53., 43., 45., 38., 51., 48., 53., 55., 42.,\n",
       "        56., 38., 75., 49., 61., 38., 61.]),\n",
       " array([10.  , 14.45, 18.9 , 23.35, 27.8 , 32.25, 36.7 , 41.15, 45.6 ,\n",
       "        50.05, 54.5 , 58.95, 63.4 , 67.85, 72.3 , 76.75, 81.2 , 85.65,\n",
       "        90.1 , 94.55, 99.  ]),\n",
       " <BarContainer object of 20 artists>)"
      ]
     },
     "execution_count": 76,
     "metadata": {},
     "output_type": "execute_result"
    },
    {
     "data": {
      "image/png": "[encoded data removed]",
      "text/plain": [
       "<Figure size 640x480 with 1 Axes>"
      ]
     },
     "metadata": {},
     "output_type": "display_data"
    }
   ],
   "source": [
    "data, bins = np.histogram(a,bins=20)\n",
    "plt.hist(a,bins=20)"
   ]
  },
  {
   "cell_type": "code",
   "execution_count": 80,
   "id": "ac3bfa4e-7804-40fc-97bb-a65044a8bde0",
   "metadata": {},
   "outputs": [
    {
     "data": {
      "text/plain": [
       "(array([51., 40., 58., 45., 53., 43., 45., 38., 51., 48., 53., 55., 42.,\n",
       "        56., 38., 75., 49., 61., 38., 61.]),\n",
       " array([10.  , 14.45, 18.9 , 23.35, 27.8 , 32.25, 36.7 , 41.15, 45.6 ,\n",
       "        50.05, 54.5 , 58.95, 63.4 , 67.85, 72.3 , 76.75, 81.2 , 85.65,\n",
       "        90.1 , 94.55, 99.  ]),\n",
       " <BarContainer object of 20 artists>)"
      ]
     },
     "execution_count": 80,
     "metadata": {},
     "output_type": "execute_result"
    },
    {
     "data": {
      "image/png": "[encoded data removed]",
      "text/plain": [
       "<Figure size 640x480 with 1 Axes>"
      ]
     },
     "metadata": {},
     "output_type": "display_data"
    }
   ],
   "source": [
    "plt.hist(a,bins=20)"
   ]
  }
 ],
 "metadata": {
  "kernelspec": {
   "display_name": "Python 3 (ipykernel)",
   "language": "python",
   "name": "python3"
  },
  "language_info": {
   "codemirror_mode": {
    "name": "ipython",
    "version": 3
   },
   "file_extension": ".py",
   "mimetype": "text/x-python",
   "name": "python",
   "nbconvert_exporter": "python",
   "pygments_lexer": "ipython3",
   "version": "3.10.12"
  }
 },
 "nbformat": 4,
 "nbformat_minor": 5
}
