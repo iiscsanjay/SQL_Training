{
 "cells": [
  {
   "cell_type": "raw",
   "id": "9b9e923c-4dc6-4f40-862f-c67a7cac7bb8",
   "metadata": {},
   "source": [
    "# We can develop the code in \n",
    "1. Jupyter Notebook (90 % code) or Google Colab\n",
    "2. PyCharm Development Environment (Community Edition) (10%)\n",
    "3. Terminal / Conda Shell/ Python Shell ( \n",
    "    => Define the python interpreter path in first line\n",
    "    => Make the file executable \n",
    "            chmod +x  filename \n",
    "            chmod : change file permission\n",
    "            + adding\n",
    "            x : executable permission\n",
    "    => ./Filename.py"
   ]
  },
  {
   "cell_type": "markdown",
   "id": "60e946f3-75e0-482a-9e94-655ccd6bec9f",
   "metadata": {},
   "source": [
    "## Modules"
   ]
  },
  {
   "cell_type": "code",
   "execution_count": 22,
   "id": "2aa7acad-7a59-4f30-9120-33fa1d2a5e85",
   "metadata": {},
   "outputs": [],
   "source": [
    "# Modules  : Libraries of the function and code written for programmer to use"
   ]
  },
  {
   "cell_type": "markdown",
   "id": "39160a14-4c6a-4ae9-947a-235198954a35",
   "metadata": {},
   "source": [
    "## How to use a module in the code"
   ]
  },
  {
   "cell_type": "code",
   "execution_count": null,
   "id": "b5a1a5f0-d321-4b90-9938-ea4390236ae5",
   "metadata": {},
   "outputs": [],
   "source": [
    "#import ModuleName\n",
    "import sys"
   ]
  },
  {
   "cell_type": "code",
   "execution_count": null,
   "id": "23106e12-0b23-442a-92b1-d7c63fa63dad",
   "metadata": {},
   "outputs": [],
   "source": [
    "# some times module has submodules or function and you dont want to use everytime module Name\n",
    "import sys\n",
    "sys.argv\n",
    "sys.exit()"
   ]
  },
  {
   "cell_type": "code",
   "execution_count": null,
   "id": "75986d7c-8828-4473-b4a0-07c012934ae0",
   "metadata": {},
   "outputs": [],
   "source": [
    "## Importing the functionality from the module\n",
    "#from ModuleName import functionality/SubModule"
   ]
  },
  {
   "cell_type": "code",
   "execution_count": 21,
   "id": "d76cae1c-21f1-47c9-9648-cefc47d0b42b",
   "metadata": {},
   "outputs": [],
   "source": [
    "from sys import path\n",
    "from sys import exit   # exit\n",
    "from sys import argv   # argv\n",
    "\n",
    "import matplotlib \n",
    "from matplotlib import pyplot\n",
    "import sklearn\n",
    "# Nested Module declared\n",
    "from sklearn.linear_model import LinearRegression"
   ]
  },
  {
   "cell_type": "code",
   "execution_count": 1,
   "id": "4ff3756c-d963-4f60-b53e-2b8f8b00896d",
   "metadata": {},
   "outputs": [],
   "source": [
    "import sys\n",
    "# 95 Percent of the modules are written in Python langauges \n",
    "# But certain module are written in C Language : because of Performance improvment in the python interepreter   (sys,os)"
   ]
  },
  {
   "cell_type": "code",
   "execution_count": 3,
   "id": "180c1cb6-0214-4a55-acb4-c7859b39ea75",
   "metadata": {},
   "outputs": [],
   "source": [
    "# help to see what functions available inside the sys module\n",
    "#help(sys)"
   ]
  },
  {
   "cell_type": "code",
   "execution_count": null,
   "id": "c32ba438-295b-4b18-b14b-8d94fbae3359",
   "metadata": {},
   "outputs": [],
   "source": [
    "# argv : Command Line Arguments : (list data structure )"
   ]
  },
  {
   "cell_type": "code",
   "execution_count": 14,
   "id": "bedac24d-c545-4609-b4af-6c07d7ae144f",
   "metadata": {},
   "outputs": [],
   "source": [
    "# Python : help function can see the documentation about anything\n",
    "# help(sys)\n",
    "# exit() -- exit the interpreter by raising SystemExit\n",
    "# argv -- command line arguments; argv[0] is the script pathname if known\n",
    "# maxsize -- the largest supported length of containers.\n",
    "# path -- module search path; path[0] is the script directory, else ''"
   ]
  },
  {
   "cell_type": "code",
   "execution_count": 15,
   "id": "e92428ca-cf6f-4bc7-aa90-c0ca2e89aff0",
   "metadata": {},
   "outputs": [],
   "source": [
    "import sys"
   ]
  },
  {
   "cell_type": "markdown",
   "id": "47e8862f-29d4-49c1-b6d4-419f8c515450",
   "metadata": {},
   "source": [
    "### exit() -- exit the interpreter by raising SystemExit"
   ]
  },
  {
   "cell_type": "code",
   "execution_count": 5,
   "id": "1b9923ba-3030-4bf1-ac16-32ea3b1c1993",
   "metadata": {},
   "outputs": [
    {
     "name": "stdin",
     "output_type": "stream",
     "text": [
      "Enter a Integer Value:  ETs\n"
     ]
    },
    {
     "name": "stdout",
     "output_type": "stream",
     "text": [
      "Error:  Please Enter the integer Value only\n",
      "Exiting form the program\n"
     ]
    },
    {
     "ename": "SystemExit",
     "evalue": "-1",
     "output_type": "error",
     "traceback": [
      "An exception has occurred, use %tb to see the full traceback.\n",
      "\u001b[0;31mSystemExit\u001b[0m\u001b[0;31m:\u001b[0m -1\n"
     ]
    },
    {
     "name": "stderr",
     "output_type": "stream",
     "text": [
      "/opt/miniforge3/lib/python3.10/site-packages/IPython/core/interactiveshell.py:3516: UserWarning: To exit: use 'exit', 'quit', or Ctrl-D.\n",
      "  warn(\"To exit: use 'exit', 'quit', or Ctrl-D.\", stacklevel=1)\n"
     ]
    }
   ],
   "source": [
    "#!/usr/bin/python3\n",
    "\n",
    "# If we want to update a global variable inside function,\n",
    "# we need to use global keyword with variable name inside function\n",
    "\n",
    "#Module used in the program\n",
    "import sys\n",
    "\n",
    "def computeTable(number):\n",
    "    print(number)\n",
    "\n",
    "str1 = input(\"Enter a Integer Value: \")\n",
    "\n",
    "if str1.isdigit():\n",
    "    computeTable(str1)\n",
    "else:\n",
    "    print(\"Error:  Please Enter the integer Value only\")\n",
    "    print(\"Exiting form the program\")\n",
    "    sys.exit(-1)\n",
    "print(f\"After Function Calling : {str1}\")"
   ]
  },
  {
   "cell_type": "markdown",
   "id": "69fe8407-0ba8-4821-b1c4-5861bd2b089c",
   "metadata": {},
   "source": [
    "### argv  : Command Line Argument Function"
   ]
  },
  {
   "cell_type": "code",
   "execution_count": null,
   "id": "2029f72d-00d3-49f7-8a98-30f3a1d93327",
   "metadata": {},
   "outputs": [],
   "source": [
    "#import sys # We can import the module with moduleName\n",
    "\n",
    "#from ModuleName import functionality\n",
    "from sys import path\n",
    "from sys import exit\n",
    "from sys import argv\n",
    "\n",
    "#sys.argv:  to use argv or command line arguments\n",
    "#sys.exit: any exception or error or unwanted condition occured in the code, exit from the code\n",
    "#sys.path : Specifiy the location where ur interpreter and modules are installed in the system\n",
    "def main():\n",
    "\n",
    "    print(path)\n",
    "\n",
    "\n",
    "    # another ways to given input to user : Command Line arguments Input\n",
    "    # sys.argv : return the list of command line arguments\n",
    "    for index in range(1,len(argv)):\n",
    "        print(f'Command Line Argument[{index}]:  {argv[index]}')\n",
    "\n",
    "    header = True\n",
    "    for argument in argv:\n",
    "        if header == True:\n",
    "            header = False\n",
    "            continue\n",
    "        print(f'Command Line Argument:  {argument}')\n",
    "\n",
    "# boiler Syntax it help us to debug easily our code\n",
    "if __name__ == '__main__':\n",
    "    main()\n",
    "\n"
   ]
  },
  {
   "cell_type": "code",
   "execution_count": 24,
   "id": "664cba66-b3bf-4c9a-87fe-bfe4e3ea2bcb",
   "metadata": {},
   "outputs": [
    {
     "name": "stdout",
     "output_type": "stream",
     "text": [
      "matplotlib.pyplot\n"
     ]
    }
   ],
   "source": [
    "import sklearn\n",
    "import matplotlib.pyplot as plt\n",
    "print(plt.__name__)"
   ]
  },
  {
   "cell_type": "code",
   "execution_count": null,
   "id": "53834a5d-8b11-488f-a81b-ecdb6638bf4f",
   "metadata": {},
   "outputs": [],
   "source": []
  }
 ],
 "metadata": {
  "kernelspec": {
   "display_name": "Python 3 (ipykernel)",
   "language": "python",
   "name": "python3"
  },
  "language_info": {
   "codemirror_mode": {
    "name": "ipython",
    "version": 3
   },
   "file_extension": ".py",
   "mimetype": "text/x-python",
   "name": "python",
   "nbconvert_exporter": "python",
   "pygments_lexer": "ipython3",
   "version": "3.10.12"
  }
 },
 "nbformat": 4,
 "nbformat_minor": 5
}
