{
 "cells": [
  {
   "cell_type": "code",
   "execution_count": null,
   "id": "fca4cf38-b2ec-4683-972d-91a36ecee5ff",
   "metadata": {},
   "outputs": [],
   "source": [
    "- List => [] \n",
    "- Tuple => (,)\n",
    "- Dictionary = { }\n",
    "- Sets"
   ]
  },
  {
   "cell_type": "markdown",
   "id": "ddbc58df-e30e-46f8-b524-46b3f732ca57",
   "metadata": {},
   "source": [
    "- Create a empty Dictionary : Two Methods\n",
    "- Create a dictionary with default elements in it\n",
    "- Iterating a dictionary : items(), keys()\n",
    "- How to check if the given value exists in the keys of the dictionary : keys function\n",
    "- How to check if the given value exists in the values of the dictionary : values function\n",
    "- Add an element to the dictionary : dictName[key] = value\n",
    "- Update an element to dictionary : Known key => dictName[key] = newValue, dictName.update({key: newValue}) \n",
    "- Deleting or removing a value from dictionary : del\n",
    "- How delete all the content from the dictionary : clear function\n",
    "- How to copy a dictionary : copy funciton\n",
    "- How to get the value according to the key in the dictionary :  get function , or dictName[key]\n",
    "- How to delete the content(key:value) pair according to the key value : pop function\n",
    "- how to remove the key:value pair from the dictinary : popitem\n",
    "- How to add certain keys into the dictinary without having value or get the value if key is present : setdefault function"
   ]
  },
  {
   "cell_type": "code",
   "execution_count": 16,
   "id": "d7104736-33e8-46e1-8263-15b914b71d09",
   "metadata": {},
   "outputs": [],
   "source": [
    "# Suppose I am saving students in the database with their roll number or ID or SSN"
   ]
  },
  {
   "cell_type": "markdown",
   "id": "ecbe915e-f0c4-48df-8ba8-71964f7bbc18",
   "metadata": {},
   "source": [
    "- Create a empty Dictionary : Two Methods"
   ]
  },
  {
   "cell_type": "code",
   "execution_count": 17,
   "id": "71a7df24-89b3-4488-b70b-4cd87e26cae7",
   "metadata": {},
   "outputs": [
    {
     "name": "stdout",
     "output_type": "stream",
     "text": [
      "<class 'dict'>\n",
      "{}\n"
     ]
    }
   ],
   "source": [
    "studentDict = {}\n",
    "print(type(studentDict))\n",
    "print(studentDict)"
   ]
  },
  {
   "cell_type": "code",
   "execution_count": 18,
   "id": "5479c4f0-3df7-4b28-9d86-44f271d44841",
   "metadata": {},
   "outputs": [
    {
     "name": "stdout",
     "output_type": "stream",
     "text": [
      "<class 'dict'>\n",
      "{}\n"
     ]
    }
   ],
   "source": [
    "numberDict = dict()\n",
    "print(type(numberDict))\n",
    "print(numberDict)"
   ]
  },
  {
   "cell_type": "markdown",
   "id": "091c6c29-d6bc-4bc9-a45e-811261d9d977",
   "metadata": {},
   "source": [
    "- Create a dictionary with elements in it default values => key1 : value1, key2 : value2"
   ]
  },
  {
   "cell_type": "code",
   "execution_count": 2,
   "id": "6f992ef9-69f4-4f26-be05-7bd1217b5d21",
   "metadata": {},
   "outputs": [
    {
     "name": "stdout",
     "output_type": "stream",
     "text": [
      "<class 'dict'>\n",
      "{1: 'ABD K Astore', 2: 'Sanjay'}\n"
     ]
    }
   ],
   "source": [
    "# key : can be integer, string, tuple )  : unique , immutable \n",
    "# value : can be , string, list, dictionary \n",
    "studentDict = { 1 : 'ABD K Astore' , 2 : 'Sanjay' } \n",
    "#l1 = (1,2)\n",
    "#l2 = (2,3)\n",
    "#studentDict = { l1 : 'Sanjay', l2 : 'kumar' }\n",
    "print(type(studentDict))\n",
    "print(studentDict)"
   ]
  },
  {
   "cell_type": "code",
   "execution_count": 3,
   "id": "4901672c-5cad-4046-a837-86d36bcccbe9",
   "metadata": {},
   "outputs": [
    {
     "data": {
      "text/plain": [
       "dict_items([(1, 'ABD K Astore'), (2, 'Sanjay')])"
      ]
     },
     "execution_count": 3,
     "metadata": {},
     "output_type": "execute_result"
    }
   ],
   "source": [
    "#Item function of the dictionary returns a list which consists all element of the dictionary as a tuple.\n",
    "studentDict.items()"
   ]
  },
  {
   "cell_type": "code",
   "execution_count": 4,
   "id": "5337f21c-df88-49a2-a60d-19aee61afa8e",
   "metadata": {},
   "outputs": [
    {
     "name": "stdout",
     "output_type": "stream",
     "text": [
      "(1, 'ABD K Astore')\n",
      "<class 'tuple'>\n",
      "(2, 'Sanjay')\n",
      "<class 'tuple'>\n"
     ]
    }
   ],
   "source": [
    "# Don't write iteration in the  dictionary \n",
    "for element in studentDict.items():\n",
    "    print(element)\n",
    "    print(type(element))"
   ]
  },
  {
   "cell_type": "code",
   "execution_count": 5,
   "id": "da08c085-2ebf-48b9-add3-9585faa38a78",
   "metadata": {},
   "outputs": [
    {
     "name": "stdout",
     "output_type": "stream",
     "text": [
      "1 : ABD K Astore\n",
      "2 : Sanjay\n"
     ]
    }
   ],
   "source": [
    "# Iterating a dictionary \n",
    "for key, value in studentDict.items():\n",
    "    print(f'{key} : {value}')"
   ]
  },
  {
   "cell_type": "code",
   "execution_count": 7,
   "id": "32cf9916-31d1-47f3-a746-981c9676205b",
   "metadata": {},
   "outputs": [
    {
     "name": "stdout",
     "output_type": "stream",
     "text": [
      "1 : ABD K Astore \n",
      "2 : Sanjay \n"
     ]
    }
   ],
   "source": [
    "# Iterating a dictionary by using keys function\n",
    "for key in studentDict.keys():\n",
    "    print(f'{key} : {studentDict[key]} ')"
   ]
  },
  {
   "cell_type": "code",
   "execution_count": null,
   "id": "9d8fe575-6ab2-436b-99bb-401cd996613c",
   "metadata": {},
   "outputs": [],
   "source": [
    "# assign the value in a dictionary\n",
    "studentDict[key] = value\n",
    "\n",
    "# acesing the value accordding to given key\n",
    "studentDict[key]"
   ]
  },
  {
   "cell_type": "markdown",
   "id": "fa3d1791-c1c6-498d-9790-e4160d94d544",
   "metadata": {},
   "source": [
    "- Add an element to the dictionary :"
   ]
  },
  {
   "cell_type": "code",
   "execution_count": 33,
   "id": "2ad6cbd5-0a7a-47d1-8fad-7fc2693a6c16",
   "metadata": {},
   "outputs": [],
   "source": [
    "studentDict = { 1 : 'ABD K Astore' , 2 : 'Sanjay' } "
   ]
  },
  {
   "cell_type": "code",
   "execution_count": 36,
   "id": "6d2d15f8-3875-4dd1-85c9-ecada46e3f96",
   "metadata": {},
   "outputs": [
    {
     "name": "stdout",
     "output_type": "stream",
     "text": [
      "{1: 'ABD K Astore', 2: 'Sanjay', 3: 'Inam'}\n"
     ]
    }
   ],
   "source": [
    "# adding element by key value (unique)\n",
    "studentDict[3] = 'Inam'\n",
    "print(studentDict)"
   ]
  },
  {
   "cell_type": "markdown",
   "id": "9dca852f-1dab-4e71-98c8-b2801424b13b",
   "metadata": {},
   "source": [
    "- Update an element to dictionary : Known key => dictName[key] = newValue"
   ]
  },
  {
   "cell_type": "code",
   "execution_count": 37,
   "id": "8c67fc6a-6ecc-49af-81f0-c2e0eb155be0",
   "metadata": {},
   "outputs": [
    {
     "name": "stdout",
     "output_type": "stream",
     "text": [
      "{1: 'ABD K Astore', 2: 'Inam', 3: 'Inam'}\n"
     ]
    }
   ],
   "source": [
    "# Updating the the value at key location 2\n",
    "studentDict[2] = 'Inam'\n",
    "print(studentDict)"
   ]
  },
  {
   "cell_type": "markdown",
   "id": "2fdc2fa4-4003-4213-a8f1-4b66d6e1aa38",
   "metadata": {},
   "source": [
    "- Update an element to dictionary : dictName.update(key,NewValue)"
   ]
  },
  {
   "cell_type": "code",
   "execution_count": 39,
   "id": "c7e3ccee-3b8b-49a6-9f0b-ff629dadee93",
   "metadata": {},
   "outputs": [],
   "source": [
    "examDict = { 1 : 'SessionTest', 2:'Exam' , 3 : 'MidTerm' }"
   ]
  },
  {
   "cell_type": "code",
   "execution_count": 45,
   "id": "6be52950-e46c-4b47-9f4f-3527cfd201ca",
   "metadata": {},
   "outputs": [
    {
     "name": "stdout",
     "output_type": "stream",
     "text": [
      "{1: 'ClassTest', 2: 'Exam', 3: 'MidTerm'}\n"
     ]
    }
   ],
   "source": [
    "#help(dict.update)\n",
    "examDict.update({1 :'ClassTest'})\n",
    "print(examDict)"
   ]
  },
  {
   "cell_type": "markdown",
   "id": "fa05983b-0fc7-4b77-b602-2ca0bdbd7645",
   "metadata": {},
   "source": [
    "- How to check if the given value exists in the keys of the dictionary : keys function"
   ]
  },
  {
   "cell_type": "code",
   "execution_count": 43,
   "id": "4a27af6e-0719-41d5-a8d0-ee54b1f4ffc9",
   "metadata": {},
   "outputs": [
    {
     "data": {
      "text/plain": [
       "dict_keys([1, 3])"
      ]
     },
     "execution_count": 43,
     "metadata": {},
     "output_type": "execute_result"
    }
   ],
   "source": [
    "#keys function returns a list of the keys stored in the dictionary\n",
    "studentDict.keys()"
   ]
  },
  {
   "cell_type": "code",
   "execution_count": null,
   "id": "40255f69-7848-4d2d-9c2c-2c8f0841ee3c",
   "metadata": {},
   "outputs": [],
   "source": [
    "- How to check if the given value exists in the values of the dictionary : values function"
   ]
  },
  {
   "cell_type": "code",
   "execution_count": 42,
   "id": "4c9e343c-590b-43d3-b71a-81a174cb38ab",
   "metadata": {},
   "outputs": [
    {
     "data": {
      "text/plain": [
       "dict_values(['ABD K Astore', 'Inam'])"
      ]
     },
     "execution_count": 42,
     "metadata": {},
     "output_type": "execute_result"
    }
   ],
   "source": [
    "#values function returns a list of the values stored in the dictionary\n",
    "studentDict.values()"
   ]
  },
  {
   "cell_type": "markdown",
   "id": "b3a65dab-fa31-4eaf-9aae-0649cfaec3fb",
   "metadata": {},
   "source": [
    "- Deleting or removing a value from dictionary : del"
   ]
  },
  {
   "cell_type": "code",
   "execution_count": 38,
   "id": "a29ba8ff-d5af-498f-a1f1-6452c3c40ea0",
   "metadata": {},
   "outputs": [
    {
     "name": "stdout",
     "output_type": "stream",
     "text": [
      "{1: 'ABD K Astore', 3: 'Inam'}\n"
     ]
    }
   ],
   "source": [
    "del studentDict[2]\n",
    "print(studentDict)"
   ]
  },
  {
   "cell_type": "code",
   "execution_count": 45,
   "id": "a19ee063-70d4-4e32-86cc-e9332952f3c7",
   "metadata": {},
   "outputs": [
    {
     "name": "stdout",
     "output_type": "stream",
     "text": [
      "Key 2 not found in the studentDict keys :dict_keys([1, 3])\n"
     ]
    }
   ],
   "source": [
    "# if the given key is not in the dictionary, it will generate KeyError\n",
    "if 2 in studentDict.keys() :\n",
    "    del studentDict[2]\n",
    "else: \n",
    "    print(f'Key 2 not found in the studentDict keys :{studentDict.keys()}')"
   ]
  },
  {
   "cell_type": "code",
   "execution_count": null,
   "id": "d7061b37-a800-4292-a992-52dca32c75b0",
   "metadata": {},
   "outputs": [],
   "source": [
    "help(dict)"
   ]
  },
  {
   "cell_type": "markdown",
   "id": "3a0629cb-bdeb-4587-8798-27b1bdbfea62",
   "metadata": {},
   "source": [
    "- How delete all the content from the dictionary : clear function\n"
   ]
  },
  {
   "cell_type": "code",
   "execution_count": 9,
   "id": "073d2db9-e225-42fc-b812-dcc7f74678be",
   "metadata": {},
   "outputs": [
    {
     "name": "stdout",
     "output_type": "stream",
     "text": [
      "Before Clear function called : {1: 'ABD K Astore', 2: 'Sanjay'}\n",
      "After Clear function called : {}\n"
     ]
    }
   ],
   "source": [
    "studentDict = { 1 : 'ABD K Astore' , 2 : 'Sanjay' } \n",
    "print(f\"Before Clear function called : {studentDict}\")\n",
    "\n",
    "studentDict.clear()\n",
    "print(f\"After Clear function called : {studentDict}\")\n",
    "\n"
   ]
  },
  {
   "cell_type": "markdown",
   "id": "c5a89d7f-b25f-4f72-9a5b-42a16f2cb572",
   "metadata": {},
   "source": [
    "- How to copy a dictionary : copy funciton"
   ]
  },
  {
   "cell_type": "code",
   "execution_count": 12,
   "id": "eef82416-f6ad-4958-b4ad-3886582dfdcc",
   "metadata": {},
   "outputs": [
    {
     "name": "stdout",
     "output_type": "stream",
     "text": [
      "Memory reference to StudentDict : 4358001856\n",
      "Memory reference to StudentDict : 4358001856\n",
      "{}\n",
      "{}\n"
     ]
    }
   ],
   "source": [
    "studentDict = { 1 : 'ABD K Astore' , 2 : 'Sanjay' } \n",
    "newDict = studentDict\n",
    "print(f\"Memory reference to StudentDict : {id(studentDict)}\")\n",
    "print(f\"Memory reference to StudentDict : {id(newDict)}\")\n",
    "del studentDict[1]\n",
    "del newDict[2]\n",
    "print(studentDict)\n",
    "print(newDict)"
   ]
  },
  {
   "cell_type": "code",
   "execution_count": 11,
   "id": "429099a0-e154-46c5-9c43-7d3dab52669d",
   "metadata": {},
   "outputs": [
    {
     "name": "stdout",
     "output_type": "stream",
     "text": [
      "Memory reference to StudentDict : 4362143616\n",
      "Memory reference to StudentDict : 4357672768\n",
      "{2: 'Sanjay'}\n",
      "{1: 'ABD K Astore'}\n"
     ]
    }
   ],
   "source": [
    "studentDict = { 1 : 'ABD K Astore' , 2 : 'Sanjay' } \n",
    "# shallow copy\n",
    "newDict = studentDict.copy()\n",
    "print(f\"Memory reference to StudentDict : {id(studentDict)}\")\n",
    "print(f\"Memory reference to StudentDict : {id(newDict)}\")\n",
    "del studentDict[1]\n",
    "del newDict[2]\n",
    "print(studentDict)\n",
    "print(newDict)"
   ]
  },
  {
   "cell_type": "markdown",
   "id": "6a06b057-7a49-45c9-ae0b-d17991b2c064",
   "metadata": {},
   "source": [
    "- How to get the value according to the key in the dictionary :  get function , or dictName[key]"
   ]
  },
  {
   "cell_type": "code",
   "execution_count": 14,
   "id": "8b97a566-d47d-4d97-b0f2-c8828e881e61",
   "metadata": {},
   "outputs": [],
   "source": [
    "studentDict = { 1 : 'ABD K Astore' , 2 : 'Sanjay' } "
   ]
  },
  {
   "cell_type": "code",
   "execution_count": 15,
   "id": "d92b3f34-8786-4b34-97b9-88650a76c7e0",
   "metadata": {},
   "outputs": [
    {
     "name": "stdout",
     "output_type": "stream",
     "text": [
      "Getting the value according to key as 1 to  ABD K Astore\n"
     ]
    }
   ],
   "source": [
    "print(f\"Getting the value according to key as 1 to  {studentDict.get(1)}\")"
   ]
  },
  {
   "cell_type": "code",
   "execution_count": 16,
   "id": "58f7d2b8-ca37-4084-8532-d013df6141c1",
   "metadata": {},
   "outputs": [
    {
     "name": "stdout",
     "output_type": "stream",
     "text": [
      "Getting the value according to key as 1 to  ABD K Astore\n"
     ]
    }
   ],
   "source": [
    "print(f\"Getting the value according to key as 1 to  {studentDict[1]}\")"
   ]
  },
  {
   "cell_type": "code",
   "execution_count": 18,
   "id": "10928c4a-da48-40ca-9c00-dc1a5440cfb8",
   "metadata": {},
   "outputs": [],
   "source": [
    "#help(dict.get)"
   ]
  },
  {
   "cell_type": "code",
   "execution_count": 22,
   "id": "a1ebcfdc-b830-4655-8eee-6af52e85ea02",
   "metadata": {},
   "outputs": [
    {
     "name": "stdout",
     "output_type": "stream",
     "text": [
      "Name for key 1 is ABD K Astore\n",
      "Name for key 2 is Sanjay\n"
     ]
    },
    {
     "ename": "KeyError",
     "evalue": "3",
     "output_type": "error",
     "traceback": [
      "\u001b[0;31m---------------------------------------------------------------------------\u001b[0m",
      "\u001b[0;31mKeyError\u001b[0m                                  Traceback (most recent call last)",
      "Cell \u001b[0;32mIn[22], line 7\u001b[0m\n\u001b[1;32m      4\u001b[0m keys \u001b[38;5;241m=\u001b[39m [\u001b[38;5;241m1\u001b[39m,\u001b[38;5;241m2\u001b[39m,\u001b[38;5;241m3\u001b[39m,\u001b[38;5;241m4\u001b[39m,\u001b[38;5;241m5\u001b[39m,\u001b[38;5;241m6\u001b[39m]\n\u001b[1;32m      5\u001b[0m \u001b[38;5;28;01mfor\u001b[39;00m key \u001b[38;5;129;01min\u001b[39;00m keys:\n\u001b[1;32m      6\u001b[0m     \u001b[38;5;66;03m#if key in studentDict.keys():\u001b[39;00m\n\u001b[0;32m----> 7\u001b[0m     \u001b[38;5;28mprint\u001b[39m(\u001b[38;5;124mf\u001b[39m\u001b[38;5;124m\"\u001b[39m\u001b[38;5;124mName for key \u001b[39m\u001b[38;5;132;01m{\u001b[39;00mkey\u001b[38;5;132;01m}\u001b[39;00m\u001b[38;5;124m is \u001b[39m\u001b[38;5;132;01m{\u001b[39;00m\u001b[43mstudentDict\u001b[49m\u001b[43m[\u001b[49m\u001b[43mkey\u001b[49m\u001b[43m]\u001b[49m\u001b[38;5;132;01m}\u001b[39;00m\u001b[38;5;124m\"\u001b[39m)\n",
      "\u001b[0;31mKeyError\u001b[0m: 3"
     ]
    }
   ],
   "source": [
    "# Benefit of using get function as it return None\n",
    "# using square brackets in case key not found, generates the KeyError\n",
    "\n",
    "keys = [1,2,3,4,5,6]\n",
    "for key in keys:\n",
    "    #if key in studentDict.keys():\n",
    "    print(f\"Name for key {key} is {studentDict[key]}\")"
   ]
  },
  {
   "cell_type": "code",
   "execution_count": 20,
   "id": "301fe17f-fb6b-43bb-8012-d0ece684eec5",
   "metadata": {},
   "outputs": [
    {
     "name": "stdout",
     "output_type": "stream",
     "text": [
      "Name for key 1 is ABD K Astore\n",
      "Name for key 2 is Sanjay\n",
      "Name for key 3 is None\n",
      "Name for key 4 is None\n",
      "Name for key 5 is None\n",
      "Name for key 6 is None\n"
     ]
    }
   ],
   "source": [
    "keys = [1,2,3,4,5,6]\n",
    "for key in keys:\n",
    "    print(f\"Name for key {key} is {studentDict.get(key)}\")"
   ]
  },
  {
   "cell_type": "code",
   "execution_count": null,
   "id": "57da2d4c-a3b0-42e2-98a1-02a927d2b237",
   "metadata": {},
   "outputs": [],
   "source": [
    "- How to delete the content(key:value) pair according to the key value : pop function "
   ]
  },
  {
   "cell_type": "code",
   "execution_count": 25,
   "id": "c0f46ec7-7832-4323-801e-1089c22ed005",
   "metadata": {},
   "outputs": [],
   "source": [
    "studentDict = { 1 : 'ABD K Astore' , 2 : 'Sanjay' } "
   ]
  },
  {
   "cell_type": "code",
   "execution_count": 26,
   "id": "29614892-5b27-43b5-bcf7-d5f586fcaba4",
   "metadata": {},
   "outputs": [
    {
     "ename": "KeyError",
     "evalue": "4",
     "output_type": "error",
     "traceback": [
      "\u001b[0;31m---------------------------------------------------------------------------\u001b[0m",
      "\u001b[0;31mKeyError\u001b[0m                                  Traceback (most recent call last)",
      "Cell \u001b[0;32mIn[26], line 1\u001b[0m\n\u001b[0;32m----> 1\u001b[0m \u001b[43mstudentDict\u001b[49m\u001b[38;5;241;43m.\u001b[39;49m\u001b[43mpop\u001b[49m\u001b[43m(\u001b[49m\u001b[38;5;241;43m4\u001b[39;49m\u001b[43m)\u001b[49m\n",
      "\u001b[0;31mKeyError\u001b[0m: 4"
     ]
    }
   ],
   "source": [
    "# if key is not there in the dictionary, it generates the KeyError\n",
    "studentDict.pop(4)"
   ]
  },
  {
   "cell_type": "code",
   "execution_count": 27,
   "id": "c1170a9c-07ca-4301-9979-bfc402a7f804",
   "metadata": {},
   "outputs": [
    {
     "data": {
      "text/plain": [
       "'ABD K Astore'"
      ]
     },
     "execution_count": 27,
     "metadata": {},
     "output_type": "execute_result"
    }
   ],
   "source": [
    "studentDict.pop(1)"
   ]
  },
  {
   "cell_type": "code",
   "execution_count": 28,
   "id": "17e71d1d-7bd1-48b6-bbba-c941852851ee",
   "metadata": {},
   "outputs": [
    {
     "data": {
      "text/plain": [
       "{2: 'Sanjay'}"
      ]
     },
     "execution_count": 28,
     "metadata": {},
     "output_type": "execute_result"
    }
   ],
   "source": [
    "studentDict"
   ]
  },
  {
   "cell_type": "code",
   "execution_count": 29,
   "id": "4c6d1ecf-6855-4bff-87c0-b9fdee8b3dc2",
   "metadata": {},
   "outputs": [
    {
     "name": "stdout",
     "output_type": "stream",
     "text": [
      "Help on method_descriptor:\n",
      "\n",
      "pop(...)\n",
      "    D.pop(k[,d]) -> v, remove specified key and return the corresponding value.\n",
      "    \n",
      "    If the key is not found, return the default if given; otherwise,\n",
      "    raise a KeyError.\n",
      "\n"
     ]
    }
   ],
   "source": [
    "help(dict.popitem)"
   ]
  },
  {
   "cell_type": "markdown",
   "id": "f660da94-6ced-48bc-b11f-96280272a9e5",
   "metadata": {},
   "source": [
    "- how to remove the key:value pair from the dictinary : popitem"
   ]
  },
  {
   "cell_type": "code",
   "execution_count": 30,
   "id": "8bd14008-7610-4af9-9e3a-d76eada19c0b",
   "metadata": {},
   "outputs": [
    {
     "name": "stdout",
     "output_type": "stream",
     "text": [
      "Help on method_descriptor:\n",
      "\n",
      "popitem(self, /)\n",
      "    Remove and return a (key, value) pair as a 2-tuple.\n",
      "    \n",
      "    Pairs are returned in LIFO (last-in, first-out) order.\n",
      "    Raises KeyError if the dict is empty.\n",
      "\n"
     ]
    }
   ],
   "source": [
    "help(dict.popitem)"
   ]
  },
  {
   "cell_type": "code",
   "execution_count": 46,
   "id": "fef16ca3-9293-413b-aec9-87c77b4fb06f",
   "metadata": {},
   "outputs": [],
   "source": [
    "studentDict = {3:'ABCD',  1 : 'ABD K Astore' , 2 : 'Sanjay' } "
   ]
  },
  {
   "cell_type": "code",
   "execution_count": 47,
   "id": "c0863a03-4362-4191-a113-780a9fa4884f",
   "metadata": {},
   "outputs": [
    {
     "data": {
      "text/plain": [
       "(2, 'Sanjay')"
      ]
     },
     "execution_count": 47,
     "metadata": {},
     "output_type": "execute_result"
    }
   ],
   "source": [
    "studentDict.popitem()"
   ]
  },
  {
   "cell_type": "code",
   "execution_count": 48,
   "id": "476abf01-54c3-436b-9fc9-884f25d89b05",
   "metadata": {},
   "outputs": [
    {
     "data": {
      "text/plain": [
       "(1, 'ABD K Astore')"
      ]
     },
     "execution_count": 48,
     "metadata": {},
     "output_type": "execute_result"
    }
   ],
   "source": [
    "studentDict.popitem()"
   ]
  },
  {
   "cell_type": "markdown",
   "id": "b6cc5603-2ff9-4a15-92af-88f42ac73865",
   "metadata": {},
   "source": [
    "- How to add certain keys into the dictinary without having value or get the value if key is present : setdefault function"
   ]
  },
  {
   "cell_type": "code",
   "execution_count": 53,
   "id": "5d875a97-4dc6-422b-91a5-457f76905df3",
   "metadata": {},
   "outputs": [
    {
     "name": "stdout",
     "output_type": "stream",
     "text": [
      "Help on method_descriptor:\n",
      "\n",
      "setdefault(self, key, default=None, /)\n",
      "    Insert key with a value of default if key is not in the dictionary.\n",
      "    \n",
      "    Return the value for key if key is in the dictionary, else default.\n",
      "\n"
     ]
    }
   ],
   "source": [
    "help(dict.setdefault)"
   ]
  },
  {
   "cell_type": "code",
   "execution_count": 54,
   "id": "c51d9a5e-71b0-4150-9a80-72a05a873ebe",
   "metadata": {},
   "outputs": [],
   "source": [
    "studentDict = {3:'ABCD',  1 : 'ABD K Astore' , 2 : 'Sanjay' } "
   ]
  },
  {
   "cell_type": "code",
   "execution_count": 55,
   "id": "99abaaed-fc4f-456b-8e83-ae9b854ec66d",
   "metadata": {},
   "outputs": [
    {
     "name": "stdout",
     "output_type": "stream",
     "text": [
      "ABCD\n"
     ]
    }
   ],
   "source": [
    "print(studentDict.setdefault(3))"
   ]
  },
  {
   "cell_type": "code",
   "execution_count": 56,
   "id": "f1619d27-eea7-4003-9028-1132bbace6ad",
   "metadata": {},
   "outputs": [
    {
     "name": "stdout",
     "output_type": "stream",
     "text": [
      "None\n"
     ]
    }
   ],
   "source": [
    "print(studentDict.setdefault(4))"
   ]
  },
  {
   "cell_type": "code",
   "execution_count": 57,
   "id": "062c0ff0-0fa5-4ace-8268-3edb1c092e27",
   "metadata": {},
   "outputs": [
    {
     "data": {
      "text/plain": [
       "{3: 'ABCD', 1: 'ABD K Astore', 2: 'Sanjay', 4: None}"
      ]
     },
     "execution_count": 57,
     "metadata": {},
     "output_type": "execute_result"
    }
   ],
   "source": [
    "studentDict"
   ]
  }
 ],
 "metadata": {
  "kernelspec": {
   "display_name": "Python 3 (ipykernel)",
   "language": "python",
   "name": "python3"
  },
  "language_info": {
   "codemirror_mode": {
    "name": "ipython",
    "version": 3
   },
   "file_extension": ".py",
   "mimetype": "text/x-python",
   "name": "python",
   "nbconvert_exporter": "python",
   "pygments_lexer": "ipython3",
   "version": "3.10.12"
  }
 },
 "nbformat": 4,
 "nbformat_minor": 5
}
