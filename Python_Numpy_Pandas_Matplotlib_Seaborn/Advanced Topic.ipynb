{
 "cells": [
  {
   "cell_type": "markdown",
   "id": "1edaa74e-4f49-44f6-a32e-dfc7d3844058",
   "metadata": {},
   "source": [
    "### Comprehension: List, Set, Dict"
   ]
  },
  {
   "cell_type": "code",
   "execution_count": 1,
   "id": "023d9bee-9086-443f-9ecc-ca03f0e5d36c",
   "metadata": {},
   "outputs": [
    {
     "name": "stdout",
     "output_type": "stream",
     "text": [
      "[1, 2, 3, 4, 5, 6, 7, 8, 9, 10, 11, 12, 13, 14, 15, 16, 17, 18, 19, 20, 21, 22, 23, 24, 25, 26, 27, 28, 29, 30, 31, 32, 33, 34, 35, 36, 37, 38, 39, 40, 41, 42, 43, 44, 45, 46, 47, 48, 49, 50, 51, 52, 53, 54, 55, 56, 57, 58, 59, 60, 61, 62, 63, 64, 65, 66, 67, 68, 69, 70, 71, 72, 73, 74, 75, 76, 77, 78, 79, 80, 81, 82, 83, 84, 85, 86, 87, 88, 89, 90, 91, 92, 93, 94, 95, 96, 97, 98, 99, 100, 101, 102, 103, 104, 105, 106, 107, 108, 109, 110, 111, 112, 113, 114, 115, 116, 117, 118, 119, 120, 121, 122, 123, 124, 125, 126, 127, 128, 129, 130, 131, 132, 133, 134, 135, 136, 137, 138, 139, 140, 141, 142, 143, 144, 145, 146, 147, 148, 149, 150, 151, 152, 153, 154, 155, 156, 157, 158, 159, 160, 161, 162, 163, 164, 165, 166, 167, 168, 169, 170, 171, 172, 173, 174, 175, 176, 177, 178, 179, 180, 181, 182, 183, 184, 185, 186, 187, 188, 189, 190, 191, 192, 193, 194, 195, 196, 197, 198, 199, 200]\n"
     ]
    }
   ],
   "source": [
    "# using only for loop\n",
    "newList = [ i for i in range(1,201) ] \n",
    "print(newList)"
   ]
  },
  {
   "cell_type": "code",
   "execution_count": 2,
   "id": "e6931dc9-798b-4277-95a4-1b0fc3b11c9f",
   "metadata": {},
   "outputs": [
    {
     "name": "stdout",
     "output_type": "stream",
     "text": [
      "[2, 4, 6, 8, 10, 12, 14, 16, 18, 20, 22, 24, 26, 28, 30, 32, 34, 36, 38, 40, 42, 44, 46, 48, 50, 52, 54, 56, 58, 60, 62, 64, 66, 68, 70, 72, 74, 76, 78, 80, 82, 84, 86, 88, 90, 92, 94, 96, 98, 100, 102, 104, 106, 108, 110, 112, 114, 116, 118, 120, 122, 124, 126, 128, 130, 132, 134, 136, 138, 140, 142, 144, 146, 148, 150, 152, 154, 156, 158, 160, 162, 164, 166, 168, 170, 172, 174, 176, 178, 180, 182, 184, 186, 188, 190, 192, 194, 196, 198, 200]\n"
     ]
    }
   ],
   "source": [
    "# List Comprehension : If condition with for loop\n",
    "#using only for loop and if condition : even number in the list\n",
    "newList = [ i for i in range(1,201) if i%2 == 0] \n",
    "print(newList)"
   ]
  },
  {
   "cell_type": "code",
   "execution_count": 3,
   "id": "b0320e9d-c43a-4649-94c6-165db651cb54",
   "metadata": {},
   "outputs": [
    {
     "name": "stdout",
     "output_type": "stream",
     "text": [
      "[2, 2, 4, 4, 6, 6, 8, 8, 10, 10, 12, 12, 14, 14, 16, 16, 18, 18, 20, 20, 22, 22, 24, 24, 26, 26, 28, 28, 30, 30, 32, 32, 34, 34, 36, 36, 38, 38, 40, 40, 42, 42, 44, 44, 46, 46, 48, 48, 50, 50, 52, 52, 54, 54, 56, 56, 58, 58, 60, 60, 62, 62, 64, 64, 66, 66, 68, 68, 70, 70, 72, 72, 74, 74, 76, 76, 78, 78, 80, 80, 82, 82, 84, 84, 86, 86, 88, 88, 90, 90, 92, 92, 94, 94, 96, 96, 98, 98, 100, 100, 102, 102, 104, 104, 106, 106, 108, 108, 110, 110, 112, 112, 114, 114, 116, 116, 118, 118, 120, 120, 122, 122, 124, 124, 126, 126, 128, 128, 130, 130, 132, 132, 134, 134, 136, 136, 138, 138, 140, 140, 142, 142, 144, 144, 146, 146, 148, 148, 150, 150, 152, 152, 154, 154, 156, 156, 158, 158, 160, 160, 162, 162, 164, 164, 166, 166, 168, 168, 170, 170, 172, 172, 174, 174, 176, 176, 178, 178, 180, 180, 182, 182, 184, 184, 186, 186, 188, 188, 190, 190, 192, 192, 194, 194, 196, 196, 198, 198, 200, 200]\n"
     ]
    }
   ],
   "source": [
    "# List Comprehension : If condition and else condition with for loop\n",
    "#using only for loop and if condition : even number in the list\n",
    "newList = [ i if i%2 == 0 else i+1 for i in range(1,201)] \n",
    "print(newList)"
   ]
  },
  {
   "cell_type": "code",
   "execution_count": 4,
   "id": "790fefbf-f0ff-414d-aaba-7a57f384a45b",
   "metadata": {},
   "outputs": [
    {
     "name": "stdout",
     "output_type": "stream",
     "text": [
      "[(1, 12), (1, 13), (1, 14), (1, 15), (1, 16), (1, 17), (1, 18), (1, 19), (1, 20), (2, 12), (2, 13), (2, 14), (2, 15), (2, 16), (2, 17), (2, 18), (2, 19), (2, 20), (3, 12), (3, 13), (3, 14), (3, 15), (3, 16), (3, 17), (3, 18), (3, 19), (3, 20), (4, 12), (4, 13), (4, 14), (4, 15), (4, 16), (4, 17), (4, 18), (4, 19), (4, 20), (5, 12), (5, 13), (5, 14), (5, 15), (5, 16), (5, 17), (5, 18), (5, 19), (5, 20), (6, 12), (6, 13), (6, 14), (6, 15), (6, 16), (6, 17), (6, 18), (6, 19), (6, 20), (7, 12), (7, 13), (7, 14), (7, 15), (7, 16), (7, 17), (7, 18), (7, 19), (7, 20), (8, 12), (8, 13), (8, 14), (8, 15), (8, 16), (8, 17), (8, 18), (8, 19), (8, 20), (9, 12), (9, 13), (9, 14), (9, 15), (9, 16), (9, 17), (9, 18), (9, 19), (9, 20), (10, 12), (10, 13), (10, 14), (10, 15), (10, 16), (10, 17), (10, 18), (10, 19), (10, 20)]\n"
     ]
    }
   ],
   "source": [
    "# List Comprehension : using two for loop\n",
    "#using only for loop and if condition : even number in the list\n",
    "newList = [ (x,y) for x in range(1,11) for y in range(12,21) ] \n",
    "print(newList)"
   ]
  },
  {
   "cell_type": "code",
   "execution_count": 5,
   "id": "6e6bc739-ad40-4e04-936b-2d0ebafce721",
   "metadata": {},
   "outputs": [
    {
     "name": "stdout",
     "output_type": "stream",
     "text": [
      "{0, 1, 2, 3, 4, 5, 6, 7, 8, 9}\n"
     ]
    }
   ],
   "source": [
    "newSet = { i for i in range(10) } \n",
    "print(newSet)"
   ]
  },
  {
   "cell_type": "code",
   "execution_count": 6,
   "id": "be2b895f-1bcc-4c34-bd02-3ed1536bd880",
   "metadata": {},
   "outputs": [
    {
     "name": "stdout",
     "output_type": "stream",
     "text": [
      "{0: 4, 1: 4, 2: 4, 3: 4, 4: 4, 5: 4, 6: 4, 7: 4, 8: 4, 9: 4}\n"
     ]
    }
   ],
   "source": [
    "newDict = {  i:j for i in range(10) for j in range(5) } \n",
    "print(newDict)"
   ]
  },
  {
   "cell_type": "code",
   "execution_count": 7,
   "id": "d562528d-1bd9-493b-b2dd-307b12955b70",
   "metadata": {},
   "outputs": [
    {
     "name": "stdout",
     "output_type": "stream",
     "text": [
      "[[0, 15], [0, 16], [0, 17], [0, 18], [0, 19], [1, 15], [1, 16], [1, 17], [1, 18], [1, 19], [2, 15], [2, 16], [2, 17], [2, 18], [2, 19], [3, 15], [3, 16], [3, 17], [3, 18], [3, 19], [4, 15], [4, 16], [4, 17], [4, 18], [4, 19]]\n"
     ]
    }
   ],
   "source": [
    "# Nested Comprehension : building 2 D List\n",
    "newList =  [ [i,j] for i in range(5) for j in range(15,20) ]\n",
    "print(newList)"
   ]
  },
  {
   "cell_type": "markdown",
   "id": "4ba7afad-d0db-429d-a3ee-7e9670a856dd",
   "metadata": {},
   "source": [
    "### Var argument Functions"
   ]
  },
  {
   "cell_type": "code",
   "execution_count": 8,
   "id": "637bdb2e-9bfb-4cfc-b7ba-480a09160f1c",
   "metadata": {},
   "outputs": [],
   "source": [
    "# Var argument Functions\n",
    "def fun1(k, *t, **d ):\n",
    "    print(f'First Element : {k}')\n",
    "    print(f'Tuple:')\n",
    "    \n",
    "    # printing the tuple element wise\n",
    "    for element in t :\n",
    "        print(f'\\t{element},')\n",
    "\n",
    "    # printing the dictionary by items wise\n",
    "    print(f'Dictionary:')\n",
    "    for key,value in d.items():\n",
    "        print(f'\\t{key} : {value}')\n",
    "        "
   ]
  },
  {
   "cell_type": "code",
   "execution_count": 9,
   "id": "3b8e6016-3acd-40dc-8337-b9a6d8ffb24d",
   "metadata": {},
   "outputs": [
    {
     "name": "stdout",
     "output_type": "stream",
     "text": [
      "First Element : 25\n",
      "Tuple:\n",
      "\t3,\n",
      "\t23,\n",
      "\t6,\n",
      "\t3,\n",
      "\t2,\n",
      "\t12,\n",
      "\t5,\n",
      "\t345,\n",
      "\t45,\n",
      "\t4,\n",
      "\t4,\n",
      "\t4,\n",
      "\t4,\n",
      "\t4,\n",
      "\t4,\n",
      "\t4,\n",
      "\t4,\n",
      "\t4,\n",
      "\t75,\n",
      "Dictionary:\n",
      "\tSanjay : 28\n",
      "\tABCD : 65\n",
      "\tXYZ : 34\n"
     ]
    }
   ],
   "source": [
    "fun1(25,3,23,6,3,2,12,5,345,45,4,4,4,4,4,4,4,4,4,75,Sanjay=28,ABCD=65,XYZ=34)"
   ]
  },
  {
   "cell_type": "code",
   "execution_count": 10,
   "id": "c09c79ec-13ee-49e4-bad0-8e0eb9ed2cb4",
   "metadata": {},
   "outputs": [
    {
     "name": "stdout",
     "output_type": "stream",
     "text": [
      "Summation of all element is  5170.\n"
     ]
    }
   ],
   "source": [
    "def summation(a,*t):\n",
    "    total = 0\n",
    "    total += a\n",
    "    for element in t:\n",
    "        total += element\n",
    "    print(f'Summation of all element is  {total}.')\n",
    "    \n",
    "summation(25,3,23,6,3,2,12,5,345,45,4,4,4,4,4,4,4,4,4,75,10,35,4545)"
   ]
  },
  {
   "cell_type": "markdown",
   "id": "eb73c4b7-3f7c-4832-a4e8-7777c30a4b63",
   "metadata": {},
   "source": [
    "### Map Function : \n",
    "    - In map function definition: First argument should be function which uses element of iterable\n",
    "      and second argument should be iteratable"
   ]
  },
  {
   "cell_type": "code",
   "execution_count": 11,
   "id": "8c1a9b11-27d2-4cac-86e8-703891c8feb3",
   "metadata": {},
   "outputs": [],
   "source": [
    "#help(map)"
   ]
  },
  {
   "cell_type": "code",
   "execution_count": 12,
   "id": "a23ab0af-5e4f-4ebe-9879-345e0840d392",
   "metadata": {
    "scrolled": true
   },
   "outputs": [],
   "source": [
    "myList = [1, 2, 3,4,5,6]\n",
    "\n",
    "def multiply(r):\n",
    "    return 5 * r"
   ]
  },
  {
   "cell_type": "code",
   "execution_count": 13,
   "id": "99b785b7-98b2-42de-bf7c-f9d9ea723cbc",
   "metadata": {},
   "outputs": [
    {
     "name": "stdout",
     "output_type": "stream",
     "text": [
      "[5, 10, 15, 20, 25, 30]\n"
     ]
    }
   ],
   "source": [
    "results = map(multiply, myList)\n",
    "print(list(results))"
   ]
  },
  {
   "cell_type": "code",
   "execution_count": 14,
   "id": "456609d3-d833-4111-9cc6-b721ace22ae3",
   "metadata": {},
   "outputs": [
    {
     "name": "stdout",
     "output_type": "stream",
     "text": [
      "[('apple', 'orange'), ('banana', 'lemon'), ('cherry', 'pineapple')]\n"
     ]
    }
   ],
   "source": [
    "def myfunc(a, b):\n",
    "  return (a,b)\n",
    "\n",
    "x = map(myfunc, ('apple', 'banana', 'cherry'), ('orange', 'lemon', 'pineapple'))\n",
    "print(list(x))"
   ]
  },
  {
   "cell_type": "markdown",
   "id": "e7f3305e-08f4-43f5-aba1-171741921972",
   "metadata": {},
   "source": [
    "### Reduce Function\n",
    "    - It will take two arguments and return a single value.\n",
    "        - Function which takes two argument and return single value\n",
    "        - Iteratable from which two arguments would be selected everytime"
   ]
  },
  {
   "cell_type": "markdown",
   "id": "20edc007-5ff5-46e9-b0b0-6c27df50419f",
   "metadata": {},
   "source": [
    "### Accumulate Function\n",
    "    - It will take two arguments and return a list of intermediate results\n",
    "        - Iteratable from which two arguments would be selected everytime\n",
    "        - Function which takes two argument and return single value"
   ]
  },
  {
   "cell_type": "code",
   "execution_count": 15,
   "id": "bb9add33-d61c-4f7d-8ada-a82716a61d90",
   "metadata": {},
   "outputs": [],
   "source": [
    "from functools import reduce\n",
    "from itertools import accumulate"
   ]
  },
  {
   "cell_type": "code",
   "execution_count": 16,
   "id": "9a5e23cf-b71b-40b6-b7ca-dccf7a1a8001",
   "metadata": {},
   "outputs": [
    {
     "name": "stdout",
     "output_type": "stream",
     "text": [
      "The sum of the list elements is : 17\n",
      "[1, 4, 9, 15, 17]\n"
     ]
    }
   ],
   "source": [
    "# initializing list \n",
    "numbers = [1, 3, 5, 6, 2] \n",
    "  \n",
    "# using reduce to compute sum of list \n",
    "print(\"The sum of the list elements is : \", end=\"\") \n",
    "print(reduce(lambda a, b: a+b, numbers))\n",
    "print(list(accumulate(numbers, lambda a, b: a+b)))"
   ]
  },
  {
   "cell_type": "markdown",
   "id": "098fa874-e3b8-4821-8dba-ba974a88bf0c",
   "metadata": {},
   "source": [
    "### Filter Function : It is used for selection in iteratable\n",
    "    - In filter function definition: First argument should be function which returns boolean value \n",
    "      and second argument should be iteratable"
   ]
  },
  {
   "cell_type": "code",
   "execution_count": 17,
   "id": "eb03bc4c-592d-42f8-838b-2f285c6f31bd",
   "metadata": {},
   "outputs": [
    {
     "name": "stdout",
     "output_type": "stream",
     "text": [
      "Help on class filter in module builtins:\n",
      "\n",
      "class filter(object)\n",
      " |  filter(function or None, iterable) --> filter object\n",
      " |  \n",
      " |  Return an iterator yielding those items of iterable for which function(item)\n",
      " |  is true. If function is None, return the items that are true.\n",
      " |  \n",
      " |  Methods defined here:\n",
      " |  \n",
      " |  __getattribute__(self, name, /)\n",
      " |      Return getattr(self, name).\n",
      " |  \n",
      " |  __iter__(self, /)\n",
      " |      Implement iter(self).\n",
      " |  \n",
      " |  __next__(self, /)\n",
      " |      Implement next(self).\n",
      " |  \n",
      " |  __reduce__(...)\n",
      " |      Return state information for pickling.\n",
      " |  \n",
      " |  ----------------------------------------------------------------------\n",
      " |  Static methods defined here:\n",
      " |  \n",
      " |  __new__(*args, **kwargs) from builtins.type\n",
      " |      Create and return a new object.  See help(type) for accurate signature.\n",
      "\n"
     ]
    }
   ],
   "source": [
    "help(filter)"
   ]
  },
  {
   "cell_type": "code",
   "execution_count": 18,
   "id": "082941bd-7cc9-4001-bc35-2dd9a063820b",
   "metadata": {},
   "outputs": [
    {
     "name": "stdout",
     "output_type": "stream",
     "text": [
      "[18, 24, 32]\n"
     ]
    }
   ],
   "source": [
    "# Selecting only the adult ages (18, or above)\n",
    "ages = [5, 12, 17, 18, 24, 32]\n",
    "\n",
    "def selectAdultPerson(x):\n",
    "  if x < 18:\n",
    "    return False\n",
    "  else:\n",
    "    return True\n",
    "\n",
    "adults = filter(selectAdultPerson, ages)\n",
    "print(list(adults))"
   ]
  },
  {
   "cell_type": "code",
   "execution_count": 19,
   "id": "735f46fd-9b5d-4bc3-8ca5-2877dfab4273",
   "metadata": {},
   "outputs": [
    {
     "name": "stdout",
     "output_type": "stream",
     "text": [
      "[('Apple', 200), ('Fig', 400), ('Plum', 200)]\n"
     ]
    }
   ],
   "source": [
    "fruitDict = { 'Apple' : 200, 'Orange' : 60, 'Fig' : 400, 'Guava' : 50, 'Plum' : 200 }\n",
    "\n",
    "def selectFruit(d):\n",
    "    #print(f'{d}')\n",
    "    if d[1] > 100:\n",
    "        return True\n",
    "    else:\n",
    "        return False\n",
    "\n",
    "fruits = filter(selectFruit,fruitDict.items())\n",
    "print(list(fruits))"
   ]
  },
  {
   "cell_type": "code",
   "execution_count": 20,
   "id": "c5b6989a-0103-4760-a010-a6995e24d429",
   "metadata": {},
   "outputs": [
    {
     "name": "stdout",
     "output_type": "stream",
     "text": [
      "[2, 3, 4, 5, 7, 11, 13, 17, 19, 23, 29, 31, 37, 41, 43, 47, 53, 59, 61, 67, 71, 73, 79, 83, 89, 97, 101, 103, 107, 109, 113, 127, 131, 137, 139, 149, 151, 157, 163, 167, 173, 179, 181, 191, 193, 197, 199, 211, 223, 227, 229, 233, 239, 241, 251, 257, 263, 269, 271, 277, 281, 283, 293, 307, 311, 313, 317, 331, 337, 347, 349, 353, 359, 367, 373, 379, 383, 389, 397, 401, 409, 419, 421, 431, 433, 439, 443, 449, 457, 461, 463, 467, 479, 487, 491, 499]\n"
     ]
    }
   ],
   "source": [
    "\n",
    "# from a list select only the prime numbers\n",
    "numbers = [ i for i in range(2, 501) ] \n",
    "\n",
    "def getPrimes(d):\n",
    "    #  a number is only when it is divisible by itself ( 2.....number/2) \n",
    "    if d == 2 or d == 3:\n",
    "        return True\n",
    "    else:\n",
    "        count = 2;\n",
    "        for value in range(count, int(d/2)):\n",
    "            if d%value == 0:\n",
    "                return False\n",
    "        return True\n",
    "\n",
    "\n",
    "results = filter(getPrimes,numbers)\n",
    "print(list(results))"
   ]
  },
  {
   "cell_type": "markdown",
   "id": "2479b74f-ae3d-43a8-a8e7-1eaba610a5f3",
   "metadata": {},
   "source": [
    "### Lambda Function  : In line  function"
   ]
  },
  {
   "cell_type": "code",
   "execution_count": 21,
   "id": "d2ef7f0f-cff5-4858-a9ae-186dbbe51cee",
   "metadata": {},
   "outputs": [],
   "source": [
    "# function example\n",
    "def sum1(x,y) :\n",
    "    return x +y\n",
    "\n",
    "# Lambda function example\n",
    "sum2 = lambda x,y : x + y"
   ]
  },
  {
   "cell_type": "code",
   "execution_count": 22,
   "id": "20252a14-9863-4890-8e20-89e8a31cfb7b",
   "metadata": {},
   "outputs": [
    {
     "data": {
      "text/plain": [
       "115"
      ]
     },
     "execution_count": 22,
     "metadata": {},
     "output_type": "execute_result"
    }
   ],
   "source": [
    "sum1(100,15)"
   ]
  },
  {
   "cell_type": "code",
   "execution_count": 23,
   "id": "9bf2ee31-692c-46ec-814e-201d415a554d",
   "metadata": {},
   "outputs": [
    {
     "data": {
      "text/plain": [
       "115"
      ]
     },
     "execution_count": 23,
     "metadata": {},
     "output_type": "execute_result"
    }
   ],
   "source": [
    "sum2(100,15)"
   ]
  },
  {
   "cell_type": "code",
   "execution_count": 24,
   "id": "957ab232-fa91-42b2-91eb-38b5f40e93ee",
   "metadata": {},
   "outputs": [],
   "source": [
    "fruitDict = { 'Apple' : 200, 'Orange' : 60, 'Fig' : 400, 'Guava' : 50, 'Plum' : 200 }"
   ]
  },
  {
   "cell_type": "code",
   "execution_count": 25,
   "id": "229631e6-cd97-43d1-acd4-a1431e75a211",
   "metadata": {},
   "outputs": [
    {
     "name": "stdout",
     "output_type": "stream",
     "text": [
      "Help on built-in function sorted in module builtins:\n",
      "\n",
      "sorted(iterable, /, *, key=None, reverse=False)\n",
      "    Return a new list containing all items from the iterable in ascending order.\n",
      "    \n",
      "    A custom key function can be supplied to customize the sort order, and the\n",
      "    reverse flag can be set to request the result in descending order.\n",
      "\n"
     ]
    }
   ],
   "source": [
    "help(sorted)"
   ]
  },
  {
   "cell_type": "code",
   "execution_count": 26,
   "id": "bd065702-be99-4abb-b87c-129ec8bb3869",
   "metadata": {},
   "outputs": [
    {
     "name": "stdout",
     "output_type": "stream",
     "text": [
      "Apple : 200\n",
      "Fig : 400\n",
      "Guava : 50\n",
      "Orange : 60\n",
      "Plum : 200\n"
     ]
    }
   ],
   "source": [
    "# Method 1 : get the keys of the dictionary, convert it to list, sort the keys and print the key:value pair\n",
    "fruits = list(fruitDict.keys())\n",
    "fruits.sort()\n",
    "for fruitName in fruits:\n",
    "    print(f'{fruitName} : {fruitDict[fruitName]}')"
   ]
  },
  {
   "cell_type": "code",
   "execution_count": 27,
   "id": "e2ac0663-45ee-408e-8aa5-ffa1b9996491",
   "metadata": {},
   "outputs": [
    {
     "name": "stdout",
     "output_type": "stream",
     "text": [
      "Apple :  200 \n",
      "Fig :  400 \n",
      "Guava :  50 \n",
      "Orange :  60 \n",
      "Plum :  200 \n"
     ]
    }
   ],
   "source": [
    "# Sort the fruit dictionary by Fruit Name\n",
    "# Method 2: sorted function\n",
    "for fruitName, price in sorted(fruitDict.items()):\n",
    "    print(f'{fruitName} :  {price} ')"
   ]
  },
  {
   "cell_type": "code",
   "execution_count": 28,
   "id": "8ef0fd00-2fcd-4b2c-8d4e-40b3ce78503e",
   "metadata": {},
   "outputs": [
    {
     "name": "stdout",
     "output_type": "stream",
     "text": [
      "Fig :  400 \n",
      "Apple :  200 \n",
      "Plum :  200 \n",
      "Orange :  60 \n",
      "Guava :  50 \n"
     ]
    }
   ],
   "source": [
    "# Sort the fruit dictionary by Price wise.\n",
    "# Method 2: sorted function\n",
    "for fruitName, price in sorted(fruitDict.items(), key = lambda x : x[1], reverse=True):\n",
    "    print(f'{fruitName} :  {price} ')"
   ]
  },
  {
   "cell_type": "code",
   "execution_count": 29,
   "id": "97ddcbf1-5700-4dfa-9ad2-195cc7af15b8",
   "metadata": {},
   "outputs": [
    {
     "name": "stdout",
     "output_type": "stream",
     "text": [
      "50 \n",
      "60 \n",
      "200 \n",
      "200 \n",
      "400 \n"
     ]
    }
   ],
   "source": [
    "for price in sorted(fruitDict.values(), reverse=False):\n",
    "    print(f'{price} ')"
   ]
  },
  {
   "cell_type": "markdown",
   "id": "38889373-2bbb-4b33-ba95-725e1cd58da7",
   "metadata": {},
   "source": [
    "### Collections Module"
   ]
  },
  {
   "cell_type": "code",
   "execution_count": 30,
   "id": "2fbf5a57-912c-4fd1-a5d6-1b11e8c442d8",
   "metadata": {},
   "outputs": [],
   "source": [
    "from collections import defaultdict "
   ]
  },
  {
   "cell_type": "code",
   "execution_count": 31,
   "id": "e2108643-24b2-4f3c-8662-cdb023f7db76",
   "metadata": {},
   "outputs": [
    {
     "name": "stdout",
     "output_type": "stream",
     "text": [
      "defaultdict(<class 'int'>, {1: 3, 2: 11, 3: 3, 4: 5, 5: 1})\n"
     ]
    }
   ],
   "source": [
    "# Defining the dict \n",
    "d = defaultdict(int) \n",
    "#d =  {}  \n",
    "numbers = [1, 2, 3, 4, 2, 4, 1, 2,5,2,1,2,3,4,4,4,3,2,2,2,2,2,2] \n",
    "   \n",
    "# Iterate through the list \n",
    "# for keeping the count \n",
    "for i in numbers:\n",
    "    d[i] += 1\n",
    "\n",
    "print(d) "
   ]
  },
  {
   "cell_type": "markdown",
   "id": "e6f94d14-9b4f-467d-bdd5-34031429b3d5",
   "metadata": {},
   "source": [
    "### Generators"
   ]
  },
  {
   "cell_type": "code",
   "execution_count": 32,
   "id": "3d98aa77-dd5f-4dae-a57d-cbdb1c147705",
   "metadata": {},
   "outputs": [
    {
     "name": "stdout",
     "output_type": "stream",
     "text": [
      "89095160\n"
     ]
    }
   ],
   "source": [
    "import sys\n",
    "numbers = [ i for i in range(10000000) ]\n",
    "print(sys.getsizeof(numbers))"
   ]
  },
  {
   "cell_type": "code",
   "execution_count": 35,
   "id": "56f396ff-eff7-44ab-9ebd-9e4f1364b405",
   "metadata": {},
   "outputs": [],
   "source": [
    "def myRange(start,end):\n",
    "    for i in range(start,end):\n",
    "        # it will use keyword as yield\n",
    "        yield i"
   ]
  },
  {
   "cell_type": "code",
   "execution_count": 36,
   "id": "315e6691-5b21-4961-a7e5-1a38f5479345",
   "metadata": {},
   "outputs": [
    {
     "name": "stdout",
     "output_type": "stream",
     "text": [
      "1\n"
     ]
    }
   ],
   "source": [
    "# Method 1: Usuage: assign to a varialbe and used next keyword to generate the value\n",
    "num = myRange(1,11)\n",
    "print(next(num))"
   ]
  },
  {
   "cell_type": "code",
   "execution_count": 37,
   "id": "ec2292f1-028a-473f-a8f7-7b72132fd812",
   "metadata": {},
   "outputs": [
    {
     "name": "stdout",
     "output_type": "stream",
     "text": [
      "2\n"
     ]
    }
   ],
   "source": [
    "print(next(num))"
   ]
  },
  {
   "cell_type": "code",
   "execution_count": 39,
   "id": "4ce96dbf-fbd7-4a8f-802c-8c4e54145e90",
   "metadata": {},
   "outputs": [
    {
     "name": "stdout",
     "output_type": "stream",
     "text": [
      "1\n",
      "2\n",
      "3\n",
      "4\n",
      "5\n",
      "6\n",
      "7\n",
      "8\n",
      "9\n",
      "10\n"
     ]
    }
   ],
   "source": [
    "# Method 2 : printing in a for loop as iterable\n",
    "for i in myRange(1,11):\n",
    "    print(i)"
   ]
  },
  {
   "cell_type": "markdown",
   "id": "b976dde5-bd39-4a79-996f-0159fb03f8d6",
   "metadata": {},
   "source": [
    "#### Operator Overloading : + , *\n",
    "    Complex =  Complex + Complex "
   ]
  },
  {
   "cell_type": "code",
   "execution_count": 2,
   "id": "59773f38-bfa3-4c01-b02d-feaa11e34801",
   "metadata": {},
   "outputs": [],
   "source": [
    "# Example for Operator Overloading\n",
    "class Complex:\n",
    "    def __init__(self,real,imagenary):\n",
    "        self.real = real\n",
    "        self.imagenary = imagenary      \n",
    "\n",
    "    # We can write only one functionality with + operator (C3 = C1 + C2 ) or C1 + C2\n",
    "    def __add__(self, obj2):\n",
    "        x = self.real + obj2.real\n",
    "        y = self.imagenary + obj2.imagenary\n",
    "        return Complex(x,y)\n",
    "\n",
    "    def __mul__(self,obj2):\n",
    "        #Compute Real * real\n",
    "        x = self.real * obj2.real - self.imagenary * obj2.imagenary\n",
    "        y = self.real * obj2.imagenary + self.imagenary * obj2.real\n",
    "        return Complex(x,y)\n",
    "        \n",
    "    def print(self):\n",
    "        print(f'Complex : {self.real} + i * {self.imagenary}')   "
   ]
  },
  {
   "cell_type": "code",
   "execution_count": 3,
   "id": "828e60fe-079e-4a52-91c8-8eb52f9d8477",
   "metadata": {},
   "outputs": [
    {
     "name": "stdout",
     "output_type": "stream",
     "text": [
      "Complex : 4 + i * 5\n"
     ]
    }
   ],
   "source": [
    "a = Complex(4,5)\n",
    "a.print()"
   ]
  },
  {
   "cell_type": "code",
   "execution_count": 4,
   "id": "6c96947f-641a-448f-b012-32f4f49db6e0",
   "metadata": {},
   "outputs": [
    {
     "name": "stdout",
     "output_type": "stream",
     "text": [
      "Complex : 15 + i * 5\n"
     ]
    }
   ],
   "source": [
    "b = Complex(15,5)\n",
    "b.print()"
   ]
  },
  {
   "cell_type": "code",
   "execution_count": 5,
   "id": "4e9b4c0d-0e3e-4b4f-a947-6b800a40c303",
   "metadata": {},
   "outputs": [
    {
     "name": "stdout",
     "output_type": "stream",
     "text": [
      "Complex : 19 + i * 10\n"
     ]
    }
   ],
   "source": [
    "c = a + b\n",
    "c.print()"
   ]
  },
  {
   "cell_type": "code",
   "execution_count": 6,
   "id": "c76357fe-a430-4545-ad6f-b3dbf09138cc",
   "metadata": {},
   "outputs": [
    {
     "name": "stdout",
     "output_type": "stream",
     "text": [
      "Complex : 35 + i * 95\n"
     ]
    }
   ],
   "source": [
    "d = a * b\n",
    "d.print()"
   ]
  },
  {
   "cell_type": "code",
   "execution_count": null,
   "id": "54c63c68-e296-4969-a427-866165c63e7a",
   "metadata": {},
   "outputs": [],
   "source": []
  }
 ],
 "metadata": {
  "kernelspec": {
   "display_name": "Python 3 (ipykernel)",
   "language": "python",
   "name": "python3"
  },
  "language_info": {
   "codemirror_mode": {
    "name": "ipython",
    "version": 3
   },
   "file_extension": ".py",
   "mimetype": "text/x-python",
   "name": "python",
   "nbconvert_exporter": "python",
   "pygments_lexer": "ipython3",
   "version": "3.10.12"
  }
 },
 "nbformat": 4,
 "nbformat_minor": 5
}
