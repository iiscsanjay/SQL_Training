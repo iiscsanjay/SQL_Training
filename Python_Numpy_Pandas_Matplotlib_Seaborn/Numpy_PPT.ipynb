{
 "cells": [
  {
   "cell_type": "markdown",
   "id": "5d30ac51-25d7-44f1-81ae-142f939d23ca",
   "metadata": {},
   "source": [
    "### IMPORT the module Numpy"
   ]
  },
  {
   "cell_type": "code",
   "execution_count": 2,
   "id": "ee54e475-1d79-43f5-aec3-3fa3c3b30c9e",
   "metadata": {},
   "outputs": [],
   "source": [
    "#Method 1\n",
    "\n",
    "import numpy as np # Creating an alias (short form for writing)"
   ]
  },
  {
   "cell_type": "code",
   "execution_count": 3,
   "id": "4b22761d-3e56-4e4d-9f28-ef752830ea56",
   "metadata": {},
   "outputs": [],
   "source": [
    "#Method 2\n",
    "from numpy import *"
   ]
  },
  {
   "cell_type": "code",
   "execution_count": 20,
   "id": "77b44795-1420-46d8-9ed8-835937a1f4e6",
   "metadata": {},
   "outputs": [],
   "source": [
    "# How to create an Numpy array\n",
    "a = np.array([1,2,3,5,56,65])"
   ]
  },
  {
   "cell_type": "code",
   "execution_count": 21,
   "id": "ad1de0bb-3b66-4a3c-875b-2d8433e17db0",
   "metadata": {},
   "outputs": [
    {
     "name": "stdout",
     "output_type": "stream",
     "text": [
      "[ 1  2  3  5 56 65]\n"
     ]
    }
   ],
   "source": [
    "print(a)"
   ]
  },
  {
   "cell_type": "code",
   "execution_count": 22,
   "id": "1013aa25-3b64-48c1-841f-09aca4671749",
   "metadata": {},
   "outputs": [
    {
     "name": "stdout",
     "output_type": "stream",
     "text": [
      "Type of Object: <class 'numpy.ndarray'>\n"
     ]
    }
   ],
   "source": [
    "print(f'Type of Object: {type(a)}')"
   ]
  },
  {
   "cell_type": "code",
   "execution_count": 25,
   "id": "4edae277-7a5e-4f52-a1fc-b7c0e86f6273",
   "metadata": {},
   "outputs": [
    {
     "name": "stdout",
     "output_type": "stream",
     "text": [
      "Data type for which array was created : <class 'numpy.int64'>\n"
     ]
    }
   ],
   "source": [
    "print(f'Data type for which array was created : {type(a[0])}')"
   ]
  },
  {
   "cell_type": "code",
   "execution_count": 26,
   "id": "56e16545-261b-484e-9ec2-24cc7085231b",
   "metadata": {},
   "outputs": [],
   "source": [
    "b = np.array([1,2,3,5,56,65], dtype=np.float64)"
   ]
  },
  {
   "cell_type": "code",
   "execution_count": 28,
   "id": "e405c759-c88c-4ab2-95cf-d18cee9bd4a3",
   "metadata": {},
   "outputs": [
    {
     "name": "stdout",
     "output_type": "stream",
     "text": [
      "Data type for which array was created : <class 'numpy.float64'>\n"
     ]
    }
   ],
   "source": [
    "print(f'Data type for which array was created : {type(b[0])}')"
   ]
  },
  {
   "cell_type": "code",
   "execution_count": 13,
   "id": "b6d52f94-db6b-4f33-80e4-5a04502417d9",
   "metadata": {},
   "outputs": [
    {
     "name": "stdout",
     "output_type": "stream",
     "text": [
      "Help on built-in function array in module numpy:\n",
      "\n",
      "array(...)\n",
      "    array(object, dtype=None, *, copy=True, order='K', subok=False, ndmin=0,\n",
      "          like=None)\n",
      "    \n",
      "    Create an array.\n",
      "    \n",
      "    Parameters\n",
      "    ----------\n",
      "    object : array_like\n",
      "        An array, any object exposing the array interface, an object whose\n",
      "        __array__ method returns an array, or any (nested) sequence.\n",
      "        If object is a scalar, a 0-dimensional array containing object is\n",
      "        returned.\n",
      "    dtype : data-type, optional\n",
      "        The desired data-type for the array.  If not given, then the type will\n",
      "        be determined as the minimum type required to hold the objects in the\n",
      "        sequence.\n",
      "    copy : bool, optional\n",
      "        If true (default), then the object is copied.  Otherwise, a copy will\n",
      "        only be made if __array__ returns a copy, if obj is a nested sequence,\n",
      "        or if a copy is needed to satisfy any of the other requirements\n",
      "        (`dtype`, `order`, etc.).\n",
      "    order : {'K', 'A', 'C', 'F'}, optional\n",
      "        Specify the memory layout of the array. If object is not an array, the\n",
      "        newly created array will be in C order (row major) unless 'F' is\n",
      "        specified, in which case it will be in Fortran order (column major).\n",
      "        If object is an array the following holds.\n",
      "    \n",
      "        ===== ========= ===================================================\n",
      "        order  no copy                     copy=True\n",
      "        ===== ========= ===================================================\n",
      "        'K'   unchanged F & C order preserved, otherwise most similar order\n",
      "        'A'   unchanged F order if input is F and not C, otherwise C order\n",
      "        'C'   C order   C order\n",
      "        'F'   F order   F order\n",
      "        ===== ========= ===================================================\n",
      "    \n",
      "        When ``copy=False`` and a copy is made for other reasons, the result is\n",
      "        the same as if ``copy=True``, with some exceptions for 'A', see the\n",
      "        Notes section. The default order is 'K'.\n",
      "    subok : bool, optional\n",
      "        If True, then sub-classes will be passed-through, otherwise\n",
      "        the returned array will be forced to be a base-class array (default).\n",
      "    ndmin : int, optional\n",
      "        Specifies the minimum number of dimensions that the resulting\n",
      "        array should have.  Ones will be prepended to the shape as\n",
      "        needed to meet this requirement.\n",
      "    like : array_like, optional\n",
      "        Reference object to allow the creation of arrays which are not\n",
      "        NumPy arrays. If an array-like passed in as ``like`` supports\n",
      "        the ``__array_function__`` protocol, the result will be defined\n",
      "        by it. In this case, it ensures the creation of an array object\n",
      "        compatible with that passed in via this argument.\n",
      "    \n",
      "        .. versionadded:: 1.20.0\n",
      "    \n",
      "    Returns\n",
      "    -------\n",
      "    out : ndarray\n",
      "        An array object satisfying the specified requirements.\n",
      "    \n",
      "    See Also\n",
      "    --------\n",
      "    empty_like : Return an empty array with shape and type of input.\n",
      "    ones_like : Return an array of ones with shape and type of input.\n",
      "    zeros_like : Return an array of zeros with shape and type of input.\n",
      "    full_like : Return a new array with shape of input filled with value.\n",
      "    empty : Return a new uninitialized array.\n",
      "    ones : Return a new array setting values to one.\n",
      "    zeros : Return a new array setting values to zero.\n",
      "    full : Return a new array of given shape filled with value.\n",
      "    \n",
      "    \n",
      "    Notes\n",
      "    -----\n",
      "    When order is 'A' and `object` is an array in neither 'C' nor 'F' order,\n",
      "    and a copy is forced by a change in dtype, then the order of the result is\n",
      "    not necessarily 'C' as expected. This is likely a bug.\n",
      "    \n",
      "    Examples\n",
      "    --------\n",
      "    >>> np.array([1, 2, 3])\n",
      "    array([1, 2, 3])\n",
      "    \n",
      "    Upcasting:\n",
      "    \n",
      "    >>> np.array([1, 2, 3.0])\n",
      "    array([ 1.,  2.,  3.])\n",
      "    \n",
      "    More than one dimension:\n",
      "    \n",
      "    >>> np.array([[1, 2], [3, 4]])\n",
      "    array([[1, 2],\n",
      "           [3, 4]])\n",
      "    \n",
      "    Minimum dimensions 2:\n",
      "    \n",
      "    >>> np.array([1, 2, 3], ndmin=2)\n",
      "    array([[1, 2, 3]])\n",
      "    \n",
      "    Type provided:\n",
      "    \n",
      "    >>> np.array([1, 2, 3], dtype=complex)\n",
      "    array([ 1.+0.j,  2.+0.j,  3.+0.j])\n",
      "    \n",
      "    Data-type consisting of more than one element:\n",
      "    \n",
      "    >>> x = np.array([(1,2),(3,4)],dtype=[('a','<i4'),('b','<i4')])\n",
      "    >>> x['a']\n",
      "    array([1, 3])\n",
      "    \n",
      "    Creating an array from sub-classes:\n",
      "    \n",
      "    >>> np.array(np.mat('1 2; 3 4'))\n",
      "    array([[1, 2],\n",
      "           [3, 4]])\n",
      "    \n",
      "    >>> np.array(np.mat('1 2; 3 4'), subok=True)\n",
      "    matrix([[1, 2],\n",
      "            [3, 4]])\n",
      "\n"
     ]
    }
   ],
   "source": [
    "help(np.array)"
   ]
  },
  {
   "cell_type": "code",
   "execution_count": 31,
   "id": "4c6cbcf2-9846-43d6-9fa0-dce82891346c",
   "metadata": {},
   "outputs": [],
   "source": [
    "c = np.array((1,2,56,67,98))"
   ]
  },
  {
   "cell_type": "code",
   "execution_count": 30,
   "id": "5fa87336-a7d5-4f8d-98a6-4be7436d1547",
   "metadata": {},
   "outputs": [
    {
     "data": {
      "text/plain": [
       "numpy.ndarray"
      ]
     },
     "execution_count": 30,
     "metadata": {},
     "output_type": "execute_result"
    }
   ],
   "source": [
    "type(c)"
   ]
  },
  {
   "cell_type": "code",
   "execution_count": 34,
   "id": "fef2ce24-659f-423d-818d-f7469c851ac2",
   "metadata": {},
   "outputs": [],
   "source": [
    "d = np.array({1,2,56,67,2,98})"
   ]
  },
  {
   "cell_type": "code",
   "execution_count": 35,
   "id": "36b64a53-c712-4c0a-8e77-228b44b659b7",
   "metadata": {},
   "outputs": [
    {
     "data": {
      "text/plain": [
       "numpy.ndarray"
      ]
     },
     "execution_count": 35,
     "metadata": {},
     "output_type": "execute_result"
    }
   ],
   "source": [
    "type(d)"
   ]
  },
  {
   "cell_type": "code",
   "execution_count": 36,
   "id": "9388612e-c4d6-46f5-9f8a-1c71cf30c478",
   "metadata": {},
   "outputs": [
    {
     "name": "stdout",
     "output_type": "stream",
     "text": [
      "{1, 2, 67, 98, 56}\n"
     ]
    }
   ],
   "source": [
    "print(d)"
   ]
  },
  {
   "cell_type": "code",
   "execution_count": 38,
   "id": "d7b6bfa4-0c10-4ef9-9dd6-940e1b2efee1",
   "metadata": {},
   "outputs": [],
   "source": [
    "e = np.array((1,2,56,\"rt\",67,98))"
   ]
  },
  {
   "cell_type": "code",
   "execution_count": 39,
   "id": "9f18f072-8fff-4683-9a91-f4d6c39ad03f",
   "metadata": {},
   "outputs": [
    {
     "data": {
      "text/plain": [
       "numpy.ndarray"
      ]
     },
     "execution_count": 39,
     "metadata": {},
     "output_type": "execute_result"
    }
   ],
   "source": [
    "type(e)"
   ]
  },
  {
   "cell_type": "code",
   "execution_count": 40,
   "id": "b15ea552-ebbf-481e-ae0a-7fe4890d73a1",
   "metadata": {},
   "outputs": [
    {
     "name": "stdout",
     "output_type": "stream",
     "text": [
      "['1' '2' '56' 'rt' '67' '98']\n"
     ]
    }
   ],
   "source": [
    "print(e)"
   ]
  },
  {
   "cell_type": "code",
   "execution_count": 41,
   "id": "5479ed07-0699-4052-8fea-e01328d02985",
   "metadata": {},
   "outputs": [],
   "source": [
    "f = np.array((1,2,56,56.7, \"yt\",67,98))"
   ]
  },
  {
   "cell_type": "code",
   "execution_count": 42,
   "id": "e7056154-ee5b-4d78-9dcd-254942dc6b7f",
   "metadata": {},
   "outputs": [
    {
     "name": "stdout",
     "output_type": "stream",
     "text": [
      "['1' '2' '56' '56.7' 'yt' '67' '98']\n"
     ]
    }
   ],
   "source": [
    "print(f)"
   ]
  },
  {
   "cell_type": "code",
   "execution_count": 43,
   "id": "a8c1975e-1c5f-46d7-9d8e-67734020ec37",
   "metadata": {},
   "outputs": [
    {
     "data": {
      "text/plain": [
       "numpy.str_"
      ]
     },
     "execution_count": 43,
     "metadata": {},
     "output_type": "execute_result"
    }
   ],
   "source": [
    "type(f[0])"
   ]
  },
  {
   "cell_type": "code",
   "execution_count": 44,
   "id": "695b34ef-b8e1-45de-8b6e-dc34a98d513f",
   "metadata": {},
   "outputs": [
    {
     "data": {
      "text/plain": [
       "1"
      ]
     },
     "execution_count": 44,
     "metadata": {},
     "output_type": "execute_result"
    }
   ],
   "source": [
    "f.ndim"
   ]
  },
  {
   "cell_type": "markdown",
   "id": "351fb062-12ae-4b9d-8c07-e2441186cce6",
   "metadata": {},
   "source": [
    "### NDimn : ndarray creation for various dimensions"
   ]
  },
  {
   "cell_type": "markdown",
   "id": "760f9a93-7e79-4553-aad3-e6eca2bf2d81",
   "metadata": {},
   "source": [
    "#### 0-d Array"
   ]
  },
  {
   "cell_type": "code",
   "execution_count": 46,
   "id": "0624bee6-190e-4414-810d-128e63c0da63",
   "metadata": {},
   "outputs": [],
   "source": [
    "a= np.array(45)"
   ]
  },
  {
   "cell_type": "code",
   "execution_count": 51,
   "id": "df32a180-3664-4aa5-b701-17b77b80d581",
   "metadata": {},
   "outputs": [
    {
     "name": "stdout",
     "output_type": "stream",
     "text": [
      "Type of array     :\" <class 'numpy.ndarray'>\n",
      "Type of Dimension :\" 0 d array\n",
      "Array : 45\n"
     ]
    }
   ],
   "source": [
    "print(f'Type of array     :\" {type(a)}')\n",
    "print(f'Type of Dimension :\" {a.ndim} d array')\n",
    "print(f'Array : {a}')"
   ]
  },
  {
   "cell_type": "code",
   "execution_count": null,
   "id": "4bc777a3-4be0-4989-92d9-336f97b1b2bc",
   "metadata": {},
   "outputs": [],
   "source": [
    "#### 1-d Array"
   ]
  },
  {
   "cell_type": "code",
   "execution_count": 52,
   "id": "27502676-700a-4321-ba2f-cab6c3e09aa3",
   "metadata": {},
   "outputs": [],
   "source": [
    "a= np.array([45,56,78])"
   ]
  },
  {
   "cell_type": "code",
   "execution_count": 53,
   "id": "e946c24d-61a6-44dc-8009-ceb0e9d303ae",
   "metadata": {},
   "outputs": [
    {
     "name": "stdout",
     "output_type": "stream",
     "text": [
      "Type of array     :\" <class 'numpy.ndarray'>\n",
      "Type of Dimension :\" 1 d array\n",
      "Array : [45 56 78]\n"
     ]
    }
   ],
   "source": [
    "print(f'Type of array     :\" {type(a)}')\n",
    "print(f'Type of Dimension :\" {a.ndim} d array')\n",
    "print(f'Array : {a}')"
   ]
  },
  {
   "cell_type": "markdown",
   "id": "921556c4-60bd-4d87-86e1-940a4df65f4d",
   "metadata": {},
   "source": [
    "#### 2d array"
   ]
  },
  {
   "cell_type": "code",
   "execution_count": 56,
   "id": "5e52fe6c-eed0-41d1-9871-645b96fe99e9",
   "metadata": {},
   "outputs": [],
   "source": [
    "a= np.array([[45,56],[78,56]],dtype=np.int64)"
   ]
  },
  {
   "cell_type": "code",
   "execution_count": 58,
   "id": "41817b43-a65a-4ebb-824d-9a142460054c",
   "metadata": {},
   "outputs": [
    {
     "name": "stdout",
     "output_type": "stream",
     "text": [
      "Type of array     :\" <class 'numpy.ndarray'>\n",
      "Type of Dimension :\" 2 d array\n",
      "Array :\n",
      "[[45 56]\n",
      " [78 56]]\n"
     ]
    }
   ],
   "source": [
    "print(f'Type of array     :\" {type(a)}')\n",
    "print(f'Type of Dimension :\" {a.ndim} d array')\n",
    "print(f'Array :\\n{a}')"
   ]
  },
  {
   "cell_type": "code",
   "execution_count": 8,
   "id": "f993dd72-841a-4e71-9bbb-d72179988e5c",
   "metadata": {},
   "outputs": [
    {
     "name": "stdout",
     "output_type": "stream",
     "text": [
      "Type of array     :\" <class 'numpy.ndarray'>\n",
      "Type of Dimension :\" 2 d array\n",
      "Shape of the Array: (2, 4)\n",
      "Array :\n",
      "[[45 56 78 56]\n",
      " [67 56 56 76]]\n"
     ]
    }
   ],
   "source": [
    "a= np.array([ [45,56,78,56],[67,56,56,76] ],dtype=np.int64)\n",
    "print(f'Type of array     :\" {type(a)}')\n",
    "print(f'Type of Dimension :\" {a.ndim} d array')\n",
    "print(f'Shape of the Array: {a.shape}')\n",
    "print(f'Array :\\n{a}')"
   ]
  },
  {
   "cell_type": "code",
   "execution_count": 9,
   "id": "5fc5d7af-ccc2-49eb-8818-d0d3e39a94f9",
   "metadata": {},
   "outputs": [
    {
     "data": {
      "text/plain": [
       "(2, 4)"
      ]
     },
     "execution_count": 9,
     "metadata": {},
     "output_type": "execute_result"
    }
   ],
   "source": [
    "a.shape"
   ]
  },
  {
   "cell_type": "code",
   "execution_count": 10,
   "id": "3ea88ef7-b632-425d-8541-6119cf8b03b7",
   "metadata": {},
   "outputs": [
    {
     "data": {
      "text/plain": [
       "array([[45, 56],\n",
       "       [78, 56],\n",
       "       [67, 56],\n",
       "       [56, 76]])"
      ]
     },
     "execution_count": 10,
     "metadata": {},
     "output_type": "execute_result"
    }
   ],
   "source": [
    "a.reshape(4,2)"
   ]
  },
  {
   "cell_type": "markdown",
   "id": "cc878e7f-cdd9-4e18-a206-4e62c36df930",
   "metadata": {},
   "source": [
    "### 3-D array"
   ]
  },
  {
   "cell_type": "code",
   "execution_count": 79,
   "id": "69199b60-8661-400d-8381-935b05cf9489",
   "metadata": {},
   "outputs": [],
   "source": [
    "a = np.array( [[[45,56,87,76],[87,21,43,98]], [[98,78,90,97],[84,65,78,45]]] )"
   ]
  },
  {
   "cell_type": "code",
   "execution_count": 80,
   "id": "0760f134-e11c-4204-b8dd-e07f8f01d5cb",
   "metadata": {},
   "outputs": [
    {
     "data": {
      "text/plain": [
       "(2, 2, 4)"
      ]
     },
     "execution_count": 80,
     "metadata": {},
     "output_type": "execute_result"
    }
   ],
   "source": [
    "a.shape"
   ]
  },
  {
   "cell_type": "code",
   "execution_count": 89,
   "id": "b491db34-0b81-40d6-933a-05e7449fcfb5",
   "metadata": {},
   "outputs": [],
   "source": [
    "a= a.reshape(2,2,2,2)"
   ]
  },
  {
   "cell_type": "code",
   "execution_count": 90,
   "id": "9be2511e-ecb7-4809-8617-171415c93bfc",
   "metadata": {},
   "outputs": [
    {
     "name": "stdout",
     "output_type": "stream",
     "text": [
      "Type of array     :\" <class 'numpy.ndarray'>\n",
      "Type of Dimension :\" 4 d array\n",
      "Shape of the Array: (2, 2, 2, 2)\n",
      "Array :\n",
      "[[[[45 56]\n",
      "   [87 76]]\n",
      "\n",
      "  [[87 21]\n",
      "   [43 98]]]\n",
      "\n",
      "\n",
      " [[[98 78]\n",
      "   [90 97]]\n",
      "\n",
      "  [[84 65]\n",
      "   [78 45]]]]\n"
     ]
    }
   ],
   "source": [
    "a = np.array( [[[45,56,87,76],[87,21,43,98]], [[98,78,90,97],[84,65,78,45]]] )\n",
    "print(f'Type of array     :\" {type(a)}')\n",
    "print(f'Type of Dimension :\" {a.ndim} d array')\n",
    "print(f'Shape of the Array: {a.shape}')\n",
    "print(f'Array :\\n{a}')"
   ]
  },
  {
   "cell_type": "code",
   "execution_count": null,
   "id": "4d8292e5-0f5b-4ec5-b452-9604756c234b",
   "metadata": {},
   "outputs": [],
   "source": [
    "# Creating n dim array (6)\n"
   ]
  },
  {
   "cell_type": "code",
   "execution_count": 15,
   "id": "dafec62e-b475-4d3a-a4b4-700281e56e26",
   "metadata": {},
   "outputs": [
    {
     "name": "stdout",
     "output_type": "stream",
     "text": [
      "Type of array     :\" <class 'numpy.ndarray'>\n",
      "Type of Dimension :\" 6 d array\n",
      "Shape of the Array: (1, 1, 1, 1, 1, 6)\n",
      "Array :\n",
      "[[[[[[3 4 5 6 6 8]]]]]]\n"
     ]
    }
   ],
   "source": [
    "a = np.array([3,4,5,6,6,8], ndmin= 6)\n",
    "print(f'Type of array     :\" {type(a)}')\n",
    "print(f'Type of Dimension :\" {a.ndim} d array')\n",
    "print(f'Shape of the Array: {a.shape}')\n",
    "print(f'Array :\\n{a}')"
   ]
  },
  {
   "cell_type": "markdown",
   "id": "13ca735e-645f-40b0-a12a-aabd5393afc2",
   "metadata": {},
   "source": [
    "#### Indexing Syntax"
   ]
  },
  {
   "cell_type": "code",
   "execution_count": 16,
   "id": "c078971d-6091-47c9-ad25-08255e5227fa",
   "metadata": {},
   "outputs": [
    {
     "data": {
      "text/plain": [
       "3"
      ]
     },
     "execution_count": 16,
     "metadata": {},
     "output_type": "execute_result"
    }
   ],
   "source": [
    "a[0,0,0,0,0,0]"
   ]
  },
  {
   "cell_type": "code",
   "execution_count": 22,
   "id": "0721c24b-6a68-492e-b037-9b174fd9942f",
   "metadata": {},
   "outputs": [
    {
     "data": {
      "text/plain": [
       "5"
      ]
     },
     "execution_count": 22,
     "metadata": {},
     "output_type": "execute_result"
    }
   ],
   "source": [
    "a[0][0][0][0][0][2]"
   ]
  },
  {
   "cell_type": "code",
   "execution_count": 23,
   "id": "8d8c6c35-a760-4151-be88-b13c4cee617f",
   "metadata": {},
   "outputs": [
    {
     "data": {
      "text/plain": [
       "40"
      ]
     },
     "execution_count": 23,
     "metadata": {},
     "output_type": "execute_result"
    }
   ],
   "source": [
    "# I want to multiple 3rd element to 6th  element\n",
    "a[0,0,0,0,0,2] * a[0,0,0,0,0,5]"
   ]
  },
  {
   "cell_type": "code",
   "execution_count": 24,
   "id": "282a310d-988d-4f3b-974f-61c76e883463",
   "metadata": {},
   "outputs": [],
   "source": [
    "#### Negative Indexing "
   ]
  },
  {
   "cell_type": "markdown",
   "id": "55137dcc-d8a8-4ed8-930a-b98254671ed1",
   "metadata": {},
   "source": [
    "l =  [ 45, 2, 65, 23, 89, 78]\n",
    "\n",
    "        0  1   2   3   4   5 \n",
    "       -6 -5  -4  -3  -2  -1"
   ]
  },
  {
   "cell_type": "code",
   "execution_count": 27,
   "id": "5386e276-003e-42ec-96a6-0b1e384f968c",
   "metadata": {},
   "outputs": [
    {
     "data": {
      "text/plain": [
       "65"
      ]
     },
     "execution_count": 27,
     "metadata": {},
     "output_type": "execute_result"
    }
   ],
   "source": [
    "l =  [ 45, 2, 65, 23, 89, 78]"
   ]
  },
  {
   "cell_type": "code",
   "execution_count": 38,
   "id": "b61023e4-30b2-4234-9c2c-c29a47c4bca6",
   "metadata": {},
   "outputs": [
    {
     "name": "stdout",
     "output_type": "stream",
     "text": [
      "Type of array     :\" <class 'numpy.ndarray'>\n",
      "Type of Dimension :\" 2 d array\n",
      "Shape of the Array: (2, 4)\n",
      "Array :\n",
      "[[45 56 78 56]\n",
      " [67 56 56 76]]\n"
     ]
    }
   ],
   "source": [
    "a= np.array([ [45,56,78,56],[67,56,56,76] ],dtype=np.int64)\n",
    "print(f'Type of array     :\" {type(a)}')\n",
    "print(f'Type of Dimension :\" {a.ndim} d array')\n",
    "print(f'Shape of the Array: {a.shape}')\n",
    "print(f'Array :\\n{a}')"
   ]
  },
  {
   "cell_type": "code",
   "execution_count": 41,
   "id": "bb3d4a1d-479d-47f6-9546-108fd93f28de",
   "metadata": {},
   "outputs": [
    {
     "data": {
      "text/plain": [
       "array([[56, 78, 56],\n",
       "       [56, 56, 76]])"
      ]
     },
     "execution_count": 41,
     "metadata": {},
     "output_type": "execute_result"
    }
   ],
   "source": [
    "# Positive Slicing :\n",
    "a[:,1:]"
   ]
  },
  {
   "cell_type": "code",
   "execution_count": 42,
   "id": "208f5953-ee7e-466b-b560-bb7b68cf8c94",
   "metadata": {},
   "outputs": [
    {
     "data": {
      "text/plain": [
       "array([[56, 78, 56],\n",
       "       [56, 56, 76]])"
      ]
     },
     "execution_count": 42,
     "metadata": {},
     "output_type": "execute_result"
    }
   ],
   "source": [
    "a[0:2,1:]"
   ]
  },
  {
   "cell_type": "code",
   "execution_count": 45,
   "id": "c9ec3152-2c2f-4746-9057-545dc7b2aaf0",
   "metadata": {},
   "outputs": [
    {
     "data": {
      "text/plain": [
       "array([[56, 78, 56],\n",
       "       [56, 56, 76]])"
      ]
     },
     "execution_count": 45,
     "metadata": {},
     "output_type": "execute_result"
    }
   ],
   "source": [
    "# Negative Indexing\n",
    "a[:,-3:]"
   ]
  },
  {
   "cell_type": "code",
   "execution_count": 46,
   "id": "35283545-24be-4c2c-a3a4-17ee0a3337ff",
   "metadata": {},
   "outputs": [
    {
     "data": {
      "text/plain": [
       "array([[56, 78, 56],\n",
       "       [56, 56, 76]])"
      ]
     },
     "execution_count": 46,
     "metadata": {},
     "output_type": "execute_result"
    }
   ],
   "source": [
    "a[-2:,-3:]"
   ]
  },
  {
   "cell_type": "markdown",
   "id": "e740f87a-79f9-4916-821c-1cf2f78453ee",
   "metadata": {},
   "source": [
    "#### Slicing \n",
    "\n",
    "    - ListName[start=0:end=-1:step=1]"
   ]
  },
  {
   "cell_type": "code",
   "execution_count": 28,
   "id": "30e4e724-d1c8-423b-97e6-27a1a667b63b",
   "metadata": {},
   "outputs": [
    {
     "data": {
      "text/plain": [
       "[2, 65, 23, 89]"
      ]
     },
     "execution_count": 28,
     "metadata": {},
     "output_type": "execute_result"
    }
   ],
   "source": [
    "l[1:5]"
   ]
  },
  {
   "cell_type": "code",
   "execution_count": 32,
   "id": "85ad8923-0f99-4d70-8f32-d42c45448839",
   "metadata": {},
   "outputs": [
    {
     "data": {
      "text/plain": [
       "[65, 23]"
      ]
     },
     "execution_count": 32,
     "metadata": {},
     "output_type": "execute_result"
    }
   ],
   "source": [
    "l[-4:-2:1]"
   ]
  },
  {
   "cell_type": "code",
   "execution_count": 31,
   "id": "95605454-f78c-4ea9-af5e-1b739259fe38",
   "metadata": {},
   "outputs": [
    {
     "data": {
      "text/plain": [
       "[23, 65]"
      ]
     },
     "execution_count": 31,
     "metadata": {},
     "output_type": "execute_result"
    }
   ],
   "source": [
    "\n",
    "l[-3:-5:-1]\n"
   ]
  },
  {
   "cell_type": "code",
   "execution_count": 33,
   "id": "580eb6c5-5c66-4a25-b031-20f06f2c28f4",
   "metadata": {},
   "outputs": [
    {
     "data": {
      "text/plain": [
       "[45, 2, 65, 23]"
      ]
     },
     "execution_count": 33,
     "metadata": {},
     "output_type": "execute_result"
    }
   ],
   "source": [
    "l[:4]"
   ]
  },
  {
   "cell_type": "code",
   "execution_count": 34,
   "id": "2c5e8d7b-1703-4eb0-a8e7-1815b8f89300",
   "metadata": {},
   "outputs": [
    {
     "data": {
      "text/plain": [
       "[23, 89, 78]"
      ]
     },
     "execution_count": 34,
     "metadata": {},
     "output_type": "execute_result"
    }
   ],
   "source": [
    "l[3:]"
   ]
  },
  {
   "cell_type": "code",
   "execution_count": 47,
   "id": "bfbfe269-e64f-48ce-b831-5caca931eec1",
   "metadata": {},
   "outputs": [
    {
     "name": "stdout",
     "output_type": "stream",
     "text": [
      "Type of array     :\" <class 'numpy.ndarray'>\n",
      "Type of Dimension :\" 3 d array\n",
      "Shape of the Array: (2, 2, 4)\n",
      "Array :\n",
      "[[[45 56 87 76]\n",
      "  [87 21 43 98]]\n",
      "\n",
      " [[98 78 90 97]\n",
      "  [84 65 78 45]]]\n"
     ]
    }
   ],
   "source": [
    "a = np.array( [[[45,56,87,76],[87,21,43,98]], [[98,78,90,97],[84,65,78,45]]] )\n",
    "print(f'Type of array     :\" {type(a)}')\n",
    "print(f'Type of Dimension :\" {a.ndim} d array')\n",
    "print(f'Shape of the Array: {a.shape}')\n",
    "print(f'Array :\\n{a}')"
   ]
  },
  {
   "cell_type": "code",
   "execution_count": 51,
   "id": "128f6d16-95a0-4e06-999b-5aa7f0ee21eb",
   "metadata": {},
   "outputs": [
    {
     "data": {
      "text/plain": [
       "array([[[45, 56],\n",
       "        [87, 21]],\n",
       "\n",
       "       [[98, 78],\n",
       "        [84, 65]]])"
      ]
     },
     "execution_count": 51,
     "metadata": {},
     "output_type": "execute_result"
    }
   ],
   "source": [
    "a[:,:,0:2] "
   ]
  },
  {
   "cell_type": "code",
   "execution_count": 77,
   "id": "58c2b210-5932-4c59-932e-3fd4aff86ad8",
   "metadata": {},
   "outputs": [
    {
     "data": {
      "text/plain": [
       "array([[[87],\n",
       "        [43]],\n",
       "\n",
       "       [[90],\n",
       "        [78]]])"
      ]
     },
     "execution_count": 77,
     "metadata": {},
     "output_type": "execute_result"
    }
   ],
   "source": [
    "\"\"\"\n",
    "NEgative Slicing of  \n",
    "\n",
    "[[[45 56 87 76]\n",
    "  [87 21 43 98]]\n",
    " [[98 78 90 97]\n",
    "  [84 65 78 45]]]\n",
    "\n",
    "Answer:\n",
    "\n",
    "[[87]\n",
    " [43]\n",
    " [90]\n",
    " 78]]\n",
    "\"\"\"\n",
    "a[:,:, -2:-1]"
   ]
  },
  {
   "cell_type": "code",
   "execution_count": 72,
   "id": "803bc401-4225-4f06-9007-0d52319ae3b0",
   "metadata": {},
   "outputs": [
    {
     "data": {
      "text/plain": [
       "array([[78, 90]])"
      ]
     },
     "execution_count": 72,
     "metadata": {},
     "output_type": "execute_result"
    }
   ],
   "source": [
    "a[1,0:1,1:3]"
   ]
  },
  {
   "cell_type": "markdown",
   "id": "6a145160-8ede-4bdd-ae2a-1a2b8aad2cb5",
   "metadata": {},
   "source": [
    "a = np.array([\"aasda\", \"ASDASDASD\", \"dsadasdsadsadsasasdasadasdasdsadasdsasdasdsadas\"],dtype=np.str_)\n",
    "print(f'Type of array     :\" {type(a)}')\n",
    "print(f'Type of Data      :  {a.dtype}')\n",
    "print(f'Type of Dimension :\" {a.ndim} d array')\n",
    "print(f'Shape of the Array: {a.shape}')\n",
    "print(f'Array :\\n{a}')"
   ]
  },
  {
   "cell_type": "code",
   "execution_count": 111,
   "id": "132c959c-ae78-423a-8961-cbe1c9aa0b65",
   "metadata": {},
   "outputs": [],
   "source": [
    "#help(np.array)"
   ]
  },
  {
   "cell_type": "code",
   "execution_count": 112,
   "id": "fb7e1d95-fa63-439d-96c3-c77191de44bc",
   "metadata": {},
   "outputs": [],
   "source": [
    "l = [3,4,5,6]"
   ]
  },
  {
   "cell_type": "code",
   "execution_count": 117,
   "id": "232c29ed-6e84-4a77-abe8-c7c05795e614",
   "metadata": {},
   "outputs": [],
   "source": [
    "b = l.copy()"
   ]
  },
  {
   "cell_type": "code",
   "execution_count": 118,
   "id": "55af3a82-202c-4bab-a612-1bf4d3721de3",
   "metadata": {},
   "outputs": [],
   "source": [
    "del b[0]"
   ]
  },
  {
   "cell_type": "code",
   "execution_count": 119,
   "id": "9dc68710-5daf-4714-a582-ededffd7172f",
   "metadata": {},
   "outputs": [
    {
     "name": "stdout",
     "output_type": "stream",
     "text": [
      "[4, 5, 6] 5211168192\n",
      "[5, 6] 5211766400\n"
     ]
    }
   ],
   "source": [
    "print(l, id(l))\n",
    "print(b,id(b))"
   ]
  },
  {
   "cell_type": "markdown",
   "id": "579a2e77-6df3-4e4d-9c13-e8fd81cd1a0a",
   "metadata": {},
   "source": [
    "### View Vs Copy\n",
    "    - Any changes made to array, will reflect to the view also and  Vice Versa\n",
    "    - Any change made to array, will not reflect to the copy of array and Vice Versa"
   ]
  },
  {
   "cell_type": "code",
   "execution_count": 3,
   "id": "c3c9596e-6f5d-49b1-bee9-920c14dd10fb",
   "metadata": {},
   "outputs": [],
   "source": [
    "a1 = np.array([1,23,4,56,7,89,34])\n",
    "b1 = a1.copy()\n",
    "v1 = a1.view()"
   ]
  },
  {
   "cell_type": "code",
   "execution_count": 5,
   "id": "148bec8e-8144-4558-a529-6ebe490c63a9",
   "metadata": {},
   "outputs": [],
   "source": [
    "# Change element at position 1\n",
    "a1[0] = 42\n",
    "v1[3] = 5\n",
    "b1[6] = 63"
   ]
  },
  {
   "cell_type": "code",
   "execution_count": 10,
   "id": "23d9f5fb-ee5a-4c8d-8a4b-a71858dabf06",
   "metadata": {},
   "outputs": [
    {
     "name": "stdout",
     "output_type": "stream",
     "text": [
      "Array a1 => Base None                    : [4568158864] : [42 23  4  5  7 89 34] \n",
      "Copy  b1 => Base None                    : [4568159824] : [ 1 23  4 56  7 89 63] \n",
      "View  v1 => Base [42 23  4  5  7 89 34]  : [4568159248] : [42 23  4  5  7 89 34] \n"
     ]
    }
   ],
   "source": [
    "print(f'Array a1 => Base {a1.base}                    : [{id(a1)}] : {a1} ')\n",
    "print(f'Copy  b1 => Base {b1.base}                    : [{id(b1)}] : {b1} ')\n",
    "print(f'View  v1 => Base {v1.base}  : [{id(v1)}] : {v1} ')"
   ]
  }
 ],
 "metadata": {
  "kernelspec": {
   "display_name": "Python 3 (ipykernel)",
   "language": "python",
   "name": "python3"
  },
  "language_info": {
   "codemirror_mode": {
    "name": "ipython",
    "version": 3
   },
   "file_extension": ".py",
   "mimetype": "text/x-python",
   "name": "python",
   "nbconvert_exporter": "python",
   "pygments_lexer": "ipython3",
   "version": "3.10.12"
  }
 },
 "nbformat": 4,
 "nbformat_minor": 5
}
