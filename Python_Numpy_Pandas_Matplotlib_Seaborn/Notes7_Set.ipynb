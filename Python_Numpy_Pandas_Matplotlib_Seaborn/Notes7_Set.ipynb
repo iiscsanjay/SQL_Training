{
 "cells": [
  {
   "cell_type": "markdown",
   "id": "59aad376-9912-48c4-b4a7-0b8065e5d2c1",
   "metadata": {},
   "source": [
    "### Set Data Structure"
   ]
  },
  {
   "cell_type": "markdown",
   "id": "fd686d1a-e87c-4c10-916f-72a684e9a2ac",
   "metadata": {},
   "source": [
    "- How create a empty set  : {}  or set()\n",
    "- How to create a set with default elements :  2,65,8,34,63\n",
    "- How to add value in to the set : add function\n",
    "- How to remove all elements from set : clear function\n",
    "- How to create a new copy of set : copy function\n",
    "- How to differentiate two or more sets  : difference function\n",
    "- How to retain the differnt elements in the only after difference : difference_update function\n",
    "- How to remove a element from set : discard function\n",
    "- How to remove a element from a set until it becomes empty : pop function\n",
    "- How to remove a element by its value in set : remove function\n",
    "- How to find the common elements between two sets :  intersection function\n",
    "- How to update set by intersection element in itself : difference_update function\n",
    "- How to find if two sets has nothing commmon in it (True), else return False : isdisjoint function\n",
    "- How to find a set is the subset of another set : issubset function\n",
    "- How to find a set is the superset of another set : issuperset function\n",
    "- How to get a new set with symmetric difference : symmetric_difference function\n",
    "- How to update the set with symmetric difference  : symmetric_difference_update function\n",
    "- How to get the all elements between two or more sets : union function\n",
    "- How to update a set with another set (union)  : update function"
   ]
  },
  {
   "cell_type": "code",
   "execution_count": 50,
   "id": "f58803c6-250f-4649-ae81-9dd051dff54e",
   "metadata": {},
   "outputs": [],
   "source": [
    "#help(set)"
   ]
  },
  {
   "cell_type": "code",
   "execution_count": 23,
   "id": "dc572bef-c937-49ae-9aca-680353278a74",
   "metadata": {},
   "outputs": [
    {
     "data": {
      "text/plain": [
       "{'A', 'B', 'C', 'D', 'E', 'F'}"
      ]
     },
     "execution_count": 23,
     "metadata": {},
     "output_type": "execute_result"
    }
   ],
   "source": [
    "set('ABCDEF')"
   ]
  },
  {
   "cell_type": "code",
   "execution_count": 24,
   "id": "31d2633f-fd89-4650-a753-5df57390c46d",
   "metadata": {},
   "outputs": [
    {
     "data": {
      "text/plain": [
       "{1, 5, 6, 7, 24, 343}"
      ]
     },
     "execution_count": 24,
     "metadata": {},
     "output_type": "execute_result"
    }
   ],
   "source": [
    "set([1,24,5,6,7,343])"
   ]
  },
  {
   "cell_type": "code",
   "execution_count": 25,
   "id": "591f7255-8515-436d-b6c9-87d7bc4cc5bb",
   "metadata": {},
   "outputs": [
    {
     "data": {
      "text/plain": [
       "{1, 2, 3, 5, 6, 343}"
      ]
     },
     "execution_count": 25,
     "metadata": {},
     "output_type": "execute_result"
    }
   ],
   "source": [
    "set((1,2,3,5,3,6,343))"
   ]
  },
  {
   "cell_type": "markdown",
   "id": "3def578b-2b6e-404e-a267-bda8944cda0e",
   "metadata": {},
   "source": [
    "- How create a empty set  : {}  or set()"
   ]
  },
  {
   "cell_type": "code",
   "execution_count": 11,
   "id": "49f72147-d9b2-4d17-ba05-5972c0306249",
   "metadata": {},
   "outputs": [
    {
     "name": "stdout",
     "output_type": "stream",
     "text": [
      "{}\n",
      "<class 'dict'>\n"
     ]
    }
   ],
   "source": [
    "mySet = {}\n",
    "print(mySet)\n",
    "print(type(mySet))"
   ]
  },
  {
   "cell_type": "code",
   "execution_count": 12,
   "id": "412a2581-e890-452b-bf4b-d00862b9390c",
   "metadata": {},
   "outputs": [
    {
     "name": "stdout",
     "output_type": "stream",
     "text": [
      "set()\n",
      "<class 'set'>\n"
     ]
    }
   ],
   "source": [
    "newSet = set()\n",
    "print(newSet)\n",
    "print(type(newSet))"
   ]
  },
  {
   "cell_type": "markdown",
   "id": "e7656dfc-cbc3-489b-a4b2-07d21f7cdf5d",
   "metadata": {},
   "source": [
    "- How to create a set with default elements :  2,65,8,34,63 "
   ]
  },
  {
   "cell_type": "code",
   "execution_count": 15,
   "id": "f3a8a08c-45c2-4040-a12f-7484775195eb",
   "metadata": {},
   "outputs": [
    {
     "name": "stdout",
     "output_type": "stream",
     "text": [
      "{65, 2, 34, 8, 63}\n"
     ]
    }
   ],
   "source": [
    "mySet = {2 ,65,8,34,63}\n",
    "print(mySet)"
   ]
  },
  {
   "cell_type": "code",
   "execution_count": 16,
   "id": "34bcede9-b05e-41be-bcf4-9eb58637a1f0",
   "metadata": {},
   "outputs": [
    {
     "name": "stdout",
     "output_type": "stream",
     "text": [
      "{65, 2, 34, 8, 63}\n"
     ]
    }
   ],
   "source": [
    "mySet = set([2,65,8,34,63])\n",
    "print(mySet)"
   ]
  },
  {
   "cell_type": "code",
   "execution_count": 19,
   "id": "b83b2fbc-4b73-48d9-82e2-dc9cdb0c225c",
   "metadata": {},
   "outputs": [
    {
     "name": "stdout",
     "output_type": "stream",
     "text": [
      "{65, 2, 34, 8, 63}\n"
     ]
    }
   ],
   "source": [
    "mySet = set()\n",
    "mySet.add(65)\n",
    "mySet.add(2)\n",
    "mySet.add(34)\n",
    "mySet.add(8)\n",
    "mySet.add(63)\n",
    "print(mySet)"
   ]
  },
  {
   "cell_type": "markdown",
   "id": "c0e35ba0-eb96-4456-93e6-fdecfec2ea7c",
   "metadata": {},
   "source": [
    "- How to add value in to the set : add function"
   ]
  },
  {
   "cell_type": "code",
   "execution_count": 20,
   "id": "c0499325-1710-446c-a4ce-42bb49715bb5",
   "metadata": {},
   "outputs": [
    {
     "name": "stdout",
     "output_type": "stream",
     "text": [
      "{65, 2, 34, 8, 63}\n"
     ]
    }
   ],
   "source": [
    "mySet = set()\n",
    "mySet.add(65)\n",
    "mySet.add(2)\n",
    "mySet.add(34)\n",
    "mySet.add(8)\n",
    "mySet.add(63)\n",
    "print(mySet)"
   ]
  },
  {
   "cell_type": "code",
   "execution_count": 13,
   "id": "b853e051-6f66-4b6e-ae91-5f9c3d992fd0",
   "metadata": {},
   "outputs": [],
   "source": [
    "myset = {2,1,4,5,3,2,34,2}"
   ]
  },
  {
   "cell_type": "code",
   "execution_count": 7,
   "id": "0ee46344-ec94-4617-b00d-ccbe10bd7a3b",
   "metadata": {},
   "outputs": [
    {
     "name": "stdout",
     "output_type": "stream",
     "text": [
      "<class 'set'>\n"
     ]
    }
   ],
   "source": [
    "print(type(myset))"
   ]
  },
  {
   "cell_type": "code",
   "execution_count": 8,
   "id": "ceab0068-e3fd-462d-9174-2ae307de686c",
   "metadata": {},
   "outputs": [
    {
     "name": "stdout",
     "output_type": "stream",
     "text": [
      "{1, 2, 3, 4, 5, 34}\n"
     ]
    }
   ],
   "source": [
    "print(myset)"
   ]
  },
  {
   "cell_type": "code",
   "execution_count": 4,
   "id": "5bd6301c-aa96-4324-8e9f-c0d79681f888",
   "metadata": {},
   "outputs": [],
   "source": [
    "myset = { 'ABCD' ,34, 96 , 12.56, 'BCd', 'c'}"
   ]
  },
  {
   "cell_type": "code",
   "execution_count": 5,
   "id": "15a6863a-48b4-45f8-b7bd-bd6f93b92b69",
   "metadata": {},
   "outputs": [
    {
     "data": {
      "text/plain": [
       "{12.56, 34, 96, 'ABCD', 'BCd', 'c'}"
      ]
     },
     "execution_count": 5,
     "metadata": {},
     "output_type": "execute_result"
    }
   ],
   "source": [
    "myset"
   ]
  },
  {
   "cell_type": "markdown",
   "id": "ab62b3ed-dc9d-4c8a-b263-9ad1b8e4ba4c",
   "metadata": {},
   "source": [
    "- How to remove all elements from set : clear function"
   ]
  },
  {
   "cell_type": "code",
   "execution_count": 26,
   "id": "8d16bed0-103f-4835-84ed-d879ab305325",
   "metadata": {},
   "outputs": [
    {
     "name": "stdout",
     "output_type": "stream",
     "text": [
      "Before Clear function called : {96, 'c', 34, 'BCd', 'ABCD', 12.56}\n",
      "After Clear function called : set()\n"
     ]
    }
   ],
   "source": [
    "myset = { 'ABCD' ,34, 96 , 12.56, 'BCd', 'c'}\n",
    "print(f'Before Clear function called : {myset}')\n",
    "myset.clear()\n",
    "print(f'After Clear function called : {myset}')"
   ]
  },
  {
   "cell_type": "markdown",
   "id": "80688ac3-235f-4916-92e7-31611e054bff",
   "metadata": {},
   "source": [
    "- How to create a new copy of set : copy function\n"
   ]
  },
  {
   "cell_type": "code",
   "execution_count": 28,
   "id": "2ff04aba-faf4-4b1c-8010-38af6c4242bd",
   "metadata": {},
   "outputs": [
    {
     "name": "stdout",
     "output_type": "stream",
     "text": [
      "Before Clear function called : {96, 'c', 34, 'BCd', 'ABCD', 12.56}\n",
      "Before Removal function called : {96, 'c', 34, 'BCd', 'ABCD', 12.56}\n",
      "Before Removal function called : {96, 'c', 34, 'BCd', 'ABCD', 12.56}\n",
      "After Removal function called : {96, 'c', 34, 'BCd', 12.56}\n",
      "After Removal function called : {'c', 34, 'BCd', 'ABCD', 12.56}\n"
     ]
    }
   ],
   "source": [
    "myset = { 'ABCD' ,34, 96 , 12.56, 'BCd', 'c'}\n",
    "newset = myset.copy()\n",
    "print(f'Before Removal function called : {myset}')\n",
    "print(f'Before Removal function called : {newset}')\n",
    "myset.remove('ABCD')\n",
    "newset.remove(96)\n",
    "print(f'After Removal function called : {myset}')\n",
    "print(f'After Removal function called : {newset}')\n"
   ]
  },
  {
   "cell_type": "markdown",
   "id": "ea4ec813-12be-40b7-be6f-1007ff8eb704",
   "metadata": {},
   "source": [
    "- How to differentiate two sets  : difference function\n"
   ]
  },
  {
   "cell_type": "code",
   "execution_count": 35,
   "id": "2722861e-91a1-471c-afa5-407ebc2899f8",
   "metadata": {},
   "outputs": [
    {
     "name": "stdout",
     "output_type": "stream",
     "text": [
      "{96, 'c', 34, 'BCd', 19, 12.56}\n",
      "{'c', 34, 'BCd', 'ABCD', 12.56}\n",
      "{96, 19}\n",
      "{'ABCD'}\n"
     ]
    }
   ],
   "source": [
    "myset = {96, 'c', 34, 'BCd', 12.56,19}\n",
    "newset = {'c', 34, 'BCd', 'ABCD', 12.56}\n",
    "result1set = myset.difference(newset,)\n",
    "result2set = newset.difference(myset,result1set)\n",
    "print(f'{myset}')\n",
    "print(f'{newset}')\n",
    "print(f'{result1set}')\n",
    "print(f'{result2set}')"
   ]
  },
  {
   "cell_type": "markdown",
   "id": "23c08f2e-4421-4b9f-a8cd-9ff81fffe7ec",
   "metadata": {},
   "source": [
    "- How to retain the differnt elements in the only after difference : difference_update function"
   ]
  },
  {
   "cell_type": "code",
   "execution_count": 39,
   "id": "12bf2fcd-c253-4eb6-a52c-7dda499b160a",
   "metadata": {},
   "outputs": [
    {
     "name": "stdout",
     "output_type": "stream",
     "text": [
      "{96, 19}\n",
      "{'c', 34, 'BCd', 'ABCD', 12.56}\n"
     ]
    }
   ],
   "source": [
    "myset = {96, 'c', 34, 'BCd', 12.56,19}\n",
    "newset = {'c', 34, 'BCd', 'ABCD', 12.56}\n",
    "myset.difference_update(newset)\n",
    "print(f'{myset}')\n",
    "print(f'{newset}')"
   ]
  },
  {
   "cell_type": "code",
   "execution_count": 36,
   "id": "50c89a2a-9af0-4032-b455-35271dd77e11",
   "metadata": {},
   "outputs": [
    {
     "name": "stdout",
     "output_type": "stream",
     "text": [
      "Help on method_descriptor:\n",
      "\n",
      "difference_update(...)\n",
      "    Remove all elements of another set from this set.\n",
      "\n"
     ]
    }
   ],
   "source": [
    "help(set.difference_update)"
   ]
  },
  {
   "cell_type": "markdown",
   "id": "ff0a7929-f045-4db5-858b-cf717e4acc5e",
   "metadata": {},
   "source": [
    "- How to remove a element from set even though if element not present, not generate any error : discard function"
   ]
  },
  {
   "cell_type": "code",
   "execution_count": 42,
   "id": "da7cb7b7-faba-4dff-b417-88e24cc48b2b",
   "metadata": {},
   "outputs": [
    {
     "name": "stdout",
     "output_type": "stream",
     "text": [
      "{96, 'c', 'BCd', 19, 12.56}\n",
      "{96, 'c', 'BCd', 19, 12.56}\n"
     ]
    }
   ],
   "source": [
    "myset = {96, 'c', 34, 'BCd', 12.56,19}\n",
    "myset.discard(34)\n",
    "print(myset)\n",
    "myset.discard(56)\n",
    "print(myset)"
   ]
  },
  {
   "cell_type": "markdown",
   "id": "cf0550cd-67b7-4b52-a3f0-74e3805a7cd6",
   "metadata": {},
   "source": [
    "- How to remove a element from a set until it becomes empty : pop function"
   ]
  },
  {
   "cell_type": "code",
   "execution_count": 78,
   "id": "4e849c36-93de-42e4-b9e4-d3b22ddb1f06",
   "metadata": {},
   "outputs": [
    {
     "name": "stdout",
     "output_type": "stream",
     "text": [
      "Help on built-in function pop:\n",
      "\n",
      "pop(...) method of builtins.set instance\n",
      "    Remove and return an arbitrary set element.\n",
      "    Raises KeyError if the set is empty.\n",
      "\n"
     ]
    }
   ],
   "source": [
    "myset = {96, 'c', 34, 'BCd', 12.56,19}\n",
    "help(myset.pop)"
   ]
  },
  {
   "cell_type": "code",
   "execution_count": 79,
   "id": "82c78c93-6b68-470c-99d0-9d1e01523307",
   "metadata": {},
   "outputs": [
    {
     "data": {
      "text/plain": [
       "96"
      ]
     },
     "execution_count": 79,
     "metadata": {},
     "output_type": "execute_result"
    }
   ],
   "source": [
    "myset.pop()"
   ]
  },
  {
   "cell_type": "markdown",
   "id": "89ade96b-8883-4853-8247-660d0ab34a21",
   "metadata": {},
   "source": [
    "- How to remove a element by its value in set : remove function"
   ]
  },
  {
   "cell_type": "code",
   "execution_count": 83,
   "id": "21828d37-49a9-43c3-a03f-9587c7ebc545",
   "metadata": {},
   "outputs": [
    {
     "name": "stdout",
     "output_type": "stream",
     "text": [
      "Help on method_descriptor:\n",
      "\n",
      "remove(...)\n",
      "    Remove an element from a set; it must be a member.\n",
      "    \n",
      "    If the element is not a member, raise a KeyError.\n",
      "\n"
     ]
    }
   ],
   "source": [
    "myset = {96, 'c', 34, 'BCd', 12.56,19}\n",
    "help(set.remove)"
   ]
  },
  {
   "cell_type": "code",
   "execution_count": 87,
   "id": "fe8c6d52-36d7-4107-aa79-22508e8f176f",
   "metadata": {},
   "outputs": [
    {
     "name": "stdout",
     "output_type": "stream",
     "text": [
      "{96, 'c', 'BCd', 19, 12.56}\n"
     ]
    }
   ],
   "source": [
    "if 34 in myset:\n",
    "    myset.remove(34)\n",
    "print(myset)"
   ]
  },
  {
   "cell_type": "markdown",
   "id": "40012905-a770-413d-98fe-660eeda4d436",
   "metadata": {},
   "source": [
    "- How to find the common elements between two or more sets :  intersection function"
   ]
  },
  {
   "cell_type": "code",
   "execution_count": 46,
   "id": "6b98c100-5392-4c0b-84fd-df093d617406",
   "metadata": {},
   "outputs": [
    {
     "data": {
      "text/plain": [
       "{12.56, 34, 'BCd'}"
      ]
     },
     "execution_count": 46,
     "metadata": {},
     "output_type": "execute_result"
    }
   ],
   "source": [
    "myset = {96,  34, 'BCd', 12.56,19}\n",
    "newset = {'c', 34, 'BCd', 'ABCD', 12.56}\n",
    "myset.intersection(newset)"
   ]
  },
  {
   "cell_type": "markdown",
   "id": "af4f2658-420e-42c3-b422-6e5678ffdf5e",
   "metadata": {},
   "source": [
    "- How to update set by intersection element in itself : difference_update function"
   ]
  },
  {
   "cell_type": "code",
   "execution_count": 49,
   "id": "e3a0b178-88ad-41a6-bb2a-be406f79a65b",
   "metadata": {},
   "outputs": [
    {
     "name": "stdout",
     "output_type": "stream",
     "text": [
      "{34, 'BCd', 12.56}\n",
      "{'c', 34, 'BCd', 'ABCD', 12.56}\n"
     ]
    }
   ],
   "source": [
    "myset = {96,  34, 'BCd', 12.56,19}\n",
    "newset = {'c', 34, 'BCd', 'ABCD', 12.56}\n",
    "myset.intersection_update(newset)\n",
    "print(myset)\n",
    "print(newset)"
   ]
  },
  {
   "cell_type": "markdown",
   "id": "9ad8f415-1111-41e2-ab48-c64c0c3e3536",
   "metadata": {},
   "source": [
    "- How to find if two sets has nothing commmon in it (True), else return False : isdisjoint function"
   ]
  },
  {
   "cell_type": "code",
   "execution_count": 88,
   "id": "c7a5f6d8-aa6e-4cea-84db-dbf5340ca13f",
   "metadata": {},
   "outputs": [
    {
     "name": "stdout",
     "output_type": "stream",
     "text": [
      "Help on method_descriptor:\n",
      "\n",
      "isdisjoint(...)\n",
      "    Return True if two sets have a null intersection.\n",
      "\n"
     ]
    }
   ],
   "source": [
    "help(set.isdisjoint)"
   ]
  },
  {
   "cell_type": "code",
   "execution_count": 91,
   "id": "c35b818b-97e7-4cdd-a8eb-b9bda143f574",
   "metadata": {},
   "outputs": [
    {
     "name": "stdout",
     "output_type": "stream",
     "text": [
      "{96, 34, 19, 'BCd', 12.56}\n",
      "{'c', 34, 'BCd', 'ABCD', 12.56}\n",
      "There are 3 elements commmon in between myset and newset : False\n"
     ]
    }
   ],
   "source": [
    "myset = {96,  34, 'BCd', 12.56,19}\n",
    "newset = {'c', 34, 'BCd', 'ABCD', 12.56}\n",
    "result = myset.isdisjoint(newset)\n",
    "print(myset)\n",
    "print(newset)\n",
    "print(f'There are 3 elements commmon in between myset and newset : {result}')"
   ]
  },
  {
   "cell_type": "code",
   "execution_count": 92,
   "id": "2ec448e5-789e-43f2-8e90-9fda7a82086d",
   "metadata": {},
   "outputs": [
    {
     "name": "stdout",
     "output_type": "stream",
     "text": [
      "{96, 19}\n",
      "{'c', 34, 'BCd', 'ABCD', 12.56}\n",
      "There are 0 elements commmon in between myset and newset : True\n"
     ]
    }
   ],
   "source": [
    "myset = {96,19}\n",
    "newset = {'c', 34, 'BCd', 'ABCD', 12.56}\n",
    "result = myset.isdisjoint(newset)\n",
    "print(myset)\n",
    "print(newset)\n",
    "print(f'There are 0 elements commmon in between myset and newset : {result}')"
   ]
  },
  {
   "cell_type": "markdown",
   "id": "ed9adafb-db06-4b87-9af6-d23aee83643c",
   "metadata": {},
   "source": [
    "- How to find a set is the subset of another set : issubset function"
   ]
  },
  {
   "cell_type": "code",
   "execution_count": 95,
   "id": "bf3b9539-593e-42d5-9f48-d6fba45f1178",
   "metadata": {},
   "outputs": [
    {
     "name": "stdout",
     "output_type": "stream",
     "text": [
      "False\n",
      "True\n"
     ]
    }
   ],
   "source": [
    "myset = {96,  34, 'BCd', 12.56,19}\n",
    "newset = { 34, 'BCd', 12.56}\n",
    "print(myset.issubset(newset))\n",
    "print(newset.issubset(myset))"
   ]
  },
  {
   "cell_type": "markdown",
   "id": "843e5a73-61de-41d9-8d18-178be6d96492",
   "metadata": {},
   "source": [
    "- How to find a set is the superset of another set : issuperset function"
   ]
  },
  {
   "cell_type": "code",
   "execution_count": 97,
   "id": "3c130947-fa91-4c3c-b5e8-a1d65538ad52",
   "metadata": {},
   "outputs": [
    {
     "name": "stdout",
     "output_type": "stream",
     "text": [
      "True\n",
      "False\n"
     ]
    }
   ],
   "source": [
    "myset = {96,  34, 'BCd', 12.56,19}\n",
    "newset = {34, 'BCd'}\n",
    "print(myset.issuperset(newset))\n",
    "print(newset.issuperset(myset))"
   ]
  },
  {
   "cell_type": "markdown",
   "id": "48f7d74d-b3e2-4524-9bbe-22a08d18049c",
   "metadata": {},
   "source": [
    "- How to get a set with symmetric difference (elements which is not presents in vice versa from both set) : symmetric_difference function"
   ]
  },
  {
   "cell_type": "code",
   "execution_count": 64,
   "id": "7fd15323-298c-429e-827c-5ba5e3f6da68",
   "metadata": {},
   "outputs": [
    {
     "name": "stdout",
     "output_type": "stream",
     "text": [
      "Help on method_descriptor:\n",
      "\n",
      "symmetric_difference(...)\n",
      "    Return the symmetric difference of two sets as a new set.\n",
      "    \n",
      "    (i.e. all elements that are in exactly one of the sets.)\n",
      "\n"
     ]
    }
   ],
   "source": [
    "help(set.symmetric_difference)"
   ]
  },
  {
   "cell_type": "code",
   "execution_count": null,
   "id": "24e2768e-6158-49eb-b0a7-f667c3496a66",
   "metadata": {},
   "outputs": [],
   "source": [
    "myset = {96,  34, 'BCd', 12.56,19}\n",
    "newset = {'c', 34, 'BCd', 'ABCD', 12.56}\n",
    "resultset = myset.symmetric_difference(newset)\n",
    "print(myset)\n",
    "print(newset)\n",
    "print(resultset)"
   ]
  },
  {
   "cell_type": "markdown",
   "id": "94ded8ee-261a-465e-acd2-fd15ad436c5c",
   "metadata": {},
   "source": [
    "- How to update the set with symmetric difference  : symmetric_difference_update function"
   ]
  },
  {
   "cell_type": "code",
   "execution_count": 68,
   "id": "a0fc827f-03e8-43f6-9a27-ce64c8c7534d",
   "metadata": {},
   "outputs": [
    {
     "name": "stdout",
     "output_type": "stream",
     "text": [
      "{96, 'c', 19, 'ABCD'}\n",
      "{'c', 34, 'BCd', 'ABCD', 12.56}\n"
     ]
    }
   ],
   "source": [
    "myset = {96,  34, 'BCd', 12.56,19}\n",
    "newset = {'c', 34, 'BCd', 'ABCD', 12.56}\n",
    "myset.symmetric_difference_update(newset)\n",
    "print(myset)\n",
    "print(newset)"
   ]
  },
  {
   "cell_type": "markdown",
   "id": "d58b1125-aaf7-4400-9093-8cd2aecf34fb",
   "metadata": {},
   "source": [
    "- How to get the all elements between two or more sets : union function"
   ]
  },
  {
   "cell_type": "code",
   "execution_count": 57,
   "id": "ed8d5310-fdd8-464a-baec-4b83697381ee",
   "metadata": {},
   "outputs": [
    {
     "name": "stdout",
     "output_type": "stream",
     "text": [
      "Help on method_descriptor:\n",
      "\n",
      "union(...)\n",
      "    Return the union of sets as a new set.\n",
      "    \n",
      "    (i.e. all elements that are in either set.)\n",
      "\n"
     ]
    }
   ],
   "source": [
    "help(set.union)"
   ]
  },
  {
   "cell_type": "code",
   "execution_count": 58,
   "id": "c79c571d-0983-419a-bedc-2303b3d7a659",
   "metadata": {},
   "outputs": [
    {
     "name": "stdout",
     "output_type": "stream",
     "text": [
      "{96, 34, 19, 'BCd', 12.56}\n",
      "{'c', 34, 'BCd', 'ABCD', 12.56}\n",
      "{96, 34, 'ABCD', 12.56, 'c', 19, 'BCd'}\n"
     ]
    }
   ],
   "source": [
    "myset = {96,  34, 'BCd', 12.56,19}\n",
    "newset = {'c', 34, 'BCd', 'ABCD', 12.56}\n",
    "resultset = myset.union(newset)\n",
    "print(myset)\n",
    "print(newset)\n",
    "print(resultset)"
   ]
  },
  {
   "cell_type": "markdown",
   "id": "017c3f58-a837-4dcb-a1b9-af1bb38e5d64",
   "metadata": {},
   "source": [
    "- How to update a set with another set (union)  : update function"
   ]
  },
  {
   "cell_type": "code",
   "execution_count": 59,
   "id": "258977f2-de25-4a7b-ac8c-4be75db5a47f",
   "metadata": {},
   "outputs": [
    {
     "name": "stdout",
     "output_type": "stream",
     "text": [
      "Help on method_descriptor:\n",
      "\n",
      "update(...)\n",
      "    Update a set with the union of itself and others.\n",
      "\n"
     ]
    }
   ],
   "source": [
    "help(set.update)"
   ]
  },
  {
   "cell_type": "code",
   "execution_count": 60,
   "id": "0a32d2e0-ee77-4e77-a948-00d32315a6f3",
   "metadata": {},
   "outputs": [
    {
     "name": "stdout",
     "output_type": "stream",
     "text": [
      "{96, 34, 'ABCD', 12.56, 'c', 19, 'BCd'}\n",
      "{'c', 34, 'BCd', 'ABCD', 12.56}\n"
     ]
    }
   ],
   "source": [
    "myset = {96,  34, 'BCd', 12.56,19}\n",
    "newset = {'c', 34, 'BCd', 'ABCD', 12.56}\n",
    "myset.update(newset)\n",
    "print(myset)\n",
    "print(newset)"
   ]
  }
 ],
 "metadata": {
  "kernelspec": {
   "display_name": "Python 3 (ipykernel)",
   "language": "python",
   "name": "python3"
  },
  "language_info": {
   "codemirror_mode": {
    "name": "ipython",
    "version": 3
   },
   "file_extension": ".py",
   "mimetype": "text/x-python",
   "name": "python",
   "nbconvert_exporter": "python",
   "pygments_lexer": "ipython3",
   "version": "3.10.12"
  }
 },
 "nbformat": 4,
 "nbformat_minor": 5
}
