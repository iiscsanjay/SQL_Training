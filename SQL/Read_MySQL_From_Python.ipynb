{
 "cells": [
  {
   "cell_type": "code",
   "execution_count": 1,
   "id": "a59147d3-5e64-4be2-b085-c49ebdadd2fe",
   "metadata": {},
   "outputs": [
    {
     "name": "stdout",
     "output_type": "stream",
     "text": [
      "Defaulting to user installation because normal site-packages is not writeable\n",
      "Requirement already satisfied: mysql-connector-python in /Users/sanjayk/Library/Python/3.9/lib/python/site-packages (8.3.0)\n"
     ]
    }
   ],
   "source": [
    "!pip3 install mysql-connector-python"
   ]
  },
  {
   "cell_type": "code",
   "execution_count": 3,
   "id": "74af6b6c-306b-466e-aca7-f6c916140578",
   "metadata": {},
   "outputs": [],
   "source": [
    "import mysql.connector"
   ]
  },
  {
   "cell_type": "code",
   "execution_count": 4,
   "id": "d4e23bb0-9771-4609-9d7f-0f8fdea85406",
   "metadata": {},
   "outputs": [],
   "source": [
    "conn = mysql.connector.connect(host=\"localhost\",user=\"sanjayk\",password=\"123456\")"
   ]
  },
  {
   "cell_type": "code",
   "execution_count": 7,
   "id": "8260f684-029a-4114-a828-0523a9d7bda5",
   "metadata": {},
   "outputs": [],
   "source": [
    "mycursor = conn.cursor()"
   ]
  },
  {
   "cell_type": "code",
   "execution_count": 8,
   "id": "528d8f54-9581-436c-9395-45f51e228df6",
   "metadata": {},
   "outputs": [],
   "source": [
    "mycursor.execute('use CareereraDB;')"
   ]
  },
  {
   "cell_type": "code",
   "execution_count": 9,
   "id": "7fc39164-45d0-4afa-9aff-768fe064244a",
   "metadata": {},
   "outputs": [
    {
     "name": "stdout",
     "output_type": "stream",
     "text": [
      "(100, 'Swathi Reddy', 'Female', 'sbendram@aum.edu', '123456', None, 1, 21)\n",
      "(101, 'Shiva Reddy', 'Male', 'shiva@aum.edu', '12345', None, 0, 23)\n",
      "(102, 'Sri Ram', 'Male', 'sri@aum.edu', '12345', None, 1, 24)\n",
      "(103, 'Rekha Reddy', 'Female', 'rekha@aum.edu', '12345', None, 0, 23)\n",
      "(104, 'Saiteja Reddy', 'Male', 'saiteja@aum.edu', '12345', None, 1, 25)\n",
      "(105, 'Srinu Karra', 'Male', 'karra@aum.edu', '12345', datetime.datetime(2010, 9, 21, 0, 0), 0, 23)\n",
      "(106, 'Jennifer Thomas', 'Female', 'jenne@aum.edu', '12345', datetime.datetime(2009, 10, 23, 0, 0), 1, 25)\n",
      "(107, 'Lisa David', 'Female', 'lisa@aum.edu', '12345', datetime.datetime(2006, 2, 2, 0, 0), 1, 26)\n",
      "(108, 'John William', 'Male', 'john@aum.edu', '12345', datetime.datetime(2007, 10, 23, 0, 0), 0, 23)\n"
     ]
    }
   ],
   "source": [
    "mycursor.execute('Select * from students;')\n",
    "for row in mycursor:\n",
    "    print(row)"
   ]
  },
  {
   "cell_type": "code",
   "execution_count": 10,
   "id": "9dad347d-f9a2-41c8-a869-0764261fb873",
   "metadata": {},
   "outputs": [
    {
     "name": "stdout",
     "output_type": "stream",
     "text": [
      "('CSCI 200', 'C++ Programming', 4, 'FALL', 'GH-201', 'MON 8:00 AM')\n",
      "('CSCI 201', 'Frontend Web Development', 2, 'FALL', 'GH-202', 'TUE 1:00 PM')\n",
      "('CSCI 202', 'Computer Architechture', 1, 'FALL', 'GH-203', 'WED 9:00 AM')\n",
      "('CSCI 203', 'Data Stuctures', 4, 'FALL', 'GH-204', 'Thu 10:00 AM')\n",
      "('CSCI 204', 'Algorithms', 4, 'FAll', 'GH-205', 'Tue 8:00 AM')\n",
      "('CSCI 205', 'Python Programming', 6, 'FALL', 'GH-206', 'Fri 8:00 AM')\n",
      "('CSCI 300', 'Advanced C++ Programming', 4, 'FALL', 'GH-202', 'TUE 8:00 AM')\n"
     ]
    }
   ],
   "source": [
    "mycursor.execute('Select * from courses;')\n",
    "for row in mycursor:\n",
    "    print(row)"
   ]
  },
  {
   "cell_type": "code",
   "execution_count": 12,
   "id": "165e29c9-664d-4e60-b016-51cc74884e6f",
   "metadata": {},
   "outputs": [
    {
     "name": "stdout",
     "output_type": "stream",
     "text": [
      "(1, 'Lee Wu', 'Male', 'lee@aum.edu', '12345', datetime.datetime(1984, 9, 12, 0, 0))\n",
      "(2, 'Zimin Gao', 'Male', 'kelvin@aum.edu', '12345', datetime.datetime(1987, 8, 1, 0, 0))\n",
      "(3, 'Kennedy Smith', 'Female', 'kennedy@aum.edu', '12345', datetime.datetime(1967, 2, 19, 0, 0))\n",
      "(4, 'S Dinc', 'Male', 'dinc@aum.edu', '12345', datetime.datetime(1999, 1, 23, 0, 0))\n",
      "(5, 'Bellinda Casamir', 'Female', 'bellinda@aum.edu', '123456', datetime.datetime(1989, 1, 1, 0, 0))\n",
      "(6, 'Hua Yan', 'Female', 'sophia@aum.com', '123456', datetime.datetime(1994, 1, 4, 0, 0))\n",
      "(7, 'Jason clutchfield', 'Male', 'jason@aum.edu', '12345', datetime.datetime(1996, 1, 3, 0, 0))\n",
      "(8, 'Dena Irvin', 'Female', 'dena@aum.edu', '12345', datetime.datetime(1992, 6, 2, 0, 0))\n"
     ]
    }
   ],
   "source": [
    "mycursor.execute('Select * from instructors;')\n",
    "for row in mycursor:\n",
    "    print(row)"
   ]
  },
  {
   "cell_type": "code",
   "execution_count": 14,
   "id": "5db0768f-2457-450e-8ca7-847fa60d4608",
   "metadata": {},
   "outputs": [],
   "source": [
    "sql = \"INSERT INTO Students (student_name, student_gender, student_email, student_password, student_dob, student_isTa, student_age) VALUES (%s, %s, %s, %s, %s, %s, %s)\"\n",
    "val = (\"Sanjay\", \"Male\", \"iet.sanjay@gmail.com\", \"123456\", \"1995-10-23\",\"1\", \"34\")\n",
    "mycursor.execute(sql, val)"
   ]
  },
  {
   "cell_type": "code",
   "execution_count": 15,
   "id": "de3a56c1-0d19-4f6d-be23-a900f837d625",
   "metadata": {},
   "outputs": [],
   "source": [
    "query = 'update students set student_name = \"Swati Reddy\" where student_id = 100;'\n",
    "mycursor.execute(query)"
   ]
  },
  {
   "cell_type": "code",
   "execution_count": 16,
   "id": "6fb154d0-b66d-4297-9e09-bc23592ec909",
   "metadata": {},
   "outputs": [],
   "source": [
    "conn.commit()"
   ]
  },
  {
   "cell_type": "code",
   "execution_count": 17,
   "id": "5c5e0027-e377-4ded-a829-0ff22843dac7",
   "metadata": {},
   "outputs": [
    {
     "name": "stdout",
     "output_type": "stream",
     "text": [
      "(100, 'Swati Reddy', 'Female', 'sbendram@aum.edu', '123456', None, 1, 21)\n",
      "(101, 'Shiva Reddy', 'Male', 'shiva@aum.edu', '12345', None, 0, 23)\n",
      "(102, 'Sri Ram', 'Male', 'sri@aum.edu', '12345', None, 1, 24)\n",
      "(103, 'Rekha Reddy', 'Female', 'rekha@aum.edu', '12345', None, 0, 23)\n",
      "(104, 'Saiteja Reddy', 'Male', 'saiteja@aum.edu', '12345', None, 1, 25)\n",
      "(105, 'Srinu Karra', 'Male', 'karra@aum.edu', '12345', datetime.datetime(2010, 9, 21, 0, 0), 0, 23)\n",
      "(106, 'Jennifer Thomas', 'Female', 'jenne@aum.edu', '12345', datetime.datetime(2009, 10, 23, 0, 0), 1, 25)\n",
      "(107, 'Lisa David', 'Female', 'lisa@aum.edu', '12345', datetime.datetime(2006, 2, 2, 0, 0), 1, 26)\n",
      "(108, 'John William', 'Male', 'john@aum.edu', '12345', datetime.datetime(2007, 10, 23, 0, 0), 0, 23)\n",
      "(109, 'Sanjay', 'Male', 'iet.sanjay@gmail.com', '123456', datetime.datetime(1995, 10, 23, 0, 0), 1, 34)\n"
     ]
    }
   ],
   "source": [
    "mycursor.execute('Select * from students;')\n",
    "for row in mycursor:\n",
    "    print(row)"
   ]
  },
  {
   "cell_type": "code",
   "execution_count": 22,
   "id": "391a77d7-17f4-437a-b8d7-bf912cd6bdcb",
   "metadata": {},
   "outputs": [],
   "source": [
    "conn.rollback()"
   ]
  },
  {
   "cell_type": "code",
   "execution_count": 18,
   "id": "80b088fa-21f2-4d9c-b2a1-26f2ebaed743",
   "metadata": {},
   "outputs": [],
   "source": [
    "conn.close()"
   ]
  },
  {
   "cell_type": "code",
   "execution_count": null,
   "id": "a2f1e43d-bce7-41f4-a724-60e3b65ad12f",
   "metadata": {},
   "outputs": [],
   "source": []
  }
 ],
 "metadata": {
  "kernelspec": {
   "display_name": "Python 3 (ipykernel)",
   "language": "python",
   "name": "python3"
  },
  "language_info": {
   "codemirror_mode": {
    "name": "ipython",
    "version": 3
   },
   "file_extension": ".py",
   "mimetype": "text/x-python",
   "name": "python",
   "nbconvert_exporter": "python",
   "pygments_lexer": "ipython3",
   "version": "3.9.6"
  }
 },
 "nbformat": 4,
 "nbformat_minor": 5
}
