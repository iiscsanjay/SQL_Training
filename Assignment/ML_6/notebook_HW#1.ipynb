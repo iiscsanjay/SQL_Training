{
 "cells": [
  {
   "cell_type": "code",
   "execution_count": 2,
   "id": "03124d58-5928-4132-9552-9fe25f2255ca",
   "metadata": {},
   "outputs": [],
   "source": [
    "!pip3 install numpy\n",
    "!pip3 install pandas\n",
    "!pip3 install matplotlib\n",
    "!pip3 install scipy\n",
    "!pip3 install scikit-learn"
   ]
  },
  {
   "cell_type": "code",
   "execution_count": 3,
   "id": "231dd611-ef1e-4cfd-837f-dbac4a5c5a4a",
   "metadata": {},
   "outputs": [],
   "source": [
    "# Importing the module for download files from ftp\n",
    "import requests\n",
    "import os\n",
    "import shutil\n",
    "import zipfile \n",
    "#import sklearn\n",
    "from scipy.spatial import distance"
   ]
  },
  {
   "cell_type": "markdown",
   "id": "f8c05ffa-3395-49bc-8175-692e27c3cc04",
   "metadata": {},
   "source": [
    "### **TASK 1 : Perform basic data engineering (40%)**"
   ]
  },
  {
   "cell_type": "markdown",
   "id": "e5276260-e0fd-46cb-850d-5b400718674f",
   "metadata": {},
   "source": [
    "**Task 1 -> Step 1 :  Downloading the file locally**"
   ]
  },
  {
   "cell_type": "code",
   "execution_count": 300,
   "id": "33c08b4f-928f-40a6-b22e-aa82ff919a5a",
   "metadata": {},
   "outputs": [
    {
     "name": "stdout",
     "output_type": "stream",
     "text": [
      "Downloading started for year : 1975\n",
      "Downloading Completed for year : 1975\n",
      "Downloading started for year : 1980\n",
      "Downloading Completed for year : 1980\n",
      "Downloading started for year : 1985\n",
      "Downloading Completed for year : 1985\n",
      "Downloading started for year : 1990\n",
      "Downloading Completed for year : 1990\n",
      "Downloading started for year : 1995\n",
      "Downloading Completed for year : 1995\n",
      "Downloading started for year : 2000\n",
      "Downloading Completed for year : 2000\n",
      "Downloading started for year : 2005\n",
      "Downloading Completed for year : 2005\n",
      "Downloading started for year : 2010\n",
      "Downloading Completed for year : 2010\n",
      "Downloading started for year : 2015\n",
      "Downloading Completed for year : 2015\n",
      "Downloading started for year : 2020\n",
      "Downloading Completed for year : 2020\n"
     ]
    }
   ],
   "source": [
    "# executing year loop for 1975 to 2020\n",
    "for year in range(1975,2021,5):\n",
    "    \n",
    "    # FTP path for downloading files per year wise\n",
    "    url = f'https://static.nhtsa.gov/nhtsa/downloads/FARS/{year}/National/FARS{year}NationalCSV.zip'\n",
    "    print(f'Downloading started for year : {year}')\n",
    "    \n",
    "    # Downloading the file by sending the request to the URL\n",
    "    req = requests.get(url)\n",
    " \n",
    "    # Split URL to get the file name\n",
    "    filename = url.split('/')[-1]\n",
    " \n",
    "    # Writing the file to the local file system\n",
    "    with open(filename,'wb') as output_file:\n",
    "        output_file.write(req.content)\n",
    "    \n",
    "    print(f'Downloading Completed for year : {year}')"
   ]
  },
  {
   "cell_type": "markdown",
   "id": "a9c98188-4333-4394-8eaa-a17df1c72a19",
   "metadata": {
    "tags": []
   },
   "source": [
    "**Task 1 -> Step 2 :  Extracting the file in respective year folder**\n"
   ]
  },
  {
   "cell_type": "code",
   "execution_count": 301,
   "id": "5deef009-9c39-4af8-a9a5-77733edbba22",
   "metadata": {},
   "outputs": [
    {
     "name": "stdout",
     "output_type": "stream",
     "text": [
      "Creating Folder 1975 and Extracting file into 1975 Directory.\n",
      "Creating Folder 1980 and Extracting file into 1980 Directory.\n",
      "Creating Folder 1985 and Extracting file into 1985 Directory.\n",
      "Creating Folder 1990 and Extracting file into 1990 Directory.\n",
      "Creating Folder 1995 and Extracting file into 1995 Directory.\n",
      "Creating Folder 2000 and Extracting file into 2000 Directory.\n",
      "Creating Folder 2005 and Extracting file into 2005 Directory.\n",
      "Creating Folder 2010 and Extracting file into 2010 Directory.\n",
      "Creating Folder 2015 and Extracting file into 2015 Directory.\n",
      "Creating Folder 2020 and Extracting file into 2020 Directory.\n"
     ]
    }
   ],
   "source": [
    "# executing year loop for 1975 to 2020\n",
    "for year in range(1975,2021,5):\n",
    "    directory = f'{year}'\n",
    "    print(f'Creating Folder {directory}',end=' and ')\n",
    "    if not os.path.exists(directory):\n",
    "        os.makedirs(directory)\n",
    "    \n",
    "    filename = f'FARS{year}NationalCSV.zip'\n",
    "    print(f'Extracting file into {directory} Directory.')\n",
    "    with zipfile.ZipFile(filename,\"r\") as zip_ref:\n",
    "        zip_ref.extractall(directory)"
   ]
  },
  {
   "cell_type": "markdown",
   "id": "287a0e50-4bcb-43ca-a709-8d7ad3977346",
   "metadata": {},
   "source": [
    "**Task 3 -> Step 3: move all the accident.csv file from years to folder accident_all_years**"
   ]
  },
  {
   "cell_type": "code",
   "execution_count": 302,
   "id": "c6a2e64f-8951-438c-b958-d25ecdea912a",
   "metadata": {},
   "outputs": [
    {
     "name": "stdout",
     "output_type": "stream",
     "text": [
      "Creating Folder accident_all_years.\n"
     ]
    }
   ],
   "source": [
    "#creating a directory name accident_all_years\n",
    "directory = 'accident_all_years'\n",
    "print(f'Creating Folder {directory}.')\n",
    "if not os.path.exists(directory):\n",
    "    os.makedirs(directory)"
   ]
  },
  {
   "cell_type": "code",
   "execution_count": 303,
   "id": "54ce78e6-f4ea-4f12-bdd7-068c7bc0aba5",
   "metadata": {},
   "outputs": [
    {
     "name": "stdout",
     "output_type": "stream",
     "text": [
      "2015/ACCIDENT.CSV file not found!\n",
      "2020/ACCIDENT.CSV file not found!\n",
      "2020/accident.csv file not found!\n"
     ]
    }
   ],
   "source": [
    "#copy each year file to the accident_all_years directory\n",
    "for year in range(1975,2021,5):\n",
    "    for file in ['ACCIDENT.CSV' , 'accident.csv', 'accident.CSV']:\n",
    "        try:\n",
    "            source = f'{year}/{file}'\n",
    "            destination = f'{directory}/{year}_ACCIDENT.CSV'\n",
    "            shutil.copyfile(source, destination)\n",
    "            break\n",
    "        except:\n",
    "            print(f\"{source} file not found!\")"
   ]
  },
  {
   "cell_type": "markdown",
   "id": "b0d0f3cb-9514-426b-a1cd-9bf5615ead80",
   "metadata": {},
   "source": [
    "### **Task 2 : Manipulate and analyze the data from NHTSA**"
   ]
  },
  {
   "cell_type": "markdown",
   "id": "8dcb4c60-dd91-4e61-a39a-8800f67cbb6e",
   "metadata": {},
   "source": [
    "**Task: PART 1 (Descriptive Statistics / Exploratory Data Analysis)"
   ]
  },
  {
   "cell_type": "code",
   "execution_count": 4,
   "id": "b7dc5fb2-3848-4646-93f9-f389581b1cf4",
   "metadata": {},
   "outputs": [],
   "source": [
    "#importing the module\n",
    "import pandas as pd\n",
    "import numpy as np\n",
    "import matplotlib.pyplot as plt"
   ]
  },
  {
   "cell_type": "code",
   "execution_count": 5,
   "id": "0ab248f2-ee75-4bd4-915d-3d2469dd8bf3",
   "metadata": {},
   "outputs": [],
   "source": [
    "directory = 'accident_all_years'"
   ]
  },
  {
   "cell_type": "code",
   "execution_count": 6,
   "id": "4a25eef7-92b0-4a44-904b-f1cd822a608f",
   "metadata": {},
   "outputs": [
    {
     "name": "stdout",
     "output_type": "stream",
     "text": [
      "Overal Number of Fatal Accidents for the entire dataset period from 1975-2020 is 376086 / 376096\n"
     ]
    }
   ],
   "source": [
    "totalAccidents = 0\n",
    "fatalAccidents = 0\n",
    "for year in range(1975,2021,5):\n",
    "    filename = f'{directory}/{year}_ACCIDENT.CSV'\n",
    "    df = pd.read_csv(filename,encoding='latin-1')\n",
    "    totalAccidents += df.shape[0]\n",
    "    fatalAccidents += df.loc[df.FATALS>0,'FATALS'].count()\n",
    "print(f'Overal Number of Fatal Accidents for the entire dataset period from 1975-2020 is {fatalAccidents} / {totalAccidents}')"
   ]
  },
  {
   "cell_type": "code",
   "execution_count": 7,
   "id": "457b1f04-59b2-425d-aac6-e00772a16ae8",
   "metadata": {},
   "outputs": [
    {
     "name": "stdout",
     "output_type": "stream",
     "text": [
      "People Died over that period : 418619\n",
      "Fatal vs Non-fatal           : 418619 / 955696\n"
     ]
    }
   ],
   "source": [
    "peopleInvolved = 0\n",
    "peopleFatality = 0\n",
    "for year in range(1975,2021,5):\n",
    "    filename = f'{directory}/{year}_ACCIDENT.CSV'\n",
    "    df = pd.read_csv(filename,encoding='latin-1')\n",
    "    peopleInvolved += df.loc[:,'PERSONS'].sum()\n",
    "    peopleFatality += df.loc[:,'FATALS'].sum()\n",
    "print(f'People Died over that period : {peopleFatality}')\n",
    "print(f'Fatal vs Non-fatal           : {peopleFatality} / {peopleInvolved}')"
   ]
  },
  {
   "cell_type": "code",
   "execution_count": 8,
   "id": "f47854ef-fcd2-4f7d-a868-eefbd8f85855",
   "metadata": {},
   "outputs": [
    {
     "name": "stdout",
     "output_type": "stream",
     "text": [
      "Overnmight accident between 9pm and 4 am : 35.10 %  real number is 132022 / 376096\n"
     ]
    }
   ],
   "source": [
    "overnightAccident = 0\n",
    "totalAccidents = 0\n",
    "for year in range(1975,2021,5):\n",
    "    filename = f'{directory}/{year}_ACCIDENT.CSV'\n",
    "    df = pd.read_csv(filename,encoding='latin-1')\n",
    "    totalAccidents += df.shape[0]\n",
    "    overnightAccident += df.loc[(((df.HOUR >= 21) | (df.HOUR <= 4)) & (df.HOUR != 99) & (df.HOUR != 88 )),'HOUR'].count()\n",
    "print(f'Overnmight accident between 9pm and 4 am : {overnightAccident*100.0/totalAccidents:0.2f} %  real number is {overnightAccident} / {totalAccidents}')"
   ]
  },
  {
   "cell_type": "code",
   "execution_count": 9,
   "id": "18109faa-75c1-4e58-8e1b-0371ece1f533",
   "metadata": {},
   "outputs": [
    {
     "name": "stdout",
     "output_type": "stream",
     "text": [
      "Accident percenatage at Snowy Weather : 1.63 %\n"
     ]
    }
   ],
   "source": [
    "snowyAccidents = 0\n",
    "totalAccidents = 0\n",
    "for year in range(1975,2021,5):\n",
    "    filename = f'{directory}/{year}_ACCIDENT.CSV'\n",
    "    df = pd.read_csv(filename,encoding='latin-1')\n",
    "    totalAccidents += df.shape[0]\n",
    "    snowyAccidents += df.loc[df.WEATHER == 4,'WEATHER'].count()\n",
    "print(f'Accident percenatage at Snowy Weather : {snowyAccidents*100.0/totalAccidents:0.2f} %')"
   ]
  },
  {
   "cell_type": "code",
   "execution_count": 10,
   "id": "cb0992d0-360b-445a-8b47-e7b17e924ad5",
   "metadata": {},
   "outputs": [
    {
     "data": {
      "image/png": "[encoded data removed]",
      "text/plain": [
       "<Figure size 432x288 with 1 Axes>"
      ]
     },
     "metadata": {
      "needs_background": "light"
     },
     "output_type": "display_data"
    }
   ],
   "source": [
    "years = []\n",
    "fatalities = []\n",
    "for year in range(1975,2021,5):\n",
    "    filename = f'{directory}/{year}_ACCIDENT.CSV'\n",
    "    df = pd.read_csv(filename,encoding='latin-1')\n",
    "    years.append(year)\n",
    "    fatalities.append(df.loc[df.FATALS>0,'FATALS'].count())\n",
    "    \n",
    "x = np.array(years,dtype='int64')\n",
    "y = np.array(fatalities,dtype='int64')\n",
    "plt.plot(x,y,c='g')\n",
    "plt.ylabel('Fatalities Frequency')\n",
    "plt.xlabel('Years')\n",
    "plt.title('Line plot for Total Fatalities by Year')\n",
    "plt.show()"
   ]
  },
  {
   "cell_type": "markdown",
   "id": "4630b0e3-4f15-4a8f-a300-b4eb7fdd1d51",
   "metadata": {},
   "source": [
    "#### From the above line plot, I have observed that number of fatalities in accidents has reduced a lot due to improvement in quick medical treatments, strict law-inforcements,  and better infrastructures of roads and signals."
   ]
  },
  {
   "cell_type": "markdown",
   "id": "e8b2b502-f968-48fa-86ee-81d1941d4bde",
   "metadata": {},
   "source": [
    "### Task: (Descriptive Statistics / Exploratory Data Analysis)"
   ]
  },
  {
   "cell_type": "code",
   "execution_count": 11,
   "id": "b7496ecf-fd33-4fa3-8678-9d752c8500a2",
   "metadata": {},
   "outputs": [
    {
     "name": "stdout",
     "output_type": "stream",
     "text": [
      "Average mean of fatal accidents due to intoxicated Driver : 0.33\n"
     ]
    }
   ],
   "source": [
    "drunkDriverAccidents = 0\n",
    "totalAccidents = 0\n",
    "for year in range(1975,2021,5):\n",
    "    filename = f'{directory}/{year}_ACCIDENT.CSV'\n",
    "    df = pd.read_csv(filename,encoding='latin-1')\n",
    "    totalAccidents += df.shape[0]\n",
    "    drunkDriverAccidents += df.loc[df.DRUNK_DR != 0,'DRUNK_DR'].count()\n",
    "print(f'Average mean of fatal accidents due to intoxicated Driver : {drunkDriverAccidents/totalAccidents:0.2f}')"
   ]
  },
  {
   "cell_type": "code",
   "execution_count": 12,
   "id": "e2d3594c-393a-44d2-bc22-9c2595a2a015",
   "metadata": {},
   "outputs": [],
   "source": [
    "accidents = {}\n",
    "for year in range(1975,1979,5):\n",
    "    filename = f'{directory}/{year}_ACCIDENT.CSV'\n",
    "    df = pd.read_csv(filename,encoding='latin-1')\n",
    "    #print(df.loc[((df.DRUNK_DR != 0) & (df.FATALS > 0)),:].groupby('STATE').agg('count').apply(list))\n",
    "    d = df.loc[((df.DRUNK_DR != 0) & (df.FATALS > 0)),:].groupby('STATE').agg('count').apply(list).to_dict()\n",
    "    for key in d['COUNTY'].keys():\n",
    "        if key not in accidents:\n",
    "            accidents[key] = d['COUNTY'][key]\n",
    "        else:\n",
    "            accidents[key] += d['COUNTY'][key]"
   ]
  },
  {
   "cell_type": "code",
   "execution_count": 13,
   "id": "59d49d6c-e106-4036-9c3f-2f1ac4c79230",
   "metadata": {},
   "outputs": [
    {
     "name": "stdout",
     "output_type": "stream",
     "text": [
      "Top 5 states in 1975, which has highest rate of fatal accidents :\n",
      "6 : 1450\n",
      "26 : 424\n",
      "17 : 387\n",
      "12 : 384\n",
      "47 : 333\n"
     ]
    }
   ],
   "source": [
    "print('Top 5 states in 1975, which has highest rate of fatal accidents :')\n",
    "counter = 0\n",
    "for state, fatalAccidents in sorted(accidents.items(), key=lambda x : x[1],reverse=True):\n",
    "    if counter == 5:\n",
    "        break\n",
    "    counter += 1\n",
    "    print(f'{state} : {fatalAccidents}')"
   ]
  },
  {
   "cell_type": "code",
   "execution_count": 14,
   "id": "3c829df2-3299-4f11-af8c-69d779fea100",
   "metadata": {},
   "outputs": [
    {
     "name": "stdout",
     "output_type": "stream",
     "text": [
      "the Top 5 states in 1975, which has least rate of fatal accidents :\n",
      "35 : 5\n",
      "37 : 5\n",
      "28 : 9\n",
      "18 : 12\n",
      "1 : 14\n"
     ]
    }
   ],
   "source": [
    "print('the Top 5 states in 1975, which has least rate of fatal accidents :')\n",
    "counter = 0\n",
    "for state, fatalAccidents in sorted(accidents.items(), key=lambda x : x[1]):\n",
    "    if counter == 5:\n",
    "        break\n",
    "    counter += 1\n",
    "    print(f'{state} : {fatalAccidents}')"
   ]
  },
  {
   "cell_type": "code",
   "execution_count": 15,
   "id": "67c43675-8c74-4e88-b0ed-9e6bc1512c6b",
   "metadata": {},
   "outputs": [],
   "source": [
    "accidents = {}\n",
    "for year in range(1990,1994,5):\n",
    "    filename = f'{directory}/{year}_ACCIDENT.CSV'\n",
    "    df = pd.read_csv(filename,encoding='latin-1')\n",
    "    #print(df.loc[((df.DRUNK_DR != 0) & (df.FATALS > 0)),:].groupby('STATE').agg('count').apply(list))\n",
    "    d = df.loc[((df.DRUNK_DR != 0) & (df.FATALS > 0)),:].groupby('STATE').agg('count').apply(list).to_dict()\n",
    "    for key in d['COUNTY'].keys():\n",
    "        if key not in accidents:\n",
    "            accidents[key] = d['COUNTY'][key]\n",
    "        else:\n",
    "            accidents[key] += d['COUNTY'][key]"
   ]
  },
  {
   "cell_type": "code",
   "execution_count": 16,
   "id": "4cb59ffc-b90c-4cb6-8150-6778ab745e73",
   "metadata": {},
   "outputs": [
    {
     "name": "stdout",
     "output_type": "stream",
     "text": [
      "Top 5 states in 1990, which has highest rate of fatal accidents :\n",
      "6 : 1975\n",
      "48 : 1265\n",
      "12 : 1068\n",
      "42 : 623\n",
      "26 : 617\n"
     ]
    }
   ],
   "source": [
    "print('Top 5 states in 1990, which has highest rate of fatal accidents :')\n",
    "counter = 0\n",
    "for state, fatalAccidents in sorted(accidents.items(), key=lambda x : x[1],reverse=True):\n",
    "    if counter == 5:\n",
    "        break\n",
    "    counter += 1\n",
    "    print(f'{state} : {fatalAccidents}')"
   ]
  },
  {
   "cell_type": "code",
   "execution_count": 17,
   "id": "5269f0c0-1026-4241-9c69-899b768fd1f2",
   "metadata": {},
   "outputs": [
    {
     "name": "stdout",
     "output_type": "stream",
     "text": [
      "the Top 5 states in 1990, which has least rate of fatal accidents :\n",
      "11 : 20\n",
      "2 : 41\n",
      "44 : 41\n",
      "50 : 44\n",
      "38 : 48\n"
     ]
    }
   ],
   "source": [
    "print('the Top 5 states in 1990, which has least rate of fatal accidents :')\n",
    "counter = 0\n",
    "for state, fatalAccidents in sorted(accidents.items(), key=lambda x : x[1]):\n",
    "    if counter == 5:\n",
    "        break\n",
    "    counter += 1\n",
    "    print(f'{state} : {fatalAccidents}')"
   ]
  },
  {
   "cell_type": "code",
   "execution_count": 18,
   "id": "e564c6fc-c38c-4025-b170-1b8208374b87",
   "metadata": {},
   "outputs": [],
   "source": [
    "accidents = {}\n",
    "for year in range(1975,2020,5):\n",
    "    filename = f'{directory}/{year}_ACCIDENT.CSV'\n",
    "    df = pd.read_csv(filename,encoding='latin-1')\n",
    "    d = df.loc[((df.DRUNK_DR != 0) & (df.FATALS > 0)),:].groupby('STATE').agg('count').apply(list).to_dict()\n",
    "    for key in d['COUNTY'].keys():\n",
    "        if key not in accidents:\n",
    "            accidents[key] = d['COUNTY'][key]\n",
    "        else:\n",
    "            accidents[key] += d['COUNTY'][key]"
   ]
  },
  {
   "cell_type": "code",
   "execution_count": 19,
   "id": "e1201f23-a5c3-4d04-8be9-2c7ee55223ee",
   "metadata": {},
   "outputs": [
    {
     "name": "stdout",
     "output_type": "stream",
     "text": [
      "Mean rate of fatal accidents in 2020 : 2263\n"
     ]
    }
   ],
   "source": [
    "print(f'Mean rate of fatal accidents in 2020 : {sum(accidents.values())/len(accidents.keys()):0.0f}')"
   ]
  },
  {
   "cell_type": "code",
   "execution_count": 20,
   "id": "c746d9ca-6c36-4658-ba70-aaff542fffbf",
   "metadata": {},
   "outputs": [
    {
     "data": {
      "image/png": "[encoded data removed]",
      "text/plain": [
       "<Figure size 432x288 with 1 Axes>"
      ]
     },
     "metadata": {
      "needs_background": "light"
     },
     "output_type": "display_data"
    }
   ],
   "source": [
    "states = []\n",
    "fatalities = []\n",
    "counter = 0\n",
    "for state, fatalAccidents in sorted(accidents.items(), key=lambda x : x[1],reverse=True):\n",
    "    if counter == 5:\n",
    "        break\n",
    "    counter += 1\n",
    "    states.append(state)\n",
    "    fatalities.append(fatalAccidents)   \n",
    "x = np.array(states,dtype='int64')\n",
    "y = np.array(fatalities,dtype='int64')\n",
    "\n",
    "\n",
    "y_pos = np.arange(len(x))\n",
    "\n",
    "plt.title('Most Fatalities in these states in 2020')   \n",
    "# Basic plot\n",
    "plt.bar(y_pos, y)\n",
    " \n",
    "# use the plt.xticks function to custom labels\n",
    "plt.xticks(y_pos, x, color='black', rotation=45, fontweight='bold', fontsize='17', horizontalalignment='right')\n",
    "plt.show()"
   ]
  },
  {
   "cell_type": "code",
   "execution_count": 21,
   "id": "4390226d-a237-4f53-bf6b-47409984d1bb",
   "metadata": {
    "jupyter": {
     "source_hidden": true
    },
    "tags": []
   },
   "outputs": [
    {
     "data": {
      "image/png": "[encoded data removed]",
      "text/plain": [
       "<Figure size 432x288 with 1 Axes>"
      ]
     },
     "metadata": {
      "needs_background": "light"
     },
     "output_type": "display_data"
    }
   ],
   "source": [
    "states = []\n",
    "fatalities = []\n",
    "counter = 0\n",
    "for state, fatalAccidents in sorted(accidents.items(), key=lambda x : x[1]):\n",
    "    if counter == 5:\n",
    "        break\n",
    "    counter += 1\n",
    "    states.append(state)\n",
    "    fatalities.append(fatalAccidents)   \n",
    "x = np.array(states,dtype='int64')\n",
    "y = np.array(fatalities,dtype='int64')\n",
    "\n",
    "\n",
    "y_pos = np.arange(len(x))\n",
    "\n",
    "plt.title('Least Fatalities in these states in 2020')   \n",
    "# Basic plot\n",
    "plt.bar(y_pos, y)\n",
    " \n",
    "# use the plt.xticks function to custom labels\n",
    "plt.xticks(y_pos, x, color='black', rotation=45, fontweight='bold', fontsize='17', horizontalalignment='right')\n",
    "plt.show()"
   ]
  },
  {
   "cell_type": "markdown",
   "id": "8694f7b2-1450-442a-8f4a-8a57228374e6",
   "metadata": {},
   "source": [
    "### The number of fatalities accident has reduced over the time from the number which I observed from 1975 to 2020."
   ]
  },
  {
   "cell_type": "markdown",
   "id": "d81cc7ce-08df-4c8c-95c5-3f3962137026",
   "metadata": {},
   "source": [
    "## Select the subset of data"
   ]
  },
  {
   "cell_type": "code",
   "execution_count": 22,
   "id": "5e2611da-e47e-4768-a197-aeee36b57fb2",
   "metadata": {},
   "outputs": [],
   "source": [
    "dataframes = []\n",
    "for year in range(1975,2020,5):\n",
    "    filename = f'{directory}/{year}_ACCIDENT.CSV'\n",
    "    df = pd.read_csv(filename,encoding='latin-1')\n",
    "    names = df.columns\n",
    "    for column in names:\n",
    "        if column not in ['STATE','MONTH','DAY','YEAR','HOUR','PERSONS','MAN_COLL','LGT_COND','WEATHER','SCH_BUS','FATALS','DAY_WEEK','DRUNK_DR']:\n",
    "            df.drop(column, axis=1, inplace=True)\n",
    "    dataframes.append(df)\n",
    "finalDf = pd.concat(dataframes,axis=0)"
   ]
  },
  {
   "cell_type": "code",
   "execution_count": 23,
   "id": "cc63dba6-2c0c-4931-8f74-2d55ca4aa96a",
   "metadata": {},
   "outputs": [
    {
     "data": {
      "text/plain": [
       "(340330, 13)"
      ]
     },
     "execution_count": 23,
     "metadata": {},
     "output_type": "execute_result"
    }
   ],
   "source": [
    "finalDf.shape"
   ]
  },
  {
   "cell_type": "code",
   "execution_count": 24,
   "id": "18c76620-8ba3-46f0-8b1e-c2697c869d8f",
   "metadata": {},
   "outputs": [],
   "source": [
    "indexes = np.random.randint(finalDf.shape[0],size=5000)"
   ]
  },
  {
   "cell_type": "code",
   "execution_count": 25,
   "id": "92c211fe-4ec9-4c4e-ad59-ee07c3c6d40a",
   "metadata": {},
   "outputs": [
    {
     "name": "stderr",
     "output_type": "stream",
     "text": [
      "/var/folders/c_/13p7yhr12753f7pjj8mfmdzm0000gw/T/ipykernel_51291/2823167956.py:2: SettingWithCopyWarning: \n",
      "A value is trying to be set on a copy of a slice from a DataFrame\n",
      "\n",
      "See the caveats in the documentation: https://pandas.pydata.org/pandas-docs/stable/user_guide/indexing.html#returning-a-view-versus-a-copy\n",
      "  newdf.dropna(axis=0,inplace=True)\n"
     ]
    },
    {
     "data": {
      "text/plain": [
       "(4423, 13)"
      ]
     },
     "execution_count": 25,
     "metadata": {},
     "output_type": "execute_result"
    }
   ],
   "source": [
    "newdf = finalDf.iloc[indexes]\n",
    "newdf.dropna(axis=0,inplace=True)\n",
    "newdf.shape"
   ]
  },
  {
   "cell_type": "code",
   "execution_count": 26,
   "id": "949a4682-2382-478e-afe7-a89dd542c926",
   "metadata": {},
   "outputs": [],
   "source": [
    "newdf.head()\n",
    "subdf = newdf.drop('YEAR', axis=1)"
   ]
  },
  {
   "cell_type": "code",
   "execution_count": 27,
   "id": "6e56ef77-7e16-4f37-a58d-71da5efef2ad",
   "metadata": {},
   "outputs": [],
   "source": [
    "#Scaling the dataset between 0 to 1\n",
    "subdf = (subdf - subdf.min())/(subdf.max() - subdf.min())"
   ]
  },
  {
   "cell_type": "code",
   "execution_count": 28,
   "id": "a827a984-60cb-4e20-ad5f-50a5229d98be",
   "metadata": {},
   "outputs": [
    {
     "data": {
      "text/html": [
       "<div>\n",
       "<style scoped>\n",
       "    .dataframe tbody tr th:only-of-type {\n",
       "        vertical-align: middle;\n",
       "    }\n",
       "\n",
       "    .dataframe tbody tr th {\n",
       "        vertical-align: top;\n",
       "    }\n",
       "\n",
       "    .dataframe thead th {\n",
       "        text-align: right;\n",
       "    }\n",
       "</style>\n",
       "<table border=\"1\" class=\"dataframe\">\n",
       "  <thead>\n",
       "    <tr style=\"text-align: right;\">\n",
       "      <th></th>\n",
       "      <th>STATE</th>\n",
       "      <th>MONTH</th>\n",
       "      <th>DAY</th>\n",
       "      <th>HOUR</th>\n",
       "      <th>PERSONS</th>\n",
       "      <th>MAN_COLL</th>\n",
       "      <th>LGT_COND</th>\n",
       "      <th>WEATHER</th>\n",
       "      <th>SCH_BUS</th>\n",
       "      <th>FATALS</th>\n",
       "      <th>DAY_WEEK</th>\n",
       "      <th>DRUNK_DR</th>\n",
       "    </tr>\n",
       "  </thead>\n",
       "  <tbody>\n",
       "    <tr>\n",
       "      <th>26849</th>\n",
       "      <td>0.836364</td>\n",
       "      <td>1.000000</td>\n",
       "      <td>0.142857</td>\n",
       "      <td>0.202020</td>\n",
       "      <td>0.018868</td>\n",
       "      <td>0.000000</td>\n",
       "      <td>0.25</td>\n",
       "      <td>0.0</td>\n",
       "      <td>0.0</td>\n",
       "      <td>0.0</td>\n",
       "      <td>0.250</td>\n",
       "      <td>0.00</td>\n",
       "    </tr>\n",
       "    <tr>\n",
       "      <th>15112</th>\n",
       "      <td>0.363636</td>\n",
       "      <td>0.818182</td>\n",
       "      <td>0.265306</td>\n",
       "      <td>0.131313</td>\n",
       "      <td>0.113208</td>\n",
       "      <td>0.181818</td>\n",
       "      <td>0.00</td>\n",
       "      <td>0.0</td>\n",
       "      <td>0.0</td>\n",
       "      <td>0.0</td>\n",
       "      <td>0.625</td>\n",
       "      <td>0.00</td>\n",
       "    </tr>\n",
       "    <tr>\n",
       "      <th>29690</th>\n",
       "      <td>0.745455</td>\n",
       "      <td>0.363636</td>\n",
       "      <td>0.244898</td>\n",
       "      <td>0.101010</td>\n",
       "      <td>0.018868</td>\n",
       "      <td>0.000000</td>\n",
       "      <td>0.00</td>\n",
       "      <td>0.0</td>\n",
       "      <td>0.0</td>\n",
       "      <td>0.0</td>\n",
       "      <td>0.375</td>\n",
       "      <td>0.00</td>\n",
       "    </tr>\n",
       "    <tr>\n",
       "      <th>35235</th>\n",
       "      <td>0.854545</td>\n",
       "      <td>0.090909</td>\n",
       "      <td>0.163265</td>\n",
       "      <td>0.050505</td>\n",
       "      <td>0.018868</td>\n",
       "      <td>0.000000</td>\n",
       "      <td>0.25</td>\n",
       "      <td>0.0</td>\n",
       "      <td>0.0</td>\n",
       "      <td>0.0</td>\n",
       "      <td>0.750</td>\n",
       "      <td>0.25</td>\n",
       "    </tr>\n",
       "    <tr>\n",
       "      <th>14005</th>\n",
       "      <td>0.327273</td>\n",
       "      <td>0.727273</td>\n",
       "      <td>0.010204</td>\n",
       "      <td>0.131313</td>\n",
       "      <td>0.056604</td>\n",
       "      <td>0.000000</td>\n",
       "      <td>0.00</td>\n",
       "      <td>0.0</td>\n",
       "      <td>0.0</td>\n",
       "      <td>0.0</td>\n",
       "      <td>0.750</td>\n",
       "      <td>0.00</td>\n",
       "    </tr>\n",
       "  </tbody>\n",
       "</table>\n",
       "</div>"
      ],
      "text/plain": [
       "          STATE     MONTH       DAY      HOUR   PERSONS  MAN_COLL  LGT_COND  \\\n",
       "26849  0.836364  1.000000  0.142857  0.202020  0.018868  0.000000      0.25   \n",
       "15112  0.363636  0.818182  0.265306  0.131313  0.113208  0.181818      0.00   \n",
       "29690  0.745455  0.363636  0.244898  0.101010  0.018868  0.000000      0.00   \n",
       "35235  0.854545  0.090909  0.163265  0.050505  0.018868  0.000000      0.25   \n",
       "14005  0.327273  0.727273  0.010204  0.131313  0.056604  0.000000      0.00   \n",
       "\n",
       "       WEATHER  SCH_BUS  FATALS  DAY_WEEK  DRUNK_DR  \n",
       "26849      0.0      0.0     0.0     0.250      0.00  \n",
       "15112      0.0      0.0     0.0     0.625      0.00  \n",
       "29690      0.0      0.0     0.0     0.375      0.00  \n",
       "35235      0.0      0.0     0.0     0.750      0.25  \n",
       "14005      0.0      0.0     0.0     0.750      0.00  "
      ]
     },
     "execution_count": 28,
     "metadata": {},
     "output_type": "execute_result"
    }
   ],
   "source": [
    "subdf.head()"
   ]
  },
  {
   "cell_type": "code",
   "execution_count": 29,
   "id": "b97cefe4-9e79-4c1a-aa6e-d3d3a6c8b10b",
   "metadata": {},
   "outputs": [
    {
     "data": {
      "text/plain": [
       "(4423, 4423)"
      ]
     },
     "execution_count": 29,
     "metadata": {},
     "output_type": "execute_result"
    }
   ],
   "source": [
    "from scipy.spatial import distance\n",
    "ary = distance.cdist(subdf.iloc[:,:], subdf.iloc[:,:], metric='euclidean')\n",
    "ary.shape"
   ]
  },
  {
   "cell_type": "code",
   "execution_count": 30,
   "id": "269dae08-c656-4cee-81ae-723c752afc10",
   "metadata": {},
   "outputs": [
    {
     "data": {
      "text/html": [
       "<div>\n",
       "<style scoped>\n",
       "    .dataframe tbody tr th:only-of-type {\n",
       "        vertical-align: middle;\n",
       "    }\n",
       "\n",
       "    .dataframe tbody tr th {\n",
       "        vertical-align: top;\n",
       "    }\n",
       "\n",
       "    .dataframe thead th {\n",
       "        text-align: right;\n",
       "    }\n",
       "</style>\n",
       "<table border=\"1\" class=\"dataframe\">\n",
       "  <thead>\n",
       "    <tr style=\"text-align: right;\">\n",
       "      <th></th>\n",
       "      <th>STATE</th>\n",
       "      <th>MONTH</th>\n",
       "      <th>DAY</th>\n",
       "      <th>HOUR</th>\n",
       "      <th>PERSONS</th>\n",
       "      <th>MAN_COLL</th>\n",
       "      <th>LGT_COND</th>\n",
       "      <th>WEATHER</th>\n",
       "      <th>SCH_BUS</th>\n",
       "      <th>FATALS</th>\n",
       "      <th>DAY_WEEK</th>\n",
       "      <th>DRUNK_DR</th>\n",
       "    </tr>\n",
       "  </thead>\n",
       "  <tbody>\n",
       "    <tr>\n",
       "      <th>33383</th>\n",
       "      <td>0.836364</td>\n",
       "      <td>0.636364</td>\n",
       "      <td>0.306122</td>\n",
       "      <td>0.232323</td>\n",
       "      <td>0.207547</td>\n",
       "      <td>0.545455</td>\n",
       "      <td>0.25</td>\n",
       "      <td>0.0</td>\n",
       "      <td>0.0</td>\n",
       "      <td>0.0</td>\n",
       "      <td>0.625</td>\n",
       "      <td>0.25</td>\n",
       "    </tr>\n",
       "    <tr>\n",
       "      <th>12634</th>\n",
       "      <td>0.290909</td>\n",
       "      <td>0.181818</td>\n",
       "      <td>0.010204</td>\n",
       "      <td>0.090909</td>\n",
       "      <td>0.037736</td>\n",
       "      <td>0.000000</td>\n",
       "      <td>0.00</td>\n",
       "      <td>0.0</td>\n",
       "      <td>0.0</td>\n",
       "      <td>0.0</td>\n",
       "      <td>0.625</td>\n",
       "      <td>0.00</td>\n",
       "    </tr>\n",
       "  </tbody>\n",
       "</table>\n",
       "</div>"
      ],
      "text/plain": [
       "          STATE     MONTH       DAY      HOUR   PERSONS  MAN_COLL  LGT_COND  \\\n",
       "33383  0.836364  0.636364  0.306122  0.232323  0.207547  0.545455      0.25   \n",
       "12634  0.290909  0.181818  0.010204  0.090909  0.037736  0.000000      0.00   \n",
       "\n",
       "       WEATHER  SCH_BUS  FATALS  DAY_WEEK  DRUNK_DR  \n",
       "33383      0.0      0.0     0.0     0.625      0.25  \n",
       "12634      0.0      0.0     0.0     0.625      0.00  "
      ]
     },
     "execution_count": 30,
     "metadata": {},
     "output_type": "execute_result"
    }
   ],
   "source": [
    "indexes = np.random.randint(5000,size=2)\n",
    "subdf.iloc[indexes]"
   ]
  },
  {
   "cell_type": "code",
   "execution_count": 40,
   "id": "03748639-421c-447b-bc3d-2c2879481524",
   "metadata": {},
   "outputs": [
    {
     "name": "stdout",
     "output_type": "stream",
     "text": [
      "0,1,2,3,4,5,6,7,8,9,10,11,12,13,14,15,16,17,18,19,\n",
      "\n",
      "0,0,1,1,2,2,3,3,4,4,5,5,6,6,7,7,8,8,9,9,\n",
      "\n"
     ]
    }
   ],
   "source": [
    "minIndex = []\n",
    "for i in indexes :\n",
    "    for j in range(subdf.shape[0]):\n",
    "        if i != j:\n",
    "            distance = ary[i][j]\n",
    "            minIndex.append((distance,j))\n",
    "    counter = 0\n",
    "    for s in sorted(minIndex,key=lambda x : x[1]):\n",
    "        if counter == 20:\n",
    "            break\n",
    "        print(s[1],end=',')\n",
    "        counter +=1\n",
    "    print('\\n')\n",
    "        "
   ]
  },
  {
   "cell_type": "code",
   "execution_count": null,
   "id": "1040c3b7-fea3-425a-8041-ca0ee2b45e8e",
   "metadata": {},
   "outputs": [],
   "source": []
  }
 ],
 "metadata": {
  "kernelspec": {
   "display_name": "Python 3 (ipykernel)",
   "language": "python",
   "name": "python3"
  },
  "language_info": {
   "codemirror_mode": {
    "name": "ipython",
    "version": 3
   },
   "file_extension": ".py",
   "mimetype": "text/x-python",
   "name": "python",
   "nbconvert_exporter": "python",
   "pygments_lexer": "ipython3",
   "version": "3.10.10"
  }
 },
 "nbformat": 4,
 "nbformat_minor": 5
}
