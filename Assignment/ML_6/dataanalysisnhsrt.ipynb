{
 "cells": [
  {
   "cell_type": "code",
   "execution_count": 1,
   "id": "4b5e1192",
   "metadata": {},
   "outputs": [],
   "source": [
    "# importing the \n",
    "import requests\n",
    "import zipfile\n",
    "import os\n",
    "import shutil\n",
    "import pandas as pd\n",
    "import seaborn as sb\n",
    "import matplotlib.pyplot as plt"
   ]
  },
  {
   "cell_type": "code",
   "execution_count": 2,
   "id": "22383d4e-3940-432d-b7c7-3148e56b37ac",
   "metadata": {},
   "outputs": [
    {
     "name": "stdout",
     "output_type": "stream",
     "text": [
      "Start downloading file for year : 1975\n",
      "Download completed for year :1975\n",
      "Start downloading file for year : 1980\n",
      "Download completed for year :1980\n",
      "Start downloading file for year : 1985\n",
      "Download completed for year :1985\n",
      "Start downloading file for year : 1990\n",
      "Download completed for year :1990\n",
      "Start downloading file for year : 1995\n",
      "Download completed for year :1995\n",
      "Start downloading file for year : 2000\n",
      "Download completed for year :2000\n",
      "Start downloading file for year : 2005\n",
      "Download completed for year :2005\n",
      "Start downloading file for year : 2010\n",
      "Download completed for year :2010\n",
      "Start downloading file for year : 2015\n",
      "Download completed for year :2015\n",
      "Start downloading file for year : 2020\n",
      "Download completed for year :2020\n",
      "Start downloading file for year : 1975\n",
      "Download completed for year :1975\n",
      "Start downloading file for year : 1980\n",
      "Download completed for year :1980\n",
      "Start downloading file for year : 1985\n",
      "Download completed for year :1985\n",
      "Start downloading file for year : 1990\n",
      "Download completed for year :1990\n",
      "Start downloading file for year : 1995\n",
      "Download completed for year :1995\n",
      "Start downloading file for year : 2000\n",
      "Download completed for year :2000\n",
      "Start downloading file for year : 2005\n",
      "Download completed for year :2005\n",
      "Start downloading file for year : 2010\n",
      "Download completed for year :2010\n",
      "Start downloading file for year : 2015\n",
      "Download completed for year :2015\n",
      "Start downloading file for year : 2020\n",
      "Download completed for year :2020\n"
     ]
    }
   ],
   "source": [
    "# Step 1 : For downloading file\n",
    "for year in range(1975,2021,5):\n",
    "    \n",
    "    # Making the url and filename with year substituion\n",
    "    url = f\"https://static.nhtsa.gov/nhtsa/downloads/FARS/{year}/National/FARS{year}NationalCSV.zip\"\n",
    "    filename = f\"FARS{year}NationalCSV.zip\"\n",
    "    \n",
    "    print(f'Start downloading file for year : {year}')\n",
    "    \n",
    "    # Calling requests library/module to download the url\n",
    "    r = requests.get(url, allow_redirects=True)\n",
    "    \n",
    "    # opening a file for writing \n",
    "    # 'wb': for writing byte mod\n",
    "    # 'w' : writing file in string mode\n",
    "    with open(filename,'wb') as f:\n",
    "        f.write(r.content)\n",
    "    \n",
    "    print(f'Download completed for year :{year}')\n",
    "for year in range(1975,2021,5):\n",
    "    \n",
    "    # Making the url and filename with year substituion\n",
    "    url = f\"https://static.nhtsa.gov/nhtsa/downloads/FARS/{year}/National/FARS{year}NationalCSV.zip\"\n",
    "    filename = f\"FARS{year}NationalCSV.zip\"\n",
    "    \n",
    "    print(f'Start downloading file for year : {year}')\n",
    "    \n",
    "    # Calling requests library/module to download the url\n",
    "    r = requests.get(url, allow_redirects=True)\n",
    "    \n",
    "    # opening a file for writing \n",
    "    # 'wb': for writing byte mod\n",
    "    # 'w' : writing file in string mode\n",
    "    with open(filename,'wb') as f:\n",
    "        f.write(r.content)\n",
    "    \n",
    "    print(f'Download completed for year :{year}')\n",
    "# Step 2 : To uncompress the files into year directory\n",
    "\n",
    "# Use os module to generate/create directory with year\n",
    "for year in range(1975,2021,5):\n",
    "    directory = f'{year}'\n",
    "    # os module has path submodule\n",
    "    # which has a function exists\n",
    "    # this function checks if path/directory exists : returns true\n",
    "    # else it returns false\n",
    "    if not os.path.exists(directory):\n",
    "        # in os module, mkdir function creates the \n",
    "        # path/directory passed to it\n",
    "        os.mkdir(directory)\n",
    "for year in range(1975,2021,5):\n",
    "    filename = f\"FARS{year}NationalCSV.zip\"\n",
    "    directory = f'{year}'\n",
    "    \n",
    "    # calling a ZipFile function from zipfile module\n",
    "    # to open a zip file\n",
    "    with zipfile.ZipFile(filename, 'r') as z:\n",
    "        \n",
    "        # calling extractall function to extract all zip\n",
    "        # files into argument passed as directory\n",
    "        z.extractall(directory)\n",
    "# Step 3 : copying all accident.csv files into directory accident_all_years\n",
    "newDir = \"accident_all_years\"\n",
    "if not os.path.exists(newDir):\n",
    "    os.mkdir(newDir)\n",
    "for year in range(1975,2021,5):\n",
    "    for file in [ 'ACCIDENT.CSV' ,'accident.csv', 'accident.CSV' ]:\n",
    "        oldPath = f'{year}/{file}'\n",
    "        newPath = f'{newDir}/{year}_accident.csv'\n",
    "        if os.path.exists(oldPath):\n",
    "            shutil.copy(oldPath,newPath)"
   ]
  },
  {
   "cell_type": "markdown",
   "id": "9c41cac0",
   "metadata": {},
   "source": [
    "#Task\n",
    "What is the overall number fatal accidents for the entire dataset period from 1975-\n",
    "2020? (Note: the denomenator is the total number of accidents)"
   ]
  },
  {
   "cell_type": "code",
   "execution_count": 3,
   "id": "fc5b56ae",
   "metadata": {},
   "outputs": [
    {
     "name": "stdout",
     "output_type": "stream",
     "text": [
      "Year \tFatal Accidents\n",
      "----------------------------------------\n",
      "1975\t: 44525\n",
      "1980\t: 51091\n",
      "1985\t: 43825\n",
      "1990\t: 44599\n",
      "1995\t: 41817\n",
      "2000\t: 41945\n",
      "2005\t: 43510\n",
      "2010\t: 32999\n",
      "2015\t: 35484\n"
     ]
    },
    {
     "ename": "UnicodeDecodeError",
     "evalue": "'utf-8' codec can't decode byte 0xd1 in position 17738: invalid continuation byte",
     "output_type": "error",
     "traceback": [
      "\u001b[0;31m---------------------------------------------------------------------------\u001b[0m",
      "\u001b[0;31mUnicodeDecodeError\u001b[0m                        Traceback (most recent call last)",
      "\u001b[0;32m/tmp/ipykernel_109791/4073442314.py\u001b[0m in \u001b[0;36m<module>\u001b[0;34m\u001b[0m\n\u001b[1;32m      3\u001b[0m \u001b[0;32mfor\u001b[0m \u001b[0myear\u001b[0m \u001b[0;32min\u001b[0m \u001b[0mrange\u001b[0m\u001b[0;34m(\u001b[0m\u001b[0;36m1975\u001b[0m\u001b[0;34m,\u001b[0m\u001b[0;36m2021\u001b[0m\u001b[0;34m,\u001b[0m\u001b[0;36m5\u001b[0m\u001b[0;34m)\u001b[0m\u001b[0;34m:\u001b[0m\u001b[0;34m\u001b[0m\u001b[0;34m\u001b[0m\u001b[0m\n\u001b[1;32m      4\u001b[0m     \u001b[0mpath\u001b[0m\u001b[0;34m=\u001b[0m\u001b[0;34mf'accident_all_years/{year}_accident.csv'\u001b[0m\u001b[0;34m\u001b[0m\u001b[0;34m\u001b[0m\u001b[0m\n\u001b[0;32m----> 5\u001b[0;31m     \u001b[0mdf\u001b[0m\u001b[0;34m=\u001b[0m \u001b[0mpd\u001b[0m\u001b[0;34m.\u001b[0m\u001b[0mread_csv\u001b[0m\u001b[0;34m(\u001b[0m\u001b[0mpath\u001b[0m\u001b[0;34m,\u001b[0m\u001b[0musecols\u001b[0m\u001b[0;34m=\u001b[0m\u001b[0;34m[\u001b[0m\u001b[0;34m'FATALS'\u001b[0m\u001b[0;34m]\u001b[0m\u001b[0;34m)\u001b[0m\u001b[0;34m\u001b[0m\u001b[0;34m\u001b[0m\u001b[0m\n\u001b[0m\u001b[1;32m      6\u001b[0m     \u001b[0mprint\u001b[0m\u001b[0;34m(\u001b[0m\u001b[0;34mf'{year}\\t'\u001b[0m \u001b[0;34m+\u001b[0m \u001b[0;34m':'\u001b[0m\u001b[0;34m,\u001b[0m \u001b[0mint\u001b[0m\u001b[0;34m(\u001b[0m\u001b[0mdf\u001b[0m\u001b[0;34m.\u001b[0m\u001b[0msum\u001b[0m\u001b[0;34m(\u001b[0m\u001b[0;34m)\u001b[0m\u001b[0;34m)\u001b[0m\u001b[0;34m)\u001b[0m\u001b[0;34m\u001b[0m\u001b[0;34m\u001b[0m\u001b[0m\n",
      "\u001b[0;32m/usr/lib/python3/dist-packages/pandas/util/_decorators.py\u001b[0m in \u001b[0;36mwrapper\u001b[0;34m(*args, **kwargs)\u001b[0m\n\u001b[1;32m    309\u001b[0m                     \u001b[0mstacklevel\u001b[0m\u001b[0;34m=\u001b[0m\u001b[0mstacklevel\u001b[0m\u001b[0;34m,\u001b[0m\u001b[0;34m\u001b[0m\u001b[0;34m\u001b[0m\u001b[0m\n\u001b[1;32m    310\u001b[0m                 )\n\u001b[0;32m--> 311\u001b[0;31m             \u001b[0;32mreturn\u001b[0m \u001b[0mfunc\u001b[0m\u001b[0;34m(\u001b[0m\u001b[0;34m*\u001b[0m\u001b[0margs\u001b[0m\u001b[0;34m,\u001b[0m \u001b[0;34m**\u001b[0m\u001b[0mkwargs\u001b[0m\u001b[0;34m)\u001b[0m\u001b[0;34m\u001b[0m\u001b[0;34m\u001b[0m\u001b[0m\n\u001b[0m\u001b[1;32m    312\u001b[0m \u001b[0;34m\u001b[0m\u001b[0m\n\u001b[1;32m    313\u001b[0m         \u001b[0;32mreturn\u001b[0m \u001b[0mwrapper\u001b[0m\u001b[0;34m\u001b[0m\u001b[0;34m\u001b[0m\u001b[0m\n",
      "\u001b[0;32m/usr/lib/python3/dist-packages/pandas/io/parsers/readers.py\u001b[0m in \u001b[0;36mread_csv\u001b[0;34m(filepath_or_buffer, sep, delimiter, header, names, index_col, usecols, squeeze, prefix, mangle_dupe_cols, dtype, engine, converters, true_values, false_values, skipinitialspace, skiprows, skipfooter, nrows, na_values, keep_default_na, na_filter, verbose, skip_blank_lines, parse_dates, infer_datetime_format, keep_date_col, date_parser, dayfirst, cache_dates, iterator, chunksize, compression, thousands, decimal, lineterminator, quotechar, quoting, doublequote, escapechar, comment, encoding, encoding_errors, dialect, error_bad_lines, warn_bad_lines, on_bad_lines, delim_whitespace, low_memory, memory_map, float_precision, storage_options)\u001b[0m\n\u001b[1;32m    584\u001b[0m     \u001b[0mkwds\u001b[0m\u001b[0;34m.\u001b[0m\u001b[0mupdate\u001b[0m\u001b[0;34m(\u001b[0m\u001b[0mkwds_defaults\u001b[0m\u001b[0;34m)\u001b[0m\u001b[0;34m\u001b[0m\u001b[0;34m\u001b[0m\u001b[0m\n\u001b[1;32m    585\u001b[0m \u001b[0;34m\u001b[0m\u001b[0m\n\u001b[0;32m--> 586\u001b[0;31m     \u001b[0;32mreturn\u001b[0m \u001b[0m_read\u001b[0m\u001b[0;34m(\u001b[0m\u001b[0mfilepath_or_buffer\u001b[0m\u001b[0;34m,\u001b[0m \u001b[0mkwds\u001b[0m\u001b[0;34m)\u001b[0m\u001b[0;34m\u001b[0m\u001b[0;34m\u001b[0m\u001b[0m\n\u001b[0m\u001b[1;32m    587\u001b[0m \u001b[0;34m\u001b[0m\u001b[0m\n\u001b[1;32m    588\u001b[0m \u001b[0;34m\u001b[0m\u001b[0m\n",
      "\u001b[0;32m/usr/lib/python3/dist-packages/pandas/io/parsers/readers.py\u001b[0m in \u001b[0;36m_read\u001b[0;34m(filepath_or_buffer, kwds)\u001b[0m\n\u001b[1;32m    486\u001b[0m \u001b[0;34m\u001b[0m\u001b[0m\n\u001b[1;32m    487\u001b[0m     \u001b[0;32mwith\u001b[0m \u001b[0mparser\u001b[0m\u001b[0;34m:\u001b[0m\u001b[0;34m\u001b[0m\u001b[0;34m\u001b[0m\u001b[0m\n\u001b[0;32m--> 488\u001b[0;31m         \u001b[0;32mreturn\u001b[0m \u001b[0mparser\u001b[0m\u001b[0;34m.\u001b[0m\u001b[0mread\u001b[0m\u001b[0;34m(\u001b[0m\u001b[0mnrows\u001b[0m\u001b[0;34m)\u001b[0m\u001b[0;34m\u001b[0m\u001b[0;34m\u001b[0m\u001b[0m\n\u001b[0m\u001b[1;32m    489\u001b[0m \u001b[0;34m\u001b[0m\u001b[0m\n\u001b[1;32m    490\u001b[0m \u001b[0;34m\u001b[0m\u001b[0m\n",
      "\u001b[0;32m/usr/lib/python3/dist-packages/pandas/io/parsers/readers.py\u001b[0m in \u001b[0;36mread\u001b[0;34m(self, nrows)\u001b[0m\n\u001b[1;32m   1045\u001b[0m     \u001b[0;32mdef\u001b[0m \u001b[0mread\u001b[0m\u001b[0;34m(\u001b[0m\u001b[0mself\u001b[0m\u001b[0;34m,\u001b[0m \u001b[0mnrows\u001b[0m\u001b[0;34m=\u001b[0m\u001b[0;32mNone\u001b[0m\u001b[0;34m)\u001b[0m\u001b[0;34m:\u001b[0m\u001b[0;34m\u001b[0m\u001b[0;34m\u001b[0m\u001b[0m\n\u001b[1;32m   1046\u001b[0m         \u001b[0mnrows\u001b[0m \u001b[0;34m=\u001b[0m \u001b[0mvalidate_integer\u001b[0m\u001b[0;34m(\u001b[0m\u001b[0;34m\"nrows\"\u001b[0m\u001b[0;34m,\u001b[0m \u001b[0mnrows\u001b[0m\u001b[0;34m)\u001b[0m\u001b[0;34m\u001b[0m\u001b[0;34m\u001b[0m\u001b[0m\n\u001b[0;32m-> 1047\u001b[0;31m         \u001b[0mindex\u001b[0m\u001b[0;34m,\u001b[0m \u001b[0mcolumns\u001b[0m\u001b[0;34m,\u001b[0m \u001b[0mcol_dict\u001b[0m \u001b[0;34m=\u001b[0m \u001b[0mself\u001b[0m\u001b[0;34m.\u001b[0m\u001b[0m_engine\u001b[0m\u001b[0;34m.\u001b[0m\u001b[0mread\u001b[0m\u001b[0;34m(\u001b[0m\u001b[0mnrows\u001b[0m\u001b[0;34m)\u001b[0m\u001b[0;34m\u001b[0m\u001b[0;34m\u001b[0m\u001b[0m\n\u001b[0m\u001b[1;32m   1048\u001b[0m \u001b[0;34m\u001b[0m\u001b[0m\n\u001b[1;32m   1049\u001b[0m         \u001b[0;32mif\u001b[0m \u001b[0mindex\u001b[0m \u001b[0;32mis\u001b[0m \u001b[0;32mNone\u001b[0m\u001b[0;34m:\u001b[0m\u001b[0;34m\u001b[0m\u001b[0;34m\u001b[0m\u001b[0m\n",
      "\u001b[0;32m/usr/lib/python3/dist-packages/pandas/io/parsers/c_parser_wrapper.py\u001b[0m in \u001b[0;36mread\u001b[0;34m(self, nrows)\u001b[0m\n\u001b[1;32m    222\u001b[0m         \u001b[0;32mtry\u001b[0m\u001b[0;34m:\u001b[0m\u001b[0;34m\u001b[0m\u001b[0;34m\u001b[0m\u001b[0m\n\u001b[1;32m    223\u001b[0m             \u001b[0;32mif\u001b[0m \u001b[0mself\u001b[0m\u001b[0;34m.\u001b[0m\u001b[0mlow_memory\u001b[0m\u001b[0;34m:\u001b[0m\u001b[0;34m\u001b[0m\u001b[0;34m\u001b[0m\u001b[0m\n\u001b[0;32m--> 224\u001b[0;31m                 \u001b[0mchunks\u001b[0m \u001b[0;34m=\u001b[0m \u001b[0mself\u001b[0m\u001b[0;34m.\u001b[0m\u001b[0m_reader\u001b[0m\u001b[0;34m.\u001b[0m\u001b[0mread_low_memory\u001b[0m\u001b[0;34m(\u001b[0m\u001b[0mnrows\u001b[0m\u001b[0;34m)\u001b[0m\u001b[0;34m\u001b[0m\u001b[0;34m\u001b[0m\u001b[0m\n\u001b[0m\u001b[1;32m    225\u001b[0m                 \u001b[0;31m# destructive to chunks\u001b[0m\u001b[0;34m\u001b[0m\u001b[0;34m\u001b[0m\u001b[0m\n\u001b[1;32m    226\u001b[0m                 \u001b[0mdata\u001b[0m \u001b[0;34m=\u001b[0m \u001b[0m_concatenate_chunks\u001b[0m\u001b[0;34m(\u001b[0m\u001b[0mchunks\u001b[0m\u001b[0;34m)\u001b[0m\u001b[0;34m\u001b[0m\u001b[0;34m\u001b[0m\u001b[0m\n",
      "\u001b[0;32m/usr/lib/python3/dist-packages/pandas/_libs/parsers.pyx\u001b[0m in \u001b[0;36mpandas._libs.parsers.TextReader.read_low_memory\u001b[0;34m()\u001b[0m\n",
      "\u001b[0;32m/usr/lib/python3/dist-packages/pandas/_libs/parsers.pyx\u001b[0m in \u001b[0;36mpandas._libs.parsers.TextReader._read_rows\u001b[0;34m()\u001b[0m\n",
      "\u001b[0;32m/usr/lib/python3/dist-packages/pandas/_libs/parsers.pyx\u001b[0m in \u001b[0;36mpandas._libs.parsers.TextReader._tokenize_rows\u001b[0;34m()\u001b[0m\n",
      "\u001b[0;32m/usr/lib/python3/dist-packages/pandas/_libs/parsers.pyx\u001b[0m in \u001b[0;36mpandas._libs.parsers.raise_parser_error\u001b[0;34m()\u001b[0m\n",
      "\u001b[0;31mUnicodeDecodeError\u001b[0m: 'utf-8' codec can't decode byte 0xd1 in position 17738: invalid continuation byte"
     ]
    }
   ],
   "source": [
    "print(\"Year \\t\" \"Fatal Accidents\")\n",
    "print('-'*40)\n",
    "for year in range(1975,2021,5):\n",
    "    path=f'accident_all_years/{year}_accident.csv'\n",
    "    df= pd.read_csv(path,usecols=['FATALS'])\n",
    "    print(f'{year}\\t' + ':', int(df.sum()))"
   ]
  },
  {
   "cell_type": "code",
   "execution_count": 5,
   "id": "4c860bef",
   "metadata": {},
   "outputs": [
    {
     "name": "stdout",
     "output_type": "stream",
     "text": [
      "Year \tFatal Accidents\n",
      "----------------------------------------\n",
      "Index(['STATE', 'COUNTY', 'MONTH', 'DAY', 'YEAR', 'HOUR', 'MINUTE', 'VE_FORMS',\n",
      "       'PERSONS', 'VEHICLES', 'LAND_USE', 'CL_TWAY', 'ROAD_FNC', 'TA_1_CL',\n",
      "       'SP_JUR', 'HARM_EV', 'MAN_COLL', 'REL_JUNC', 'REL_ROAD', 'ROAD_FLO',\n",
      "       'NO_LANES', 'SP_LIMIT', 'ALIGNMNT', 'PROFILE', 'PAVE_TYP', 'SUR_COND',\n",
      "       'TRA_CONT', 'LGT_COND', 'WEATHER', 'HIT_RUN', 'C_M_ZONE', 'NOT_HOUR',\n",
      "       'NOT_MIN', 'ARR_HOUR', 'ARR_MIN', 'SCH_BUS', 'CF1', 'CF2', 'CF3',\n",
      "       'FATALS', 'DAY_WEEK', 'DRUNK_DR', 'ST_CASE', 'CITY', 'RAIL'],\n",
      "      dtype='object')\n"
     ]
    }
   ],
   "source": [
    "print(\"Year \\t\" \"Fatal Accidents\")\n",
    "print('-'*40)\n",
    "year = '1975'\n",
    "path=f'accident_all_years/{year}_accident.csv'\n",
    "df= pd.read_csv(path)\n",
    "print(df.columns)"
   ]
  },
  {
   "cell_type": "markdown",
   "id": "e1c0feab",
   "metadata": {},
   "source": [
    "How many people died over that period? How many total people were involved\n",
    "(fatal and non-fatal)?"
   ]
  },
  {
   "cell_type": "code",
   "execution_count": null,
   "id": "eb0f9487",
   "metadata": {},
   "outputs": [],
   "source": [
    "print(\"Year \\t\" \"Total Death\\t\" \"Fatal\\t\" \"Non-Fatal\")\n",
    "print('-'*40)\n",
    "for year in range(1975,2021,5):\n",
    "    path=f'accident_all_years/{year}_accident.csv'\n",
    "    df= pd.read_csv(path,usecols=['PERSONS'])\n",
    "    \n",
    "    print(f'{year}\\t' + ':', int(df.sum()))"
   ]
  },
  {
   "cell_type": "markdown",
   "id": "a4a856f2",
   "metadata": {},
   "source": [
    "3. What proportion of accidents occurred between 9pm and 4am (overnight)?"
   ]
  },
  {
   "cell_type": "code",
   "execution_count": null,
   "id": "11044fa8",
   "metadata": {},
   "outputs": [],
   "source": [
    "print(\"Year \\t\" \"proportion of accidents occurred between 9pm and 4am\\t\" )\n",
    "print('-'*40)\n",
    "for year in range(1975,2021,5):\n",
    "    path=f'accident_all_years/{year}_accident.csv'\n",
    "    #path=f'accident_all_years/1975_accident.csv'\n",
    "    df= pd.read_csv(path,usecols=['FATALS','HOUR'])\n",
    "\n",
    "    df[(df['HOUR']>=21) | (df['HOUR']<=4)]\n",
    "    \n",
    "    result=int(df['FATALS'].sum())\n",
    "    print(f'{year :}\\t',df['FATALS'].sum()/result)\n",
    "  \n",
    "    "
   ]
  },
  {
   "cell_type": "markdown",
   "id": "908f2dd2",
   "metadata": {},
   "source": [
    "What proportion of accidents occurred when the weather was snowy?"
   ]
  },
  {
   "cell_type": "code",
   "execution_count": null,
   "id": "f81dacaa",
   "metadata": {},
   "outputs": [],
   "source": [
    "print(\"Year \\t\" \"proportion of accidents occurred when the weather was snowy\")\n",
    "print('-'*40)\n",
    "for year in range(1975,2021,5):\n",
    "    path=f'accident_all_years/{year}_accident.csv'\n",
    "    #path=f'accident_all_years/1975_accident.csv'\n",
    "    df= pd.read_csv(path,usecols=['WEATHER'])\n",
    "    R1=df[(df['WEATHER']==4)]\n",
    "    print(f'{year :}\\t',int(R1.sum()))"
   ]
  },
  {
   "cell_type": "markdown",
   "id": "3f329d79",
   "metadata": {},
   "source": [
    "Build a line graph that shows the total fatalities by year (using the dataset with just\n",
    "every 5 years of data).\n"
   ]
  },
  {
   "cell_type": "code",
   "execution_count": null,
   "id": "d4ff6657",
   "metadata": {},
   "outputs": [],
   "source": [
    "\n",
    "import pandas as pd\n",
    "import seaborn as sb\n",
    "from matplotlib import pyplot as plt\n",
    "\n",
    "for year in range(1975,2021,5):\n",
    "    path=f'accident_all_years/{year}_accident.csv'\n",
    "    df= pd.read_csv(path,usecols=['FATALS'])\n",
    "    print(f'{year}\\t' + ':', int(df.sum()))\n",
    "    \n",
    "    sb.lineplot(x={year}, y=df[df['FATALS']], data=df)\n",
    "    plt.show()\n",
    "    "
   ]
  },
  {
   "cell_type": "markdown",
   "id": "9e67fd71",
   "metadata": {},
   "source": [
    "From 1975-2020, what was the average (mean) rate of fatal accidents which\n",
    "involved an intoxicated driver? This would be over all states.\n"
   ]
  },
  {
   "cell_type": "code",
   "execution_count": null,
   "id": "724b505f",
   "metadata": {},
   "outputs": [],
   "source": [
    "print(\"Year \\t\" \"Fatal Accidents\")\n",
    "print('-'*40)\n",
    "for year in range(1975,2021,5):\n",
    "    path=f'accident_all_years/{year}_accident.csv'\n",
    "    df= pd.read_csv(path,usecols=['FATALS'])\n",
    "    print(f'{year}\\t' + ':', int(df.sum())/len(df[(df['FATALS']==4)]))"
   ]
  }
 ],
 "metadata": {
  "kernelspec": {
   "display_name": "Python 3 (ipykernel)",
   "language": "python",
   "name": "python3"
  },
  "language_info": {
   "codemirror_mode": {
    "name": "ipython",
    "version": 3
   },
   "file_extension": ".py",
   "mimetype": "text/x-python",
   "name": "python",
   "nbconvert_exporter": "python",
   "pygments_lexer": "ipython3",
   "version": "3.9.12"
  },
  "vscode": {
   "interpreter": {
    "hash": "d069a18e5e29e3a5a244cd733ba0058ced1910e00289fdac20f25765b1f06633"
   }
  }
 },
 "nbformat": 4,
 "nbformat_minor": 5
}
