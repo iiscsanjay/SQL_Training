{
 "cells": [
  {
   "cell_type": "code",
   "execution_count": 27,
   "id": "9532fdd5-16d5-4248-a696-591f145427dc",
   "metadata": {},
   "outputs": [
    {
     "name": "stdout",
     "output_type": "stream",
     "text": [
      "[['annova', 1], ['testing', 4], ['example', 4], ['chi', 2], ['square', 2], ['a/b', 1], ['chebyshev', 1], ['inequility', 1]]\n"
     ]
    }
   ],
   "source": [
    "f = open('sample.txt','r')\n",
    "\n",
    "# Full word list from the files\n",
    "wordList = []\n",
    "\n",
    "for line in f :\n",
    "\n",
    "    # removning the leading and trailing space and newline character\n",
    "    line = line.strip()\n",
    "\n",
    "     # if empty line is there, you will skip that line\n",
    "    if line == '':\n",
    "        continue\n",
    "\n",
    "    # converting string to lower case\n",
    "    line = line.lower()\n",
    "    \n",
    "    # iteating the punctuation list and checking if chracter is there in the line if found, replace it.\n",
    "    for ch in [ '\"',',','.','?','!',';',':','-','(',')','{','}',\"'s\"]:\n",
    "        if ch in line :\n",
    "            line = line.replace(ch,'')\n",
    "    \n",
    "    # spliting the line string into a list of words \n",
    "    words = line.split(' ')\n",
    "\n",
    "    # in the wordList, adding all the elements of words list\n",
    "    wordList.extend(words)\n",
    "    \n",
    "#print(wordList)\n",
    "\n",
    "uniqueWords = []\n",
    "for word in wordList:\n",
    "    if word not in uniqueWords:\n",
    "        uniqueWords.append(word)\n",
    "#print(uniqueWords)\n",
    "\n",
    "uniqueWords = set(wordList)\n",
    "\n",
    "wordsCountList = []\n",
    "for word in uniqueWords:\n",
    "    if word  == '' :\n",
    "        continue\n",
    "    else:\n",
    "        wordsCountList.append([word, wordList.count(word)])\n",
    "    \n",
    "print(wordsCountList)  "
   ]
  },
  {
   "cell_type": "code",
   "execution_count": 2,
   "id": "315d5a5d-8db7-4378-9f86-b3b1d029fd3c",
   "metadata": {},
   "outputs": [
    {
     "name": "stdout",
     "output_type": "stream",
     "text": [
      "Help on method_descriptor:\n",
      "\n",
      "strip(self, chars=None, /)\n",
      "    Return a copy of the string with leading and trailing whitespace removed.\n",
      "    \n",
      "    If chars is given and not None, remove characters in chars instead.\n",
      "\n"
     ]
    }
   ],
   "source": [
    "help(str.strip)"
   ]
  },
  {
   "cell_type": "code",
   "execution_count": 4,
   "id": "c65a828e-b5b4-40bf-8ba4-a9c445922666",
   "metadata": {},
   "outputs": [],
   "source": [
    "str =  '  asa   a sda sd  sa d  sad d \\n'"
   ]
  },
  {
   "cell_type": "code",
   "execution_count": 5,
   "id": "ba41699c-e567-4b07-9e43-4bb65db820c4",
   "metadata": {},
   "outputs": [
    {
     "data": {
      "text/plain": [
       "'asa   a sda sd  sa d  sad d'"
      ]
     },
     "execution_count": 5,
     "metadata": {},
     "output_type": "execute_result"
    }
   ],
   "source": [
    "str.strip()"
   ]
  },
  {
   "cell_type": "code",
   "execution_count": 11,
   "id": "b69afd28-6f3f-459c-b447-1da14a0f5429",
   "metadata": {},
   "outputs": [
    {
     "name": "stdout",
     "output_type": "stream",
     "text": [
      "Help on built-in function lower:\n",
      "\n",
      "lower() method of builtins.str instance\n",
      "    Return a copy of the string converted to lowercase.\n",
      "\n"
     ]
    }
   ],
   "source": [
    "help(str.lower)"
   ]
  },
  {
   "cell_type": "code",
   "execution_count": 12,
   "id": "c63d1e24-4273-4daa-8919-f9d414f5170e",
   "metadata": {},
   "outputs": [
    {
     "name": "stdout",
     "output_type": "stream",
     "text": [
      "Help on built-in function replace:\n",
      "\n",
      "replace(old, new, count=-1, /) method of builtins.str instance\n",
      "    Return a copy with all occurrences of substring old replaced by new.\n",
      "    \n",
      "      count\n",
      "        Maximum number of occurrences to replace.\n",
      "        -1 (the default value) means replace all occurrences.\n",
      "    \n",
      "    If the optional argument count is given, only the first count occurrences are\n",
      "    replaced.\n",
      "\n"
     ]
    }
   ],
   "source": [
    "help(str.replace)"
   ]
  },
  {
   "cell_type": "code",
   "execution_count": 13,
   "id": "e730ae01-a856-4865-834c-9d43987b3708",
   "metadata": {},
   "outputs": [
    {
     "name": "stdout",
     "output_type": "stream",
     "text": [
      "Help on built-in function split:\n",
      "\n",
      "split(sep=None, maxsplit=-1) method of builtins.str instance\n",
      "    Return a list of the substrings in the string, using sep as the separator string.\n",
      "    \n",
      "      sep\n",
      "        The separator used to split the string.\n",
      "    \n",
      "        When set to None (the default value), will split on any whitespace\n",
      "        character (including \\\\n \\\\r \\\\t \\\\f and spaces) and will discard\n",
      "        empty strings from the result.\n",
      "      maxsplit\n",
      "        Maximum number of splits (starting from the left).\n",
      "        -1 (the default value) means no limit.\n",
      "    \n",
      "    Note, str.split() is mainly useful for data that has been intentionally\n",
      "    delimited.  With natural text that includes punctuation, consider using\n",
      "    the regular expression module.\n",
      "\n"
     ]
    }
   ],
   "source": [
    "help(str.split)"
   ]
  },
  {
   "cell_type": "code",
   "execution_count": null,
   "id": "693fabf1-e376-496d-9c1c-c81dcf66e6cf",
   "metadata": {},
   "outputs": [],
   "source": [
    "sep = \"|' space 'newline character, tab space'"
   ]
  },
  {
   "cell_type": "code",
   "execution_count": null,
   "id": "c0d50227-5615-42cc-a3fa-17802185ec31",
   "metadata": {},
   "outputs": [],
   "source": [
    "str =  '  asa   a sda sd  sa d  sad d \\n'"
   ]
  },
  {
   "cell_type": "code",
   "execution_count": 15,
   "id": "e09d9f3e-9553-4a31-8f54-f8dc980a10c8",
   "metadata": {},
   "outputs": [
    {
     "name": "stdout",
     "output_type": "stream",
     "text": [
      "['asa', '', '', 'a', 'sda', 'sd', '', 'sa', 'd', '', 'sad', 'd']\n"
     ]
    }
   ],
   "source": [
    "str = str.strip()\n",
    "print(str.split(' '))"
   ]
  }
 ],
 "metadata": {
  "kernelspec": {
   "display_name": "Python 3 (ipykernel)",
   "language": "python",
   "name": "python3"
  },
  "language_info": {
   "codemirror_mode": {
    "name": "ipython",
    "version": 3
   },
   "file_extension": ".py",
   "mimetype": "text/x-python",
   "name": "python",
   "nbconvert_exporter": "python",
   "pygments_lexer": "ipython3",
   "version": "3.10.12"
  }
 },
 "nbformat": 4,
 "nbformat_minor": 5
}
