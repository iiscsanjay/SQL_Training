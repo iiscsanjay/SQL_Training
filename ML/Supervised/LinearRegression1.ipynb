{
 "cells": [
  {
   "cell_type": "code",
   "execution_count": 1,
   "id": "a79c2cd1-8e27-4bc8-838f-7be745d4cd31",
   "metadata": {},
   "outputs": [],
   "source": [
    "import warnings\n",
    "warnings.filterwarnings(\"ignore\")"
   ]
  },
  {
   "cell_type": "code",
   "execution_count": 2,
   "id": "be2dc81a-2db6-4a09-8d2d-69ffa127ba27",
   "metadata": {},
   "outputs": [],
   "source": [
    "import numpy as np\n",
    "import pandas as pd\n",
    "import matplotlib.pyplot as plt\n",
    "import seaborn as sns\n",
    "import kaggle\n",
    "\n",
    "from IPython.display import display, HTML\n",
    "\n",
    "from sklearn.linear_model import LinearRegression\n",
    "\n",
    "from sklearn.metrics import mean_squared_error\n",
    "from sklearn.metrics import mean_absolute_error\n",
    "from sklearn.metrics import r2_score\n",
    "\n",
    "# Never regression Metric\n",
    "from sklearn.metrics import explained_variance_score\n",
    "from sklearn.metrics import mean_pinball_loss\n",
    "from sklearn.metrics import d2_pinball_score \n",
    "from sklearn.metrics import d2_absolute_error_score\n",
    "\n",
    "from sklearn.model_selection import train_test_split"
   ]
  },
  {
   "cell_type": "markdown",
   "id": "0f963e35-6a70-45d5-a457-c727b7d529ca",
   "metadata": {},
   "source": [
    "#### Measuring Metric for Regression\n",
    "https://scikit-learn.org/stable/modules/model_evaluation.html"
   ]
  },
  {
   "cell_type": "code",
   "execution_count": 3,
   "id": "40ff28d3-cb4f-4dce-a8ed-e7e4d0c120b4",
   "metadata": {},
   "outputs": [],
   "source": [
    "#help(kaggle.api.dataset_download_files)"
   ]
  },
  {
   "cell_type": "code",
   "execution_count": 4,
   "id": "2ba13d17-0a3f-407f-8406-9a0a07b7cd2f",
   "metadata": {},
   "outputs": [],
   "source": [
    "# Modify this path according to your system path : Where you kept ur python notebook file\n",
    "# MySelf\n",
    "data = \"/Users/sanjayk/Dropbox/Work/Careerera/Final/ML/data/\"\n",
    "#kaggle.api.dataset_download_files(\"jemishdonda/headbrain\", unzip=True,path=data)  "
   ]
  },
  {
   "cell_type": "code",
   "execution_count": null,
   "id": "3388c184-c63e-4fa0-b539-b827dac80f50",
   "metadata": {},
   "outputs": [],
   "source": [
    "#downloading the headbrain.csv file\n",
    "kaggle.api.authenticate()\n",
    "kaggle.api.dataset_download_files(\"saarthaksangam/headbrain\", unzip=True)   "
   ]
  },
  {
   "cell_type": "markdown",
   "id": "6c49adb5-79cf-42ee-b5e4-ac6fb71440b5",
   "metadata": {},
   "source": [
    "1. Read the dataset from csv/mysql\n",
    "2. Display the Size of the dataset\n",
    "3. Check for Null/Value\n",
    "4. Put mean with Missing value\n",
    "5. Check again if any miss value of there\n",
    "6. if any categorical/nomial variable, we need label encoder\n",
    "7. Divide the dataset into x_train,y_train,x_test,y_test (training/testing : 80:20,75:25,60:40)\n",
    "7. Classification / Regression :"
   ]
  },
  {
   "cell_type": "code",
   "execution_count": 5,
   "id": "31a3904c-3054-4e27-88dd-5deac07b4b8d",
   "metadata": {},
   "outputs": [
    {
     "data": {
      "text/html": [
       "<table border=\"1\" class=\"dataframe\">\n",
       "  <thead>\n",
       "    <tr style=\"text-align: right;\">\n",
       "      <th></th>\n",
       "      <th>Gender</th>\n",
       "      <th>Age Range</th>\n",
       "      <th>Head Size(cm^3)</th>\n",
       "      <th>Brain Weight(grams)</th>\n",
       "    </tr>\n",
       "  </thead>\n",
       "  <tbody>\n",
       "    <tr>\n",
       "      <th>0</th>\n",
       "      <td>1</td>\n",
       "      <td>1</td>\n",
       "      <td>4512</td>\n",
       "      <td>1530</td>\n",
       "    </tr>\n",
       "    <tr>\n",
       "      <th>1</th>\n",
       "      <td>1</td>\n",
       "      <td>1</td>\n",
       "      <td>3738</td>\n",
       "      <td>1297</td>\n",
       "    </tr>\n",
       "    <tr>\n",
       "      <th>2</th>\n",
       "      <td>1</td>\n",
       "      <td>1</td>\n",
       "      <td>4261</td>\n",
       "      <td>1335</td>\n",
       "    </tr>\n",
       "    <tr>\n",
       "      <th>3</th>\n",
       "      <td>1</td>\n",
       "      <td>1</td>\n",
       "      <td>3777</td>\n",
       "      <td>1282</td>\n",
       "    </tr>\n",
       "    <tr>\n",
       "      <th>4</th>\n",
       "      <td>1</td>\n",
       "      <td>1</td>\n",
       "      <td>4177</td>\n",
       "      <td>1590</td>\n",
       "    </tr>\n",
       "    <tr>\n",
       "      <th>5</th>\n",
       "      <td>1</td>\n",
       "      <td>1</td>\n",
       "      <td>3585</td>\n",
       "      <td>1300</td>\n",
       "    </tr>\n",
       "    <tr>\n",
       "      <th>6</th>\n",
       "      <td>1</td>\n",
       "      <td>1</td>\n",
       "      <td>3785</td>\n",
       "      <td>1400</td>\n",
       "    </tr>\n",
       "    <tr>\n",
       "      <th>7</th>\n",
       "      <td>1</td>\n",
       "      <td>1</td>\n",
       "      <td>3559</td>\n",
       "      <td>1255</td>\n",
       "    </tr>\n",
       "    <tr>\n",
       "      <th>8</th>\n",
       "      <td>1</td>\n",
       "      <td>1</td>\n",
       "      <td>3613</td>\n",
       "      <td>1355</td>\n",
       "    </tr>\n",
       "    <tr>\n",
       "      <th>9</th>\n",
       "      <td>1</td>\n",
       "      <td>1</td>\n",
       "      <td>3982</td>\n",
       "      <td>1375</td>\n",
       "    </tr>\n",
       "  </tbody>\n",
       "</table>"
      ],
      "text/plain": [
       "<IPython.core.display.HTML object>"
      ]
     },
     "metadata": {},
     "output_type": "display_data"
    }
   ],
   "source": [
    "df = pd.read_csv(data + 'headbrain.csv')\n",
    "display(HTML(df.head(10).to_html()))"
   ]
  },
  {
   "cell_type": "code",
   "execution_count": 6,
   "id": "7c13fa67-6d61-4c08-97bf-f209ed6b08eb",
   "metadata": {},
   "outputs": [
    {
     "data": {
      "text/html": [
       "<div>\n",
       "<style scoped>\n",
       "    .dataframe tbody tr th:only-of-type {\n",
       "        vertical-align: middle;\n",
       "    }\n",
       "\n",
       "    .dataframe tbody tr th {\n",
       "        vertical-align: top;\n",
       "    }\n",
       "\n",
       "    .dataframe thead th {\n",
       "        text-align: right;\n",
       "    }\n",
       "</style>\n",
       "<table border=\"1\" class=\"dataframe\">\n",
       "  <thead>\n",
       "    <tr style=\"text-align: right;\">\n",
       "      <th></th>\n",
       "      <th>Gender</th>\n",
       "      <th>Age Range</th>\n",
       "      <th>Head Size(cm^3)</th>\n",
       "      <th>Brain Weight(grams)</th>\n",
       "    </tr>\n",
       "  </thead>\n",
       "  <tbody>\n",
       "    <tr>\n",
       "      <th>Gender</th>\n",
       "      <td>1.000000</td>\n",
       "      <td>-0.088652</td>\n",
       "      <td>-0.514050</td>\n",
       "      <td>-0.465266</td>\n",
       "    </tr>\n",
       "    <tr>\n",
       "      <th>Age Range</th>\n",
       "      <td>-0.088652</td>\n",
       "      <td>1.000000</td>\n",
       "      <td>-0.105428</td>\n",
       "      <td>-0.169438</td>\n",
       "    </tr>\n",
       "    <tr>\n",
       "      <th>Head Size(cm^3)</th>\n",
       "      <td>-0.514050</td>\n",
       "      <td>-0.105428</td>\n",
       "      <td>1.000000</td>\n",
       "      <td>0.799570</td>\n",
       "    </tr>\n",
       "    <tr>\n",
       "      <th>Brain Weight(grams)</th>\n",
       "      <td>-0.465266</td>\n",
       "      <td>-0.169438</td>\n",
       "      <td>0.799570</td>\n",
       "      <td>1.000000</td>\n",
       "    </tr>\n",
       "  </tbody>\n",
       "</table>\n",
       "</div>"
      ],
      "text/plain": [
       "                       Gender  Age Range  Head Size(cm^3)  Brain Weight(grams)\n",
       "Gender               1.000000  -0.088652        -0.514050            -0.465266\n",
       "Age Range           -0.088652   1.000000        -0.105428            -0.169438\n",
       "Head Size(cm^3)     -0.514050  -0.105428         1.000000             0.799570\n",
       "Brain Weight(grams) -0.465266  -0.169438         0.799570             1.000000"
      ]
     },
     "execution_count": 6,
     "metadata": {},
     "output_type": "execute_result"
    }
   ],
   "source": [
    "# default : pearson Correlation metric amoung all features/ columns\n",
    "df.corr()"
   ]
  },
  {
   "cell_type": "code",
   "execution_count": 7,
   "id": "1213a1a9-7a44-4381-ba03-59cb0d9a78ea",
   "metadata": {},
   "outputs": [
    {
     "name": "stdout",
     "output_type": "stream",
     "text": [
      "Size of the dataset : 237\n"
     ]
    }
   ],
   "source": [
    "print(f'Size of the dataset : {df.shape[0]}')"
   ]
  },
  {
   "cell_type": "code",
   "execution_count": 8,
   "id": "7174465c-907f-436b-8087-dcb39781fce6",
   "metadata": {},
   "outputs": [],
   "source": [
    "#help(pd.DataFrame.corr)"
   ]
  },
  {
   "cell_type": "code",
   "execution_count": 9,
   "id": "8b84dfd2-111b-4c39-bc6a-491ab1b5fa00",
   "metadata": {},
   "outputs": [],
   "source": [
    "X = df[['Head Size(cm^3)']].values           # X : Independent Variable (1-n : 1 Minimum)\n",
    "y = df[['Brain Weight(grams)']].values       # y = Dependent Variable        "
   ]
  },
  {
   "cell_type": "code",
   "execution_count": 10,
   "id": "7c58f4cc-0e51-4696-84d8-fb28a6bdcb42",
   "metadata": {},
   "outputs": [
    {
     "data": {
      "text/plain": [
       "Text(0, 0.5, 'Brain Weight')"
      ]
     },
     "execution_count": 10,
     "metadata": {},
     "output_type": "execute_result"
    },
    {
     "data": {
      "image/png": "[encoded data removed]",
      "text/plain": [
       "<Figure size 640x480 with 1 Axes>"
      ]
     },
     "metadata": {},
     "output_type": "display_data"
    }
   ],
   "source": [
    "plt.scatter(X,y,color='#52b920')\n",
    "plt.xlabel('Head Size')\n",
    "plt.ylabel('Brain Weight')"
   ]
  },
  {
   "cell_type": "code",
   "execution_count": 11,
   "id": "ecce3e9d-3dbb-4f72-abe2-6b65de6978c1",
   "metadata": {},
   "outputs": [],
   "source": [
    "#help(train_test_split)"
   ]
  },
  {
   "cell_type": "code",
   "execution_count": 12,
   "id": "31a20ef3-113f-4a2f-a338-a8d24e49787c",
   "metadata": {},
   "outputs": [],
   "source": [
    "### Divide the data X, y into xTrain, yTrain, xTest, yTest\n",
    "xTrain, xTest, yTrain, yTest = train_test_split(X,y,train_size=0.80, test_size=0.20)"
   ]
  },
  {
   "cell_type": "code",
   "execution_count": 13,
   "id": "eb7b85af-205f-406b-8bdb-e5d09025604e",
   "metadata": {},
   "outputs": [
    {
     "data": {
      "text/html": [
       "<style>#sk-container-id-1 {color: black;}#sk-container-id-1 pre{padding: 0;}#sk-container-id-1 div.sk-toggleable {background-color: white;}#sk-container-id-1 label.sk-toggleable__label {cursor: pointer;display: block;width: 100%;margin-bottom: 0;padding: 0.3em;box-sizing: border-box;text-align: center;}#sk-container-id-1 label.sk-toggleable__label-arrow:before {content: \"▸\";float: left;margin-right: 0.25em;color: #696969;}#sk-container-id-1 label.sk-toggleable__label-arrow:hover:before {color: black;}#sk-container-id-1 div.sk-estimator:hover label.sk-toggleable__label-arrow:before {color: black;}#sk-container-id-1 div.sk-toggleable__content {max-height: 0;max-width: 0;overflow: hidden;text-align: left;background-color: #f0f8ff;}#sk-container-id-1 div.sk-toggleable__content pre {margin: 0.2em;color: black;border-radius: 0.25em;background-color: #f0f8ff;}#sk-container-id-1 input.sk-toggleable__control:checked~div.sk-toggleable__content {max-height: 200px;max-width: 100%;overflow: auto;}#sk-container-id-1 input.sk-toggleable__control:checked~label.sk-toggleable__label-arrow:before {content: \"▾\";}#sk-container-id-1 div.sk-estimator input.sk-toggleable__control:checked~label.sk-toggleable__label {background-color: #d4ebff;}#sk-container-id-1 div.sk-label input.sk-toggleable__control:checked~label.sk-toggleable__label {background-color: #d4ebff;}#sk-container-id-1 input.sk-hidden--visually {border: 0;clip: rect(1px 1px 1px 1px);clip: rect(1px, 1px, 1px, 1px);height: 1px;margin: -1px;overflow: hidden;padding: 0;position: absolute;width: 1px;}#sk-container-id-1 div.sk-estimator {font-family: monospace;background-color: #f0f8ff;border: 1px dotted black;border-radius: 0.25em;box-sizing: border-box;margin-bottom: 0.5em;}#sk-container-id-1 div.sk-estimator:hover {background-color: #d4ebff;}#sk-container-id-1 div.sk-parallel-item::after {content: \"\";width: 100%;border-bottom: 1px solid gray;flex-grow: 1;}#sk-container-id-1 div.sk-label:hover label.sk-toggleable__label {background-color: #d4ebff;}#sk-container-id-1 div.sk-serial::before {content: \"\";position: absolute;border-left: 1px solid gray;box-sizing: border-box;top: 0;bottom: 0;left: 50%;z-index: 0;}#sk-container-id-1 div.sk-serial {display: flex;flex-direction: column;align-items: center;background-color: white;padding-right: 0.2em;padding-left: 0.2em;position: relative;}#sk-container-id-1 div.sk-item {position: relative;z-index: 1;}#sk-container-id-1 div.sk-parallel {display: flex;align-items: stretch;justify-content: center;background-color: white;position: relative;}#sk-container-id-1 div.sk-item::before, #sk-container-id-1 div.sk-parallel-item::before {content: \"\";position: absolute;border-left: 1px solid gray;box-sizing: border-box;top: 0;bottom: 0;left: 50%;z-index: -1;}#sk-container-id-1 div.sk-parallel-item {display: flex;flex-direction: column;z-index: 1;position: relative;background-color: white;}#sk-container-id-1 div.sk-parallel-item:first-child::after {align-self: flex-end;width: 50%;}#sk-container-id-1 div.sk-parallel-item:last-child::after {align-self: flex-start;width: 50%;}#sk-container-id-1 div.sk-parallel-item:only-child::after {width: 0;}#sk-container-id-1 div.sk-dashed-wrapped {border: 1px dashed gray;margin: 0 0.4em 0.5em 0.4em;box-sizing: border-box;padding-bottom: 0.4em;background-color: white;}#sk-container-id-1 div.sk-label label {font-family: monospace;font-weight: bold;display: inline-block;line-height: 1.2em;}#sk-container-id-1 div.sk-label-container {text-align: center;}#sk-container-id-1 div.sk-container {/* jupyter's `normalize.less` sets `[hidden] { display: none; }` but bootstrap.min.css set `[hidden] { display: none !important; }` so we also need the `!important` here to be able to override the default hidden behavior on the sphinx rendered scikit-learn.org. See: https://github.com/scikit-learn/scikit-learn/issues/21755 */display: inline-block !important;position: relative;}#sk-container-id-1 div.sk-text-repr-fallback {display: none;}</style><div id=\"sk-container-id-1\" class=\"sk-top-container\"><div class=\"sk-text-repr-fallback\"><pre>LinearRegression()</pre><b>In a Jupyter environment, please rerun this cell to show the HTML representation or trust the notebook. <br />On GitHub, the HTML representation is unable to render, please try loading this page with nbviewer.org.</b></div><div class=\"sk-container\" hidden><div class=\"sk-item\"><div class=\"sk-estimator sk-toggleable\"><input class=\"sk-toggleable__control sk-hidden--visually\" id=\"sk-estimator-id-1\" type=\"checkbox\" checked><label for=\"sk-estimator-id-1\" class=\"sk-toggleable__label sk-toggleable__label-arrow\">LinearRegression</label><div class=\"sk-toggleable__content\"><pre>LinearRegression()</pre></div></div></div></div></div>"
      ],
      "text/plain": [
       "LinearRegression()"
      ]
     },
     "execution_count": 13,
     "metadata": {},
     "output_type": "execute_result"
    }
   ],
   "source": [
    "# creating an object of LinearRegression Class\n",
    "model = LinearRegression()\n",
    "\n",
    "# training of the model(fit) : computes m1,c  : y = m1x +c\n",
    "model.fit(xTrain, yTrain)"
   ]
  },
  {
   "cell_type": "code",
   "execution_count": 14,
   "id": "80099002-6e1e-4cb2-a492-c7da65f9d33c",
   "metadata": {},
   "outputs": [
    {
     "data": {
      "text/html": [
       "<style>#sk-container-id-2 {color: black;}#sk-container-id-2 pre{padding: 0;}#sk-container-id-2 div.sk-toggleable {background-color: white;}#sk-container-id-2 label.sk-toggleable__label {cursor: pointer;display: block;width: 100%;margin-bottom: 0;padding: 0.3em;box-sizing: border-box;text-align: center;}#sk-container-id-2 label.sk-toggleable__label-arrow:before {content: \"▸\";float: left;margin-right: 0.25em;color: #696969;}#sk-container-id-2 label.sk-toggleable__label-arrow:hover:before {color: black;}#sk-container-id-2 div.sk-estimator:hover label.sk-toggleable__label-arrow:before {color: black;}#sk-container-id-2 div.sk-toggleable__content {max-height: 0;max-width: 0;overflow: hidden;text-align: left;background-color: #f0f8ff;}#sk-container-id-2 div.sk-toggleable__content pre {margin: 0.2em;color: black;border-radius: 0.25em;background-color: #f0f8ff;}#sk-container-id-2 input.sk-toggleable__control:checked~div.sk-toggleable__content {max-height: 200px;max-width: 100%;overflow: auto;}#sk-container-id-2 input.sk-toggleable__control:checked~label.sk-toggleable__label-arrow:before {content: \"▾\";}#sk-container-id-2 div.sk-estimator input.sk-toggleable__control:checked~label.sk-toggleable__label {background-color: #d4ebff;}#sk-container-id-2 div.sk-label input.sk-toggleable__control:checked~label.sk-toggleable__label {background-color: #d4ebff;}#sk-container-id-2 input.sk-hidden--visually {border: 0;clip: rect(1px 1px 1px 1px);clip: rect(1px, 1px, 1px, 1px);height: 1px;margin: -1px;overflow: hidden;padding: 0;position: absolute;width: 1px;}#sk-container-id-2 div.sk-estimator {font-family: monospace;background-color: #f0f8ff;border: 1px dotted black;border-radius: 0.25em;box-sizing: border-box;margin-bottom: 0.5em;}#sk-container-id-2 div.sk-estimator:hover {background-color: #d4ebff;}#sk-container-id-2 div.sk-parallel-item::after {content: \"\";width: 100%;border-bottom: 1px solid gray;flex-grow: 1;}#sk-container-id-2 div.sk-label:hover label.sk-toggleable__label {background-color: #d4ebff;}#sk-container-id-2 div.sk-serial::before {content: \"\";position: absolute;border-left: 1px solid gray;box-sizing: border-box;top: 0;bottom: 0;left: 50%;z-index: 0;}#sk-container-id-2 div.sk-serial {display: flex;flex-direction: column;align-items: center;background-color: white;padding-right: 0.2em;padding-left: 0.2em;position: relative;}#sk-container-id-2 div.sk-item {position: relative;z-index: 1;}#sk-container-id-2 div.sk-parallel {display: flex;align-items: stretch;justify-content: center;background-color: white;position: relative;}#sk-container-id-2 div.sk-item::before, #sk-container-id-2 div.sk-parallel-item::before {content: \"\";position: absolute;border-left: 1px solid gray;box-sizing: border-box;top: 0;bottom: 0;left: 50%;z-index: -1;}#sk-container-id-2 div.sk-parallel-item {display: flex;flex-direction: column;z-index: 1;position: relative;background-color: white;}#sk-container-id-2 div.sk-parallel-item:first-child::after {align-self: flex-end;width: 50%;}#sk-container-id-2 div.sk-parallel-item:last-child::after {align-self: flex-start;width: 50%;}#sk-container-id-2 div.sk-parallel-item:only-child::after {width: 0;}#sk-container-id-2 div.sk-dashed-wrapped {border: 1px dashed gray;margin: 0 0.4em 0.5em 0.4em;box-sizing: border-box;padding-bottom: 0.4em;background-color: white;}#sk-container-id-2 div.sk-label label {font-family: monospace;font-weight: bold;display: inline-block;line-height: 1.2em;}#sk-container-id-2 div.sk-label-container {text-align: center;}#sk-container-id-2 div.sk-container {/* jupyter's `normalize.less` sets `[hidden] { display: none; }` but bootstrap.min.css set `[hidden] { display: none !important; }` so we also need the `!important` here to be able to override the default hidden behavior on the sphinx rendered scikit-learn.org. See: https://github.com/scikit-learn/scikit-learn/issues/21755 */display: inline-block !important;position: relative;}#sk-container-id-2 div.sk-text-repr-fallback {display: none;}</style><div id=\"sk-container-id-2\" class=\"sk-top-container\"><div class=\"sk-text-repr-fallback\"><pre>LinearRegression()</pre><b>In a Jupyter environment, please rerun this cell to show the HTML representation or trust the notebook. <br />On GitHub, the HTML representation is unable to render, please try loading this page with nbviewer.org.</b></div><div class=\"sk-container\" hidden><div class=\"sk-item\"><div class=\"sk-estimator sk-toggleable\"><input class=\"sk-toggleable__control sk-hidden--visually\" id=\"sk-estimator-id-2\" type=\"checkbox\" checked><label for=\"sk-estimator-id-2\" class=\"sk-toggleable__label sk-toggleable__label-arrow\">LinearRegression</label><div class=\"sk-toggleable__content\"><pre>LinearRegression()</pre></div></div></div></div></div>"
      ],
      "text/plain": [
       "LinearRegression()"
      ]
     },
     "execution_count": 14,
     "metadata": {},
     "output_type": "execute_result"
    }
   ],
   "source": [
    "model"
   ]
  },
  {
   "cell_type": "code",
   "execution_count": 15,
   "id": "5ef3038f-3ce0-4cb6-8a94-1c6dac8f3d39",
   "metadata": {},
   "outputs": [
    {
     "data": {
      "text/plain": [
       "array([[0.24742473]])"
      ]
     },
     "execution_count": 15,
     "metadata": {},
     "output_type": "execute_result"
    }
   ],
   "source": [
    "# slope :\n",
    "model.coef_"
   ]
  },
  {
   "cell_type": "code",
   "execution_count": 16,
   "id": "6e4a4582-1eb2-493c-84ea-32b45e733ec1",
   "metadata": {},
   "outputs": [
    {
     "data": {
      "text/plain": [
       "array([378.82251499])"
      ]
     },
     "execution_count": 16,
     "metadata": {},
     "output_type": "execute_result"
    }
   ],
   "source": [
    "#intercept\n",
    "model.intercept_"
   ]
  },
  {
   "cell_type": "code",
   "execution_count": 17,
   "id": "dfd32914-5c88-4b0f-b99a-e37156cb8e1c",
   "metadata": {},
   "outputs": [
    {
     "data": {
      "text/plain": [
       "1"
      ]
     },
     "execution_count": 17,
     "metadata": {},
     "output_type": "execute_result"
    }
   ],
   "source": [
    "model.n_features_in_"
   ]
  },
  {
   "cell_type": "code",
   "execution_count": 18,
   "id": "f7768790-43ed-409c-8935-a4b3ae79cefc",
   "metadata": {},
   "outputs": [],
   "source": [
    "# Predictiong the xTest samples value\n",
    "yPred = model.predict(xTest)"
   ]
  },
  {
   "cell_type": "code",
   "execution_count": 19,
   "id": "adc4393a-b785-423a-841d-d73e500e06aa",
   "metadata": {},
   "outputs": [
    {
     "name": "stdout",
     "output_type": "stream",
     "text": [
      "Root Mean Square Error : 80.072\n",
      "Mean Square Error      : 6411.579\n",
      "Absolute Square Error  : 65.126\n",
      "R Square               : 0.645\n"
     ]
    }
   ],
   "source": [
    "# Measuring Metric: Regression \n",
    "print(f'Root Mean Square Error : {mean_squared_error(yTest, yPred,squared=False):0.3f}')\n",
    "print(f'Mean Square Error      : {mean_squared_error(yTest, yPred):0.3f}')\n",
    "print(f'Absolute Square Error  : {mean_absolute_error(yTest, yPred):0.3f}')\n",
    "print(f'R Square               : {r2_score(yTest,yPred):0.3f}') "
   ]
  },
  {
   "cell_type": "markdown",
   "id": "6fd2d4c7-6192-4c58-b483-1770982d18dd",
   "metadata": {},
   "source": [
    "- Error =  Summation  (abs(YPred - YTest)) => Mean Absolute Error\n",
    "- Error =  Summation  ((YPred - YTest)^2) => Mean Square Error\n",
    "- Error =  SQRT(Summation  ((YPred - YTest)^2)) => Root Mean Square Error\n",
    "- RSquare  =  1 - (Summation of (YPred-yMean) / Summation of (YTest-yMean))"
   ]
  },
  {
   "cell_type": "code",
   "execution_count": 20,
   "id": "13991abe-2ea8-406d-a1ed-90aa2ea76ff0",
   "metadata": {},
   "outputs": [],
   "source": [
    "#help(mean_squared_error)\n",
    "#help(LinearRegression)\n",
    "#Y = m1x1 + m2x2 + ......"
   ]
  },
  {
   "cell_type": "code",
   "execution_count": 21,
   "id": "0484586d-a13b-480a-bcd9-1e34d71a516c",
   "metadata": {},
   "outputs": [],
   "source": [
    "x1 = np.linspace(2500,5000,1000).reshape(-1, 1)\n",
    "y1 = model.predict(x1)"
   ]
  },
  {
   "cell_type": "code",
   "execution_count": 22,
   "id": "d80380bc-4635-4e8a-a321-141a804f0d7f",
   "metadata": {},
   "outputs": [
    {
     "data": {
      "text/plain": [
       "Text(0, 0.5, 'Brain Weight')"
      ]
     },
     "execution_count": 22,
     "metadata": {},
     "output_type": "execute_result"
    },
    {
     "data": {
      "image/png": "[encoded data removed]",
      "text/plain": [
       "<Figure size 640x480 with 1 Axes>"
      ]
     },
     "metadata": {},
     "output_type": "display_data"
    }
   ],
   "source": [
    "plt.plot(x1,y1,color='#ffbb11', label='Linear Regression')\n",
    "plt.scatter(xTest,yTest,color='#52b920',label='Actual Data')\n",
    "plt.scatter(xTest,yPred,color='#ef4423',label='Predicted Data')\n",
    "plt.legend(loc=\"center right\",bbox_to_anchor=(0.0, 0, 0, 0))\n",
    "plt.xlabel('Head Size')\n",
    "plt.ylabel('Brain Weight')"
   ]
  },
  {
   "cell_type": "code",
   "execution_count": null,
   "id": "d239bf63-0ec4-4c4a-afb5-9b9e9964a710",
   "metadata": {},
   "outputs": [],
   "source": [
    "# Extended Linear Regression"
   ]
  },
  {
   "cell_type": "code",
   "execution_count": 19,
   "id": "fe11662d-de67-4a05-b1e2-70a72a480d93",
   "metadata": {},
   "outputs": [],
   "source": [
    "#seed value : each random generator takes different seed value\n",
    "#if you want to generate the same squence, you need set the same seed value\n",
    "rng = np.random.RandomState(42)\n",
    "X = rng.rand(100,3)\n",
    "y = rng.randint(0,200,100)"
   ]
  },
  {
   "cell_type": "code",
   "execution_count": 23,
   "id": "2f90c0c9-f8ae-4346-89bd-07bcbd8e41d8",
   "metadata": {},
   "outputs": [
    {
     "data": {
      "text/plain": [
       "array([[0.37454012, 0.95071431, 0.73199394],\n",
       "       [0.59865848, 0.15601864, 0.15599452],\n",
       "       [0.05808361, 0.86617615, 0.60111501],\n",
       "       [0.70807258, 0.02058449, 0.96990985],\n",
       "       [0.83244264, 0.21233911, 0.18182497],\n",
       "       [0.18340451, 0.30424224, 0.52475643],\n",
       "       [0.43194502, 0.29122914, 0.61185289],\n",
       "       [0.13949386, 0.29214465, 0.36636184],\n",
       "       [0.45606998, 0.78517596, 0.19967378],\n",
       "       [0.51423444, 0.59241457, 0.04645041],\n",
       "       [0.60754485, 0.17052412, 0.06505159],\n",
       "       [0.94888554, 0.96563203, 0.80839735],\n",
       "       [0.30461377, 0.09767211, 0.68423303],\n",
       "       [0.44015249, 0.12203823, 0.49517691],\n",
       "       [0.03438852, 0.9093204 , 0.25877998],\n",
       "       [0.66252228, 0.31171108, 0.52006802],\n",
       "       [0.54671028, 0.18485446, 0.96958463],\n",
       "       [0.77513282, 0.93949894, 0.89482735],\n",
       "       [0.59789998, 0.92187424, 0.0884925 ],\n",
       "       [0.19598286, 0.04522729, 0.32533033],\n",
       "       [0.38867729, 0.27134903, 0.82873751],\n",
       "       [0.35675333, 0.28093451, 0.54269608],\n",
       "       [0.14092422, 0.80219698, 0.07455064],\n",
       "       [0.98688694, 0.77224477, 0.19871568],\n",
       "       [0.00552212, 0.81546143, 0.70685734],\n",
       "       [0.72900717, 0.77127035, 0.07404465],\n",
       "       [0.35846573, 0.11586906, 0.86310343],\n",
       "       [0.62329813, 0.33089802, 0.06355835],\n",
       "       [0.31098232, 0.32518332, 0.72960618],\n",
       "       [0.63755747, 0.88721274, 0.47221493],\n",
       "       [0.11959425, 0.71324479, 0.76078505],\n",
       "       [0.5612772 , 0.77096718, 0.4937956 ],\n",
       "       [0.52273283, 0.42754102, 0.02541913],\n",
       "       [0.10789143, 0.03142919, 0.63641041],\n",
       "       [0.31435598, 0.50857069, 0.90756647],\n",
       "       [0.24929223, 0.41038292, 0.75555114],\n",
       "       [0.22879817, 0.07697991, 0.28975145],\n",
       "       [0.16122129, 0.92969765, 0.80812038],\n",
       "       [0.63340376, 0.87146059, 0.80367208],\n",
       "       [0.18657006, 0.892559  , 0.53934224],\n",
       "       [0.80744016, 0.8960913 , 0.31800347],\n",
       "       [0.11005192, 0.22793516, 0.42710779],\n",
       "       [0.81801477, 0.86073058, 0.00695213],\n",
       "       [0.5107473 , 0.417411  , 0.22210781],\n",
       "       [0.11986537, 0.33761517, 0.9429097 ],\n",
       "       [0.32320293, 0.51879062, 0.70301896],\n",
       "       [0.3636296 , 0.97178208, 0.96244729],\n",
       "       [0.2517823 , 0.49724851, 0.30087831],\n",
       "       [0.28484049, 0.03688695, 0.60956433],\n",
       "       [0.50267902, 0.05147875, 0.27864646],\n",
       "       [0.90826589, 0.23956189, 0.14489487],\n",
       "       [0.48945276, 0.98565045, 0.24205527],\n",
       "       [0.67213555, 0.76161962, 0.23763754],\n",
       "       [0.72821635, 0.36778313, 0.63230583],\n",
       "       [0.63352971, 0.53577468, 0.09028977],\n",
       "       [0.8353025 , 0.32078006, 0.18651851],\n",
       "       [0.04077514, 0.59089294, 0.67756436],\n",
       "       [0.01658783, 0.51209306, 0.22649578],\n",
       "       [0.64517279, 0.17436643, 0.69093774],\n",
       "       [0.38673535, 0.93672999, 0.13752094],\n",
       "       [0.34106635, 0.11347352, 0.92469362],\n",
       "       [0.87733935, 0.25794163, 0.65998405],\n",
       "       [0.8172222 , 0.55520081, 0.52965058],\n",
       "       [0.24185229, 0.09310277, 0.89721576],\n",
       "       [0.90041806, 0.63310146, 0.33902979],\n",
       "       [0.34920957, 0.72595568, 0.89711026],\n",
       "       [0.88708642, 0.77987555, 0.64203165],\n",
       "       [0.08413996, 0.16162871, 0.89855419],\n",
       "       [0.60642906, 0.00919705, 0.10147154],\n",
       "       [0.66350177, 0.00506158, 0.16080805],\n",
       "       [0.54873379, 0.6918952 , 0.65196126],\n",
       "       [0.22426931, 0.71217922, 0.23724909],\n",
       "       [0.3253997 , 0.74649141, 0.6496329 ],\n",
       "       [0.84922341, 0.65761289, 0.5683086 ],\n",
       "       [0.09367477, 0.3677158 , 0.26520237],\n",
       "       [0.24398964, 0.97301055, 0.39309772],\n",
       "       [0.89204656, 0.63113863, 0.7948113 ],\n",
       "       [0.50263709, 0.57690388, 0.49251769],\n",
       "       [0.19524299, 0.72245212, 0.28077236],\n",
       "       [0.02431597, 0.6454723 , 0.17711068],\n",
       "       [0.94045858, 0.95392858, 0.91486439],\n",
       "       [0.3701587 , 0.01545662, 0.92831856],\n",
       "       [0.42818415, 0.96665482, 0.96361998],\n",
       "       [0.85300946, 0.29444889, 0.38509773],\n",
       "       [0.85113667, 0.31692201, 0.16949275],\n",
       "       [0.55680126, 0.93615477, 0.6960298 ],\n",
       "       [0.57006117, 0.09717649, 0.61500723],\n",
       "       [0.99005385, 0.14008402, 0.51832965],\n",
       "       [0.87737307, 0.74076862, 0.69701574],\n",
       "       [0.70248408, 0.35949115, 0.29359184],\n",
       "       [0.80936116, 0.81011339, 0.86707232],\n",
       "       [0.91324055, 0.5113424 , 0.50151629],\n",
       "       [0.79829518, 0.64996393, 0.70196688],\n",
       "       [0.79579267, 0.89000534, 0.33799516],\n",
       "       [0.37558295, 0.09398194, 0.57828014],\n",
       "       [0.03594227, 0.46559802, 0.54264463],\n",
       "       [0.28654125, 0.59083326, 0.03050025],\n",
       "       [0.03734819, 0.82260056, 0.36019064],\n",
       "       [0.12706051, 0.52224326, 0.76999355],\n",
       "       [0.21582103, 0.62289048, 0.08534746]])"
      ]
     },
     "execution_count": 23,
     "metadata": {},
     "output_type": "execute_result"
    }
   ],
   "source": [
    "X\n",
    "# Y = M1x1 + M2x2 + M3x2 + c\n",
    "#model.coef_ : 3 values (m1,m2,m3)\n",
    "#model.intercept_ : 1 value"
   ]
  },
  {
   "cell_type": "code",
   "execution_count": 24,
   "id": "60c53a20-2734-42e6-8aa7-e0bcb56bfe62",
   "metadata": {},
   "outputs": [
    {
     "data": {
      "text/plain": [
       "array([108, 115,  93,  46,  98,  54, 167,  51, 143,  12, 113, 123, 105,\n",
       "       157, 146, 144, 119,  62,  18,  91,  57, 182,  89, 116,  61,  22,\n",
       "       126, 136, 139, 128,  57, 121,   0,  33,  95, 125, 117,  47,  88,\n",
       "       116, 128,  15, 188, 191, 190,  68,  21,  92, 194,  75, 153, 143,\n",
       "       178,  85, 184,  28,  68,  46,  93, 189, 196, 143, 175,  84,  38,\n",
       "        99,  32, 100,  22,   9,  68,  99,  33, 179, 137, 146, 185,  95,\n",
       "         0,  68,   3,  15,  23,  79,   1, 127, 159,  83, 151, 139, 177,\n",
       "       162, 123,  32, 160, 188, 178, 170, 100,  11])"
      ]
     },
     "execution_count": 24,
     "metadata": {},
     "output_type": "execute_result"
    }
   ],
   "source": [
    "y"
   ]
  },
  {
   "cell_type": "code",
   "execution_count": 25,
   "id": "af52e6a7-e6fb-4fa0-b0e3-ea67cb1e5c3a",
   "metadata": {},
   "outputs": [],
   "source": [
    "clf = LinearRegression()"
   ]
  },
  {
   "cell_type": "code",
   "execution_count": 26,
   "id": "0eabc9e7-af13-4406-aa37-3d320ac1ae8d",
   "metadata": {},
   "outputs": [
    {
     "data": {
      "text/html": [
       "<style>#sk-container-id-1 {color: black;}#sk-container-id-1 pre{padding: 0;}#sk-container-id-1 div.sk-toggleable {background-color: white;}#sk-container-id-1 label.sk-toggleable__label {cursor: pointer;display: block;width: 100%;margin-bottom: 0;padding: 0.3em;box-sizing: border-box;text-align: center;}#sk-container-id-1 label.sk-toggleable__label-arrow:before {content: \"▸\";float: left;margin-right: 0.25em;color: #696969;}#sk-container-id-1 label.sk-toggleable__label-arrow:hover:before {color: black;}#sk-container-id-1 div.sk-estimator:hover label.sk-toggleable__label-arrow:before {color: black;}#sk-container-id-1 div.sk-toggleable__content {max-height: 0;max-width: 0;overflow: hidden;text-align: left;background-color: #f0f8ff;}#sk-container-id-1 div.sk-toggleable__content pre {margin: 0.2em;color: black;border-radius: 0.25em;background-color: #f0f8ff;}#sk-container-id-1 input.sk-toggleable__control:checked~div.sk-toggleable__content {max-height: 200px;max-width: 100%;overflow: auto;}#sk-container-id-1 input.sk-toggleable__control:checked~label.sk-toggleable__label-arrow:before {content: \"▾\";}#sk-container-id-1 div.sk-estimator input.sk-toggleable__control:checked~label.sk-toggleable__label {background-color: #d4ebff;}#sk-container-id-1 div.sk-label input.sk-toggleable__control:checked~label.sk-toggleable__label {background-color: #d4ebff;}#sk-container-id-1 input.sk-hidden--visually {border: 0;clip: rect(1px 1px 1px 1px);clip: rect(1px, 1px, 1px, 1px);height: 1px;margin: -1px;overflow: hidden;padding: 0;position: absolute;width: 1px;}#sk-container-id-1 div.sk-estimator {font-family: monospace;background-color: #f0f8ff;border: 1px dotted black;border-radius: 0.25em;box-sizing: border-box;margin-bottom: 0.5em;}#sk-container-id-1 div.sk-estimator:hover {background-color: #d4ebff;}#sk-container-id-1 div.sk-parallel-item::after {content: \"\";width: 100%;border-bottom: 1px solid gray;flex-grow: 1;}#sk-container-id-1 div.sk-label:hover label.sk-toggleable__label {background-color: #d4ebff;}#sk-container-id-1 div.sk-serial::before {content: \"\";position: absolute;border-left: 1px solid gray;box-sizing: border-box;top: 0;bottom: 0;left: 50%;z-index: 0;}#sk-container-id-1 div.sk-serial {display: flex;flex-direction: column;align-items: center;background-color: white;padding-right: 0.2em;padding-left: 0.2em;position: relative;}#sk-container-id-1 div.sk-item {position: relative;z-index: 1;}#sk-container-id-1 div.sk-parallel {display: flex;align-items: stretch;justify-content: center;background-color: white;position: relative;}#sk-container-id-1 div.sk-item::before, #sk-container-id-1 div.sk-parallel-item::before {content: \"\";position: absolute;border-left: 1px solid gray;box-sizing: border-box;top: 0;bottom: 0;left: 50%;z-index: -1;}#sk-container-id-1 div.sk-parallel-item {display: flex;flex-direction: column;z-index: 1;position: relative;background-color: white;}#sk-container-id-1 div.sk-parallel-item:first-child::after {align-self: flex-end;width: 50%;}#sk-container-id-1 div.sk-parallel-item:last-child::after {align-self: flex-start;width: 50%;}#sk-container-id-1 div.sk-parallel-item:only-child::after {width: 0;}#sk-container-id-1 div.sk-dashed-wrapped {border: 1px dashed gray;margin: 0 0.4em 0.5em 0.4em;box-sizing: border-box;padding-bottom: 0.4em;background-color: white;}#sk-container-id-1 div.sk-label label {font-family: monospace;font-weight: bold;display: inline-block;line-height: 1.2em;}#sk-container-id-1 div.sk-label-container {text-align: center;}#sk-container-id-1 div.sk-container {/* jupyter's `normalize.less` sets `[hidden] { display: none; }` but bootstrap.min.css set `[hidden] { display: none !important; }` so we also need the `!important` here to be able to override the default hidden behavior on the sphinx rendered scikit-learn.org. See: https://github.com/scikit-learn/scikit-learn/issues/21755 */display: inline-block !important;position: relative;}#sk-container-id-1 div.sk-text-repr-fallback {display: none;}</style><div id=\"sk-container-id-1\" class=\"sk-top-container\"><div class=\"sk-text-repr-fallback\"><pre>LinearRegression()</pre><b>In a Jupyter environment, please rerun this cell to show the HTML representation or trust the notebook. <br />On GitHub, the HTML representation is unable to render, please try loading this page with nbviewer.org.</b></div><div class=\"sk-container\" hidden><div class=\"sk-item\"><div class=\"sk-estimator sk-toggleable\"><input class=\"sk-toggleable__control sk-hidden--visually\" id=\"sk-estimator-id-1\" type=\"checkbox\" checked><label for=\"sk-estimator-id-1\" class=\"sk-toggleable__label sk-toggleable__label-arrow\">LinearRegression</label><div class=\"sk-toggleable__content\"><pre>LinearRegression()</pre></div></div></div></div></div>"
      ],
      "text/plain": [
       "LinearRegression()"
      ]
     },
     "execution_count": 26,
     "metadata": {},
     "output_type": "execute_result"
    }
   ],
   "source": [
    "clf.fit(X,y)"
   ]
  },
  {
   "cell_type": "code",
   "execution_count": 28,
   "id": "02f2168a-8865-4946-8d97-3a29e0813d50",
   "metadata": {},
   "outputs": [
    {
     "data": {
      "text/plain": [
       "array([12.05908162, -4.12768786,  5.24442794])"
      ]
     },
     "execution_count": 28,
     "metadata": {},
     "output_type": "execute_result"
    }
   ],
   "source": [
    "clf.coef_"
   ]
  },
  {
   "cell_type": "code",
   "execution_count": 29,
   "id": "6fedf25b-b44b-439d-9d70-a37c0e9b4788",
   "metadata": {},
   "outputs": [
    {
     "data": {
      "text/plain": [
       "95.14209041597026"
      ]
     },
     "execution_count": 29,
     "metadata": {},
     "output_type": "execute_result"
    }
   ],
   "source": [
    "clf.intercept_"
   ]
  }
 ],
 "metadata": {
  "kernelspec": {
   "display_name": "Python 3 (ipykernel)",
   "language": "python",
   "name": "python3"
  },
  "language_info": {
   "codemirror_mode": {
    "name": "ipython",
    "version": 3
   },
   "file_extension": ".py",
   "mimetype": "text/x-python",
   "name": "python",
   "nbconvert_exporter": "python",
   "pygments_lexer": "ipython3",
   "version": "3.9.6"
  }
 },
 "nbformat": 4,
 "nbformat_minor": 5
}
