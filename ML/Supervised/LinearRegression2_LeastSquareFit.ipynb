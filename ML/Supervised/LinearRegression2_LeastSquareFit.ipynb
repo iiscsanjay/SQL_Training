{
 "cells": [
  {
   "cell_type": "code",
   "execution_count": 3,
   "id": "a79c2cd1-8e27-4bc8-838f-7be745d4cd31",
   "metadata": {},
   "outputs": [],
   "source": [
    "import warnings\n",
    "warnings.filterwarnings(\"ignore\")"
   ]
  },
  {
   "cell_type": "code",
   "execution_count": 4,
   "id": "be2dc81a-2db6-4a09-8d2d-69ffa127ba27",
   "metadata": {},
   "outputs": [],
   "source": [
    "import numpy as np\n",
    "import pandas as pd\n",
    "import matplotlib.pyplot as plt\n",
    "import seaborn as sns\n",
    "import kaggle\n",
    "\n",
    "from IPython.display import display, HTML"
   ]
  },
  {
   "cell_type": "markdown",
   "id": "0f963e35-6a70-45d5-a457-c727b7d529ca",
   "metadata": {},
   "source": [
    "#### Measuring Metric for Regression\n",
    "https://scikit-learn.org/stable/modules/model_evaluation.html"
   ]
  },
  {
   "cell_type": "code",
   "execution_count": 5,
   "id": "40ff28d3-cb4f-4dce-a8ed-e7e4d0c120b4",
   "metadata": {},
   "outputs": [],
   "source": [
    "#help(kaggle.api.dataset_download_files)"
   ]
  },
  {
   "cell_type": "code",
   "execution_count": 6,
   "id": "2ba13d17-0a3f-407f-8406-9a0a07b7cd2f",
   "metadata": {},
   "outputs": [],
   "source": [
    "# Modify this path according to your system path : Where you kept ur python notebook file\n",
    "# MySelf\n",
    "data = \"/Users/sanjayk/Dropbox/Work/Careerera/Final/ML/data/\"\n",
    "#kaggle.api.dataset_download_files(\"jemishdonda/headbrain\", unzip=True,path=data)  "
   ]
  },
  {
   "cell_type": "code",
   "execution_count": null,
   "id": "3388c184-c63e-4fa0-b539-b827dac80f50",
   "metadata": {},
   "outputs": [],
   "source": [
    "#downloading the headbrain.csv file\n",
    "kaggle.api.authenticate()\n",
    "kaggle.api.dataset_download_files(\"saarthaksangam/headbrain\", unzip=True)   "
   ]
  },
  {
   "cell_type": "markdown",
   "id": "b5aaf796-45c2-427a-885d-24bb2e9130f0",
   "metadata": {},
   "source": [
    "1. Read the dataset from csv/mysql\n",
    "2. Display the Size of the dataset\n",
    "3. Check for Null/Value\n",
    "4. Put mean with Missing value\n",
    "5. Check again if any miss value of there\n",
    "6. if any categorical/nomial variable, we need label encoder\n",
    "7. Divide the dataset into x_train,y_train,x_test,y_test (training/testing : 80:20,75:25,60:40)\n",
    "\n",
    "7.  Classication / Regression :\n"
   ]
  },
  {
   "cell_type": "code",
   "execution_count": 9,
   "id": "31a3904c-3054-4e27-88dd-5deac07b4b8d",
   "metadata": {},
   "outputs": [
    {
     "data": {
      "text/html": [
       "<table border=\"1\" class=\"dataframe\">\n",
       "  <thead>\n",
       "    <tr style=\"text-align: right;\">\n",
       "      <th></th>\n",
       "      <th>Gender</th>\n",
       "      <th>Age Range</th>\n",
       "      <th>Head Size(cm^3)</th>\n",
       "      <th>Brain Weight(grams)</th>\n",
       "    </tr>\n",
       "  </thead>\n",
       "  <tbody>\n",
       "    <tr>\n",
       "      <th>0</th>\n",
       "      <td>1</td>\n",
       "      <td>1</td>\n",
       "      <td>4512</td>\n",
       "      <td>1530</td>\n",
       "    </tr>\n",
       "    <tr>\n",
       "      <th>1</th>\n",
       "      <td>1</td>\n",
       "      <td>1</td>\n",
       "      <td>3738</td>\n",
       "      <td>1297</td>\n",
       "    </tr>\n",
       "    <tr>\n",
       "      <th>2</th>\n",
       "      <td>1</td>\n",
       "      <td>1</td>\n",
       "      <td>4261</td>\n",
       "      <td>1335</td>\n",
       "    </tr>\n",
       "    <tr>\n",
       "      <th>3</th>\n",
       "      <td>1</td>\n",
       "      <td>1</td>\n",
       "      <td>3777</td>\n",
       "      <td>1282</td>\n",
       "    </tr>\n",
       "    <tr>\n",
       "      <th>4</th>\n",
       "      <td>1</td>\n",
       "      <td>1</td>\n",
       "      <td>4177</td>\n",
       "      <td>1590</td>\n",
       "    </tr>\n",
       "    <tr>\n",
       "      <th>5</th>\n",
       "      <td>1</td>\n",
       "      <td>1</td>\n",
       "      <td>3585</td>\n",
       "      <td>1300</td>\n",
       "    </tr>\n",
       "    <tr>\n",
       "      <th>6</th>\n",
       "      <td>1</td>\n",
       "      <td>1</td>\n",
       "      <td>3785</td>\n",
       "      <td>1400</td>\n",
       "    </tr>\n",
       "    <tr>\n",
       "      <th>7</th>\n",
       "      <td>1</td>\n",
       "      <td>1</td>\n",
       "      <td>3559</td>\n",
       "      <td>1255</td>\n",
       "    </tr>\n",
       "    <tr>\n",
       "      <th>8</th>\n",
       "      <td>1</td>\n",
       "      <td>1</td>\n",
       "      <td>3613</td>\n",
       "      <td>1355</td>\n",
       "    </tr>\n",
       "    <tr>\n",
       "      <th>9</th>\n",
       "      <td>1</td>\n",
       "      <td>1</td>\n",
       "      <td>3982</td>\n",
       "      <td>1375</td>\n",
       "    </tr>\n",
       "  </tbody>\n",
       "</table>"
      ],
      "text/plain": [
       "<IPython.core.display.HTML object>"
      ]
     },
     "metadata": {},
     "output_type": "display_data"
    }
   ],
   "source": [
    "df = pd.read_csv(data + 'headbrain.csv')\n",
    "display(HTML(df.head(10).to_html()))"
   ]
  },
  {
   "cell_type": "code",
   "execution_count": 10,
   "id": "7c13fa67-6d61-4c08-97bf-f209ed6b08eb",
   "metadata": {},
   "outputs": [
    {
     "data": {
      "text/html": [
       "<div>\n",
       "<style scoped>\n",
       "    .dataframe tbody tr th:only-of-type {\n",
       "        vertical-align: middle;\n",
       "    }\n",
       "\n",
       "    .dataframe tbody tr th {\n",
       "        vertical-align: top;\n",
       "    }\n",
       "\n",
       "    .dataframe thead th {\n",
       "        text-align: right;\n",
       "    }\n",
       "</style>\n",
       "<table border=\"1\" class=\"dataframe\">\n",
       "  <thead>\n",
       "    <tr style=\"text-align: right;\">\n",
       "      <th></th>\n",
       "      <th>Gender</th>\n",
       "      <th>Age Range</th>\n",
       "      <th>Head Size(cm^3)</th>\n",
       "      <th>Brain Weight(grams)</th>\n",
       "    </tr>\n",
       "  </thead>\n",
       "  <tbody>\n",
       "    <tr>\n",
       "      <th>Gender</th>\n",
       "      <td>1.000000</td>\n",
       "      <td>-0.088652</td>\n",
       "      <td>-0.514050</td>\n",
       "      <td>-0.465266</td>\n",
       "    </tr>\n",
       "    <tr>\n",
       "      <th>Age Range</th>\n",
       "      <td>-0.088652</td>\n",
       "      <td>1.000000</td>\n",
       "      <td>-0.105428</td>\n",
       "      <td>-0.169438</td>\n",
       "    </tr>\n",
       "    <tr>\n",
       "      <th>Head Size(cm^3)</th>\n",
       "      <td>-0.514050</td>\n",
       "      <td>-0.105428</td>\n",
       "      <td>1.000000</td>\n",
       "      <td>0.799570</td>\n",
       "    </tr>\n",
       "    <tr>\n",
       "      <th>Brain Weight(grams)</th>\n",
       "      <td>-0.465266</td>\n",
       "      <td>-0.169438</td>\n",
       "      <td>0.799570</td>\n",
       "      <td>1.000000</td>\n",
       "    </tr>\n",
       "  </tbody>\n",
       "</table>\n",
       "</div>"
      ],
      "text/plain": [
       "                       Gender  Age Range  Head Size(cm^3)  Brain Weight(grams)\n",
       "Gender               1.000000  -0.088652        -0.514050            -0.465266\n",
       "Age Range           -0.088652   1.000000        -0.105428            -0.169438\n",
       "Head Size(cm^3)     -0.514050  -0.105428         1.000000             0.799570\n",
       "Brain Weight(grams) -0.465266  -0.169438         0.799570             1.000000"
      ]
     },
     "execution_count": 10,
     "metadata": {},
     "output_type": "execute_result"
    }
   ],
   "source": [
    "# default : pearson Correlation metric amoung all features/ columns\n",
    "df.corr()"
   ]
  },
  {
   "cell_type": "code",
   "execution_count": 11,
   "id": "1213a1a9-7a44-4381-ba03-59cb0d9a78ea",
   "metadata": {},
   "outputs": [
    {
     "name": "stdout",
     "output_type": "stream",
     "text": [
      "Size of the dataset : 237\n"
     ]
    }
   ],
   "source": [
    "print(f'Size of the dataset : {df.shape[0]}')"
   ]
  },
  {
   "cell_type": "code",
   "execution_count": 12,
   "id": "7174465c-907f-436b-8087-dcb39781fce6",
   "metadata": {},
   "outputs": [],
   "source": [
    "#help(pd.DataFrame.corr)"
   ]
  },
  {
   "cell_type": "code",
   "execution_count": 13,
   "id": "8b84dfd2-111b-4c39-bc6a-491ab1b5fa00",
   "metadata": {},
   "outputs": [],
   "source": [
    "X = df[['Head Size(cm^3)']].values           # X : Independent Variable (1-n : 1 Minimum)\n",
    "y = df[['Brain Weight(grams)']].values       # y = Dependent Variable        "
   ]
  },
  {
   "cell_type": "code",
   "execution_count": 14,
   "id": "7c58f4cc-0e51-4696-84d8-fb28a6bdcb42",
   "metadata": {},
   "outputs": [
    {
     "data": {
      "text/plain": [
       "Text(0, 0.5, 'Brain Weight')"
      ]
     },
     "execution_count": 14,
     "metadata": {},
     "output_type": "execute_result"
    },
    {
     "data": {
      "image/png": "[encoded data removed]",
      "text/plain": [
       "<Figure size 640x480 with 1 Axes>"
      ]
     },
     "metadata": {},
     "output_type": "display_data"
    }
   ],
   "source": [
    "plt.scatter(X,y,color='#52b920')\n",
    "plt.xlabel('Head Size')\n",
    "plt.ylabel('Brain Weight')"
   ]
  },
  {
   "cell_type": "markdown",
   "id": "20e5bc8b-6ecf-473e-896f-0bc1c5d77876",
   "metadata": {},
   "source": [
    "#### Least Square Fit Method:\n",
    "\n",
    "            Summation (x-xmean) (y-ymean) \n",
    "    m  =   ------------------------------\n",
    "             Summation (x-xmean)\n",
    "\n",
    "\n",
    "    c = yMean - m * xmean"
   ]
  },
  {
   "cell_type": "code",
   "execution_count": 15,
   "id": "2c1c5d21-e748-4477-b23a-d9fa20b226d1",
   "metadata": {},
   "outputs": [
    {
     "name": "stdout",
     "output_type": "stream",
     "text": [
      "XMean : 3633.992\n",
      "YMean : 1282.873\n"
     ]
    }
   ],
   "source": [
    "ymean = np.mean(y)\n",
    "xmean = np.mean(X)\n",
    "print(f'XMean : {xmean:0.3f}')\n",
    "print(f'YMean : {ymean:0.3f}')"
   ]
  },
  {
   "cell_type": "code",
   "execution_count": 16,
   "id": "21ade3a1-6171-4e4a-9c89-8ec8d8b94a44",
   "metadata": {},
   "outputs": [
    {
     "name": "stdout",
     "output_type": "stream",
     "text": [
      "Slope of the Line : 0.263\n",
      "Intercept of the line : 325.573\n"
     ]
    }
   ],
   "source": [
    "numerator = 0.0\n",
    "denominator = 0.0\n",
    "\n",
    "for index in range(len(y)):\n",
    "    denominator +=  (X[index]-xmean)**2     # Variance\n",
    "    numerator += (X[index]-xmean) * (y[index]-ymean) # Co-variance\n",
    "m = numerator / denominator\n",
    "c = ymean - m * xmean\n",
    "\n",
    "print(f'Slope of the Line : {m[0]:0.3f}')\n",
    "print(f'Intercept of the line : {c[0]:0.3f}')"
   ]
  },
  {
   "cell_type": "markdown",
   "id": "1afecd93-9311-4a56-b22d-0d4f6a34dc93",
   "metadata": {},
   "source": [
    "\n",
    "Standard deviation and Variance :\n",
    "\n",
    "Variance = Summation(X - Xmean)**2\n",
    "Standard deviation = SQRT(Summation((X - Xmean)**2))  = SQRT(Variance)\n",
    "\n",
    "Co-Variance = Summation ((X-Xmean) * (Y-Ymean))"
   ]
  },
  {
   "cell_type": "code",
   "execution_count": null,
   "id": "f1c88403-b891-4324-a732-bfacacb7fa76",
   "metadata": {},
   "outputs": [],
   "source": []
  }
 ],
 "metadata": {
  "kernelspec": {
   "display_name": "Python 3 (ipykernel)",
   "language": "python",
   "name": "python3"
  },
  "language_info": {
   "codemirror_mode": {
    "name": "ipython",
    "version": 3
   },
   "file_extension": ".py",
   "mimetype": "text/x-python",
   "name": "python",
   "nbconvert_exporter": "python",
   "pygments_lexer": "ipython3",
   "version": "3.9.6"
  }
 },
 "nbformat": 4,
 "nbformat_minor": 5
}
