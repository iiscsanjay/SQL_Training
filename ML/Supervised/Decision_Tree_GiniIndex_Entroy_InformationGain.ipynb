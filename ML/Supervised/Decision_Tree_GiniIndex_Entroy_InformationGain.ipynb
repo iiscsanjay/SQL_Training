{
 "cells": [
  {
   "cell_type": "code",
   "execution_count": 15,
   "id": "cab55238",
   "metadata": {},
   "outputs": [],
   "source": [
    "from math import log"
   ]
  },
  {
   "cell_type": "code",
   "execution_count": 16,
   "id": "d629bd14",
   "metadata": {},
   "outputs": [],
   "source": [
    "def cal_percent(node):\n",
    "    nodesum = sum(node.values())\n",
    "    percent =  {c : v/nodesum for c,v in node.items()}\n",
    "    return nodesum, percent"
   ]
  },
  {
   "cell_type": "code",
   "execution_count": 17,
   "id": "9ac4ca98",
   "metadata": {},
   "outputs": [],
   "source": [
    "#gini score = 1 - summation(pi(c1)^2)"
   ]
  },
  {
   "cell_type": "code",
   "execution_count": 18,
   "id": "c12567b9",
   "metadata": {},
   "outputs": [],
   "source": [
    "def gini_score(node):\n",
    "    nodesum, percent = cal_percent(node)\n",
    "    score =  1 - round(sum([i**2 for i in percent.values()]),3)\n",
    "    print(f'Gini Score for the node : {node} =>  {score}')\n",
    "    return score"
   ]
  },
  {
   "cell_type": "code",
   "execution_count": 19,
   "id": "04c83c47",
   "metadata": {},
   "outputs": [],
   "source": [
    "#escore = summation(- pi(ci) *log(pi(ci)))"
   ]
  },
  {
   "cell_type": "code",
   "execution_count": 20,
   "id": "5095d3b5",
   "metadata": {},
   "outputs": [],
   "source": [
    "def entropy_score(node):\n",
    "    nodesum, percent = cal_percent(node)\n",
    "    score = round(sum([ -1 * i * log(i,2) for i in percent.values()]),3)\n",
    "    print(f'Entroy Score for the node : {node} =>  {score}')\n",
    "    return score"
   ]
  },
  {
   "cell_type": "code",
   "execution_count": 7,
   "id": "625ef051",
   "metadata": {},
   "outputs": [],
   "source": [
    "def information_gain(parent,children,criterion):\n",
    "    # simple dictionary which is definiing which function to call for computing gini or entroy\n",
    "    score = { 'gini' : gini_score, 'entropy' : entropy_score}\n",
    "    metric = score[criterion]\n",
    "    parentscore = metric(parent)\n",
    "    parentsum = sum(parent.values())\n",
    "    #node1/parentsum, node2/parentsum\n",
    "    \n",
    "    weighted_child_score = sum([metric(i) * sum(i.values()) / parentsum for i in children ])\n",
    "    gain = round((parentscore - weighted_child_score),2)\n",
    "    print(weighted_child_score)\n",
    "    print(parentscore)\n",
    "    print(f'Information Gain : {gain}')\n",
    "    return gain"
   ]
  },
  {
   "cell_type": "code",
   "execution_count": 8,
   "id": "b66227fd",
   "metadata": {},
   "outputs": [],
   "source": [
    "#root node\n",
    "parent_node =  {'Red' : 3, 'Blue' :4, 'Green' : 5}\n"
   ]
  },
  {
   "cell_type": "code",
   "execution_count": 9,
   "id": "95127a4d",
   "metadata": {},
   "outputs": [
    {
     "data": {
      "text/plain": [
       "\"\\nparent = { 'r' : [(1,4),(4,5),(5,3),(8,4)] , 'b' : [(3,4),(6,5),(8,3),(4,3),(5,2),(4,1)]}\\n\\nnode1 = {'r' : [(1,4),(4,5)], 'b' : [(3,4),(4,1),(4,3)]}\\nnode2 = {'r' : [(5,3),(8,4)],'b' : [(6,5),(8,3),(5,2)] }\\n\\npure nodes : Leaf Node : node3 = {'r' :[(1,4),(4,5)] }\\n\""
      ]
     },
     "execution_count": 9,
     "metadata": {},
     "output_type": "execute_result"
    }
   ],
   "source": [
    "\"\"\"\n",
    "parent = { 'r' : [(1,4),(4,5),(5,3),(8,4)] , 'b' : [(3,4),(6,5),(8,3),(4,3),(5,2),(4,1)]}\n",
    "\n",
    "node1 = {'r' : [(1,4),(4,5)], 'b' : [(3,4),(4,1),(4,3)]}\n",
    "node2 = {'r' : [(5,3),(8,4)],'b' : [(6,5),(8,3),(5,2)] }\n",
    "\n",
    "pure nodes : Leaf Node : node3 = {'r' :[(1,4),(4,5)] }\n",
    "\"\"\"\n"
   ]
  },
  {
   "cell_type": "code",
   "execution_count": 10,
   "id": "bbd250b5",
   "metadata": {},
   "outputs": [
    {
     "data": {
      "text/plain": [
       "(12, {'Red': 0.25, 'Blue': 0.3333333333333333, 'Green': 0.4166666666666667})"
      ]
     },
     "execution_count": 10,
     "metadata": {},
     "output_type": "execute_result"
    }
   ],
   "source": [
    "cal_percent(parent_node)"
   ]
  },
  {
   "cell_type": "code",
   "execution_count": 12,
   "id": "b956cec2",
   "metadata": {},
   "outputs": [
    {
     "name": "stdout",
     "output_type": "stream",
     "text": [
      "Gini Score for the node : {'Red': 3, 'Blue': 4, 'Green': 5} =>  0.653\n"
     ]
    },
    {
     "data": {
      "text/plain": [
       "0.653"
      ]
     },
     "execution_count": 12,
     "metadata": {},
     "output_type": "execute_result"
    }
   ],
   "source": [
    "#Gini Score Metric to be used in computing the information gain\n",
    "gini_score(parent_node)"
   ]
  },
  {
   "cell_type": "code",
   "execution_count": 14,
   "id": "a93d852f",
   "metadata": {},
   "outputs": [
    {
     "name": "stdout",
     "output_type": "stream",
     "text": [
      "Entroy Score for the node : {'Red': 3, 'Blue': 4, 'Green': 5} =>  1.555\n"
     ]
    },
    {
     "data": {
      "text/plain": [
       "1.555"
      ]
     },
     "execution_count": 14,
     "metadata": {},
     "output_type": "execute_result"
    }
   ],
   "source": [
    "##Entropy Metric to be used in computing the information gain\n",
    "entropy_score(parent_node)"
   ]
  },
  {
   "cell_type": "code",
   "execution_count": 21,
   "id": "07c75bef",
   "metadata": {},
   "outputs": [
    {
     "name": "stdout",
     "output_type": "stream",
     "text": [
      "Entroy Score for the node : {'Red': 3, 'Blue': 4, 'Green': 5} =>  1.555\n",
      "Entroy Score for the node : {'Red': 3, 'Blue': 4} =>  0.985\n",
      "Entroy Score for the node : {'Green': 5} =>  0.0\n",
      "0.5745833333333333\n",
      "1.555\n",
      "Information Gain : 0.98\n",
      "0.98\n"
     ]
    }
   ],
   "source": [
    "#root node\n",
    "parent_node =  {'Red' : 3, 'Blue' :4, 'Green' : 5}\n",
    "\n",
    "# After the split\n",
    "node1 = {'Red' : 3, 'Blue' :4} \n",
    "node2 = {'Green' : 5} # Pure Node As Entropy as 0.\n",
    "\n",
    "entropy_gain = information_gain(parent_node,[node1,node2], 'entropy' )\n",
    "print(entropy_gain)"
   ]
  },
  {
   "cell_type": "code",
   "execution_count": 26,
   "id": "4fc4d611",
   "metadata": {},
   "outputs": [
    {
     "name": "stdout",
     "output_type": "stream",
     "text": [
      "Gini Score for the node : {'Red': 3, 'Blue': 4, 'Green': 5} =>  0.653\n",
      "Gini Score for the node : {'Red': 3, 'Blue': 4} =>  0.49\n",
      "Gini Score for the node : {'Green': 5} =>  0.0\n",
      "0.28583333333333333\n",
      "0.653\n",
      "Information Gain : 0.37\n"
     ]
    }
   ],
   "source": [
    "# After the split\n",
    "node1 = {'Red' : 3, 'Blue' :4}\n",
    "node2 = {'Green' : 5}\n",
    "gini_gain = information_gain(parent_node,[node1,node2], 'gini' )"
   ]
  },
  {
   "cell_type": "code",
   "execution_count": null,
   "id": "75d01c54",
   "metadata": {},
   "outputs": [],
   "source": [
    "What would be the information gain for root node ( start of the tree)?\n",
    "What would be the information gain for leaf node ?"
   ]
  },
  {
   "cell_type": "code",
   "execution_count": null,
   "id": "8ccd3056",
   "metadata": {},
   "outputs": [],
   "source": [
    "from sklearn.ensemble "
   ]
  },
  {
   "cell_type": "code",
   "execution_count": null,
   "id": "8a40e660",
   "metadata": {},
   "outputs": [],
   "source": [
    "#Random_Forest (number = 100,)  voting. Over the Decision Tree Classifier "
   ]
  }
 ],
 "metadata": {
  "kernelspec": {
   "display_name": "Python 3 (ipykernel)",
   "language": "python",
   "name": "python3"
  },
  "language_info": {
   "codemirror_mode": {
    "name": "ipython",
    "version": 3
   },
   "file_extension": ".py",
   "mimetype": "text/x-python",
   "name": "python",
   "nbconvert_exporter": "python",
   "pygments_lexer": "ipython3",
   "version": "3.9.6"
  }
 },
 "nbformat": 4,
 "nbformat_minor": 5
}
