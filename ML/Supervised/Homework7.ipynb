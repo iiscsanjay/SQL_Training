{
 "cells": [
  {
   "cell_type": "code",
   "execution_count": 1,
   "id": "411517ce-4310-4ea5-9173-9cd1acf28412",
   "metadata": {},
   "outputs": [],
   "source": [
    "import warnings\n",
    "warnings.filterwarnings(\"ignore\")\n",
    "from IPython.display import display, HTML"
   ]
  },
  {
   "cell_type": "code",
   "execution_count": 3,
   "id": "10690063-fd69-4fbf-8ac8-1ef937796dc6",
   "metadata": {},
   "outputs": [],
   "source": [
    "# Pythong reading and plotting module\n",
    "import numpy as np\n",
    "import pandas as pd\n",
    "import matplotlib.pyplot as plt\n",
    "import seaborn as sns\n",
    "from IPython.display import display, HTML\n",
    "\n",
    "# Performing data transformation\n",
    "from sklearn import preprocessing\n",
    "\n",
    "\n",
    "# performing the feature selection by PCA. SelectKBest module\n",
    "from sklearn.decomposition import PCA\n",
    "from sklearn.feature_selection import SelectKBest\n",
    "from sklearn.feature_selection import f_classif\n",
    "\n",
    "# Building the Logistic Regression Model\n",
    "from sklearn.linear_model import LogisticRegression\n",
    "\n",
    "# importing pipeline Class\n",
    "from sklearn.pipeline import Pipeline\n",
    "\n",
    "# Cross Validation Module\n",
    "from sklearn.model_selection import train_test_split, GridSearchCV, KFold, cross_val_score"
   ]
  },
  {
   "cell_type": "markdown",
   "id": "96c249b9-d1ea-4ae5-ae87-ab240997adfa",
   "metadata": {},
   "source": [
    "#### **Reading the database:** Malware Multiclass datasets"
   ]
  },
  {
   "cell_type": "code",
   "execution_count": 4,
   "id": "0d424569-e627-459b-9404-111019eec1c3",
   "metadata": {},
   "outputs": [
    {
     "data": {
      "text/html": [
       "<table border=\"1\" class=\"dataframe\">\n",
       "  <thead>\n",
       "    <tr style=\"text-align: right;\">\n",
       "      <th></th>\n",
       "      <th>hash</th>\n",
       "      <th>millisecond</th>\n",
       "      <th>classification</th>\n",
       "      <th>os</th>\n",
       "      <th>state</th>\n",
       "      <th>usage_counter</th>\n",
       "      <th>prio</th>\n",
       "      <th>static_prio</th>\n",
       "      <th>normal_prio</th>\n",
       "      <th>policy</th>\n",
       "      <th>vm_pgoff</th>\n",
       "      <th>vm_truncate_count</th>\n",
       "      <th>task_size</th>\n",
       "      <th>cached_hole_size</th>\n",
       "      <th>free_area_cache</th>\n",
       "      <th>mm_users</th>\n",
       "      <th>map_count</th>\n",
       "      <th>hiwater_rss</th>\n",
       "      <th>total_vm</th>\n",
       "      <th>shared_vm</th>\n",
       "      <th>exec_vm</th>\n",
       "      <th>reserved_vm</th>\n",
       "      <th>nr_ptes</th>\n",
       "      <th>end_data</th>\n",
       "      <th>last_interval</th>\n",
       "      <th>nvcsw</th>\n",
       "      <th>nivcsw</th>\n",
       "      <th>min_flt</th>\n",
       "      <th>maj_flt</th>\n",
       "      <th>fs_excl_counter</th>\n",
       "      <th>lock</th>\n",
       "      <th>utime</th>\n",
       "      <th>stime</th>\n",
       "      <th>gtime</th>\n",
       "      <th>cgtime</th>\n",
       "      <th>signal_nvcsw</th>\n",
       "    </tr>\n",
       "  </thead>\n",
       "  <tbody>\n",
       "    <tr>\n",
       "      <th>0</th>\n",
       "      <td>42fb5e2ec009a05ff5143227297074f1e9c6c3ebb9c914e223349672eca79ad0</td>\n",
       "      <td>0</td>\n",
       "      <td>malware</td>\n",
       "      <td>CentOS</td>\n",
       "      <td>0</td>\n",
       "      <td>0</td>\n",
       "      <td>3069378560</td>\n",
       "      <td>14274</td>\n",
       "      <td>0</td>\n",
       "      <td>0</td>\n",
       "      <td>0</td>\n",
       "      <td>13173</td>\n",
       "      <td>0</td>\n",
       "      <td>0</td>\n",
       "      <td>24</td>\n",
       "      <td>724</td>\n",
       "      <td>6850</td>\n",
       "      <td>0</td>\n",
       "      <td>150</td>\n",
       "      <td>120</td>\n",
       "      <td>124</td>\n",
       "      <td>210</td>\n",
       "      <td>0</td>\n",
       "      <td>120</td>\n",
       "      <td>3473</td>\n",
       "      <td>341974</td>\n",
       "      <td>0</td>\n",
       "      <td>0</td>\n",
       "      <td>120</td>\n",
       "      <td>0</td>\n",
       "      <td>3204448256</td>\n",
       "      <td>380690</td>\n",
       "      <td>4</td>\n",
       "      <td>0</td>\n",
       "      <td>0</td>\n",
       "      <td>0</td>\n",
       "    </tr>\n",
       "    <tr>\n",
       "      <th>1</th>\n",
       "      <td>42fb5e2ec009a05ff5143227297074f1e9c6c3ebb9c914e223349672eca79ad0</td>\n",
       "      <td>1</td>\n",
       "      <td>malware</td>\n",
       "      <td>Windows</td>\n",
       "      <td>0</td>\n",
       "      <td>0</td>\n",
       "      <td>3069378560</td>\n",
       "      <td>14274</td>\n",
       "      <td>0</td>\n",
       "      <td>0</td>\n",
       "      <td>0</td>\n",
       "      <td>13173</td>\n",
       "      <td>0</td>\n",
       "      <td>0</td>\n",
       "      <td>24</td>\n",
       "      <td>724</td>\n",
       "      <td>6850</td>\n",
       "      <td>0</td>\n",
       "      <td>150</td>\n",
       "      <td>120</td>\n",
       "      <td>124</td>\n",
       "      <td>210</td>\n",
       "      <td>0</td>\n",
       "      <td>120</td>\n",
       "      <td>3473</td>\n",
       "      <td>341974</td>\n",
       "      <td>0</td>\n",
       "      <td>0</td>\n",
       "      <td>120</td>\n",
       "      <td>0</td>\n",
       "      <td>3204448256</td>\n",
       "      <td>380690</td>\n",
       "      <td>4</td>\n",
       "      <td>0</td>\n",
       "      <td>0</td>\n",
       "      <td>0</td>\n",
       "    </tr>\n",
       "    <tr>\n",
       "      <th>2</th>\n",
       "      <td>42fb5e2ec009a05ff5143227297074f1e9c6c3ebb9c914e223349672eca79ad0</td>\n",
       "      <td>2</td>\n",
       "      <td>malware</td>\n",
       "      <td>Mac</td>\n",
       "      <td>0</td>\n",
       "      <td>0</td>\n",
       "      <td>3069378560</td>\n",
       "      <td>14274</td>\n",
       "      <td>0</td>\n",
       "      <td>0</td>\n",
       "      <td>0</td>\n",
       "      <td>13173</td>\n",
       "      <td>0</td>\n",
       "      <td>0</td>\n",
       "      <td>24</td>\n",
       "      <td>724</td>\n",
       "      <td>6850</td>\n",
       "      <td>0</td>\n",
       "      <td>150</td>\n",
       "      <td>120</td>\n",
       "      <td>124</td>\n",
       "      <td>210</td>\n",
       "      <td>0</td>\n",
       "      <td>120</td>\n",
       "      <td>3473</td>\n",
       "      <td>341974</td>\n",
       "      <td>0</td>\n",
       "      <td>0</td>\n",
       "      <td>120</td>\n",
       "      <td>0</td>\n",
       "      <td>3204448256</td>\n",
       "      <td>380690</td>\n",
       "      <td>4</td>\n",
       "      <td>0</td>\n",
       "      <td>0</td>\n",
       "      <td>0</td>\n",
       "    </tr>\n",
       "    <tr>\n",
       "      <th>3</th>\n",
       "      <td>42fb5e2ec009a05ff5143227297074f1e9c6c3ebb9c914e223349672eca79ad0</td>\n",
       "      <td>3</td>\n",
       "      <td>malware</td>\n",
       "      <td>Ubuntu</td>\n",
       "      <td>0</td>\n",
       "      <td>0</td>\n",
       "      <td>3069378560</td>\n",
       "      <td>14274</td>\n",
       "      <td>0</td>\n",
       "      <td>0</td>\n",
       "      <td>0</td>\n",
       "      <td>13173</td>\n",
       "      <td>0</td>\n",
       "      <td>0</td>\n",
       "      <td>24</td>\n",
       "      <td>724</td>\n",
       "      <td>6850</td>\n",
       "      <td>0</td>\n",
       "      <td>150</td>\n",
       "      <td>120</td>\n",
       "      <td>124</td>\n",
       "      <td>210</td>\n",
       "      <td>0</td>\n",
       "      <td>120</td>\n",
       "      <td>3473</td>\n",
       "      <td>341974</td>\n",
       "      <td>0</td>\n",
       "      <td>0</td>\n",
       "      <td>120</td>\n",
       "      <td>0</td>\n",
       "      <td>3204448256</td>\n",
       "      <td>380690</td>\n",
       "      <td>4</td>\n",
       "      <td>0</td>\n",
       "      <td>0</td>\n",
       "      <td>0</td>\n",
       "    </tr>\n",
       "    <tr>\n",
       "      <th>4</th>\n",
       "      <td>42fb5e2ec009a05ff5143227297074f1e9c6c3ebb9c914e223349672eca79ad0</td>\n",
       "      <td>4</td>\n",
       "      <td>malware</td>\n",
       "      <td>Mac</td>\n",
       "      <td>0</td>\n",
       "      <td>0</td>\n",
       "      <td>3069378560</td>\n",
       "      <td>14274</td>\n",
       "      <td>0</td>\n",
       "      <td>0</td>\n",
       "      <td>0</td>\n",
       "      <td>13173</td>\n",
       "      <td>0</td>\n",
       "      <td>0</td>\n",
       "      <td>24</td>\n",
       "      <td>724</td>\n",
       "      <td>6850</td>\n",
       "      <td>0</td>\n",
       "      <td>150</td>\n",
       "      <td>120</td>\n",
       "      <td>124</td>\n",
       "      <td>210</td>\n",
       "      <td>0</td>\n",
       "      <td>120</td>\n",
       "      <td>3473</td>\n",
       "      <td>341974</td>\n",
       "      <td>0</td>\n",
       "      <td>0</td>\n",
       "      <td>120</td>\n",
       "      <td>0</td>\n",
       "      <td>3204448256</td>\n",
       "      <td>380690</td>\n",
       "      <td>4</td>\n",
       "      <td>0</td>\n",
       "      <td>0</td>\n",
       "      <td>0</td>\n",
       "    </tr>\n",
       "  </tbody>\n",
       "</table>"
      ],
      "text/plain": [
       "<IPython.core.display.HTML object>"
      ]
     },
     "metadata": {},
     "output_type": "display_data"
    }
   ],
   "source": [
    "df = pd.read_csv('malware_MultiClass.csv')\n",
    "\n",
    "# print out and display dataframe as tables in HTML\n",
    "display(HTML(df.head(5).to_html()))"
   ]
  },
  {
   "cell_type": "code",
   "execution_count": 5,
   "id": "9114539e-0372-4133-a02c-05a691a8ab1c",
   "metadata": {},
   "outputs": [
    {
     "name": "stdout",
     "output_type": "stream",
     "text": [
      "Size of the database : (100000, 36)\n"
     ]
    }
   ],
   "source": [
    "print(f'Size of the database : {df.shape}')"
   ]
  },
  {
   "cell_type": "markdown",
   "id": "b7cdcd49-363b-4109-9b64-3a300f440d15",
   "metadata": {},
   "source": [
    "### Detecting Missing Values (null) values in any columns"
   ]
  },
  {
   "cell_type": "code",
   "execution_count": 6,
   "id": "b21dd45c-ec7f-4162-9d88-72f65f218dba",
   "metadata": {},
   "outputs": [
    {
     "name": "stdout",
     "output_type": "stream",
     "text": [
      "Feature             null /Samples    Unique_Values      DataType\n",
      "**************************************************\n",
      "hash                 : 0/100000     :     100     :   object\n",
      "millisecond          : 0/100000     :    1000     :   int64\n",
      "classification       : 0/100000     :       3     :   object\n",
      "os                   : 0/100000     :       5     :   object\n",
      "state                : 0/100000     :     304     :   int64\n",
      "usage_counter        : 0/100000     :       1     :   int64\n",
      "prio                 : 0/100000     :      85     :   int64\n",
      "static_prio          : 0/100000     :     271     :   int64\n",
      "normal_prio          : 0/100000     :       1     :   int64\n",
      "policy               : 0/100000     :       1     :   int64\n",
      "vm_pgoff             : 0/100000     :       1     :   int64\n",
      "vm_truncate_count    : 0/100000     :    2813     :   int64\n",
      "task_size            : 0/100000     :       1     :   int64\n",
      "cached_hole_size     : 0/100000     :       1     :   int64\n",
      "free_area_cache      : 0/100000     :     310     :   int64\n",
      "mm_users             : 0/100000     :     373     :   int64\n",
      "map_count            : 0/100000     :   10578     :   int64\n",
      "hiwater_rss          : 0/100000     :       1     :   int64\n",
      "total_vm             : 0/100000     :    1850     :   int64\n",
      "shared_vm            : 0/100000     :       3     :   int64\n",
      "exec_vm              : 0/100000     :     105     :   int64\n",
      "reserved_vm          : 0/100000     :     725     :   int64\n",
      "nr_ptes              : 0/100000     :       1     :   int64\n",
      "end_data             : 0/100000     :       3     :   int64\n",
      "last_interval        : 0/100000     :      67     :   int64\n",
      "nvcsw                : 0/100000     :    3994     :   int64\n",
      "nivcsw               : 0/100000     :     150     :   int64\n",
      "min_flt              : 0/100000     :       5     :   int64\n",
      "maj_flt              : 0/100000     :       3     :   int64\n",
      "fs_excl_counter      : 0/100000     :      12     :   int64\n",
      "lock                 : 0/100000     :       1     :   int64\n",
      "utime                : 0/100000     :    5547     :   int64\n",
      "stime                : 0/100000     :       5     :   int64\n",
      "gtime                : 0/100000     :      16     :   int64\n",
      "cgtime               : 0/100000     :       1     :   int64\n",
      "signal_nvcsw         : 0/100000     :       1     :   int64\n"
     ]
    }
   ],
   "source": [
    "print('Feature             null /Samples    Unique_Values      DataType')\n",
    "print(\"*\"*50)\n",
    "for name in df.columns:\n",
    "    print(f'{name:20} : {df[name].isna().sum()}/{df.shape[0]}     :   {df[name].nunique():5}     :   {df[name].dtypes}')"
   ]
  },
  {
   "cell_type": "code",
   "execution_count": 7,
   "id": "6605d29f-f2fe-40de-98e6-374afb83d6b8",
   "metadata": {},
   "outputs": [],
   "source": [
    "# removning missing value if found\n",
    "df.dropna(inplace=True)"
   ]
  },
  {
   "cell_type": "markdown",
   "id": "e4c597f7-a872-4dc7-a105-2e1b24b3f142",
   "metadata": {},
   "source": [
    "<span style=\"color:blue\"> **In the above list, many columns have only one unique value. So we can definitely remove those columns for classifications.** </span>.\n",
    "    \n",
    "    - usage_counter\n",
    "    - normal_prio\n",
    "    - policy\n",
    "    - vm_pgoff\n",
    "    - task_size\n",
    "    - cached_hole_size\n",
    "    - hiwater_rss\n",
    "    - nr_ptes\n",
    "    - lock\n",
    "    - cgtime\n",
    "    - signal_nvcsw                                                                                                       \n",
    "                                                                                                        "
   ]
  },
  {
   "cell_type": "markdown",
   "id": "620d009d-e209-4a09-8925-515143ad07a3",
   "metadata": {},
   "source": [
    "<span style=\"color:blue\"> **In the column list, hash and milliseconds has no meaning related to the data. So we can definitely remove those columns for classifications.** </span>\n",
    "\n",
    "    - hash\n",
    "    - millisecond"
   ]
  },
  {
   "cell_type": "code",
   "execution_count": 8,
   "id": "e9ba62c2-41ed-4612-81d2-578e50a87c97",
   "metadata": {},
   "outputs": [],
   "source": [
    "df.drop(['hash','millisecond' ],axis=1,inplace=True) "
   ]
  },
  {
   "cell_type": "code",
   "execution_count": 9,
   "id": "4efdf341-400c-4b78-a403-ec9f49940c53",
   "metadata": {},
   "outputs": [
    {
     "name": "stdout",
     "output_type": "stream",
     "text": [
      "Number of Columns after dropping same value columns: 34\n",
      "Feature        DataType\n",
      "**************************************************\n",
      "classification       :  object\n",
      "os                   :  object\n",
      "state                :  int64\n",
      "usage_counter        :  int64\n",
      "prio                 :  int64\n",
      "static_prio          :  int64\n",
      "normal_prio          :  int64\n",
      "policy               :  int64\n",
      "vm_pgoff             :  int64\n",
      "vm_truncate_count    :  int64\n",
      "task_size            :  int64\n",
      "cached_hole_size     :  int64\n",
      "free_area_cache      :  int64\n",
      "mm_users             :  int64\n",
      "map_count            :  int64\n",
      "hiwater_rss          :  int64\n",
      "total_vm             :  int64\n",
      "shared_vm            :  int64\n",
      "exec_vm              :  int64\n",
      "reserved_vm          :  int64\n",
      "nr_ptes              :  int64\n",
      "end_data             :  int64\n",
      "last_interval        :  int64\n",
      "nvcsw                :  int64\n",
      "nivcsw               :  int64\n",
      "min_flt              :  int64\n",
      "maj_flt              :  int64\n",
      "fs_excl_counter      :  int64\n",
      "lock                 :  int64\n",
      "utime                :  int64\n",
      "stime                :  int64\n",
      "gtime                :  int64\n",
      "cgtime               :  int64\n",
      "signal_nvcsw         :  int64\n"
     ]
    }
   ],
   "source": [
    "print(f'Number of Columns after dropping same value columns: {df.shape[1]}')\n",
    "print('Feature        DataType')\n",
    "print(\"*\"*50)\n",
    "for name in df.columns:\n",
    "    print(f'{name:20} :  {df[name].dtypes}')"
   ]
  },
  {
   "cell_type": "markdown",
   "id": "699187b0-ab35-4338-a87a-11fa00de7d38",
   "metadata": {},
   "source": [
    "### Data Processing and Transform for categorical indepenedent  variables"
   ]
  },
  {
   "cell_type": "code",
   "execution_count": 10,
   "id": "cf831403-167f-4440-bf2e-50f655e55c5f",
   "metadata": {},
   "outputs": [],
   "source": [
    "# copy the data frame\n",
    "ndf = df.copy(deep=True)"
   ]
  },
  {
   "cell_type": "code",
   "execution_count": 11,
   "id": "5c441dd6-a6cd-4541-82a9-d2f16e734388",
   "metadata": {},
   "outputs": [],
   "source": [
    "# Converting os categorical variable as one hot encoding with get_dummies\n",
    "o =  pd.get_dummies(ndf['os'])\n",
    "ndf = pd.concat([ndf, o],axis=1)"
   ]
  },
  {
   "cell_type": "code",
   "execution_count": 12,
   "id": "d2727ff9-8401-48f3-bfbc-36a96c8ccdb2",
   "metadata": {},
   "outputs": [],
   "source": [
    "ndf.drop(['os'], axis=1,inplace=True)"
   ]
  },
  {
   "cell_type": "markdown",
   "id": "f715db26-3f9e-4f40-940d-052c895c808d",
   "metadata": {},
   "source": [
    "### Performing Label endcoding for classification"
   ]
  },
  {
   "cell_type": "code",
   "execution_count": 13,
   "id": "1edeb125-48e7-4d71-8a87-929cb32041db",
   "metadata": {},
   "outputs": [],
   "source": [
    "# encode labels for \n",
    "le = preprocessing.LabelEncoder()\n",
    "z = ndf['classification'] \n",
    "le.fit(z)\n",
    "z_encoded = le.transform(z)\n",
    "ndf['classification'] = z_encoded"
   ]
  },
  {
   "cell_type": "code",
   "execution_count": 14,
   "id": "d4364f5c-8c71-4397-af30-27ec9a10c5e7",
   "metadata": {},
   "outputs": [
    {
     "data": {
      "text/html": [
       "<table border=\"1\" class=\"dataframe\">\n",
       "  <thead>\n",
       "    <tr style=\"text-align: right;\">\n",
       "      <th></th>\n",
       "      <th>classification</th>\n",
       "      <th>state</th>\n",
       "      <th>usage_counter</th>\n",
       "      <th>prio</th>\n",
       "      <th>static_prio</th>\n",
       "      <th>normal_prio</th>\n",
       "      <th>policy</th>\n",
       "      <th>vm_pgoff</th>\n",
       "      <th>vm_truncate_count</th>\n",
       "      <th>task_size</th>\n",
       "      <th>cached_hole_size</th>\n",
       "      <th>free_area_cache</th>\n",
       "      <th>mm_users</th>\n",
       "      <th>map_count</th>\n",
       "      <th>hiwater_rss</th>\n",
       "      <th>total_vm</th>\n",
       "      <th>shared_vm</th>\n",
       "      <th>exec_vm</th>\n",
       "      <th>reserved_vm</th>\n",
       "      <th>nr_ptes</th>\n",
       "      <th>end_data</th>\n",
       "      <th>last_interval</th>\n",
       "      <th>nvcsw</th>\n",
       "      <th>nivcsw</th>\n",
       "      <th>min_flt</th>\n",
       "      <th>maj_flt</th>\n",
       "      <th>fs_excl_counter</th>\n",
       "      <th>lock</th>\n",
       "      <th>utime</th>\n",
       "      <th>stime</th>\n",
       "      <th>gtime</th>\n",
       "      <th>cgtime</th>\n",
       "      <th>signal_nvcsw</th>\n",
       "      <th>CentOS</th>\n",
       "      <th>Debian</th>\n",
       "      <th>Mac</th>\n",
       "      <th>Ubuntu</th>\n",
       "      <th>Windows</th>\n",
       "    </tr>\n",
       "  </thead>\n",
       "  <tbody>\n",
       "    <tr>\n",
       "      <th>0</th>\n",
       "      <td>1</td>\n",
       "      <td>0</td>\n",
       "      <td>0</td>\n",
       "      <td>3069378560</td>\n",
       "      <td>14274</td>\n",
       "      <td>0</td>\n",
       "      <td>0</td>\n",
       "      <td>0</td>\n",
       "      <td>13173</td>\n",
       "      <td>0</td>\n",
       "      <td>0</td>\n",
       "      <td>24</td>\n",
       "      <td>724</td>\n",
       "      <td>6850</td>\n",
       "      <td>0</td>\n",
       "      <td>150</td>\n",
       "      <td>120</td>\n",
       "      <td>124</td>\n",
       "      <td>210</td>\n",
       "      <td>0</td>\n",
       "      <td>120</td>\n",
       "      <td>3473</td>\n",
       "      <td>341974</td>\n",
       "      <td>0</td>\n",
       "      <td>0</td>\n",
       "      <td>120</td>\n",
       "      <td>0</td>\n",
       "      <td>3204448256</td>\n",
       "      <td>380690</td>\n",
       "      <td>4</td>\n",
       "      <td>0</td>\n",
       "      <td>0</td>\n",
       "      <td>0</td>\n",
       "      <td>True</td>\n",
       "      <td>False</td>\n",
       "      <td>False</td>\n",
       "      <td>False</td>\n",
       "      <td>False</td>\n",
       "    </tr>\n",
       "    <tr>\n",
       "      <th>1</th>\n",
       "      <td>1</td>\n",
       "      <td>0</td>\n",
       "      <td>0</td>\n",
       "      <td>3069378560</td>\n",
       "      <td>14274</td>\n",
       "      <td>0</td>\n",
       "      <td>0</td>\n",
       "      <td>0</td>\n",
       "      <td>13173</td>\n",
       "      <td>0</td>\n",
       "      <td>0</td>\n",
       "      <td>24</td>\n",
       "      <td>724</td>\n",
       "      <td>6850</td>\n",
       "      <td>0</td>\n",
       "      <td>150</td>\n",
       "      <td>120</td>\n",
       "      <td>124</td>\n",
       "      <td>210</td>\n",
       "      <td>0</td>\n",
       "      <td>120</td>\n",
       "      <td>3473</td>\n",
       "      <td>341974</td>\n",
       "      <td>0</td>\n",
       "      <td>0</td>\n",
       "      <td>120</td>\n",
       "      <td>0</td>\n",
       "      <td>3204448256</td>\n",
       "      <td>380690</td>\n",
       "      <td>4</td>\n",
       "      <td>0</td>\n",
       "      <td>0</td>\n",
       "      <td>0</td>\n",
       "      <td>False</td>\n",
       "      <td>False</td>\n",
       "      <td>False</td>\n",
       "      <td>False</td>\n",
       "      <td>True</td>\n",
       "    </tr>\n",
       "    <tr>\n",
       "      <th>2</th>\n",
       "      <td>1</td>\n",
       "      <td>0</td>\n",
       "      <td>0</td>\n",
       "      <td>3069378560</td>\n",
       "      <td>14274</td>\n",
       "      <td>0</td>\n",
       "      <td>0</td>\n",
       "      <td>0</td>\n",
       "      <td>13173</td>\n",
       "      <td>0</td>\n",
       "      <td>0</td>\n",
       "      <td>24</td>\n",
       "      <td>724</td>\n",
       "      <td>6850</td>\n",
       "      <td>0</td>\n",
       "      <td>150</td>\n",
       "      <td>120</td>\n",
       "      <td>124</td>\n",
       "      <td>210</td>\n",
       "      <td>0</td>\n",
       "      <td>120</td>\n",
       "      <td>3473</td>\n",
       "      <td>341974</td>\n",
       "      <td>0</td>\n",
       "      <td>0</td>\n",
       "      <td>120</td>\n",
       "      <td>0</td>\n",
       "      <td>3204448256</td>\n",
       "      <td>380690</td>\n",
       "      <td>4</td>\n",
       "      <td>0</td>\n",
       "      <td>0</td>\n",
       "      <td>0</td>\n",
       "      <td>False</td>\n",
       "      <td>False</td>\n",
       "      <td>True</td>\n",
       "      <td>False</td>\n",
       "      <td>False</td>\n",
       "    </tr>\n",
       "    <tr>\n",
       "      <th>3</th>\n",
       "      <td>1</td>\n",
       "      <td>0</td>\n",
       "      <td>0</td>\n",
       "      <td>3069378560</td>\n",
       "      <td>14274</td>\n",
       "      <td>0</td>\n",
       "      <td>0</td>\n",
       "      <td>0</td>\n",
       "      <td>13173</td>\n",
       "      <td>0</td>\n",
       "      <td>0</td>\n",
       "      <td>24</td>\n",
       "      <td>724</td>\n",
       "      <td>6850</td>\n",
       "      <td>0</td>\n",
       "      <td>150</td>\n",
       "      <td>120</td>\n",
       "      <td>124</td>\n",
       "      <td>210</td>\n",
       "      <td>0</td>\n",
       "      <td>120</td>\n",
       "      <td>3473</td>\n",
       "      <td>341974</td>\n",
       "      <td>0</td>\n",
       "      <td>0</td>\n",
       "      <td>120</td>\n",
       "      <td>0</td>\n",
       "      <td>3204448256</td>\n",
       "      <td>380690</td>\n",
       "      <td>4</td>\n",
       "      <td>0</td>\n",
       "      <td>0</td>\n",
       "      <td>0</td>\n",
       "      <td>False</td>\n",
       "      <td>False</td>\n",
       "      <td>False</td>\n",
       "      <td>True</td>\n",
       "      <td>False</td>\n",
       "    </tr>\n",
       "    <tr>\n",
       "      <th>4</th>\n",
       "      <td>1</td>\n",
       "      <td>0</td>\n",
       "      <td>0</td>\n",
       "      <td>3069378560</td>\n",
       "      <td>14274</td>\n",
       "      <td>0</td>\n",
       "      <td>0</td>\n",
       "      <td>0</td>\n",
       "      <td>13173</td>\n",
       "      <td>0</td>\n",
       "      <td>0</td>\n",
       "      <td>24</td>\n",
       "      <td>724</td>\n",
       "      <td>6850</td>\n",
       "      <td>0</td>\n",
       "      <td>150</td>\n",
       "      <td>120</td>\n",
       "      <td>124</td>\n",
       "      <td>210</td>\n",
       "      <td>0</td>\n",
       "      <td>120</td>\n",
       "      <td>3473</td>\n",
       "      <td>341974</td>\n",
       "      <td>0</td>\n",
       "      <td>0</td>\n",
       "      <td>120</td>\n",
       "      <td>0</td>\n",
       "      <td>3204448256</td>\n",
       "      <td>380690</td>\n",
       "      <td>4</td>\n",
       "      <td>0</td>\n",
       "      <td>0</td>\n",
       "      <td>0</td>\n",
       "      <td>False</td>\n",
       "      <td>False</td>\n",
       "      <td>True</td>\n",
       "      <td>False</td>\n",
       "      <td>False</td>\n",
       "    </tr>\n",
       "  </tbody>\n",
       "</table>"
      ],
      "text/plain": [
       "<IPython.core.display.HTML object>"
      ]
     },
     "metadata": {},
     "output_type": "display_data"
    }
   ],
   "source": [
    "# print out and display dataframe as tables in HTML\n",
    "display(HTML(ndf.head(5).to_html()))"
   ]
  },
  {
   "cell_type": "code",
   "execution_count": 21,
   "id": "97e3d970-ae86-4f63-ba4f-e7242aa50033",
   "metadata": {},
   "outputs": [
    {
     "data": {
      "text/plain": [
       "(100000, 38)"
      ]
     },
     "execution_count": 21,
     "metadata": {},
     "output_type": "execute_result"
    }
   ],
   "source": [
    "ndf.shape"
   ]
  },
  {
   "cell_type": "code",
   "execution_count": 15,
   "id": "eff1cfdb-01dc-4d4a-bbab-2688f7d77e22",
   "metadata": {},
   "outputs": [
    {
     "data": {
      "text/plain": [
       "Text(0.5, 1.0, 'Multi class statuses of 100000 Observations')"
      ]
     },
     "execution_count": 15,
     "metadata": {},
     "output_type": "execute_result"
    },
    {
     "data": {
      "image/png": "[encoded data removed]",
      "text/plain": [
       "<Figure size 400x400 with 1 Axes>"
      ]
     },
     "metadata": {},
     "output_type": "display_data"
    }
   ],
   "source": [
    "axes = ndf.classification.value_counts().plot.pie(autopct='%1.1f%%', fontsize=12, figsize=(4,4))\n",
    "axes.set_title(\"Multi class statuses of {} Observations\".format(ndf.shape[0]), fontsize=12)"
   ]
  },
  {
   "cell_type": "markdown",
   "id": "09cd2462-70df-48a6-ad92-7297f80df9cb",
   "metadata": {},
   "source": [
    "There are three class presents :\n",
    "\n",
    "    - 0 : Maleware : 49871\n",
    "    - 1 : Benign   : 49858\n",
    "    - 2 : unknown  : 271"
   ]
  },
  {
   "cell_type": "markdown",
   "id": "d525925b-0481-402e-8de4-976326b6fee8",
   "metadata": {},
   "source": [
    "### Assigning the independent variables as feature vector X and dependent variable as Y 'classification'"
   ]
  },
  {
   "cell_type": "code",
   "execution_count": 16,
   "id": "54f1653f-363a-4b6a-89b6-e952786fb1fe",
   "metadata": {},
   "outputs": [],
   "source": [
    "X = ndf.drop(['classification'],axis=1)\n",
    "y = ndf['classification']\n",
    "\n",
    "# Split the data into training and testing sets\n",
    "X_train, X_test, y_train, y_test = train_test_split(X, y, test_size=0.3, random_state=42, stratify=y)"
   ]
  },
  {
   "cell_type": "code",
   "execution_count": 17,
   "id": "fe82af8f-b576-4345-aa0e-963f03609914",
   "metadata": {},
   "outputs": [],
   "source": [
    "# Buiding Logistic Regression Model with OneVsRest Classifier and OneVsOneClassifier\n",
    "clf = LogisticRegression(solver='liblinear')"
   ]
  },
  {
   "cell_type": "code",
   "execution_count": 93,
   "id": "0eb0a021-3209-40b6-b979-b7d0bd35a9ef",
   "metadata": {},
   "outputs": [
    {
     "data": {
      "text/html": [
       "<style>#sk-container-id-2 {color: black;}#sk-container-id-2 pre{padding: 0;}#sk-container-id-2 div.sk-toggleable {background-color: white;}#sk-container-id-2 label.sk-toggleable__label {cursor: pointer;display: block;width: 100%;margin-bottom: 0;padding: 0.3em;box-sizing: border-box;text-align: center;}#sk-container-id-2 label.sk-toggleable__label-arrow:before {content: \"▸\";float: left;margin-right: 0.25em;color: #696969;}#sk-container-id-2 label.sk-toggleable__label-arrow:hover:before {color: black;}#sk-container-id-2 div.sk-estimator:hover label.sk-toggleable__label-arrow:before {color: black;}#sk-container-id-2 div.sk-toggleable__content {max-height: 0;max-width: 0;overflow: hidden;text-align: left;background-color: #f0f8ff;}#sk-container-id-2 div.sk-toggleable__content pre {margin: 0.2em;color: black;border-radius: 0.25em;background-color: #f0f8ff;}#sk-container-id-2 input.sk-toggleable__control:checked~div.sk-toggleable__content {max-height: 200px;max-width: 100%;overflow: auto;}#sk-container-id-2 input.sk-toggleable__control:checked~label.sk-toggleable__label-arrow:before {content: \"▾\";}#sk-container-id-2 div.sk-estimator input.sk-toggleable__control:checked~label.sk-toggleable__label {background-color: #d4ebff;}#sk-container-id-2 div.sk-label input.sk-toggleable__control:checked~label.sk-toggleable__label {background-color: #d4ebff;}#sk-container-id-2 input.sk-hidden--visually {border: 0;clip: rect(1px 1px 1px 1px);clip: rect(1px, 1px, 1px, 1px);height: 1px;margin: -1px;overflow: hidden;padding: 0;position: absolute;width: 1px;}#sk-container-id-2 div.sk-estimator {font-family: monospace;background-color: #f0f8ff;border: 1px dotted black;border-radius: 0.25em;box-sizing: border-box;margin-bottom: 0.5em;}#sk-container-id-2 div.sk-estimator:hover {background-color: #d4ebff;}#sk-container-id-2 div.sk-parallel-item::after {content: \"\";width: 100%;border-bottom: 1px solid gray;flex-grow: 1;}#sk-container-id-2 div.sk-label:hover label.sk-toggleable__label {background-color: #d4ebff;}#sk-container-id-2 div.sk-serial::before {content: \"\";position: absolute;border-left: 1px solid gray;box-sizing: border-box;top: 0;bottom: 0;left: 50%;z-index: 0;}#sk-container-id-2 div.sk-serial {display: flex;flex-direction: column;align-items: center;background-color: white;padding-right: 0.2em;padding-left: 0.2em;position: relative;}#sk-container-id-2 div.sk-item {position: relative;z-index: 1;}#sk-container-id-2 div.sk-parallel {display: flex;align-items: stretch;justify-content: center;background-color: white;position: relative;}#sk-container-id-2 div.sk-item::before, #sk-container-id-2 div.sk-parallel-item::before {content: \"\";position: absolute;border-left: 1px solid gray;box-sizing: border-box;top: 0;bottom: 0;left: 50%;z-index: -1;}#sk-container-id-2 div.sk-parallel-item {display: flex;flex-direction: column;z-index: 1;position: relative;background-color: white;}#sk-container-id-2 div.sk-parallel-item:first-child::after {align-self: flex-end;width: 50%;}#sk-container-id-2 div.sk-parallel-item:last-child::after {align-self: flex-start;width: 50%;}#sk-container-id-2 div.sk-parallel-item:only-child::after {width: 0;}#sk-container-id-2 div.sk-dashed-wrapped {border: 1px dashed gray;margin: 0 0.4em 0.5em 0.4em;box-sizing: border-box;padding-bottom: 0.4em;background-color: white;}#sk-container-id-2 div.sk-label label {font-family: monospace;font-weight: bold;display: inline-block;line-height: 1.2em;}#sk-container-id-2 div.sk-label-container {text-align: center;}#sk-container-id-2 div.sk-container {/* jupyter's `normalize.less` sets `[hidden] { display: none; }` but bootstrap.min.css set `[hidden] { display: none !important; }` so we also need the `!important` here to be able to override the default hidden behavior on the sphinx rendered scikit-learn.org. See: https://github.com/scikit-learn/scikit-learn/issues/21755 */display: inline-block !important;position: relative;}#sk-container-id-2 div.sk-text-repr-fallback {display: none;}</style><div id=\"sk-container-id-2\" class=\"sk-top-container\"><div class=\"sk-text-repr-fallback\"><pre>GridSearchCV(cv=5, estimator=LogisticRegression(solver=&#x27;liblinear&#x27;),\n",
       "             param_grid={&#x27;C&#x27;: [0.001, 0.01, 0.1, 1, 10],\n",
       "                         &#x27;max_iter&#x27;: [100, 200, 300]},\n",
       "             scoring=&#x27;accuracy&#x27;)</pre><b>In a Jupyter environment, please rerun this cell to show the HTML representation or trust the notebook. <br />On GitHub, the HTML representation is unable to render, please try loading this page with nbviewer.org.</b></div><div class=\"sk-container\" hidden><div class=\"sk-item sk-dashed-wrapped\"><div class=\"sk-label-container\"><div class=\"sk-label sk-toggleable\"><input class=\"sk-toggleable__control sk-hidden--visually\" id=\"sk-estimator-id-4\" type=\"checkbox\" ><label for=\"sk-estimator-id-4\" class=\"sk-toggleable__label sk-toggleable__label-arrow\">GridSearchCV</label><div class=\"sk-toggleable__content\"><pre>GridSearchCV(cv=5, estimator=LogisticRegression(solver=&#x27;liblinear&#x27;),\n",
       "             param_grid={&#x27;C&#x27;: [0.001, 0.01, 0.1, 1, 10],\n",
       "                         &#x27;max_iter&#x27;: [100, 200, 300]},\n",
       "             scoring=&#x27;accuracy&#x27;)</pre></div></div></div><div class=\"sk-parallel\"><div class=\"sk-parallel-item\"><div class=\"sk-item\"><div class=\"sk-label-container\"><div class=\"sk-label sk-toggleable\"><input class=\"sk-toggleable__control sk-hidden--visually\" id=\"sk-estimator-id-5\" type=\"checkbox\" ><label for=\"sk-estimator-id-5\" class=\"sk-toggleable__label sk-toggleable__label-arrow\">estimator: LogisticRegression</label><div class=\"sk-toggleable__content\"><pre>LogisticRegression(solver=&#x27;liblinear&#x27;)</pre></div></div></div><div class=\"sk-serial\"><div class=\"sk-item\"><div class=\"sk-estimator sk-toggleable\"><input class=\"sk-toggleable__control sk-hidden--visually\" id=\"sk-estimator-id-6\" type=\"checkbox\" ><label for=\"sk-estimator-id-6\" class=\"sk-toggleable__label sk-toggleable__label-arrow\">LogisticRegression</label><div class=\"sk-toggleable__content\"><pre>LogisticRegression(solver=&#x27;liblinear&#x27;)</pre></div></div></div></div></div></div></div></div></div></div>"
      ],
      "text/plain": [
       "GridSearchCV(cv=5, estimator=LogisticRegression(solver='liblinear'),\n",
       "             param_grid={'C': [0.001, 0.01, 0.1, 1, 10],\n",
       "                         'max_iter': [100, 200, 300]},\n",
       "             scoring='accuracy')"
      ]
     },
     "execution_count": 93,
     "metadata": {},
     "output_type": "execute_result"
    }
   ],
   "source": [
    "parameters = {\n",
    " 'C': [0.001, 0.01, 0.1, 1, 10],\n",
    " 'max_iter': [100, 200, 300],\n",
    "}\n",
    "\n",
    "# Perform grid search with cross-validation\n",
    "grid_search = GridSearchCV(estimator=clf, param_grid=parameters, cv=5, scoring='accuracy')\n",
    "grid_search.fit(X_train, y_train)"
   ]
  },
  {
   "cell_type": "code",
   "execution_count": 94,
   "id": "d8402ea9-deb6-4d42-b869-a9218f603f4c",
   "metadata": {},
   "outputs": [
    {
     "name": "stdout",
     "output_type": "stream",
     "text": [
      "Best Parameter : {'C': 0.1, 'max_iter': 100}\n",
      "Estimator model = LogisticRegression(C=0.1, solver='liblinear')\n"
     ]
    }
   ],
   "source": [
    "# Get the best parameters and estimator\n",
    "print(f'Best Parameter : {grid_search.best_params_}')\n",
    "print(f'Estimator model = {grid_search.best_estimator_}')"
   ]
  },
  {
   "cell_type": "code",
   "execution_count": 18,
   "id": "9c1864df-3fde-444f-a9de-90483fc5342c",
   "metadata": {},
   "outputs": [],
   "source": [
    "# performing cross validation with 5 fold \n",
    "cv = KFold(n_splits=5, shuffle=True, random_state=12)"
   ]
  },
  {
   "cell_type": "code",
   "execution_count": 19,
   "id": "b2e2ed38-a619-4570-81b8-5be7053e2d72",
   "metadata": {},
   "outputs": [],
   "source": [
    "logisticmodel = LogisticRegression(C=0.1,solver='liblinear')"
   ]
  },
  {
   "cell_type": "code",
   "execution_count": 97,
   "id": "2c8b6f79-9f55-42da-9bba-7473ee321c86",
   "metadata": {},
   "outputs": [],
   "source": [
    "#help(LogisticRegression)"
   ]
  },
  {
   "cell_type": "markdown",
   "id": "d4ec5406-bbb7-4148-977e-cc21e1bd6b04",
   "metadata": {},
   "source": [
    "## 1. Model Building using All features with Logistic Regression"
   ]
  },
  {
   "cell_type": "code",
   "execution_count": 20,
   "id": "58527678-ea4d-4ed7-97e6-d7f84bd5d55f",
   "metadata": {},
   "outputs": [
    {
     "name": "stdout",
     "output_type": "stream",
     "text": [
      "Logistic Regression Model with All features:\n",
      "\tAccuracy  : 0.712\n",
      "\tF1-Score  : 0.709\n",
      "\tAUC_Score for OVR : 0.803\n",
      "\tAUC_Score for OVO : 0.704\n"
     ]
    }
   ],
   "source": [
    "print(f'Logistic Regression Model with All features:')\n",
    "\n",
    "accuracy = cross_val_score(logisticmodel, X, y, cv=cv, scoring='accuracy')\n",
    "f1score = cross_val_score(logisticmodel, X, y, cv=cv, scoring='f1_weighted')\n",
    "ovr = cross_val_score(logisticmodel, X, y, cv=cv, scoring='roc_auc_ovr_weighted')\n",
    "ovo = cross_val_score(logisticmodel, X, y, cv=cv, scoring='roc_auc_ovo_weighted')\n",
    "print(f'\\tAccuracy  : {accuracy.mean():0.3f}')\n",
    "print(f'\\tF1-Score  : {f1score.mean():0.3f}')\n",
    "print(f'\\tAUC_Score for OVR : {ovr.mean():0.3f}')\n",
    "print(f'\\tAUC_Score for OVO : {ovo.mean():0.3f}')"
   ]
  },
  {
   "cell_type": "markdown",
   "id": "4882e276-3ac1-42e5-8284-5e7bdf20fdcd",
   "metadata": {},
   "source": [
    "## 2. Model Building using one Feature selection Logisitic Regression"
   ]
  },
  {
   "cell_type": "code",
   "execution_count": 23,
   "id": "5a4d86ac-df4b-4b4a-901e-900cb2fde867",
   "metadata": {},
   "outputs": [],
   "source": [
    "# using k_best_selector using f_classif annova scoring function\n",
    "kselector = SelectKBest(f_classif, k=12) # tried varying k value, and got height F1 score at k=12\n",
    "Xselected = kselector.fit_transform(X, y)"
   ]
  },
  {
   "cell_type": "code",
   "execution_count": 24,
   "id": "4e2d2532-b98f-4c76-9e33-147050316f69",
   "metadata": {},
   "outputs": [
    {
     "name": "stdout",
     "output_type": "stream",
     "text": [
      "Logistic Regression with one feature selection:\n",
      "\tAccuracy  : 0.847\n",
      "\tF1-Score  : 0.846\n",
      "\tAUC_Score for OVR : 0.894\n",
      "\tAUC_Score for OVO : 0.794\n"
     ]
    }
   ],
   "source": [
    "print(f'Logistic Regression with one feature selection:')\n",
    "\n",
    "accuracy = cross_val_score(logisticmodel, Xselected, y, cv=cv, scoring='accuracy')\n",
    "f1score = cross_val_score(logisticmodel, Xselected, y, cv=cv, scoring='f1_weighted')\n",
    "ovr = cross_val_score(logisticmodel, Xselected, y, cv=cv, scoring='roc_auc_ovr_weighted')\n",
    "ovo = cross_val_score(logisticmodel, Xselected, y, cv=cv, scoring='roc_auc_ovo_weighted')\n",
    "print(f'\\tAccuracy  : {accuracy.mean():0.3f}')\n",
    "print(f'\\tF1-Score  : {f1score.mean():0.3f}')\n",
    "print(f'\\tAUC_Score for OVR : {ovr.mean():0.3f}')\n",
    "print(f'\\tAUC_Score for OVO : {ovo.mean():0.3f}')"
   ]
  },
  {
   "cell_type": "markdown",
   "id": "9c247945-09fb-44d1-9c9a-ee12ba6313d5",
   "metadata": {},
   "source": [
    "## 3. Model Building using PCA with Logisitic Regression"
   ]
  },
  {
   "cell_type": "code",
   "execution_count": 26,
   "id": "09c00432-f8c0-48a9-b65d-453c1ac474cb",
   "metadata": {},
   "outputs": [],
   "source": [
    "model =  Pipeline([('Scaling', preprocessing.StandardScaler()),('PCA', PCA(n_components=12)), ('Logistic Regression', logisticmodel)])"
   ]
  },
  {
   "cell_type": "code",
   "execution_count": 27,
   "id": "07baa0cd-8e36-4607-ae93-1f0bc80c9aab",
   "metadata": {},
   "outputs": [
    {
     "name": "stdout",
     "output_type": "stream",
     "text": [
      "Logistic Regression with PCA :\n",
      "\tAccuracy  : 0.864\n",
      "\tF1-Score  : 0.863\n",
      "\tAUC_Score for OVR : 0.934\n",
      "\tAUC_Score for OVO : 0.837\n"
     ]
    }
   ],
   "source": [
    "print(f'Logistic Regression with PCA :')\n",
    "\n",
    "accuracy = cross_val_score(model, X, y, cv=cv, scoring='accuracy')\n",
    "f1score = cross_val_score(model, X, y, cv=cv, scoring='f1_weighted')\n",
    "ovr = cross_val_score(model, X, y, cv=cv, scoring='roc_auc_ovr_weighted')\n",
    "ovo = cross_val_score(model, X, y, cv=cv, scoring='roc_auc_ovo_weighted')\n",
    "print(f'\\tAccuracy  : {accuracy.mean():0.3f}')\n",
    "print(f'\\tF1-Score  : {f1score.mean():0.3f}')\n",
    "print(f'\\tAUC_Score for OVR : {ovr.mean():0.3f}')\n",
    "print(f'\\tAUC_Score for OVO : {ovo.mean():0.3f}')"
   ]
  },
  {
   "cell_type": "markdown",
   "id": "2dcb8592-dde3-4940-ba48-26d169a46030",
   "metadata": {},
   "source": [
    "## **Conclusion**"
   ]
  },
  {
   "cell_type": "markdown",
   "id": "b5ae45d8-e240-4ea3-bc68-26336232e804",
   "metadata": {},
   "source": [
    "**In this homework, I have built the model with three different ways :**\n",
    "\n",
    "    - all features\n",
    "    - select k features by using one feature selection method\n",
    "    - using Principal Component Analysis (PCA)\n",
    "\n",
    "I have built a Logistic Regression classifier with a 'liblinear' kernel with C=0.1, which OneVsRest Classifier uses for multi-class classification and OneVsOneClassifier for Multi-class classification. By utilizing the PCA approach with Dimension Reduction and got the highest Accuracy as (86.4%) and F1_weighted_Score (86.3) and AUC score Score as for OVR (93.1%) and OVO (83.7%)."
   ]
  }
 ],
 "metadata": {
  "kernelspec": {
   "display_name": "Python 3 (ipykernel)",
   "language": "python",
   "name": "python3"
  },
  "language_info": {
   "codemirror_mode": {
    "name": "ipython",
    "version": 3
   },
   "file_extension": ".py",
   "mimetype": "text/x-python",
   "name": "python",
   "nbconvert_exporter": "python",
   "pygments_lexer": "ipython3",
   "version": "3.9.6"
  }
 },
 "nbformat": 4,
 "nbformat_minor": 5
}
