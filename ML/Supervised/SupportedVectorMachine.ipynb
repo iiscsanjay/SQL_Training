{
 "cells": [
  {
   "cell_type": "code",
   "execution_count": 1,
   "id": "7dae657a-dbfd-4d71-a7d7-23b2eb2bdf89",
   "metadata": {},
   "outputs": [],
   "source": [
    "import warnings\n",
    "warnings.filterwarnings(\"ignore\")\n",
    "\n",
    "import matplotlib.pyplot as plt\n",
    "import pandas as pd\n",
    "import numpy as np\n",
    "import kaggle\n",
    "\n",
    "from sklearn.preprocessing import LabelEncoder\n",
    "from sklearn.preprocessing import OneHotEncoder\n",
    "from sklearn.preprocessing import OrdinalEncoder\n",
    "\n",
    "\n",
    "from sklearn.pipeline import make_pipeline\n",
    "\n",
    "# Univariate Feature Selection\n",
    "from sklearn.feature_selection import SelectKBest\n",
    "from sklearn.feature_selection import f_classif\n",
    "\n",
    "# Recursive Feature Selection\n",
    "from sklearn.feature_selection import RFE\n",
    "\n",
    "# Feature Selection :PCA\n",
    "from sklearn.decomposition import PCA\n",
    "\n",
    "\n",
    "from sklearn import svm\n",
    "\n",
    "from sklearn.metrics import classification_report\n",
    "from sklearn.metrics import confusion_matrix\n",
    "\n",
    "from sklearn.model_selection import train_test_split"
   ]
  },
  {
   "cell_type": "code",
   "execution_count": 2,
   "id": "ed62146a-80c3-4289-bca0-074f14605559",
   "metadata": {},
   "outputs": [],
   "source": [
    "# MySelf\n",
    "data = \"/Users/sanjayk/Dropbox/Work/Careerera/Final/ML/data/\""
   ]
  },
  {
   "cell_type": "code",
   "execution_count": 3,
   "id": "f4f3639e-57d9-4618-abe4-ad71debd2236",
   "metadata": {},
   "outputs": [],
   "source": [
    "#Modify this path according to your system path : Where you kept ur python notebook file\n",
    "\n",
    "kaggle.api.authenticate()\n",
    "kaggle.api.dataset_download_files(\"ashydv/housing-dataset\", path=data, unzip=True)"
   ]
  },
  {
   "cell_type": "code",
   "execution_count": 4,
   "id": "ee88095c-7879-4242-b4a0-cde94cf528ca",
   "metadata": {},
   "outputs": [
    {
     "data": {
      "text/html": [
       "<div>\n",
       "<style scoped>\n",
       "    .dataframe tbody tr th:only-of-type {\n",
       "        vertical-align: middle;\n",
       "    }\n",
       "\n",
       "    .dataframe tbody tr th {\n",
       "        vertical-align: top;\n",
       "    }\n",
       "\n",
       "    .dataframe thead th {\n",
       "        text-align: right;\n",
       "    }\n",
       "</style>\n",
       "<table border=\"1\" class=\"dataframe\">\n",
       "  <thead>\n",
       "    <tr style=\"text-align: right;\">\n",
       "      <th></th>\n",
       "      <th>price</th>\n",
       "      <th>area</th>\n",
       "      <th>bedrooms</th>\n",
       "      <th>bathrooms</th>\n",
       "      <th>stories</th>\n",
       "      <th>mainroad</th>\n",
       "      <th>guestroom</th>\n",
       "      <th>basement</th>\n",
       "      <th>hotwaterheating</th>\n",
       "      <th>airconditioning</th>\n",
       "      <th>parking</th>\n",
       "      <th>prefarea</th>\n",
       "      <th>furnishingstatus</th>\n",
       "    </tr>\n",
       "  </thead>\n",
       "  <tbody>\n",
       "    <tr>\n",
       "      <th>0</th>\n",
       "      <td>13300000</td>\n",
       "      <td>7420</td>\n",
       "      <td>4</td>\n",
       "      <td>2</td>\n",
       "      <td>3</td>\n",
       "      <td>yes</td>\n",
       "      <td>no</td>\n",
       "      <td>no</td>\n",
       "      <td>no</td>\n",
       "      <td>yes</td>\n",
       "      <td>2</td>\n",
       "      <td>yes</td>\n",
       "      <td>furnished</td>\n",
       "    </tr>\n",
       "    <tr>\n",
       "      <th>1</th>\n",
       "      <td>12250000</td>\n",
       "      <td>8960</td>\n",
       "      <td>4</td>\n",
       "      <td>4</td>\n",
       "      <td>4</td>\n",
       "      <td>yes</td>\n",
       "      <td>no</td>\n",
       "      <td>no</td>\n",
       "      <td>no</td>\n",
       "      <td>yes</td>\n",
       "      <td>3</td>\n",
       "      <td>no</td>\n",
       "      <td>furnished</td>\n",
       "    </tr>\n",
       "    <tr>\n",
       "      <th>2</th>\n",
       "      <td>12250000</td>\n",
       "      <td>9960</td>\n",
       "      <td>3</td>\n",
       "      <td>2</td>\n",
       "      <td>2</td>\n",
       "      <td>yes</td>\n",
       "      <td>no</td>\n",
       "      <td>yes</td>\n",
       "      <td>no</td>\n",
       "      <td>no</td>\n",
       "      <td>2</td>\n",
       "      <td>yes</td>\n",
       "      <td>semi-furnished</td>\n",
       "    </tr>\n",
       "    <tr>\n",
       "      <th>3</th>\n",
       "      <td>12215000</td>\n",
       "      <td>7500</td>\n",
       "      <td>4</td>\n",
       "      <td>2</td>\n",
       "      <td>2</td>\n",
       "      <td>yes</td>\n",
       "      <td>no</td>\n",
       "      <td>yes</td>\n",
       "      <td>no</td>\n",
       "      <td>yes</td>\n",
       "      <td>3</td>\n",
       "      <td>yes</td>\n",
       "      <td>furnished</td>\n",
       "    </tr>\n",
       "    <tr>\n",
       "      <th>4</th>\n",
       "      <td>11410000</td>\n",
       "      <td>7420</td>\n",
       "      <td>4</td>\n",
       "      <td>1</td>\n",
       "      <td>2</td>\n",
       "      <td>yes</td>\n",
       "      <td>yes</td>\n",
       "      <td>yes</td>\n",
       "      <td>no</td>\n",
       "      <td>yes</td>\n",
       "      <td>2</td>\n",
       "      <td>no</td>\n",
       "      <td>furnished</td>\n",
       "    </tr>\n",
       "  </tbody>\n",
       "</table>\n",
       "</div>"
      ],
      "text/plain": [
       "      price  area  bedrooms  bathrooms  stories mainroad guestroom basement  \\\n",
       "0  13300000  7420         4          2        3      yes        no       no   \n",
       "1  12250000  8960         4          4        4      yes        no       no   \n",
       "2  12250000  9960         3          2        2      yes        no      yes   \n",
       "3  12215000  7500         4          2        2      yes        no      yes   \n",
       "4  11410000  7420         4          1        2      yes       yes      yes   \n",
       "\n",
       "  hotwaterheating airconditioning  parking prefarea furnishingstatus  \n",
       "0              no             yes        2      yes        furnished  \n",
       "1              no             yes        3       no        furnished  \n",
       "2              no              no        2      yes   semi-furnished  \n",
       "3              no             yes        3      yes        furnished  \n",
       "4              no             yes        2       no        furnished  "
      ]
     },
     "execution_count": 4,
     "metadata": {},
     "output_type": "execute_result"
    }
   ],
   "source": [
    "df = pd.read_csv(data+'Housing.csv')\n",
    "df.head()"
   ]
  },
  {
   "cell_type": "code",
   "execution_count": 5,
   "id": "b23a34a6-fa84-4fd4-8039-57fe8539f151",
   "metadata": {},
   "outputs": [
    {
     "name": "stdout",
     "output_type": "stream",
     "text": [
      "Size of the dataset : (545, 13)\n"
     ]
    }
   ],
   "source": [
    "print(f'Size of the dataset : {df.shape}')"
   ]
  },
  {
   "cell_type": "code",
   "execution_count": 6,
   "id": "a207119d-f087-43fa-b7e9-c62948a0b896",
   "metadata": {},
   "outputs": [],
   "source": [
    "# Data Processing Step:"
   ]
  },
  {
   "cell_type": "code",
   "execution_count": 7,
   "id": "d16193a4-33c8-4456-8c1f-9868476bb5c0",
   "metadata": {},
   "outputs": [
    {
     "name": "stdout",
     "output_type": "stream",
     "text": [
      "price                : int64  : 0\n",
      "area                 : int64  : 0\n",
      "bedrooms             : int64  : 0\n",
      "bathrooms            : int64  : 0\n",
      "stories              : int64  : 0\n",
      "mainroad             : object  : 0\n",
      "guestroom            : object  : 0\n",
      "basement             : object  : 0\n",
      "hotwaterheating      : object  : 0\n",
      "airconditioning      : object  : 0\n",
      "parking              : int64  : 0\n",
      "prefarea             : object  : 0\n",
      "furnishingstatus     : object  : 0\n"
     ]
    }
   ],
   "source": [
    "# Is there any null Values: \n",
    "for column in df.columns:\n",
    "    print(f'{column:20} : {df[column].dtypes }  : {df[column].isnull().sum()}')"
   ]
  },
  {
   "cell_type": "code",
   "execution_count": 8,
   "id": "331e610f-3c43-41b0-ba36-34634c2bc2c9",
   "metadata": {},
   "outputs": [],
   "source": [
    "# Centre Mean Algorithms for replacing null values : Mean/Median/Mode\n",
    "# Else if number of rows are more then 50k\n",
    "#df.dropna(inplace=True)"
   ]
  },
  {
   "cell_type": "code",
   "execution_count": 9,
   "id": "7acc8fee-f9e0-4bbc-956d-a8aa4b9221a6",
   "metadata": {},
   "outputs": [
    {
     "data": {
      "text/plain": [
       "furnishingstatus\n",
       "semi-furnished    227\n",
       "unfurnished       178\n",
       "furnished         140\n",
       "Name: count, dtype: int64"
      ]
     },
     "execution_count": 9,
     "metadata": {},
     "output_type": "execute_result"
    }
   ],
   "source": [
    "df.furnishingstatus.value_counts()"
   ]
  },
  {
   "cell_type": "code",
   "execution_count": 10,
   "id": "55bcf320-a26e-40d7-b5ac-bd55d5e5769c",
   "metadata": {},
   "outputs": [],
   "source": [
    "# Converting the Categorical Variables\n",
    "# Dependent/Target Variable : LabelEncoder\n",
    "# Independent Variable : One-Hot-Enconding  (get_dummies) pd.mapping() yes/no\n",
    "# Independent Variables : Ordinal Encoding : more than 2 when you can rank/value to each categorical variable"
   ]
  },
  {
   "cell_type": "code",
   "execution_count": 11,
   "id": "edc2f03e-e5b1-4eab-9853-1b0b9c842b9e",
   "metadata": {},
   "outputs": [
    {
     "data": {
      "text/plain": [
       "array([0, 0, 1, 0, 0, 1, 1, 2, 0, 2, 0, 1, 1, 0, 1, 1, 2, 0, 0, 1, 1, 2,\n",
       "       0, 0, 0, 0, 1, 1, 2, 1, 2, 1, 0, 2, 0, 0, 0, 0, 2, 1, 0, 0, 2, 1,\n",
       "       0, 1, 0, 0, 2, 1, 2, 2, 0, 1, 1, 2, 1, 0, 1, 0, 1, 1, 0, 0, 0, 0,\n",
       "       0, 2, 0, 0, 1, 2, 2, 0, 0, 1, 0, 0, 0, 0, 1, 1, 0, 1, 1, 0, 2, 1,\n",
       "       2, 0, 1, 0, 0, 1, 1, 1, 0, 1, 2, 2, 2, 2, 1, 0, 0, 2, 1, 2, 1, 1,\n",
       "       1, 2, 0, 0, 0, 1, 2, 0, 0, 1, 0, 1, 1, 0, 0, 1, 2, 2, 0, 1, 2, 1,\n",
       "       1, 2, 1, 2, 2, 1, 1, 0, 2, 1, 1, 2, 0, 0, 1, 1, 1, 1, 2, 1, 0, 1,\n",
       "       1, 0, 1, 0, 1, 0, 0, 1, 1, 1, 0, 2, 2, 1, 0, 1, 1, 1, 2, 2, 2, 1,\n",
       "       0, 1, 1, 1, 1, 0, 1, 1, 0, 2, 0, 1, 2, 1, 0, 1, 0, 1, 1, 1, 1, 1,\n",
       "       1, 0, 1, 1, 1, 1, 1, 1, 1, 1, 1, 2, 1, 0, 1, 1, 2, 2, 1, 0, 1, 2,\n",
       "       1, 1, 1, 0, 2, 1, 1, 0, 1, 1, 1, 1, 0, 2, 1, 1, 1, 1, 1, 0, 1, 1,\n",
       "       0, 0, 1, 2, 1, 2, 1, 0, 1, 1, 1, 0, 1, 2, 0, 0, 1, 0, 0, 1, 1, 1,\n",
       "       1, 1, 2, 1, 1, 2, 0, 1, 1, 0, 1, 0, 1, 1, 1, 0, 2, 0, 2, 0, 0, 1,\n",
       "       0, 2, 2, 1, 1, 2, 1, 2, 1, 1, 1, 2, 1, 0, 1, 1, 2, 0, 1, 1, 1, 1,\n",
       "       1, 1, 1, 1, 0, 1, 1, 1, 2, 2, 1, 1, 0, 1, 0, 1, 1, 1, 2, 1, 1, 0,\n",
       "       2, 0, 1, 1, 0, 0, 1, 2, 1, 0, 1, 1, 0, 1, 1, 1, 1, 2, 1, 1, 1, 1,\n",
       "       2, 0, 0, 0, 0, 0, 1, 2, 1, 1, 0, 1, 1, 0, 0, 2, 1, 0, 1, 1, 1, 0,\n",
       "       1, 2, 1, 2, 1, 2, 1, 1, 0, 0, 0, 2, 2, 1, 2, 1, 2, 1, 1, 2, 2, 2,\n",
       "       1, 0, 2, 1, 2, 2, 2, 2, 2, 2, 2, 0, 2, 2, 2, 0, 2, 2, 2, 0, 2, 0,\n",
       "       2, 1, 2, 2, 2, 2, 1, 0, 0, 0, 2, 2, 2, 2, 0, 1, 1, 2, 0, 2, 1, 2,\n",
       "       2, 2, 2, 2, 0, 0, 2, 1, 1, 2, 1, 1, 1, 2, 2, 2, 1, 2, 2, 2, 2, 2,\n",
       "       1, 2, 1, 2, 1, 1, 1, 0, 2, 2, 1, 2, 2, 1, 2, 2, 2, 2, 1, 0, 2, 1,\n",
       "       2, 2, 1, 2, 2, 1, 2, 0, 2, 0, 2, 2, 2, 2, 1, 2, 2, 2, 1, 1, 2, 2,\n",
       "       2, 2, 2, 0, 2, 2, 0, 2, 1, 2, 2, 2, 2, 2, 2, 2, 0, 0, 2, 2, 2, 1,\n",
       "       2, 2, 2, 2, 2, 2, 2, 2, 2, 2, 2, 2, 2, 1, 2, 0, 2])"
      ]
     },
     "execution_count": 11,
     "metadata": {},
     "output_type": "execute_result"
    }
   ],
   "source": [
    "ytemp = df['furnishingstatus']\n",
    "le = LabelEncoder()\n",
    "le.fit(ytemp)\n",
    "y = le.transform(ytemp)\n",
    "y"
   ]
  },
  {
   "cell_type": "markdown",
   "id": "e5273f01-af07-41b4-92ab-b0baca66f63d",
   "metadata": {},
   "source": [
    "#### While one-hot encoding excels in handling nominal data without introducing bias, ordinal encoding is suitable for preserving order information among categories. By choosing the appropriate encoding technique based on the nature of the data, we ensure that our models make informed decisions and perform optimally.\n",
    "\n",
    "    https://www.datacamp.com/tutorial/categorical-data"
   ]
  },
  {
   "cell_type": "code",
   "execution_count": 47,
   "id": "dd7141c8-be18-43b2-b87e-289e0d560b77",
   "metadata": {},
   "outputs": [
    {
     "name": "stdout",
     "output_type": "stream",
     "text": [
      "SVM Regression Classification Report:\n",
      "              precision    recall  f1-score   support\n",
      "\n",
      "           0       0.00      0.00      0.00        29\n",
      "           1       0.46      0.85      0.60        39\n",
      "           2       0.61      0.56      0.58        41\n",
      "\n",
      "    accuracy                           0.51       109\n",
      "   macro avg       0.36      0.47      0.39       109\n",
      "weighted avg       0.39      0.51      0.43       109\n",
      "\n"
     ]
    }
   ],
   "source": [
    "NX = df.drop(['furnishingstatus'],axis=1)\n",
    "oe =  OrdinalEncoder()\n",
    "oe.fit(NX)\n",
    "X = oe.transform(NX)\n",
    "xTrain, xTest, yTrain, yTest = train_test_split(X,y,train_size=0.80,random_state=42)\n",
    "# Creating a object of Logistic Regression Class\n",
    "clf = svm.SVC(C=0.01,kernel='linear')\n",
    "#clf  = svm.SVC(C=1.0,kernel='rbf',gamma=0.001)\n",
    "#clf  = svm.SVC(C=1.0,kernel='sigmoid',gamma=0.001)\n",
    "#clf  = svm.SVC(C=1.0,kernel='poly',gamma=0.001,degree=4)\n",
    "#clf  = svm.SVC(C=1.0,kernel='poly',gamma=0.001)\n",
    "clf.fit(xTrain,yTrain)\n",
    "#started : 6:16 PM\n",
    "yPred = clf.predict(xTest)\n",
    "print(f\"SVM Regression Classification Report:\")\n",
    "print(classification_report(yTest, yPred))"
   ]
  },
  {
   "cell_type": "code",
   "execution_count": 48,
   "id": "d3dee943-4edc-4c05-bff4-587239071255",
   "metadata": {},
   "outputs": [
    {
     "name": "stdout",
     "output_type": "stream",
     "text": [
      "SVM Regression Classification Report:\n",
      "              precision    recall  f1-score   support\n",
      "\n",
      "           0       0.00      0.00      0.00        29\n",
      "           1       0.36      1.00      0.53        39\n",
      "           2       0.00      0.00      0.00        41\n",
      "\n",
      "    accuracy                           0.36       109\n",
      "   macro avg       0.12      0.33      0.18       109\n",
      "weighted avg       0.13      0.36      0.19       109\n",
      "\n"
     ]
    }
   ],
   "source": [
    "NX = df.drop(['furnishingstatus'],axis=1)\n",
    "ohe =  OneHotEncoder()\n",
    "ohe.fit(NX)\n",
    "X = ohe.transform(NX)\n",
    "xTrain, xTest, yTrain, yTest = train_test_split(X,y,train_size=0.80,random_state=42)\n",
    "# Creating a object of Logistic Regression Class\n",
    "clf = svm.SVC(C=0.01,kernel='linear')\n",
    "#clf  = svm.SVC(C=1.0,kernel='rbf',gamma=0.001)\n",
    "#clf  = svm.SVC(C=1.0,kernel='sigmoid',gamma=0.001)\n",
    "#clf  = svm.SVC(C=1.0,kernel='poly',gamma=0.001,degree=4)\n",
    "#clf  = svm.SVC(C=1.0,kernel='poly',gamma=0.001)\n",
    "clf.fit(xTrain,yTrain)\n",
    "#started : 6:16 PM\n",
    "yPred = clf.predict(xTest)\n",
    "print(f\"SVM Regression Classification Report:\")\n",
    "print(classification_report(yTest, yPred))"
   ]
  },
  {
   "cell_type": "code",
   "execution_count": 49,
   "id": "832b1149-3bb4-4953-a8e2-3cc8f35d7684",
   "metadata": {},
   "outputs": [
    {
     "name": "stdout",
     "output_type": "stream",
     "text": [
      "SVM Regression Classification Report:\n",
      "              precision    recall  f1-score   support\n",
      "\n",
      "           0       0.42      0.48      0.45        29\n",
      "           1       0.45      0.59      0.51        39\n",
      "           2       0.68      0.41      0.52        41\n",
      "\n",
      "    accuracy                           0.50       109\n",
      "   macro avg       0.52      0.50      0.49       109\n",
      "weighted avg       0.53      0.50      0.50       109\n",
      "\n"
     ]
    }
   ],
   "source": [
    "NX = df.drop(['furnishingstatus'],axis=1)\n",
    "NX = pd.get_dummies(NX,dtype=int)\n",
    "X = NX.values\n",
    "xTrain, xTest, yTrain, yTest = train_test_split(X,y,train_size=0.80,random_state=42)\n",
    "# Creating an object of Logistic Regression Class\n",
    "clf = svm.SVC(C=0.01,kernel='linear')\n",
    "#clf  = svm.SVC(C=1.0,kernel='rbf',gamma=0.001)\n",
    "#clf  = svm.SVC(C=1.0,kernel='sigmoid',gamma=0.001)\n",
    "#clf  = svm.SVC(C=1.0,kernel='poly',gamma=0.001,degree=4)\n",
    "#clf  = svm.SVC(C=1.0,kernel='poly',gamma=0.001)\n",
    "clf.fit(xTrain,yTrain)\n",
    "#started : 6:16 PM\n",
    "yPred = clf.predict(xTest)\n",
    "print(f\"SVM Regression Classification Report:\")\n",
    "print(classification_report(yTest, yPred))"
   ]
  },
  {
   "cell_type": "code",
   "execution_count": null,
   "id": "31e16750-1779-4f37-a65d-3254d75ce533",
   "metadata": {},
   "outputs": [],
   "source": [
    "from sklearn.model_selection import GridSearchCV\n",
    "from sklearn.model_selection import cross_val_score\n",
    "parameters = {\n",
    "              'kernel': ['linear', 'rbf','sigmoid','poly'],\n",
    "              'C' : [ 0.01, 0.1, 1.0, 10.0]\n",
    "             }\n",
    "\n",
    "clf = svm.SVC()\n",
    "gs = GridSearchCV(clf, parameters)\n",
    "gs.fit(X,y)\n",
    "\n",
    "# Get the best parameters and estimator\n",
    "print(f'Best Parameter : {gs.best_params_}')\n",
    "print(f'Best Estimator : {gs.best_estimator_}')"
   ]
  },
  {
   "cell_type": "code",
   "execution_count": 14,
   "id": "eff604d7-0fcb-46f8-aa69-f596cc36ae44",
   "metadata": {},
   "outputs": [
    {
     "name": "stdout",
     "output_type": "stream",
     "text": [
      "SVM Regression Classification Report:\n",
      "              precision    recall  f1-score   support\n",
      "\n",
      "           0       0.37      0.24      0.29        29\n",
      "           1       0.50      0.59      0.54        39\n",
      "           2       0.61      0.66      0.64        41\n",
      "\n",
      "    accuracy                           0.52       109\n",
      "   macro avg       0.49      0.50      0.49       109\n",
      "weighted avg       0.51      0.52      0.51       109\n",
      "\n"
     ]
    }
   ],
   "source": [
    "NX = df.drop(['furnishingstatus'],axis=1)\n",
    "NX = pd.get_dummies(NX,dtype=int)\n",
    "X = NX.values\n",
    "xTrain, xTest, yTrain, yTest = train_test_split(X,y,train_size=0.80,random_state=42)\n",
    "\n",
    "# Creating Pipeline with Univariate Feature Selection\n",
    "clf = make_pipeline(SelectKBest(f_classif,k=4), svm.SVC(C=0.01,kernel='linear'))\n",
    "#clf = svm.SVC(C=0.01,kernel='linear')\n",
    "#clf  = svm.SVC(C=1.0,kernel='rbf',gamma=0.001)\n",
    "#clf  = svm.SVC(C=1.0,kernel='sigmoid',gamma=0.001)\n",
    "#clf  = svm.SVC(C=1.0,kernel='poly',gamma=0.001,degree=4)\n",
    "#clf  = svm.SVC(C=1.0,kernel='poly',gamma=0.001)\n",
    "clf.fit(xTrain,yTrain)\n",
    "#started : 6:16 PM\n",
    "yPred = clf.predict(xTest)\n",
    "print(f\"SVM Regression Classification Report:\")\n",
    "print(classification_report(yTest, yPred))"
   ]
  },
  {
   "cell_type": "code",
   "execution_count": null,
   "id": "02b8fc4c-c40f-4df2-9f40-135be6940e23",
   "metadata": {},
   "outputs": [],
   "source": [
    "#help(RFE)"
   ]
  },
  {
   "cell_type": "code",
   "execution_count": null,
   "id": "013ae382-6f51-49ab-a806-a574a46a14fb",
   "metadata": {},
   "outputs": [],
   "source": [
    "NX = df.drop(['furnishingstatus'],axis=1)\n",
    "NX = pd.get_dummies(NX,dtype=int)\n",
    "X = NX.values\n",
    "xTrain, xTest, yTrain, yTest = train_test_split(X,y,train_size=0.80,random_state=42)\n",
    "\n",
    "# Creating Pipeline with Recursive FeatureSelection\n",
    "clf = make_pipeline(RFE(estimator=svm.SVC(C=0.01,kernel='linear'), n_features_to_select=4), svm.SVC(C=0.01,kernel='linear'))\n",
    "#clf = svm.SVC(C=0.01,kernel='linear')\n",
    "#clf  = svm.SVC(C=1.0,kernel='rbf',gamma=0.001)\n",
    "#clf  = svm.SVC(C=1.0,kernel='sigmoid',gamma=0.001)\n",
    "#clf  = svm.SVC(C=1.0,kernel='poly',gamma=0.001,degree=4)\n",
    "#clf  = svm.SVC(C=1.0,kernel='poly',gamma=0.001)\n",
    "clf.fit(xTrain,yTrain)\n",
    "#started : 6:16 PM\n",
    "yPred = clf.predict(xTest)\n",
    "print(f\"SVM Regression Classification Report:\")\n",
    "print(classification_report(yTest, yPred))"
   ]
  },
  {
   "cell_type": "code",
   "execution_count": null,
   "id": "ed0f64bf-5fd4-442a-bb58-db7cde213f37",
   "metadata": {},
   "outputs": [],
   "source": [
    "pca = PCA(n_components=2)\n",
    "NX = df.drop(['furnishingstatus'],axis=1)\n",
    "NX = pd.get_dummies(NX,dtype=int)\n",
    "X = NX.values\n",
    "xTrain, xTest, yTrain, yTest = train_test_split(X,y,train_size=0.80,random_state=42)\n",
    "\n",
    "# Creating Pipeline with PCA\n",
    "clf = make_pipeline(PCA(n_components=4), svm.SVC(C=0.01,kernel='linear'))\n",
    "\n",
    "#clf = svm.SVC(C=0.01,kernel='linear')\n",
    "#clf  = svm.SVC(C=1.0,kernel='rbf',gamma=0.001)\n",
    "#clf  = svm.SVC(C=1.0,kernel='sigmoid',gamma=0.001)\n",
    "#clf  = svm.SVC(C=1.0,kernel='poly',gamma=0.001,degree=4)\n",
    "#clf  = svm.SVC(C=1.0,kernel='poly',gamma=0.001)\n",
    "clf.fit(xTrain,yTrain)\n",
    "#started : 6:16 PM\n",
    "yPred = clf.predict(xTest)\n",
    "print(f\"SVM Regression Classification Report:\")\n",
    "print(classification_report(yTest, yPred))"
   ]
  }
 ],
 "metadata": {
  "kernelspec": {
   "display_name": "Python 3 (ipykernel)",
   "language": "python",
   "name": "python3"
  },
  "language_info": {
   "codemirror_mode": {
    "name": "ipython",
    "version": 3
   },
   "file_extension": ".py",
   "mimetype": "text/x-python",
   "name": "python",
   "nbconvert_exporter": "python",
   "pygments_lexer": "ipython3",
   "version": "3.9.6"
  }
 },
 "nbformat": 4,
 "nbformat_minor": 5
}
