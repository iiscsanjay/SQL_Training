{
 "cells": [
  {
   "cell_type": "code",
   "execution_count": 12,
   "id": "088e8abb",
   "metadata": {},
   "outputs": [],
   "source": [
    "import matplotlib.pyplot as plt\n",
    "import pandas as pd\n",
    "import numpy as np\n",
    "from math import sqrt\n",
    "import random\n",
    "import kaggle\n",
    "\n",
    "from  sklearn.neighbors import KNeighborsClassifier\n",
    "\n",
    "from sklearn.metrics import classification_report\n",
    "from sklearn.metrics import confusion_matrix\n",
    "from sklearn.model_selection import train_test_split"
   ]
  },
  {
   "cell_type": "code",
   "execution_count": 13,
   "id": "9130ae78-3bea-48b8-9cf3-1d48b35af89e",
   "metadata": {},
   "outputs": [],
   "source": [
    "#help(KNeighborsClassifier)"
   ]
  },
  {
   "cell_type": "code",
   "execution_count": 14,
   "id": "287504c2",
   "metadata": {},
   "outputs": [],
   "source": [
    "def euclideanDistance(x1,x2):\n",
    "    distance = 0\n",
    "    for i in range(len(x1)-1):\n",
    "        distance += (x1[i] -x2[i])**2\n",
    "    return sqrt(distance)  "
   ]
  },
  {
   "cell_type": "code",
   "execution_count": 15,
   "id": "2838aab7",
   "metadata": {},
   "outputs": [],
   "source": [
    "# Generating the DaTA FOR knn\n",
    "x1 = [ i for i in np.random.normal(5,2,100)]\n",
    "x2 = [ i for i in np.random.normal(5,2,100)]\n",
    "x3 = [ i for i in np.random.normal(5,2,100)]\n",
    "x4 = [ i for i in np.random.normal(5,2,100)]\n",
    "y = [random.randint(0,3) for i in range(100)]\n",
    "data = [ [ x1[i], x2[i], x3[i], x4[i], y[i]] for i in range(100)]"
   ]
  },
  {
   "cell_type": "code",
   "execution_count": 16,
   "id": "e8701c4c",
   "metadata": {},
   "outputs": [],
   "source": [
    "#data"
   ]
  },
  {
   "cell_type": "code",
   "execution_count": 17,
   "id": "38258ba1",
   "metadata": {},
   "outputs": [
    {
     "data": {
      "text/plain": [
       "[6.017042975532154, 6.490400165676308, 5.759769176354792, 6.058981138033875, 0]"
      ]
     },
     "execution_count": 17,
     "metadata": {},
     "output_type": "execute_result"
    }
   ],
   "source": [
    "#sample number 7\n",
    "test_row = data[6]\n",
    "test_row"
   ]
  },
  {
   "cell_type": "code",
   "execution_count": 25,
   "id": "d393ed62",
   "metadata": {},
   "outputs": [],
   "source": [
    "def getNeighbours(train,test_row,numNeighbours):\n",
    "    \n",
    "    # measuring distance from test_row to all the samples in train data\n",
    "    distance = list()\n",
    "    \n",
    "    # Computing the distance\n",
    "    for train_row in train:\n",
    "        distance.append((train_row,euclideanDistance(test_row,train_row)))\n",
    "    \n",
    "    # Sorting the distance list in increamental order of distance\n",
    "    distance.sort(key = lambda x: x[1] )\n",
    "        \n",
    "    # clostest neighbours\n",
    "    neighbours =  list()\n",
    "    for i in range(1,numNeighbours+1):\n",
    "        neighbours.append(distance[i][0])\n",
    "    return neighbours\n"
   ]
  },
  {
   "cell_type": "code",
   "execution_count": 27,
   "id": "239d5972",
   "metadata": {},
   "outputs": [
    {
     "name": "stdout",
     "output_type": "stream",
     "text": [
      "[[6.7276694583965435, 5.46404118696894, 5.784786416434734, 6.217125994323535, 3], [6.2438611148250835, 5.530329840816789, 6.201585576480367, 5.161953797795335, 1], [7.451887273162466, 7.298130890640094, 6.554588676376396, 6.212621281104128, 2], [4.782123499600961, 5.797706430864322, 4.616786977992935, 6.394618907214837, 0], [4.8601927812061945, 7.155367128007429, 4.499685636571435, 5.439875309595113, 2]]\n"
     ]
    }
   ],
   "source": [
    "print(getNeighbours(data,test_row,5))"
   ]
  },
  {
   "cell_type": "code",
   "execution_count": 28,
   "id": "65cca9b1",
   "metadata": {},
   "outputs": [],
   "source": [
    "def predictClassification(train,test_row,numNeighbours):\n",
    "    neighbours = getNeighbours(train,test_row,numNeighbours)\n",
    "    output = [ row[-1] for row in neighbours]\n",
    "    prediction =  max(set(output),key=output.count)\n",
    "    return prediction"
   ]
  },
  {
   "cell_type": "code",
   "execution_count": 29,
   "id": "7d89b64f",
   "metadata": {},
   "outputs": [
    {
     "name": "stdout",
     "output_type": "stream",
     "text": [
      "[6.7276694583965435, 5.46404118696894, 5.784786416434734, 6.217125994323535, 3]\n",
      "[6.2438611148250835, 5.530329840816789, 6.201585576480367, 5.161953797795335, 1]\n",
      "[7.451887273162466, 7.298130890640094, 6.554588676376396, 6.212621281104128, 2]\n",
      "[4.782123499600961, 5.797706430864322, 4.616786977992935, 6.394618907214837, 0]\n",
      "[4.8601927812061945, 7.155367128007429, 4.499685636571435, 5.439875309595113, 2]\n",
      "[5.860359631450188, 6.872387822477116, 7.644712478849494, 6.313409504212887, 2]\n",
      "[5.159986635182365, 6.565949328834048, 4.023749513929813, 5.719643198327484, 3]\n",
      "[5.949778098838399, 7.3208039768544415, 6.483167454957779, 4.293185769220007, 1]\n",
      "[6.025003667650134, 6.155241845993548, 7.551612067450758, 7.285486871850197, 0]\n"
     ]
    }
   ],
   "source": [
    "for neighbour in getNeighbours(data, test_row,9):\n",
    "    print(neighbour)"
   ]
  },
  {
   "cell_type": "code",
   "execution_count": 36,
   "id": "4ac9d46e",
   "metadata": {},
   "outputs": [],
   "source": [
    "prediction = predictClassification(data,test_row,7)"
   ]
  },
  {
   "cell_type": "code",
   "execution_count": 37,
   "id": "9c5214ad",
   "metadata": {},
   "outputs": [
    {
     "name": "stdout",
     "output_type": "stream",
     "text": [
      "Expected 0  Got 2 \n"
     ]
    }
   ],
   "source": [
    "print(f'Expected {data[6][-1]}  Got {prediction} ')"
   ]
  },
  {
   "cell_type": "code",
   "execution_count": 6,
   "id": "46cab9a5",
   "metadata": {},
   "outputs": [],
   "source": [
    "data = \"/home/sanjayk/Documents/datasets/\""
   ]
  },
  {
   "cell_type": "code",
   "execution_count": 372,
   "id": "75257c2f",
   "metadata": {},
   "outputs": [],
   "source": [
    "#downloading the headbrain.csv file\n",
    "kaggle.api.authenticate()\n",
    "kaggle.api.dataset_download_files(\"ashydv/housing-dataset\", path=data, unzip=True)  "
   ]
  },
  {
   "cell_type": "code",
   "execution_count": 25,
   "id": "ca92010d",
   "metadata": {},
   "outputs": [
    {
     "data": {
      "text/html": [
       "<div>\n",
       "<style scoped>\n",
       "    .dataframe tbody tr th:only-of-type {\n",
       "        vertical-align: middle;\n",
       "    }\n",
       "\n",
       "    .dataframe tbody tr th {\n",
       "        vertical-align: top;\n",
       "    }\n",
       "\n",
       "    .dataframe thead th {\n",
       "        text-align: right;\n",
       "    }\n",
       "</style>\n",
       "<table border=\"1\" class=\"dataframe\">\n",
       "  <thead>\n",
       "    <tr style=\"text-align: right;\">\n",
       "      <th></th>\n",
       "      <th>price</th>\n",
       "      <th>area</th>\n",
       "      <th>bedrooms</th>\n",
       "      <th>bathrooms</th>\n",
       "      <th>stories</th>\n",
       "      <th>mainroad</th>\n",
       "      <th>guestroom</th>\n",
       "      <th>basement</th>\n",
       "      <th>hotwaterheating</th>\n",
       "      <th>airconditioning</th>\n",
       "      <th>parking</th>\n",
       "      <th>prefarea</th>\n",
       "      <th>furnishingstatus</th>\n",
       "    </tr>\n",
       "  </thead>\n",
       "  <tbody>\n",
       "    <tr>\n",
       "      <th>0</th>\n",
       "      <td>13300000</td>\n",
       "      <td>7420</td>\n",
       "      <td>4</td>\n",
       "      <td>2</td>\n",
       "      <td>3</td>\n",
       "      <td>yes</td>\n",
       "      <td>no</td>\n",
       "      <td>no</td>\n",
       "      <td>no</td>\n",
       "      <td>yes</td>\n",
       "      <td>2</td>\n",
       "      <td>yes</td>\n",
       "      <td>furnished</td>\n",
       "    </tr>\n",
       "    <tr>\n",
       "      <th>1</th>\n",
       "      <td>12250000</td>\n",
       "      <td>8960</td>\n",
       "      <td>4</td>\n",
       "      <td>4</td>\n",
       "      <td>4</td>\n",
       "      <td>yes</td>\n",
       "      <td>no</td>\n",
       "      <td>no</td>\n",
       "      <td>no</td>\n",
       "      <td>yes</td>\n",
       "      <td>3</td>\n",
       "      <td>no</td>\n",
       "      <td>furnished</td>\n",
       "    </tr>\n",
       "    <tr>\n",
       "      <th>2</th>\n",
       "      <td>12250000</td>\n",
       "      <td>9960</td>\n",
       "      <td>3</td>\n",
       "      <td>2</td>\n",
       "      <td>2</td>\n",
       "      <td>yes</td>\n",
       "      <td>no</td>\n",
       "      <td>yes</td>\n",
       "      <td>no</td>\n",
       "      <td>no</td>\n",
       "      <td>2</td>\n",
       "      <td>yes</td>\n",
       "      <td>semi-furnished</td>\n",
       "    </tr>\n",
       "    <tr>\n",
       "      <th>3</th>\n",
       "      <td>12215000</td>\n",
       "      <td>7500</td>\n",
       "      <td>4</td>\n",
       "      <td>2</td>\n",
       "      <td>2</td>\n",
       "      <td>yes</td>\n",
       "      <td>no</td>\n",
       "      <td>yes</td>\n",
       "      <td>no</td>\n",
       "      <td>yes</td>\n",
       "      <td>3</td>\n",
       "      <td>yes</td>\n",
       "      <td>furnished</td>\n",
       "    </tr>\n",
       "    <tr>\n",
       "      <th>4</th>\n",
       "      <td>11410000</td>\n",
       "      <td>7420</td>\n",
       "      <td>4</td>\n",
       "      <td>1</td>\n",
       "      <td>2</td>\n",
       "      <td>yes</td>\n",
       "      <td>yes</td>\n",
       "      <td>yes</td>\n",
       "      <td>no</td>\n",
       "      <td>yes</td>\n",
       "      <td>2</td>\n",
       "      <td>no</td>\n",
       "      <td>furnished</td>\n",
       "    </tr>\n",
       "  </tbody>\n",
       "</table>\n",
       "</div>"
      ],
      "text/plain": [
       "      price  area  bedrooms  bathrooms  stories mainroad guestroom basement   \n",
       "0  13300000  7420         4          2        3      yes        no       no  \\\n",
       "1  12250000  8960         4          4        4      yes        no       no   \n",
       "2  12250000  9960         3          2        2      yes        no      yes   \n",
       "3  12215000  7500         4          2        2      yes        no      yes   \n",
       "4  11410000  7420         4          1        2      yes       yes      yes   \n",
       "\n",
       "  hotwaterheating airconditioning  parking prefarea furnishingstatus  \n",
       "0              no             yes        2      yes        furnished  \n",
       "1              no             yes        3       no        furnished  \n",
       "2              no              no        2      yes   semi-furnished  \n",
       "3              no             yes        3      yes        furnished  \n",
       "4              no             yes        2       no        furnished  "
      ]
     },
     "execution_count": 25,
     "metadata": {},
     "output_type": "execute_result"
    }
   ],
   "source": [
    "#https://datagy.io/pandas-map-apply/\n",
    "df = pd.read_csv('Housing.csv')\n",
    "df.head()\n"
   ]
  },
  {
   "cell_type": "code",
   "execution_count": 38,
   "id": "4bc8e2c2",
   "metadata": {},
   "outputs": [],
   "source": [
    "X = df.drop(['furnishingstatus'], axis=1).values\n",
    "y = df[['furnishingstatus']].values\n",
    "y= y.ravel()"
   ]
  },
  {
   "cell_type": "code",
   "execution_count": 39,
   "id": "4a0f607d",
   "metadata": {},
   "outputs": [],
   "source": [
    "# Towards Features Vector (Indepedent Variables X)\n",
    "from sklearn.preprocessing import OrdinalEncoder\n",
    "enc = OrdinalEncoder()\n",
    "enc.fit(X)\n",
    "X1 =  enc.transform(X)"
   ]
  },
  {
   "cell_type": "code",
   "execution_count": 40,
   "id": "c69f4fed",
   "metadata": {},
   "outputs": [],
   "source": [
    "# Dependent Variables Y\n",
    "from sklearn.preprocessing import LabelEncoder\n",
    "le = LabelEncoder()\n",
    "le.fit(y)\n",
    "y1 = le.transform(y)"
   ]
  },
  {
   "cell_type": "code",
   "execution_count": 42,
   "id": "07ce34de",
   "metadata": {},
   "outputs": [
    {
     "data": {
      "text/plain": [
       "['furnished', 'semi-furnished', 'unfurnished']"
      ]
     },
     "execution_count": 42,
     "metadata": {},
     "output_type": "execute_result"
    }
   ],
   "source": [
    "classes = list(df.furnishingstatus.unique())\n",
    "classes"
   ]
  },
  {
   "cell_type": "code",
   "execution_count": 52,
   "id": "19ec3df6",
   "metadata": {},
   "outputs": [],
   "source": [
    "xTrain, xTest, yTrain, yTest = train_test_split(X1, y1, train_size=0.75,random_state=66)"
   ]
  },
  {
   "cell_type": "code",
   "execution_count": 57,
   "id": "063a8d4a",
   "metadata": {},
   "outputs": [],
   "source": [
    "clf = KNeighborsClassifier(n_neighbors=3)"
   ]
  },
  {
   "cell_type": "code",
   "execution_count": 58,
   "id": "f5dbf3cb",
   "metadata": {},
   "outputs": [
    {
     "data": {
      "text/html": [
       "<style>#sk-container-id-3 {color: black;background-color: white;}#sk-container-id-3 pre{padding: 0;}#sk-container-id-3 div.sk-toggleable {background-color: white;}#sk-container-id-3 label.sk-toggleable__label {cursor: pointer;display: block;width: 100%;margin-bottom: 0;padding: 0.3em;box-sizing: border-box;text-align: center;}#sk-container-id-3 label.sk-toggleable__label-arrow:before {content: \"▸\";float: left;margin-right: 0.25em;color: #696969;}#sk-container-id-3 label.sk-toggleable__label-arrow:hover:before {color: black;}#sk-container-id-3 div.sk-estimator:hover label.sk-toggleable__label-arrow:before {color: black;}#sk-container-id-3 div.sk-toggleable__content {max-height: 0;max-width: 0;overflow: hidden;text-align: left;background-color: #f0f8ff;}#sk-container-id-3 div.sk-toggleable__content pre {margin: 0.2em;color: black;border-radius: 0.25em;background-color: #f0f8ff;}#sk-container-id-3 input.sk-toggleable__control:checked~div.sk-toggleable__content {max-height: 200px;max-width: 100%;overflow: auto;}#sk-container-id-3 input.sk-toggleable__control:checked~label.sk-toggleable__label-arrow:before {content: \"▾\";}#sk-container-id-3 div.sk-estimator input.sk-toggleable__control:checked~label.sk-toggleable__label {background-color: #d4ebff;}#sk-container-id-3 div.sk-label input.sk-toggleable__control:checked~label.sk-toggleable__label {background-color: #d4ebff;}#sk-container-id-3 input.sk-hidden--visually {border: 0;clip: rect(1px 1px 1px 1px);clip: rect(1px, 1px, 1px, 1px);height: 1px;margin: -1px;overflow: hidden;padding: 0;position: absolute;width: 1px;}#sk-container-id-3 div.sk-estimator {font-family: monospace;background-color: #f0f8ff;border: 1px dotted black;border-radius: 0.25em;box-sizing: border-box;margin-bottom: 0.5em;}#sk-container-id-3 div.sk-estimator:hover {background-color: #d4ebff;}#sk-container-id-3 div.sk-parallel-item::after {content: \"\";width: 100%;border-bottom: 1px solid gray;flex-grow: 1;}#sk-container-id-3 div.sk-label:hover label.sk-toggleable__label {background-color: #d4ebff;}#sk-container-id-3 div.sk-serial::before {content: \"\";position: absolute;border-left: 1px solid gray;box-sizing: border-box;top: 0;bottom: 0;left: 50%;z-index: 0;}#sk-container-id-3 div.sk-serial {display: flex;flex-direction: column;align-items: center;background-color: white;padding-right: 0.2em;padding-left: 0.2em;position: relative;}#sk-container-id-3 div.sk-item {position: relative;z-index: 1;}#sk-container-id-3 div.sk-parallel {display: flex;align-items: stretch;justify-content: center;background-color: white;position: relative;}#sk-container-id-3 div.sk-item::before, #sk-container-id-3 div.sk-parallel-item::before {content: \"\";position: absolute;border-left: 1px solid gray;box-sizing: border-box;top: 0;bottom: 0;left: 50%;z-index: -1;}#sk-container-id-3 div.sk-parallel-item {display: flex;flex-direction: column;z-index: 1;position: relative;background-color: white;}#sk-container-id-3 div.sk-parallel-item:first-child::after {align-self: flex-end;width: 50%;}#sk-container-id-3 div.sk-parallel-item:last-child::after {align-self: flex-start;width: 50%;}#sk-container-id-3 div.sk-parallel-item:only-child::after {width: 0;}#sk-container-id-3 div.sk-dashed-wrapped {border: 1px dashed gray;margin: 0 0.4em 0.5em 0.4em;box-sizing: border-box;padding-bottom: 0.4em;background-color: white;}#sk-container-id-3 div.sk-label label {font-family: monospace;font-weight: bold;display: inline-block;line-height: 1.2em;}#sk-container-id-3 div.sk-label-container {text-align: center;}#sk-container-id-3 div.sk-container {/* jupyter's `normalize.less` sets `[hidden] { display: none; }` but bootstrap.min.css set `[hidden] { display: none !important; }` so we also need the `!important` here to be able to override the default hidden behavior on the sphinx rendered scikit-learn.org. See: https://github.com/scikit-learn/scikit-learn/issues/21755 */display: inline-block !important;position: relative;}#sk-container-id-3 div.sk-text-repr-fallback {display: none;}</style><div id=\"sk-container-id-3\" class=\"sk-top-container\"><div class=\"sk-text-repr-fallback\"><pre>KNeighborsClassifier(n_neighbors=3)</pre><b>In a Jupyter environment, please rerun this cell to show the HTML representation or trust the notebook. <br />On GitHub, the HTML representation is unable to render, please try loading this page with nbviewer.org.</b></div><div class=\"sk-container\" hidden><div class=\"sk-item\"><div class=\"sk-estimator sk-toggleable\"><input class=\"sk-toggleable__control sk-hidden--visually\" id=\"sk-estimator-id-3\" type=\"checkbox\" checked><label for=\"sk-estimator-id-3\" class=\"sk-toggleable__label sk-toggleable__label-arrow\">KNeighborsClassifier</label><div class=\"sk-toggleable__content\"><pre>KNeighborsClassifier(n_neighbors=3)</pre></div></div></div></div></div>"
      ],
      "text/plain": [
       "KNeighborsClassifier(n_neighbors=3)"
      ]
     },
     "execution_count": 58,
     "metadata": {},
     "output_type": "execute_result"
    }
   ],
   "source": [
    "clf.fit(xTrain,yTrain)"
   ]
  },
  {
   "cell_type": "code",
   "execution_count": 59,
   "id": "f6eae3b9",
   "metadata": {},
   "outputs": [],
   "source": [
    "yPred = clf.predict(xTest)"
   ]
  },
  {
   "cell_type": "code",
   "execution_count": 60,
   "id": "7ca3687f",
   "metadata": {},
   "outputs": [
    {
     "name": "stdout",
     "output_type": "stream",
     "text": [
      "KNearestNeighbors  Classification Report:\n",
      "              precision    recall  f1-score   support\n",
      "\n",
      "           0       0.39      0.40      0.40        45\n",
      "           1       0.45      0.51      0.48        49\n",
      "           2       0.50      0.42      0.46        43\n",
      "\n",
      "    accuracy                           0.45       137\n",
      "   macro avg       0.45      0.44      0.44       137\n",
      "weighted avg       0.45      0.45      0.44       137\n",
      "\n"
     ]
    }
   ],
   "source": [
    "print(f\"KNearestNeighbors  Classification Report:\")\n",
    "print(classification_report(yTest, yPred))"
   ]
  },
  {
   "cell_type": "code",
   "execution_count": 51,
   "id": "9a2e7587",
   "metadata": {},
   "outputs": [
    {
     "data": {
      "text/plain": [
       "array([[14, 26,  5],\n",
       "       [13, 28,  8],\n",
       "       [11, 17, 15]])"
      ]
     },
     "execution_count": 51,
     "metadata": {},
     "output_type": "execute_result"
    }
   ],
   "source": [
    "# https://towardsdatascience.com/understanding-confusion-matrix-a9ad42dcfd62 \n",
    "cm = confusion_matrix(yTest,yPred)\n",
    "cm"
   ]
  }
 ],
 "metadata": {
  "kernelspec": {
   "display_name": "Python 3 (ipykernel)",
   "language": "python",
   "name": "python3"
  },
  "language_info": {
   "codemirror_mode": {
    "name": "ipython",
    "version": 3
   },
   "file_extension": ".py",
   "mimetype": "text/x-python",
   "name": "python",
   "nbconvert_exporter": "python",
   "pygments_lexer": "ipython3",
   "version": "3.9.6"
  }
 },
 "nbformat": 4,
 "nbformat_minor": 5
}
